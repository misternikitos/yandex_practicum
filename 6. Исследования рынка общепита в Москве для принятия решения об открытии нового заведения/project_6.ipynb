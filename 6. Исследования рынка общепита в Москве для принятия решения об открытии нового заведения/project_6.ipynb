{
 "cells": [
  {
   "cell_type": "markdown",
   "metadata": {
    "pycharm": {
     "name": "#%% md\n"
    }
   },
   "source": [
    "# Рынок заведений общественного питания Москвы"
   ]
  },
  {
   "cell_type": "markdown",
   "metadata": {
    "pycharm": {
     "name": "#%% md\n"
    }
   },
   "source": [
    "### Описание проекта"
   ]
  },
  {
   "cell_type": "markdown",
   "metadata": {
    "pycharm": {
     "name": "#%% md\n"
    }
   },
   "source": [
    "Необходимо выяснить целесообразность применения роботов в обслуживании клиентов небольшого кафе в Москве в долгосрочной перспективе.\n",
    "\n",
    "В качестве датасета используются открытые данные о заведениях общественного питания в Москве."
   ]
  },
  {
   "cell_type": "markdown",
   "metadata": {
    "pycharm": {
     "name": "#%% md\n"
    }
   },
   "source": [
    "## Загрузка данных и подготовка их к анализу"
   ]
  },
  {
   "cell_type": "code",
   "execution_count": 1,
   "metadata": {
    "pycharm": {
     "name": "#%%\n"
    }
   },
   "outputs": [],
   "source": [
    "import pandas as pd\n",
    "import matplotlib.pyplot as plt\n",
    "import seaborn as sns\n",
    "from numpy import median, mean\n",
    "\n",
    "pd.options.display.float_format = '{:.2f}'.format\n",
    "sns.set(rc={'figure.figsize':(10,6)})"
   ]
  },
  {
   "cell_type": "code",
   "execution_count": 2,
   "metadata": {
    "pycharm": {
     "name": "#%%\n"
    }
   },
   "outputs": [],
   "source": [
    "data = pd.read_csv('/datasets/rest_data.csv')"
   ]
  },
  {
   "cell_type": "code",
   "execution_count": 3,
   "metadata": {
    "pycharm": {
     "name": "#%%\n"
    }
   },
   "outputs": [
    {
     "name": "stdout",
     "output_type": "stream",
     "text": [
      "<class 'pandas.core.frame.DataFrame'>\n",
      "RangeIndex: 15366 entries, 0 to 15365\n",
      "Data columns (total 6 columns):\n",
      " #   Column       Non-Null Count  Dtype \n",
      "---  ------       --------------  ----- \n",
      " 0   id           15366 non-null  int64 \n",
      " 1   object_name  15366 non-null  object\n",
      " 2   chain        15366 non-null  object\n",
      " 3   object_type  15366 non-null  object\n",
      " 4   address      15366 non-null  object\n",
      " 5   number       15366 non-null  int64 \n",
      "dtypes: int64(2), object(4)\n",
      "memory usage: 720.4+ KB\n"
     ]
    }
   ],
   "source": [
    "data.info()"
   ]
  },
  {
   "cell_type": "markdown",
   "metadata": {
    "pycharm": {
     "name": "#%% md\n"
    }
   },
   "source": [
    "Всего в датасете 6 столбцов:\n",
    "* id — идентификатор объекта;\n",
    "* object_name — название объекта общественного питания;\n",
    "* chain — сетевой ресторан;\n",
    "* object_type — тип объекта общественного питания;\n",
    "* address — адрес;\n",
    "* number — количество посадочных мест.\n",
    "\n",
    "Пропусков не обнаружено. Тип данных в каждой колонке правильный. "
   ]
  },
  {
   "cell_type": "code",
   "execution_count": 4,
   "metadata": {
    "pycharm": {
     "name": "#%%\n"
    }
   },
   "outputs": [
    {
     "data": {
      "text/html": [
       "<div>\n",
       "<style scoped>\n",
       "    .dataframe tbody tr th:only-of-type {\n",
       "        vertical-align: middle;\n",
       "    }\n",
       "\n",
       "    .dataframe tbody tr th {\n",
       "        vertical-align: top;\n",
       "    }\n",
       "\n",
       "    .dataframe thead th {\n",
       "        text-align: right;\n",
       "    }\n",
       "</style>\n",
       "<table border=\"1\" class=\"dataframe\">\n",
       "  <thead>\n",
       "    <tr style=\"text-align: right;\">\n",
       "      <th></th>\n",
       "      <th>id</th>\n",
       "      <th>number</th>\n",
       "    </tr>\n",
       "  </thead>\n",
       "  <tbody>\n",
       "    <tr>\n",
       "      <th>count</th>\n",
       "      <td>15366.00</td>\n",
       "      <td>15366.00</td>\n",
       "    </tr>\n",
       "    <tr>\n",
       "      <th>mean</th>\n",
       "      <td>119720.07</td>\n",
       "      <td>59.55</td>\n",
       "    </tr>\n",
       "    <tr>\n",
       "      <th>std</th>\n",
       "      <td>73036.13</td>\n",
       "      <td>74.74</td>\n",
       "    </tr>\n",
       "    <tr>\n",
       "      <th>min</th>\n",
       "      <td>838.00</td>\n",
       "      <td>0.00</td>\n",
       "    </tr>\n",
       "    <tr>\n",
       "      <th>25%</th>\n",
       "      <td>28524.00</td>\n",
       "      <td>12.00</td>\n",
       "    </tr>\n",
       "    <tr>\n",
       "      <th>50%</th>\n",
       "      <td>144974.50</td>\n",
       "      <td>40.00</td>\n",
       "    </tr>\n",
       "    <tr>\n",
       "      <th>75%</th>\n",
       "      <td>184262.25</td>\n",
       "      <td>80.00</td>\n",
       "    </tr>\n",
       "    <tr>\n",
       "      <th>max</th>\n",
       "      <td>223439.00</td>\n",
       "      <td>1700.00</td>\n",
       "    </tr>\n",
       "  </tbody>\n",
       "</table>\n",
       "</div>"
      ],
      "text/plain": [
       "             id   number\n",
       "count  15366.00 15366.00\n",
       "mean  119720.07    59.55\n",
       "std    73036.13    74.74\n",
       "min      838.00     0.00\n",
       "25%    28524.00    12.00\n",
       "50%   144974.50    40.00\n",
       "75%   184262.25    80.00\n",
       "max   223439.00  1700.00"
      ]
     },
     "execution_count": 4,
     "metadata": {},
     "output_type": "execute_result"
    }
   ],
   "source": [
    "data.describe()"
   ]
  },
  {
   "cell_type": "markdown",
   "metadata": {
    "pycharm": {
     "name": "#%% md\n"
    }
   },
   "source": [
    "В столбце `number` есть нулевые значения, что теоретически возможно. Однако максимум в данном стобце выглядит аномальным. "
   ]
  },
  {
   "cell_type": "code",
   "execution_count": 5,
   "metadata": {
    "pycharm": {
     "name": "#%%\n"
    }
   },
   "outputs": [
    {
     "data": {
      "text/plain": [
       "0"
      ]
     },
     "execution_count": 5,
     "metadata": {},
     "output_type": "execute_result"
    }
   ],
   "source": [
    "data.duplicated().sum()"
   ]
  },
  {
   "cell_type": "markdown",
   "metadata": {
    "pycharm": {
     "name": "#%% md\n"
    }
   },
   "source": [
    "Явных дубликатов не выявлено. Проверим, есть ли явные дубликаты с разными id. "
   ]
  },
  {
   "cell_type": "code",
   "execution_count": 6,
   "metadata": {
    "pycharm": {
     "name": "#%%\n"
    }
   },
   "outputs": [
    {
     "data": {
      "text/plain": [
       "82"
      ]
     },
     "execution_count": 6,
     "metadata": {},
     "output_type": "execute_result"
    }
   ],
   "source": [
    "data[['object_name', 'chain', 'object_type', 'address', 'number']].duplicated().sum()"
   ]
  },
  {
   "cell_type": "code",
   "execution_count": 7,
   "metadata": {
    "pycharm": {
     "name": "#%%\n"
    }
   },
   "outputs": [
    {
     "data": {
      "text/html": [
       "<div>\n",
       "<style scoped>\n",
       "    .dataframe tbody tr th:only-of-type {\n",
       "        vertical-align: middle;\n",
       "    }\n",
       "\n",
       "    .dataframe tbody tr th {\n",
       "        vertical-align: top;\n",
       "    }\n",
       "\n",
       "    .dataframe thead th {\n",
       "        text-align: right;\n",
       "    }\n",
       "</style>\n",
       "<table border=\"1\" class=\"dataframe\">\n",
       "  <thead>\n",
       "    <tr style=\"text-align: right;\">\n",
       "      <th></th>\n",
       "      <th>id</th>\n",
       "      <th>object_name</th>\n",
       "      <th>chain</th>\n",
       "      <th>object_type</th>\n",
       "      <th>address</th>\n",
       "      <th>number</th>\n",
       "    </tr>\n",
       "  </thead>\n",
       "  <tbody>\n",
       "    <tr>\n",
       "      <th>33</th>\n",
       "      <td>69243</td>\n",
       "      <td>Суши Wok</td>\n",
       "      <td>да</td>\n",
       "      <td>кафе</td>\n",
       "      <td>город Москва, проспект Андропова, дом 30</td>\n",
       "      <td>4</td>\n",
       "    </tr>\n",
       "    <tr>\n",
       "      <th>48</th>\n",
       "      <td>21720</td>\n",
       "      <td>Хлеб насущный</td>\n",
       "      <td>да</td>\n",
       "      <td>кафе</td>\n",
       "      <td>город Москва, улица Арбат, дом 32</td>\n",
       "      <td>40</td>\n",
       "    </tr>\n",
       "    <tr>\n",
       "      <th>53</th>\n",
       "      <td>21998</td>\n",
       "      <td>Му-Му</td>\n",
       "      <td>да</td>\n",
       "      <td>кафе</td>\n",
       "      <td>город Москва, улица Арбат, дом 45/24</td>\n",
       "      <td>220</td>\n",
       "    </tr>\n",
       "    <tr>\n",
       "      <th>75</th>\n",
       "      <td>22804</td>\n",
       "      <td>Домино'с Пицца</td>\n",
       "      <td>да</td>\n",
       "      <td>кафе</td>\n",
       "      <td>город Москва, Башиловская улица, дом 3, корпус 1</td>\n",
       "      <td>10</td>\n",
       "    </tr>\n",
       "    <tr>\n",
       "      <th>112</th>\n",
       "      <td>72564</td>\n",
       "      <td>Вареничная №1</td>\n",
       "      <td>да</td>\n",
       "      <td>кафе</td>\n",
       "      <td>город Москва, 2-я Брестская улица, дом 43</td>\n",
       "      <td>75</td>\n",
       "    </tr>\n",
       "    <tr>\n",
       "      <th>...</th>\n",
       "      <td>...</td>\n",
       "      <td>...</td>\n",
       "      <td>...</td>\n",
       "      <td>...</td>\n",
       "      <td>...</td>\n",
       "      <td>...</td>\n",
       "    </tr>\n",
       "    <tr>\n",
       "      <th>15361</th>\n",
       "      <td>208537</td>\n",
       "      <td>Шоколадница</td>\n",
       "      <td>да</td>\n",
       "      <td>кафе</td>\n",
       "      <td>город Москва, 3-й Крутицкий переулок, дом 18</td>\n",
       "      <td>50</td>\n",
       "    </tr>\n",
       "    <tr>\n",
       "      <th>15362</th>\n",
       "      <td>209264</td>\n",
       "      <td>Шоколадница</td>\n",
       "      <td>да</td>\n",
       "      <td>кафе</td>\n",
       "      <td>город Москва, улица Земляной Вал, дом 33</td>\n",
       "      <td>10</td>\n",
       "    </tr>\n",
       "    <tr>\n",
       "      <th>15363</th>\n",
       "      <td>209186</td>\n",
       "      <td>Шоколадница</td>\n",
       "      <td>да</td>\n",
       "      <td>кафе</td>\n",
       "      <td>город Москва, улица Земляной Вал, дом 33</td>\n",
       "      <td>20</td>\n",
       "    </tr>\n",
       "    <tr>\n",
       "      <th>15364</th>\n",
       "      <td>221900</td>\n",
       "      <td>Шоколадница</td>\n",
       "      <td>да</td>\n",
       "      <td>кафе</td>\n",
       "      <td>город Москва, поселение Московский, Киевское ш...</td>\n",
       "      <td>36</td>\n",
       "    </tr>\n",
       "    <tr>\n",
       "      <th>15365</th>\n",
       "      <td>222535</td>\n",
       "      <td>Шоколадница</td>\n",
       "      <td>да</td>\n",
       "      <td>кафе</td>\n",
       "      <td>город Москва, Ходынский бульвар, дом 4</td>\n",
       "      <td>10</td>\n",
       "    </tr>\n",
       "  </tbody>\n",
       "</table>\n",
       "<p>4973 rows × 6 columns</p>\n",
       "</div>"
      ],
      "text/plain": [
       "           id     object_name chain object_type  \\\n",
       "33      69243        Суши Wok    да        кафе   \n",
       "48      21720   Хлеб насущный    да        кафе   \n",
       "53      21998           Му-Му    да        кафе   \n",
       "75      22804  Домино'с Пицца    да        кафе   \n",
       "112     72564   Вареничная №1    да        кафе   \n",
       "...       ...             ...   ...         ...   \n",
       "15361  208537     Шоколадница    да        кафе   \n",
       "15362  209264     Шоколадница    да        кафе   \n",
       "15363  209186     Шоколадница    да        кафе   \n",
       "15364  221900     Шоколадница    да        кафе   \n",
       "15365  222535     Шоколадница    да        кафе   \n",
       "\n",
       "                                                 address  number  \n",
       "33              город Москва, проспект Андропова, дом 30       4  \n",
       "48                     город Москва, улица Арбат, дом 32      40  \n",
       "53                  город Москва, улица Арбат, дом 45/24     220  \n",
       "75      город Москва, Башиловская улица, дом 3, корпус 1      10  \n",
       "112            город Москва, 2-я Брестская улица, дом 43      75  \n",
       "...                                                  ...     ...  \n",
       "15361       город Москва, 3-й Крутицкий переулок, дом 18      50  \n",
       "15362           город Москва, улица Земляной Вал, дом 33      10  \n",
       "15363           город Москва, улица Земляной Вал, дом 33      20  \n",
       "15364  город Москва, поселение Московский, Киевское ш...      36  \n",
       "15365             город Москва, Ходынский бульвар, дом 4      10  \n",
       "\n",
       "[4973 rows x 6 columns]"
      ]
     },
     "execution_count": 7,
     "metadata": {},
     "output_type": "execute_result"
    }
   ],
   "source": [
    "data[data['object_name'].duplicated()]"
   ]
  },
  {
   "cell_type": "markdown",
   "metadata": {
    "pycharm": {
     "name": "#%% md\n"
    }
   },
   "source": [
    "Одинаковые названия могут отсылать к одной сети кафе или ресторанов, однако каждое кафе должно находится по разному адресу и иметь разный тип заведения. "
   ]
  },
  {
   "cell_type": "code",
   "execution_count": 8,
   "metadata": {
    "pycharm": {
     "name": "#%%\n"
    }
   },
   "outputs": [
    {
     "data": {
      "text/html": [
       "<div>\n",
       "<style scoped>\n",
       "    .dataframe tbody tr th:only-of-type {\n",
       "        vertical-align: middle;\n",
       "    }\n",
       "\n",
       "    .dataframe tbody tr th {\n",
       "        vertical-align: top;\n",
       "    }\n",
       "\n",
       "    .dataframe thead th {\n",
       "        text-align: right;\n",
       "    }\n",
       "</style>\n",
       "<table border=\"1\" class=\"dataframe\">\n",
       "  <thead>\n",
       "    <tr style=\"text-align: right;\">\n",
       "      <th></th>\n",
       "      <th>id</th>\n",
       "      <th>object_name</th>\n",
       "      <th>chain</th>\n",
       "      <th>object_type</th>\n",
       "      <th>address</th>\n",
       "      <th>number</th>\n",
       "    </tr>\n",
       "  </thead>\n",
       "  <tbody>\n",
       "    <tr>\n",
       "      <th>115</th>\n",
       "      <td>28614</td>\n",
       "      <td>КОМБИНАТ ПИТАНИЯ МГТУ ИМ.Н.Э.БАУМАНА</td>\n",
       "      <td>нет</td>\n",
       "      <td>буфет</td>\n",
       "      <td>город Москва, Бригадирский переулок, дом 3-5</td>\n",
       "      <td>12</td>\n",
       "    </tr>\n",
       "    <tr>\n",
       "      <th>580</th>\n",
       "      <td>149205</td>\n",
       "      <td>Общественное питание</td>\n",
       "      <td>нет</td>\n",
       "      <td>кафе</td>\n",
       "      <td>город Москва, Павелецкая площадь, дом 1</td>\n",
       "      <td>35</td>\n",
       "    </tr>\n",
       "    <tr>\n",
       "      <th>581</th>\n",
       "      <td>149131</td>\n",
       "      <td>Общественное питание</td>\n",
       "      <td>нет</td>\n",
       "      <td>кафе</td>\n",
       "      <td>город Москва, Павелецкая площадь, дом 1</td>\n",
       "      <td>39</td>\n",
       "    </tr>\n",
       "    <tr>\n",
       "      <th>1409</th>\n",
       "      <td>151267</td>\n",
       "      <td>Альфорно</td>\n",
       "      <td>нет</td>\n",
       "      <td>кафе</td>\n",
       "      <td>город Москва, город Зеленоград, корпус 438</td>\n",
       "      <td>45</td>\n",
       "    </tr>\n",
       "    <tr>\n",
       "      <th>2375</th>\n",
       "      <td>28604</td>\n",
       "      <td>КОМБИНАТ ПИТАНИЯ МГТУ ИМ.Н.Э.БАУМАНА</td>\n",
       "      <td>нет</td>\n",
       "      <td>столовая</td>\n",
       "      <td>город Москва, 2-я Бауманская улица, дом 5, стр...</td>\n",
       "      <td>150</td>\n",
       "    </tr>\n",
       "    <tr>\n",
       "      <th>...</th>\n",
       "      <td>...</td>\n",
       "      <td>...</td>\n",
       "      <td>...</td>\n",
       "      <td>...</td>\n",
       "      <td>...</td>\n",
       "      <td>...</td>\n",
       "    </tr>\n",
       "    <tr>\n",
       "      <th>15173</th>\n",
       "      <td>218542</td>\n",
       "      <td>Кофе с собой</td>\n",
       "      <td>да</td>\n",
       "      <td>предприятие быстрого обслуживания</td>\n",
       "      <td>город Москва, Алтуфьевское шоссе, дом 70, корп...</td>\n",
       "      <td>0</td>\n",
       "    </tr>\n",
       "    <tr>\n",
       "      <th>15216</th>\n",
       "      <td>214468</td>\n",
       "      <td>Макдоналдс</td>\n",
       "      <td>да</td>\n",
       "      <td>предприятие быстрого обслуживания</td>\n",
       "      <td>город Москва, Варшавское шоссе, дом 87Б</td>\n",
       "      <td>0</td>\n",
       "    </tr>\n",
       "    <tr>\n",
       "      <th>15217</th>\n",
       "      <td>214146</td>\n",
       "      <td>Макдоналдс</td>\n",
       "      <td>да</td>\n",
       "      <td>предприятие быстрого обслуживания</td>\n",
       "      <td>город Москва, Кировоградская улица, дом 13А</td>\n",
       "      <td>0</td>\n",
       "    </tr>\n",
       "    <tr>\n",
       "      <th>15363</th>\n",
       "      <td>209186</td>\n",
       "      <td>Шоколадница</td>\n",
       "      <td>да</td>\n",
       "      <td>кафе</td>\n",
       "      <td>город Москва, улица Земляной Вал, дом 33</td>\n",
       "      <td>20</td>\n",
       "    </tr>\n",
       "    <tr>\n",
       "      <th>15365</th>\n",
       "      <td>222535</td>\n",
       "      <td>Шоколадница</td>\n",
       "      <td>да</td>\n",
       "      <td>кафе</td>\n",
       "      <td>город Москва, Ходынский бульвар, дом 4</td>\n",
       "      <td>10</td>\n",
       "    </tr>\n",
       "  </tbody>\n",
       "</table>\n",
       "<p>171 rows × 6 columns</p>\n",
       "</div>"
      ],
      "text/plain": [
       "           id                           object_name chain  \\\n",
       "115     28614  КОМБИНАТ ПИТАНИЯ МГТУ ИМ.Н.Э.БАУМАНА   нет   \n",
       "580    149205                  Общественное питание   нет   \n",
       "581    149131                  Общественное питание   нет   \n",
       "1409   151267                              Альфорно   нет   \n",
       "2375    28604  КОМБИНАТ ПИТАНИЯ МГТУ ИМ.Н.Э.БАУМАНА   нет   \n",
       "...       ...                                   ...   ...   \n",
       "15173  218542                          Кофе с собой    да   \n",
       "15216  214468                            Макдоналдс    да   \n",
       "15217  214146                            Макдоналдс    да   \n",
       "15363  209186                           Шоколадница    да   \n",
       "15365  222535                           Шоколадница    да   \n",
       "\n",
       "                             object_type  \\\n",
       "115                                буфет   \n",
       "580                                 кафе   \n",
       "581                                 кафе   \n",
       "1409                                кафе   \n",
       "2375                            столовая   \n",
       "...                                  ...   \n",
       "15173  предприятие быстрого обслуживания   \n",
       "15216  предприятие быстрого обслуживания   \n",
       "15217  предприятие быстрого обслуживания   \n",
       "15363                               кафе   \n",
       "15365                               кафе   \n",
       "\n",
       "                                                 address  number  \n",
       "115         город Москва, Бригадирский переулок, дом 3-5      12  \n",
       "580              город Москва, Павелецкая площадь, дом 1      35  \n",
       "581              город Москва, Павелецкая площадь, дом 1      39  \n",
       "1409          город Москва, город Зеленоград, корпус 438      45  \n",
       "2375   город Москва, 2-я Бауманская улица, дом 5, стр...     150  \n",
       "...                                                  ...     ...  \n",
       "15173  город Москва, Алтуфьевское шоссе, дом 70, корп...       0  \n",
       "15216            город Москва, Варшавское шоссе, дом 87Б       0  \n",
       "15217        город Москва, Кировоградская улица, дом 13А       0  \n",
       "15363           город Москва, улица Земляной Вал, дом 33      20  \n",
       "15365             город Москва, Ходынский бульвар, дом 4      10  \n",
       "\n",
       "[171 rows x 6 columns]"
      ]
     },
     "execution_count": 8,
     "metadata": {},
     "output_type": "execute_result"
    }
   ],
   "source": [
    "data[data[['object_name', 'address', 'object_type']].duplicated()]"
   ]
  },
  {
   "cell_type": "markdown",
   "metadata": {
    "pycharm": {
     "name": "#%% md\n"
    }
   },
   "source": [
    "Выявлен 171 дубликат. Удалим дублирующиеся значения из датасета."
   ]
  },
  {
   "cell_type": "code",
   "execution_count": 9,
   "metadata": {
    "pycharm": {
     "name": "#%%\n"
    }
   },
   "outputs": [],
   "source": [
    "data.drop_duplicates(subset=['object_name', 'address', 'object_type'], inplace=True)"
   ]
  },
  {
   "cell_type": "markdown",
   "metadata": {
    "pycharm": {
     "name": "#%% md\n"
    }
   },
   "source": [
    "Перейдем к поиску возможных неявных дубликатов в столбцах с категориальными данными `object_type` и `chain`."
   ]
  },
  {
   "cell_type": "code",
   "execution_count": 10,
   "metadata": {
    "pycharm": {
     "name": "#%%\n"
    }
   },
   "outputs": [
    {
     "data": {
      "text/plain": [
       "кафе                                 6017\n",
       "столовая                             2575\n",
       "ресторан                             2275\n",
       "предприятие быстрого обслуживания    1891\n",
       "бар                                   853\n",
       "буфет                                 571\n",
       "кафетерий                             393\n",
       "закусочная                            348\n",
       "магазин (отдел кулинарии)             272\n",
       "Name: object_type, dtype: int64"
      ]
     },
     "execution_count": 10,
     "metadata": {},
     "output_type": "execute_result"
    }
   ],
   "source": [
    "data['object_type'].value_counts()"
   ]
  },
  {
   "cell_type": "code",
   "execution_count": 11,
   "metadata": {
    "pycharm": {
     "name": "#%%\n"
    }
   },
   "outputs": [
    {
     "data": {
      "text/plain": [
       "нет    12245\n",
       "да      2950\n",
       "Name: chain, dtype: int64"
      ]
     },
     "execution_count": 11,
     "metadata": {},
     "output_type": "execute_result"
    }
   ],
   "source": [
    "data['chain'].value_counts()"
   ]
  },
  {
   "cell_type": "markdown",
   "metadata": {
    "pycharm": {
     "name": "#%% md\n"
    }
   },
   "source": [
    "Неявных дубликатов в столбцах с категориальными данными не выявлено."
   ]
  },
  {
   "cell_type": "markdown",
   "metadata": {
    "pycharm": {
     "name": "#%% md\n"
    }
   },
   "source": [
    "Перейдем к изучению аномальных значений. "
   ]
  },
  {
   "cell_type": "code",
   "execution_count": 12,
   "metadata": {
    "pycharm": {
     "name": "#%%\n"
    }
   },
   "outputs": [
    {
     "data": {
      "text/html": [
       "<div>\n",
       "<style scoped>\n",
       "    .dataframe tbody tr th:only-of-type {\n",
       "        vertical-align: middle;\n",
       "    }\n",
       "\n",
       "    .dataframe tbody tr th {\n",
       "        vertical-align: top;\n",
       "    }\n",
       "\n",
       "    .dataframe thead th {\n",
       "        text-align: right;\n",
       "    }\n",
       "</style>\n",
       "<table border=\"1\" class=\"dataframe\">\n",
       "  <thead>\n",
       "    <tr style=\"text-align: right;\">\n",
       "      <th></th>\n",
       "      <th>id</th>\n",
       "      <th>object_name</th>\n",
       "      <th>chain</th>\n",
       "      <th>object_type</th>\n",
       "      <th>address</th>\n",
       "      <th>number</th>\n",
       "    </tr>\n",
       "  </thead>\n",
       "  <tbody>\n",
       "    <tr>\n",
       "      <th>12723</th>\n",
       "      <td>199696</td>\n",
       "      <td>Arena by Soho Family</td>\n",
       "      <td>нет</td>\n",
       "      <td>бар</td>\n",
       "      <td>город Москва, Кутузовский проспект, дом 36, ст...</td>\n",
       "      <td>1700</td>\n",
       "    </tr>\n",
       "    <tr>\n",
       "      <th>8148</th>\n",
       "      <td>80291</td>\n",
       "      <td>Банкетный зал Шелк</td>\n",
       "      <td>нет</td>\n",
       "      <td>ресторан</td>\n",
       "      <td>город Москва, Большой Саввинский переулок, дом...</td>\n",
       "      <td>1500</td>\n",
       "    </tr>\n",
       "    <tr>\n",
       "      <th>8345</th>\n",
       "      <td>27750</td>\n",
       "      <td>СТОЛОВАЯ-БУФЕТ</td>\n",
       "      <td>нет</td>\n",
       "      <td>столовая</td>\n",
       "      <td>город Москва, улица Волхонка, дом 15</td>\n",
       "      <td>1400</td>\n",
       "    </tr>\n",
       "    <tr>\n",
       "      <th>9064</th>\n",
       "      <td>19719</td>\n",
       "      <td>КОМБИНАТ ПИТАНИЯ «УПРАВЛЕНИЕ АКАДЕМСЕРВИС»</td>\n",
       "      <td>нет</td>\n",
       "      <td>столовая</td>\n",
       "      <td>город Москва, проспект Вернадского, дом 84, ст...</td>\n",
       "      <td>1288</td>\n",
       "    </tr>\n",
       "    <tr>\n",
       "      <th>3686</th>\n",
       "      <td>27026</td>\n",
       "      <td>РУМ СЕРВИС</td>\n",
       "      <td>нет</td>\n",
       "      <td>ресторан</td>\n",
       "      <td>город Москва, площадь Европы, дом 2</td>\n",
       "      <td>1200</td>\n",
       "    </tr>\n",
       "    <tr>\n",
       "      <th>4480</th>\n",
       "      <td>27024</td>\n",
       "      <td>РУМ СЕРВИС</td>\n",
       "      <td>нет</td>\n",
       "      <td>ресторан</td>\n",
       "      <td>город Москва, Кутузовский проспект, дом 2/1, с...</td>\n",
       "      <td>1200</td>\n",
       "    </tr>\n",
       "    <tr>\n",
       "      <th>2313</th>\n",
       "      <td>26560</td>\n",
       "      <td>Ресторан «АЛЬФА»</td>\n",
       "      <td>нет</td>\n",
       "      <td>ресторан</td>\n",
       "      <td>город Москва, Измайловское шоссе, дом 71, корп...</td>\n",
       "      <td>1040</td>\n",
       "    </tr>\n",
       "    <tr>\n",
       "      <th>9955</th>\n",
       "      <td>171116</td>\n",
       "      <td>EATALY</td>\n",
       "      <td>нет</td>\n",
       "      <td>ресторан</td>\n",
       "      <td>город Москва, Киевская улица, дом 2</td>\n",
       "      <td>920</td>\n",
       "    </tr>\n",
       "    <tr>\n",
       "      <th>5649</th>\n",
       "      <td>29232</td>\n",
       "      <td>СТОЛОВАЯ МОСКОВСКИЙ ГУМАНИТАРНЫЙ УНИВЕРСИТЕТ</td>\n",
       "      <td>нет</td>\n",
       "      <td>столовая</td>\n",
       "      <td>город Москва, улица Юности, дом 5, строение 1</td>\n",
       "      <td>760</td>\n",
       "    </tr>\n",
       "    <tr>\n",
       "      <th>13299</th>\n",
       "      <td>200905</td>\n",
       "      <td>White Hall</td>\n",
       "      <td>нет</td>\n",
       "      <td>ресторан</td>\n",
       "      <td>город Москва, Ферганская улица, дом 8</td>\n",
       "      <td>700</td>\n",
       "    </tr>\n",
       "  </tbody>\n",
       "</table>\n",
       "</div>"
      ],
      "text/plain": [
       "           id                                   object_name chain object_type  \\\n",
       "12723  199696                          Arena by Soho Family   нет         бар   \n",
       "8148    80291                            Банкетный зал Шелк   нет    ресторан   \n",
       "8345    27750                                СТОЛОВАЯ-БУФЕТ   нет    столовая   \n",
       "9064    19719    КОМБИНАТ ПИТАНИЯ «УПРАВЛЕНИЕ АКАДЕМСЕРВИС»   нет    столовая   \n",
       "3686    27026                                    РУМ СЕРВИС   нет    ресторан   \n",
       "4480    27024                                    РУМ СЕРВИС   нет    ресторан   \n",
       "2313    26560                              Ресторан «АЛЬФА»   нет    ресторан   \n",
       "9955   171116                                        EATALY   нет    ресторан   \n",
       "5649    29232  СТОЛОВАЯ МОСКОВСКИЙ ГУМАНИТАРНЫЙ УНИВЕРСИТЕТ   нет    столовая   \n",
       "13299  200905                                    White Hall   нет    ресторан   \n",
       "\n",
       "                                                 address  number  \n",
       "12723  город Москва, Кутузовский проспект, дом 36, ст...    1700  \n",
       "8148   город Москва, Большой Саввинский переулок, дом...    1500  \n",
       "8345                город Москва, улица Волхонка, дом 15    1400  \n",
       "9064   город Москва, проспект Вернадского, дом 84, ст...    1288  \n",
       "3686                 город Москва, площадь Европы, дом 2    1200  \n",
       "4480   город Москва, Кутузовский проспект, дом 2/1, с...    1200  \n",
       "2313   город Москва, Измайловское шоссе, дом 71, корп...    1040  \n",
       "9955                 город Москва, Киевская улица, дом 2     920  \n",
       "5649       город Москва, улица Юности, дом 5, строение 1     760  \n",
       "13299              город Москва, Ферганская улица, дом 8     700  "
      ]
     },
     "execution_count": 12,
     "metadata": {},
     "output_type": "execute_result"
    }
   ],
   "source": [
    "data.sort_values('number', ascending=False).head(10)"
   ]
  },
  {
   "cell_type": "markdown",
   "metadata": {
    "pycharm": {
     "name": "#%% md\n"
    }
   },
   "source": [
    "Поиск в Интернете по десятке крупнейших заведений по числу мест подтвердил данные. Однако никакой информации о заведении \"СТОЛОВАЯ-БУФЕТ\" по адресу город Москва, улица Волхонка, дом 15 не было найдено. Удалим данное значение. "
   ]
  },
  {
   "cell_type": "code",
   "execution_count": 13,
   "metadata": {
    "pycharm": {
     "name": "#%%\n"
    }
   },
   "outputs": [],
   "source": [
    "data = data[data['id']!= 27750]"
   ]
  },
  {
   "cell_type": "markdown",
   "metadata": {
    "pycharm": {
     "name": "#%% md\n"
    }
   },
   "source": [
    "### Вывод"
   ]
  },
  {
   "cell_type": "markdown",
   "metadata": {
    "pycharm": {
     "name": "#%% md\n"
    }
   },
   "source": [
    "Таким образом, на данномэтапе были проверены типы данных в датафрейме, проверены пропуски и удалены дубликаты. Также были изучены столбцы с категориальными и количественными значениями."
   ]
  },
  {
   "cell_type": "markdown",
   "metadata": {
    "pycharm": {
     "name": "#%% md\n"
    }
   },
   "source": [
    "## Анализ данных"
   ]
  },
  {
   "cell_type": "markdown",
   "metadata": {
    "pycharm": {
     "name": "#%% md\n"
    }
   },
   "source": [
    "### Cоотношение видов объектов общественного питания по количеству"
   ]
  },
  {
   "cell_type": "code",
   "execution_count": 14,
   "metadata": {
    "scrolled": false,
    "pycharm": {
     "name": "#%%\n"
    }
   },
   "outputs": [
    {
     "data": {
      "image/png": "[encoded data removed]",
      "text/plain": [
       "<Figure size 720x432 with 1 Axes>"
      ]
     },
     "metadata": {},
     "output_type": "display_data"
    }
   ],
   "source": [
    "sns.countplot(y='object_type', data=data, order=data['object_type'].value_counts().index)\n",
    "plt.xlabel('Количество')\n",
    "plt.ylabel('Тип объекта питания')\n",
    "plt.title('Cоотношение видов объектов общественного питания по количеству')\n",
    "plt.show()"
   ]
  },
  {
   "cell_type": "markdown",
   "metadata": {
    "pycharm": {
     "name": "#%% md\n"
    }
   },
   "source": [
    "Наибольшее количество заведений общественного питания в Москве занимают кафе - около 6 тыс. шт. Существенно ниже количество столовых, ресторанов и предприятий быстрого обслуживания - 2.5, 2.2 и 1.9 тыс. соответственно. "
   ]
  },
  {
   "cell_type": "markdown",
   "metadata": {
    "pycharm": {
     "name": "#%% md\n"
    }
   },
   "source": [
    "### Cоотношение сетевых и несетевых заведений по количеству"
   ]
  },
  {
   "cell_type": "code",
   "execution_count": 15,
   "metadata": {
    "scrolled": false,
    "pycharm": {
     "name": "#%%\n"
    }
   },
   "outputs": [
    {
     "data": {
      "image/png": "[encoded data removed]",
      "text/plain": [
       "<Figure size 720x432 with 1 Axes>"
      ]
     },
     "metadata": {},
     "output_type": "display_data"
    }
   ],
   "source": [
    "sns.countplot(x='chain', data=data)\n",
    "plt.ylabel('Количество')\n",
    "plt.xlabel('Сетевое заведение')\n",
    "plt.title('Cоотношение сетевых и несетевых заведений по количеству')\n",
    "plt.show()"
   ]
  },
  {
   "cell_type": "markdown",
   "metadata": {
    "pycharm": {
     "name": "#%% md\n"
    }
   },
   "source": [
    "В Москве насчитавается больше всего объектов питания, которые не относятся к сетевым заведениям (12 тыс. шт.). При этом к сетевым заведениям относится около 3 тыс. заведений."
   ]
  },
  {
   "cell_type": "markdown",
   "metadata": {
    "pycharm": {
     "name": "#%% md\n"
    }
   },
   "source": [
    "### Cоотношение вида объекта общественного питания и сетевого распространения"
   ]
  },
  {
   "cell_type": "code",
   "execution_count": 16,
   "metadata": {
    "scrolled": false,
    "pycharm": {
     "name": "#%%\n"
    }
   },
   "outputs": [
    {
     "data": {
      "image/png": "[encoded data removed]",
      "text/plain": [
       "<Figure size 720x432 with 1 Axes>"
      ]
     },
     "metadata": {},
     "output_type": "display_data"
    }
   ],
   "source": [
    "sns.countplot(y='object_type', hue='chain', data=data, order=data[data['chain']=='нет']['object_type'].value_counts().index)\n",
    "plt.xlabel('Количество')\n",
    "plt.ylabel('Вид объекта')\n",
    "plt.title('Cоотношение сетевых и несетевых заведений по виду общественного питания')\n",
    "plt.show()"
   ]
  },
  {
   "cell_type": "markdown",
   "metadata": {
    "pycharm": {
     "name": "#%% md\n"
    }
   },
   "source": [
    "В абсолютном выражении в Москве больше всего несетевых кафе, столовых и ресторанов. При этом в топ-3 по количеству сетевых заведений входят кафе, предприятия быстрого обслуживания и рестораны."
   ]
  },
  {
   "cell_type": "code",
   "execution_count": 17,
   "metadata": {
    "scrolled": true,
    "pycharm": {
     "name": "#%%\n"
    }
   },
   "outputs": [
    {
     "data": {
      "text/html": [
       "<div>\n",
       "<style scoped>\n",
       "    .dataframe tbody tr th:only-of-type {\n",
       "        vertical-align: middle;\n",
       "    }\n",
       "\n",
       "    .dataframe tbody tr th {\n",
       "        vertical-align: top;\n",
       "    }\n",
       "\n",
       "    .dataframe thead th {\n",
       "        text-align: right;\n",
       "    }\n",
       "</style>\n",
       "<table border=\"1\" class=\"dataframe\">\n",
       "  <thead>\n",
       "    <tr style=\"text-align: right;\">\n",
       "      <th></th>\n",
       "      <th>Вид объекта</th>\n",
       "      <th>С сетевым распространением</th>\n",
       "      <th>Без сетевого распространения</th>\n",
       "      <th>Доля с сетевым распространением</th>\n",
       "    </tr>\n",
       "  </thead>\n",
       "  <tbody>\n",
       "    <tr>\n",
       "      <th>0</th>\n",
       "      <td>бар</td>\n",
       "      <td>37</td>\n",
       "      <td>816</td>\n",
       "      <td>0.04</td>\n",
       "    </tr>\n",
       "    <tr>\n",
       "      <th>1</th>\n",
       "      <td>буфет</td>\n",
       "      <td>11</td>\n",
       "      <td>560</td>\n",
       "      <td>0.02</td>\n",
       "    </tr>\n",
       "    <tr>\n",
       "      <th>2</th>\n",
       "      <td>закусочная</td>\n",
       "      <td>56</td>\n",
       "      <td>292</td>\n",
       "      <td>0.16</td>\n",
       "    </tr>\n",
       "    <tr>\n",
       "      <th>3</th>\n",
       "      <td>кафе</td>\n",
       "      <td>1389</td>\n",
       "      <td>4628</td>\n",
       "      <td>0.23</td>\n",
       "    </tr>\n",
       "    <tr>\n",
       "      <th>4</th>\n",
       "      <td>кафетерий</td>\n",
       "      <td>51</td>\n",
       "      <td>342</td>\n",
       "      <td>0.13</td>\n",
       "    </tr>\n",
       "    <tr>\n",
       "      <th>5</th>\n",
       "      <td>магазин (отдел кулинарии)</td>\n",
       "      <td>78</td>\n",
       "      <td>194</td>\n",
       "      <td>0.29</td>\n",
       "    </tr>\n",
       "    <tr>\n",
       "      <th>6</th>\n",
       "      <td>предприятие быстрого обслуживания</td>\n",
       "      <td>784</td>\n",
       "      <td>1107</td>\n",
       "      <td>0.41</td>\n",
       "    </tr>\n",
       "    <tr>\n",
       "      <th>7</th>\n",
       "      <td>ресторан</td>\n",
       "      <td>541</td>\n",
       "      <td>1734</td>\n",
       "      <td>0.24</td>\n",
       "    </tr>\n",
       "    <tr>\n",
       "      <th>8</th>\n",
       "      <td>столовая</td>\n",
       "      <td>3</td>\n",
       "      <td>2571</td>\n",
       "      <td>0.00</td>\n",
       "    </tr>\n",
       "  </tbody>\n",
       "</table>\n",
       "</div>"
      ],
      "text/plain": [
       "                         Вид объекта  С сетевым распространением  \\\n",
       "0                                бар                          37   \n",
       "1                              буфет                          11   \n",
       "2                         закусочная                          56   \n",
       "3                               кафе                        1389   \n",
       "4                          кафетерий                          51   \n",
       "5          магазин (отдел кулинарии)                          78   \n",
       "6  предприятие быстрого обслуживания                         784   \n",
       "7                           ресторан                         541   \n",
       "8                           столовая                           3   \n",
       "\n",
       "   Без сетевого распространения  Доля с сетевым распространением  \n",
       "0                           816                             0.04  \n",
       "1                           560                             0.02  \n",
       "2                           292                             0.16  \n",
       "3                          4628                             0.23  \n",
       "4                           342                             0.13  \n",
       "5                           194                             0.29  \n",
       "6                          1107                             0.41  \n",
       "7                          1734                             0.24  \n",
       "8                          2571                             0.00  "
      ]
     },
     "execution_count": 17,
     "metadata": {},
     "output_type": "execute_result"
    }
   ],
   "source": [
    "pivot_table = data.pivot_table(index='object_type', columns='chain', values='id', aggfunc='count').reset_index()\n",
    "pivot_table['share'] = (pivot_table['да'] / (pivot_table['да'] + pivot_table['нет']))\n",
    "pivot_table.columns = ['Вид объекта', 'С сетевым распространением', 'Без сетевого распространения', 'Доля с сетевым распространением']\n",
    "pivot_table"
   ]
  },
  {
   "cell_type": "code",
   "execution_count": 18,
   "metadata": {
    "scrolled": false,
    "pycharm": {
     "name": "#%%\n"
    }
   },
   "outputs": [
    {
     "data": {
      "image/png": "[encoded data removed]",
      "text/plain": [
       "<Figure size 720x432 with 1 Axes>"
      ]
     },
     "metadata": {},
     "output_type": "display_data"
    }
   ],
   "source": [
    "sns.barplot(x='Доля с сетевым распространением', y='Вид объекта', data=pivot_table.sort_values(by='Доля с сетевым распространением', ascending=False))\n",
    "plt.title('Доля сетевых заведений по виду общественного питания')\n",
    "plt.show()"
   ]
  },
  {
   "cell_type": "markdown",
   "metadata": {
    "pycharm": {
     "name": "#%% md\n"
    }
   },
   "source": [
    "В относительном выражении в Москве больше всего сетевых предприятий быстрого обслуживания, отделов кулинарии в магазинах, ресторанов и кафе. Таким образом, сетевое распределение наиболее характерно для этих типов заведений."
   ]
  },
  {
   "cell_type": "markdown",
   "metadata": {
    "pycharm": {
     "name": "#%% md\n"
    }
   },
   "source": [
    "### Посадочные места в сетевых заведениях"
   ]
  },
  {
   "cell_type": "code",
   "execution_count": 19,
   "metadata": {
    "pycharm": {
     "name": "#%%\n"
    }
   },
   "outputs": [
    {
     "data": {
      "image/png": "[encoded data removed]",
      "text/plain": [
       "<Figure size 360x360 with 1 Axes>"
      ]
     },
     "metadata": {},
     "output_type": "display_data"
    }
   ],
   "source": [
    "sns.displot(data[(data['chain']=='нет') & (data['number']<300)]['number'], bins=10, kde=True)\n",
    "plt.ylabel('Количество заведений')\n",
    "plt.xlabel('Число посадочных мест')\n",
    "plt.title('Распределение посадочных мест в несетевых заведениях')\n",
    "plt.show()"
   ]
  },
  {
   "cell_type": "code",
   "execution_count": 20,
   "metadata": {
    "scrolled": false,
    "pycharm": {
     "name": "#%%\n"
    }
   },
   "outputs": [
    {
     "data": {
      "image/png": "[encoded data removed]",
      "text/plain": [
       "<Figure size 360x360 with 1 Axes>"
      ]
     },
     "metadata": {},
     "output_type": "display_data"
    }
   ],
   "source": [
    "sns.displot(data[(data['chain']=='да') & (data['number']<300)]['number'], bins=10, kde=True)\n",
    "plt.ylabel('Количество заведений')\n",
    "plt.xlabel('Число посадочных мест')\n",
    "plt.title('Распределение посадочных мест в сетевых заведениях')\n",
    "plt.show()"
   ]
  },
  {
   "cell_type": "code",
   "execution_count": 21,
   "metadata": {
    "pycharm": {
     "name": "#%%\n"
    }
   },
   "outputs": [
    {
     "data": {
      "text/plain": [
       "number\n",
       "0      263\n",
       "1       15\n",
       "2       29\n",
       "3       16\n",
       "4       44\n",
       "      ... \n",
       "275      1\n",
       "276      1\n",
       "280      2\n",
       "282      1\n",
       "284      1\n",
       "Name: id, Length: 178, dtype: int64"
      ]
     },
     "execution_count": 21,
     "metadata": {},
     "output_type": "execute_result"
    }
   ],
   "source": [
    "pivot_table = data[(data['chain']=='да') & (data['number']<300)].groupby('number').count()['id']\n",
    "pivot_table"
   ]
  },
  {
   "cell_type": "code",
   "execution_count": 22,
   "metadata": {
    "pycharm": {
     "name": "#%%\n"
    }
   },
   "outputs": [
    {
     "data": {
      "image/png": "[encoded data removed]",
      "text/plain": [
       "<Figure size 720x432 with 1 Axes>"
      ]
     },
     "metadata": {},
     "output_type": "display_data"
    }
   ],
   "source": [
    "sns.scatterplot(data=pivot_table)\n",
    "plt.ylabel('Количество заведений')\n",
    "plt.xlabel('Число посадочных мест')\n",
    "plt.title('Распределение посадочных мест в сетевых заведениях')\n",
    "plt.show()"
   ]
  },
  {
   "cell_type": "code",
   "execution_count": 28,
   "metadata": {
    "scrolled": false,
    "pycharm": {
     "name": "#%%\n"
    }
   },
   "outputs": [],
   "source": [
    "data_copy = data.copy()[data['chain']=='да']\n",
    "pivot_table = data_copy.pivot_table(index='object_name', values=['id', 'number'], aggfunc={'id':'count', 'number': 'mean'}).sort_values(by='id', ascending=False).reset_index()"
   ]
  },
  {
   "cell_type": "code",
   "execution_count": 29,
   "metadata": {
    "pycharm": {
     "name": "#%%\n"
    }
   },
   "outputs": [
    {
     "data": {
      "text/html": [
       "<div>\n",
       "<style scoped>\n",
       "    .dataframe tbody tr th:only-of-type {\n",
       "        vertical-align: middle;\n",
       "    }\n",
       "\n",
       "    .dataframe tbody tr th {\n",
       "        vertical-align: top;\n",
       "    }\n",
       "\n",
       "    .dataframe thead th {\n",
       "        text-align: right;\n",
       "    }\n",
       "</style>\n",
       "<table border=\"1\" class=\"dataframe\">\n",
       "  <thead>\n",
       "    <tr style=\"text-align: right;\">\n",
       "      <th></th>\n",
       "      <th>object_name</th>\n",
       "      <th>id</th>\n",
       "      <th>number</th>\n",
       "    </tr>\n",
       "  </thead>\n",
       "  <tbody>\n",
       "    <tr>\n",
       "      <th>0</th>\n",
       "      <td>KFC</td>\n",
       "      <td>155</td>\n",
       "      <td>55.34</td>\n",
       "    </tr>\n",
       "    <tr>\n",
       "      <th>1</th>\n",
       "      <td>Шоколадница</td>\n",
       "      <td>139</td>\n",
       "      <td>56.76</td>\n",
       "    </tr>\n",
       "    <tr>\n",
       "      <th>2</th>\n",
       "      <td>Бургер Кинг</td>\n",
       "      <td>121</td>\n",
       "      <td>45.27</td>\n",
       "    </tr>\n",
       "    <tr>\n",
       "      <th>3</th>\n",
       "      <td>Макдоналдс</td>\n",
       "      <td>119</td>\n",
       "      <td>82.92</td>\n",
       "    </tr>\n",
       "    <tr>\n",
       "      <th>4</th>\n",
       "      <td>Домино'с Пицца</td>\n",
       "      <td>86</td>\n",
       "      <td>18.21</td>\n",
       "    </tr>\n",
       "    <tr>\n",
       "      <th>...</th>\n",
       "      <td>...</td>\n",
       "      <td>...</td>\n",
       "      <td>...</td>\n",
       "    </tr>\n",
       "    <tr>\n",
       "      <th>718</th>\n",
       "      <td>Кафе «МЕЛЕНКА»</td>\n",
       "      <td>1</td>\n",
       "      <td>60.00</td>\n",
       "    </tr>\n",
       "    <tr>\n",
       "      <th>719</th>\n",
       "      <td>Кафе «МАКДОНАЛДС»</td>\n",
       "      <td>1</td>\n",
       "      <td>40.00</td>\n",
       "    </tr>\n",
       "    <tr>\n",
       "      <th>720</th>\n",
       "      <td>Кафе «Кулинарное бюро»</td>\n",
       "      <td>1</td>\n",
       "      <td>18.00</td>\n",
       "    </tr>\n",
       "    <tr>\n",
       "      <th>721</th>\n",
       "      <td>Кафе «Кулинарная лавка братьев Караваевых»</td>\n",
       "      <td>1</td>\n",
       "      <td>10.00</td>\n",
       "    </tr>\n",
       "    <tr>\n",
       "      <th>722</th>\n",
       "      <td>ресторан «Якитория»</td>\n",
       "      <td>1</td>\n",
       "      <td>124.00</td>\n",
       "    </tr>\n",
       "  </tbody>\n",
       "</table>\n",
       "<p>723 rows × 3 columns</p>\n",
       "</div>"
      ],
      "text/plain": [
       "                                    object_name   id  number\n",
       "0                                           KFC  155   55.34\n",
       "1                                   Шоколадница  139   56.76\n",
       "2                                   Бургер Кинг  121   45.27\n",
       "3                                    Макдоналдс  119   82.92\n",
       "4                                Домино'с Пицца   86   18.21\n",
       "..                                          ...  ...     ...\n",
       "718                              Кафе «МЕЛЕНКА»    1   60.00\n",
       "719                           Кафе «МАКДОНАЛДС»    1   40.00\n",
       "720                      Кафе «Кулинарное бюро»    1   18.00\n",
       "721  Кафе «Кулинарная лавка братьев Караваевых»    1   10.00\n",
       "722                         ресторан «Якитория»    1  124.00\n",
       "\n",
       "[723 rows x 3 columns]"
      ]
     },
     "execution_count": 29,
     "metadata": {},
     "output_type": "execute_result"
    }
   ],
   "source": [
    "pivot_table"
   ]
  },
  {
   "cell_type": "code",
   "execution_count": 30,
   "metadata": {
    "pycharm": {
     "name": "#%%\n"
    }
   },
   "outputs": [
    {
     "data": {
      "text/html": [
       "<div>\n",
       "<style scoped>\n",
       "    .dataframe tbody tr th:only-of-type {\n",
       "        vertical-align: middle;\n",
       "    }\n",
       "\n",
       "    .dataframe tbody tr th {\n",
       "        vertical-align: top;\n",
       "    }\n",
       "\n",
       "    .dataframe thead th {\n",
       "        text-align: right;\n",
       "    }\n",
       "</style>\n",
       "<table border=\"1\" class=\"dataframe\">\n",
       "  <thead>\n",
       "    <tr style=\"text-align: right;\">\n",
       "      <th></th>\n",
       "      <th>id</th>\n",
       "      <th>number</th>\n",
       "    </tr>\n",
       "  </thead>\n",
       "  <tbody>\n",
       "    <tr>\n",
       "      <th>count</th>\n",
       "      <td>723.00</td>\n",
       "      <td>723.00</td>\n",
       "    </tr>\n",
       "    <tr>\n",
       "      <th>mean</th>\n",
       "      <td>4.08</td>\n",
       "      <td>60.31</td>\n",
       "    </tr>\n",
       "    <tr>\n",
       "      <th>std</th>\n",
       "      <td>12.53</td>\n",
       "      <td>56.16</td>\n",
       "    </tr>\n",
       "    <tr>\n",
       "      <th>min</th>\n",
       "      <td>1.00</td>\n",
       "      <td>0.00</td>\n",
       "    </tr>\n",
       "    <tr>\n",
       "      <th>25%</th>\n",
       "      <td>1.00</td>\n",
       "      <td>20.00</td>\n",
       "    </tr>\n",
       "    <tr>\n",
       "      <th>50%</th>\n",
       "      <td>1.00</td>\n",
       "      <td>45.00</td>\n",
       "    </tr>\n",
       "    <tr>\n",
       "      <th>75%</th>\n",
       "      <td>2.00</td>\n",
       "      <td>83.75</td>\n",
       "    </tr>\n",
       "    <tr>\n",
       "      <th>max</th>\n",
       "      <td>155.00</td>\n",
       "      <td>356.00</td>\n",
       "    </tr>\n",
       "  </tbody>\n",
       "</table>\n",
       "</div>"
      ],
      "text/plain": [
       "          id  number\n",
       "count 723.00  723.00\n",
       "mean    4.08   60.31\n",
       "std    12.53   56.16\n",
       "min     1.00    0.00\n",
       "25%     1.00   20.00\n",
       "50%     1.00   45.00\n",
       "75%     2.00   83.75\n",
       "max   155.00  356.00"
      ]
     },
     "execution_count": 30,
     "metadata": {},
     "output_type": "execute_result"
    }
   ],
   "source": [
    "pivot_table.describe()"
   ]
  },
  {
   "cell_type": "code",
   "execution_count": 31,
   "metadata": {
    "scrolled": false,
    "pycharm": {
     "name": "#%%\n"
    }
   },
   "outputs": [
    {
     "data": {
      "text/plain": [
       "<AxesSubplot:title={'center':'Количество ресторанов в сети'}>"
      ]
     },
     "execution_count": 31,
     "metadata": {},
     "output_type": "execute_result"
    },
    {
     "data": {
      "image/png": "[encoded data removed]",
      "text/plain": [
       "<Figure size 720x432 with 1 Axes>"
      ]
     },
     "metadata": {},
     "output_type": "display_data"
    }
   ],
   "source": [
    "pivot_table['id'].plot(title='Количество ресторанов в сети')"
   ]
  },
  {
   "cell_type": "markdown",
   "metadata": {
    "pycharm": {
     "name": "#%% md\n"
    }
   },
   "source": [
    "Возьмем в качестве границы 10 ресторанов в сети: больше 10 - много заведений, меньше - мало заведений."
   ]
  },
  {
   "cell_type": "code",
   "execution_count": 32,
   "metadata": {
    "pycharm": {
     "name": "#%%\n"
    }
   },
   "outputs": [
    {
     "data": {
      "text/plain": [
       "<AxesSubplot:title={'center':'Среднее количество посадочных мест в сети'}>"
      ]
     },
     "execution_count": 32,
     "metadata": {},
     "output_type": "execute_result"
    },
    {
     "data": {
      "image/png": "[encoded data removed]",
      "text/plain": [
       "<Figure size 720x432 with 1 Axes>"
      ]
     },
     "metadata": {},
     "output_type": "display_data"
    }
   ],
   "source": [
    "pivot_table.sort_values(by='number', ascending=False).reset_index()['number'].plot(title='Среднее количество посадочных мест в сети')"
   ]
  },
  {
   "cell_type": "markdown",
   "metadata": {
    "pycharm": {
     "name": "#%% md\n"
    }
   },
   "source": [
    "Возьмем в качестве границы 60 посадочных мест: больше 60 - много посадочных мест, меньше - мало посадочых мест."
   ]
  },
  {
   "cell_type": "code",
   "execution_count": 33,
   "metadata": {
    "scrolled": false,
    "pycharm": {
     "name": "#%%\n"
    }
   },
   "outputs": [
    {
     "data": {
      "text/html": [
       "<div>\n",
       "<style scoped>\n",
       "    .dataframe tbody tr th:only-of-type {\n",
       "        vertical-align: middle;\n",
       "    }\n",
       "\n",
       "    .dataframe tbody tr th {\n",
       "        vertical-align: top;\n",
       "    }\n",
       "\n",
       "    .dataframe thead th {\n",
       "        text-align: right;\n",
       "    }\n",
       "</style>\n",
       "<table border=\"1\" class=\"dataframe\">\n",
       "  <thead>\n",
       "    <tr style=\"text-align: right;\">\n",
       "      <th></th>\n",
       "      <th>object_name</th>\n",
       "      <th>id</th>\n",
       "      <th>number</th>\n",
       "      <th>group</th>\n",
       "    </tr>\n",
       "  </thead>\n",
       "  <tbody>\n",
       "    <tr>\n",
       "      <th>0</th>\n",
       "      <td>KFC</td>\n",
       "      <td>155</td>\n",
       "      <td>55.34</td>\n",
       "      <td>много заведений, мало мест</td>\n",
       "    </tr>\n",
       "    <tr>\n",
       "      <th>1</th>\n",
       "      <td>Шоколадница</td>\n",
       "      <td>139</td>\n",
       "      <td>56.76</td>\n",
       "      <td>много заведений, мало мест</td>\n",
       "    </tr>\n",
       "    <tr>\n",
       "      <th>2</th>\n",
       "      <td>Бургер Кинг</td>\n",
       "      <td>121</td>\n",
       "      <td>45.27</td>\n",
       "      <td>много заведений, мало мест</td>\n",
       "    </tr>\n",
       "    <tr>\n",
       "      <th>3</th>\n",
       "      <td>Макдоналдс</td>\n",
       "      <td>119</td>\n",
       "      <td>82.92</td>\n",
       "      <td>много заведений, много мест</td>\n",
       "    </tr>\n",
       "    <tr>\n",
       "      <th>4</th>\n",
       "      <td>Домино'с Пицца</td>\n",
       "      <td>86</td>\n",
       "      <td>18.21</td>\n",
       "      <td>много заведений, мало мест</td>\n",
       "    </tr>\n",
       "    <tr>\n",
       "      <th>...</th>\n",
       "      <td>...</td>\n",
       "      <td>...</td>\n",
       "      <td>...</td>\n",
       "      <td>...</td>\n",
       "    </tr>\n",
       "    <tr>\n",
       "      <th>718</th>\n",
       "      <td>Кафе «МЕЛЕНКА»</td>\n",
       "      <td>1</td>\n",
       "      <td>60.00</td>\n",
       "      <td>мало заведений, много мест</td>\n",
       "    </tr>\n",
       "    <tr>\n",
       "      <th>719</th>\n",
       "      <td>Кафе «МАКДОНАЛДС»</td>\n",
       "      <td>1</td>\n",
       "      <td>40.00</td>\n",
       "      <td>мало заведений, мало мест</td>\n",
       "    </tr>\n",
       "    <tr>\n",
       "      <th>720</th>\n",
       "      <td>Кафе «Кулинарное бюро»</td>\n",
       "      <td>1</td>\n",
       "      <td>18.00</td>\n",
       "      <td>мало заведений, мало мест</td>\n",
       "    </tr>\n",
       "    <tr>\n",
       "      <th>721</th>\n",
       "      <td>Кафе «Кулинарная лавка братьев Караваевых»</td>\n",
       "      <td>1</td>\n",
       "      <td>10.00</td>\n",
       "      <td>мало заведений, мало мест</td>\n",
       "    </tr>\n",
       "    <tr>\n",
       "      <th>722</th>\n",
       "      <td>ресторан «Якитория»</td>\n",
       "      <td>1</td>\n",
       "      <td>124.00</td>\n",
       "      <td>мало заведений, много мест</td>\n",
       "    </tr>\n",
       "  </tbody>\n",
       "</table>\n",
       "<p>723 rows × 4 columns</p>\n",
       "</div>"
      ],
      "text/plain": [
       "                                    object_name   id  number  \\\n",
       "0                                           KFC  155   55.34   \n",
       "1                                   Шоколадница  139   56.76   \n",
       "2                                   Бургер Кинг  121   45.27   \n",
       "3                                    Макдоналдс  119   82.92   \n",
       "4                                Домино'с Пицца   86   18.21   \n",
       "..                                          ...  ...     ...   \n",
       "718                              Кафе «МЕЛЕНКА»    1   60.00   \n",
       "719                           Кафе «МАКДОНАЛДС»    1   40.00   \n",
       "720                      Кафе «Кулинарное бюро»    1   18.00   \n",
       "721  Кафе «Кулинарная лавка братьев Караваевых»    1   10.00   \n",
       "722                         ресторан «Якитория»    1  124.00   \n",
       "\n",
       "                           group  \n",
       "0     много заведений, мало мест  \n",
       "1     много заведений, мало мест  \n",
       "2     много заведений, мало мест  \n",
       "3    много заведений, много мест  \n",
       "4     много заведений, мало мест  \n",
       "..                           ...  \n",
       "718   мало заведений, много мест  \n",
       "719    мало заведений, мало мест  \n",
       "720    мало заведений, мало мест  \n",
       "721    мало заведений, мало мест  \n",
       "722   мало заведений, много мест  \n",
       "\n",
       "[723 rows x 4 columns]"
      ]
     },
     "execution_count": 33,
     "metadata": {},
     "output_type": "execute_result"
    }
   ],
   "source": [
    "def define_group(string):\n",
    "    if string[1] < 10:\n",
    "        count = 'мало заведений'\n",
    "    else:\n",
    "        count = 'много заведений'\n",
    "    \n",
    "    if string[2] < 60:\n",
    "        number = 'мало мест'\n",
    "    else:\n",
    "        number = 'много мест'\n",
    "    \n",
    "    return count + ', ' + number\n",
    "    \n",
    "pivot_table['group'] = pivot_table.apply(define_group, axis=1)\n",
    "pivot_table"
   ]
  },
  {
   "cell_type": "code",
   "execution_count": 45,
   "metadata": {
    "scrolled": false,
    "pycharm": {
     "name": "#%%\n"
    }
   },
   "outputs": [
    {
     "data": {
      "image/png": "[encoded data removed]",
      "text/plain": [
       "<Figure size 720x432 with 1 Axes>"
      ]
     },
     "metadata": {},
     "output_type": "display_data"
    }
   ],
   "source": [
    "sns.countplot(y='group', data=pivot_table, hue='group', order=pivot_table['group'].value_counts().index)\n",
    "plt.ylabel('Группа')\n",
    "plt.xlabel('Количество сетей')\n",
    "plt.show()"
   ]
  },
  {
   "cell_type": "markdown",
   "metadata": {
    "pycharm": {
     "name": "#%% md\n"
    }
   },
   "source": [
    "Таким образом, для сетевых франшиз в Москве характерно мало заведений с малым количестом мест."
   ]
  },
  {
   "cell_type": "markdown",
   "metadata": {
    "pycharm": {
     "name": "#%% md\n"
    }
   },
   "source": [
    "### Cреднее количество посадочных мест для каждого вида объекта общественного питания"
   ]
  },
  {
   "cell_type": "code",
   "execution_count": 35,
   "metadata": {
    "pycharm": {
     "name": "#%%\n"
    }
   },
   "outputs": [],
   "source": [
    "order = data.groupby('object_type').mean().sort_values(by='number', ascending=False).index"
   ]
  },
  {
   "cell_type": "code",
   "execution_count": 36,
   "metadata": {
    "scrolled": false,
    "pycharm": {
     "name": "#%%\n"
    }
   },
   "outputs": [
    {
     "data": {
      "image/png": "[encoded data removed]",
      "text/plain": [
       "<Figure size 720x432 with 1 Axes>"
      ]
     },
     "metadata": {},
     "output_type": "display_data"
    }
   ],
   "source": [
    "sns.boxplot(x='number', y = 'object_type', hue='chain', data = data, order=order).set(xlim=(-10, 400))\n",
    "plt.ylabel('Вид заведения')\n",
    "plt.xlabel('Число посадочных мест')\n",
    "plt.title('Cреднее количество посадочных мест для каждого вида объекта общественного питания')\n",
    "plt.show()"
   ]
  },
  {
   "cell_type": "code",
   "execution_count": 37,
   "metadata": {
    "scrolled": false,
    "pycharm": {
     "name": "#%%\n"
    }
   },
   "outputs": [
    {
     "data": {
      "image/png": "[encoded data removed]",
      "text/plain": [
       "<Figure size 720x432 with 1 Axes>"
      ]
     },
     "metadata": {},
     "output_type": "display_data"
    }
   ],
   "source": [
    "sns.violinplot(y='object_type', x='number', data=data, hue='chain', split=True, order=order).set(xlim=(-20, 200))\n",
    "plt.ylabel('Вид заведения')\n",
    "plt.xlabel('Число посадочных мест')\n",
    "plt.title('Cреднее количество посадочных мест для каждого вида объекта общественного питания')\n",
    "plt.show()"
   ]
  },
  {
   "cell_type": "code",
   "execution_count": 38,
   "metadata": {
    "pycharm": {
     "name": "#%%\n"
    }
   },
   "outputs": [
    {
     "data": {
      "image/png": "[encoded data removed]",
      "text/plain": [
       "<Figure size 720x432 with 1 Axes>"
      ]
     },
     "metadata": {},
     "output_type": "display_data"
    }
   ],
   "source": [
    "sns.barplot(y='object_type', x='number', data=data, hue='chain', order=order, estimator=mean)\n",
    "plt.ylabel('Вид заведения')\n",
    "plt.xlabel('Число посадочных мест')\n",
    "plt.title('Cреднее количество посадочных мест для каждого вида объекта общественного питания')\n",
    "plt.show()"
   ]
  },
  {
   "cell_type": "markdown",
   "metadata": {
    "pycharm": {
     "name": "#%% md\n"
    }
   },
   "source": [
    "Стоит отметить, что в данных присутствует достаточно сильная неоднородность.\n",
    "\n",
    "В целом можно сказать, что в несетевых заведениях самое большое среднее число посадочных мест у столовых, ресторанов и буфетов, а в сетевых заведениях - у столовых, ресторанов и баров. \n"
   ]
  },
  {
   "cell_type": "code",
   "execution_count": 39,
   "metadata": {
    "pycharm": {
     "name": "#%%\n"
    }
   },
   "outputs": [],
   "source": [
    "order = data.groupby('object_type').median().sort_values(by='number', ascending=False).index"
   ]
  },
  {
   "cell_type": "code",
   "execution_count": 40,
   "metadata": {
    "scrolled": false,
    "pycharm": {
     "name": "#%%\n"
    }
   },
   "outputs": [
    {
     "data": {
      "image/png": "[encoded data removed]",
      "text/plain": [
       "<Figure size 720x432 with 1 Axes>"
      ]
     },
     "metadata": {},
     "output_type": "display_data"
    }
   ],
   "source": [
    "sns.barplot(y='object_type', x='number', data=data, hue='chain', order=order, estimator=median)\n",
    "plt.ylabel('Вид заведения')\n",
    "plt.xlabel('Число посадочных мест')\n",
    "plt.title('Медианное количество посадочных мест для каждого вида объекта общественного питания')\n",
    "plt.show()"
   ]
  },
  {
   "cell_type": "markdown",
   "metadata": {
    "pycharm": {
     "name": "#%% md\n"
    }
   },
   "source": [
    "Выводы, сделаные по средним значениям, в целом подтверждаются медианными значениями. "
   ]
  },
  {
   "cell_type": "code",
   "execution_count": 41,
   "metadata": {
    "scrolled": false,
    "pycharm": {
     "name": "#%%\n"
    }
   },
   "outputs": [
    {
     "data": {
      "image/png": "[encoded data removed]",
      "text/plain": [
       "<Figure size 720x432 with 1 Axes>"
      ]
     },
     "metadata": {},
     "output_type": "display_data"
    }
   ],
   "source": [
    "sns.barplot(y='object_type', x='number', data=data, estimator=median, order=order)\n",
    "plt.ylabel('Вид заведения')\n",
    "plt.xlabel('Число посадочных мест')\n",
    "plt.title('Медианное количество посадочных мест для каждого вида объекта общественного питания')\n",
    "plt.show()"
   ]
  },
  {
   "cell_type": "markdown",
   "metadata": {
    "pycharm": {
     "name": "#%% md\n"
    }
   },
   "source": [
    "Без разбивки предприятий на сетевые и несетевые, можно сказать, что больше всего посадочных мест в столовых, ресторанах и буфетах (130, 97 и 51 соответственно)."
   ]
  },
  {
   "cell_type": "markdown",
   "metadata": {
    "pycharm": {
     "name": "#%% md\n"
    }
   },
   "source": [
    "### Выделение в отдельный столбец информации об улице"
   ]
  },
  {
   "cell_type": "markdown",
   "metadata": {
    "pycharm": {
     "name": "#%% md\n"
    }
   },
   "source": [
    "После многих попыток веделения улицы и адреса я пришел к следующей функции:"
   ]
  },
  {
   "cell_type": "code",
   "execution_count": 42,
   "metadata": {
    "pycharm": {
     "name": "#%%\n"
    }
   },
   "outputs": [],
   "source": [
    "street_variants = ['улица', 'проспект', 'набережная', 'проезд', 'бульвар', 'шоссе', 'переулок', 'площадь', 'аллея', 'квартал', 'линия', 'тупик']\n",
    "\n",
    "def get_street(address):\n",
    "    splited_address = address.split(', ')\n",
    "    for address_part in splited_address:\n",
    "        for street_variant in street_variants:\n",
    "            if street_variant in address_part:\n",
    "                return address_part.strip()\n",
    "    return None"
   ]
  },
  {
   "cell_type": "code",
   "execution_count": 43,
   "metadata": {
    "pycharm": {
     "name": "#%%\n"
    }
   },
   "outputs": [
    {
     "data": {
      "text/html": [
       "<div>\n",
       "<style scoped>\n",
       "    .dataframe tbody tr th:only-of-type {\n",
       "        vertical-align: middle;\n",
       "    }\n",
       "\n",
       "    .dataframe tbody tr th {\n",
       "        vertical-align: top;\n",
       "    }\n",
       "\n",
       "    .dataframe thead th {\n",
       "        text-align: right;\n",
       "    }\n",
       "</style>\n",
       "<table border=\"1\" class=\"dataframe\">\n",
       "  <thead>\n",
       "    <tr style=\"text-align: right;\">\n",
       "      <th></th>\n",
       "      <th>id</th>\n",
       "      <th>object_name</th>\n",
       "      <th>chain</th>\n",
       "      <th>object_type</th>\n",
       "      <th>address</th>\n",
       "      <th>number</th>\n",
       "      <th>street</th>\n",
       "    </tr>\n",
       "  </thead>\n",
       "  <tbody>\n",
       "    <tr>\n",
       "      <th>0</th>\n",
       "      <td>151635</td>\n",
       "      <td>СМЕТАНА</td>\n",
       "      <td>нет</td>\n",
       "      <td>кафе</td>\n",
       "      <td>город Москва, улица Егора Абакумова, дом 9</td>\n",
       "      <td>48</td>\n",
       "      <td>улица Егора Абакумова</td>\n",
       "    </tr>\n",
       "    <tr>\n",
       "      <th>1</th>\n",
       "      <td>77874</td>\n",
       "      <td>Родник</td>\n",
       "      <td>нет</td>\n",
       "      <td>кафе</td>\n",
       "      <td>город Москва, улица Талалихина, дом 2/1, корпус 1</td>\n",
       "      <td>35</td>\n",
       "      <td>улица Талалихина</td>\n",
       "    </tr>\n",
       "    <tr>\n",
       "      <th>2</th>\n",
       "      <td>24309</td>\n",
       "      <td>Кафе «Академия»</td>\n",
       "      <td>нет</td>\n",
       "      <td>кафе</td>\n",
       "      <td>город Москва, Абельмановская улица, дом 6</td>\n",
       "      <td>95</td>\n",
       "      <td>Абельмановская улица</td>\n",
       "    </tr>\n",
       "    <tr>\n",
       "      <th>3</th>\n",
       "      <td>21894</td>\n",
       "      <td>ПИЦЦЕТОРИЯ</td>\n",
       "      <td>да</td>\n",
       "      <td>кафе</td>\n",
       "      <td>город Москва, Абрамцевская улица, дом 1</td>\n",
       "      <td>40</td>\n",
       "      <td>Абрамцевская улица</td>\n",
       "    </tr>\n",
       "    <tr>\n",
       "      <th>4</th>\n",
       "      <td>119365</td>\n",
       "      <td>Кафе «Вишневая метель»</td>\n",
       "      <td>нет</td>\n",
       "      <td>кафе</td>\n",
       "      <td>город Москва, Абрамцевская улица, дом 9, корпус 1</td>\n",
       "      <td>50</td>\n",
       "      <td>Абрамцевская улица</td>\n",
       "    </tr>\n",
       "    <tr>\n",
       "      <th>...</th>\n",
       "      <td>...</td>\n",
       "      <td>...</td>\n",
       "      <td>...</td>\n",
       "      <td>...</td>\n",
       "      <td>...</td>\n",
       "      <td>...</td>\n",
       "      <td>...</td>\n",
       "    </tr>\n",
       "    <tr>\n",
       "      <th>15359</th>\n",
       "      <td>222077</td>\n",
       "      <td>Кофейня «Шоколадница»</td>\n",
       "      <td>да</td>\n",
       "      <td>кафе</td>\n",
       "      <td>город Москва, Кантемировская улица, дом 47</td>\n",
       "      <td>72</td>\n",
       "      <td>Кантемировская улица</td>\n",
       "    </tr>\n",
       "    <tr>\n",
       "      <th>15360</th>\n",
       "      <td>219759</td>\n",
       "      <td>Шоколадница</td>\n",
       "      <td>да</td>\n",
       "      <td>кафе</td>\n",
       "      <td>город Москва, улица Вавилова, дом 3</td>\n",
       "      <td>36</td>\n",
       "      <td>улица Вавилова</td>\n",
       "    </tr>\n",
       "    <tr>\n",
       "      <th>15361</th>\n",
       "      <td>208537</td>\n",
       "      <td>Шоколадница</td>\n",
       "      <td>да</td>\n",
       "      <td>кафе</td>\n",
       "      <td>город Москва, 3-й Крутицкий переулок, дом 18</td>\n",
       "      <td>50</td>\n",
       "      <td>3-й Крутицкий переулок</td>\n",
       "    </tr>\n",
       "    <tr>\n",
       "      <th>15362</th>\n",
       "      <td>209264</td>\n",
       "      <td>Шоколадница</td>\n",
       "      <td>да</td>\n",
       "      <td>кафе</td>\n",
       "      <td>город Москва, улица Земляной Вал, дом 33</td>\n",
       "      <td>10</td>\n",
       "      <td>улица Земляной Вал</td>\n",
       "    </tr>\n",
       "    <tr>\n",
       "      <th>15364</th>\n",
       "      <td>221900</td>\n",
       "      <td>Шоколадница</td>\n",
       "      <td>да</td>\n",
       "      <td>кафе</td>\n",
       "      <td>город Москва, поселение Московский, Киевское ш...</td>\n",
       "      <td>36</td>\n",
       "      <td>Киевское шоссе</td>\n",
       "    </tr>\n",
       "  </tbody>\n",
       "</table>\n",
       "<p>15194 rows × 7 columns</p>\n",
       "</div>"
      ],
      "text/plain": [
       "           id             object_name chain object_type  \\\n",
       "0      151635                 СМЕТАНА   нет        кафе   \n",
       "1       77874                  Родник   нет        кафе   \n",
       "2       24309         Кафе «Академия»   нет        кафе   \n",
       "3       21894              ПИЦЦЕТОРИЯ    да        кафе   \n",
       "4      119365  Кафе «Вишневая метель»   нет        кафе   \n",
       "...       ...                     ...   ...         ...   \n",
       "15359  222077   Кофейня «Шоколадница»    да        кафе   \n",
       "15360  219759             Шоколадница    да        кафе   \n",
       "15361  208537             Шоколадница    да        кафе   \n",
       "15362  209264             Шоколадница    да        кафе   \n",
       "15364  221900             Шоколадница    да        кафе   \n",
       "\n",
       "                                                 address  number  \\\n",
       "0             город Москва, улица Егора Абакумова, дом 9      48   \n",
       "1      город Москва, улица Талалихина, дом 2/1, корпус 1      35   \n",
       "2              город Москва, Абельмановская улица, дом 6      95   \n",
       "3                город Москва, Абрамцевская улица, дом 1      40   \n",
       "4      город Москва, Абрамцевская улица, дом 9, корпус 1      50   \n",
       "...                                                  ...     ...   \n",
       "15359         город Москва, Кантемировская улица, дом 47      72   \n",
       "15360                город Москва, улица Вавилова, дом 3      36   \n",
       "15361       город Москва, 3-й Крутицкий переулок, дом 18      50   \n",
       "15362           город Москва, улица Земляной Вал, дом 33      10   \n",
       "15364  город Москва, поселение Московский, Киевское ш...      36   \n",
       "\n",
       "                       street  \n",
       "0       улица Егора Абакумова  \n",
       "1            улица Талалихина  \n",
       "2        Абельмановская улица  \n",
       "3          Абрамцевская улица  \n",
       "4          Абрамцевская улица  \n",
       "...                       ...  \n",
       "15359    Кантемировская улица  \n",
       "15360          улица Вавилова  \n",
       "15361  3-й Крутицкий переулок  \n",
       "15362      улица Земляной Вал  \n",
       "15364          Киевское шоссе  \n",
       "\n",
       "[15194 rows x 7 columns]"
      ]
     },
     "execution_count": 43,
     "metadata": {},
     "output_type": "execute_result"
    }
   ],
   "source": [
    "data['street'] = data['address'].apply(get_street)\n",
    "data"
   ]
  },
  {
   "cell_type": "markdown",
   "metadata": {
    "pycharm": {
     "name": "#%% md\n"
    }
   },
   "source": [
    "### Топ-10 улиц по количеству объектов общественного питания"
   ]
  },
  {
   "cell_type": "code",
   "execution_count": 44,
   "metadata": {
    "pycharm": {
     "name": "#%%\n"
    }
   },
   "outputs": [
    {
     "data": {
      "text/html": [
       "<div>\n",
       "<style scoped>\n",
       "    .dataframe tbody tr th:only-of-type {\n",
       "        vertical-align: middle;\n",
       "    }\n",
       "\n",
       "    .dataframe tbody tr th {\n",
       "        vertical-align: top;\n",
       "    }\n",
       "\n",
       "    .dataframe thead th {\n",
       "        text-align: right;\n",
       "    }\n",
       "</style>\n",
       "<table border=\"1\" class=\"dataframe\">\n",
       "  <thead>\n",
       "    <tr style=\"text-align: right;\">\n",
       "      <th></th>\n",
       "      <th>street</th>\n",
       "      <th>id</th>\n",
       "    </tr>\n",
       "  </thead>\n",
       "  <tbody>\n",
       "    <tr>\n",
       "      <th>0</th>\n",
       "      <td>проспект Мира</td>\n",
       "      <td>197</td>\n",
       "    </tr>\n",
       "    <tr>\n",
       "      <th>1</th>\n",
       "      <td>Профсоюзная улица</td>\n",
       "      <td>181</td>\n",
       "    </tr>\n",
       "    <tr>\n",
       "      <th>2</th>\n",
       "      <td>Ленинградский проспект</td>\n",
       "      <td>172</td>\n",
       "    </tr>\n",
       "    <tr>\n",
       "      <th>3</th>\n",
       "      <td>Пресненская набережная</td>\n",
       "      <td>165</td>\n",
       "    </tr>\n",
       "    <tr>\n",
       "      <th>4</th>\n",
       "      <td>Варшавское шоссе</td>\n",
       "      <td>164</td>\n",
       "    </tr>\n",
       "    <tr>\n",
       "      <th>5</th>\n",
       "      <td>Ленинский проспект</td>\n",
       "      <td>148</td>\n",
       "    </tr>\n",
       "    <tr>\n",
       "      <th>6</th>\n",
       "      <td>проспект Вернадского</td>\n",
       "      <td>127</td>\n",
       "    </tr>\n",
       "    <tr>\n",
       "      <th>7</th>\n",
       "      <td>Кутузовский проспект</td>\n",
       "      <td>114</td>\n",
       "    </tr>\n",
       "    <tr>\n",
       "      <th>8</th>\n",
       "      <td>Каширское шоссе</td>\n",
       "      <td>110</td>\n",
       "    </tr>\n",
       "    <tr>\n",
       "      <th>9</th>\n",
       "      <td>Кировоградская улица</td>\n",
       "      <td>107</td>\n",
       "    </tr>\n",
       "  </tbody>\n",
       "</table>\n",
       "</div>"
      ],
      "text/plain": [
       "                   street   id\n",
       "0           проспект Мира  197\n",
       "1       Профсоюзная улица  181\n",
       "2  Ленинградский проспект  172\n",
       "3  Пресненская набережная  165\n",
       "4        Варшавское шоссе  164\n",
       "5      Ленинский проспект  148\n",
       "6    проспект Вернадского  127\n",
       "7    Кутузовский проспект  114\n",
       "8         Каширское шоссе  110\n",
       "9    Кировоградская улица  107"
      ]
     },
     "execution_count": 44,
     "metadata": {},
     "output_type": "execute_result"
    }
   ],
   "source": [
    "pivot_table = data.pivot_table(index='street', values='id', aggfunc='count').sort_values(by='id', ascending=False).head(10).reset_index()\n",
    "pivot_table"
   ]
  },
  {
   "cell_type": "code",
   "execution_count": 45,
   "metadata": {
    "scrolled": false,
    "pycharm": {
     "name": "#%%\n"
    }
   },
   "outputs": [
    {
     "data": {
      "image/png": "[encoded data removed]",
      "text/plain": [
       "<Figure size 720x432 with 1 Axes>"
      ]
     },
     "metadata": {},
     "output_type": "display_data"
    }
   ],
   "source": [
    "sns.barplot(x='id', y='street', data=pivot_table)\n",
    "plt.xlabel('Количество заведений')\n",
    "plt.ylabel('Улица')\n",
    "plt.title('Топ-10 улиц по количеству объектов общественного питания')\n",
    "plt.show()"
   ]
  },
  {
   "cell_type": "markdown",
   "metadata": {
    "pycharm": {
     "name": "#%% md\n"
    }
   },
   "source": [
    "Больше всего объектов общественного питания на проспекте Мира, Профсоюзной улице, Ленинградском проспекте, Пресненской набережной и Варшавском шоссе."
   ]
  },
  {
   "cell_type": "markdown",
   "metadata": {
    "pycharm": {
     "name": "#%% md\n"
    }
   },
   "source": [
    "В качестве внешного источника данных я использовал сервис DaData с открытым API. Он позволяет получить исчерпывающую информацию об адресе. В день бесплатно 10 000 запросов."
   ]
  },
  {
   "cell_type": "code",
   "execution_count": 46,
   "metadata": {
    "pycharm": {
     "name": "#%%\n"
    }
   },
   "outputs": [],
   "source": [
    "import requests\n",
    "import json\n",
    "# Прикладываю token и secret для проверки работоспособности, при публикации на github удалю\n",
    "token, secret = 'token', 'secret'\n",
    "\n",
    "# Функция делает POST запрос на сервер DaData и возвращает район улицы\n",
    "def get_data(street):\n",
    "    try:\n",
    "        response = requests.post(\n",
    "            'https://cleaner.dadata.ru/api/v1/clean/address',\n",
    "            data=f'[\"Москва, {street}\"]'.encode('utf-8'),\n",
    "            headers={'Content-Type': 'application/json', 'Accept': 'application/json', 'Authorization': f'Token {token}', 'X-Secret': secret}\n",
    "        )\n",
    "        return response.json()[0]['city_district']\n",
    "    except ConnectionError:\n",
    "        return None"
   ]
  },
  {
   "cell_type": "code",
   "execution_count": 47,
   "metadata": {
    "scrolled": false,
    "pycharm": {
     "name": "#%%\n"
    }
   },
   "outputs": [
    {
     "data": {
      "text/html": [
       "<div>\n",
       "<style scoped>\n",
       "    .dataframe tbody tr th:only-of-type {\n",
       "        vertical-align: middle;\n",
       "    }\n",
       "\n",
       "    .dataframe tbody tr th {\n",
       "        vertical-align: top;\n",
       "    }\n",
       "\n",
       "    .dataframe thead th {\n",
       "        text-align: right;\n",
       "    }\n",
       "</style>\n",
       "<table border=\"1\" class=\"dataframe\">\n",
       "  <thead>\n",
       "    <tr style=\"text-align: right;\">\n",
       "      <th></th>\n",
       "      <th>street</th>\n",
       "      <th>district</th>\n",
       "      <th>id</th>\n",
       "    </tr>\n",
       "  </thead>\n",
       "  <tbody>\n",
       "    <tr>\n",
       "      <th>0</th>\n",
       "      <td>проспект Мира</td>\n",
       "      <td>Марьина роща</td>\n",
       "      <td>197</td>\n",
       "    </tr>\n",
       "    <tr>\n",
       "      <th>1</th>\n",
       "      <td>Профсоюзная улица</td>\n",
       "      <td>Ясенево</td>\n",
       "      <td>181</td>\n",
       "    </tr>\n",
       "    <tr>\n",
       "      <th>2</th>\n",
       "      <td>Ленинградский проспект</td>\n",
       "      <td>Сокол</td>\n",
       "      <td>172</td>\n",
       "    </tr>\n",
       "    <tr>\n",
       "      <th>3</th>\n",
       "      <td>Пресненская набережная</td>\n",
       "      <td>Пресненский</td>\n",
       "      <td>165</td>\n",
       "    </tr>\n",
       "    <tr>\n",
       "      <th>4</th>\n",
       "      <td>Варшавское шоссе</td>\n",
       "      <td>Нагорный</td>\n",
       "      <td>164</td>\n",
       "    </tr>\n",
       "    <tr>\n",
       "      <th>5</th>\n",
       "      <td>Ленинский проспект</td>\n",
       "      <td>Теплый Стан</td>\n",
       "      <td>148</td>\n",
       "    </tr>\n",
       "    <tr>\n",
       "      <th>6</th>\n",
       "      <td>проспект Вернадского</td>\n",
       "      <td>Раменки</td>\n",
       "      <td>127</td>\n",
       "    </tr>\n",
       "    <tr>\n",
       "      <th>7</th>\n",
       "      <td>Кутузовский проспект</td>\n",
       "      <td>Дорогомилово</td>\n",
       "      <td>114</td>\n",
       "    </tr>\n",
       "    <tr>\n",
       "      <th>8</th>\n",
       "      <td>Каширское шоссе</td>\n",
       "      <td>Орехово-Борисово Северное</td>\n",
       "      <td>110</td>\n",
       "    </tr>\n",
       "    <tr>\n",
       "      <th>9</th>\n",
       "      <td>Кировоградская улица</td>\n",
       "      <td>Чертаново Южное</td>\n",
       "      <td>107</td>\n",
       "    </tr>\n",
       "  </tbody>\n",
       "</table>\n",
       "</div>"
      ],
      "text/plain": [
       "                   street                   district   id\n",
       "0           проспект Мира               Марьина роща  197\n",
       "1       Профсоюзная улица                    Ясенево  181\n",
       "2  Ленинградский проспект                      Сокол  172\n",
       "3  Пресненская набережная                Пресненский  165\n",
       "4        Варшавское шоссе                   Нагорный  164\n",
       "5      Ленинский проспект                Теплый Стан  148\n",
       "6    проспект Вернадского                    Раменки  127\n",
       "7    Кутузовский проспект               Дорогомилово  114\n",
       "8         Каширское шоссе  Орехово-Борисово Северное  110\n",
       "9    Кировоградская улица            Чертаново Южное  107"
      ]
     },
     "metadata": {},
     "output_type": "display_data"
    }
   ],
   "source": [
    "try:\n",
    "    pivot_table['district'] = pivot_table['street'].apply(get_data)\n",
    "except Exception:\n",
    "    pivot_table = pd.read_csv('https://drive.google.com/uc?id=1Fux3K7puVjYX41MEObugvgabNnMmDlqO')[['street','district', 'id']]\n",
    "finally:\n",
    "    display(pivot_table)"
   ]
  },
  {
   "cell_type": "code",
   "execution_count": 48,
   "metadata": {
    "scrolled": false,
    "pycharm": {
     "name": "#%%\n"
    }
   },
   "outputs": [
    {
     "data": {
      "image/png": "[encoded data removed]",
      "text/plain": [
       "<Figure size 720x432 with 1 Axes>"
      ]
     },
     "metadata": {},
     "output_type": "display_data"
    }
   ],
   "source": [
    "sns.barplot(x='id', y='district', data=pivot_table)\n",
    "plt.ylabel('Район')\n",
    "plt.xlabel('Количество')\n",
    "plt.title('Топ-10 районов Москвы по количеству объектов общественного питания')\n",
    "plt.show()"
   ]
  },
  {
   "cell_type": "code",
   "execution_count": 49,
   "metadata": {
    "pycharm": {
     "name": "#%%\n"
    }
   },
   "outputs": [
    {
     "data": {
      "text/html": [
       "<div>\n",
       "<style scoped>\n",
       "    .dataframe tbody tr th:only-of-type {\n",
       "        vertical-align: middle;\n",
       "    }\n",
       "\n",
       "    .dataframe tbody tr th {\n",
       "        vertical-align: top;\n",
       "    }\n",
       "\n",
       "    .dataframe thead th {\n",
       "        text-align: right;\n",
       "    }\n",
       "</style>\n",
       "<table border=\"1\" class=\"dataframe\">\n",
       "  <thead>\n",
       "    <tr style=\"text-align: right;\">\n",
       "      <th></th>\n",
       "      <th>streetname</th>\n",
       "      <th>areaid</th>\n",
       "      <th>okrug</th>\n",
       "      <th>area</th>\n",
       "    </tr>\n",
       "  </thead>\n",
       "  <tbody>\n",
       "    <tr>\n",
       "      <th>0</th>\n",
       "      <td>Выставочный переулок</td>\n",
       "      <td>17</td>\n",
       "      <td>ЦАО</td>\n",
       "      <td>Пресненский район</td>\n",
       "    </tr>\n",
       "    <tr>\n",
       "      <th>1</th>\n",
       "      <td>улица Гашека</td>\n",
       "      <td>17</td>\n",
       "      <td>ЦАО</td>\n",
       "      <td>Пресненский район</td>\n",
       "    </tr>\n",
       "    <tr>\n",
       "      <th>2</th>\n",
       "      <td>Большая Никитская улица</td>\n",
       "      <td>17</td>\n",
       "      <td>ЦАО</td>\n",
       "      <td>Пресненский район</td>\n",
       "    </tr>\n",
       "    <tr>\n",
       "      <th>3</th>\n",
       "      <td>Глубокий переулок</td>\n",
       "      <td>17</td>\n",
       "      <td>ЦАО</td>\n",
       "      <td>Пресненский район</td>\n",
       "    </tr>\n",
       "    <tr>\n",
       "      <th>4</th>\n",
       "      <td>Большой Гнездниковский переулок</td>\n",
       "      <td>17</td>\n",
       "      <td>ЦАО</td>\n",
       "      <td>Пресненский район</td>\n",
       "    </tr>\n",
       "    <tr>\n",
       "      <th>...</th>\n",
       "      <td>...</td>\n",
       "      <td>...</td>\n",
       "      <td>...</td>\n",
       "      <td>...</td>\n",
       "    </tr>\n",
       "    <tr>\n",
       "      <th>4393</th>\n",
       "      <td>Вознесенский проезд</td>\n",
       "      <td>17</td>\n",
       "      <td>ЦАО</td>\n",
       "      <td>Пресненский район</td>\n",
       "    </tr>\n",
       "    <tr>\n",
       "      <th>4394</th>\n",
       "      <td>Волков переулок</td>\n",
       "      <td>17</td>\n",
       "      <td>ЦАО</td>\n",
       "      <td>Пресненский район</td>\n",
       "    </tr>\n",
       "    <tr>\n",
       "      <th>4395</th>\n",
       "      <td>Поварская улица</td>\n",
       "      <td>17</td>\n",
       "      <td>ЦАО</td>\n",
       "      <td>Пресненский район</td>\n",
       "    </tr>\n",
       "    <tr>\n",
       "      <th>4396</th>\n",
       "      <td>Кудринская площадь</td>\n",
       "      <td>17</td>\n",
       "      <td>ЦАО</td>\n",
       "      <td>Пресненский район</td>\n",
       "    </tr>\n",
       "    <tr>\n",
       "      <th>4397</th>\n",
       "      <td>Вспольный переулок</td>\n",
       "      <td>17</td>\n",
       "      <td>ЦАО</td>\n",
       "      <td>Пресненский район</td>\n",
       "    </tr>\n",
       "  </tbody>\n",
       "</table>\n",
       "<p>4398 rows × 4 columns</p>\n",
       "</div>"
      ],
      "text/plain": [
       "                           streetname  areaid okrug               area\n",
       "0                Выставочный переулок      17   ЦАО  Пресненский район\n",
       "1                        улица Гашека      17   ЦАО  Пресненский район\n",
       "2             Большая Никитская улица      17   ЦАО  Пресненский район\n",
       "3                   Глубокий переулок      17   ЦАО  Пресненский район\n",
       "4     Большой Гнездниковский переулок      17   ЦАО  Пресненский район\n",
       "...                               ...     ...   ...                ...\n",
       "4393              Вознесенский проезд      17   ЦАО  Пресненский район\n",
       "4394                  Волков переулок      17   ЦАО  Пресненский район\n",
       "4395                  Поварская улица      17   ЦАО  Пресненский район\n",
       "4396               Кудринская площадь      17   ЦАО  Пресненский район\n",
       "4397               Вспольный переулок      17   ЦАО  Пресненский район\n",
       "\n",
       "[4398 rows x 4 columns]"
      ]
     },
     "execution_count": 49,
     "metadata": {},
     "output_type": "execute_result"
    }
   ],
   "source": [
    "streets = pd.read_csv('https://drive.google.com/uc?id=1Oz9fThjPIL3tmCPUMrlJKthd_K-i-_-X')\n",
    "streets"
   ]
  },
  {
   "cell_type": "code",
   "execution_count": 50,
   "metadata": {
    "pycharm": {
     "name": "#%%\n"
    }
   },
   "outputs": [
    {
     "data": {
      "text/html": [
       "<div>\n",
       "<style scoped>\n",
       "    .dataframe tbody tr th:only-of-type {\n",
       "        vertical-align: middle;\n",
       "    }\n",
       "\n",
       "    .dataframe tbody tr th {\n",
       "        vertical-align: top;\n",
       "    }\n",
       "\n",
       "    .dataframe thead th {\n",
       "        text-align: right;\n",
       "    }\n",
       "</style>\n",
       "<table border=\"1\" class=\"dataframe\">\n",
       "  <thead>\n",
       "    <tr style=\"text-align: right;\">\n",
       "      <th></th>\n",
       "      <th>streetname</th>\n",
       "      <th>count</th>\n",
       "      <th>areaid</th>\n",
       "      <th>okrug</th>\n",
       "      <th>area</th>\n",
       "    </tr>\n",
       "  </thead>\n",
       "  <tbody>\n",
       "    <tr>\n",
       "      <th>0</th>\n",
       "      <td>проспект Мира</td>\n",
       "      <td>197</td>\n",
       "      <td>70</td>\n",
       "      <td>СВАО</td>\n",
       "      <td>Алексеевский район</td>\n",
       "    </tr>\n",
       "    <tr>\n",
       "      <th>1</th>\n",
       "      <td>проспект Мира</td>\n",
       "      <td>197</td>\n",
       "      <td>86</td>\n",
       "      <td>СВАО</td>\n",
       "      <td>Ярославский Район</td>\n",
       "    </tr>\n",
       "    <tr>\n",
       "      <th>2</th>\n",
       "      <td>проспект Мира</td>\n",
       "      <td>197</td>\n",
       "      <td>78</td>\n",
       "      <td>СВАО</td>\n",
       "      <td>Район Марьина роща</td>\n",
       "    </tr>\n",
       "    <tr>\n",
       "      <th>3</th>\n",
       "      <td>проспект Мира</td>\n",
       "      <td>197</td>\n",
       "      <td>79</td>\n",
       "      <td>СВАО</td>\n",
       "      <td>Останкинский район</td>\n",
       "    </tr>\n",
       "    <tr>\n",
       "      <th>4</th>\n",
       "      <td>проспект Мира</td>\n",
       "      <td>197</td>\n",
       "      <td>81</td>\n",
       "      <td>СВАО</td>\n",
       "      <td>Район Ростокино</td>\n",
       "    </tr>\n",
       "    <tr>\n",
       "      <th>5</th>\n",
       "      <td>проспект Мира</td>\n",
       "      <td>197</td>\n",
       "      <td>82</td>\n",
       "      <td>СВАО</td>\n",
       "      <td>Район Свиблово</td>\n",
       "    </tr>\n",
       "    <tr>\n",
       "      <th>6</th>\n",
       "      <td>проспект Мира</td>\n",
       "      <td>197</td>\n",
       "      <td>16</td>\n",
       "      <td>ЦАО</td>\n",
       "      <td>Мещанский район</td>\n",
       "    </tr>\n",
       "    <tr>\n",
       "      <th>7</th>\n",
       "      <td>Профсоюзная улица</td>\n",
       "      <td>181</td>\n",
       "      <td>123</td>\n",
       "      <td>ЮЗАО</td>\n",
       "      <td>Академический район</td>\n",
       "    </tr>\n",
       "    <tr>\n",
       "      <th>8</th>\n",
       "      <td>Профсоюзная улица</td>\n",
       "      <td>181</td>\n",
       "      <td>132</td>\n",
       "      <td>ЮЗАО</td>\n",
       "      <td>Район Черемушки</td>\n",
       "    </tr>\n",
       "    <tr>\n",
       "      <th>9</th>\n",
       "      <td>Профсоюзная улица</td>\n",
       "      <td>181</td>\n",
       "      <td>134</td>\n",
       "      <td>ЮЗАО</td>\n",
       "      <td>Район Ясенево</td>\n",
       "    </tr>\n",
       "    <tr>\n",
       "      <th>10</th>\n",
       "      <td>Профсоюзная улица</td>\n",
       "      <td>181</td>\n",
       "      <td>126</td>\n",
       "      <td>ЮЗАО</td>\n",
       "      <td>Район Коньково</td>\n",
       "    </tr>\n",
       "    <tr>\n",
       "      <th>11</th>\n",
       "      <td>Профсоюзная улица</td>\n",
       "      <td>181</td>\n",
       "      <td>129</td>\n",
       "      <td>ЮЗАО</td>\n",
       "      <td>Обручевский район</td>\n",
       "    </tr>\n",
       "    <tr>\n",
       "      <th>12</th>\n",
       "      <td>Профсоюзная улица</td>\n",
       "      <td>181</td>\n",
       "      <td>131</td>\n",
       "      <td>ЮЗАО</td>\n",
       "      <td>Район Теплый Стан</td>\n",
       "    </tr>\n",
       "    <tr>\n",
       "      <th>13</th>\n",
       "      <td>Ленинградский проспект</td>\n",
       "      <td>172</td>\n",
       "      <td>54</td>\n",
       "      <td>САО</td>\n",
       "      <td>Район Аэропорт</td>\n",
       "    </tr>\n",
       "    <tr>\n",
       "      <th>14</th>\n",
       "      <td>Ленинградский проспект</td>\n",
       "      <td>172</td>\n",
       "      <td>55</td>\n",
       "      <td>САО</td>\n",
       "      <td>Район Беговой</td>\n",
       "    </tr>\n",
       "    <tr>\n",
       "      <th>15</th>\n",
       "      <td>Ленинградский проспект</td>\n",
       "      <td>172</td>\n",
       "      <td>69</td>\n",
       "      <td>САО</td>\n",
       "      <td>Хорошевский район</td>\n",
       "    </tr>\n",
       "    <tr>\n",
       "      <th>16</th>\n",
       "      <td>Ленинградский проспект</td>\n",
       "      <td>172</td>\n",
       "      <td>66</td>\n",
       "      <td>САО</td>\n",
       "      <td>Район Сокол</td>\n",
       "    </tr>\n",
       "    <tr>\n",
       "      <th>17</th>\n",
       "      <td>Пресненская набережная</td>\n",
       "      <td>165</td>\n",
       "      <td>17</td>\n",
       "      <td>ЦАО</td>\n",
       "      <td>Пресненский район</td>\n",
       "    </tr>\n",
       "    <tr>\n",
       "      <th>18</th>\n",
       "      <td>Варшавское шоссе</td>\n",
       "      <td>164</td>\n",
       "      <td>109</td>\n",
       "      <td>ЮАО</td>\n",
       "      <td>Район Чертаново Центральное</td>\n",
       "    </tr>\n",
       "    <tr>\n",
       "      <th>19</th>\n",
       "      <td>Варшавское шоссе</td>\n",
       "      <td>164</td>\n",
       "      <td>108</td>\n",
       "      <td>ЮАО</td>\n",
       "      <td>Район Чертаново Северное</td>\n",
       "    </tr>\n",
       "    <tr>\n",
       "      <th>20</th>\n",
       "      <td>Варшавское шоссе</td>\n",
       "      <td>164</td>\n",
       "      <td>110</td>\n",
       "      <td>ЮАО</td>\n",
       "      <td>Район Чертаново Южное</td>\n",
       "    </tr>\n",
       "    <tr>\n",
       "      <th>21</th>\n",
       "      <td>Варшавское шоссе</td>\n",
       "      <td>164</td>\n",
       "      <td>99</td>\n",
       "      <td>ЮАО</td>\n",
       "      <td>Донской район</td>\n",
       "    </tr>\n",
       "    <tr>\n",
       "      <th>22</th>\n",
       "      <td>Варшавское шоссе</td>\n",
       "      <td>164</td>\n",
       "      <td>102</td>\n",
       "      <td>ЮАО</td>\n",
       "      <td>Район Нагатино-Садовники</td>\n",
       "    </tr>\n",
       "    <tr>\n",
       "      <th>23</th>\n",
       "      <td>Варшавское шоссе</td>\n",
       "      <td>164</td>\n",
       "      <td>104</td>\n",
       "      <td>ЮАО</td>\n",
       "      <td>Нагорный район</td>\n",
       "    </tr>\n",
       "    <tr>\n",
       "      <th>24</th>\n",
       "      <td>Варшавское шоссе</td>\n",
       "      <td>164</td>\n",
       "      <td>130</td>\n",
       "      <td>ЮЗАО</td>\n",
       "      <td>Район Северное Бутово</td>\n",
       "    </tr>\n",
       "    <tr>\n",
       "      <th>25</th>\n",
       "      <td>Варшавское шоссе</td>\n",
       "      <td>164</td>\n",
       "      <td>133</td>\n",
       "      <td>ЮЗАО</td>\n",
       "      <td>Район Южное Бутово</td>\n",
       "    </tr>\n",
       "    <tr>\n",
       "      <th>26</th>\n",
       "      <td>Ленинский проспект</td>\n",
       "      <td>148</td>\n",
       "      <td>44</td>\n",
       "      <td>ЗАО</td>\n",
       "      <td>Район Проспект Вернадского</td>\n",
       "    </tr>\n",
       "    <tr>\n",
       "      <th>27</th>\n",
       "      <td>Ленинский проспект</td>\n",
       "      <td>148</td>\n",
       "      <td>47</td>\n",
       "      <td>ЗАО</td>\n",
       "      <td>Район Тропарево-Никулино</td>\n",
       "    </tr>\n",
       "    <tr>\n",
       "      <th>28</th>\n",
       "      <td>Ленинский проспект</td>\n",
       "      <td>148</td>\n",
       "      <td>99</td>\n",
       "      <td>ЮАО</td>\n",
       "      <td>Донской район</td>\n",
       "    </tr>\n",
       "    <tr>\n",
       "      <th>29</th>\n",
       "      <td>Ленинский проспект</td>\n",
       "      <td>148</td>\n",
       "      <td>124</td>\n",
       "      <td>ЮЗАО</td>\n",
       "      <td>Район Гагаринский</td>\n",
       "    </tr>\n",
       "    <tr>\n",
       "      <th>30</th>\n",
       "      <td>Ленинский проспект</td>\n",
       "      <td>148</td>\n",
       "      <td>128</td>\n",
       "      <td>ЮЗАО</td>\n",
       "      <td>Ломоносовский район</td>\n",
       "    </tr>\n",
       "    <tr>\n",
       "      <th>31</th>\n",
       "      <td>Ленинский проспект</td>\n",
       "      <td>148</td>\n",
       "      <td>129</td>\n",
       "      <td>ЮЗАО</td>\n",
       "      <td>Обручевский район</td>\n",
       "    </tr>\n",
       "    <tr>\n",
       "      <th>32</th>\n",
       "      <td>Ленинский проспект</td>\n",
       "      <td>148</td>\n",
       "      <td>131</td>\n",
       "      <td>ЮЗАО</td>\n",
       "      <td>Район Теплый Стан</td>\n",
       "    </tr>\n",
       "    <tr>\n",
       "      <th>33</th>\n",
       "      <td>Ленинский проспект</td>\n",
       "      <td>148</td>\n",
       "      <td>21</td>\n",
       "      <td>ЦАО</td>\n",
       "      <td>Район Якиманка</td>\n",
       "    </tr>\n",
       "    <tr>\n",
       "      <th>34</th>\n",
       "      <td>проспект Вернадского</td>\n",
       "      <td>127</td>\n",
       "      <td>44</td>\n",
       "      <td>ЗАО</td>\n",
       "      <td>Район Проспект Вернадского</td>\n",
       "    </tr>\n",
       "    <tr>\n",
       "      <th>35</th>\n",
       "      <td>проспект Вернадского</td>\n",
       "      <td>127</td>\n",
       "      <td>45</td>\n",
       "      <td>ЗАО</td>\n",
       "      <td>Район Раменки</td>\n",
       "    </tr>\n",
       "    <tr>\n",
       "      <th>36</th>\n",
       "      <td>проспект Вернадского</td>\n",
       "      <td>127</td>\n",
       "      <td>47</td>\n",
       "      <td>ЗАО</td>\n",
       "      <td>Район Тропарево-Никулино</td>\n",
       "    </tr>\n",
       "    <tr>\n",
       "      <th>37</th>\n",
       "      <td>проспект Вернадского</td>\n",
       "      <td>127</td>\n",
       "      <td>124</td>\n",
       "      <td>ЮЗАО</td>\n",
       "      <td>Район Гагаринский</td>\n",
       "    </tr>\n",
       "    <tr>\n",
       "      <th>38</th>\n",
       "      <td>проспект Вернадского</td>\n",
       "      <td>127</td>\n",
       "      <td>128</td>\n",
       "      <td>ЮЗАО</td>\n",
       "      <td>Ломоносовский район</td>\n",
       "    </tr>\n",
       "    <tr>\n",
       "      <th>39</th>\n",
       "      <td>Кутузовский проспект</td>\n",
       "      <td>114</td>\n",
       "      <td>38</td>\n",
       "      <td>ЗАО</td>\n",
       "      <td>Район Дорогомилово</td>\n",
       "    </tr>\n",
       "    <tr>\n",
       "      <th>40</th>\n",
       "      <td>Кутузовский проспект</td>\n",
       "      <td>114</td>\n",
       "      <td>49</td>\n",
       "      <td>ЗАО</td>\n",
       "      <td>Район Фили-Давыдково</td>\n",
       "    </tr>\n",
       "    <tr>\n",
       "      <th>41</th>\n",
       "      <td>Каширское шоссе</td>\n",
       "      <td>110</td>\n",
       "      <td>101</td>\n",
       "      <td>ЮАО</td>\n",
       "      <td>Район Москворечье-Сабурово</td>\n",
       "    </tr>\n",
       "    <tr>\n",
       "      <th>42</th>\n",
       "      <td>Каширское шоссе</td>\n",
       "      <td>110</td>\n",
       "      <td>102</td>\n",
       "      <td>ЮАО</td>\n",
       "      <td>Район Нагатино-Садовники</td>\n",
       "    </tr>\n",
       "    <tr>\n",
       "      <th>43</th>\n",
       "      <td>Каширское шоссе</td>\n",
       "      <td>110</td>\n",
       "      <td>106</td>\n",
       "      <td>ЮАО</td>\n",
       "      <td>Район Орехово-Борисово Южное</td>\n",
       "    </tr>\n",
       "    <tr>\n",
       "      <th>44</th>\n",
       "      <td>Каширское шоссе</td>\n",
       "      <td>110</td>\n",
       "      <td>105</td>\n",
       "      <td>ЮАО</td>\n",
       "      <td>Район Орехово-Борисово Северное</td>\n",
       "    </tr>\n",
       "    <tr>\n",
       "      <th>45</th>\n",
       "      <td>Кировоградская улица</td>\n",
       "      <td>107</td>\n",
       "      <td>109</td>\n",
       "      <td>ЮАО</td>\n",
       "      <td>Район Чертаново Центральное</td>\n",
       "    </tr>\n",
       "    <tr>\n",
       "      <th>46</th>\n",
       "      <td>Кировоградская улица</td>\n",
       "      <td>107</td>\n",
       "      <td>108</td>\n",
       "      <td>ЮАО</td>\n",
       "      <td>Район Чертаново Северное</td>\n",
       "    </tr>\n",
       "    <tr>\n",
       "      <th>47</th>\n",
       "      <td>Кировоградская улица</td>\n",
       "      <td>107</td>\n",
       "      <td>110</td>\n",
       "      <td>ЮАО</td>\n",
       "      <td>Район Чертаново Южное</td>\n",
       "    </tr>\n",
       "  </tbody>\n",
       "</table>\n",
       "</div>"
      ],
      "text/plain": [
       "                streetname  count  areaid okrug  \\\n",
       "0            проспект Мира    197      70  СВАО   \n",
       "1            проспект Мира    197      86  СВАО   \n",
       "2            проспект Мира    197      78  СВАО   \n",
       "3            проспект Мира    197      79  СВАО   \n",
       "4            проспект Мира    197      81  СВАО   \n",
       "5            проспект Мира    197      82  СВАО   \n",
       "6            проспект Мира    197      16   ЦАО   \n",
       "7        Профсоюзная улица    181     123  ЮЗАО   \n",
       "8        Профсоюзная улица    181     132  ЮЗАО   \n",
       "9        Профсоюзная улица    181     134  ЮЗАО   \n",
       "10       Профсоюзная улица    181     126  ЮЗАО   \n",
       "11       Профсоюзная улица    181     129  ЮЗАО   \n",
       "12       Профсоюзная улица    181     131  ЮЗАО   \n",
       "13  Ленинградский проспект    172      54   САО   \n",
       "14  Ленинградский проспект    172      55   САО   \n",
       "15  Ленинградский проспект    172      69   САО   \n",
       "16  Ленинградский проспект    172      66   САО   \n",
       "17  Пресненская набережная    165      17   ЦАО   \n",
       "18        Варшавское шоссе    164     109   ЮАО   \n",
       "19        Варшавское шоссе    164     108   ЮАО   \n",
       "20        Варшавское шоссе    164     110   ЮАО   \n",
       "21        Варшавское шоссе    164      99   ЮАО   \n",
       "22        Варшавское шоссе    164     102   ЮАО   \n",
       "23        Варшавское шоссе    164     104   ЮАО   \n",
       "24        Варшавское шоссе    164     130  ЮЗАО   \n",
       "25        Варшавское шоссе    164     133  ЮЗАО   \n",
       "26      Ленинский проспект    148      44   ЗАО   \n",
       "27      Ленинский проспект    148      47   ЗАО   \n",
       "28      Ленинский проспект    148      99   ЮАО   \n",
       "29      Ленинский проспект    148     124  ЮЗАО   \n",
       "30      Ленинский проспект    148     128  ЮЗАО   \n",
       "31      Ленинский проспект    148     129  ЮЗАО   \n",
       "32      Ленинский проспект    148     131  ЮЗАО   \n",
       "33      Ленинский проспект    148      21   ЦАО   \n",
       "34    проспект Вернадского    127      44   ЗАО   \n",
       "35    проспект Вернадского    127      45   ЗАО   \n",
       "36    проспект Вернадского    127      47   ЗАО   \n",
       "37    проспект Вернадского    127     124  ЮЗАО   \n",
       "38    проспект Вернадского    127     128  ЮЗАО   \n",
       "39    Кутузовский проспект    114      38   ЗАО   \n",
       "40    Кутузовский проспект    114      49   ЗАО   \n",
       "41         Каширское шоссе    110     101   ЮАО   \n",
       "42         Каширское шоссе    110     102   ЮАО   \n",
       "43         Каширское шоссе    110     106   ЮАО   \n",
       "44         Каширское шоссе    110     105   ЮАО   \n",
       "45    Кировоградская улица    107     109   ЮАО   \n",
       "46    Кировоградская улица    107     108   ЮАО   \n",
       "47    Кировоградская улица    107     110   ЮАО   \n",
       "\n",
       "                               area  \n",
       "0                Алексеевский район  \n",
       "1                 Ярославский Район  \n",
       "2                Район Марьина роща  \n",
       "3                Останкинский район  \n",
       "4                   Район Ростокино  \n",
       "5                    Район Свиблово  \n",
       "6                   Мещанский район  \n",
       "7               Академический район  \n",
       "8                   Район Черемушки  \n",
       "9                     Район Ясенево  \n",
       "10                   Район Коньково  \n",
       "11                Обручевский район  \n",
       "12                Район Теплый Стан  \n",
       "13                   Район Аэропорт  \n",
       "14                    Район Беговой  \n",
       "15                Хорошевский район  \n",
       "16                      Район Сокол  \n",
       "17                Пресненский район  \n",
       "18      Район Чертаново Центральное  \n",
       "19         Район Чертаново Северное  \n",
       "20            Район Чертаново Южное  \n",
       "21                    Донской район  \n",
       "22         Район Нагатино-Садовники  \n",
       "23                   Нагорный район  \n",
       "24            Район Северное Бутово  \n",
       "25               Район Южное Бутово  \n",
       "26       Район Проспект Вернадского  \n",
       "27         Район Тропарево-Никулино  \n",
       "28                    Донской район  \n",
       "29                Район Гагаринский  \n",
       "30              Ломоносовский район  \n",
       "31                Обручевский район  \n",
       "32                Район Теплый Стан  \n",
       "33                   Район Якиманка  \n",
       "34       Район Проспект Вернадского  \n",
       "35                    Район Раменки  \n",
       "36         Район Тропарево-Никулино  \n",
       "37                Район Гагаринский  \n",
       "38              Ломоносовский район  \n",
       "39               Район Дорогомилово  \n",
       "40             Район Фили-Давыдково  \n",
       "41       Район Москворечье-Сабурово  \n",
       "42         Район Нагатино-Садовники  \n",
       "43     Район Орехово-Борисово Южное  \n",
       "44  Район Орехово-Борисово Северное  \n",
       "45      Район Чертаново Центральное  \n",
       "46         Район Чертаново Северное  \n",
       "47            Район Чертаново Южное  "
      ]
     },
     "execution_count": 50,
     "metadata": {},
     "output_type": "execute_result"
    }
   ],
   "source": [
    "pivot_table = data.pivot_table(index='street', values='id', aggfunc='count').sort_values(by='id', ascending=False).head(10).reset_index()\n",
    "pivot_table.columns = ['streetname', 'count']\n",
    "pivot_table = pivot_table.merge(streets, on='streetname', how='left')\n",
    "pivot_table"
   ]
  },
  {
   "cell_type": "code",
   "execution_count": 51,
   "metadata": {
    "pycharm": {
     "name": "#%%\n"
    }
   },
   "outputs": [
    {
     "data": {
      "text/html": [
       "<div>\n",
       "<style scoped>\n",
       "    .dataframe tbody tr th:only-of-type {\n",
       "        vertical-align: middle;\n",
       "    }\n",
       "\n",
       "    .dataframe tbody tr th {\n",
       "        vertical-align: top;\n",
       "    }\n",
       "\n",
       "    .dataframe thead th {\n",
       "        text-align: right;\n",
       "    }\n",
       "</style>\n",
       "<table border=\"1\" class=\"dataframe\">\n",
       "  <thead>\n",
       "    <tr style=\"text-align: right;\">\n",
       "      <th></th>\n",
       "      <th>area</th>\n",
       "    </tr>\n",
       "    <tr>\n",
       "      <th>streetname</th>\n",
       "      <th></th>\n",
       "    </tr>\n",
       "  </thead>\n",
       "  <tbody>\n",
       "    <tr>\n",
       "      <th>Варшавское шоссе</th>\n",
       "      <td>Район Чертаново Центральное, Район Чертаново Северное, Район Чертаново Южное, Донской район, Район Нагатино-Садовники, Нагорный район, Район Северное Бутово, Район Южное Бутово</td>\n",
       "    </tr>\n",
       "    <tr>\n",
       "      <th>Каширское шоссе</th>\n",
       "      <td>Район Москворечье-Сабурово, Район Нагатино-Садовники, Район Орехово-Борисово Южное, Район Орехово-Борисово Северное</td>\n",
       "    </tr>\n",
       "    <tr>\n",
       "      <th>Кировоградская улица</th>\n",
       "      <td>Район Чертаново Центральное, Район Чертаново Северное, Район Чертаново Южное</td>\n",
       "    </tr>\n",
       "    <tr>\n",
       "      <th>Кутузовский проспект</th>\n",
       "      <td>Район Дорогомилово, Район Фили-Давыдково</td>\n",
       "    </tr>\n",
       "    <tr>\n",
       "      <th>Ленинградский проспект</th>\n",
       "      <td>Район Аэропорт, Район Беговой, Хорошевский район, Район Сокол</td>\n",
       "    </tr>\n",
       "    <tr>\n",
       "      <th>Ленинский проспект</th>\n",
       "      <td>Район Проспект Вернадского, Район Тропарево-Никулино, Донской район, Район Гагаринский, Ломоносовский район, Обручевский район, Район Теплый Стан, Район Якиманка</td>\n",
       "    </tr>\n",
       "    <tr>\n",
       "      <th>Пресненская набережная</th>\n",
       "      <td>Пресненский район</td>\n",
       "    </tr>\n",
       "    <tr>\n",
       "      <th>Профсоюзная улица</th>\n",
       "      <td>Академический район, Район Черемушки, Район Ясенево, Район Коньково, Обручевский район, Район Теплый Стан</td>\n",
       "    </tr>\n",
       "    <tr>\n",
       "      <th>проспект Вернадского</th>\n",
       "      <td>Район Проспект Вернадского, Район Раменки, Район Тропарево-Никулино, Район Гагаринский, Ломоносовский район</td>\n",
       "    </tr>\n",
       "    <tr>\n",
       "      <th>проспект Мира</th>\n",
       "      <td>Алексеевский район, Ярославский Район, Район Марьина роща, Останкинский район, Район Ростокино, Район Свиблово, Мещанский район</td>\n",
       "    </tr>\n",
       "  </tbody>\n",
       "</table>\n",
       "</div>"
      ],
      "text/plain": [
       "                                                                                                                                                                                                    area\n",
       "streetname                                                                                                                                                                                              \n",
       "Варшавское шоссе        Район Чертаново Центральное, Район Чертаново Северное, Район Чертаново Южное, Донской район, Район Нагатино-Садовники, Нагорный район, Район Северное Бутово, Район Южное Бутово\n",
       "Каширское шоссе                                                                      Район Москворечье-Сабурово, Район Нагатино-Садовники, Район Орехово-Борисово Южное, Район Орехово-Борисово Северное\n",
       "Кировоградская улица                                                                                                        Район Чертаново Центральное, Район Чертаново Северное, Район Чертаново Южное\n",
       "Кутузовский проспект                                                                                                                                            Район Дорогомилово, Район Фили-Давыдково\n",
       "Ленинградский проспект                                                                                                                     Район Аэропорт, Район Беговой, Хорошевский район, Район Сокол\n",
       "Ленинский проспект                     Район Проспект Вернадского, Район Тропарево-Никулино, Донской район, Район Гагаринский, Ломоносовский район, Обручевский район, Район Теплый Стан, Район Якиманка\n",
       "Пресненская набережная                                                                                                                                                                 Пресненский район\n",
       "Профсоюзная улица                                                                              Академический район, Район Черемушки, Район Ясенево, Район Коньково, Обручевский район, Район Теплый Стан\n",
       "проспект Вернадского                                                                         Район Проспект Вернадского, Район Раменки, Район Тропарево-Никулино, Район Гагаринский, Ломоносовский район\n",
       "проспект Мира                                                            Алексеевский район, Ярославский Район, Район Марьина роща, Останкинский район, Район Ростокино, Район Свиблово, Мещанский район"
      ]
     },
     "execution_count": 51,
     "metadata": {},
     "output_type": "execute_result"
    }
   ],
   "source": [
    "pd.set_option('display.max_colwidth', None)\n",
    "pd.DataFrame(pivot_table.groupby('streetname')['area'].apply(lambda x: \"%s\" % ', '.join(x)))"
   ]
  },
  {
   "cell_type": "markdown",
   "metadata": {
    "pycharm": {
     "name": "#%% md\n"
    }
   },
   "source": [
    "Больше всего заведений общественного питания в следующих районах: Марьина роща, Ясенево, Сокол, Пресненский район и Нагорный."
   ]
  },
  {
   "cell_type": "markdown",
   "metadata": {
    "pycharm": {
     "name": "#%% md\n"
    }
   },
   "source": [
    "### Число улиц с одним объектом общественного питания"
   ]
  },
  {
   "cell_type": "code",
   "execution_count": 52,
   "metadata": {
    "pycharm": {
     "name": "#%%\n"
    }
   },
   "outputs": [
    {
     "data": {
      "text/html": [
       "<div>\n",
       "<style scoped>\n",
       "    .dataframe tbody tr th:only-of-type {\n",
       "        vertical-align: middle;\n",
       "    }\n",
       "\n",
       "    .dataframe tbody tr th {\n",
       "        vertical-align: top;\n",
       "    }\n",
       "\n",
       "    .dataframe thead th {\n",
       "        text-align: right;\n",
       "    }\n",
       "</style>\n",
       "<table border=\"1\" class=\"dataframe\">\n",
       "  <thead>\n",
       "    <tr style=\"text-align: right;\">\n",
       "      <th></th>\n",
       "      <th>street</th>\n",
       "      <th>district</th>\n",
       "    </tr>\n",
       "  </thead>\n",
       "  <tbody>\n",
       "    <tr>\n",
       "      <th>0</th>\n",
       "      <td>3-й Павловский переулок</td>\n",
       "      <td>Даниловский</td>\n",
       "    </tr>\n",
       "    <tr>\n",
       "      <th>1</th>\n",
       "      <td>улица Девятая Рота</td>\n",
       "      <td>Преображенское</td>\n",
       "    </tr>\n",
       "    <tr>\n",
       "      <th>2</th>\n",
       "      <td>улица Захарьинские Дворики</td>\n",
       "      <td>Южное Бутово</td>\n",
       "    </tr>\n",
       "    <tr>\n",
       "      <th>3</th>\n",
       "      <td>улица Корнея Чуковского</td>\n",
       "      <td>Новомосковский</td>\n",
       "    </tr>\n",
       "    <tr>\n",
       "      <th>4</th>\n",
       "      <td>Газгольдерная улица</td>\n",
       "      <td>Нижегородский</td>\n",
       "    </tr>\n",
       "    <tr>\n",
       "      <th>...</th>\n",
       "      <td>...</td>\n",
       "      <td>...</td>\n",
       "    </tr>\n",
       "    <tr>\n",
       "      <th>546</th>\n",
       "      <td>Кунцевская улица</td>\n",
       "      <td>Кунцево</td>\n",
       "    </tr>\n",
       "    <tr>\n",
       "      <th>547</th>\n",
       "      <td>Кулаков переулок</td>\n",
       "      <td>Алексеевский</td>\n",
       "    </tr>\n",
       "    <tr>\n",
       "      <th>548</th>\n",
       "      <td>Кузьминская улица</td>\n",
       "      <td>Выхино-Жулебино</td>\n",
       "    </tr>\n",
       "    <tr>\n",
       "      <th>549</th>\n",
       "      <td>2-я Сокольническая улица</td>\n",
       "      <td>Сокольники</td>\n",
       "    </tr>\n",
       "    <tr>\n",
       "      <th>550</th>\n",
       "      <td>4-я Гражданская улица</td>\n",
       "      <td>Богородское</td>\n",
       "    </tr>\n",
       "  </tbody>\n",
       "</table>\n",
       "<p>551 rows × 2 columns</p>\n",
       "</div>"
      ],
      "text/plain": [
       "                         street         district\n",
       "0       3-й Павловский переулок      Даниловский\n",
       "1            улица Девятая Рота   Преображенское\n",
       "2    улица Захарьинские Дворики     Южное Бутово\n",
       "3       улица Корнея Чуковского   Новомосковский\n",
       "4           Газгольдерная улица    Нижегородский\n",
       "..                          ...              ...\n",
       "546            Кунцевская улица          Кунцево\n",
       "547            Кулаков переулок     Алексеевский\n",
       "548           Кузьминская улица  Выхино-Жулебино\n",
       "549    2-я Сокольническая улица       Сокольники\n",
       "550       4-я Гражданская улица      Богородское\n",
       "\n",
       "[551 rows x 2 columns]"
      ]
     },
     "metadata": {},
     "output_type": "display_data"
    }
   ],
   "source": [
    "try:\n",
    "    pivot_table = data.pivot_table(index='street', values='id', aggfunc='count').sort_values(by='id', ascending=False).reset_index()\n",
    "    pivot_table = pivot_table[pivot_table['id']==1].reset_index(drop=True)\n",
    "    pivot_table['district'] = pivot_table['street'].apply(get_data)\n",
    "    pivot_table = pivot_table[['street', 'district']]\n",
    "except Exception:\n",
    "    pivot_table = pd.read_csv('https://drive.google.com/uc?id=1g2nh69TKrYxC8URUd6LMlDzgk1xvnMM2')[['street','district']]\n",
    "finally:\n",
    "    display(pivot_table)"
   ]
  },
  {
   "cell_type": "code",
   "execution_count": 53,
   "metadata": {
    "scrolled": false,
    "pycharm": {
     "name": "#%%\n"
    }
   },
   "outputs": [
    {
     "data": {
      "image/png": "[encoded data removed]",
      "text/plain": [
       "<Figure size 720x432 with 1 Axes>"
      ]
     },
     "metadata": {},
     "output_type": "display_data"
    }
   ],
   "source": [
    "sns.countplot(y='district', data=pivot_table, order=pivot_table['district'].value_counts().head(10).index)\n",
    "plt.ylabel('Район')\n",
    "plt.xlabel('Количество')\n",
    "plt.title('Топ-10 районов Москвы с одним объектом общественного питания')\n",
    "plt.show()"
   ]
  },
  {
   "cell_type": "markdown",
   "metadata": {
    "pycharm": {
     "name": "#%% md\n"
    }
   },
   "source": [
    "Больше всего улиц с одним объектом общественного питания в Таганском, Басманном районах, Хамовниках и Тверской."
   ]
  },
  {
   "cell_type": "markdown",
   "metadata": {
    "pycharm": {
     "name": "#%% md\n"
    }
   },
   "source": [
    "# Вывод"
   ]
  },
  {
   "cell_type": "markdown",
   "metadata": {
    "pycharm": {
     "name": "#%% md\n"
    }
   },
   "source": [
    "В данной работе был проведен анализ заведений общественного питания Москвы по различным критериям.\n",
    "\n",
    "Основываясь на результатах работы, можно сделать следующие рекомендации по открытию общественного заведения в Москве:\n",
    "* Открытие кафе целесообразно, поскольку они пользуются популярностью. Однако необходимо уделить пристальное внимание конкурентным преимуществам, которые позволят выделить новое заведение на фоне остальных.\n",
    "* Москве свойствено распространение несетевых заведений. Это означает, что конкуренция со стороны крупных игроков рынка общественного питания не будет составлять существенной угрозы. Только 23% всех кафе в Москве являются сетевыми. При этом сетевое распределение наиболее характерно для предприятий быстрого обслуживания, отделов кулинарии в магазинах и ресторанов.\n",
    "* Для сетевых и несетевых заведений характерно наличие небольшого количества мест (от 0 до 50). Больше всего посадочных мест в столовых, ресторанах и буфетах. Рекомендуемое количество посадочных мест в кафе составляет 40 мест.\n",
    "* Больше всего объектов общественного питания на проспекте Мира, Профсоюзной улице, Ленинградском проспекте, Пресненской набережной и Варшавском шоссе (Марьина роща, Ясенево, Сокол, Пресненский район и Нагорный районы). Открытие кафе в этих районах рекомендуется только при наличии значительных конкурентных преимуществ.\n",
    "* При этом меньше всего заведений общественного питания на улицах в Таганском, Басманном районах, Хамовниках и Тверской. Открытие кафе в этих районах рекомендуется при достаточном прогнозном значении спроса. \n",
    "\n",
    "Таким образом, обслуживание посетителей заведения с помощью роботов позволит добиться успеха кафе в краткосрочной и среднесрочной перспективе. Однако в долгосрочной песпективе преимущество, полученное за счет внедрения инноваций в обслуживании, может сойти на нет, поэтому кафе придется искать новые драйверы роста."
   ]
  }
 ],
 "metadata": {
  "ExecuteTimeLog": [
   {
    "duration": 4,
    "start_time": "2022-05-20T06:56:28.965Z"
   },
   {
    "duration": 1774,
    "start_time": "2022-05-20T07:02:03.874Z"
   },
   {
    "duration": 3,
    "start_time": "2022-05-20T07:02:06.280Z"
   },
   {
    "duration": 253,
    "start_time": "2022-05-20T07:03:39.836Z"
   },
   {
    "duration": 13,
    "start_time": "2022-05-20T07:03:51.025Z"
   },
   {
    "duration": 21,
    "start_time": "2022-05-20T07:06:49.930Z"
   },
   {
    "duration": 3,
    "start_time": "2022-05-20T07:07:16.983Z"
   },
   {
    "duration": 15,
    "start_time": "2022-05-20T07:07:20.231Z"
   },
   {
    "duration": 17,
    "start_time": "2022-05-20T07:10:17.507Z"
   },
   {
    "duration": 15,
    "start_time": "2022-05-20T07:11:13.657Z"
   },
   {
    "duration": 16,
    "start_time": "2022-05-20T07:11:45.567Z"
   },
   {
    "duration": 26,
    "start_time": "2022-05-20T07:11:51.049Z"
   },
   {
    "duration": 14,
    "start_time": "2022-05-20T07:12:35.745Z"
   },
   {
    "duration": 20,
    "start_time": "2022-05-20T07:14:01.482Z"
   },
   {
    "duration": 23,
    "start_time": "2022-05-20T07:14:41.850Z"
   },
   {
    "duration": 128,
    "start_time": "2022-05-20T07:14:59.672Z"
   },
   {
    "duration": 21,
    "start_time": "2022-05-20T07:15:04.831Z"
   },
   {
    "duration": 24,
    "start_time": "2022-05-20T07:15:10.168Z"
   },
   {
    "duration": 19,
    "start_time": "2022-05-20T07:15:12.639Z"
   },
   {
    "duration": 26,
    "start_time": "2022-05-20T07:15:28.360Z"
   },
   {
    "duration": 29,
    "start_time": "2022-05-20T07:16:21.307Z"
   },
   {
    "duration": 13,
    "start_time": "2022-05-20T07:19:54.114Z"
   },
   {
    "duration": 18,
    "start_time": "2022-05-20T07:20:00.239Z"
   },
   {
    "duration": 5,
    "start_time": "2022-05-20T07:23:05.594Z"
   },
   {
    "duration": 11,
    "start_time": "2022-05-20T07:23:09.994Z"
   },
   {
    "duration": 7,
    "start_time": "2022-05-20T07:23:12.951Z"
   },
   {
    "duration": 10,
    "start_time": "2022-05-20T07:23:22.847Z"
   },
   {
    "duration": 13,
    "start_time": "2022-05-20T07:23:27.993Z"
   },
   {
    "duration": 7,
    "start_time": "2022-05-20T07:23:35.879Z"
   },
   {
    "duration": 6,
    "start_time": "2022-05-20T07:23:46.351Z"
   },
   {
    "duration": 40,
    "start_time": "2022-05-20T07:24:50.375Z"
   },
   {
    "duration": 6,
    "start_time": "2022-05-20T07:27:29.008Z"
   },
   {
    "duration": 4,
    "start_time": "2022-05-20T07:27:38.731Z"
   },
   {
    "duration": 6,
    "start_time": "2022-05-20T07:27:42.254Z"
   },
   {
    "duration": 14,
    "start_time": "2022-05-20T07:28:42.431Z"
   },
   {
    "duration": 14,
    "start_time": "2022-05-20T07:28:51.154Z"
   },
   {
    "duration": 360,
    "start_time": "2022-05-20T07:34:26.490Z"
   },
   {
    "duration": 16,
    "start_time": "2022-05-20T07:34:32.743Z"
   },
   {
    "duration": 2,
    "start_time": "2022-05-20T07:35:38.976Z"
   },
   {
    "duration": 1623,
    "start_time": "2022-05-25T13:28:35.569Z"
   },
   {
    "duration": 247,
    "start_time": "2022-05-25T13:28:37.195Z"
   },
   {
    "duration": 17,
    "start_time": "2022-05-25T13:28:37.445Z"
   },
   {
    "duration": 23,
    "start_time": "2022-05-25T13:28:37.464Z"
   },
   {
    "duration": 19,
    "start_time": "2022-05-25T13:28:37.489Z"
   },
   {
    "duration": 50,
    "start_time": "2022-05-25T13:28:37.510Z"
   },
   {
    "duration": 23,
    "start_time": "2022-05-25T13:28:37.562Z"
   },
   {
    "duration": 24,
    "start_time": "2022-05-25T13:28:37.588Z"
   },
   {
    "duration": 18,
    "start_time": "2022-05-25T13:28:37.614Z"
   },
   {
    "duration": 7,
    "start_time": "2022-05-25T13:28:37.659Z"
   },
   {
    "duration": 12,
    "start_time": "2022-05-25T13:28:37.667Z"
   },
   {
    "duration": 14,
    "start_time": "2022-05-25T13:28:37.681Z"
   },
   {
    "duration": 6,
    "start_time": "2022-05-25T13:28:37.696Z"
   },
   {
    "duration": 108,
    "start_time": "2022-05-25T13:29:01.532Z"
   },
   {
    "duration": 126,
    "start_time": "2022-05-25T13:29:05.894Z"
   },
   {
    "duration": 16,
    "start_time": "2022-05-25T13:31:16.557Z"
   },
   {
    "duration": 66,
    "start_time": "2022-05-25T13:31:45.234Z"
   },
   {
    "duration": 53,
    "start_time": "2022-05-25T13:31:59.915Z"
   },
   {
    "duration": 14,
    "start_time": "2022-05-25T13:32:03.330Z"
   },
   {
    "duration": 18,
    "start_time": "2022-05-25T13:32:41.636Z"
   },
   {
    "duration": 160,
    "start_time": "2022-05-25T13:33:14.443Z"
   },
   {
    "duration": 160,
    "start_time": "2022-05-25T13:33:20.362Z"
   },
   {
    "duration": 5,
    "start_time": "2022-05-25T13:33:40.948Z"
   },
   {
    "duration": 211,
    "start_time": "2022-05-25T13:33:45.626Z"
   },
   {
    "duration": 4,
    "start_time": "2022-05-25T13:33:58.307Z"
   },
   {
    "duration": 214,
    "start_time": "2022-05-25T13:34:01.634Z"
   },
   {
    "duration": 4,
    "start_time": "2022-05-25T13:34:14.562Z"
   },
   {
    "duration": 224,
    "start_time": "2022-05-25T13:34:17.437Z"
   },
   {
    "duration": 5,
    "start_time": "2022-05-25T13:34:36.537Z"
   },
   {
    "duration": 192,
    "start_time": "2022-05-25T13:34:41.114Z"
   },
   {
    "duration": 282,
    "start_time": "2022-05-25T13:35:27.115Z"
   },
   {
    "duration": 184,
    "start_time": "2022-05-25T13:36:25.157Z"
   },
   {
    "duration": 173,
    "start_time": "2022-05-25T13:36:44.121Z"
   },
   {
    "duration": 165,
    "start_time": "2022-05-25T13:36:52.579Z"
   },
   {
    "duration": 201,
    "start_time": "2022-05-25T13:36:59.459Z"
   },
   {
    "duration": 321,
    "start_time": "2022-05-25T13:38:10.826Z"
   },
   {
    "duration": 13,
    "start_time": "2022-05-25T13:39:00.193Z"
   },
   {
    "duration": 12,
    "start_time": "2022-05-25T13:39:11.818Z"
   },
   {
    "duration": 236,
    "start_time": "2022-05-25T13:39:36.938Z"
   },
   {
    "duration": 4,
    "start_time": "2022-05-25T13:39:45.456Z"
   },
   {
    "duration": 205,
    "start_time": "2022-05-25T13:39:48.225Z"
   },
   {
    "duration": 3,
    "start_time": "2022-05-25T13:44:58.082Z"
   },
   {
    "duration": 158,
    "start_time": "2022-05-25T13:47:33.101Z"
   },
   {
    "duration": 127,
    "start_time": "2022-05-25T13:47:47.923Z"
   },
   {
    "duration": 1860,
    "start_time": "2022-05-26T08:35:41.434Z"
   },
   {
    "duration": 248,
    "start_time": "2022-05-26T08:35:43.297Z"
   },
   {
    "duration": 19,
    "start_time": "2022-05-26T08:35:43.546Z"
   },
   {
    "duration": 19,
    "start_time": "2022-05-26T08:35:43.566Z"
   },
   {
    "duration": 62,
    "start_time": "2022-05-26T08:35:43.587Z"
   },
   {
    "duration": 15,
    "start_time": "2022-05-26T08:35:43.651Z"
   },
   {
    "duration": 14,
    "start_time": "2022-05-26T08:35:43.667Z"
   },
   {
    "duration": 35,
    "start_time": "2022-05-26T08:35:43.683Z"
   },
   {
    "duration": 28,
    "start_time": "2022-05-26T08:35:43.722Z"
   },
   {
    "duration": 7,
    "start_time": "2022-05-26T08:35:43.752Z"
   },
   {
    "duration": 10,
    "start_time": "2022-05-26T08:35:43.760Z"
   },
   {
    "duration": 13,
    "start_time": "2022-05-26T08:35:43.771Z"
   },
   {
    "duration": 9,
    "start_time": "2022-05-26T08:35:43.785Z"
   },
   {
    "duration": 338,
    "start_time": "2022-05-26T08:35:43.802Z"
   },
   {
    "duration": 151,
    "start_time": "2022-05-26T08:35:44.141Z"
   },
   {
    "duration": 21,
    "start_time": "2022-05-26T08:38:07.428Z"
   },
   {
    "duration": 28,
    "start_time": "2022-05-26T08:38:47.983Z"
   },
   {
    "duration": 14,
    "start_time": "2022-05-26T08:39:07.759Z"
   },
   {
    "duration": 36,
    "start_time": "2022-05-26T08:40:02.371Z"
   },
   {
    "duration": 16,
    "start_time": "2022-05-26T08:41:18.446Z"
   },
   {
    "duration": 14,
    "start_time": "2022-05-26T08:42:19.958Z"
   },
   {
    "duration": 20,
    "start_time": "2022-05-26T08:42:27.571Z"
   },
   {
    "duration": 912,
    "start_time": "2022-05-26T08:43:00.076Z"
   },
   {
    "duration": 20,
    "start_time": "2022-05-26T08:43:12.666Z"
   },
   {
    "duration": 20,
    "start_time": "2022-05-26T08:43:22.851Z"
   },
   {
    "duration": 17,
    "start_time": "2022-05-26T08:43:28.362Z"
   },
   {
    "duration": 17,
    "start_time": "2022-05-26T08:43:43.851Z"
   },
   {
    "duration": 16,
    "start_time": "2022-05-26T08:44:00.171Z"
   },
   {
    "duration": 21,
    "start_time": "2022-05-26T08:44:08.562Z"
   },
   {
    "duration": 31,
    "start_time": "2022-05-26T08:44:16.952Z"
   },
   {
    "duration": 14,
    "start_time": "2022-05-26T08:45:40.375Z"
   },
   {
    "duration": 18,
    "start_time": "2022-05-26T08:45:45.640Z"
   },
   {
    "duration": 33,
    "start_time": "2022-05-26T08:45:54.020Z"
   },
   {
    "duration": 883,
    "start_time": "2022-05-26T08:46:16.083Z"
   },
   {
    "duration": 22,
    "start_time": "2022-05-26T08:46:24.923Z"
   },
   {
    "duration": 16,
    "start_time": "2022-05-26T08:47:58.683Z"
   },
   {
    "duration": 36,
    "start_time": "2022-05-26T08:48:01.921Z"
   },
   {
    "duration": 20,
    "start_time": "2022-05-26T08:50:40.455Z"
   },
   {
    "duration": 187,
    "start_time": "2022-05-26T08:52:32.124Z"
   },
   {
    "duration": 207,
    "start_time": "2022-05-26T08:54:26.468Z"
   },
   {
    "duration": 17,
    "start_time": "2022-05-26T08:55:03.867Z"
   },
   {
    "duration": 298,
    "start_time": "2022-05-26T08:55:25.419Z"
   },
   {
    "duration": 192,
    "start_time": "2022-05-26T08:56:35.523Z"
   },
   {
    "duration": 182,
    "start_time": "2022-05-26T08:56:46.675Z"
   },
   {
    "duration": 281,
    "start_time": "2022-05-26T08:57:01.493Z"
   },
   {
    "duration": 15,
    "start_time": "2022-05-26T08:57:18.544Z"
   },
   {
    "duration": 13,
    "start_time": "2022-05-26T08:57:25.039Z"
   },
   {
    "duration": 13,
    "start_time": "2022-05-26T08:57:52.461Z"
   },
   {
    "duration": 4,
    "start_time": "2022-05-26T08:58:02.745Z"
   },
   {
    "duration": 846,
    "start_time": "2022-05-26T08:58:17.347Z"
   },
   {
    "duration": 28,
    "start_time": "2022-05-26T08:58:39.025Z"
   },
   {
    "duration": 346,
    "start_time": "2022-05-26T08:59:16.838Z"
   },
   {
    "duration": 27,
    "start_time": "2022-05-26T08:59:35.724Z"
   },
   {
    "duration": 17,
    "start_time": "2022-05-26T09:00:08.549Z"
   },
   {
    "duration": 34,
    "start_time": "2022-05-26T09:00:17.319Z"
   },
   {
    "duration": 32,
    "start_time": "2022-05-26T09:00:28.092Z"
   },
   {
    "duration": 22,
    "start_time": "2022-05-26T09:00:30.638Z"
   },
   {
    "duration": 16,
    "start_time": "2022-05-26T09:00:35.772Z"
   },
   {
    "duration": 669,
    "start_time": "2022-05-26T09:00:53.621Z"
   },
   {
    "duration": 38,
    "start_time": "2022-05-26T09:01:07.092Z"
   },
   {
    "duration": 31,
    "start_time": "2022-05-26T09:01:16.919Z"
   },
   {
    "duration": 166,
    "start_time": "2022-05-26T09:01:28.626Z"
   },
   {
    "duration": 36,
    "start_time": "2022-05-26T09:01:47.309Z"
   },
   {
    "duration": 276,
    "start_time": "2022-05-26T09:02:08.223Z"
   },
   {
    "duration": 11,
    "start_time": "2022-05-26T09:02:32.667Z"
   },
   {
    "duration": 10,
    "start_time": "2022-05-26T09:02:38.642Z"
   },
   {
    "duration": 17,
    "start_time": "2022-05-26T09:02:44.830Z"
   },
   {
    "duration": 383,
    "start_time": "2022-05-26T09:03:45.672Z"
   },
   {
    "duration": 6,
    "start_time": "2022-05-26T09:06:32.780Z"
   },
   {
    "duration": 146,
    "start_time": "2022-05-26T09:06:51.181Z"
   },
   {
    "duration": 189,
    "start_time": "2022-05-26T09:07:21.796Z"
   },
   {
    "duration": 7,
    "start_time": "2022-05-26T09:07:27.419Z"
   },
   {
    "duration": 8,
    "start_time": "2022-05-26T09:07:34.187Z"
   },
   {
    "duration": 962,
    "start_time": "2022-05-26T09:07:39.789Z"
   },
   {
    "duration": 1039,
    "start_time": "2022-05-26T09:07:49.223Z"
   },
   {
    "duration": 264,
    "start_time": "2022-05-26T09:09:23.583Z"
   },
   {
    "duration": 9,
    "start_time": "2022-05-26T09:10:42.633Z"
   },
   {
    "duration": 17,
    "start_time": "2022-05-26T09:10:56.988Z"
   },
   {
    "duration": 19,
    "start_time": "2022-05-26T09:11:05.278Z"
   },
   {
    "duration": 20,
    "start_time": "2022-05-26T09:11:06.527Z"
   },
   {
    "duration": 264,
    "start_time": "2022-05-26T09:11:15.564Z"
   },
   {
    "duration": 43,
    "start_time": "2022-05-26T09:13:04.374Z"
   },
   {
    "duration": 278,
    "start_time": "2022-05-26T09:13:08.773Z"
   },
   {
    "duration": 319,
    "start_time": "2022-05-26T09:13:15.226Z"
   },
   {
    "duration": 61632,
    "start_time": "2022-05-26T09:15:16.794Z"
   },
   {
    "duration": 0,
    "start_time": "2022-05-26T09:16:18.428Z"
   },
   {
    "duration": 49,
    "start_time": "2022-05-26T09:16:20.645Z"
   },
   {
    "duration": 40,
    "start_time": "2022-05-26T09:16:28.443Z"
   },
   {
    "duration": 13,
    "start_time": "2022-05-26T09:16:43.826Z"
   },
   {
    "duration": 348,
    "start_time": "2022-05-26T09:16:53.688Z"
   },
   {
    "duration": 362,
    "start_time": "2022-05-26T09:17:38.946Z"
   },
   {
    "duration": 33,
    "start_time": "2022-05-26T09:17:42.521Z"
   },
   {
    "duration": 371,
    "start_time": "2022-05-26T09:18:18.686Z"
   },
   {
    "duration": 335,
    "start_time": "2022-05-26T09:18:22.470Z"
   },
   {
    "duration": 225,
    "start_time": "2022-05-26T09:20:43.117Z"
   },
   {
    "duration": 29,
    "start_time": "2022-05-26T09:21:21.549Z"
   },
   {
    "duration": 114,
    "start_time": "2022-05-26T09:21:36.825Z"
   },
   {
    "duration": 275,
    "start_time": "2022-05-26T09:21:40.147Z"
   },
   {
    "duration": 325,
    "start_time": "2022-05-26T09:21:59.872Z"
   },
   {
    "duration": 512,
    "start_time": "2022-05-26T09:22:15.480Z"
   },
   {
    "duration": 309,
    "start_time": "2022-05-26T09:22:24.961Z"
   },
   {
    "duration": 562,
    "start_time": "2022-05-26T09:23:10.221Z"
   },
   {
    "duration": 694,
    "start_time": "2022-05-26T09:23:16.872Z"
   },
   {
    "duration": 631,
    "start_time": "2022-05-26T09:23:35.465Z"
   },
   {
    "duration": 501,
    "start_time": "2022-05-26T09:25:39.021Z"
   },
   {
    "duration": 435,
    "start_time": "2022-05-26T09:25:43.648Z"
   },
   {
    "duration": 442,
    "start_time": "2022-05-26T09:26:15.945Z"
   },
   {
    "duration": 483,
    "start_time": "2022-05-26T09:27:59.361Z"
   },
   {
    "duration": 485,
    "start_time": "2022-05-26T09:28:08.254Z"
   },
   {
    "duration": 465,
    "start_time": "2022-05-26T09:28:15.450Z"
   },
   {
    "duration": 421,
    "start_time": "2022-05-26T09:36:27.414Z"
   },
   {
    "duration": 410,
    "start_time": "2022-05-26T09:36:32.452Z"
   },
   {
    "duration": 346,
    "start_time": "2022-05-26T09:37:45.343Z"
   },
   {
    "duration": 325,
    "start_time": "2022-05-26T09:38:38.967Z"
   },
   {
    "duration": 388,
    "start_time": "2022-05-26T09:39:25.312Z"
   },
   {
    "duration": 320,
    "start_time": "2022-05-26T09:40:03.838Z"
   },
   {
    "duration": 493,
    "start_time": "2022-05-26T09:40:51.920Z"
   },
   {
    "duration": 523,
    "start_time": "2022-05-26T09:41:09.673Z"
   },
   {
    "duration": 684,
    "start_time": "2022-05-26T09:42:36.559Z"
   },
   {
    "duration": 514,
    "start_time": "2022-05-26T09:42:48.961Z"
   },
   {
    "duration": 550,
    "start_time": "2022-05-26T09:42:59.984Z"
   },
   {
    "duration": 487,
    "start_time": "2022-05-26T09:46:03.778Z"
   },
   {
    "duration": 467,
    "start_time": "2022-05-26T09:46:45.856Z"
   },
   {
    "duration": 590,
    "start_time": "2022-05-26T09:46:51.187Z"
   },
   {
    "duration": 580,
    "start_time": "2022-05-26T09:47:02.370Z"
   },
   {
    "duration": 573,
    "start_time": "2022-05-26T09:47:12.066Z"
   },
   {
    "duration": 597,
    "start_time": "2022-05-26T09:47:16.169Z"
   },
   {
    "duration": 564,
    "start_time": "2022-05-26T09:47:25.018Z"
   },
   {
    "duration": 578,
    "start_time": "2022-05-26T09:48:02.011Z"
   },
   {
    "duration": 561,
    "start_time": "2022-05-26T09:48:06.822Z"
   },
   {
    "duration": 496,
    "start_time": "2022-05-26T09:48:19.958Z"
   },
   {
    "duration": 583,
    "start_time": "2022-05-26T09:49:05.586Z"
   },
   {
    "duration": 546,
    "start_time": "2022-05-26T09:49:16.339Z"
   },
   {
    "duration": 592,
    "start_time": "2022-05-26T09:50:07.279Z"
   },
   {
    "duration": 6,
    "start_time": "2022-05-26T09:51:25.941Z"
   },
   {
    "duration": 71,
    "start_time": "2022-05-26T09:52:34.366Z"
   },
   {
    "duration": 45,
    "start_time": "2022-05-26T09:52:38.075Z"
   },
   {
    "duration": 1102,
    "start_time": "2022-05-26T09:52:50.783Z"
   },
   {
    "duration": 5,
    "start_time": "2022-05-26T09:53:02.270Z"
   },
   {
    "duration": 107,
    "start_time": "2022-05-26T09:53:02.277Z"
   },
   {
    "duration": 25,
    "start_time": "2022-05-26T09:53:02.386Z"
   },
   {
    "duration": 48,
    "start_time": "2022-05-26T09:53:02.422Z"
   },
   {
    "duration": 24,
    "start_time": "2022-05-26T09:53:02.473Z"
   },
   {
    "duration": 34,
    "start_time": "2022-05-26T09:53:02.500Z"
   },
   {
    "duration": 27,
    "start_time": "2022-05-26T09:53:02.536Z"
   },
   {
    "duration": 25,
    "start_time": "2022-05-26T09:53:02.565Z"
   },
   {
    "duration": 25,
    "start_time": "2022-05-26T09:53:02.592Z"
   },
   {
    "duration": 34,
    "start_time": "2022-05-26T09:53:02.625Z"
   },
   {
    "duration": 20,
    "start_time": "2022-05-26T09:53:02.660Z"
   },
   {
    "duration": 34,
    "start_time": "2022-05-26T09:53:02.681Z"
   },
   {
    "duration": 23,
    "start_time": "2022-05-26T09:53:02.724Z"
   },
   {
    "duration": 239,
    "start_time": "2022-05-26T09:53:02.750Z"
   },
   {
    "duration": 178,
    "start_time": "2022-05-26T09:53:02.991Z"
   },
   {
    "duration": 298,
    "start_time": "2022-05-26T09:53:03.171Z"
   },
   {
    "duration": 32,
    "start_time": "2022-05-26T09:53:03.471Z"
   },
   {
    "duration": 282,
    "start_time": "2022-05-26T09:53:03.504Z"
   },
   {
    "duration": 397,
    "start_time": "2022-05-26T09:53:03.787Z"
   },
   {
    "duration": 627,
    "start_time": "2022-05-26T09:53:04.186Z"
   },
   {
    "duration": 569,
    "start_time": "2022-05-26T09:53:04.816Z"
   },
   {
    "duration": 80,
    "start_time": "2022-05-26T09:53:22.972Z"
   },
   {
    "duration": 81,
    "start_time": "2022-05-26T09:54:05.574Z"
   },
   {
    "duration": 89,
    "start_time": "2022-05-26T09:54:10.533Z"
   },
   {
    "duration": 48,
    "start_time": "2022-05-26T09:54:33.163Z"
   },
   {
    "duration": 29,
    "start_time": "2022-05-26T09:54:37.586Z"
   },
   {
    "duration": 6,
    "start_time": "2022-05-26T09:54:45.437Z"
   },
   {
    "duration": 11,
    "start_time": "2022-05-26T09:54:58.581Z"
   },
   {
    "duration": 5,
    "start_time": "2022-05-26T09:55:00.461Z"
   },
   {
    "duration": 23,
    "start_time": "2022-05-26T09:55:33.053Z"
   },
   {
    "duration": 62,
    "start_time": "2022-05-26T09:55:39.542Z"
   },
   {
    "duration": 4,
    "start_time": "2022-05-26T09:57:23.223Z"
   },
   {
    "duration": 63,
    "start_time": "2022-05-26T09:57:47.783Z"
   },
   {
    "duration": 8,
    "start_time": "2022-05-26T09:58:51.215Z"
   },
   {
    "duration": 42,
    "start_time": "2022-05-26T09:58:59.964Z"
   },
   {
    "duration": 8,
    "start_time": "2022-05-26T09:59:10.228Z"
   },
   {
    "duration": 1432,
    "start_time": "2022-05-26T10:00:07.439Z"
   },
   {
    "duration": 1458,
    "start_time": "2022-05-26T10:00:24.896Z"
   },
   {
    "duration": 69,
    "start_time": "2022-05-26T10:03:44.353Z"
   },
   {
    "duration": 33,
    "start_time": "2022-05-26T10:03:50.930Z"
   },
   {
    "duration": 35,
    "start_time": "2022-05-26T10:03:58.620Z"
   },
   {
    "duration": 3,
    "start_time": "2022-05-26T10:04:35.439Z"
   },
   {
    "duration": 32,
    "start_time": "2022-05-26T10:04:44.061Z"
   },
   {
    "duration": 23020,
    "start_time": "2022-05-26T10:06:26.977Z"
   },
   {
    "duration": 25438,
    "start_time": "2022-05-26T10:06:53.191Z"
   },
   {
    "duration": 0,
    "start_time": "2022-05-26T10:07:18.632Z"
   },
   {
    "duration": 10,
    "start_time": "2022-05-26T10:07:25.454Z"
   },
   {
    "duration": 9,
    "start_time": "2022-05-26T10:07:30.757Z"
   },
   {
    "duration": 0,
    "start_time": "2022-05-26T10:08:11.338Z"
   },
   {
    "duration": 30,
    "start_time": "2022-05-26T10:08:12.322Z"
   },
   {
    "duration": 16,
    "start_time": "2022-05-26T10:08:24.166Z"
   },
   {
    "duration": 24,
    "start_time": "2022-05-26T10:09:49.782Z"
   },
   {
    "duration": 12,
    "start_time": "2022-05-26T10:10:03.032Z"
   },
   {
    "duration": 42,
    "start_time": "2022-05-26T10:10:07.182Z"
   },
   {
    "duration": 22,
    "start_time": "2022-05-26T10:10:27.991Z"
   },
   {
    "duration": 7,
    "start_time": "2022-05-26T10:10:55.721Z"
   },
   {
    "duration": 12,
    "start_time": "2022-05-26T10:11:02.122Z"
   },
   {
    "duration": 9,
    "start_time": "2022-05-26T10:11:27.023Z"
   },
   {
    "duration": 10,
    "start_time": "2022-05-26T10:12:57.783Z"
   },
   {
    "duration": 16,
    "start_time": "2022-05-26T10:13:03.286Z"
   },
   {
    "duration": 10,
    "start_time": "2022-05-26T10:13:08.081Z"
   },
   {
    "duration": 13,
    "start_time": "2022-05-26T10:14:55.667Z"
   },
   {
    "duration": 27,
    "start_time": "2022-05-26T10:15:00.896Z"
   },
   {
    "duration": 9,
    "start_time": "2022-05-26T10:15:10.934Z"
   },
   {
    "duration": 21,
    "start_time": "2022-05-26T10:15:37.887Z"
   },
   {
    "duration": 28,
    "start_time": "2022-05-26T10:16:11.791Z"
   },
   {
    "duration": 202,
    "start_time": "2022-05-26T10:16:31.880Z"
   },
   {
    "duration": 34,
    "start_time": "2022-05-26T10:17:03.479Z"
   },
   {
    "duration": 21,
    "start_time": "2022-05-26T10:17:17.920Z"
   },
   {
    "duration": 236,
    "start_time": "2022-05-26T10:17:29.359Z"
   },
   {
    "duration": 300,
    "start_time": "2022-05-26T10:17:47.304Z"
   },
   {
    "duration": 11,
    "start_time": "2022-05-26T10:18:32.555Z"
   },
   {
    "duration": 10,
    "start_time": "2022-05-26T10:18:36.968Z"
   },
   {
    "duration": 21,
    "start_time": "2022-05-26T10:18:56.908Z"
   },
   {
    "duration": 5,
    "start_time": "2022-05-26T10:20:01.870Z"
   },
   {
    "duration": 252,
    "start_time": "2022-05-26T10:20:08.990Z"
   },
   {
    "duration": 73,
    "start_time": "2022-05-26T10:20:23.656Z"
   },
   {
    "duration": 84,
    "start_time": "2022-05-26T10:20:27.362Z"
   },
   {
    "duration": 142,
    "start_time": "2022-05-26T10:20:31.031Z"
   },
   {
    "duration": 1240,
    "start_time": "2022-05-26T10:20:36.261Z"
   },
   {
    "duration": 1322,
    "start_time": "2022-05-26T10:20:57.820Z"
   },
   {
    "duration": 1172,
    "start_time": "2022-05-26T10:21:26.756Z"
   },
   {
    "duration": 1112,
    "start_time": "2022-05-26T10:21:33.355Z"
   },
   {
    "duration": 36,
    "start_time": "2022-05-26T10:22:13.183Z"
   },
   {
    "duration": 5,
    "start_time": "2022-05-26T10:22:30.347Z"
   },
   {
    "duration": 732,
    "start_time": "2022-05-26T10:22:41.016Z"
   },
   {
    "duration": 37,
    "start_time": "2022-05-26T10:30:20.446Z"
   },
   {
    "duration": 515,
    "start_time": "2022-05-26T10:30:25.631Z"
   },
   {
    "duration": 4,
    "start_time": "2022-05-26T10:30:49.713Z"
   },
   {
    "duration": 24,
    "start_time": "2022-05-26T10:30:52.284Z"
   },
   {
    "duration": 18,
    "start_time": "2022-05-26T10:31:21.827Z"
   },
   {
    "duration": 4,
    "start_time": "2022-05-26T10:31:31.557Z"
   },
   {
    "duration": 150,
    "start_time": "2022-05-26T10:31:33.838Z"
   },
   {
    "duration": 3,
    "start_time": "2022-05-26T10:35:08.863Z"
   },
   {
    "duration": 152,
    "start_time": "2022-05-26T10:35:09.683Z"
   },
   {
    "duration": 186,
    "start_time": "2022-05-26T10:35:21.236Z"
   },
   {
    "duration": 3,
    "start_time": "2022-05-26T10:35:26.668Z"
   },
   {
    "duration": 27,
    "start_time": "2022-05-26T10:35:28.548Z"
   },
   {
    "duration": 257,
    "start_time": "2022-05-26T10:35:57.188Z"
   },
   {
    "duration": 3,
    "start_time": "2022-05-26T10:36:10.639Z"
   },
   {
    "duration": 3,
    "start_time": "2022-05-26T10:37:38.529Z"
   },
   {
    "duration": 3,
    "start_time": "2022-05-26T10:37:43.921Z"
   },
   {
    "duration": 93,
    "start_time": "2022-05-26T10:37:45.468Z"
   },
   {
    "duration": 4,
    "start_time": "2022-05-26T10:38:03.621Z"
   },
   {
    "duration": 28,
    "start_time": "2022-05-26T10:38:04.814Z"
   },
   {
    "duration": 70,
    "start_time": "2022-05-26T10:38:31.485Z"
   },
   {
    "duration": 17,
    "start_time": "2022-05-26T10:38:35.437Z"
   },
   {
    "duration": 39,
    "start_time": "2022-05-26T10:38:55.716Z"
   },
   {
    "duration": 52,
    "start_time": "2022-05-26T10:39:03.124Z"
   },
   {
    "duration": 4,
    "start_time": "2022-05-26T10:39:11.179Z"
   },
   {
    "duration": 131,
    "start_time": "2022-05-26T10:39:12.815Z"
   },
   {
    "duration": 7,
    "start_time": "2022-05-26T10:39:56.616Z"
   },
   {
    "duration": 160,
    "start_time": "2022-05-26T10:39:57.965Z"
   },
   {
    "duration": 4,
    "start_time": "2022-05-26T10:40:25.468Z"
   },
   {
    "duration": 163,
    "start_time": "2022-05-26T10:40:27.083Z"
   },
   {
    "duration": 166,
    "start_time": "2022-05-26T10:40:37.165Z"
   },
   {
    "duration": 5,
    "start_time": "2022-05-26T10:40:55.548Z"
   },
   {
    "duration": 169,
    "start_time": "2022-05-26T10:40:57.467Z"
   },
   {
    "duration": 4,
    "start_time": "2022-05-26T10:41:22.252Z"
   },
   {
    "duration": 186,
    "start_time": "2022-05-26T10:41:24.307Z"
   },
   {
    "duration": 4,
    "start_time": "2022-05-26T10:41:43.188Z"
   },
   {
    "duration": 171,
    "start_time": "2022-05-26T10:41:44.462Z"
   },
   {
    "duration": 4,
    "start_time": "2022-05-26T10:41:53.950Z"
   },
   {
    "duration": 220,
    "start_time": "2022-05-26T10:41:55.387Z"
   },
   {
    "duration": 4,
    "start_time": "2022-05-26T10:42:02.484Z"
   },
   {
    "duration": 169,
    "start_time": "2022-05-26T10:42:03.187Z"
   },
   {
    "duration": 4,
    "start_time": "2022-05-26T10:42:09.963Z"
   },
   {
    "duration": 160,
    "start_time": "2022-05-26T10:42:11.623Z"
   },
   {
    "duration": 4,
    "start_time": "2022-05-26T10:42:33.581Z"
   },
   {
    "duration": 7,
    "start_time": "2022-05-26T10:42:38.716Z"
   },
   {
    "duration": 140,
    "start_time": "2022-05-26T10:42:40.283Z"
   },
   {
    "duration": 5,
    "start_time": "2022-05-26T10:42:58.414Z"
   },
   {
    "duration": 240,
    "start_time": "2022-05-26T10:43:00.141Z"
   },
   {
    "duration": 15,
    "start_time": "2022-05-26T10:44:34.114Z"
   },
   {
    "duration": 13,
    "start_time": "2022-05-26T10:44:41.420Z"
   },
   {
    "duration": 270,
    "start_time": "2022-05-26T10:44:42.588Z"
   },
   {
    "duration": 16,
    "start_time": "2022-05-26T10:44:58.541Z"
   },
   {
    "duration": 1273,
    "start_time": "2022-05-26T10:45:48.332Z"
   },
   {
    "duration": 186,
    "start_time": "2022-05-26T10:48:34.478Z"
   },
   {
    "duration": 156,
    "start_time": "2022-05-26T10:48:38.541Z"
   },
   {
    "duration": 261,
    "start_time": "2022-05-26T10:51:01.374Z"
   },
   {
    "duration": 17,
    "start_time": "2022-05-26T10:55:55.557Z"
   },
   {
    "duration": 15,
    "start_time": "2022-05-26T10:56:19.324Z"
   },
   {
    "duration": 19,
    "start_time": "2022-05-26T10:56:23.257Z"
   },
   {
    "duration": 16,
    "start_time": "2022-05-26T10:56:43.641Z"
   },
   {
    "duration": 30,
    "start_time": "2022-05-26T10:56:56.373Z"
   },
   {
    "duration": 25,
    "start_time": "2022-05-26T10:57:14.946Z"
   },
   {
    "duration": 84133,
    "start_time": "2022-05-26T10:57:47.924Z"
   },
   {
    "duration": 8,
    "start_time": "2022-05-26T10:59:18.593Z"
   },
   {
    "duration": 84785,
    "start_time": "2022-05-26T10:59:26.360Z"
   },
   {
    "duration": 11,
    "start_time": "2022-05-26T11:01:26.335Z"
   },
   {
    "duration": 6,
    "start_time": "2022-05-26T11:04:21.957Z"
   },
   {
    "duration": 211,
    "start_time": "2022-05-26T11:04:59.975Z"
   },
   {
    "duration": 263,
    "start_time": "2022-05-26T11:06:07.434Z"
   },
   {
    "duration": 18,
    "start_time": "2022-05-26T11:07:00.128Z"
   },
   {
    "duration": 243,
    "start_time": "2022-05-26T11:07:02.244Z"
   },
   {
    "duration": 5,
    "start_time": "2022-05-26T11:07:06.053Z"
   },
   {
    "duration": 1814,
    "start_time": "2022-05-26T11:07:09.217Z"
   },
   {
    "duration": 214,
    "start_time": "2022-05-26T11:07:14.444Z"
   },
   {
    "duration": 216,
    "start_time": "2022-05-26T11:07:40.415Z"
   },
   {
    "duration": 41,
    "start_time": "2022-05-26T11:07:56.532Z"
   },
   {
    "duration": 232,
    "start_time": "2022-05-26T11:08:09.621Z"
   },
   {
    "duration": 281,
    "start_time": "2022-05-26T11:09:01.767Z"
   },
   {
    "duration": 69,
    "start_time": "2022-05-26T16:23:47.808Z"
   },
   {
    "duration": 1527,
    "start_time": "2022-05-26T16:23:58.618Z"
   },
   {
    "duration": 120,
    "start_time": "2022-05-26T16:24:00.147Z"
   },
   {
    "duration": 13,
    "start_time": "2022-05-26T16:24:00.269Z"
   },
   {
    "duration": 26,
    "start_time": "2022-05-26T16:24:00.283Z"
   },
   {
    "duration": 30,
    "start_time": "2022-05-26T16:24:00.310Z"
   },
   {
    "duration": 15,
    "start_time": "2022-05-26T16:24:00.341Z"
   },
   {
    "duration": 15,
    "start_time": "2022-05-26T16:24:00.357Z"
   },
   {
    "duration": 39,
    "start_time": "2022-05-26T16:24:00.375Z"
   },
   {
    "duration": 20,
    "start_time": "2022-05-26T16:24:00.416Z"
   },
   {
    "duration": 11,
    "start_time": "2022-05-26T16:24:00.438Z"
   },
   {
    "duration": 13,
    "start_time": "2022-05-26T16:24:00.451Z"
   },
   {
    "duration": 16,
    "start_time": "2022-05-26T16:24:00.466Z"
   },
   {
    "duration": 5,
    "start_time": "2022-05-26T16:24:00.483Z"
   },
   {
    "duration": 222,
    "start_time": "2022-05-26T16:24:00.511Z"
   },
   {
    "duration": 225,
    "start_time": "2022-05-26T16:24:00.736Z"
   },
   {
    "duration": 283,
    "start_time": "2022-05-26T16:24:00.963Z"
   },
   {
    "duration": 20,
    "start_time": "2022-05-26T16:24:01.248Z"
   },
   {
    "duration": 258,
    "start_time": "2022-05-26T16:24:01.269Z"
   },
   {
    "duration": 518,
    "start_time": "2022-05-26T16:24:01.532Z"
   },
   {
    "duration": 526,
    "start_time": "2022-05-26T16:24:02.051Z"
   },
   {
    "duration": 551,
    "start_time": "2022-05-26T16:24:02.579Z"
   },
   {
    "duration": 803,
    "start_time": "2022-05-26T16:24:03.131Z"
   },
   {
    "duration": 1239,
    "start_time": "2022-05-26T16:24:03.937Z"
   },
   {
    "duration": 521,
    "start_time": "2022-05-26T16:26:52.253Z"
   },
   {
    "duration": 1524,
    "start_time": "2022-05-26T16:43:00.096Z"
   },
   {
    "duration": 75,
    "start_time": "2022-05-26T16:43:01.624Z"
   },
   {
    "duration": 26,
    "start_time": "2022-05-26T16:43:01.701Z"
   },
   {
    "duration": 38,
    "start_time": "2022-05-26T16:43:01.730Z"
   },
   {
    "duration": 22,
    "start_time": "2022-05-26T16:43:01.770Z"
   },
   {
    "duration": 15,
    "start_time": "2022-05-26T16:43:01.794Z"
   },
   {
    "duration": 27,
    "start_time": "2022-05-26T16:43:01.811Z"
   },
   {
    "duration": 23,
    "start_time": "2022-05-26T16:43:01.840Z"
   },
   {
    "duration": 12,
    "start_time": "2022-05-26T16:43:01.864Z"
   },
   {
    "duration": 16,
    "start_time": "2022-05-26T16:43:01.878Z"
   },
   {
    "duration": 26,
    "start_time": "2022-05-26T16:43:01.895Z"
   },
   {
    "duration": 26,
    "start_time": "2022-05-26T16:43:01.924Z"
   },
   {
    "duration": 6,
    "start_time": "2022-05-26T16:43:01.952Z"
   },
   {
    "duration": 255,
    "start_time": "2022-05-26T16:43:01.961Z"
   },
   {
    "duration": 233,
    "start_time": "2022-05-26T16:43:02.218Z"
   },
   {
    "duration": 275,
    "start_time": "2022-05-26T16:43:02.452Z"
   },
   {
    "duration": 21,
    "start_time": "2022-05-26T16:43:02.736Z"
   },
   {
    "duration": 245,
    "start_time": "2022-05-26T16:43:02.759Z"
   },
   {
    "duration": 396,
    "start_time": "2022-05-26T16:43:03.005Z"
   },
   {
    "duration": 491,
    "start_time": "2022-05-26T16:43:03.403Z"
   },
   {
    "duration": 479,
    "start_time": "2022-05-26T16:43:03.895Z"
   },
   {
    "duration": 685,
    "start_time": "2022-05-26T16:43:04.376Z"
   },
   {
    "duration": 1107,
    "start_time": "2022-05-26T16:43:05.063Z"
   },
   {
    "duration": 521,
    "start_time": "2022-05-26T16:43:06.172Z"
   },
   {
    "duration": 4,
    "start_time": "2022-05-26T16:43:06.694Z"
   },
   {
    "duration": 60,
    "start_time": "2022-05-26T16:43:06.699Z"
   },
   {
    "duration": 16,
    "start_time": "2022-05-26T16:43:06.761Z"
   },
   {
    "duration": 371,
    "start_time": "2022-05-26T16:43:06.779Z"
   },
   {
    "duration": 65,
    "start_time": "2022-05-26T16:43:07.152Z"
   },
   {
    "duration": 249,
    "start_time": "2022-05-26T16:43:07.219Z"
   },
   {
    "duration": 0,
    "start_time": "2022-05-26T16:43:07.470Z"
   },
   {
    "duration": 0,
    "start_time": "2022-05-26T16:43:07.471Z"
   },
   {
    "duration": 0,
    "start_time": "2022-05-26T16:43:07.472Z"
   },
   {
    "duration": 99,
    "start_time": "2022-05-26T16:43:41.866Z"
   },
   {
    "duration": 5,
    "start_time": "2022-05-26T16:44:18.411Z"
   },
   {
    "duration": 10,
    "start_time": "2022-05-26T16:44:50.557Z"
   },
   {
    "duration": 97,
    "start_time": "2022-05-26T16:45:03.304Z"
   },
   {
    "duration": 4,
    "start_time": "2022-05-26T16:54:14.210Z"
   },
   {
    "duration": 17613,
    "start_time": "2022-05-26T16:54:32.809Z"
   },
   {
    "duration": 216,
    "start_time": "2022-05-26T16:54:50.423Z"
   },
   {
    "duration": 30127,
    "start_time": "2022-05-26T16:55:17.924Z"
   },
   {
    "duration": 0,
    "start_time": "2022-05-26T16:55:48.052Z"
   },
   {
    "duration": 130937,
    "start_time": "2022-05-26T16:56:01.158Z"
   },
   {
    "duration": 135330,
    "start_time": "2022-05-26T16:59:17.466Z"
   },
   {
    "duration": 4,
    "start_time": "2022-05-26T17:02:33.770Z"
   },
   {
    "duration": 504742,
    "start_time": "2022-05-26T17:02:42.547Z"
   },
   {
    "duration": 0,
    "start_time": "2022-05-26T17:11:07.291Z"
   },
   {
    "duration": 9,
    "start_time": "2022-05-26T17:11:14.722Z"
   },
   {
    "duration": 9,
    "start_time": "2022-05-26T17:11:28.319Z"
   },
   {
    "duration": 12063,
    "start_time": "2022-05-26T17:11:46.314Z"
   },
   {
    "duration": 3,
    "start_time": "2022-05-26T17:12:39.200Z"
   },
   {
    "duration": 16,
    "start_time": "2022-05-26T17:12:52.834Z"
   },
   {
    "duration": 248,
    "start_time": "2022-05-26T17:12:59.379Z"
   },
   {
    "duration": 46032,
    "start_time": "2022-05-26T17:13:08.580Z"
   },
   {
    "duration": 47,
    "start_time": "2022-05-26T17:15:40.993Z"
   },
   {
    "duration": 32,
    "start_time": "2022-05-26T17:16:03.817Z"
   },
   {
    "duration": 216,
    "start_time": "2022-05-26T17:16:12.602Z"
   },
   {
    "duration": 358,
    "start_time": "2022-05-26T17:16:24.860Z"
   },
   {
    "duration": 3,
    "start_time": "2022-05-26T17:20:13.500Z"
   },
   {
    "duration": 183727,
    "start_time": "2022-05-26T17:20:38.259Z"
   },
   {
    "duration": 3,
    "start_time": "2022-05-26T17:26:21.875Z"
   },
   {
    "duration": 37001,
    "start_time": "2022-05-26T17:26:32.057Z"
   },
   {
    "duration": 242983,
    "start_time": "2022-05-26T17:27:13.621Z"
   },
   {
    "duration": 215041,
    "start_time": "2022-05-26T17:31:34.370Z"
   },
   {
    "duration": 10,
    "start_time": "2022-05-26T17:35:23.487Z"
   },
   {
    "duration": 10,
    "start_time": "2022-05-26T17:35:32.690Z"
   },
   {
    "duration": 13,
    "start_time": "2022-05-26T17:35:41.469Z"
   },
   {
    "duration": 61,
    "start_time": "2022-05-26T17:36:42.293Z"
   },
   {
    "duration": 211,
    "start_time": "2022-05-26T17:37:08.297Z"
   },
   {
    "duration": 6,
    "start_time": "2022-05-26T17:38:00.456Z"
   },
   {
    "duration": 17,
    "start_time": "2022-05-26T18:03:52.097Z"
   },
   {
    "duration": 222,
    "start_time": "2022-05-26T18:04:00.569Z"
   },
   {
    "duration": 141,
    "start_time": "2022-05-26T18:04:11.739Z"
   },
   {
    "duration": 8,
    "start_time": "2022-05-26T18:04:30.601Z"
   },
   {
    "duration": 123,
    "start_time": "2022-05-26T18:05:48.206Z"
   },
   {
    "duration": 9,
    "start_time": "2022-05-26T18:06:02.001Z"
   },
   {
    "duration": 1297,
    "start_time": "2022-05-27T07:19:41.597Z"
   },
   {
    "duration": 108,
    "start_time": "2022-05-27T07:19:42.896Z"
   },
   {
    "duration": 14,
    "start_time": "2022-05-27T07:19:43.006Z"
   },
   {
    "duration": 22,
    "start_time": "2022-05-27T07:19:43.022Z"
   },
   {
    "duration": 17,
    "start_time": "2022-05-27T07:19:43.046Z"
   },
   {
    "duration": 15,
    "start_time": "2022-05-27T07:19:43.064Z"
   },
   {
    "duration": 13,
    "start_time": "2022-05-27T07:19:43.081Z"
   },
   {
    "duration": 20,
    "start_time": "2022-05-27T07:19:43.096Z"
   },
   {
    "duration": 12,
    "start_time": "2022-05-27T07:19:43.117Z"
   },
   {
    "duration": 7,
    "start_time": "2022-05-27T07:19:43.160Z"
   },
   {
    "duration": 11,
    "start_time": "2022-05-27T07:19:43.168Z"
   },
   {
    "duration": 14,
    "start_time": "2022-05-27T07:19:43.180Z"
   },
   {
    "duration": 6,
    "start_time": "2022-05-27T07:19:43.195Z"
   },
   {
    "duration": 222,
    "start_time": "2022-05-27T07:19:43.202Z"
   },
   {
    "duration": 188,
    "start_time": "2022-05-27T07:19:43.426Z"
   },
   {
    "duration": 246,
    "start_time": "2022-05-27T07:19:43.616Z"
   },
   {
    "duration": 22,
    "start_time": "2022-05-27T07:19:43.864Z"
   },
   {
    "duration": 227,
    "start_time": "2022-05-27T07:19:43.888Z"
   },
   {
    "duration": 444,
    "start_time": "2022-05-27T07:19:44.117Z"
   },
   {
    "duration": 481,
    "start_time": "2022-05-27T07:19:44.562Z"
   },
   {
    "duration": 477,
    "start_time": "2022-05-27T07:19:45.044Z"
   },
   {
    "duration": 621,
    "start_time": "2022-05-27T07:19:45.522Z"
   },
   {
    "duration": 1002,
    "start_time": "2022-05-27T07:19:46.145Z"
   },
   {
    "duration": 438,
    "start_time": "2022-05-27T07:19:47.148Z"
   },
   {
    "duration": 4,
    "start_time": "2022-05-27T07:19:47.588Z"
   },
   {
    "duration": 45,
    "start_time": "2022-05-27T07:19:47.593Z"
   },
   {
    "duration": 20,
    "start_time": "2022-05-27T07:19:47.639Z"
   },
   {
    "duration": 377,
    "start_time": "2022-05-27T07:19:47.662Z"
   },
   {
    "duration": 51,
    "start_time": "2022-05-27T07:19:48.040Z"
   },
   {
    "duration": 137,
    "start_time": "2022-05-27T07:19:48.093Z"
   },
   {
    "duration": 204,
    "start_time": "2022-05-27T07:19:48.232Z"
   },
   {
    "duration": 208,
    "start_time": "2022-05-27T07:19:48.438Z"
   },
   {
    "duration": 183,
    "start_time": "2022-05-27T07:19:48.647Z"
   },
   {
    "duration": 264,
    "start_time": "2022-05-27T07:25:13.076Z"
   },
   {
    "duration": 162,
    "start_time": "2022-05-27T07:25:27.467Z"
   },
   {
    "duration": 139,
    "start_time": "2022-05-27T07:25:50.419Z"
   },
   {
    "duration": 107,
    "start_time": "2022-05-27T07:26:17.514Z"
   },
   {
    "duration": 514,
    "start_time": "2022-05-27T07:38:56.246Z"
   },
   {
    "duration": 253,
    "start_time": "2022-05-27T08:05:25.477Z"
   },
   {
    "duration": 211,
    "start_time": "2022-05-27T08:06:59.168Z"
   },
   {
    "duration": 20,
    "start_time": "2022-05-27T08:07:01.577Z"
   },
   {
    "duration": 210,
    "start_time": "2022-05-27T08:07:03.895Z"
   },
   {
    "duration": 1934,
    "start_time": "2022-05-27T11:45:55.869Z"
   },
   {
    "duration": 123,
    "start_time": "2022-05-27T11:45:57.806Z"
   },
   {
    "duration": 59,
    "start_time": "2022-05-27T11:45:57.931Z"
   },
   {
    "duration": 143,
    "start_time": "2022-05-27T11:45:57.993Z"
   },
   {
    "duration": 75,
    "start_time": "2022-05-27T11:45:58.139Z"
   },
   {
    "duration": 122,
    "start_time": "2022-05-27T11:45:58.216Z"
   },
   {
    "duration": 68,
    "start_time": "2022-05-27T11:45:58.343Z"
   },
   {
    "duration": 96,
    "start_time": "2022-05-27T11:45:58.417Z"
   },
   {
    "duration": 35,
    "start_time": "2022-05-27T11:45:58.521Z"
   },
   {
    "duration": 55,
    "start_time": "2022-05-27T11:45:58.565Z"
   },
   {
    "duration": 29,
    "start_time": "2022-05-27T11:45:58.623Z"
   },
   {
    "duration": 42,
    "start_time": "2022-05-27T11:45:58.665Z"
   },
   {
    "duration": 39,
    "start_time": "2022-05-27T11:45:58.712Z"
   },
   {
    "duration": 522,
    "start_time": "2022-05-27T11:45:58.756Z"
   },
   {
    "duration": 287,
    "start_time": "2022-05-27T11:45:59.288Z"
   },
   {
    "duration": 374,
    "start_time": "2022-05-27T11:45:59.582Z"
   },
   {
    "duration": 47,
    "start_time": "2022-05-27T11:45:59.967Z"
   },
   {
    "duration": 435,
    "start_time": "2022-05-27T11:46:00.019Z"
   },
   {
    "duration": 737,
    "start_time": "2022-05-27T11:46:00.460Z"
   },
   {
    "duration": 629,
    "start_time": "2022-05-27T11:46:01.199Z"
   },
   {
    "duration": 804,
    "start_time": "2022-05-27T11:46:01.833Z"
   },
   {
    "duration": 708,
    "start_time": "2022-05-27T11:46:02.642Z"
   },
   {
    "duration": 1294,
    "start_time": "2022-05-27T11:46:03.356Z"
   },
   {
    "duration": 1810,
    "start_time": "2022-05-27T11:46:04.656Z"
   },
   {
    "duration": 822,
    "start_time": "2022-05-27T11:46:06.472Z"
   },
   {
    "duration": 10,
    "start_time": "2022-05-27T11:46:07.300Z"
   },
   {
    "duration": 205,
    "start_time": "2022-05-27T11:46:07.318Z"
   },
   {
    "duration": 69,
    "start_time": "2022-05-27T11:46:07.532Z"
   },
   {
    "duration": 444,
    "start_time": "2022-05-27T11:46:07.608Z"
   },
   {
    "duration": 80,
    "start_time": "2022-05-27T11:46:08.056Z"
   },
   {
    "duration": 815,
    "start_time": "2022-05-27T11:46:08.139Z"
   },
   {
    "duration": 0,
    "start_time": "2022-05-27T11:46:08.960Z"
   },
   {
    "duration": 0,
    "start_time": "2022-05-27T11:46:08.961Z"
   },
   {
    "duration": 0,
    "start_time": "2022-05-27T11:46:08.965Z"
   },
   {
    "duration": 1238,
    "start_time": "2022-05-28T06:24:57.956Z"
   },
   {
    "duration": 553,
    "start_time": "2022-05-28T06:24:59.196Z"
   },
   {
    "duration": 15,
    "start_time": "2022-05-28T06:24:59.750Z"
   },
   {
    "duration": 20,
    "start_time": "2022-05-28T06:24:59.768Z"
   },
   {
    "duration": 20,
    "start_time": "2022-05-28T06:24:59.790Z"
   },
   {
    "duration": 47,
    "start_time": "2022-05-28T06:24:59.812Z"
   },
   {
    "duration": 17,
    "start_time": "2022-05-28T06:24:59.860Z"
   },
   {
    "duration": 25,
    "start_time": "2022-05-28T06:24:59.879Z"
   },
   {
    "duration": 13,
    "start_time": "2022-05-28T06:24:59.906Z"
   },
   {
    "duration": 34,
    "start_time": "2022-05-28T06:24:59.922Z"
   },
   {
    "duration": 8,
    "start_time": "2022-05-28T06:24:59.958Z"
   },
   {
    "duration": 15,
    "start_time": "2022-05-28T06:24:59.968Z"
   },
   {
    "duration": 6,
    "start_time": "2022-05-28T06:24:59.984Z"
   },
   {
    "duration": 328,
    "start_time": "2022-05-28T06:24:59.992Z"
   },
   {
    "duration": 141,
    "start_time": "2022-05-28T06:25:00.322Z"
   },
   {
    "duration": 268,
    "start_time": "2022-05-28T06:25:00.465Z"
   },
   {
    "duration": 32,
    "start_time": "2022-05-28T06:25:00.735Z"
   },
   {
    "duration": 248,
    "start_time": "2022-05-28T06:25:00.768Z"
   },
   {
    "duration": 645,
    "start_time": "2022-05-28T06:25:01.018Z"
   },
   {
    "duration": 402,
    "start_time": "2022-05-28T06:25:01.665Z"
   },
   {
    "duration": 578,
    "start_time": "2022-05-28T06:25:02.069Z"
   },
   {
    "duration": 533,
    "start_time": "2022-05-28T06:25:02.651Z"
   },
   {
    "duration": 690,
    "start_time": "2022-05-28T06:25:03.186Z"
   },
   {
    "duration": 1181,
    "start_time": "2022-05-28T06:25:03.877Z"
   },
   {
    "duration": 530,
    "start_time": "2022-05-28T06:25:05.059Z"
   },
   {
    "duration": 4,
    "start_time": "2022-05-28T06:25:05.591Z"
   },
   {
    "duration": 40,
    "start_time": "2022-05-28T06:25:05.596Z"
   },
   {
    "duration": 23,
    "start_time": "2022-05-28T06:25:05.639Z"
   },
   {
    "duration": 240,
    "start_time": "2022-05-28T06:25:05.663Z"
   },
   {
    "duration": 55,
    "start_time": "2022-05-28T06:25:05.905Z"
   },
   {
    "duration": 184,
    "start_time": "2022-05-28T06:25:05.962Z"
   },
   {
    "duration": 0,
    "start_time": "2022-05-28T06:25:06.148Z"
   },
   {
    "duration": 0,
    "start_time": "2022-05-28T06:25:06.149Z"
   },
   {
    "duration": 0,
    "start_time": "2022-05-28T06:25:06.151Z"
   },
   {
    "duration": 19,
    "start_time": "2022-05-28T07:01:47.154Z"
   },
   {
    "duration": 264,
    "start_time": "2022-05-28T07:01:51.734Z"
   },
   {
    "duration": 522,
    "start_time": "2022-05-28T07:01:55.720Z"
   },
   {
    "duration": 1376,
    "start_time": "2022-05-28T08:21:21.700Z"
   },
   {
    "duration": 226,
    "start_time": "2022-05-28T08:21:23.078Z"
   },
   {
    "duration": 19,
    "start_time": "2022-05-28T08:21:23.306Z"
   },
   {
    "duration": 19,
    "start_time": "2022-05-28T08:21:23.327Z"
   },
   {
    "duration": 33,
    "start_time": "2022-05-28T08:21:23.348Z"
   },
   {
    "duration": 17,
    "start_time": "2022-05-28T08:21:23.382Z"
   },
   {
    "duration": 35,
    "start_time": "2022-05-28T08:21:23.401Z"
   },
   {
    "duration": 30,
    "start_time": "2022-05-28T08:21:23.438Z"
   },
   {
    "duration": 17,
    "start_time": "2022-05-28T08:21:23.470Z"
   },
   {
    "duration": 35,
    "start_time": "2022-05-28T08:21:23.489Z"
   },
   {
    "duration": 8,
    "start_time": "2022-05-28T08:21:23.526Z"
   },
   {
    "duration": 17,
    "start_time": "2022-05-28T08:21:23.536Z"
   },
   {
    "duration": 6,
    "start_time": "2022-05-28T08:21:23.555Z"
   },
   {
    "duration": 253,
    "start_time": "2022-05-28T08:21:23.563Z"
   },
   {
    "duration": 218,
    "start_time": "2022-05-28T08:21:23.818Z"
   },
   {
    "duration": 262,
    "start_time": "2022-05-28T08:21:24.038Z"
   },
   {
    "duration": 34,
    "start_time": "2022-05-28T08:21:24.302Z"
   },
   {
    "duration": 251,
    "start_time": "2022-05-28T08:21:24.337Z"
   },
   {
    "duration": 642,
    "start_time": "2022-05-28T08:21:24.590Z"
   },
   {
    "duration": 363,
    "start_time": "2022-05-28T08:21:25.234Z"
   },
   {
    "duration": 6,
    "start_time": "2022-05-28T08:21:44.936Z"
   },
   {
    "duration": 7,
    "start_time": "2022-05-28T08:22:02.132Z"
   },
   {
    "duration": 17,
    "start_time": "2022-05-28T08:23:41.569Z"
   },
   {
    "duration": 13,
    "start_time": "2022-05-28T08:24:16.520Z"
   },
   {
    "duration": 19,
    "start_time": "2022-05-28T08:24:27.045Z"
   },
   {
    "duration": 14,
    "start_time": "2022-05-28T08:24:34.708Z"
   },
   {
    "duration": 12,
    "start_time": "2022-05-28T08:25:53.630Z"
   },
   {
    "duration": 481,
    "start_time": "2022-05-28T08:26:24.967Z"
   },
   {
    "duration": 16,
    "start_time": "2022-05-28T08:26:39.174Z"
   },
   {
    "duration": 14,
    "start_time": "2022-05-28T08:26:54.804Z"
   },
   {
    "duration": 13,
    "start_time": "2022-05-28T08:27:03.804Z"
   },
   {
    "duration": 549,
    "start_time": "2022-05-28T08:27:06.373Z"
   },
   {
    "duration": 519,
    "start_time": "2022-05-28T08:27:26.748Z"
   },
   {
    "duration": 802,
    "start_time": "2022-05-28T08:27:38.517Z"
   },
   {
    "duration": 1106,
    "start_time": "2022-05-28T08:27:54.638Z"
   },
   {
    "duration": 13,
    "start_time": "2022-05-28T08:28:32.204Z"
   },
   {
    "duration": 1226,
    "start_time": "2022-05-28T08:28:35.134Z"
   },
   {
    "duration": 646,
    "start_time": "2022-05-28T08:29:01.796Z"
   },
   {
    "duration": 18,
    "start_time": "2022-05-28T08:29:33.643Z"
   },
   {
    "duration": 855,
    "start_time": "2022-05-28T08:30:57.981Z"
   },
   {
    "duration": 1138,
    "start_time": "2022-05-28T08:49:03.915Z"
   },
   {
    "duration": 67,
    "start_time": "2022-05-28T08:49:05.055Z"
   },
   {
    "duration": 20,
    "start_time": "2022-05-28T08:49:05.124Z"
   },
   {
    "duration": 20,
    "start_time": "2022-05-28T08:49:05.147Z"
   },
   {
    "duration": 19,
    "start_time": "2022-05-28T08:49:05.169Z"
   },
   {
    "duration": 42,
    "start_time": "2022-05-28T08:49:05.189Z"
   },
   {
    "duration": 14,
    "start_time": "2022-05-28T08:49:05.233Z"
   },
   {
    "duration": 22,
    "start_time": "2022-05-28T08:49:05.249Z"
   },
   {
    "duration": 11,
    "start_time": "2022-05-28T08:49:05.272Z"
   },
   {
    "duration": 37,
    "start_time": "2022-05-28T08:49:05.286Z"
   },
   {
    "duration": 8,
    "start_time": "2022-05-28T08:49:05.325Z"
   },
   {
    "duration": 13,
    "start_time": "2022-05-28T08:49:05.335Z"
   },
   {
    "duration": 6,
    "start_time": "2022-05-28T08:49:05.349Z"
   },
   {
    "duration": 237,
    "start_time": "2022-05-28T08:49:05.356Z"
   },
   {
    "duration": 211,
    "start_time": "2022-05-28T08:49:05.595Z"
   },
   {
    "duration": 257,
    "start_time": "2022-05-28T08:49:05.808Z"
   },
   {
    "duration": 21,
    "start_time": "2022-05-28T08:49:06.067Z"
   },
   {
    "duration": 234,
    "start_time": "2022-05-28T08:49:06.089Z"
   },
   {
    "duration": 593,
    "start_time": "2022-05-28T08:49:06.325Z"
   },
   {
    "duration": 382,
    "start_time": "2022-05-28T08:49:06.919Z"
   },
   {
    "duration": 4,
    "start_time": "2022-05-28T08:49:07.302Z"
   },
   {
    "duration": 0,
    "start_time": "2022-05-28T08:49:07.308Z"
   },
   {
    "duration": 0,
    "start_time": "2022-05-28T08:49:07.309Z"
   },
   {
    "duration": 0,
    "start_time": "2022-05-28T08:49:07.310Z"
   },
   {
    "duration": 0,
    "start_time": "2022-05-28T08:49:07.323Z"
   },
   {
    "duration": 0,
    "start_time": "2022-05-28T08:49:07.324Z"
   },
   {
    "duration": 0,
    "start_time": "2022-05-28T08:49:07.325Z"
   },
   {
    "duration": 0,
    "start_time": "2022-05-28T08:49:07.326Z"
   },
   {
    "duration": 0,
    "start_time": "2022-05-28T08:49:07.327Z"
   },
   {
    "duration": 0,
    "start_time": "2022-05-28T08:49:07.328Z"
   },
   {
    "duration": 0,
    "start_time": "2022-05-28T08:49:07.329Z"
   },
   {
    "duration": 0,
    "start_time": "2022-05-28T08:49:07.330Z"
   },
   {
    "duration": 0,
    "start_time": "2022-05-28T08:49:07.331Z"
   },
   {
    "duration": 0,
    "start_time": "2022-05-28T08:49:07.332Z"
   },
   {
    "duration": 0,
    "start_time": "2022-05-28T08:49:07.333Z"
   },
   {
    "duration": 0,
    "start_time": "2022-05-28T08:49:07.334Z"
   },
   {
    "duration": 0,
    "start_time": "2022-05-28T08:49:07.335Z"
   },
   {
    "duration": 0,
    "start_time": "2022-05-28T08:49:07.336Z"
   },
   {
    "duration": 0,
    "start_time": "2022-05-28T08:49:07.337Z"
   },
   {
    "duration": 3,
    "start_time": "2022-05-28T08:49:36.915Z"
   },
   {
    "duration": 74,
    "start_time": "2022-05-28T08:49:36.920Z"
   },
   {
    "duration": 12,
    "start_time": "2022-05-28T08:49:36.995Z"
   },
   {
    "duration": 15,
    "start_time": "2022-05-28T08:49:37.009Z"
   },
   {
    "duration": 16,
    "start_time": "2022-05-28T08:49:37.026Z"
   },
   {
    "duration": 15,
    "start_time": "2022-05-28T08:49:37.043Z"
   },
   {
    "duration": 13,
    "start_time": "2022-05-28T08:49:37.059Z"
   },
   {
    "duration": 57,
    "start_time": "2022-05-28T08:49:37.074Z"
   },
   {
    "duration": 12,
    "start_time": "2022-05-28T08:49:37.132Z"
   },
   {
    "duration": 6,
    "start_time": "2022-05-28T08:49:37.145Z"
   },
   {
    "duration": 7,
    "start_time": "2022-05-28T08:49:37.153Z"
   },
   {
    "duration": 12,
    "start_time": "2022-05-28T08:49:37.162Z"
   },
   {
    "duration": 4,
    "start_time": "2022-05-28T08:49:37.176Z"
   },
   {
    "duration": 231,
    "start_time": "2022-05-28T08:49:37.183Z"
   },
   {
    "duration": 127,
    "start_time": "2022-05-28T08:49:37.423Z"
   },
   {
    "duration": 259,
    "start_time": "2022-05-28T08:49:37.552Z"
   },
   {
    "duration": 22,
    "start_time": "2022-05-28T08:49:37.813Z"
   },
   {
    "duration": 263,
    "start_time": "2022-05-28T08:49:37.836Z"
   },
   {
    "duration": 511,
    "start_time": "2022-05-28T08:49:38.101Z"
   },
   {
    "duration": 395,
    "start_time": "2022-05-28T08:49:38.614Z"
   },
   {
    "duration": 14,
    "start_time": "2022-05-28T08:49:39.012Z"
   },
   {
    "duration": 621,
    "start_time": "2022-05-28T08:49:39.028Z"
   },
   {
    "duration": 528,
    "start_time": "2022-05-28T08:49:39.651Z"
   },
   {
    "duration": 676,
    "start_time": "2022-05-28T08:49:40.181Z"
   },
   {
    "duration": 8,
    "start_time": "2022-05-28T08:49:40.858Z"
   },
   {
    "duration": 1034,
    "start_time": "2022-05-28T08:49:40.867Z"
   },
   {
    "duration": 763,
    "start_time": "2022-05-28T08:49:41.903Z"
   },
   {
    "duration": 5,
    "start_time": "2022-05-28T08:49:42.668Z"
   },
   {
    "duration": 67,
    "start_time": "2022-05-28T08:49:42.674Z"
   },
   {
    "duration": 24,
    "start_time": "2022-05-28T08:49:42.743Z"
   },
   {
    "duration": 264,
    "start_time": "2022-05-28T08:49:42.769Z"
   },
   {
    "duration": 45,
    "start_time": "2022-05-28T08:49:43.035Z"
   },
   {
    "duration": 5,
    "start_time": "2022-05-28T08:49:43.081Z"
   },
   {
    "duration": 0,
    "start_time": "2022-05-28T08:49:43.088Z"
   },
   {
    "duration": 31,
    "start_time": "2022-05-28T08:50:04.939Z"
   },
   {
    "duration": 29,
    "start_time": "2022-05-28T08:51:14.683Z"
   },
   {
    "duration": 36,
    "start_time": "2022-05-28T08:51:48.716Z"
   },
   {
    "duration": 41,
    "start_time": "2022-05-28T08:52:01.764Z"
   },
   {
    "duration": 32,
    "start_time": "2022-05-28T08:52:14.223Z"
   },
   {
    "duration": 927,
    "start_time": "2022-05-28T08:54:02.139Z"
   },
   {
    "duration": 1192,
    "start_time": "2022-05-28T08:54:41.987Z"
   },
   {
    "duration": 1451,
    "start_time": "2022-05-28T09:00:28.769Z"
   },
   {
    "duration": 1000,
    "start_time": "2022-05-28T09:02:31.994Z"
   },
   {
    "duration": 207,
    "start_time": "2022-05-28T09:02:47.416Z"
   },
   {
    "duration": 1085,
    "start_time": "2022-05-28T09:03:20.783Z"
   },
   {
    "duration": 65,
    "start_time": "2022-05-28T09:03:21.870Z"
   },
   {
    "duration": 13,
    "start_time": "2022-05-28T09:03:21.937Z"
   },
   {
    "duration": 18,
    "start_time": "2022-05-28T09:03:21.952Z"
   },
   {
    "duration": 17,
    "start_time": "2022-05-28T09:03:21.972Z"
   },
   {
    "duration": 38,
    "start_time": "2022-05-28T09:03:21.990Z"
   },
   {
    "duration": 14,
    "start_time": "2022-05-28T09:03:22.029Z"
   },
   {
    "duration": 21,
    "start_time": "2022-05-28T09:03:22.044Z"
   },
   {
    "duration": 11,
    "start_time": "2022-05-28T09:03:22.066Z"
   },
   {
    "duration": 6,
    "start_time": "2022-05-28T09:03:22.078Z"
   },
   {
    "duration": 38,
    "start_time": "2022-05-28T09:03:22.086Z"
   },
   {
    "duration": 20,
    "start_time": "2022-05-28T09:03:22.126Z"
   },
   {
    "duration": 6,
    "start_time": "2022-05-28T09:03:22.148Z"
   },
   {
    "duration": 215,
    "start_time": "2022-05-28T09:03:22.157Z"
   },
   {
    "duration": 208,
    "start_time": "2022-05-28T09:03:22.374Z"
   },
   {
    "duration": 311,
    "start_time": "2022-05-28T09:03:22.584Z"
   },
   {
    "duration": 30,
    "start_time": "2022-05-28T09:03:22.897Z"
   },
   {
    "duration": 229,
    "start_time": "2022-05-28T09:03:22.929Z"
   },
   {
    "duration": 468,
    "start_time": "2022-05-28T09:03:23.160Z"
   },
   {
    "duration": 359,
    "start_time": "2022-05-28T09:03:23.630Z"
   },
   {
    "duration": 8,
    "start_time": "2022-05-28T09:03:23.990Z"
   },
   {
    "duration": 507,
    "start_time": "2022-05-28T09:03:23.999Z"
   },
   {
    "duration": 467,
    "start_time": "2022-05-28T09:03:24.508Z"
   },
   {
    "duration": 666,
    "start_time": "2022-05-28T09:03:24.977Z"
   },
   {
    "duration": 8,
    "start_time": "2022-05-28T09:03:25.644Z"
   },
   {
    "duration": 1038,
    "start_time": "2022-05-28T09:03:25.654Z"
   },
   {
    "duration": 759,
    "start_time": "2022-05-28T09:03:26.694Z"
   },
   {
    "duration": 3,
    "start_time": "2022-05-28T09:03:27.455Z"
   },
   {
    "duration": 34,
    "start_time": "2022-05-28T09:03:27.460Z"
   },
   {
    "duration": 34,
    "start_time": "2022-05-28T09:03:27.496Z"
   },
   {
    "duration": 223,
    "start_time": "2022-05-28T09:03:27.531Z"
   },
   {
    "duration": 50,
    "start_time": "2022-05-28T09:03:27.755Z"
   },
   {
    "duration": 911,
    "start_time": "2022-05-28T09:03:27.807Z"
   },
   {
    "duration": 241,
    "start_time": "2022-05-28T09:03:28.719Z"
   },
   {
    "duration": 967,
    "start_time": "2022-05-28T09:03:28.962Z"
   },
   {
    "duration": 219,
    "start_time": "2022-05-28T09:03:29.931Z"
   },
   {
    "duration": 1444,
    "start_time": "2022-05-28T13:54:44.306Z"
   },
   {
    "duration": 130,
    "start_time": "2022-05-28T13:54:45.752Z"
   },
   {
    "duration": 14,
    "start_time": "2022-05-28T13:54:45.884Z"
   },
   {
    "duration": 20,
    "start_time": "2022-05-28T13:54:45.900Z"
   },
   {
    "duration": 18,
    "start_time": "2022-05-28T13:54:45.921Z"
   },
   {
    "duration": 44,
    "start_time": "2022-05-28T13:54:45.941Z"
   },
   {
    "duration": 19,
    "start_time": "2022-05-28T13:54:45.987Z"
   },
   {
    "duration": 23,
    "start_time": "2022-05-28T13:54:46.008Z"
   },
   {
    "duration": 13,
    "start_time": "2022-05-28T13:54:46.033Z"
   },
   {
    "duration": 34,
    "start_time": "2022-05-28T13:54:46.049Z"
   },
   {
    "duration": 8,
    "start_time": "2022-05-28T13:54:46.086Z"
   },
   {
    "duration": 21,
    "start_time": "2022-05-28T13:54:46.096Z"
   },
   {
    "duration": 7,
    "start_time": "2022-05-28T13:54:46.118Z"
   },
   {
    "duration": 285,
    "start_time": "2022-05-28T13:54:46.127Z"
   },
   {
    "duration": 218,
    "start_time": "2022-05-28T13:54:46.414Z"
   },
   {
    "duration": 278,
    "start_time": "2022-05-28T13:54:46.634Z"
   },
   {
    "duration": 22,
    "start_time": "2022-05-28T13:54:46.914Z"
   },
   {
    "duration": 249,
    "start_time": "2022-05-28T13:54:46.937Z"
   },
   {
    "duration": 707,
    "start_time": "2022-05-28T13:54:47.188Z"
   },
   {
    "duration": 423,
    "start_time": "2022-05-28T13:54:47.897Z"
   },
   {
    "duration": 9,
    "start_time": "2022-05-28T13:54:48.322Z"
   },
   {
    "duration": 532,
    "start_time": "2022-05-28T13:54:48.333Z"
   },
   {
    "duration": 471,
    "start_time": "2022-05-28T13:54:48.867Z"
   },
   {
    "duration": 691,
    "start_time": "2022-05-28T13:54:49.339Z"
   },
   {
    "duration": 8,
    "start_time": "2022-05-28T13:54:50.032Z"
   },
   {
    "duration": 1064,
    "start_time": "2022-05-28T13:54:50.042Z"
   },
   {
    "duration": 810,
    "start_time": "2022-05-28T13:54:51.108Z"
   },
   {
    "duration": 1253,
    "start_time": "2022-05-28T13:54:54.517Z"
   },
   {
    "duration": 391,
    "start_time": "2022-05-28T13:57:03.969Z"
   },
   {
    "duration": 1027,
    "start_time": "2022-05-28T13:57:22.702Z"
   },
   {
    "duration": 22233,
    "start_time": "2022-05-28T13:57:36.719Z"
   },
   {
    "duration": 135,
    "start_time": "2022-05-28T13:59:07.453Z"
   },
   {
    "duration": 6,
    "start_time": "2022-05-28T13:59:33.049Z"
   },
   {
    "duration": 11,
    "start_time": "2022-05-28T13:59:39.608Z"
   },
   {
    "duration": 883,
    "start_time": "2022-05-28T14:00:44.650Z"
   },
   {
    "duration": 18,
    "start_time": "2022-05-28T14:01:43.175Z"
   },
   {
    "duration": 15,
    "start_time": "2022-05-28T14:01:58.977Z"
   },
   {
    "duration": 11,
    "start_time": "2022-05-28T14:02:10.244Z"
   },
   {
    "duration": 288,
    "start_time": "2022-05-28T14:02:18.812Z"
   },
   {
    "duration": 885,
    "start_time": "2022-05-28T14:02:32.881Z"
   },
   {
    "duration": 9,
    "start_time": "2022-05-28T14:03:20.377Z"
   },
   {
    "duration": 10,
    "start_time": "2022-05-28T14:03:26.527Z"
   },
   {
    "duration": 12,
    "start_time": "2022-05-28T14:03:30.046Z"
   },
   {
    "duration": 205,
    "start_time": "2022-05-28T14:03:39.327Z"
   },
   {
    "duration": 206,
    "start_time": "2022-05-28T14:04:51.250Z"
   },
   {
    "duration": 12,
    "start_time": "2022-05-28T14:23:03.974Z"
   },
   {
    "duration": 187,
    "start_time": "2022-05-28T14:23:06.727Z"
   },
   {
    "duration": 4,
    "start_time": "2022-05-28T14:30:28.829Z"
   },
   {
    "duration": 70,
    "start_time": "2022-05-28T14:30:28.835Z"
   },
   {
    "duration": 13,
    "start_time": "2022-05-28T14:30:28.907Z"
   },
   {
    "duration": 41,
    "start_time": "2022-05-28T14:30:28.922Z"
   },
   {
    "duration": 19,
    "start_time": "2022-05-28T14:30:28.965Z"
   },
   {
    "duration": 16,
    "start_time": "2022-05-28T14:30:28.985Z"
   },
   {
    "duration": 14,
    "start_time": "2022-05-28T14:30:29.003Z"
   },
   {
    "duration": 21,
    "start_time": "2022-05-28T14:30:29.019Z"
   },
   {
    "duration": 45,
    "start_time": "2022-05-28T14:30:29.042Z"
   },
   {
    "duration": 6,
    "start_time": "2022-05-28T14:30:29.089Z"
   },
   {
    "duration": 8,
    "start_time": "2022-05-28T14:30:29.097Z"
   },
   {
    "duration": 25,
    "start_time": "2022-05-28T14:30:29.106Z"
   },
   {
    "duration": 5,
    "start_time": "2022-05-28T14:30:29.134Z"
   },
   {
    "duration": 240,
    "start_time": "2022-05-28T14:30:29.141Z"
   },
   {
    "duration": 160,
    "start_time": "2022-05-28T14:30:29.385Z"
   },
   {
    "duration": 267,
    "start_time": "2022-05-28T14:30:29.546Z"
   },
   {
    "duration": 22,
    "start_time": "2022-05-28T14:30:29.815Z"
   },
   {
    "duration": 255,
    "start_time": "2022-05-28T14:30:29.838Z"
   },
   {
    "duration": 615,
    "start_time": "2022-05-28T14:30:30.094Z"
   },
   {
    "duration": 406,
    "start_time": "2022-05-28T14:30:30.711Z"
   },
   {
    "duration": 12,
    "start_time": "2022-05-28T14:30:31.120Z"
   },
   {
    "duration": 208,
    "start_time": "2022-05-28T14:30:31.134Z"
   },
   {
    "duration": 8,
    "start_time": "2022-05-28T14:30:31.344Z"
   },
   {
    "duration": 572,
    "start_time": "2022-05-28T14:30:31.354Z"
   },
   {
    "duration": 501,
    "start_time": "2022-05-28T14:30:31.928Z"
   },
   {
    "duration": 722,
    "start_time": "2022-05-28T14:30:32.431Z"
   },
   {
    "duration": 9,
    "start_time": "2022-05-28T14:30:33.155Z"
   },
   {
    "duration": 1131,
    "start_time": "2022-05-28T14:30:33.165Z"
   },
   {
    "duration": 781,
    "start_time": "2022-05-28T14:30:34.299Z"
   },
   {
    "duration": 4,
    "start_time": "2022-05-28T14:30:35.083Z"
   },
   {
    "duration": 43,
    "start_time": "2022-05-28T14:30:35.089Z"
   },
   {
    "duration": 30,
    "start_time": "2022-05-28T14:30:35.135Z"
   },
   {
    "duration": 267,
    "start_time": "2022-05-28T14:30:35.167Z"
   },
   {
    "duration": 480,
    "start_time": "2022-05-28T14:30:35.436Z"
   },
   {
    "duration": 1165,
    "start_time": "2022-05-28T14:30:35.918Z"
   },
   {
    "duration": 253,
    "start_time": "2022-05-28T14:30:37.085Z"
   },
   {
    "duration": 1005,
    "start_time": "2022-05-28T14:30:37.342Z"
   },
   {
    "duration": 213,
    "start_time": "2022-05-28T14:30:38.349Z"
   },
   {
    "duration": 1100,
    "start_time": "2022-05-28T20:30:07.458Z"
   },
   {
    "duration": 267,
    "start_time": "2022-05-28T20:30:08.560Z"
   },
   {
    "duration": 15,
    "start_time": "2022-05-28T20:30:08.829Z"
   },
   {
    "duration": 18,
    "start_time": "2022-05-28T20:30:08.846Z"
   },
   {
    "duration": 18,
    "start_time": "2022-05-28T20:30:08.866Z"
   },
   {
    "duration": 52,
    "start_time": "2022-05-28T20:30:08.886Z"
   },
   {
    "duration": 14,
    "start_time": "2022-05-28T20:30:08.941Z"
   },
   {
    "duration": 24,
    "start_time": "2022-05-28T20:30:08.956Z"
   },
   {
    "duration": 13,
    "start_time": "2022-05-28T20:30:08.982Z"
   },
   {
    "duration": 31,
    "start_time": "2022-05-28T20:30:08.999Z"
   },
   {
    "duration": 10,
    "start_time": "2022-05-28T20:30:09.032Z"
   },
   {
    "duration": 16,
    "start_time": "2022-05-28T20:30:09.044Z"
   },
   {
    "duration": 5,
    "start_time": "2022-05-28T20:30:09.062Z"
   },
   {
    "duration": 235,
    "start_time": "2022-05-28T20:30:09.068Z"
   },
   {
    "duration": 210,
    "start_time": "2022-05-28T20:30:09.305Z"
   },
   {
    "duration": 243,
    "start_time": "2022-05-28T20:30:09.516Z"
   },
   {
    "duration": 20,
    "start_time": "2022-05-28T20:30:09.760Z"
   },
   {
    "duration": 242,
    "start_time": "2022-05-28T20:30:09.782Z"
   },
   {
    "duration": 524,
    "start_time": "2022-05-28T20:30:10.027Z"
   },
   {
    "duration": 345,
    "start_time": "2022-05-28T20:30:10.553Z"
   },
   {
    "duration": 10,
    "start_time": "2022-05-28T20:30:10.900Z"
   },
   {
    "duration": 189,
    "start_time": "2022-05-28T20:30:10.911Z"
   },
   {
    "duration": 7,
    "start_time": "2022-05-28T20:30:11.102Z"
   },
   {
    "duration": 518,
    "start_time": "2022-05-28T20:30:11.111Z"
   },
   {
    "duration": 433,
    "start_time": "2022-05-28T20:30:11.631Z"
   },
   {
    "duration": 679,
    "start_time": "2022-05-28T20:30:12.066Z"
   },
   {
    "duration": 7,
    "start_time": "2022-05-28T20:30:12.747Z"
   },
   {
    "duration": 1058,
    "start_time": "2022-05-28T20:30:12.758Z"
   },
   {
    "duration": 830,
    "start_time": "2022-05-28T20:30:13.818Z"
   },
   {
    "duration": 4,
    "start_time": "2022-05-28T20:30:14.650Z"
   },
   {
    "duration": 36,
    "start_time": "2022-05-28T20:30:14.656Z"
   },
   {
    "duration": 36,
    "start_time": "2022-05-28T20:30:14.693Z"
   },
   {
    "duration": 254,
    "start_time": "2022-05-28T20:30:14.731Z"
   },
   {
    "duration": 50,
    "start_time": "2022-05-28T20:30:14.986Z"
   },
   {
    "duration": 888,
    "start_time": "2022-05-28T20:30:15.038Z"
   },
   {
    "duration": 222,
    "start_time": "2022-05-28T20:30:15.928Z"
   },
   {
    "duration": 895,
    "start_time": "2022-05-28T20:30:16.151Z"
   },
   {
    "duration": 227,
    "start_time": "2022-05-28T20:30:17.048Z"
   },
   {
    "duration": 75,
    "start_time": "2022-05-29T07:33:06.180Z"
   },
   {
    "duration": 1317,
    "start_time": "2022-05-29T07:33:10.821Z"
   },
   {
    "duration": 238,
    "start_time": "2022-05-29T07:33:12.140Z"
   },
   {
    "duration": 15,
    "start_time": "2022-05-29T07:33:12.380Z"
   },
   {
    "duration": 19,
    "start_time": "2022-05-29T07:33:12.397Z"
   },
   {
    "duration": 18,
    "start_time": "2022-05-29T07:33:12.417Z"
   },
   {
    "duration": 28,
    "start_time": "2022-05-29T07:33:12.437Z"
   },
   {
    "duration": 15,
    "start_time": "2022-05-29T07:33:12.467Z"
   },
   {
    "duration": 26,
    "start_time": "2022-05-29T07:33:12.484Z"
   },
   {
    "duration": 43,
    "start_time": "2022-05-29T07:33:12.511Z"
   },
   {
    "duration": 8,
    "start_time": "2022-05-29T07:33:12.556Z"
   },
   {
    "duration": 29,
    "start_time": "2022-05-29T07:33:12.565Z"
   },
   {
    "duration": 36,
    "start_time": "2022-05-29T07:33:12.596Z"
   },
   {
    "duration": 7,
    "start_time": "2022-05-29T07:33:12.634Z"
   },
   {
    "duration": 284,
    "start_time": "2022-05-29T07:33:12.642Z"
   },
   {
    "duration": 141,
    "start_time": "2022-05-29T07:33:12.928Z"
   },
   {
    "duration": 253,
    "start_time": "2022-05-29T07:33:13.070Z"
   },
   {
    "duration": 29,
    "start_time": "2022-05-29T07:33:13.325Z"
   },
   {
    "duration": 243,
    "start_time": "2022-05-29T07:33:13.356Z"
   },
   {
    "duration": 663,
    "start_time": "2022-05-29T07:33:13.600Z"
   },
   {
    "duration": 369,
    "start_time": "2022-05-29T07:33:14.264Z"
   },
   {
    "duration": 10,
    "start_time": "2022-05-29T07:33:14.634Z"
   },
   {
    "duration": 193,
    "start_time": "2022-05-29T07:33:14.652Z"
   },
   {
    "duration": 22,
    "start_time": "2022-05-29T07:33:14.846Z"
   },
   {
    "duration": 375,
    "start_time": "2022-05-29T07:34:42.358Z"
   },
   {
    "duration": 188,
    "start_time": "2022-05-29T07:34:58.775Z"
   },
   {
    "duration": 388,
    "start_time": "2022-05-29T07:35:08.193Z"
   },
   {
    "duration": 1512,
    "start_time": "2022-05-29T07:37:13.161Z"
   },
   {
    "duration": 511,
    "start_time": "2022-05-29T07:37:37.521Z"
   },
   {
    "duration": 289,
    "start_time": "2022-05-29T07:37:44.773Z"
   },
   {
    "duration": 228,
    "start_time": "2022-05-29T07:37:52.857Z"
   },
   {
    "duration": 643,
    "start_time": "2022-05-29T07:38:46.157Z"
   },
   {
    "duration": 296,
    "start_time": "2022-05-29T07:38:49.824Z"
   },
   {
    "duration": 287,
    "start_time": "2022-05-29T07:43:11.174Z"
   },
   {
    "duration": 303,
    "start_time": "2022-05-29T07:43:40.390Z"
   },
   {
    "duration": 1051,
    "start_time": "2022-05-29T07:43:49.443Z"
   },
   {
    "duration": 250,
    "start_time": "2022-05-29T07:43:59.146Z"
   },
   {
    "duration": 25,
    "start_time": "2022-05-29T07:50:43.293Z"
   },
   {
    "duration": 39,
    "start_time": "2022-05-29T07:50:52.429Z"
   },
   {
    "duration": 27,
    "start_time": "2022-05-29T07:54:31.081Z"
   },
   {
    "duration": 4,
    "start_time": "2022-05-29T07:54:36.089Z"
   },
   {
    "duration": 11,
    "start_time": "2022-05-29T07:55:32.764Z"
   },
   {
    "duration": 8,
    "start_time": "2022-05-29T07:57:12.028Z"
   },
   {
    "duration": 7,
    "start_time": "2022-05-29T07:57:36.101Z"
   },
   {
    "duration": 20,
    "start_time": "2022-05-29T07:57:40.468Z"
   },
   {
    "duration": 29,
    "start_time": "2022-05-29T08:01:24.553Z"
   },
   {
    "duration": 20,
    "start_time": "2022-05-29T08:01:41.720Z"
   },
   {
    "duration": 31,
    "start_time": "2022-05-29T08:01:45.648Z"
   },
   {
    "duration": 26,
    "start_time": "2022-05-29T08:02:38.974Z"
   },
   {
    "duration": 22,
    "start_time": "2022-05-29T08:02:43.888Z"
   },
   {
    "duration": 34,
    "start_time": "2022-05-29T08:02:53.103Z"
   },
   {
    "duration": 70,
    "start_time": "2022-05-29T08:03:54.362Z"
   },
   {
    "duration": 15,
    "start_time": "2022-05-29T08:04:12.704Z"
   },
   {
    "duration": 954,
    "start_time": "2022-05-29T08:04:41.406Z"
   },
   {
    "duration": 21,
    "start_time": "2022-05-29T08:05:04.203Z"
   },
   {
    "duration": 232,
    "start_time": "2022-05-29T08:06:44.456Z"
   },
   {
    "duration": 17,
    "start_time": "2022-05-29T08:08:06.440Z"
   },
   {
    "duration": 15,
    "start_time": "2022-05-29T08:08:51.449Z"
   },
   {
    "duration": 13,
    "start_time": "2022-05-29T08:09:00.308Z"
   },
   {
    "duration": 16,
    "start_time": "2022-05-29T08:09:07.544Z"
   },
   {
    "duration": 16,
    "start_time": "2022-05-29T08:09:44.170Z"
   },
   {
    "duration": 15,
    "start_time": "2022-05-29T08:10:12.466Z"
   },
   {
    "duration": 31,
    "start_time": "2022-05-29T08:10:21.008Z"
   },
   {
    "duration": 10,
    "start_time": "2022-05-29T08:10:37.690Z"
   },
   {
    "duration": 17,
    "start_time": "2022-05-29T08:10:44.091Z"
   },
   {
    "duration": 12,
    "start_time": "2022-05-29T08:10:52.225Z"
   },
   {
    "duration": 63,
    "start_time": "2022-05-29T08:12:00.030Z"
   },
   {
    "duration": 16,
    "start_time": "2022-05-29T08:12:02.885Z"
   },
   {
    "duration": 13,
    "start_time": "2022-05-29T08:12:27.922Z"
   },
   {
    "duration": 335,
    "start_time": "2022-05-29T08:12:30.163Z"
   },
   {
    "duration": 20,
    "start_time": "2022-05-29T08:12:38.907Z"
   },
   {
    "duration": 16,
    "start_time": "2022-05-29T08:12:49.201Z"
   },
   {
    "duration": 17,
    "start_time": "2022-05-29T08:13:43.862Z"
   },
   {
    "duration": 15,
    "start_time": "2022-05-29T08:13:53.935Z"
   },
   {
    "duration": 11,
    "start_time": "2022-05-29T08:15:10.727Z"
   },
   {
    "duration": 24,
    "start_time": "2022-05-29T08:15:22.080Z"
   },
   {
    "duration": 13,
    "start_time": "2022-05-29T08:15:28.288Z"
   },
   {
    "duration": 13,
    "start_time": "2022-05-29T08:15:36.665Z"
   },
   {
    "duration": 9,
    "start_time": "2022-05-29T08:15:39.618Z"
   },
   {
    "duration": 12,
    "start_time": "2022-05-29T08:15:43.034Z"
   },
   {
    "duration": 6,
    "start_time": "2022-05-29T08:15:56.665Z"
   },
   {
    "duration": 155,
    "start_time": "2022-05-29T08:16:05.301Z"
   },
   {
    "duration": 7,
    "start_time": "2022-05-29T08:16:14.664Z"
   },
   {
    "duration": 6,
    "start_time": "2022-05-29T08:16:22.178Z"
   },
   {
    "duration": 16,
    "start_time": "2022-05-29T08:16:41.474Z"
   },
   {
    "duration": 22,
    "start_time": "2022-05-29T08:16:56.760Z"
   },
   {
    "duration": 16,
    "start_time": "2022-05-29T08:17:02.278Z"
   },
   {
    "duration": 15,
    "start_time": "2022-05-29T08:17:07.712Z"
   },
   {
    "duration": 18,
    "start_time": "2022-05-29T08:17:28.163Z"
   },
   {
    "duration": 16,
    "start_time": "2022-05-29T08:17:40.479Z"
   },
   {
    "duration": 4,
    "start_time": "2022-05-29T08:17:51.452Z"
   },
   {
    "duration": 17,
    "start_time": "2022-05-29T08:17:54.356Z"
   },
   {
    "duration": 22,
    "start_time": "2022-05-29T08:18:03.086Z"
   },
   {
    "duration": 21,
    "start_time": "2022-05-29T08:18:35.718Z"
   },
   {
    "duration": 20,
    "start_time": "2022-05-29T08:18:42.412Z"
   },
   {
    "duration": 8,
    "start_time": "2022-05-29T08:18:48.617Z"
   },
   {
    "duration": 18,
    "start_time": "2022-05-29T08:19:09.615Z"
   },
   {
    "duration": 285,
    "start_time": "2022-05-29T08:19:29.361Z"
   },
   {
    "duration": 13,
    "start_time": "2022-05-29T08:19:34.510Z"
   },
   {
    "duration": 6,
    "start_time": "2022-05-29T08:19:41.622Z"
   },
   {
    "duration": 15,
    "start_time": "2022-05-29T08:19:55.756Z"
   },
   {
    "duration": 23,
    "start_time": "2022-05-29T08:20:07.539Z"
   },
   {
    "duration": 16,
    "start_time": "2022-05-29T08:21:05.425Z"
   },
   {
    "duration": 28,
    "start_time": "2022-05-29T08:21:11.993Z"
   },
   {
    "duration": 16,
    "start_time": "2022-05-29T08:21:14.449Z"
   },
   {
    "duration": 16,
    "start_time": "2022-05-29T08:21:18.041Z"
   },
   {
    "duration": 13,
    "start_time": "2022-05-29T08:21:30.871Z"
   },
   {
    "duration": 216,
    "start_time": "2022-05-29T08:21:49.891Z"
   },
   {
    "duration": 18,
    "start_time": "2022-05-29T08:22:18.300Z"
   },
   {
    "duration": 9,
    "start_time": "2022-05-29T08:22:32.089Z"
   },
   {
    "duration": 13,
    "start_time": "2022-05-29T08:22:38.394Z"
   },
   {
    "duration": 202,
    "start_time": "2022-05-29T08:23:09.620Z"
   },
   {
    "duration": 18,
    "start_time": "2022-05-29T08:23:21.700Z"
   },
   {
    "duration": 8,
    "start_time": "2022-05-29T08:23:45.314Z"
   },
   {
    "duration": 16,
    "start_time": "2022-05-29T08:24:41.270Z"
   },
   {
    "duration": 15,
    "start_time": "2022-05-29T08:24:53.577Z"
   },
   {
    "duration": 15,
    "start_time": "2022-05-29T08:25:01.081Z"
   },
   {
    "duration": 14,
    "start_time": "2022-05-29T08:25:07.078Z"
   },
   {
    "duration": 9,
    "start_time": "2022-05-29T08:26:31.561Z"
   },
   {
    "duration": 20,
    "start_time": "2022-05-29T08:26:35.337Z"
   },
   {
    "duration": 11,
    "start_time": "2022-05-29T08:28:24.467Z"
   },
   {
    "duration": 18,
    "start_time": "2022-05-29T08:28:32.889Z"
   },
   {
    "duration": 20,
    "start_time": "2022-05-29T08:29:06.414Z"
   },
   {
    "duration": 17,
    "start_time": "2022-05-29T08:29:14.480Z"
   },
   {
    "duration": 255,
    "start_time": "2022-05-29T08:30:14.124Z"
   },
   {
    "duration": 14,
    "start_time": "2022-05-29T08:30:31.789Z"
   },
   {
    "duration": 32,
    "start_time": "2022-05-29T08:32:28.568Z"
   },
   {
    "duration": 336,
    "start_time": "2022-05-29T08:32:32.043Z"
   },
   {
    "duration": 327,
    "start_time": "2022-05-29T08:32:43.497Z"
   },
   {
    "duration": 323,
    "start_time": "2022-05-29T08:32:55.954Z"
   },
   {
    "duration": 21,
    "start_time": "2022-05-29T08:34:00.447Z"
   },
   {
    "duration": 22,
    "start_time": "2022-05-29T08:34:08.224Z"
   },
   {
    "duration": 20,
    "start_time": "2022-05-29T08:35:53.553Z"
   },
   {
    "duration": 21,
    "start_time": "2022-05-29T08:36:46.964Z"
   },
   {
    "duration": 14,
    "start_time": "2022-05-29T08:36:57.583Z"
   },
   {
    "duration": 209,
    "start_time": "2022-05-29T08:37:46.264Z"
   },
   {
    "duration": 20,
    "start_time": "2022-05-29T08:37:58.269Z"
   },
   {
    "duration": 21,
    "start_time": "2022-05-29T08:38:33.981Z"
   },
   {
    "duration": 21,
    "start_time": "2022-05-29T08:38:46.545Z"
   },
   {
    "duration": 19,
    "start_time": "2022-05-29T08:39:42.468Z"
   },
   {
    "duration": 326,
    "start_time": "2022-05-29T08:39:50.919Z"
   },
   {
    "duration": 57,
    "start_time": "2022-05-29T17:30:40.190Z"
   },
   {
    "duration": 1387,
    "start_time": "2022-05-29T18:36:45.486Z"
   },
   {
    "duration": 284,
    "start_time": "2022-05-29T18:36:46.881Z"
   },
   {
    "duration": 21,
    "start_time": "2022-05-29T18:36:47.167Z"
   },
   {
    "duration": 44,
    "start_time": "2022-05-29T18:36:47.191Z"
   },
   {
    "duration": 29,
    "start_time": "2022-05-29T18:36:47.237Z"
   },
   {
    "duration": 28,
    "start_time": "2022-05-29T18:36:47.268Z"
   },
   {
    "duration": 31,
    "start_time": "2022-05-29T18:36:47.299Z"
   },
   {
    "duration": 48,
    "start_time": "2022-05-29T18:36:47.332Z"
   },
   {
    "duration": 27,
    "start_time": "2022-05-29T18:36:47.383Z"
   },
   {
    "duration": 10,
    "start_time": "2022-05-29T18:36:47.414Z"
   },
   {
    "duration": 55,
    "start_time": "2022-05-29T18:36:47.426Z"
   },
   {
    "duration": 27,
    "start_time": "2022-05-29T18:36:47.484Z"
   },
   {
    "duration": 6,
    "start_time": "2022-05-29T18:36:47.513Z"
   },
   {
    "duration": 273,
    "start_time": "2022-05-29T18:36:47.520Z"
   },
   {
    "duration": 219,
    "start_time": "2022-05-29T18:36:47.795Z"
   },
   {
    "duration": 304,
    "start_time": "2022-05-29T18:36:48.016Z"
   },
   {
    "duration": 43,
    "start_time": "2022-05-29T18:36:48.323Z"
   },
   {
    "duration": 275,
    "start_time": "2022-05-29T18:36:48.368Z"
   },
   {
    "duration": 649,
    "start_time": "2022-05-29T18:36:48.645Z"
   },
   {
    "duration": 393,
    "start_time": "2022-05-29T18:36:49.295Z"
   },
   {
    "duration": 14,
    "start_time": "2022-05-29T18:36:49.689Z"
   },
   {
    "duration": 220,
    "start_time": "2022-05-29T18:36:49.705Z"
   },
   {
    "duration": 259,
    "start_time": "2022-05-29T18:36:49.927Z"
   },
   {
    "duration": 3,
    "start_time": "2022-05-29T18:36:50.188Z"
   },
   {
    "duration": 31,
    "start_time": "2022-05-29T18:36:50.193Z"
   },
   {
    "duration": 16,
    "start_time": "2022-05-29T18:36:50.226Z"
   },
   {
    "duration": 363,
    "start_time": "2022-05-29T18:36:50.261Z"
   },
   {
    "duration": 8,
    "start_time": "2022-05-29T18:36:50.628Z"
   },
   {
    "duration": 571,
    "start_time": "2022-05-29T18:36:50.637Z"
   },
   {
    "duration": 1002,
    "start_time": "2022-05-29T18:36:51.210Z"
   },
   {
    "duration": 837,
    "start_time": "2022-05-29T18:36:52.214Z"
   },
   {
    "duration": 14,
    "start_time": "2022-05-29T18:36:53.053Z"
   },
   {
    "duration": 1154,
    "start_time": "2022-05-29T18:36:53.072Z"
   },
   {
    "duration": 761,
    "start_time": "2022-05-29T18:36:54.228Z"
   },
   {
    "duration": 4,
    "start_time": "2022-05-29T18:36:54.990Z"
   },
   {
    "duration": 59,
    "start_time": "2022-05-29T18:36:54.997Z"
   },
   {
    "duration": 33,
    "start_time": "2022-05-29T18:36:55.063Z"
   },
   {
    "duration": 275,
    "start_time": "2022-05-29T18:36:55.097Z"
   },
   {
    "duration": 366,
    "start_time": "2022-05-29T18:36:55.375Z"
   },
   {
    "duration": 1107,
    "start_time": "2022-05-29T18:36:55.743Z"
   },
   {
    "duration": 252,
    "start_time": "2022-05-29T18:36:56.852Z"
   },
   {
    "duration": 8,
    "start_time": "2022-05-29T18:37:09.371Z"
   },
   {
    "duration": 24,
    "start_time": "2022-05-29T18:42:59.001Z"
   },
   {
    "duration": 9,
    "start_time": "2022-05-29T18:43:35.581Z"
   },
   {
    "duration": 105,
    "start_time": "2022-05-29T18:43:35.593Z"
   },
   {
    "duration": 14,
    "start_time": "2022-05-29T18:43:35.708Z"
   },
   {
    "duration": 28,
    "start_time": "2022-05-29T18:43:35.724Z"
   },
   {
    "duration": 36,
    "start_time": "2022-05-29T18:43:35.755Z"
   },
   {
    "duration": 52,
    "start_time": "2022-05-29T18:43:35.793Z"
   },
   {
    "duration": 25,
    "start_time": "2022-05-29T18:43:35.847Z"
   },
   {
    "duration": 65,
    "start_time": "2022-05-29T18:43:35.874Z"
   },
   {
    "duration": 13,
    "start_time": "2022-05-29T18:43:35.941Z"
   },
   {
    "duration": 16,
    "start_time": "2022-05-29T18:43:35.956Z"
   },
   {
    "duration": 37,
    "start_time": "2022-05-29T18:43:35.980Z"
   },
   {
    "duration": 26,
    "start_time": "2022-05-29T18:43:36.020Z"
   },
   {
    "duration": 6,
    "start_time": "2022-05-29T18:43:36.048Z"
   },
   {
    "duration": 311,
    "start_time": "2022-05-29T18:43:36.056Z"
   },
   {
    "duration": 194,
    "start_time": "2022-05-29T18:43:36.372Z"
   },
   {
    "duration": 343,
    "start_time": "2022-05-29T18:43:36.569Z"
   },
   {
    "duration": 23,
    "start_time": "2022-05-29T18:43:36.914Z"
   },
   {
    "duration": 352,
    "start_time": "2022-05-29T18:43:36.939Z"
   },
   {
    "duration": 803,
    "start_time": "2022-05-29T18:43:37.292Z"
   },
   {
    "duration": 387,
    "start_time": "2022-05-29T18:43:38.098Z"
   },
   {
    "duration": 18,
    "start_time": "2022-05-29T18:43:38.487Z"
   },
   {
    "duration": 210,
    "start_time": "2022-05-29T18:43:38.507Z"
   },
   {
    "duration": 292,
    "start_time": "2022-05-29T18:43:38.719Z"
   },
   {
    "duration": 4,
    "start_time": "2022-05-29T18:43:39.013Z"
   },
   {
    "duration": 29,
    "start_time": "2022-05-29T18:43:39.018Z"
   },
   {
    "duration": 20,
    "start_time": "2022-05-29T18:43:39.049Z"
   },
   {
    "duration": 419,
    "start_time": "2022-05-29T18:43:39.072Z"
   },
   {
    "duration": 145,
    "start_time": "2022-05-29T18:44:30.769Z"
   },
   {
    "duration": 28,
    "start_time": "2022-05-29T18:44:41.850Z"
   },
   {
    "duration": 23,
    "start_time": "2022-05-29T18:45:45.704Z"
   },
   {
    "duration": 802,
    "start_time": "2022-05-29T18:49:59.880Z"
   },
   {
    "duration": 15,
    "start_time": "2022-05-29T18:50:07.222Z"
   },
   {
    "duration": 796,
    "start_time": "2022-05-29T18:50:24.688Z"
   },
   {
    "duration": 6,
    "start_time": "2022-05-29T18:51:15.215Z"
   },
   {
    "duration": 24,
    "start_time": "2022-05-29T18:52:21.454Z"
   },
   {
    "duration": 4,
    "start_time": "2022-05-29T18:52:51.816Z"
   },
   {
    "duration": 92,
    "start_time": "2022-05-29T18:52:51.822Z"
   },
   {
    "duration": 12,
    "start_time": "2022-05-29T18:52:51.916Z"
   },
   {
    "duration": 43,
    "start_time": "2022-05-29T18:52:51.930Z"
   },
   {
    "duration": 45,
    "start_time": "2022-05-29T18:52:51.974Z"
   },
   {
    "duration": 20,
    "start_time": "2022-05-29T18:52:52.021Z"
   },
   {
    "duration": 36,
    "start_time": "2022-05-29T18:52:52.043Z"
   },
   {
    "duration": 32,
    "start_time": "2022-05-29T18:52:52.081Z"
   },
   {
    "duration": 36,
    "start_time": "2022-05-29T18:52:52.115Z"
   },
   {
    "duration": 28,
    "start_time": "2022-05-29T18:52:52.152Z"
   },
   {
    "duration": 36,
    "start_time": "2022-05-29T18:52:52.181Z"
   },
   {
    "duration": 44,
    "start_time": "2022-05-29T18:52:52.219Z"
   },
   {
    "duration": 18,
    "start_time": "2022-05-29T18:52:52.265Z"
   },
   {
    "duration": 251,
    "start_time": "2022-05-29T18:52:52.285Z"
   },
   {
    "duration": 151,
    "start_time": "2022-05-29T18:52:52.537Z"
   },
   {
    "duration": 308,
    "start_time": "2022-05-29T18:52:52.690Z"
   },
   {
    "duration": 22,
    "start_time": "2022-05-29T18:52:53.000Z"
   },
   {
    "duration": 274,
    "start_time": "2022-05-29T18:52:53.024Z"
   },
   {
    "duration": 652,
    "start_time": "2022-05-29T18:52:53.300Z"
   },
   {
    "duration": 531,
    "start_time": "2022-05-29T18:52:53.954Z"
   },
   {
    "duration": 16,
    "start_time": "2022-05-29T18:52:54.487Z"
   },
   {
    "duration": 239,
    "start_time": "2022-05-29T18:52:54.505Z"
   },
   {
    "duration": 243,
    "start_time": "2022-05-29T18:52:54.746Z"
   },
   {
    "duration": 3,
    "start_time": "2022-05-29T18:52:54.993Z"
   },
   {
    "duration": 32,
    "start_time": "2022-05-29T18:52:54.998Z"
   },
   {
    "duration": 36,
    "start_time": "2022-05-29T18:52:55.032Z"
   },
   {
    "duration": 342,
    "start_time": "2022-05-29T18:52:55.070Z"
   },
   {
    "duration": 22,
    "start_time": "2022-05-29T18:52:55.414Z"
   },
   {
    "duration": 36,
    "start_time": "2022-05-29T18:52:55.437Z"
   },
   {
    "duration": 517,
    "start_time": "2022-05-29T18:52:55.475Z"
   },
   {
    "duration": 492,
    "start_time": "2022-05-29T18:52:55.994Z"
   },
   {
    "duration": 805,
    "start_time": "2022-05-29T18:52:56.489Z"
   },
   {
    "duration": 9,
    "start_time": "2022-05-29T18:52:57.297Z"
   },
   {
    "duration": 1114,
    "start_time": "2022-05-29T18:52:57.308Z"
   },
   {
    "duration": 724,
    "start_time": "2022-05-29T18:52:58.424Z"
   },
   {
    "duration": 14,
    "start_time": "2022-05-29T18:52:59.150Z"
   },
   {
    "duration": 68,
    "start_time": "2022-05-29T18:52:59.171Z"
   },
   {
    "duration": 36,
    "start_time": "2022-05-29T18:52:59.241Z"
   },
   {
    "duration": 348,
    "start_time": "2022-05-29T18:52:59.278Z"
   },
   {
    "duration": 4,
    "start_time": "2022-05-29T18:52:59.628Z"
   },
   {
    "duration": 877,
    "start_time": "2022-05-29T18:52:59.634Z"
   },
   {
    "duration": 272,
    "start_time": "2022-05-29T18:53:00.512Z"
   },
   {
    "duration": 868,
    "start_time": "2022-05-29T18:53:03.714Z"
   },
   {
    "duration": 20,
    "start_time": "2022-05-29T18:53:07.284Z"
   },
   {
    "duration": 16,
    "start_time": "2022-05-29T18:54:55.377Z"
   },
   {
    "duration": 17,
    "start_time": "2022-05-29T18:55:03.506Z"
   },
   {
    "duration": 22,
    "start_time": "2022-05-29T18:55:07.795Z"
   },
   {
    "duration": 13,
    "start_time": "2022-05-29T18:56:28.186Z"
   },
   {
    "duration": 22,
    "start_time": "2022-05-29T18:56:30.676Z"
   },
   {
    "duration": 19,
    "start_time": "2022-05-29T18:56:42.930Z"
   },
   {
    "duration": 10,
    "start_time": "2022-05-29T18:57:14.144Z"
   },
   {
    "duration": 17,
    "start_time": "2022-05-29T18:57:18.589Z"
   },
   {
    "duration": 9,
    "start_time": "2022-05-29T18:57:25.475Z"
   },
   {
    "duration": 17,
    "start_time": "2022-05-29T18:57:28.422Z"
   },
   {
    "duration": 11,
    "start_time": "2022-05-29T18:58:43.695Z"
   },
   {
    "duration": 9,
    "start_time": "2022-05-29T18:59:16.904Z"
   },
   {
    "duration": 21,
    "start_time": "2022-05-29T18:59:22.652Z"
   },
   {
    "duration": 14,
    "start_time": "2022-05-29T18:59:27.741Z"
   },
   {
    "duration": 9,
    "start_time": "2022-05-29T18:59:30.294Z"
   },
   {
    "duration": 14,
    "start_time": "2022-05-29T18:59:35.237Z"
   },
   {
    "duration": 22,
    "start_time": "2022-05-29T18:59:36.173Z"
   },
   {
    "duration": 8,
    "start_time": "2022-05-29T19:00:22.540Z"
   },
   {
    "duration": 7,
    "start_time": "2022-05-29T19:00:31.576Z"
   },
   {
    "duration": 10,
    "start_time": "2022-05-29T19:02:52.229Z"
   },
   {
    "duration": 10,
    "start_time": "2022-05-29T19:03:33.272Z"
   },
   {
    "duration": 15,
    "start_time": "2022-05-29T19:03:37.858Z"
   },
   {
    "duration": 22,
    "start_time": "2022-05-29T19:04:28.400Z"
   },
   {
    "duration": 10,
    "start_time": "2022-05-29T19:04:36.145Z"
   },
   {
    "duration": 33,
    "start_time": "2022-05-29T19:05:13.270Z"
   },
   {
    "duration": 1240,
    "start_time": "2022-05-30T11:43:05.573Z"
   },
   {
    "duration": 87,
    "start_time": "2022-05-30T11:43:06.815Z"
   },
   {
    "duration": 19,
    "start_time": "2022-05-30T11:43:06.904Z"
   },
   {
    "duration": 33,
    "start_time": "2022-05-30T11:43:06.940Z"
   },
   {
    "duration": 25,
    "start_time": "2022-05-30T11:43:06.975Z"
   },
   {
    "duration": 22,
    "start_time": "2022-05-30T11:43:07.003Z"
   },
   {
    "duration": 22,
    "start_time": "2022-05-30T11:43:07.042Z"
   },
   {
    "duration": 36,
    "start_time": "2022-05-30T11:43:07.067Z"
   },
   {
    "duration": 52,
    "start_time": "2022-05-30T11:43:07.105Z"
   },
   {
    "duration": 8,
    "start_time": "2022-05-30T11:43:07.161Z"
   },
   {
    "duration": 16,
    "start_time": "2022-05-30T11:43:07.172Z"
   },
   {
    "duration": 19,
    "start_time": "2022-05-30T11:43:07.190Z"
   },
   {
    "duration": 7,
    "start_time": "2022-05-30T11:43:07.210Z"
   },
   {
    "duration": 262,
    "start_time": "2022-05-30T11:43:07.218Z"
   },
   {
    "duration": 227,
    "start_time": "2022-05-30T11:43:07.481Z"
   },
   {
    "duration": 288,
    "start_time": "2022-05-30T11:43:07.710Z"
   },
   {
    "duration": 21,
    "start_time": "2022-05-30T11:43:07.999Z"
   },
   {
    "duration": 267,
    "start_time": "2022-05-30T11:43:08.022Z"
   },
   {
    "duration": 619,
    "start_time": "2022-05-30T11:43:08.291Z"
   },
   {
    "duration": 418,
    "start_time": "2022-05-30T11:43:08.912Z"
   },
   {
    "duration": 13,
    "start_time": "2022-05-30T11:43:09.342Z"
   },
   {
    "duration": 217,
    "start_time": "2022-05-30T11:43:09.357Z"
   },
   {
    "duration": 269,
    "start_time": "2022-05-30T11:43:09.575Z"
   },
   {
    "duration": 4,
    "start_time": "2022-05-30T11:43:09.846Z"
   },
   {
    "duration": 31,
    "start_time": "2022-05-30T11:43:09.852Z"
   },
   {
    "duration": 35,
    "start_time": "2022-05-30T11:43:09.884Z"
   },
   {
    "duration": 384,
    "start_time": "2022-05-30T11:43:09.922Z"
   },
   {
    "duration": 38,
    "start_time": "2022-05-30T11:43:10.309Z"
   },
   {
    "duration": 9,
    "start_time": "2022-05-30T11:43:10.348Z"
   },
   {
    "duration": 563,
    "start_time": "2022-05-30T11:43:10.358Z"
   },
   {
    "duration": 603,
    "start_time": "2022-05-30T11:43:10.923Z"
   },
   {
    "duration": 769,
    "start_time": "2022-05-30T11:43:11.528Z"
   },
   {
    "duration": 8,
    "start_time": "2022-05-30T11:43:12.299Z"
   },
   {
    "duration": 1174,
    "start_time": "2022-05-30T11:43:12.309Z"
   },
   {
    "duration": 781,
    "start_time": "2022-05-30T11:43:13.485Z"
   },
   {
    "duration": 4,
    "start_time": "2022-05-30T11:43:14.268Z"
   },
   {
    "duration": 46,
    "start_time": "2022-05-30T11:43:14.274Z"
   },
   {
    "duration": 38,
    "start_time": "2022-05-30T11:43:14.323Z"
   },
   {
    "duration": 267,
    "start_time": "2022-05-30T11:43:14.363Z"
   },
   {
    "duration": 59,
    "start_time": "2022-05-30T11:43:14.633Z"
   },
   {
    "duration": 1126,
    "start_time": "2022-05-30T11:43:14.694Z"
   },
   {
    "duration": 260,
    "start_time": "2022-05-30T11:43:15.822Z"
   },
   {
    "duration": 1130,
    "start_time": "2022-05-30T11:43:16.084Z"
   },
   {
    "duration": 37,
    "start_time": "2022-05-30T11:43:17.217Z"
   },
   {
    "duration": 11,
    "start_time": "2022-05-30T11:43:17.256Z"
   },
   {
    "duration": 1104,
    "start_time": "2022-05-30T11:43:17.269Z"
   },
   {
    "duration": 218,
    "start_time": "2022-05-30T11:43:18.375Z"
   },
   {
    "duration": 1539,
    "start_time": "2022-05-30T16:25:22.303Z"
   },
   {
    "duration": 253,
    "start_time": "2022-05-30T16:25:23.844Z"
   },
   {
    "duration": 13,
    "start_time": "2022-05-30T16:25:24.099Z"
   },
   {
    "duration": 17,
    "start_time": "2022-05-30T16:25:24.114Z"
   },
   {
    "duration": 16,
    "start_time": "2022-05-30T16:25:24.133Z"
   },
   {
    "duration": 13,
    "start_time": "2022-05-30T16:25:24.150Z"
   },
   {
    "duration": 30,
    "start_time": "2022-05-30T16:25:24.164Z"
   },
   {
    "duration": 18,
    "start_time": "2022-05-30T16:25:24.195Z"
   },
   {
    "duration": 10,
    "start_time": "2022-05-30T16:25:24.215Z"
   },
   {
    "duration": 5,
    "start_time": "2022-05-30T16:25:24.226Z"
   },
   {
    "duration": 6,
    "start_time": "2022-05-30T16:25:24.233Z"
   },
   {
    "duration": 12,
    "start_time": "2022-05-30T16:25:24.241Z"
   },
   {
    "duration": 38,
    "start_time": "2022-05-30T16:25:24.255Z"
   },
   {
    "duration": 200,
    "start_time": "2022-05-30T16:25:24.296Z"
   },
   {
    "duration": 176,
    "start_time": "2022-05-30T16:25:24.497Z"
   },
   {
    "duration": 228,
    "start_time": "2022-05-30T16:25:24.674Z"
   },
   {
    "duration": 18,
    "start_time": "2022-05-30T16:25:24.904Z"
   },
   {
    "duration": 212,
    "start_time": "2022-05-30T16:25:24.924Z"
   },
   {
    "duration": 639,
    "start_time": "2022-05-30T16:25:25.138Z"
   },
   {
    "duration": 340,
    "start_time": "2022-05-30T16:25:25.778Z"
   },
   {
    "duration": 8,
    "start_time": "2022-05-30T16:25:26.120Z"
   },
   {
    "duration": 175,
    "start_time": "2022-05-30T16:25:26.130Z"
   },
   {
    "duration": 206,
    "start_time": "2022-05-30T16:25:26.306Z"
   },
   {
    "duration": 3,
    "start_time": "2022-05-30T16:25:26.514Z"
   },
   {
    "duration": 24,
    "start_time": "2022-05-30T16:25:26.519Z"
   },
   {
    "duration": 18,
    "start_time": "2022-05-30T16:25:26.544Z"
   },
   {
    "duration": 303,
    "start_time": "2022-05-30T16:25:26.564Z"
   },
   {
    "duration": 32,
    "start_time": "2022-05-30T16:25:26.869Z"
   },
   {
    "duration": 14,
    "start_time": "2022-05-30T16:26:17.132Z"
   },
   {
    "duration": 238,
    "start_time": "2022-05-30T16:26:31.049Z"
   },
   {
    "duration": 168,
    "start_time": "2022-05-30T16:26:57.435Z"
   },
   {
    "duration": 217,
    "start_time": "2022-05-30T16:28:08.013Z"
   },
   {
    "duration": 151,
    "start_time": "2022-05-30T16:28:17.657Z"
   },
   {
    "duration": 151,
    "start_time": "2022-05-30T16:28:38.591Z"
   },
   {
    "duration": 6,
    "start_time": "2022-05-30T16:28:58.099Z"
   },
   {
    "duration": 7,
    "start_time": "2022-05-30T16:29:23.178Z"
   },
   {
    "duration": 142,
    "start_time": "2022-05-30T16:29:32.146Z"
   },
   {
    "duration": 95,
    "start_time": "2022-05-30T16:30:01.339Z"
   },
   {
    "duration": 8,
    "start_time": "2022-05-30T16:30:09.483Z"
   },
   {
    "duration": 110,
    "start_time": "2022-05-30T16:30:55.601Z"
   },
   {
    "duration": 101,
    "start_time": "2022-05-30T16:31:10.846Z"
   },
   {
    "duration": 107,
    "start_time": "2022-05-30T16:31:45.633Z"
   },
   {
    "duration": 104,
    "start_time": "2022-05-30T16:31:53.612Z"
   },
   {
    "duration": 187,
    "start_time": "2022-05-30T16:32:34.609Z"
   },
   {
    "duration": 158,
    "start_time": "2022-05-30T16:32:49.100Z"
   },
   {
    "duration": 167,
    "start_time": "2022-05-30T16:33:30.875Z"
   },
   {
    "duration": 152,
    "start_time": "2022-05-30T16:33:41.733Z"
   },
   {
    "duration": 148,
    "start_time": "2022-05-30T16:33:47.667Z"
   },
   {
    "duration": 9,
    "start_time": "2022-05-30T16:34:36.609Z"
   },
   {
    "duration": 155,
    "start_time": "2022-05-30T16:36:42.342Z"
   },
   {
    "duration": 242,
    "start_time": "2022-05-30T16:36:57.845Z"
   },
   {
    "duration": 153,
    "start_time": "2022-05-30T16:37:43.302Z"
   },
   {
    "duration": 151,
    "start_time": "2022-05-30T16:37:48.377Z"
   },
   {
    "duration": 156,
    "start_time": "2022-05-30T16:39:10.330Z"
   },
   {
    "duration": 161,
    "start_time": "2022-05-30T16:39:20.576Z"
   },
   {
    "duration": 162,
    "start_time": "2022-05-30T16:39:28.104Z"
   },
   {
    "duration": 155,
    "start_time": "2022-05-30T16:39:42.288Z"
   },
   {
    "duration": 25,
    "start_time": "2022-05-30T16:42:52.182Z"
   },
   {
    "duration": 13,
    "start_time": "2022-05-30T16:42:58.074Z"
   },
   {
    "duration": 10,
    "start_time": "2022-05-30T16:43:14.242Z"
   },
   {
    "duration": 346,
    "start_time": "2022-05-30T16:43:25.733Z"
   },
   {
    "duration": 10,
    "start_time": "2022-05-30T17:03:12.324Z"
   },
   {
    "duration": 3,
    "start_time": "2022-05-30T17:10:38.005Z"
   },
   {
    "duration": 16,
    "start_time": "2022-05-30T17:11:10.821Z"
   },
   {
    "duration": 11,
    "start_time": "2022-05-30T17:11:31.541Z"
   },
   {
    "duration": 6,
    "start_time": "2022-05-30T17:11:44.441Z"
   },
   {
    "duration": 147,
    "start_time": "2022-05-30T17:12:12.566Z"
   },
   {
    "duration": 10,
    "start_time": "2022-05-30T17:12:20.120Z"
   },
   {
    "duration": 7,
    "start_time": "2022-05-30T17:12:31.176Z"
   },
   {
    "duration": 4,
    "start_time": "2022-05-30T17:12:36.305Z"
   },
   {
    "duration": 4,
    "start_time": "2022-05-30T17:12:42.239Z"
   },
   {
    "duration": 10,
    "start_time": "2022-05-30T17:12:49.129Z"
   },
   {
    "duration": 9,
    "start_time": "2022-05-30T17:12:55.116Z"
   },
   {
    "duration": 10,
    "start_time": "2022-05-30T17:13:27.535Z"
   },
   {
    "duration": 9,
    "start_time": "2022-05-30T17:13:50.419Z"
   },
   {
    "duration": 18,
    "start_time": "2022-05-30T17:14:06.239Z"
   },
   {
    "duration": 116,
    "start_time": "2022-05-30T17:14:48.883Z"
   },
   {
    "duration": 14,
    "start_time": "2022-05-30T17:16:22.441Z"
   },
   {
    "duration": 12,
    "start_time": "2022-05-30T17:17:24.555Z"
   },
   {
    "duration": 18,
    "start_time": "2022-05-30T17:19:50.022Z"
   },
   {
    "duration": 128,
    "start_time": "2022-05-30T17:19:54.540Z"
   },
   {
    "duration": 9,
    "start_time": "2022-05-30T17:20:29.151Z"
   },
   {
    "duration": 14,
    "start_time": "2022-05-30T17:21:22.768Z"
   },
   {
    "duration": 14,
    "start_time": "2022-05-30T17:21:35.054Z"
   },
   {
    "duration": 14,
    "start_time": "2022-05-30T17:21:42.184Z"
   },
   {
    "duration": 97,
    "start_time": "2022-05-30T17:21:47.168Z"
   },
   {
    "duration": 12,
    "start_time": "2022-05-30T17:22:15.643Z"
   },
   {
    "duration": 7,
    "start_time": "2022-05-30T17:22:30.142Z"
   },
   {
    "duration": 194,
    "start_time": "2022-05-30T17:22:38.394Z"
   },
   {
    "duration": 214,
    "start_time": "2022-05-30T17:22:48.985Z"
   },
   {
    "duration": 221,
    "start_time": "2022-05-30T17:25:28.030Z"
   },
   {
    "duration": 248,
    "start_time": "2022-05-30T17:26:11.953Z"
   },
   {
    "duration": 253,
    "start_time": "2022-05-30T17:26:45.084Z"
   },
   {
    "duration": 13,
    "start_time": "2022-05-30T17:28:51.917Z"
   },
   {
    "duration": 39,
    "start_time": "2022-05-30T20:11:36.059Z"
   },
   {
    "duration": 1290,
    "start_time": "2022-05-30T20:11:57.113Z"
   },
   {
    "duration": 230,
    "start_time": "2022-05-30T20:11:58.405Z"
   },
   {
    "duration": 14,
    "start_time": "2022-05-30T20:11:58.636Z"
   },
   {
    "duration": 20,
    "start_time": "2022-05-30T20:11:58.651Z"
   },
   {
    "duration": 23,
    "start_time": "2022-05-30T20:11:58.673Z"
   },
   {
    "duration": 16,
    "start_time": "2022-05-30T20:11:58.698Z"
   },
   {
    "duration": 14,
    "start_time": "2022-05-30T20:11:58.716Z"
   },
   {
    "duration": 37,
    "start_time": "2022-05-30T20:11:58.732Z"
   },
   {
    "duration": 11,
    "start_time": "2022-05-30T20:11:58.771Z"
   },
   {
    "duration": 6,
    "start_time": "2022-05-30T20:11:58.784Z"
   },
   {
    "duration": 7,
    "start_time": "2022-05-30T20:11:58.791Z"
   },
   {
    "duration": 11,
    "start_time": "2022-05-30T20:11:58.799Z"
   },
   {
    "duration": 42,
    "start_time": "2022-05-30T20:11:58.812Z"
   },
   {
    "duration": 208,
    "start_time": "2022-05-30T20:11:58.857Z"
   },
   {
    "duration": 213,
    "start_time": "2022-05-30T20:11:59.066Z"
   },
   {
    "duration": 233,
    "start_time": "2022-05-30T20:11:59.280Z"
   },
   {
    "duration": 28,
    "start_time": "2022-05-30T20:11:59.514Z"
   },
   {
    "duration": 222,
    "start_time": "2022-05-30T20:11:59.544Z"
   },
   {
    "duration": 598,
    "start_time": "2022-05-30T20:11:59.768Z"
   },
   {
    "duration": 348,
    "start_time": "2022-05-30T20:12:00.367Z"
   },
   {
    "duration": 11,
    "start_time": "2022-05-30T20:12:00.717Z"
   },
   {
    "duration": 207,
    "start_time": "2022-05-30T20:12:00.730Z"
   },
   {
    "duration": 256,
    "start_time": "2022-05-30T20:12:00.939Z"
   },
   {
    "duration": 3,
    "start_time": "2022-05-30T20:12:01.197Z"
   },
   {
    "duration": 28,
    "start_time": "2022-05-30T20:12:01.202Z"
   },
   {
    "duration": 36,
    "start_time": "2022-05-30T20:12:01.232Z"
   },
   {
    "duration": 384,
    "start_time": "2022-05-30T20:12:01.269Z"
   },
   {
    "duration": 16,
    "start_time": "2022-05-30T20:12:01.655Z"
   },
   {
    "duration": 10,
    "start_time": "2022-05-30T20:12:01.672Z"
   },
   {
    "duration": 25,
    "start_time": "2022-05-30T20:12:01.683Z"
   },
   {
    "duration": 220,
    "start_time": "2022-05-30T20:12:01.709Z"
   },
   {
    "duration": 216,
    "start_time": "2022-05-30T20:12:01.931Z"
   },
   {
    "duration": 21,
    "start_time": "2022-05-30T20:12:02.148Z"
   },
   {
    "duration": 336,
    "start_time": "2022-05-30T20:12:02.170Z"
   },
   {
    "duration": 8,
    "start_time": "2022-05-30T20:12:02.507Z"
   },
   {
    "duration": 510,
    "start_time": "2022-05-30T20:12:02.516Z"
   },
   {
    "duration": 483,
    "start_time": "2022-05-30T20:12:03.028Z"
   },
   {
    "duration": 681,
    "start_time": "2022-05-30T20:12:03.512Z"
   },
   {
    "duration": 8,
    "start_time": "2022-05-30T20:12:04.194Z"
   },
   {
    "duration": 1012,
    "start_time": "2022-05-30T20:12:04.203Z"
   },
   {
    "duration": 685,
    "start_time": "2022-05-30T20:12:05.219Z"
   },
   {
    "duration": 3,
    "start_time": "2022-05-30T20:12:05.905Z"
   },
   {
    "duration": 46,
    "start_time": "2022-05-30T20:12:05.909Z"
   },
   {
    "duration": 16,
    "start_time": "2022-05-30T20:12:05.956Z"
   },
   {
    "duration": 224,
    "start_time": "2022-05-30T20:12:05.974Z"
   },
   {
    "duration": 55,
    "start_time": "2022-05-30T20:12:06.199Z"
   },
   {
    "duration": 2002,
    "start_time": "2022-05-30T20:12:06.255Z"
   },
   {
    "duration": 216,
    "start_time": "2022-05-30T20:12:08.259Z"
   },
   {
    "duration": 1906,
    "start_time": "2022-05-30T20:12:08.476Z"
   },
   {
    "duration": 27,
    "start_time": "2022-05-30T20:12:10.383Z"
   },
   {
    "duration": 8,
    "start_time": "2022-05-30T20:12:10.411Z"
   },
   {
    "duration": 2027,
    "start_time": "2022-05-30T20:12:10.420Z"
   },
   {
    "duration": 185,
    "start_time": "2022-05-30T20:12:12.449Z"
   },
   {
    "duration": 1195,
    "start_time": "2022-05-31T20:15:58.871Z"
   },
   {
    "duration": 438,
    "start_time": "2022-05-31T20:16:00.068Z"
   },
   {
    "duration": 16,
    "start_time": "2022-05-31T20:16:00.507Z"
   },
   {
    "duration": 29,
    "start_time": "2022-05-31T20:16:00.526Z"
   },
   {
    "duration": 27,
    "start_time": "2022-05-31T20:16:00.557Z"
   },
   {
    "duration": 26,
    "start_time": "2022-05-31T20:16:00.586Z"
   },
   {
    "duration": 19,
    "start_time": "2022-05-31T20:16:00.626Z"
   },
   {
    "duration": 23,
    "start_time": "2022-05-31T20:16:00.647Z"
   },
   {
    "duration": 18,
    "start_time": "2022-05-31T20:16:00.671Z"
   },
   {
    "duration": 34,
    "start_time": "2022-05-31T20:16:00.692Z"
   },
   {
    "duration": 7,
    "start_time": "2022-05-31T20:16:00.728Z"
   },
   {
    "duration": 31,
    "start_time": "2022-05-31T20:16:00.737Z"
   },
   {
    "duration": 31,
    "start_time": "2022-05-31T20:16:00.770Z"
   },
   {
    "duration": 271,
    "start_time": "2022-05-31T20:16:00.803Z"
   },
   {
    "duration": 234,
    "start_time": "2022-05-31T20:16:01.076Z"
   },
   {
    "duration": 271,
    "start_time": "2022-05-31T20:16:01.312Z"
   },
   {
    "duration": 21,
    "start_time": "2022-05-31T20:16:01.585Z"
   },
   {
    "duration": 266,
    "start_time": "2022-05-31T20:16:01.608Z"
   },
   {
    "duration": 559,
    "start_time": "2022-05-31T20:16:01.876Z"
   },
   {
    "duration": 377,
    "start_time": "2022-05-31T20:16:02.437Z"
   },
   {
    "duration": 18,
    "start_time": "2022-05-31T20:16:02.816Z"
   },
   {
    "duration": 189,
    "start_time": "2022-05-31T20:16:02.836Z"
   },
   {
    "duration": 233,
    "start_time": "2022-05-31T20:16:03.027Z"
   },
   {
    "duration": 4,
    "start_time": "2022-05-31T20:16:03.261Z"
   },
   {
    "duration": 25,
    "start_time": "2022-05-31T20:16:03.266Z"
   },
   {
    "duration": 34,
    "start_time": "2022-05-31T20:16:03.293Z"
   },
   {
    "duration": 325,
    "start_time": "2022-05-31T20:16:03.329Z"
   },
   {
    "duration": 16,
    "start_time": "2022-05-31T20:16:03.658Z"
   },
   {
    "duration": 11,
    "start_time": "2022-05-31T20:16:03.676Z"
   },
   {
    "duration": 17,
    "start_time": "2022-05-31T20:16:03.688Z"
   },
   {
    "duration": 203,
    "start_time": "2022-05-31T20:16:03.706Z"
   },
   {
    "duration": 180,
    "start_time": "2022-05-31T20:16:03.911Z"
   },
   {
    "duration": 20,
    "start_time": "2022-05-31T20:16:04.093Z"
   },
   {
    "duration": 347,
    "start_time": "2022-05-31T20:16:04.126Z"
   },
   {
    "duration": 8,
    "start_time": "2022-05-31T20:16:04.474Z"
   },
   {
    "duration": 513,
    "start_time": "2022-05-31T20:16:04.484Z"
   },
   {
    "duration": 492,
    "start_time": "2022-05-31T20:16:04.999Z"
   },
   {
    "duration": 774,
    "start_time": "2022-05-31T20:16:05.493Z"
   },
   {
    "duration": 9,
    "start_time": "2022-05-31T20:16:06.269Z"
   },
   {
    "duration": 1094,
    "start_time": "2022-05-31T20:16:06.280Z"
   },
   {
    "duration": 721,
    "start_time": "2022-05-31T20:16:07.376Z"
   },
   {
    "duration": 4,
    "start_time": "2022-05-31T20:16:08.099Z"
   },
   {
    "duration": 44,
    "start_time": "2022-05-31T20:16:08.105Z"
   },
   {
    "duration": 18,
    "start_time": "2022-05-31T20:16:08.151Z"
   },
   {
    "duration": 251,
    "start_time": "2022-05-31T20:16:08.171Z"
   },
   {
    "duration": 59,
    "start_time": "2022-05-31T20:16:08.425Z"
   },
   {
    "duration": 995,
    "start_time": "2022-05-31T20:16:08.486Z"
   },
   {
    "duration": 250,
    "start_time": "2022-05-31T20:16:09.483Z"
   },
   {
    "duration": 1158,
    "start_time": "2022-05-31T20:16:09.735Z"
   },
   {
    "duration": 27,
    "start_time": "2022-05-31T20:16:10.894Z"
   },
   {
    "duration": 9,
    "start_time": "2022-05-31T20:16:10.923Z"
   },
   {
    "duration": 1256,
    "start_time": "2022-05-31T20:16:10.934Z"
   },
   {
    "duration": 201,
    "start_time": "2022-05-31T20:16:12.192Z"
   },
   {
    "duration": 1288,
    "start_time": "2022-06-01T05:56:53.428Z"
   },
   {
    "duration": 252,
    "start_time": "2022-06-01T05:56:54.717Z"
   },
   {
    "duration": 13,
    "start_time": "2022-06-01T05:56:54.970Z"
   },
   {
    "duration": 26,
    "start_time": "2022-06-01T05:56:54.985Z"
   },
   {
    "duration": 16,
    "start_time": "2022-06-01T05:56:55.013Z"
   },
   {
    "duration": 21,
    "start_time": "2022-06-01T05:56:55.031Z"
   },
   {
    "duration": 14,
    "start_time": "2022-06-01T05:56:55.053Z"
   },
   {
    "duration": 20,
    "start_time": "2022-06-01T05:56:55.069Z"
   },
   {
    "duration": 12,
    "start_time": "2022-06-01T05:56:55.091Z"
   },
   {
    "duration": 6,
    "start_time": "2022-06-01T05:56:55.106Z"
   },
   {
    "duration": 6,
    "start_time": "2022-06-01T05:56:55.114Z"
   },
   {
    "duration": 17,
    "start_time": "2022-06-01T05:56:55.152Z"
   },
   {
    "duration": 9,
    "start_time": "2022-06-01T05:56:55.171Z"
   },
   {
    "duration": 243,
    "start_time": "2022-06-01T05:56:55.183Z"
   },
   {
    "duration": 202,
    "start_time": "2022-06-01T05:56:55.427Z"
   },
   {
    "duration": 249,
    "start_time": "2022-06-01T05:56:55.630Z"
   },
   {
    "duration": 21,
    "start_time": "2022-06-01T05:56:55.881Z"
   },
   {
    "duration": 237,
    "start_time": "2022-06-01T05:56:55.904Z"
   },
   {
    "duration": 615,
    "start_time": "2022-06-01T05:56:56.142Z"
   },
   {
    "duration": 350,
    "start_time": "2022-06-01T05:56:56.759Z"
   },
   {
    "duration": 11,
    "start_time": "2022-06-01T05:56:57.111Z"
   },
   {
    "duration": 198,
    "start_time": "2022-06-01T05:56:57.123Z"
   },
   {
    "duration": 235,
    "start_time": "2022-06-01T05:56:57.322Z"
   },
   {
    "duration": 4,
    "start_time": "2022-06-01T05:56:57.559Z"
   },
   {
    "duration": 27,
    "start_time": "2022-06-01T05:56:57.565Z"
   },
   {
    "duration": 18,
    "start_time": "2022-06-01T05:56:57.594Z"
   },
   {
    "duration": 338,
    "start_time": "2022-06-01T05:56:57.614Z"
   },
   {
    "duration": 16,
    "start_time": "2022-06-01T05:56:57.954Z"
   },
   {
    "duration": 11,
    "start_time": "2022-06-01T05:56:57.972Z"
   },
   {
    "duration": 18,
    "start_time": "2022-06-01T05:56:57.984Z"
   },
   {
    "duration": 198,
    "start_time": "2022-06-01T05:56:58.003Z"
   },
   {
    "duration": 187,
    "start_time": "2022-06-01T05:56:58.203Z"
   },
   {
    "duration": 20,
    "start_time": "2022-06-01T05:56:58.392Z"
   },
   {
    "duration": 6,
    "start_time": "2022-06-01T05:57:10.838Z"
   },
   {
    "duration": 6,
    "start_time": "2022-06-01T05:57:17.104Z"
   },
   {
    "duration": 329,
    "start_time": "2022-06-01T05:57:23.889Z"
   },
   {
    "duration": 243,
    "start_time": "2022-06-01T05:57:40.823Z"
   },
   {
    "duration": 4,
    "start_time": "2022-06-01T05:57:53.900Z"
   },
   {
    "duration": 4,
    "start_time": "2022-06-01T05:57:58.436Z"
   },
   {
    "duration": 3,
    "start_time": "2022-06-01T05:58:05.942Z"
   },
   {
    "duration": 6,
    "start_time": "2022-06-01T05:58:10.721Z"
   },
   {
    "duration": 5,
    "start_time": "2022-06-01T05:58:17.391Z"
   },
   {
    "duration": 263,
    "start_time": "2022-06-01T05:58:24.283Z"
   },
   {
    "duration": 237,
    "start_time": "2022-06-01T05:58:56.760Z"
   },
   {
    "duration": 252,
    "start_time": "2022-06-01T05:59:14.354Z"
   }
  ],
  "kernelspec": {
   "display_name": "Python 3 (ipykernel)",
   "language": "python",
   "name": "python3"
  },
  "language_info": {
   "codemirror_mode": {
    "name": "ipython",
    "version": 3
   },
   "file_extension": ".py",
   "mimetype": "text/x-python",
   "name": "python",
   "nbconvert_exporter": "python",
   "pygments_lexer": "ipython3",
   "version": "3.9.5"
  },
  "toc": {
   "base_numbering": 1,
   "nav_menu": {
    "height": "301px",
    "width": "483px"
   },
   "number_sections": true,
   "sideBar": true,
   "skip_h1_title": true,
   "title_cell": "Table of Contents",
   "title_sidebar": "Contents",
   "toc_cell": false,
   "toc_position": {},
   "toc_section_display": true,
   "toc_window_display": false
  }
 },
 "nbformat": 4,
 "nbformat_minor": 2
}