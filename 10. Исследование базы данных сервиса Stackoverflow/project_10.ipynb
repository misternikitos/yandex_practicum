{
 "cells": [
  {
   "cell_type": "code",
   "execution_count": 1,
   "metadata": {
    "id": "nlZBlglMDWKe"
   },
   "outputs": [],
   "source": [
    "import pandas as pd\n",
    "import matplotlib.pyplot as plt\n",
    "from sqlalchemy import create_engine \n",
    "\n",
    "import seaborn as sns"
   ]
  },
  {
   "cell_type": "markdown",
   "metadata": {
    "id": "XnOE3n28DWKg"
   },
   "source": [
    "# Конфигурация для подключения к базе данных `data-analyst-advanced-sql`\n",
    "Эта база данных содержит схему `stackoverflow`"
   ]
  },
  {
   "cell_type": "code",
   "execution_count": 2,
   "metadata": {
    "id": "6p-yGp7qDWKg"
   },
   "outputs": [],
   "source": [
    "db_config = {\n",
    "    'user': '', # имя пользователя\n",
    "    'pwd': '', # пароль\n",
    "    'host': '',\n",
    "    'port': 6432, # порт подключения\n",
    "    'db': 'data-analyst-advanced-sql' # название базы данных\n",
    "}  \n",
    "\n",
    "connection_string = 'postgresql://{}:{}@{}:{}/{}'.format(\n",
    "    db_config['user'],\n",
    "    db_config['pwd'],\n",
    "    db_config['host'],\n",
    "    db_config['port'],\n",
    "    db_config['db'],\n",
    ")"
   ]
  },
  {
   "cell_type": "markdown",
   "metadata": {
    "id": "2Rg8ZpS0DWKh"
   },
   "source": [
    "Создание подключения"
   ]
  },
  {
   "cell_type": "code",
   "execution_count": 3,
   "metadata": {
    "id": "DamCUTR6DWKi"
   },
   "outputs": [],
   "source": [
    "engine = create_engine(connection_string) "
   ]
  },
  {
   "cell_type": "markdown",
   "metadata": {
    "id": "gnBMXkDBDWKm"
   },
   "source": [
    "# Задание 1"
   ]
  },
  {
   "cell_type": "markdown",
   "metadata": {
    "id": "vHsfOrrNDWKn"
   },
   "source": [
    "Выведите общую сумму просмотров постов за каждый месяц 2008 года. Если данных за какой-либо месяц в базе нет, такой месяц можно пропустить. Результат отсортируйте по убыванию общего количества просмотров."
   ]
  },
  {
   "cell_type": "markdown",
   "metadata": {
    "id": "N5rTgGNmDWKn"
   },
   "source": [
    "| month_date  | total_views |\n",
    "| ------------- | ------------- |\n",
    "| 2008-09-01  | 452928568  |\n",
    "| 2008-10-01  | 365400138  |\n",
    "| ...         | ... |"
   ]
  },
  {
   "cell_type": "code",
   "execution_count": 4,
   "metadata": {
    "id": "eWvykcXTDWKo"
   },
   "outputs": [
    {
     "data": {
      "text/html": [
       "<div>\n",
       "<style scoped>\n",
       "    .dataframe tbody tr th:only-of-type {\n",
       "        vertical-align: middle;\n",
       "    }\n",
       "\n",
       "    .dataframe tbody tr th {\n",
       "        vertical-align: top;\n",
       "    }\n",
       "\n",
       "    .dataframe thead th {\n",
       "        text-align: right;\n",
       "    }\n",
       "</style>\n",
       "<table border=\"1\" class=\"dataframe\">\n",
       "  <thead>\n",
       "    <tr style=\"text-align: right;\">\n",
       "      <th></th>\n",
       "      <th>month_date</th>\n",
       "      <th>total_views</th>\n",
       "    </tr>\n",
       "  </thead>\n",
       "  <tbody>\n",
       "    <tr>\n",
       "      <th>0</th>\n",
       "      <td>2008-09-01</td>\n",
       "      <td>452928568</td>\n",
       "    </tr>\n",
       "    <tr>\n",
       "      <th>1</th>\n",
       "      <td>2008-10-01</td>\n",
       "      <td>365400138</td>\n",
       "    </tr>\n",
       "    <tr>\n",
       "      <th>2</th>\n",
       "      <td>2008-11-01</td>\n",
       "      <td>221759651</td>\n",
       "    </tr>\n",
       "    <tr>\n",
       "      <th>3</th>\n",
       "      <td>2008-12-01</td>\n",
       "      <td>197792841</td>\n",
       "    </tr>\n",
       "    <tr>\n",
       "      <th>4</th>\n",
       "      <td>2008-08-01</td>\n",
       "      <td>131367083</td>\n",
       "    </tr>\n",
       "    <tr>\n",
       "      <th>5</th>\n",
       "      <td>2008-07-01</td>\n",
       "      <td>669895</td>\n",
       "    </tr>\n",
       "  </tbody>\n",
       "</table>\n",
       "</div>"
      ],
      "text/plain": [
       "   month_date  total_views\n",
       "0  2008-09-01    452928568\n",
       "1  2008-10-01    365400138\n",
       "2  2008-11-01    221759651\n",
       "3  2008-12-01    197792841\n",
       "4  2008-08-01    131367083\n",
       "5  2008-07-01       669895"
      ]
     },
     "execution_count": 4,
     "metadata": {},
     "output_type": "execute_result"
    }
   ],
   "source": [
    "# напишите запрос\n",
    "query = '''\n",
    "SELECT DATE_TRUNC('month', creation_date::date)::date AS month_date,\n",
    "       SUM(views_count) AS total_views\n",
    "FROM stackoverflow.posts\n",
    "WHERE EXTRACT(YEAR FROM creation_date::date)=2008\n",
    "GROUP BY month_date\n",
    "ORDER BY total_views DESC;\n",
    "'''\n",
    "\n",
    "# выполните запрос\n",
    "df = pd.read_sql_query(query, con=engine) \n",
    "df"
   ]
  },
  {
   "cell_type": "markdown",
   "metadata": {
    "id": "luxSj17oDWKq"
   },
   "source": [
    "В таблице видно, что просмотры постов существенно падают в летом и в декабре. Вероятно, это связано с сезонами отпусков и праздниками."
   ]
  },
  {
   "cell_type": "markdown",
   "metadata": {
    "id": "FziIXkn5DWKr"
   },
   "source": [
    "# Задание 2"
   ]
  },
  {
   "cell_type": "markdown",
   "metadata": {
    "id": "fTGESZvYDWKr"
   },
   "source": [
    "Выведите имена самых активных пользователей, которые в первый месяц после регистрации (включая день регистрации) дали больше 100 ответов. Вопросы, которые задавали пользователи, не учитывайте. Для каждого имени пользователя выведите количество уникальных значений `user_id`. Отсортируйте результат по полю с именами в лексикографическом порядке."
   ]
  },
  {
   "cell_type": "markdown",
   "metadata": {
    "id": "W5-tv6Y3DWKs"
   },
   "source": [
    "| display_name | count |\n",
    "| ------------ | ----- |\n",
    "| 1800 INFORMATION | 1 |\n",
    "| Adam Bellaire | 1 |\n",
    "| Adam Davis | 1 |\n",
    "| ... | ... |"
   ]
  },
  {
   "cell_type": "code",
   "execution_count": 5,
   "metadata": {
    "id": "fIO-y-YjDWKt"
   },
   "outputs": [
    {
     "data": {
      "text/html": [
       "<div>\n",
       "<style scoped>\n",
       "    .dataframe tbody tr th:only-of-type {\n",
       "        vertical-align: middle;\n",
       "    }\n",
       "\n",
       "    .dataframe tbody tr th {\n",
       "        vertical-align: top;\n",
       "    }\n",
       "\n",
       "    .dataframe thead th {\n",
       "        text-align: right;\n",
       "    }\n",
       "</style>\n",
       "<table border=\"1\" class=\"dataframe\">\n",
       "  <thead>\n",
       "    <tr style=\"text-align: right;\">\n",
       "      <th></th>\n",
       "      <th>display_name</th>\n",
       "      <th>count</th>\n",
       "    </tr>\n",
       "  </thead>\n",
       "  <tbody>\n",
       "    <tr>\n",
       "      <th>0</th>\n",
       "      <td>1800 INFORMATION</td>\n",
       "      <td>1</td>\n",
       "    </tr>\n",
       "    <tr>\n",
       "      <th>1</th>\n",
       "      <td>Adam Bellaire</td>\n",
       "      <td>1</td>\n",
       "    </tr>\n",
       "    <tr>\n",
       "      <th>2</th>\n",
       "      <td>Adam Davis</td>\n",
       "      <td>1</td>\n",
       "    </tr>\n",
       "    <tr>\n",
       "      <th>3</th>\n",
       "      <td>Adam Liss</td>\n",
       "      <td>1</td>\n",
       "    </tr>\n",
       "    <tr>\n",
       "      <th>4</th>\n",
       "      <td>Alan</td>\n",
       "      <td>8</td>\n",
       "    </tr>\n",
       "    <tr>\n",
       "      <th>...</th>\n",
       "      <td>...</td>\n",
       "      <td>...</td>\n",
       "    </tr>\n",
       "    <tr>\n",
       "      <th>74</th>\n",
       "      <td>lomaxx</td>\n",
       "      <td>1</td>\n",
       "    </tr>\n",
       "    <tr>\n",
       "      <th>75</th>\n",
       "      <td>mattlant</td>\n",
       "      <td>1</td>\n",
       "    </tr>\n",
       "    <tr>\n",
       "      <th>76</th>\n",
       "      <td>paxdiablo</td>\n",
       "      <td>1</td>\n",
       "    </tr>\n",
       "    <tr>\n",
       "      <th>77</th>\n",
       "      <td>tvanfosson</td>\n",
       "      <td>1</td>\n",
       "    </tr>\n",
       "    <tr>\n",
       "      <th>78</th>\n",
       "      <td>tzot</td>\n",
       "      <td>1</td>\n",
       "    </tr>\n",
       "  </tbody>\n",
       "</table>\n",
       "<p>79 rows × 2 columns</p>\n",
       "</div>"
      ],
      "text/plain": [
       "        display_name  count\n",
       "0   1800 INFORMATION      1\n",
       "1      Adam Bellaire      1\n",
       "2         Adam Davis      1\n",
       "3          Adam Liss      1\n",
       "4               Alan      8\n",
       "..               ...    ...\n",
       "74            lomaxx      1\n",
       "75          mattlant      1\n",
       "76         paxdiablo      1\n",
       "77        tvanfosson      1\n",
       "78              tzot      1\n",
       "\n",
       "[79 rows x 2 columns]"
      ]
     },
     "execution_count": 5,
     "metadata": {},
     "output_type": "execute_result"
    }
   ],
   "source": [
    "# напишите запрос\n",
    "query = '''\n",
    "SELECT u.display_name AS display_name,\n",
    "       COUNT(DISTINCT p.user_id) AS count \n",
    "FROM stackoverflow.users AS u\n",
    "INNER JOIN stackoverflow.posts AS p ON u.id = p.user_id\n",
    "INNER JOIN stackoverflow.post_types AS pt ON p.post_type_id = pt.id\n",
    "WHERE pt.type = 'Answer' AND\n",
    "      (DATE_TRUNC('day', p.creation_date) >= DATE_TRUNC('day', u.creation_date) AND \n",
    "       DATE_TRUNC('day', p.creation_date) <= DATE_TRUNC('day', u.creation_date) + INTERVAL '1 month')\n",
    "GROUP BY display_name\n",
    "HAVING COUNT(pt.type) > 100\n",
    "ORDER BY display_name;\n",
    "'''\n",
    "\n",
    "# выполните запрос\n",
    "df = pd.read_sql_query(query, con=engine) \n",
    "df"
   ]
  },
  {
   "cell_type": "markdown",
   "metadata": {
    "id": "CEIGGQ6ODWKy"
   },
   "source": [
    "Одному имени пользователя может соответсвовать несколько пользователей с разным `user_id`. Поэтому группировка по отображаемому имени пользователя не всегда бывает корректной, поскольку объединяются данные разных пользователей."
   ]
  },
  {
   "cell_type": "markdown",
   "metadata": {
    "id": "JhM2xXj5DWKu"
   },
   "source": [
    "# Задание 3"
   ]
  },
  {
   "cell_type": "markdown",
   "metadata": {
    "id": "IS6xPqyyDWKu"
   },
   "source": [
    "Выведите количество постов за 2008 год по месяцам. Отберите посты от пользователей, которые зарегистрировались в сентябре 2008 года и сделали хотя бы один пост в декабре того же года. Отсортируйте таблицу по значению месяца по убыванию."
   ]
  },
  {
   "cell_type": "markdown",
   "metadata": {
    "id": "WmjhjV2xDWKv"
   },
   "source": [
    "| month | count |\n",
    "| ------|------ |\n",
    "| 2008-12-01 | 17641 |\n",
    "| 2008-11-01 | 18294 |\n",
    "| ... | ... |"
   ]
  },
  {
   "cell_type": "code",
   "execution_count": 6,
   "metadata": {
    "id": "kVu0FB8WDWKv",
    "scrolled": true
   },
   "outputs": [
    {
     "data": {
      "text/html": [
       "<div>\n",
       "<style scoped>\n",
       "    .dataframe tbody tr th:only-of-type {\n",
       "        vertical-align: middle;\n",
       "    }\n",
       "\n",
       "    .dataframe tbody tr th {\n",
       "        vertical-align: top;\n",
       "    }\n",
       "\n",
       "    .dataframe thead th {\n",
       "        text-align: right;\n",
       "    }\n",
       "</style>\n",
       "<table border=\"1\" class=\"dataframe\">\n",
       "  <thead>\n",
       "    <tr style=\"text-align: right;\">\n",
       "      <th></th>\n",
       "      <th>month</th>\n",
       "      <th>count</th>\n",
       "    </tr>\n",
       "  </thead>\n",
       "  <tbody>\n",
       "    <tr>\n",
       "      <th>0</th>\n",
       "      <td>2008-12-01</td>\n",
       "      <td>17641</td>\n",
       "    </tr>\n",
       "    <tr>\n",
       "      <th>1</th>\n",
       "      <td>2008-11-01</td>\n",
       "      <td>18294</td>\n",
       "    </tr>\n",
       "    <tr>\n",
       "      <th>2</th>\n",
       "      <td>2008-10-01</td>\n",
       "      <td>27171</td>\n",
       "    </tr>\n",
       "    <tr>\n",
       "      <th>3</th>\n",
       "      <td>2008-09-01</td>\n",
       "      <td>24870</td>\n",
       "    </tr>\n",
       "    <tr>\n",
       "      <th>4</th>\n",
       "      <td>2008-08-01</td>\n",
       "      <td>32</td>\n",
       "    </tr>\n",
       "  </tbody>\n",
       "</table>\n",
       "</div>"
      ],
      "text/plain": [
       "        month  count\n",
       "0  2008-12-01  17641\n",
       "1  2008-11-01  18294\n",
       "2  2008-10-01  27171\n",
       "3  2008-09-01  24870\n",
       "4  2008-08-01     32"
      ]
     },
     "execution_count": 6,
     "metadata": {},
     "output_type": "execute_result"
    }
   ],
   "source": [
    "# напишите запрос\n",
    "query = '''\n",
    "SELECT DATE_TRUNC('month', creation_date)::date AS month,\n",
    "       COUNT(*)\n",
    "FROM stackoverflow.posts\n",
    "WHERE user_id IN (SELECT DISTINCT u.id\n",
    "                  FROM stackoverflow.users u\n",
    "                  JOIN stackoverflow.posts p ON u.id = p.user_id\n",
    "                  WHERE DATE_TRUNC('month', u.creation_date) = '2008-09-01' AND\n",
    "                        DATE_TRUNC('month', p.creation_date) = '2008-12-01')\n",
    "GROUP BY month\n",
    "ORDER BY month DESC;\n",
    "'''\n",
    "\n",
    "# выполните запрос\n",
    "df = pd.read_sql_query(query, con=engine) \n",
    "df"
   ]
  },
  {
   "cell_type": "markdown",
   "metadata": {
    "id": "MMVIz4yMlKpN"
   },
   "source": [
    "В базе данных подозрительно мало информациии об августе 2008 года. Скорее всего, при выгрузке данных произошла техническая ошибка."
   ]
  },
  {
   "cell_type": "markdown",
   "metadata": {
    "id": "5Pcizm0DDWKz"
   },
   "source": [
    "# Задание 4"
   ]
  },
  {
   "cell_type": "markdown",
   "metadata": {
    "id": "KUZPF6vHDWKz"
   },
   "source": [
    "Используя данные о постах, выведите несколько полей:\n",
    "\n",
    "- идентификатор пользователя, который написал пост;\n",
    "- дата создания поста;\n",
    "- количество просмотров у текущего поста;\n",
    "- сумму просмотров постов автора с накоплением.\n",
    "\n",
    "Данные в таблице должны быть отсортированы по возрастанию идентификаторов пользователей, а данные об одном и том же пользователе — по возрастанию даты создания поста."
   ]
  },
  {
   "cell_type": "markdown",
   "metadata": {
    "id": "ZpsTUVDYDWK0"
   },
   "source": [
    "| user_id | creation_date | views_count | cumulative_count |\n",
    "| ------ | -------------- | ----------- | ---------------- |\n",
    "| 1 | 2008-07-31 23:41:00  | 480476   | 480476  |\n",
    "| 1 | 2008-07-31 23:55:38  | 136033 | 616509  | \n",
    "| 1 | 2008-07-31 23:56:41  | 0 |  616509  |\n",
    "| ... | ... | ... | ... |\n",
    "| 2 | 2008-07-31 23:56:41 | 79087  | 79087 |\n",
    "| 2 | 2008-08-01 05:09:56 | 65443 | 144530 |\n",
    "| ... | ...  | ...  | ...  |"
   ]
  },
  {
   "cell_type": "code",
   "execution_count": 7,
   "metadata": {
    "id": "hDoJhMzfDWK0",
    "scrolled": true
   },
   "outputs": [
    {
     "data": {
      "text/html": [
       "<div>\n",
       "<style scoped>\n",
       "    .dataframe tbody tr th:only-of-type {\n",
       "        vertical-align: middle;\n",
       "    }\n",
       "\n",
       "    .dataframe tbody tr th {\n",
       "        vertical-align: top;\n",
       "    }\n",
       "\n",
       "    .dataframe thead th {\n",
       "        text-align: right;\n",
       "    }\n",
       "</style>\n",
       "<table border=\"1\" class=\"dataframe\">\n",
       "  <thead>\n",
       "    <tr style=\"text-align: right;\">\n",
       "      <th></th>\n",
       "      <th>user_id</th>\n",
       "      <th>creation_date</th>\n",
       "      <th>views_count</th>\n",
       "      <th>cumulative_count</th>\n",
       "    </tr>\n",
       "  </thead>\n",
       "  <tbody>\n",
       "    <tr>\n",
       "      <th>0</th>\n",
       "      <td>1</td>\n",
       "      <td>2008-07-31 23:41:00</td>\n",
       "      <td>480476</td>\n",
       "      <td>480476</td>\n",
       "    </tr>\n",
       "    <tr>\n",
       "      <th>1</th>\n",
       "      <td>1</td>\n",
       "      <td>2008-07-31 23:55:38</td>\n",
       "      <td>136033</td>\n",
       "      <td>616509</td>\n",
       "    </tr>\n",
       "    <tr>\n",
       "      <th>2</th>\n",
       "      <td>1</td>\n",
       "      <td>2008-07-31 23:56:41</td>\n",
       "      <td>0</td>\n",
       "      <td>616509</td>\n",
       "    </tr>\n",
       "    <tr>\n",
       "      <th>3</th>\n",
       "      <td>1</td>\n",
       "      <td>2008-08-04 02:45:08</td>\n",
       "      <td>0</td>\n",
       "      <td>616509</td>\n",
       "    </tr>\n",
       "    <tr>\n",
       "      <th>4</th>\n",
       "      <td>1</td>\n",
       "      <td>2008-08-04 04:31:03</td>\n",
       "      <td>0</td>\n",
       "      <td>616509</td>\n",
       "    </tr>\n",
       "    <tr>\n",
       "      <th>...</th>\n",
       "      <td>...</td>\n",
       "      <td>...</td>\n",
       "      <td>...</td>\n",
       "      <td>...</td>\n",
       "    </tr>\n",
       "    <tr>\n",
       "      <th>243791</th>\n",
       "      <td>5696608</td>\n",
       "      <td>2008-12-23 16:00:37</td>\n",
       "      <td>0</td>\n",
       "      <td>2804</td>\n",
       "    </tr>\n",
       "    <tr>\n",
       "      <th>243792</th>\n",
       "      <td>5696608</td>\n",
       "      <td>2008-12-23 17:35:09</td>\n",
       "      <td>0</td>\n",
       "      <td>2804</td>\n",
       "    </tr>\n",
       "    <tr>\n",
       "      <th>243793</th>\n",
       "      <td>5696608</td>\n",
       "      <td>2008-12-24 01:02:48</td>\n",
       "      <td>0</td>\n",
       "      <td>2804</td>\n",
       "    </tr>\n",
       "    <tr>\n",
       "      <th>243794</th>\n",
       "      <td>5696608</td>\n",
       "      <td>2008-12-30 14:34:45</td>\n",
       "      <td>0</td>\n",
       "      <td>2804</td>\n",
       "    </tr>\n",
       "    <tr>\n",
       "      <th>243795</th>\n",
       "      <td>5696608</td>\n",
       "      <td>2008-12-30 16:32:12</td>\n",
       "      <td>0</td>\n",
       "      <td>2804</td>\n",
       "    </tr>\n",
       "  </tbody>\n",
       "</table>\n",
       "<p>243796 rows × 4 columns</p>\n",
       "</div>"
      ],
      "text/plain": [
       "        user_id       creation_date  views_count  cumulative_count\n",
       "0             1 2008-07-31 23:41:00       480476            480476\n",
       "1             1 2008-07-31 23:55:38       136033            616509\n",
       "2             1 2008-07-31 23:56:41            0            616509\n",
       "3             1 2008-08-04 02:45:08            0            616509\n",
       "4             1 2008-08-04 04:31:03            0            616509\n",
       "...         ...                 ...          ...               ...\n",
       "243791  5696608 2008-12-23 16:00:37            0              2804\n",
       "243792  5696608 2008-12-23 17:35:09            0              2804\n",
       "243793  5696608 2008-12-24 01:02:48            0              2804\n",
       "243794  5696608 2008-12-30 14:34:45            0              2804\n",
       "243795  5696608 2008-12-30 16:32:12            0              2804\n",
       "\n",
       "[243796 rows x 4 columns]"
      ]
     },
     "execution_count": 7,
     "metadata": {},
     "output_type": "execute_result"
    }
   ],
   "source": [
    "# напишите запрос\n",
    "query = '''\n",
    "SELECT user_id,\n",
    "       creation_date,\n",
    "       views_count,\n",
    "       SUM(views_count) OVER (PARTITION BY user_id ORDER BY creation_date) AS cumulative_count\n",
    "FROM stackoverflow.posts;\n",
    "'''\n",
    "\n",
    "# выполните запрос\n",
    "df = pd.read_sql_query(query, con=engine) \n",
    "df"
   ]
  },
  {
   "cell_type": "markdown",
   "metadata": {
    "id": "N0kHRHvIDWK2"
   },
   "source": [
    "# Задание 5"
   ]
  },
  {
   "cell_type": "markdown",
   "metadata": {
    "id": "gBgvmPtODWK2"
   },
   "source": [
    "Найдите среднее количество постов пользователей в день за август 2008 года. Отберите данные о пользователях, которые опубликовали больше 120 постов за август. Дни без публикаций не учитывайте. \n",
    "\n",
    "Отсортируйте результат по возрастанию среднего количества постов. Значения можно не округлять."
   ]
  },
  {
   "cell_type": "markdown",
   "metadata": {
    "id": "nfzR08BODWK3"
   },
   "source": [
    "| user_id | avg_daily |\n",
    "| ------- | --------- |\n",
    "| 116     | 4.777778  |\n",
    "| 234     | 5.208333  |\n",
    "| ...     | ... |"
   ]
  },
  {
   "cell_type": "code",
   "execution_count": 8,
   "metadata": {
    "id": "YFyPNz5GDWK3",
    "scrolled": true
   },
   "outputs": [
    {
     "data": {
      "text/html": [
       "<div>\n",
       "<style scoped>\n",
       "    .dataframe tbody tr th:only-of-type {\n",
       "        vertical-align: middle;\n",
       "    }\n",
       "\n",
       "    .dataframe tbody tr th {\n",
       "        vertical-align: top;\n",
       "    }\n",
       "\n",
       "    .dataframe thead th {\n",
       "        text-align: right;\n",
       "    }\n",
       "</style>\n",
       "<table border=\"1\" class=\"dataframe\">\n",
       "  <thead>\n",
       "    <tr style=\"text-align: right;\">\n",
       "      <th></th>\n",
       "      <th>user_id</th>\n",
       "      <th>avg_daily</th>\n",
       "    </tr>\n",
       "  </thead>\n",
       "  <tbody>\n",
       "    <tr>\n",
       "      <th>0</th>\n",
       "      <td>116</td>\n",
       "      <td>4.777778</td>\n",
       "    </tr>\n",
       "    <tr>\n",
       "      <th>1</th>\n",
       "      <td>234</td>\n",
       "      <td>5.208333</td>\n",
       "    </tr>\n",
       "    <tr>\n",
       "      <th>2</th>\n",
       "      <td>91</td>\n",
       "      <td>5.681818</td>\n",
       "    </tr>\n",
       "    <tr>\n",
       "      <th>3</th>\n",
       "      <td>905</td>\n",
       "      <td>7.000000</td>\n",
       "    </tr>\n",
       "    <tr>\n",
       "      <th>4</th>\n",
       "      <td>383</td>\n",
       "      <td>7.277778</td>\n",
       "    </tr>\n",
       "  </tbody>\n",
       "</table>\n",
       "</div>"
      ],
      "text/plain": [
       "   user_id  avg_daily\n",
       "0      116   4.777778\n",
       "1      234   5.208333\n",
       "2       91   5.681818\n",
       "3      905   7.000000\n",
       "4      383   7.277778"
      ]
     },
     "execution_count": 8,
     "metadata": {},
     "output_type": "execute_result"
    }
   ],
   "source": [
    "# напишите запрос\n",
    "query = '''\n",
    "WITH t1 AS\n",
    "  (SELECT user_id,\n",
    "          DATE_TRUNC('day', creation_date) AS day,\n",
    "          COUNT(DATE_TRUNC('day', creation_date)) AS posts_count\n",
    "   FROM stackoverflow.posts\n",
    "   WHERE DATE_TRUNC('day', creation_date) >= '2008-08-01' AND\n",
    "         DATE_TRUNC('day', creation_date) <= '2008-08-31' AND \n",
    "         user_id IN (SELECT user_id\n",
    "                     FROM stackoverflow.posts   \n",
    "                     WHERE DATE_TRUNC('day', creation_date) >= '2008-08-01' AND\n",
    "                           DATE_TRUNC('day', creation_date) <= '2008-08-31'\n",
    "                     GROUP BY user_id\n",
    "                     HAVING COUNT(user_id) > 120)\n",
    "   GROUP BY user_id, day)\n",
    "SELECT user_id,\n",
    "       AVG(posts_count) AS avg_daily\n",
    "FROM t1\n",
    "GROUP BY user_id\n",
    "ORDER BY avg_daily;\n",
    "'''\n",
    "\n",
    "# выполните запрос\n",
    "df = pd.read_sql_query(query, con=engine) \n",
    "df"
   ]
  },
  {
   "cell_type": "markdown",
   "metadata": {
    "id": "EQ0dcFH4DWK5"
   },
   "source": [
    "# Задание 6"
   ]
  },
  {
   "cell_type": "markdown",
   "metadata": {
    "id": "c7flfg_hDWK5"
   },
   "source": [
    "Сколько в среднем дней в период с 1 по 7 декабря 2008 года пользователи взаимодействовали с платформой? Для каждого пользователя отберите дни, в которые он или она опубликовали хотя бы один пост. Нужно получить одно целое число — не забудьте округлить результат. "
   ]
  },
  {
   "cell_type": "markdown",
   "metadata": {
    "id": "RC1Ibzm9DWK6"
   },
   "source": [
    "| result |\n",
    "| -----  |\n",
    "| <целое число> |"
   ]
  },
  {
   "cell_type": "code",
   "execution_count": 9,
   "metadata": {
    "id": "kZ7LXTr6DWK6",
    "scrolled": true
   },
   "outputs": [
    {
     "data": {
      "text/html": [
       "<div>\n",
       "<style scoped>\n",
       "    .dataframe tbody tr th:only-of-type {\n",
       "        vertical-align: middle;\n",
       "    }\n",
       "\n",
       "    .dataframe tbody tr th {\n",
       "        vertical-align: top;\n",
       "    }\n",
       "\n",
       "    .dataframe thead th {\n",
       "        text-align: right;\n",
       "    }\n",
       "</style>\n",
       "<table border=\"1\" class=\"dataframe\">\n",
       "  <thead>\n",
       "    <tr style=\"text-align: right;\">\n",
       "      <th></th>\n",
       "      <th>result</th>\n",
       "    </tr>\n",
       "  </thead>\n",
       "  <tbody>\n",
       "    <tr>\n",
       "      <th>0</th>\n",
       "      <td>2.0</td>\n",
       "    </tr>\n",
       "  </tbody>\n",
       "</table>\n",
       "</div>"
      ],
      "text/plain": [
       "   result\n",
       "0     2.0"
      ]
     },
     "execution_count": 9,
     "metadata": {},
     "output_type": "execute_result"
    }
   ],
   "source": [
    "# напишите запрос\n",
    "query = '''\n",
    "WITH post AS\n",
    "    (SELECT user_id, \n",
    "            COUNT(DISTINCT DATE_TRUNC('day', creation_date)) as count_day\n",
    "     FROM stackoverflow.posts\n",
    "     WHERE DATE_TRUNC('day', creation_date) >= '2008-12-01' AND \n",
    "           DATE_TRUNC('day', creation_date) <= '2008-12-07' \n",
    "     GROUP BY user_id)\n",
    "SELECT ROUND(AVG(count_day)) as result\n",
    "FROM post;\n",
    "'''\n",
    "\n",
    "# выполните запрос\n",
    "df = pd.read_sql_query(query, con=engine) \n",
    "df"
   ]
  },
  {
   "cell_type": "markdown",
   "metadata": {
    "id": "LfUuYz-1DWK8"
   },
   "source": [
    "В среднем с 1 по 7 декабря 2008 года пользователи взаимодействовали с платформой 2 дня. "
   ]
  },
  {
   "cell_type": "markdown",
   "metadata": {
    "id": "wfOmqmfLDWK8"
   },
   "source": [
    "# Задание 7"
   ]
  },
  {
   "cell_type": "markdown",
   "metadata": {
    "id": "X4ARQimADWK9"
   },
   "source": [
    "Выведите историю активности каждого пользователя в таком виде: идентификатор пользователя, дата публикации поста. Отсортируйте вывод по возрастанию идентификаторов пользователей, а для каждого пользователя — по возрастанию даты публикации.\n",
    "\n",
    "Добавьте в таблицу новое поле: для каждого поста в нём будет указано название месяца предпоследней публикации пользователя относительно текущей. Если такой публикации нет, укажите `NULL`.  Python автоматически поменяет `NULL` на `None`, но дополнительно преобразовывать значения `None` вам не нужно.\n",
    "\n",
    "Посмотрите внимательно на образец таблицы: для первых двух постов предпоследней публикации нет, но, начиная с третьего поста, в новое поле входит нужный месяц. Для следующего пользователя в первые две записи поля `second_last_month` тоже войдёт `NULL`."
   ]
  },
  {
   "cell_type": "markdown",
   "metadata": {
    "id": "IGPjRP01DWK9"
   },
   "source": [
    "| user_id | creation_date | second_last_month |\n",
    "| ------- | ------------- | ----------------- |\n",
    "| 1       | 2008-07-31 23:41:00 | None |\n",
    "| 1       | 2008-07-31 23:55:38 | None |\n",
    "| 1       | 2008-07-31 23:56:41 | July |\n",
    "| 1       | 2008-08-04 02:45:08 | July |\n",
    "| 1       | 2008-08-04 04:31:03 | July |\n",
    "| 1       | 2008-08-04 08:04:42 | August |\n",
    "| ... | ... | ... |"
   ]
  },
  {
   "cell_type": "code",
   "execution_count": 10,
   "metadata": {
    "id": "HzI1vhaMDWK-",
    "scrolled": true
   },
   "outputs": [
    {
     "data": {
      "text/html": [
       "<div>\n",
       "<style scoped>\n",
       "    .dataframe tbody tr th:only-of-type {\n",
       "        vertical-align: middle;\n",
       "    }\n",
       "\n",
       "    .dataframe tbody tr th {\n",
       "        vertical-align: top;\n",
       "    }\n",
       "\n",
       "    .dataframe thead th {\n",
       "        text-align: right;\n",
       "    }\n",
       "</style>\n",
       "<table border=\"1\" class=\"dataframe\">\n",
       "  <thead>\n",
       "    <tr style=\"text-align: right;\">\n",
       "      <th></th>\n",
       "      <th>user_id</th>\n",
       "      <th>creation_date</th>\n",
       "      <th>second_last_month</th>\n",
       "    </tr>\n",
       "  </thead>\n",
       "  <tbody>\n",
       "    <tr>\n",
       "      <th>0</th>\n",
       "      <td>1</td>\n",
       "      <td>2008-07-31 23:41:00</td>\n",
       "      <td>None</td>\n",
       "    </tr>\n",
       "    <tr>\n",
       "      <th>1</th>\n",
       "      <td>1</td>\n",
       "      <td>2008-07-31 23:55:38</td>\n",
       "      <td>None</td>\n",
       "    </tr>\n",
       "    <tr>\n",
       "      <th>2</th>\n",
       "      <td>1</td>\n",
       "      <td>2008-07-31 23:56:41</td>\n",
       "      <td>July</td>\n",
       "    </tr>\n",
       "    <tr>\n",
       "      <th>3</th>\n",
       "      <td>1</td>\n",
       "      <td>2008-08-04 02:45:08</td>\n",
       "      <td>July</td>\n",
       "    </tr>\n",
       "    <tr>\n",
       "      <th>4</th>\n",
       "      <td>1</td>\n",
       "      <td>2008-08-04 04:31:03</td>\n",
       "      <td>July</td>\n",
       "    </tr>\n",
       "    <tr>\n",
       "      <th>...</th>\n",
       "      <td>...</td>\n",
       "      <td>...</td>\n",
       "      <td>...</td>\n",
       "    </tr>\n",
       "    <tr>\n",
       "      <th>243791</th>\n",
       "      <td>5696608</td>\n",
       "      <td>2008-12-23 16:00:37</td>\n",
       "      <td>December</td>\n",
       "    </tr>\n",
       "    <tr>\n",
       "      <th>243792</th>\n",
       "      <td>5696608</td>\n",
       "      <td>2008-12-23 17:35:09</td>\n",
       "      <td>December</td>\n",
       "    </tr>\n",
       "    <tr>\n",
       "      <th>243793</th>\n",
       "      <td>5696608</td>\n",
       "      <td>2008-12-24 01:02:48</td>\n",
       "      <td>December</td>\n",
       "    </tr>\n",
       "    <tr>\n",
       "      <th>243794</th>\n",
       "      <td>5696608</td>\n",
       "      <td>2008-12-30 14:34:45</td>\n",
       "      <td>December</td>\n",
       "    </tr>\n",
       "    <tr>\n",
       "      <th>243795</th>\n",
       "      <td>5696608</td>\n",
       "      <td>2008-12-30 16:32:12</td>\n",
       "      <td>December</td>\n",
       "    </tr>\n",
       "  </tbody>\n",
       "</table>\n",
       "<p>243796 rows × 3 columns</p>\n",
       "</div>"
      ],
      "text/plain": [
       "        user_id       creation_date second_last_month\n",
       "0             1 2008-07-31 23:41:00              None\n",
       "1             1 2008-07-31 23:55:38              None\n",
       "2             1 2008-07-31 23:56:41              July\n",
       "3             1 2008-08-04 02:45:08              July\n",
       "4             1 2008-08-04 04:31:03              July\n",
       "...         ...                 ...               ...\n",
       "243791  5696608 2008-12-23 16:00:37          December\n",
       "243792  5696608 2008-12-23 17:35:09          December\n",
       "243793  5696608 2008-12-24 01:02:48          December\n",
       "243794  5696608 2008-12-30 14:34:45          December\n",
       "243795  5696608 2008-12-30 16:32:12          December\n",
       "\n",
       "[243796 rows x 3 columns]"
      ]
     },
     "execution_count": 10,
     "metadata": {},
     "output_type": "execute_result"
    }
   ],
   "source": [
    "# напишите запрос\n",
    "query = '''\n",
    "WITH t1 AS\n",
    "    (SELECT user_id, \n",
    "            creation_date,\n",
    "            LAG(DATE_TRUNC('month', creation_date), 2) OVER (PARTITION BY user_id ORDER BY creation_date) as second_month\n",
    "     FROM stackoverflow.posts\n",
    "     ORDER BY user_id, creation_date)\n",
    "SELECT user_id, \n",
    "       creation_date,\n",
    "       CASE\n",
    "            WHEN EXTRACT(MONTH FROM second_month) = 1 THEN 'January'\n",
    "            WHEN EXTRACT(MONTH FROM second_month) = 2 THEN 'February'\n",
    "            WHEN EXTRACT(MONTH FROM second_month) = 3 THEN 'March'\n",
    "            WHEN EXTRACT(MONTH FROM second_month) = 4 THEN 'April'\n",
    "            WHEN EXTRACT(MONTH FROM second_month) = 5 THEN 'May'\n",
    "            WHEN EXTRACT(MONTH FROM second_month) = 6 THEN 'June'\n",
    "            WHEN EXTRACT(MONTH FROM second_month) = 7 THEN 'July'\n",
    "            WHEN EXTRACT(MONTH FROM second_month) = 8 THEN 'August'\n",
    "            WHEN EXTRACT(MONTH FROM second_month) = 9 THEN 'September'\n",
    "            WHEN EXTRACT(MONTH FROM second_month) = 10 THEN 'October'\n",
    "            WHEN EXTRACT(MONTH FROM second_month) = 11 THEN 'November'\n",
    "            WHEN EXTRACT(MONTH FROM second_month) = 12 THEN 'December'\n",
    "       END AS second_last_month\n",
    "FROM t1;\n",
    "'''\n",
    "\n",
    "# выполните запрос\n",
    "df = pd.read_sql_query(query, con=engine) \n",
    "df"
   ]
  },
  {
   "cell_type": "markdown",
   "metadata": {
    "id": "tf9qq2yzDWK_"
   },
   "source": [
    "# Задание 8"
   ]
  },
  {
   "cell_type": "markdown",
   "metadata": {
    "id": "gfwLVXBYDWLA"
   },
   "source": [
    "Рассчитайте аналог Retention Rate по месяцам для пользователей StackOverflow. Объедините пользователей в когорты по месяцу их первого поста. Возвращение определяйте по наличию поста в текущем месяце. "
   ]
  },
  {
   "cell_type": "markdown",
   "metadata": {
    "id": "kN2ic39WlKpl"
   },
   "source": [
    "| cohort_dt | session_date | users_cnt | cohort_users_cnt | retention_rate |\n",
    "| --- | --- | --- | --- | --- |\n",
    "| 2008-07-01 00:00:00 | 2008-07-01 00:00:00 | 3 | 3 | 100 |\n",
    "| 2008-07-01 00:00:00 | 2008-08-01 00:00:00 | 2 | 3 | 66,67 |\n",
    "| 2008-07-01 00:00:00 | 2008-09-01 00:00:00 | 1 | 3 | 33,33 |\n",
    "| 2008-07-01 00:00:00 | 2008-10-01 00:00:00 | 2 | 3 | 66,67 |\n",
    "| 2008-07-01 00:00:00 | 2008-11-01 00:00:00 | 1 | 3 | 33,33 |\n",
    "| 2008-07-01 00:00:00 | 2008-12-01 00:00:00 | 2 | 3 | 66,67 |\n",
    "| 2008-08-01 00:00:00 | 2008-08-01 00:00:00 | 2151 | 2151 | 100 |\n",
    "| ... | ... | ... | ... | ... |"
   ]
  },
  {
   "cell_type": "code",
   "execution_count": 11,
   "metadata": {
    "id": "LUgFmwmTDWLB"
   },
   "outputs": [
    {
     "data": {
      "text/html": [
       "<div>\n",
       "<style scoped>\n",
       "    .dataframe tbody tr th:only-of-type {\n",
       "        vertical-align: middle;\n",
       "    }\n",
       "\n",
       "    .dataframe tbody tr th {\n",
       "        vertical-align: top;\n",
       "    }\n",
       "\n",
       "    .dataframe thead th {\n",
       "        text-align: right;\n",
       "    }\n",
       "</style>\n",
       "<table border=\"1\" class=\"dataframe\">\n",
       "  <thead>\n",
       "    <tr style=\"text-align: right;\">\n",
       "      <th></th>\n",
       "      <th>cohort_dt</th>\n",
       "      <th>session_date</th>\n",
       "      <th>users_cnt</th>\n",
       "      <th>cohort_users_cnt</th>\n",
       "      <th>retention_rate</th>\n",
       "    </tr>\n",
       "  </thead>\n",
       "  <tbody>\n",
       "    <tr>\n",
       "      <th>0</th>\n",
       "      <td>2008-07-01</td>\n",
       "      <td>2008-07-01</td>\n",
       "      <td>3</td>\n",
       "      <td>3</td>\n",
       "      <td>100.00</td>\n",
       "    </tr>\n",
       "    <tr>\n",
       "      <th>1</th>\n",
       "      <td>2008-07-01</td>\n",
       "      <td>2008-08-01</td>\n",
       "      <td>2</td>\n",
       "      <td>3</td>\n",
       "      <td>66.67</td>\n",
       "    </tr>\n",
       "    <tr>\n",
       "      <th>2</th>\n",
       "      <td>2008-07-01</td>\n",
       "      <td>2008-09-01</td>\n",
       "      <td>1</td>\n",
       "      <td>3</td>\n",
       "      <td>33.33</td>\n",
       "    </tr>\n",
       "    <tr>\n",
       "      <th>3</th>\n",
       "      <td>2008-07-01</td>\n",
       "      <td>2008-10-01</td>\n",
       "      <td>2</td>\n",
       "      <td>3</td>\n",
       "      <td>66.67</td>\n",
       "    </tr>\n",
       "    <tr>\n",
       "      <th>4</th>\n",
       "      <td>2008-07-01</td>\n",
       "      <td>2008-11-01</td>\n",
       "      <td>1</td>\n",
       "      <td>3</td>\n",
       "      <td>33.33</td>\n",
       "    </tr>\n",
       "    <tr>\n",
       "      <th>5</th>\n",
       "      <td>2008-07-01</td>\n",
       "      <td>2008-12-01</td>\n",
       "      <td>2</td>\n",
       "      <td>3</td>\n",
       "      <td>66.67</td>\n",
       "    </tr>\n",
       "    <tr>\n",
       "      <th>6</th>\n",
       "      <td>2008-08-01</td>\n",
       "      <td>2008-08-01</td>\n",
       "      <td>2151</td>\n",
       "      <td>2151</td>\n",
       "      <td>100.00</td>\n",
       "    </tr>\n",
       "    <tr>\n",
       "      <th>7</th>\n",
       "      <td>2008-08-01</td>\n",
       "      <td>2008-09-01</td>\n",
       "      <td>1571</td>\n",
       "      <td>2151</td>\n",
       "      <td>73.04</td>\n",
       "    </tr>\n",
       "    <tr>\n",
       "      <th>8</th>\n",
       "      <td>2008-08-01</td>\n",
       "      <td>2008-10-01</td>\n",
       "      <td>1275</td>\n",
       "      <td>2151</td>\n",
       "      <td>59.27</td>\n",
       "    </tr>\n",
       "    <tr>\n",
       "      <th>9</th>\n",
       "      <td>2008-08-01</td>\n",
       "      <td>2008-11-01</td>\n",
       "      <td>1050</td>\n",
       "      <td>2151</td>\n",
       "      <td>48.81</td>\n",
       "    </tr>\n",
       "    <tr>\n",
       "      <th>10</th>\n",
       "      <td>2008-08-01</td>\n",
       "      <td>2008-12-01</td>\n",
       "      <td>894</td>\n",
       "      <td>2151</td>\n",
       "      <td>41.56</td>\n",
       "    </tr>\n",
       "    <tr>\n",
       "      <th>11</th>\n",
       "      <td>2008-09-01</td>\n",
       "      <td>2008-09-01</td>\n",
       "      <td>7678</td>\n",
       "      <td>7678</td>\n",
       "      <td>100.00</td>\n",
       "    </tr>\n",
       "    <tr>\n",
       "      <th>12</th>\n",
       "      <td>2008-09-01</td>\n",
       "      <td>2008-10-01</td>\n",
       "      <td>4132</td>\n",
       "      <td>7678</td>\n",
       "      <td>53.82</td>\n",
       "    </tr>\n",
       "    <tr>\n",
       "      <th>13</th>\n",
       "      <td>2008-09-01</td>\n",
       "      <td>2008-11-01</td>\n",
       "      <td>2966</td>\n",
       "      <td>7678</td>\n",
       "      <td>38.63</td>\n",
       "    </tr>\n",
       "    <tr>\n",
       "      <th>14</th>\n",
       "      <td>2008-09-01</td>\n",
       "      <td>2008-12-01</td>\n",
       "      <td>2500</td>\n",
       "      <td>7678</td>\n",
       "      <td>32.56</td>\n",
       "    </tr>\n",
       "    <tr>\n",
       "      <th>15</th>\n",
       "      <td>2008-10-01</td>\n",
       "      <td>2008-10-01</td>\n",
       "      <td>3629</td>\n",
       "      <td>3629</td>\n",
       "      <td>100.00</td>\n",
       "    </tr>\n",
       "    <tr>\n",
       "      <th>16</th>\n",
       "      <td>2008-10-01</td>\n",
       "      <td>2008-11-01</td>\n",
       "      <td>1640</td>\n",
       "      <td>3629</td>\n",
       "      <td>45.19</td>\n",
       "    </tr>\n",
       "    <tr>\n",
       "      <th>17</th>\n",
       "      <td>2008-10-01</td>\n",
       "      <td>2008-12-01</td>\n",
       "      <td>1221</td>\n",
       "      <td>3629</td>\n",
       "      <td>33.65</td>\n",
       "    </tr>\n",
       "    <tr>\n",
       "      <th>18</th>\n",
       "      <td>2008-11-01</td>\n",
       "      <td>2008-11-01</td>\n",
       "      <td>2852</td>\n",
       "      <td>2852</td>\n",
       "      <td>100.00</td>\n",
       "    </tr>\n",
       "    <tr>\n",
       "      <th>19</th>\n",
       "      <td>2008-11-01</td>\n",
       "      <td>2008-12-01</td>\n",
       "      <td>1151</td>\n",
       "      <td>2852</td>\n",
       "      <td>40.36</td>\n",
       "    </tr>\n",
       "    <tr>\n",
       "      <th>20</th>\n",
       "      <td>2008-12-01</td>\n",
       "      <td>2008-12-01</td>\n",
       "      <td>2536</td>\n",
       "      <td>2536</td>\n",
       "      <td>100.00</td>\n",
       "    </tr>\n",
       "  </tbody>\n",
       "</table>\n",
       "</div>"
      ],
      "text/plain": [
       "     cohort_dt session_date  users_cnt  cohort_users_cnt  retention_rate\n",
       "0   2008-07-01   2008-07-01          3                 3          100.00\n",
       "1   2008-07-01   2008-08-01          2                 3           66.67\n",
       "2   2008-07-01   2008-09-01          1                 3           33.33\n",
       "3   2008-07-01   2008-10-01          2                 3           66.67\n",
       "4   2008-07-01   2008-11-01          1                 3           33.33\n",
       "5   2008-07-01   2008-12-01          2                 3           66.67\n",
       "6   2008-08-01   2008-08-01       2151              2151          100.00\n",
       "7   2008-08-01   2008-09-01       1571              2151           73.04\n",
       "8   2008-08-01   2008-10-01       1275              2151           59.27\n",
       "9   2008-08-01   2008-11-01       1050              2151           48.81\n",
       "10  2008-08-01   2008-12-01        894              2151           41.56\n",
       "11  2008-09-01   2008-09-01       7678              7678          100.00\n",
       "12  2008-09-01   2008-10-01       4132              7678           53.82\n",
       "13  2008-09-01   2008-11-01       2966              7678           38.63\n",
       "14  2008-09-01   2008-12-01       2500              7678           32.56\n",
       "15  2008-10-01   2008-10-01       3629              3629          100.00\n",
       "16  2008-10-01   2008-11-01       1640              3629           45.19\n",
       "17  2008-10-01   2008-12-01       1221              3629           33.65\n",
       "18  2008-11-01   2008-11-01       2852              2852          100.00\n",
       "19  2008-11-01   2008-12-01       1151              2852           40.36\n",
       "20  2008-12-01   2008-12-01       2536              2536          100.00"
      ]
     },
     "execution_count": 11,
     "metadata": {},
     "output_type": "execute_result"
    }
   ],
   "source": [
    "# напишите запрос\n",
    "query = '''\n",
    "WITH pr AS\n",
    "    (SELECT u.id AS user_id,\n",
    "            DATE_TRUNC('month', MIN(p.creation_date))::date AS cohort_dt,\n",
    "            COUNT(u.id) OVER (PARTITION BY DATE_TRUNC('month', MIN(p.creation_date))::date) AS cohort_users_cnt \n",
    "     FROM stackoverflow.users AS u\n",
    "     JOIN stackoverflow.posts AS p ON p.user_id=u.id\n",
    "     GROUP BY 1), \n",
    "s AS\n",
    "    (SELECT DISTINCT pr.user_id AS user_id,\n",
    "            DATE_TRUNC('month', p.creation_date)::date AS session_date\n",
    "     FROM pr\n",
    "     JOIN stackoverflow.posts AS p ON p.user_id = pr.user_id)\n",
    "SELECT pr.cohort_dt AS cohort_dt,\n",
    "       s.session_date AS session_date,\n",
    "       COUNT(s.user_id) AS users_cnt,\n",
    "       pr.cohort_users_cnt AS cohort_users_cnt,\n",
    "       ROUND((COUNT(s.user_id) * 100.0 / pr.cohort_users_cnt), 2) AS retention_rate\n",
    "FROM pr\n",
    "JOIN s ON pr.user_id = s.user_id\n",
    "GROUP BY cohort_dt, session_date, cohort_users_cnt;\n",
    "'''\n",
    "\n",
    "# выполните запрос\n",
    "df = pd.read_sql_query(query, con=engine) \n",
    "df"
   ]
  },
  {
   "cell_type": "code",
   "execution_count": 12,
   "metadata": {
    "id": "qAEJc8H1DWLC",
    "scrolled": true
   },
   "outputs": [
    {
     "data": {
      "image/png": "[encoded data removed]",
      "text/plain": [
       "<Figure size 720x720 with 2 Axes>"
      ]
     },
     "metadata": {
      "needs_background": "light"
     },
     "output_type": "display_data"
    }
   ],
   "source": [
    "retention = df.pivot('cohort_dt', 'session_date', 'retention_rate')\n",
    "retention.index = [str(x)[0:10] for x in retention.index]\n",
    "retention.columns = [str(x)[0:10] for x in retention.columns]\n",
    "\n",
    "\n",
    "plt.figure(figsize=(10, 10))\n",
    "sns.heatmap(retention, annot=True, fmt='')\n",
    "plt.title('Тепловая карта удержания')\n",
    "plt.show()"
   ]
  },
  {
   "cell_type": "markdown",
   "metadata": {
    "id": "EgOfIsI4DWLC"
   },
   "source": [
    "На тепловой карте видно, что удержание пользователей из когорты июля 2008 года не планомерно снижается, а то снижается, то растет до прежних значений. Вероятно, это связано с техническими проблемами при сохранении данных от этих пользователей. "
   ]
  },
  {
   "cell_type": "markdown",
   "metadata": {
    "id": "1k7oPWt5DWLK"
   },
   "source": [
    "# Задание 9\n"
   ]
  },
  {
   "cell_type": "markdown",
   "metadata": {
    "id": "ALsYVSyRDWLM"
   },
   "source": [
    "На сколько процентов менялось количество постов ежемесячно с 1 сентября по 31 декабря 2008 года? Отобразите таблицу со следующими полями:\n",
    "\n",
    "- номер месяца;\n",
    "- количество постов за месяц;\n",
    "- процент, который показывает, насколько изменилось количество постов в текущем месяце по сравнению с предыдущим.\n",
    "\n",
    "Если постов стало меньше, значение процента должно быть отрицательным, если больше — положительным. Округлите значение процента до двух знаков после запятой.\n",
    "\n",
    "Напомним, что при делении одного целого числа на другое в PostgreSQL в результате получится целое число, округлённое до ближайшего целого вниз. Чтобы этого избежать, переведите делимое в тип `numeric`."
   ]
  },
  {
   "cell_type": "markdown",
   "metadata": {
    "id": "u4E2zF8DDWLM"
   },
   "source": [
    "| creation_month | posts_count | percentage |\n",
    "| -------------- | ----------- | ---------- |\n",
    "| 9 | 70731 | Nan |\n",
    "| 10 | 63102 | -10.33 |\n",
    "| ... | ... | ... |"
   ]
  },
  {
   "cell_type": "code",
   "execution_count": 13,
   "metadata": {
    "id": "Mb5pShStDWLN"
   },
   "outputs": [
    {
     "data": {
      "text/html": [
       "<div>\n",
       "<style scoped>\n",
       "    .dataframe tbody tr th:only-of-type {\n",
       "        vertical-align: middle;\n",
       "    }\n",
       "\n",
       "    .dataframe tbody tr th {\n",
       "        vertical-align: top;\n",
       "    }\n",
       "\n",
       "    .dataframe thead th {\n",
       "        text-align: right;\n",
       "    }\n",
       "</style>\n",
       "<table border=\"1\" class=\"dataframe\">\n",
       "  <thead>\n",
       "    <tr style=\"text-align: right;\">\n",
       "      <th></th>\n",
       "      <th>creation_month</th>\n",
       "      <th>posts_count</th>\n",
       "      <th>percentage</th>\n",
       "    </tr>\n",
       "  </thead>\n",
       "  <tbody>\n",
       "    <tr>\n",
       "      <th>0</th>\n",
       "      <td>9</td>\n",
       "      <td>70371</td>\n",
       "      <td>NaN</td>\n",
       "    </tr>\n",
       "    <tr>\n",
       "      <th>1</th>\n",
       "      <td>10</td>\n",
       "      <td>63102</td>\n",
       "      <td>-10.33</td>\n",
       "    </tr>\n",
       "    <tr>\n",
       "      <th>2</th>\n",
       "      <td>11</td>\n",
       "      <td>46975</td>\n",
       "      <td>-25.56</td>\n",
       "    </tr>\n",
       "    <tr>\n",
       "      <th>3</th>\n",
       "      <td>12</td>\n",
       "      <td>44592</td>\n",
       "      <td>-5.07</td>\n",
       "    </tr>\n",
       "  </tbody>\n",
       "</table>\n",
       "</div>"
      ],
      "text/plain": [
       "   creation_month  posts_count  percentage\n",
       "0               9        70371         NaN\n",
       "1              10        63102      -10.33\n",
       "2              11        46975      -25.56\n",
       "3              12        44592       -5.07"
      ]
     },
     "execution_count": 13,
     "metadata": {},
     "output_type": "execute_result"
    }
   ],
   "source": [
    "# напишите запрос\n",
    "query = '''\n",
    "WITH t1 AS\n",
    "    (SELECT DISTINCT EXTRACT(MONTH FROM p.creation_date::date)::integer AS creation_month,\n",
    "            COUNT(*) OVER (PARTITION BY EXTRACT(MONTH FROM p.creation_date::date)) AS posts_count\n",
    "    FROM stackoverflow.posts AS p\n",
    "    WHERE p.creation_date::date BETWEEN '2008-09-01' AND '2008-12-31'\n",
    ")\n",
    "SELECT *,\n",
    "       ROUND((posts_count::numeric/LAG(posts_count) OVER (ORDER BY creation_month) - 1) * 100, 2) AS percentage\n",
    "FROM t1\n",
    "ORDER BY creation_month;\n",
    "'''\n",
    "\n",
    "# выполните запрос\n",
    "df = pd.read_sql_query(query, con=engine) \n",
    "df"
   ]
  },
  {
   "cell_type": "code",
   "execution_count": 14,
   "metadata": {
    "id": "377ABjiVDWLP",
    "scrolled": true
   },
   "outputs": [
    {
     "data": {
      "text/plain": [
       "(-1.1113450333821804,\n",
       " 1.1005402602007526,\n",
       " -1.1194443395301965,\n",
       " 1.1127112873136231)"
      ]
     },
     "execution_count": 14,
     "metadata": {},
     "output_type": "execute_result"
    },
    {
     "data": {
      "image/png": "[encoded data removed]",
      "text/plain": [
       "<Figure size 432x288 with 1 Axes>"
      ]
     },
     "metadata": {},
     "output_type": "display_data"
    }
   ],
   "source": [
    "fig, ax = plt.subplots()\n",
    "ax.pie(df['posts_count'], labels=df['creation_month'], autopct='%1.1f%%', shadow=True, wedgeprops={'lw':1, 'ls':'--','edgecolor':\"k\"}, rotatelabels=True)\n",
    "ax.axis(\"equal\")"
   ]
  },
  {
   "cell_type": "markdown",
   "metadata": {
    "id": "uw7qMtafDWLP"
   },
   "source": [
    "# Задание 10"
   ]
  },
  {
   "cell_type": "markdown",
   "metadata": {
    "id": "oRBpWKx3DWLQ"
   },
   "source": [
    "Выгрузите данные активности пользователя, который опубликовал больше всего постов за всё время. Выведите данные за октябрь 2008 года в таком виде:\n",
    "\n",
    "- номер недели;\n",
    "- дата и время последнего поста, опубликованного на этой неделе."
   ]
  },
  {
   "cell_type": "markdown",
   "metadata": {
    "id": "XjAWSn_3DWLQ"
   },
   "source": [
    "| week_creation | creation_date |\n",
    "| ------------- | ------------- |\n",
    "| 40 | 2008-10-05 09:00:58 |\n",
    "| 41 | 2008-10-12 21:22:23 |\n",
    "| ... | ... |"
   ]
  },
  {
   "cell_type": "code",
   "execution_count": 15,
   "metadata": {
    "id": "r5F5fSkwDWLQ",
    "scrolled": true
   },
   "outputs": [
    {
     "data": {
      "text/html": [
       "<div>\n",
       "<style scoped>\n",
       "    .dataframe tbody tr th:only-of-type {\n",
       "        vertical-align: middle;\n",
       "    }\n",
       "\n",
       "    .dataframe tbody tr th {\n",
       "        vertical-align: top;\n",
       "    }\n",
       "\n",
       "    .dataframe thead th {\n",
       "        text-align: right;\n",
       "    }\n",
       "</style>\n",
       "<table border=\"1\" class=\"dataframe\">\n",
       "  <thead>\n",
       "    <tr style=\"text-align: right;\">\n",
       "      <th></th>\n",
       "      <th>week_creation</th>\n",
       "      <th>creation_date</th>\n",
       "    </tr>\n",
       "  </thead>\n",
       "  <tbody>\n",
       "    <tr>\n",
       "      <th>0</th>\n",
       "      <td>40</td>\n",
       "      <td>2008-10-05 09:00:58</td>\n",
       "    </tr>\n",
       "    <tr>\n",
       "      <th>1</th>\n",
       "      <td>41</td>\n",
       "      <td>2008-10-12 21:22:23</td>\n",
       "    </tr>\n",
       "    <tr>\n",
       "      <th>2</th>\n",
       "      <td>42</td>\n",
       "      <td>2008-10-19 06:49:30</td>\n",
       "    </tr>\n",
       "    <tr>\n",
       "      <th>3</th>\n",
       "      <td>43</td>\n",
       "      <td>2008-10-26 21:44:36</td>\n",
       "    </tr>\n",
       "    <tr>\n",
       "      <th>4</th>\n",
       "      <td>44</td>\n",
       "      <td>2008-10-31 22:16:01</td>\n",
       "    </tr>\n",
       "  </tbody>\n",
       "</table>\n",
       "</div>"
      ],
      "text/plain": [
       "   week_creation       creation_date\n",
       "0             40 2008-10-05 09:00:58\n",
       "1             41 2008-10-12 21:22:23\n",
       "2             42 2008-10-19 06:49:30\n",
       "3             43 2008-10-26 21:44:36\n",
       "4             44 2008-10-31 22:16:01"
      ]
     },
     "execution_count": 15,
     "metadata": {},
     "output_type": "execute_result"
    }
   ],
   "source": [
    "# напишите запрос\n",
    "query = '''\n",
    "WITH t1 AS \n",
    "    (SELECT DISTINCT user_id,\n",
    "            COUNT(id)\n",
    "     FROM stackoverflow.posts\n",
    "     GROUP BY user_id),\n",
    "t2 AS (SELECT user_id\n",
    "       FROM t1\n",
    "       WHERE count = (SELECT MAX(count) FROM t1))\n",
    "SELECT DISTINCT EXTRACT(WEEK FROM creation_date::date)::integer AS week_creation,\n",
    "       MAX(creation_date) OVER (PARTITION BY EXTRACT(WEEK FROM creation_date::date)) AS creation_date\n",
    "FROM stackoverflow.posts AS p\n",
    "JOIN t2 ON p.user_id=t2.user_id\n",
    "WHERE creation_date::date BETWEEN '2008-10-01' AND '2008-10-31';\n",
    "'''\n",
    "\n",
    "# выполните запрос\n",
    "df = pd.read_sql_query(query, con=engine) \n",
    "df"
   ]
  }
 ],
 "metadata": {
  "ExecuteTimeLog": [
   {
    "duration": 70,
    "start_time": "2022-08-21T13:15:21.431Z"
   },
   {
    "duration": 1054,
    "start_time": "2022-08-21T13:15:33.479Z"
   },
   {
    "duration": 4,
    "start_time": "2022-08-21T13:15:34.536Z"
   },
   {
    "duration": 9151,
    "start_time": "2022-08-21T13:15:34.543Z"
   },
   {
    "duration": 93,
    "start_time": "2022-08-21T13:15:43.697Z"
   },
   {
    "duration": 16,
    "start_time": "2022-08-21T13:15:43.791Z"
   },
   {
    "duration": 72,
    "start_time": "2022-08-21T13:15:43.809Z"
   },
   {
    "duration": 5,
    "start_time": "2022-08-21T13:19:26.631Z"
   },
   {
    "duration": 156,
    "start_time": "2022-08-21T13:20:26.115Z"
   },
   {
    "duration": 156,
    "start_time": "2022-08-21T13:20:43.315Z"
   },
   {
    "duration": 146,
    "start_time": "2022-08-21T13:20:48.756Z"
   },
   {
    "duration": 118,
    "start_time": "2022-08-21T13:23:37.247Z"
   },
   {
    "duration": 1256,
    "start_time": "2022-08-21T13:24:54.481Z"
   },
   {
    "duration": 88,
    "start_time": "2022-08-21T13:26:48.167Z"
   },
   {
    "duration": 39,
    "start_time": "2022-08-21T13:27:59.359Z"
   },
   {
    "duration": 188,
    "start_time": "2022-08-21T13:32:40.232Z"
   },
   {
    "duration": 1237,
    "start_time": "2022-08-21T13:32:46.960Z"
   },
   {
    "duration": 380,
    "start_time": "2022-08-21T13:34:53.579Z"
   },
   {
    "duration": 542,
    "start_time": "2022-08-21T13:35:46.945Z"
   },
   {
    "duration": 11,
    "start_time": "2022-08-21T13:36:24.828Z"
   },
   {
    "duration": 16,
    "start_time": "2022-08-21T13:36:37.613Z"
   },
   {
    "duration": 511,
    "start_time": "2022-08-21T13:37:34.831Z"
   },
   {
    "duration": 454,
    "start_time": "2022-08-21T13:37:43.582Z"
   },
   {
    "duration": 1444,
    "start_time": "2022-08-21T13:41:37.678Z"
   },
   {
    "duration": 408,
    "start_time": "2022-08-21T13:43:14.479Z"
   },
   {
    "duration": 420,
    "start_time": "2022-08-21T13:43:57.222Z"
   },
   {
    "duration": 452,
    "start_time": "2022-08-21T13:44:00.822Z"
   },
   {
    "duration": 442,
    "start_time": "2022-08-21T13:44:04.871Z"
   },
   {
    "duration": 113,
    "start_time": "2022-08-21T13:46:18.422Z"
   },
   {
    "duration": 155,
    "start_time": "2022-08-21T13:47:48.428Z"
   },
   {
    "duration": 1530,
    "start_time": "2022-08-21T13:47:56.167Z"
   },
   {
    "duration": 136,
    "start_time": "2022-08-21T13:48:22.879Z"
   },
   {
    "duration": 162,
    "start_time": "2022-08-21T13:48:26.399Z"
   },
   {
    "duration": 168,
    "start_time": "2022-08-21T13:49:17.646Z"
   },
   {
    "duration": 216,
    "start_time": "2022-08-21T13:49:26.213Z"
   },
   {
    "duration": 165,
    "start_time": "2022-08-21T13:49:40.463Z"
   },
   {
    "duration": 105,
    "start_time": "2022-08-21T13:53:10.879Z"
   },
   {
    "duration": 105,
    "start_time": "2022-08-21T13:53:23.419Z"
   },
   {
    "duration": 103,
    "start_time": "2022-08-21T13:55:20.608Z"
   },
   {
    "duration": 156,
    "start_time": "2022-08-21T13:55:51.019Z"
   },
   {
    "duration": 107,
    "start_time": "2022-08-21T13:56:22.968Z"
   },
   {
    "duration": 118,
    "start_time": "2022-08-21T13:56:39.337Z"
   },
   {
    "duration": 205,
    "start_time": "2022-08-21T13:57:12.407Z"
   },
   {
    "duration": 98,
    "start_time": "2022-08-21T13:58:37.327Z"
   },
   {
    "duration": 95,
    "start_time": "2022-08-21T13:59:00.365Z"
   },
   {
    "duration": 98,
    "start_time": "2022-08-21T13:59:29.174Z"
   },
   {
    "duration": 191,
    "start_time": "2022-08-21T13:59:55.563Z"
   },
   {
    "duration": 106,
    "start_time": "2022-08-21T14:00:25.131Z"
   },
   {
    "duration": 117,
    "start_time": "2022-08-21T14:00:32.354Z"
   },
   {
    "duration": 116,
    "start_time": "2022-08-21T14:00:42.905Z"
   },
   {
    "duration": 103,
    "start_time": "2022-08-21T14:00:47.833Z"
   },
   {
    "duration": 110,
    "start_time": "2022-08-21T14:01:53.621Z"
   },
   {
    "duration": 111,
    "start_time": "2022-08-21T14:02:02.388Z"
   },
   {
    "duration": 113,
    "start_time": "2022-08-21T14:03:09.259Z"
   },
   {
    "duration": 109,
    "start_time": "2022-08-21T14:03:26.096Z"
   },
   {
    "duration": 113,
    "start_time": "2022-08-21T14:05:16.206Z"
   },
   {
    "duration": 131,
    "start_time": "2022-08-21T14:09:34.835Z"
   },
   {
    "duration": 105,
    "start_time": "2022-08-21T14:09:52.764Z"
   },
   {
    "duration": 94,
    "start_time": "2022-08-21T14:09:56.922Z"
   },
   {
    "duration": 402,
    "start_time": "2022-08-21T14:10:15.144Z"
   },
   {
    "duration": 102,
    "start_time": "2022-08-21T14:10:49.362Z"
   },
   {
    "duration": 374,
    "start_time": "2022-08-21T14:11:22.103Z"
   },
   {
    "duration": 388,
    "start_time": "2022-08-21T14:11:53.729Z"
   },
   {
    "duration": 415,
    "start_time": "2022-08-21T14:12:17.669Z"
   },
   {
    "duration": 405,
    "start_time": "2022-08-21T14:12:32.114Z"
   },
   {
    "duration": 99,
    "start_time": "2022-08-21T14:13:27.931Z"
   },
   {
    "duration": 378,
    "start_time": "2022-08-21T14:13:34.466Z"
   },
   {
    "duration": 148,
    "start_time": "2022-08-21T14:14:04.923Z"
   },
   {
    "duration": 121,
    "start_time": "2022-08-21T14:14:11.231Z"
   },
   {
    "duration": 115,
    "start_time": "2022-08-21T14:14:34.422Z"
   },
   {
    "duration": 103,
    "start_time": "2022-08-21T14:15:16.338Z"
   },
   {
    "duration": 130,
    "start_time": "2022-08-21T14:15:41.720Z"
   },
   {
    "duration": 184,
    "start_time": "2022-08-21T14:15:57.583Z"
   },
   {
    "duration": 187,
    "start_time": "2022-08-21T14:16:06.452Z"
   },
   {
    "duration": 118,
    "start_time": "2022-08-21T14:16:24.447Z"
   },
   {
    "duration": 84,
    "start_time": "2022-08-21T14:18:50.704Z"
   },
   {
    "duration": 1431,
    "start_time": "2022-08-21T14:18:57.394Z"
   },
   {
    "duration": 4,
    "start_time": "2022-08-21T14:18:58.827Z"
   },
   {
    "duration": 9961,
    "start_time": "2022-08-21T14:18:58.833Z"
   },
   {
    "duration": 56,
    "start_time": "2022-08-21T14:19:08.796Z"
   },
   {
    "duration": 16,
    "start_time": "2022-08-21T14:19:08.854Z"
   },
   {
    "duration": 212,
    "start_time": "2022-08-21T14:19:08.873Z"
   },
   {
    "duration": 0,
    "start_time": "2022-08-21T14:19:09.088Z"
   },
   {
    "duration": 0,
    "start_time": "2022-08-21T14:19:09.089Z"
   },
   {
    "duration": 0,
    "start_time": "2022-08-21T14:19:09.090Z"
   },
   {
    "duration": 0,
    "start_time": "2022-08-21T14:19:09.091Z"
   },
   {
    "duration": 0,
    "start_time": "2022-08-21T14:19:09.092Z"
   },
   {
    "duration": 0,
    "start_time": "2022-08-21T14:19:09.093Z"
   },
   {
    "duration": 0,
    "start_time": "2022-08-21T14:19:09.094Z"
   },
   {
    "duration": 0,
    "start_time": "2022-08-21T14:19:09.096Z"
   },
   {
    "duration": 0,
    "start_time": "2022-08-21T14:19:09.098Z"
   },
   {
    "duration": 0,
    "start_time": "2022-08-21T14:19:09.099Z"
   },
   {
    "duration": 0,
    "start_time": "2022-08-21T14:19:09.101Z"
   },
   {
    "duration": 0,
    "start_time": "2022-08-21T14:19:09.103Z"
   },
   {
    "duration": 0,
    "start_time": "2022-08-21T14:19:09.104Z"
   },
   {
    "duration": 0,
    "start_time": "2022-08-21T14:19:09.106Z"
   },
   {
    "duration": 0,
    "start_time": "2022-08-21T14:19:09.107Z"
   },
   {
    "duration": 85,
    "start_time": "2022-08-21T14:19:28.930Z"
   },
   {
    "duration": 1321,
    "start_time": "2022-08-21T14:19:33.613Z"
   },
   {
    "duration": 4,
    "start_time": "2022-08-21T14:19:34.936Z"
   },
   {
    "duration": 10433,
    "start_time": "2022-08-21T14:19:34.943Z"
   },
   {
    "duration": 59,
    "start_time": "2022-08-21T14:19:45.379Z"
   },
   {
    "duration": 22,
    "start_time": "2022-08-21T14:19:45.440Z"
   },
   {
    "duration": 82,
    "start_time": "2022-08-21T14:19:45.465Z"
   },
   {
    "duration": 148,
    "start_time": "2022-08-21T14:19:45.549Z"
   },
   {
    "duration": 3,
    "start_time": "2022-08-21T14:19:45.699Z"
   },
   {
    "duration": 118,
    "start_time": "2022-08-21T14:19:45.704Z"
   },
   {
    "duration": 3,
    "start_time": "2022-08-21T14:19:45.825Z"
   },
   {
    "duration": 1457,
    "start_time": "2022-08-21T14:19:45.830Z"
   },
   {
    "duration": 81,
    "start_time": "2022-08-21T14:19:47.291Z"
   },
   {
    "duration": 46,
    "start_time": "2022-08-21T14:19:47.375Z"
   },
   {
    "duration": 3,
    "start_time": "2022-08-21T14:19:47.424Z"
   },
   {
    "duration": 1594,
    "start_time": "2022-08-21T14:19:47.430Z"
   },
   {
    "duration": 394,
    "start_time": "2022-08-21T14:19:49.026Z"
   },
   {
    "duration": 489,
    "start_time": "2022-08-21T14:19:49.423Z"
   },
   {
    "duration": 3,
    "start_time": "2022-08-21T14:19:49.913Z"
   },
   {
    "duration": 192,
    "start_time": "2022-08-21T14:19:49.918Z"
   },
   {
    "duration": 119,
    "start_time": "2022-08-21T14:19:50.112Z"
   },
   {
    "duration": 111,
    "start_time": "2022-08-21T14:19:50.233Z"
   },
   {
    "duration": 1339,
    "start_time": "2022-08-22T09:16:20.606Z"
   },
   {
    "duration": 4,
    "start_time": "2022-08-22T09:16:21.947Z"
   },
   {
    "duration": 5616,
    "start_time": "2022-08-22T09:16:21.957Z"
   },
   {
    "duration": 287,
    "start_time": "2022-08-22T09:16:27.575Z"
   },
   {
    "duration": 19,
    "start_time": "2022-08-22T09:16:27.864Z"
   },
   {
    "duration": 132,
    "start_time": "2022-08-22T09:16:27.885Z"
   },
   {
    "duration": 186,
    "start_time": "2022-08-22T09:16:28.019Z"
   },
   {
    "duration": 149,
    "start_time": "2022-08-22T09:16:28.207Z"
   },
   {
    "duration": 2,
    "start_time": "2022-08-22T09:16:28.358Z"
   },
   {
    "duration": 1295,
    "start_time": "2022-08-22T09:16:28.364Z"
   },
   {
    "duration": 101,
    "start_time": "2022-08-22T09:16:29.661Z"
   },
   {
    "duration": 69,
    "start_time": "2022-08-22T09:16:29.764Z"
   },
   {
    "duration": 2,
    "start_time": "2022-08-22T09:16:29.836Z"
   },
   {
    "duration": 1411,
    "start_time": "2022-08-22T09:16:29.841Z"
   },
   {
    "duration": 440,
    "start_time": "2022-08-22T09:16:31.258Z"
   },
   {
    "duration": 481,
    "start_time": "2022-08-22T09:16:31.700Z"
   },
   {
    "duration": 3,
    "start_time": "2022-08-22T09:16:32.183Z"
   },
   {
    "duration": 239,
    "start_time": "2022-08-22T09:16:32.188Z"
   },
   {
    "duration": 109,
    "start_time": "2022-08-22T09:16:32.429Z"
   },
   {
    "duration": 151,
    "start_time": "2022-08-22T09:16:32.540Z"
   },
   {
    "duration": 1249,
    "start_time": "2022-08-22T09:19:06.303Z"
   },
   {
    "duration": 1236,
    "start_time": "2022-08-22T09:31:28.377Z"
   },
   {
    "duration": 4,
    "start_time": "2022-08-22T09:31:29.615Z"
   },
   {
    "duration": 6019,
    "start_time": "2022-08-22T09:31:29.621Z"
   },
   {
    "duration": 216,
    "start_time": "2022-08-22T09:31:35.642Z"
   },
   {
    "duration": 19,
    "start_time": "2022-08-22T09:31:35.860Z"
   },
   {
    "duration": 115,
    "start_time": "2022-08-22T09:31:35.881Z"
   },
   {
    "duration": 191,
    "start_time": "2022-08-22T09:31:35.999Z"
   },
   {
    "duration": 153,
    "start_time": "2022-08-22T09:31:36.192Z"
   },
   {
    "duration": 1216,
    "start_time": "2022-08-22T09:31:36.347Z"
   },
   {
    "duration": 125,
    "start_time": "2022-08-22T09:31:37.565Z"
   },
   {
    "duration": 74,
    "start_time": "2022-08-22T09:31:37.691Z"
   },
   {
    "duration": 1347,
    "start_time": "2022-08-22T09:31:37.766Z"
   },
   {
    "duration": 455,
    "start_time": "2022-08-22T09:31:39.115Z"
   },
   {
    "duration": 390,
    "start_time": "2022-08-22T09:31:39.572Z"
   },
   {
    "duration": 226,
    "start_time": "2022-08-22T09:31:39.964Z"
   },
   {
    "duration": 123,
    "start_time": "2022-08-22T09:31:40.192Z"
   },
   {
    "duration": 145,
    "start_time": "2022-08-22T09:31:40.317Z"
   },
   {
    "duration": 348,
    "start_time": "2022-08-22T09:32:22.844Z"
   },
   {
    "duration": 237,
    "start_time": "2022-08-22T09:32:49.649Z"
   },
   {
    "duration": 146,
    "start_time": "2022-08-22T09:33:16.123Z"
   },
   {
    "duration": 244,
    "start_time": "2022-08-22T09:33:48.959Z"
   },
   {
    "duration": 109,
    "start_time": "2022-08-22T09:33:57.165Z"
   },
   {
    "duration": 414,
    "start_time": "2022-08-22T09:35:11.728Z"
   },
   {
    "duration": 1191,
    "start_time": "2022-08-22T09:38:59.156Z"
   },
   {
    "duration": 4,
    "start_time": "2022-08-22T09:39:00.349Z"
   },
   {
    "duration": 5548,
    "start_time": "2022-08-22T09:39:00.357Z"
   },
   {
    "duration": 215,
    "start_time": "2022-08-22T09:39:05.907Z"
   },
   {
    "duration": 15,
    "start_time": "2022-08-22T09:39:06.124Z"
   },
   {
    "duration": 133,
    "start_time": "2022-08-22T09:39:06.140Z"
   },
   {
    "duration": 178,
    "start_time": "2022-08-22T09:39:06.275Z"
   },
   {
    "duration": 144,
    "start_time": "2022-08-22T09:39:06.455Z"
   },
   {
    "duration": 1190,
    "start_time": "2022-08-22T09:39:06.601Z"
   },
   {
    "duration": 101,
    "start_time": "2022-08-22T09:39:07.793Z"
   },
   {
    "duration": 68,
    "start_time": "2022-08-22T09:39:07.895Z"
   },
   {
    "duration": 1357,
    "start_time": "2022-08-22T09:39:07.964Z"
   },
   {
    "duration": 416,
    "start_time": "2022-08-22T09:39:09.323Z"
   },
   {
    "duration": 466,
    "start_time": "2022-08-22T09:39:09.741Z"
   },
   {
    "duration": 233,
    "start_time": "2022-08-22T09:39:10.209Z"
   },
   {
    "duration": 114,
    "start_time": "2022-08-22T09:39:10.444Z"
   },
   {
    "duration": 155,
    "start_time": "2022-08-22T09:39:10.560Z"
   },
   {
    "duration": 1302,
    "start_time": "2022-08-22T14:10:37.977Z"
   },
   {
    "duration": 3,
    "start_time": "2022-08-22T14:10:39.281Z"
   },
   {
    "duration": 13593,
    "start_time": "2022-08-22T14:10:39.285Z"
   },
   {
    "duration": 71,
    "start_time": "2022-08-22T14:10:52.880Z"
   },
   {
    "duration": 13,
    "start_time": "2022-08-22T14:10:52.953Z"
   },
   {
    "duration": 87,
    "start_time": "2022-08-22T14:10:52.967Z"
   },
   {
    "duration": 148,
    "start_time": "2022-08-22T14:10:53.056Z"
   },
   {
    "duration": 115,
    "start_time": "2022-08-22T14:10:53.206Z"
   },
   {
    "duration": 1100,
    "start_time": "2022-08-22T14:10:53.322Z"
   },
   {
    "duration": 86,
    "start_time": "2022-08-22T14:10:54.423Z"
   },
   {
    "duration": 37,
    "start_time": "2022-08-22T14:10:54.510Z"
   },
   {
    "duration": 1237,
    "start_time": "2022-08-22T14:10:54.549Z"
   },
   {
    "duration": 374,
    "start_time": "2022-08-22T14:10:55.788Z"
   },
   {
    "duration": 456,
    "start_time": "2022-08-22T14:10:56.166Z"
   },
   {
    "duration": 191,
    "start_time": "2022-08-22T14:10:56.623Z"
   },
   {
    "duration": 101,
    "start_time": "2022-08-22T14:10:56.816Z"
   },
   {
    "duration": 107,
    "start_time": "2022-08-22T14:10:56.919Z"
   },
   {
    "duration": 1497,
    "start_time": "2022-08-22T14:26:10.849Z"
   },
   {
    "duration": 3,
    "start_time": "2022-08-22T14:26:12.349Z"
   },
   {
    "duration": 8231,
    "start_time": "2022-08-22T14:26:12.354Z"
   },
   {
    "duration": 69,
    "start_time": "2022-08-22T14:26:20.587Z"
   },
   {
    "duration": 22,
    "start_time": "2022-08-22T14:26:20.659Z"
   },
   {
    "duration": 92,
    "start_time": "2022-08-22T14:26:55.703Z"
   },
   {
    "duration": 1430,
    "start_time": "2022-08-24T09:07:02.799Z"
   },
   {
    "duration": 4,
    "start_time": "2022-08-24T09:07:04.232Z"
   },
   {
    "duration": 7167,
    "start_time": "2022-08-24T09:07:04.238Z"
   },
   {
    "duration": 220,
    "start_time": "2022-08-24T09:07:11.408Z"
   },
   {
    "duration": 14,
    "start_time": "2022-08-24T09:07:11.630Z"
   },
   {
    "duration": 116,
    "start_time": "2022-08-24T09:07:11.646Z"
   },
   {
    "duration": 166,
    "start_time": "2022-08-24T09:07:11.764Z"
   },
   {
    "duration": 138,
    "start_time": "2022-08-24T09:07:11.932Z"
   },
   {
    "duration": 1184,
    "start_time": "2022-08-24T09:07:12.072Z"
   },
   {
    "duration": 95,
    "start_time": "2022-08-24T09:07:13.259Z"
   },
   {
    "duration": 66,
    "start_time": "2022-08-24T09:07:13.356Z"
   },
   {
    "duration": 1342,
    "start_time": "2022-08-24T09:07:13.424Z"
   },
   {
    "duration": 403,
    "start_time": "2022-08-24T09:07:14.768Z"
   },
   {
    "duration": 440,
    "start_time": "2022-08-24T09:07:15.173Z"
   },
   {
    "duration": 213,
    "start_time": "2022-08-24T09:07:15.615Z"
   },
   {
    "duration": 100,
    "start_time": "2022-08-24T09:07:15.829Z"
   },
   {
    "duration": 133,
    "start_time": "2022-08-24T09:07:15.931Z"
   },
   {
    "duration": 1125,
    "start_time": "2022-08-24T09:11:20.257Z"
   },
   {
    "duration": 4,
    "start_time": "2022-08-24T09:11:21.384Z"
   },
   {
    "duration": 5825,
    "start_time": "2022-08-24T09:11:21.399Z"
   },
   {
    "duration": 229,
    "start_time": "2022-08-24T09:11:27.226Z"
   },
   {
    "duration": 0,
    "start_time": "2022-08-24T09:11:27.458Z"
   },
   {
    "duration": 0,
    "start_time": "2022-08-24T09:11:27.459Z"
   },
   {
    "duration": 0,
    "start_time": "2022-08-24T09:11:27.460Z"
   },
   {
    "duration": 0,
    "start_time": "2022-08-24T09:11:27.461Z"
   },
   {
    "duration": 0,
    "start_time": "2022-08-24T09:11:27.462Z"
   },
   {
    "duration": 0,
    "start_time": "2022-08-24T09:11:27.463Z"
   },
   {
    "duration": 0,
    "start_time": "2022-08-24T09:11:27.464Z"
   },
   {
    "duration": 0,
    "start_time": "2022-08-24T09:11:27.465Z"
   },
   {
    "duration": 0,
    "start_time": "2022-08-24T09:11:27.467Z"
   },
   {
    "duration": 0,
    "start_time": "2022-08-24T09:11:27.468Z"
   },
   {
    "duration": 0,
    "start_time": "2022-08-24T09:11:27.469Z"
   },
   {
    "duration": 1248,
    "start_time": "2022-08-24T09:12:13.170Z"
   },
   {
    "duration": 4,
    "start_time": "2022-08-24T09:12:14.420Z"
   },
   {
    "duration": 6301,
    "start_time": "2022-08-24T09:12:14.426Z"
   },
   {
    "duration": 14938,
    "start_time": "2022-08-24T09:12:20.729Z"
   },
   {
    "duration": 183,
    "start_time": "2022-08-24T09:12:35.670Z"
   },
   {
    "duration": 146,
    "start_time": "2022-08-24T09:12:35.854Z"
   },
   {
    "duration": 6358,
    "start_time": "2022-08-24T09:12:36.002Z"
   },
   {
    "duration": 120,
    "start_time": "2022-08-24T09:12:42.362Z"
   },
   {
    "duration": 66,
    "start_time": "2022-08-24T09:12:42.484Z"
   },
   {
    "duration": 1299,
    "start_time": "2022-08-24T09:12:42.552Z"
   },
   {
    "duration": 390,
    "start_time": "2022-08-24T09:12:43.853Z"
   },
   {
    "duration": 396,
    "start_time": "2022-08-24T09:12:44.245Z"
   },
   {
    "duration": 216,
    "start_time": "2022-08-24T09:12:44.642Z"
   },
   {
    "duration": 107,
    "start_time": "2022-08-24T09:12:44.862Z"
   },
   {
    "duration": 135,
    "start_time": "2022-08-24T09:12:44.970Z"
   }
  ],
  "colab": {
   "name": "AdvansedSQLProjectTemplate.ipynb",
   "provenance": []
  },
  "kernelspec": {
   "display_name": "Python 3 (ipykernel)",
   "language": "python",
   "name": "python3"
  },
  "language_info": {
   "codemirror_mode": {
    "name": "ipython",
    "version": 3
   },
   "file_extension": ".py",
   "mimetype": "text/x-python",
   "name": "python",
   "nbconvert_exporter": "python",
   "pygments_lexer": "ipython3",
   "version": "3.9.5"
  },
  "toc": {
   "base_numbering": 1,
   "nav_menu": {},
   "number_sections": true,
   "sideBar": false,
   "skip_h1_title": true,
   "title_cell": "Table of Contents",
   "title_sidebar": "Contents",
   "toc_cell": false,
   "toc_position": {
    "height": "47.6989px",
    "left": "585.994px",
    "top": "245.04px",
    "width": "158.977px"
   },
   "toc_section_display": false,
   "toc_window_display": false
  }
 },
 "nbformat": 4,
 "nbformat_minor": 1
}
