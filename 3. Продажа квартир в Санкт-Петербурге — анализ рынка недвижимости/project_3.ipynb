{
 "cells": [
  {
   "cell_type": "markdown",
   "metadata": {
    "pycharm": {
     "name": "#%% md\n"
    }
   },
   "source": [
    "# Исследование объявлений о продаже квартир"
   ]
  },
  {
   "cell_type": "markdown",
   "metadata": {
    "pycharm": {
     "name": "#%% md\n"
    }
   },
   "source": [
    "В основе проекта лежат данные сервиса Яндекс Недвижимость — архив объявлений о продаже квартир в Санкт-Петербурге и соседних населённых пунктах за несколько лет. Нужно научиться определять рыночную стоимость объектов недвижимости. Это позволит построить автоматизированную систему: она отследит аномалии и мошенническую деятельность.\n",
    "\n",
    "По каждой квартире на продажу доступны два вида данных. Первые вписаны пользователем, вторые — получены автоматически на основе картографических данных. Например, расстояние до центра, аэропорта, ближайшего парка и водоёма."
   ]
  },
  {
   "cell_type": "markdown",
   "metadata": {
    "pycharm": {
     "name": "#%% md\n"
    }
   },
   "source": [
    "## Изучение данных из файла"
   ]
  },
  {
   "cell_type": "code",
   "execution_count": 1,
   "metadata": {
    "pycharm": {
     "name": "#%%\n"
    }
   },
   "outputs": [],
   "source": [
    "import pandas as pd\n",
    "data = pd.read_csv('/datasets/real_estate_data.csv')"
   ]
  },
  {
   "cell_type": "code",
   "execution_count": 2,
   "metadata": {
    "scrolled": true,
    "pycharm": {
     "name": "#%%\n"
    }
   },
   "outputs": [
    {
     "data": {
      "text/html": [
       "<div>\n",
       "<style scoped>\n",
       "    .dataframe tbody tr th:only-of-type {\n",
       "        vertical-align: middle;\n",
       "    }\n",
       "\n",
       "    .dataframe tbody tr th {\n",
       "        vertical-align: top;\n",
       "    }\n",
       "\n",
       "    .dataframe thead th {\n",
       "        text-align: right;\n",
       "    }\n",
       "</style>\n",
       "<table border=\"1\" class=\"dataframe\">\n",
       "  <thead>\n",
       "    <tr style=\"text-align: right;\">\n",
       "      <th></th>\n",
       "      <th>total_images\\tlast_price\\ttotal_area\\tfirst_day_exposition\\trooms\\tceiling_height\\tfloors_total\\tliving_area\\tfloor\\tis_apartment\\tstudio\\topen_plan\\tkitchen_area\\tbalcony\\tlocality_name\\tairports_nearest\\tcityCenters_nearest\\tparks_around3000\\tparks_nearest\\tponds_around3000\\tponds_nearest\\tdays_exposition</th>\n",
       "    </tr>\n",
       "  </thead>\n",
       "  <tbody>\n",
       "    <tr>\n",
       "      <th>0</th>\n",
       "      <td>20\\t13000000.0\\t108.0\\t2019-03-07T00:00:00\\t3\\...</td>\n",
       "    </tr>\n",
       "    <tr>\n",
       "      <th>1</th>\n",
       "      <td>7\\t3350000.0\\t40.4\\t2018-12-04T00:00:00\\t1\\t\\t...</td>\n",
       "    </tr>\n",
       "    <tr>\n",
       "      <th>2</th>\n",
       "      <td>10\\t5196000.0\\t56.0\\t2015-08-20T00:00:00\\t2\\t\\...</td>\n",
       "    </tr>\n",
       "    <tr>\n",
       "      <th>3</th>\n",
       "      <td>0\\t64900000.0\\t159.0\\t2015-07-24T00:00:00\\t3\\t...</td>\n",
       "    </tr>\n",
       "    <tr>\n",
       "      <th>4</th>\n",
       "      <td>2\\t10000000.0\\t100.0\\t2018-06-19T00:00:00\\t2\\t...</td>\n",
       "    </tr>\n",
       "  </tbody>\n",
       "</table>\n",
       "</div>"
      ],
      "text/plain": [
       "  total_images\\tlast_price\\ttotal_area\\tfirst_day_exposition\\trooms\\tceiling_height\\tfloors_total\\tliving_area\\tfloor\\tis_apartment\\tstudio\\topen_plan\\tkitchen_area\\tbalcony\\tlocality_name\\tairports_nearest\\tcityCenters_nearest\\tparks_around3000\\tparks_nearest\\tponds_around3000\\tponds_nearest\\tdays_exposition\n",
       "0  20\\t13000000.0\\t108.0\\t2019-03-07T00:00:00\\t3\\...                                                                                                                                                                                                                                                                  \n",
       "1  7\\t3350000.0\\t40.4\\t2018-12-04T00:00:00\\t1\\t\\t...                                                                                                                                                                                                                                                                  \n",
       "2  10\\t5196000.0\\t56.0\\t2015-08-20T00:00:00\\t2\\t\\...                                                                                                                                                                                                                                                                  \n",
       "3  0\\t64900000.0\\t159.0\\t2015-07-24T00:00:00\\t3\\t...                                                                                                                                                                                                                                                                  \n",
       "4  2\\t10000000.0\\t100.0\\t2018-06-19T00:00:00\\t2\\t...                                                                                                                                                                                                                                                                  "
      ]
     },
     "execution_count": 2,
     "metadata": {},
     "output_type": "execute_result"
    }
   ],
   "source": [
    "data.head(5)"
   ]
  },
  {
   "cell_type": "markdown",
   "metadata": {
    "pycharm": {
     "name": "#%% md\n"
    }
   },
   "source": [
    "Необходимо использовать в качестве разделителя знак \"\\t\", поскольку данные \"склеились\"."
   ]
  },
  {
   "cell_type": "code",
   "execution_count": 3,
   "metadata": {
    "pycharm": {
     "name": "#%%\n"
    }
   },
   "outputs": [
    {
     "data": {
      "text/html": [
       "<div>\n",
       "<style scoped>\n",
       "    .dataframe tbody tr th:only-of-type {\n",
       "        vertical-align: middle;\n",
       "    }\n",
       "\n",
       "    .dataframe tbody tr th {\n",
       "        vertical-align: top;\n",
       "    }\n",
       "\n",
       "    .dataframe thead th {\n",
       "        text-align: right;\n",
       "    }\n",
       "</style>\n",
       "<table border=\"1\" class=\"dataframe\">\n",
       "  <thead>\n",
       "    <tr style=\"text-align: right;\">\n",
       "      <th></th>\n",
       "      <th>total_images</th>\n",
       "      <th>last_price</th>\n",
       "      <th>total_area</th>\n",
       "      <th>first_day_exposition</th>\n",
       "      <th>rooms</th>\n",
       "      <th>ceiling_height</th>\n",
       "      <th>floors_total</th>\n",
       "      <th>living_area</th>\n",
       "      <th>floor</th>\n",
       "      <th>is_apartment</th>\n",
       "      <th>...</th>\n",
       "      <th>kitchen_area</th>\n",
       "      <th>balcony</th>\n",
       "      <th>locality_name</th>\n",
       "      <th>airports_nearest</th>\n",
       "      <th>cityCenters_nearest</th>\n",
       "      <th>parks_around3000</th>\n",
       "      <th>parks_nearest</th>\n",
       "      <th>ponds_around3000</th>\n",
       "      <th>ponds_nearest</th>\n",
       "      <th>days_exposition</th>\n",
       "    </tr>\n",
       "  </thead>\n",
       "  <tbody>\n",
       "    <tr>\n",
       "      <th>0</th>\n",
       "      <td>20</td>\n",
       "      <td>13000000.0</td>\n",
       "      <td>108.0</td>\n",
       "      <td>2019-03-07T00:00:00</td>\n",
       "      <td>3</td>\n",
       "      <td>2.70</td>\n",
       "      <td>16.0</td>\n",
       "      <td>51.0</td>\n",
       "      <td>8</td>\n",
       "      <td>NaN</td>\n",
       "      <td>...</td>\n",
       "      <td>25.0</td>\n",
       "      <td>NaN</td>\n",
       "      <td>Санкт-Петербург</td>\n",
       "      <td>18863.0</td>\n",
       "      <td>16028.0</td>\n",
       "      <td>1.0</td>\n",
       "      <td>482.0</td>\n",
       "      <td>2.0</td>\n",
       "      <td>755.0</td>\n",
       "      <td>NaN</td>\n",
       "    </tr>\n",
       "    <tr>\n",
       "      <th>1</th>\n",
       "      <td>7</td>\n",
       "      <td>3350000.0</td>\n",
       "      <td>40.4</td>\n",
       "      <td>2018-12-04T00:00:00</td>\n",
       "      <td>1</td>\n",
       "      <td>NaN</td>\n",
       "      <td>11.0</td>\n",
       "      <td>18.6</td>\n",
       "      <td>1</td>\n",
       "      <td>NaN</td>\n",
       "      <td>...</td>\n",
       "      <td>11.0</td>\n",
       "      <td>2.0</td>\n",
       "      <td>посёлок Шушары</td>\n",
       "      <td>12817.0</td>\n",
       "      <td>18603.0</td>\n",
       "      <td>0.0</td>\n",
       "      <td>NaN</td>\n",
       "      <td>0.0</td>\n",
       "      <td>NaN</td>\n",
       "      <td>81.0</td>\n",
       "    </tr>\n",
       "    <tr>\n",
       "      <th>2</th>\n",
       "      <td>10</td>\n",
       "      <td>5196000.0</td>\n",
       "      <td>56.0</td>\n",
       "      <td>2015-08-20T00:00:00</td>\n",
       "      <td>2</td>\n",
       "      <td>NaN</td>\n",
       "      <td>5.0</td>\n",
       "      <td>34.3</td>\n",
       "      <td>4</td>\n",
       "      <td>NaN</td>\n",
       "      <td>...</td>\n",
       "      <td>8.3</td>\n",
       "      <td>0.0</td>\n",
       "      <td>Санкт-Петербург</td>\n",
       "      <td>21741.0</td>\n",
       "      <td>13933.0</td>\n",
       "      <td>1.0</td>\n",
       "      <td>90.0</td>\n",
       "      <td>2.0</td>\n",
       "      <td>574.0</td>\n",
       "      <td>558.0</td>\n",
       "    </tr>\n",
       "    <tr>\n",
       "      <th>3</th>\n",
       "      <td>0</td>\n",
       "      <td>64900000.0</td>\n",
       "      <td>159.0</td>\n",
       "      <td>2015-07-24T00:00:00</td>\n",
       "      <td>3</td>\n",
       "      <td>NaN</td>\n",
       "      <td>14.0</td>\n",
       "      <td>NaN</td>\n",
       "      <td>9</td>\n",
       "      <td>NaN</td>\n",
       "      <td>...</td>\n",
       "      <td>NaN</td>\n",
       "      <td>0.0</td>\n",
       "      <td>Санкт-Петербург</td>\n",
       "      <td>28098.0</td>\n",
       "      <td>6800.0</td>\n",
       "      <td>2.0</td>\n",
       "      <td>84.0</td>\n",
       "      <td>3.0</td>\n",
       "      <td>234.0</td>\n",
       "      <td>424.0</td>\n",
       "    </tr>\n",
       "    <tr>\n",
       "      <th>4</th>\n",
       "      <td>2</td>\n",
       "      <td>10000000.0</td>\n",
       "      <td>100.0</td>\n",
       "      <td>2018-06-19T00:00:00</td>\n",
       "      <td>2</td>\n",
       "      <td>3.03</td>\n",
       "      <td>14.0</td>\n",
       "      <td>32.0</td>\n",
       "      <td>13</td>\n",
       "      <td>NaN</td>\n",
       "      <td>...</td>\n",
       "      <td>41.0</td>\n",
       "      <td>NaN</td>\n",
       "      <td>Санкт-Петербург</td>\n",
       "      <td>31856.0</td>\n",
       "      <td>8098.0</td>\n",
       "      <td>2.0</td>\n",
       "      <td>112.0</td>\n",
       "      <td>1.0</td>\n",
       "      <td>48.0</td>\n",
       "      <td>121.0</td>\n",
       "    </tr>\n",
       "  </tbody>\n",
       "</table>\n",
       "<p>5 rows × 22 columns</p>\n",
       "</div>"
      ],
      "text/plain": [
       "   total_images  last_price  total_area first_day_exposition  rooms  \\\n",
       "0            20  13000000.0       108.0  2019-03-07T00:00:00      3   \n",
       "1             7   3350000.0        40.4  2018-12-04T00:00:00      1   \n",
       "2            10   5196000.0        56.0  2015-08-20T00:00:00      2   \n",
       "3             0  64900000.0       159.0  2015-07-24T00:00:00      3   \n",
       "4             2  10000000.0       100.0  2018-06-19T00:00:00      2   \n",
       "\n",
       "   ceiling_height  floors_total  living_area  floor is_apartment  ...  \\\n",
       "0            2.70          16.0         51.0      8          NaN  ...   \n",
       "1             NaN          11.0         18.6      1          NaN  ...   \n",
       "2             NaN           5.0         34.3      4          NaN  ...   \n",
       "3             NaN          14.0          NaN      9          NaN  ...   \n",
       "4            3.03          14.0         32.0     13          NaN  ...   \n",
       "\n",
       "   kitchen_area  balcony    locality_name  airports_nearest  \\\n",
       "0          25.0      NaN  Санкт-Петербург           18863.0   \n",
       "1          11.0      2.0   посёлок Шушары           12817.0   \n",
       "2           8.3      0.0  Санкт-Петербург           21741.0   \n",
       "3           NaN      0.0  Санкт-Петербург           28098.0   \n",
       "4          41.0      NaN  Санкт-Петербург           31856.0   \n",
       "\n",
       "  cityCenters_nearest  parks_around3000  parks_nearest  ponds_around3000  \\\n",
       "0             16028.0               1.0          482.0               2.0   \n",
       "1             18603.0               0.0            NaN               0.0   \n",
       "2             13933.0               1.0           90.0               2.0   \n",
       "3              6800.0               2.0           84.0               3.0   \n",
       "4              8098.0               2.0          112.0               1.0   \n",
       "\n",
       "   ponds_nearest  days_exposition  \n",
       "0          755.0              NaN  \n",
       "1            NaN             81.0  \n",
       "2          574.0            558.0  \n",
       "3          234.0            424.0  \n",
       "4           48.0            121.0  \n",
       "\n",
       "[5 rows x 22 columns]"
      ]
     },
     "execution_count": 3,
     "metadata": {},
     "output_type": "execute_result"
    }
   ],
   "source": [
    "data = pd.read_csv('/datasets/real_estate_data.csv', sep='\\t' , decimal='.')\n",
    "data.head(5)"
   ]
  },
  {
   "cell_type": "markdown",
   "metadata": {
    "pycharm": {
     "name": "#%% md\n"
    }
   },
   "source": [
    "В данном датасете представлены следующие столбцы:\n",
    "* `airports_nearest` — расстояние до ближайшего аэропорта в метрах (м)\n",
    "* `balcony` — число балконов\n",
    "* `ceiling_height` — высота потолков (м)\n",
    "* `cityCenters_nearest` — расстояние до центра города (м)\n",
    "* `days_exposition` — сколько дней было размещено объявление (от публикации до снятия)\n",
    "* `first_day_exposition` — дата публикации\n",
    "* `floor` — этаж\n",
    "* `floors_total` — всего этажей в доме\n",
    "* `is_apartment` — апартаменты (булев тип)\n",
    "* `kitchen_area` — площадь кухни в квадратных метрах (м²)\n",
    "* `last_price` — цена на момент снятия с публикации\n",
    "* `living_area` — жилая площадь в квадратных метрах (м²)\n",
    "* `locality_name` — название населённого пункта\n",
    "* `open_plan` — свободная планировка (булев тип)\n",
    "* `parks_around3000` — число парков в радиусе 3 км\n",
    "* `parks_nearest` — расстояние до ближайшего парка (м)\n",
    "* `ponds_around3000` — число водоёмов в радиусе 3 км\n",
    "* `ponds_nearest` — расстояние до ближайшего водоёма (м)\n",
    "* `rooms` — число комнат\n",
    "* `studio` — квартира-студия (булев тип)\n",
    "* `total_area` — площадь квартиры в квадратных метрах (м²)\n",
    "* `total_images` — число фотографий квартиры в объявлении"
   ]
  },
  {
   "cell_type": "code",
   "execution_count": 4,
   "metadata": {
    "pycharm": {
     "name": "#%%\n"
    }
   },
   "outputs": [
    {
     "name": "stdout",
     "output_type": "stream",
     "text": [
      "<class 'pandas.core.frame.DataFrame'>\n",
      "RangeIndex: 23699 entries, 0 to 23698\n",
      "Data columns (total 22 columns):\n",
      " #   Column                Non-Null Count  Dtype  \n",
      "---  ------                --------------  -----  \n",
      " 0   total_images          23699 non-null  int64  \n",
      " 1   last_price            23699 non-null  float64\n",
      " 2   total_area            23699 non-null  float64\n",
      " 3   first_day_exposition  23699 non-null  object \n",
      " 4   rooms                 23699 non-null  int64  \n",
      " 5   ceiling_height        14504 non-null  float64\n",
      " 6   floors_total          23613 non-null  float64\n",
      " 7   living_area           21796 non-null  float64\n",
      " 8   floor                 23699 non-null  int64  \n",
      " 9   is_apartment          2775 non-null   object \n",
      " 10  studio                23699 non-null  bool   \n",
      " 11  open_plan             23699 non-null  bool   \n",
      " 12  kitchen_area          21421 non-null  float64\n",
      " 13  balcony               12180 non-null  float64\n",
      " 14  locality_name         23650 non-null  object \n",
      " 15  airports_nearest      18157 non-null  float64\n",
      " 16  cityCenters_nearest   18180 non-null  float64\n",
      " 17  parks_around3000      18181 non-null  float64\n",
      " 18  parks_nearest         8079 non-null   float64\n",
      " 19  ponds_around3000      18181 non-null  float64\n",
      " 20  ponds_nearest         9110 non-null   float64\n",
      " 21  days_exposition       20518 non-null  float64\n",
      "dtypes: bool(2), float64(14), int64(3), object(3)\n",
      "memory usage: 3.7+ MB\n"
     ]
    }
   ],
   "source": [
    "data.info()"
   ]
  },
  {
   "cell_type": "code",
   "execution_count": 5,
   "metadata": {
    "pycharm": {
     "name": "#%%\n"
    }
   },
   "outputs": [
    {
     "data": {
      "text/html": [
       "<div>\n",
       "<style scoped>\n",
       "    .dataframe tbody tr th:only-of-type {\n",
       "        vertical-align: middle;\n",
       "    }\n",
       "\n",
       "    .dataframe tbody tr th {\n",
       "        vertical-align: top;\n",
       "    }\n",
       "\n",
       "    .dataframe thead th {\n",
       "        text-align: right;\n",
       "    }\n",
       "</style>\n",
       "<table border=\"1\" class=\"dataframe\">\n",
       "  <thead>\n",
       "    <tr style=\"text-align: right;\">\n",
       "      <th></th>\n",
       "      <th>total_images</th>\n",
       "      <th>last_price</th>\n",
       "      <th>total_area</th>\n",
       "      <th>rooms</th>\n",
       "      <th>ceiling_height</th>\n",
       "      <th>floors_total</th>\n",
       "      <th>living_area</th>\n",
       "      <th>floor</th>\n",
       "      <th>kitchen_area</th>\n",
       "      <th>balcony</th>\n",
       "      <th>airports_nearest</th>\n",
       "      <th>cityCenters_nearest</th>\n",
       "      <th>parks_around3000</th>\n",
       "      <th>parks_nearest</th>\n",
       "      <th>ponds_around3000</th>\n",
       "      <th>ponds_nearest</th>\n",
       "      <th>days_exposition</th>\n",
       "    </tr>\n",
       "  </thead>\n",
       "  <tbody>\n",
       "    <tr>\n",
       "      <th>count</th>\n",
       "      <td>23699.000000</td>\n",
       "      <td>2.369900e+04</td>\n",
       "      <td>23699.000000</td>\n",
       "      <td>23699.000000</td>\n",
       "      <td>14504.000000</td>\n",
       "      <td>23613.000000</td>\n",
       "      <td>21796.000000</td>\n",
       "      <td>23699.000000</td>\n",
       "      <td>21421.000000</td>\n",
       "      <td>12180.000000</td>\n",
       "      <td>18157.000000</td>\n",
       "      <td>18180.000000</td>\n",
       "      <td>18181.000000</td>\n",
       "      <td>8079.000000</td>\n",
       "      <td>18181.000000</td>\n",
       "      <td>9110.000000</td>\n",
       "      <td>20518.000000</td>\n",
       "    </tr>\n",
       "    <tr>\n",
       "      <th>mean</th>\n",
       "      <td>9.858475</td>\n",
       "      <td>6.541549e+06</td>\n",
       "      <td>60.348651</td>\n",
       "      <td>2.070636</td>\n",
       "      <td>2.771499</td>\n",
       "      <td>10.673824</td>\n",
       "      <td>34.457852</td>\n",
       "      <td>5.892358</td>\n",
       "      <td>10.569807</td>\n",
       "      <td>1.150082</td>\n",
       "      <td>28793.672193</td>\n",
       "      <td>14191.277833</td>\n",
       "      <td>0.611408</td>\n",
       "      <td>490.804555</td>\n",
       "      <td>0.770255</td>\n",
       "      <td>517.980900</td>\n",
       "      <td>180.888634</td>\n",
       "    </tr>\n",
       "    <tr>\n",
       "      <th>std</th>\n",
       "      <td>5.682529</td>\n",
       "      <td>1.088701e+07</td>\n",
       "      <td>35.654083</td>\n",
       "      <td>1.078405</td>\n",
       "      <td>1.261056</td>\n",
       "      <td>6.597173</td>\n",
       "      <td>22.030445</td>\n",
       "      <td>4.885249</td>\n",
       "      <td>5.905438</td>\n",
       "      <td>1.071300</td>\n",
       "      <td>12630.880622</td>\n",
       "      <td>8608.386210</td>\n",
       "      <td>0.802074</td>\n",
       "      <td>342.317995</td>\n",
       "      <td>0.938346</td>\n",
       "      <td>277.720643</td>\n",
       "      <td>219.727988</td>\n",
       "    </tr>\n",
       "    <tr>\n",
       "      <th>min</th>\n",
       "      <td>0.000000</td>\n",
       "      <td>1.219000e+04</td>\n",
       "      <td>12.000000</td>\n",
       "      <td>0.000000</td>\n",
       "      <td>1.000000</td>\n",
       "      <td>1.000000</td>\n",
       "      <td>2.000000</td>\n",
       "      <td>1.000000</td>\n",
       "      <td>1.300000</td>\n",
       "      <td>0.000000</td>\n",
       "      <td>0.000000</td>\n",
       "      <td>181.000000</td>\n",
       "      <td>0.000000</td>\n",
       "      <td>1.000000</td>\n",
       "      <td>0.000000</td>\n",
       "      <td>13.000000</td>\n",
       "      <td>1.000000</td>\n",
       "    </tr>\n",
       "    <tr>\n",
       "      <th>25%</th>\n",
       "      <td>6.000000</td>\n",
       "      <td>3.400000e+06</td>\n",
       "      <td>40.000000</td>\n",
       "      <td>1.000000</td>\n",
       "      <td>2.520000</td>\n",
       "      <td>5.000000</td>\n",
       "      <td>18.600000</td>\n",
       "      <td>2.000000</td>\n",
       "      <td>7.000000</td>\n",
       "      <td>0.000000</td>\n",
       "      <td>18585.000000</td>\n",
       "      <td>9238.000000</td>\n",
       "      <td>0.000000</td>\n",
       "      <td>288.000000</td>\n",
       "      <td>0.000000</td>\n",
       "      <td>294.000000</td>\n",
       "      <td>45.000000</td>\n",
       "    </tr>\n",
       "    <tr>\n",
       "      <th>50%</th>\n",
       "      <td>9.000000</td>\n",
       "      <td>4.650000e+06</td>\n",
       "      <td>52.000000</td>\n",
       "      <td>2.000000</td>\n",
       "      <td>2.650000</td>\n",
       "      <td>9.000000</td>\n",
       "      <td>30.000000</td>\n",
       "      <td>4.000000</td>\n",
       "      <td>9.100000</td>\n",
       "      <td>1.000000</td>\n",
       "      <td>26726.000000</td>\n",
       "      <td>13098.500000</td>\n",
       "      <td>0.000000</td>\n",
       "      <td>455.000000</td>\n",
       "      <td>1.000000</td>\n",
       "      <td>502.000000</td>\n",
       "      <td>95.000000</td>\n",
       "    </tr>\n",
       "    <tr>\n",
       "      <th>75%</th>\n",
       "      <td>14.000000</td>\n",
       "      <td>6.800000e+06</td>\n",
       "      <td>69.900000</td>\n",
       "      <td>3.000000</td>\n",
       "      <td>2.800000</td>\n",
       "      <td>16.000000</td>\n",
       "      <td>42.300000</td>\n",
       "      <td>8.000000</td>\n",
       "      <td>12.000000</td>\n",
       "      <td>2.000000</td>\n",
       "      <td>37273.000000</td>\n",
       "      <td>16293.000000</td>\n",
       "      <td>1.000000</td>\n",
       "      <td>612.000000</td>\n",
       "      <td>1.000000</td>\n",
       "      <td>729.000000</td>\n",
       "      <td>232.000000</td>\n",
       "    </tr>\n",
       "    <tr>\n",
       "      <th>max</th>\n",
       "      <td>50.000000</td>\n",
       "      <td>7.630000e+08</td>\n",
       "      <td>900.000000</td>\n",
       "      <td>19.000000</td>\n",
       "      <td>100.000000</td>\n",
       "      <td>60.000000</td>\n",
       "      <td>409.700000</td>\n",
       "      <td>33.000000</td>\n",
       "      <td>112.000000</td>\n",
       "      <td>5.000000</td>\n",
       "      <td>84869.000000</td>\n",
       "      <td>65968.000000</td>\n",
       "      <td>3.000000</td>\n",
       "      <td>3190.000000</td>\n",
       "      <td>3.000000</td>\n",
       "      <td>1344.000000</td>\n",
       "      <td>1580.000000</td>\n",
       "    </tr>\n",
       "  </tbody>\n",
       "</table>\n",
       "</div>"
      ],
      "text/plain": [
       "       total_images    last_price    total_area         rooms  ceiling_height  \\\n",
       "count  23699.000000  2.369900e+04  23699.000000  23699.000000    14504.000000   \n",
       "mean       9.858475  6.541549e+06     60.348651      2.070636        2.771499   \n",
       "std        5.682529  1.088701e+07     35.654083      1.078405        1.261056   \n",
       "min        0.000000  1.219000e+04     12.000000      0.000000        1.000000   \n",
       "25%        6.000000  3.400000e+06     40.000000      1.000000        2.520000   \n",
       "50%        9.000000  4.650000e+06     52.000000      2.000000        2.650000   \n",
       "75%       14.000000  6.800000e+06     69.900000      3.000000        2.800000   \n",
       "max       50.000000  7.630000e+08    900.000000     19.000000      100.000000   \n",
       "\n",
       "       floors_total   living_area         floor  kitchen_area       balcony  \\\n",
       "count  23613.000000  21796.000000  23699.000000  21421.000000  12180.000000   \n",
       "mean      10.673824     34.457852      5.892358     10.569807      1.150082   \n",
       "std        6.597173     22.030445      4.885249      5.905438      1.071300   \n",
       "min        1.000000      2.000000      1.000000      1.300000      0.000000   \n",
       "25%        5.000000     18.600000      2.000000      7.000000      0.000000   \n",
       "50%        9.000000     30.000000      4.000000      9.100000      1.000000   \n",
       "75%       16.000000     42.300000      8.000000     12.000000      2.000000   \n",
       "max       60.000000    409.700000     33.000000    112.000000      5.000000   \n",
       "\n",
       "       airports_nearest  cityCenters_nearest  parks_around3000  parks_nearest  \\\n",
       "count      18157.000000         18180.000000      18181.000000    8079.000000   \n",
       "mean       28793.672193         14191.277833          0.611408     490.804555   \n",
       "std        12630.880622          8608.386210          0.802074     342.317995   \n",
       "min            0.000000           181.000000          0.000000       1.000000   \n",
       "25%        18585.000000          9238.000000          0.000000     288.000000   \n",
       "50%        26726.000000         13098.500000          0.000000     455.000000   \n",
       "75%        37273.000000         16293.000000          1.000000     612.000000   \n",
       "max        84869.000000         65968.000000          3.000000    3190.000000   \n",
       "\n",
       "       ponds_around3000  ponds_nearest  days_exposition  \n",
       "count      18181.000000    9110.000000     20518.000000  \n",
       "mean           0.770255     517.980900       180.888634  \n",
       "std            0.938346     277.720643       219.727988  \n",
       "min            0.000000      13.000000         1.000000  \n",
       "25%            0.000000     294.000000        45.000000  \n",
       "50%            1.000000     502.000000        95.000000  \n",
       "75%            1.000000     729.000000       232.000000  \n",
       "max            3.000000    1344.000000      1580.000000  "
      ]
     },
     "execution_count": 5,
     "metadata": {},
     "output_type": "execute_result"
    }
   ],
   "source": [
    "data.describe()"
   ]
  },
  {
   "cell_type": "markdown",
   "metadata": {
    "pycharm": {
     "name": "#%% md\n"
    }
   },
   "source": [
    "Всего в датасете 23699 строк. Во многих столбцах есть пропуски. Также тип данных в некоторых столбцах не соответствует указанному типу в описании датасета. \n",
    "\n",
    "В столбце `first_day_exposition` во всех строках время равно 00:00, поэтому его можно убрать. \n",
    "\n",
    "В столбцах `rooms`, `ceiling_height`, `floors_total` присутствуют аномальные значения."
   ]
  },
  {
   "cell_type": "markdown",
   "metadata": {
    "pycharm": {
     "name": "#%% md\n"
    }
   },
   "source": [
    "### Вывод"
   ]
  },
  {
   "cell_type": "markdown",
   "metadata": {
    "pycharm": {
     "name": "#%% md\n"
    }
   },
   "source": [
    "Таким образом, в нашем распоряжении довольно большой датасет. Прежде чем переходить к необходимым расчетам, необходимо провести предобработку данных: устранить аномальные значения, понять причину возникновения пропусков в некоторых столбцах, попытаться заполнить их, а также изменить тип данных определенных столбцов."
   ]
  },
  {
   "cell_type": "markdown",
   "metadata": {
    "pycharm": {
     "name": "#%% md\n"
    }
   },
   "source": [
    "## Предобработка данных"
   ]
  },
  {
   "cell_type": "markdown",
   "metadata": {
    "pycharm": {
     "name": "#%% md\n"
    }
   },
   "source": [
    "Рассмотрим строки с аномальными значениями."
   ]
  },
  {
   "cell_type": "code",
   "execution_count": 6,
   "metadata": {
    "scrolled": false,
    "pycharm": {
     "name": "#%%\n"
    }
   },
   "outputs": [
    {
     "data": {
      "text/plain": [
       "197"
      ]
     },
     "execution_count": 6,
     "metadata": {},
     "output_type": "execute_result"
    }
   ],
   "source": [
    "data[data['rooms'] == 0]['rooms'].count()"
   ]
  },
  {
   "cell_type": "markdown",
   "metadata": {
    "pycharm": {
     "name": "#%% md\n"
    }
   },
   "source": [
    "В датасете 197 строк с квартирами, в которых нет комнат. Это квартиры-студии, поэтому не будем подвергать изменениям данные строки."
   ]
  },
  {
   "cell_type": "code",
   "execution_count": 7,
   "metadata": {
    "scrolled": false,
    "pycharm": {
     "name": "#%%\n"
    }
   },
   "outputs": [
    {
     "data": {
      "text/plain": [
       "73"
      ]
     },
     "execution_count": 7,
     "metadata": {},
     "output_type": "execute_result"
    }
   ],
   "source": [
    "data[data['ceiling_height'] < 2.5]['ceiling_height'].count()"
   ]
  },
  {
   "cell_type": "markdown",
   "metadata": {
    "pycharm": {
     "name": "#%% md\n"
    }
   },
   "source": [
    "Согласно строительным нормам, высота жилых помещений от пола до потолка должна быть не менее 2,5 м. Заменим все значения, которые ниже данной цифры, на минимальную высоту."
   ]
  },
  {
   "cell_type": "code",
   "execution_count": 8,
   "metadata": {
    "pycharm": {
     "name": "#%%\n"
    }
   },
   "outputs": [
    {
     "data": {
      "text/plain": [
       "0"
      ]
     },
     "execution_count": 8,
     "metadata": {},
     "output_type": "execute_result"
    }
   ],
   "source": [
    "for string_number in data[data['ceiling_height'] < 2.5].index.to_list():\n",
    "    data.loc[string_number, 'ceiling_height'] = 2.5\n",
    "data[data['ceiling_height'] < 2.5]['ceiling_height'].count()"
   ]
  },
  {
   "cell_type": "markdown",
   "metadata": {
    "pycharm": {
     "name": "#%% md\n"
    }
   },
   "source": [
    "Также вопросы вызывают квартиры с высотой потолка выше 4 метров. "
   ]
  },
  {
   "cell_type": "code",
   "execution_count": 9,
   "metadata": {
    "pycharm": {
     "name": "#%%\n"
    }
   },
   "outputs": [
    {
     "data": {
      "text/plain": [
       "75"
      ]
     },
     "execution_count": 9,
     "metadata": {},
     "output_type": "execute_result"
    }
   ],
   "source": [
    "data[data['ceiling_height'] > 4]['ceiling_height'].count()"
   ]
  },
  {
   "cell_type": "markdown",
   "metadata": {
    "pycharm": {
     "name": "#%% md\n"
    }
   },
   "source": [
    "Учитывая, что в нашем датасете присутствуют только жилые помещения, заменим высоту квартиры выше 4 на предполагаемое максимальное значение, равное 4. "
   ]
  },
  {
   "cell_type": "code",
   "execution_count": 10,
   "metadata": {
    "pycharm": {
     "name": "#%%\n"
    }
   },
   "outputs": [
    {
     "data": {
      "text/plain": [
       "0"
      ]
     },
     "execution_count": 10,
     "metadata": {},
     "output_type": "execute_result"
    }
   ],
   "source": [
    "for string_number in data[data['ceiling_height'] > 4].index.to_list():\n",
    "    data.loc[string_number, 'ceiling_height'] = 4\n",
    "data[data['ceiling_height'] > 4]['ceiling_height'].count()"
   ]
  },
  {
   "cell_type": "markdown",
   "metadata": {
    "pycharm": {
     "name": "#%% md\n"
    }
   },
   "source": [
    "Низкие значения площади кухни в столбце `kitchen_area` могут объясняться особенностями квартиры (квартира-студия, кухня-гостиная и т.п.), поэтому эти данные можно оставить."
   ]
  },
  {
   "cell_type": "code",
   "execution_count": 11,
   "metadata": {
    "pycharm": {
     "name": "#%%\n"
    }
   },
   "outputs": [
    {
     "data": {
      "text/html": [
       "<div>\n",
       "<style scoped>\n",
       "    .dataframe tbody tr th:only-of-type {\n",
       "        vertical-align: middle;\n",
       "    }\n",
       "\n",
       "    .dataframe tbody tr th {\n",
       "        vertical-align: top;\n",
       "    }\n",
       "\n",
       "    .dataframe thead th {\n",
       "        text-align: right;\n",
       "    }\n",
       "</style>\n",
       "<table border=\"1\" class=\"dataframe\">\n",
       "  <thead>\n",
       "    <tr style=\"text-align: right;\">\n",
       "      <th></th>\n",
       "      <th>total_images</th>\n",
       "      <th>last_price</th>\n",
       "      <th>total_area</th>\n",
       "      <th>first_day_exposition</th>\n",
       "      <th>rooms</th>\n",
       "      <th>ceiling_height</th>\n",
       "      <th>floors_total</th>\n",
       "      <th>living_area</th>\n",
       "      <th>floor</th>\n",
       "      <th>is_apartment</th>\n",
       "      <th>...</th>\n",
       "      <th>kitchen_area</th>\n",
       "      <th>balcony</th>\n",
       "      <th>locality_name</th>\n",
       "      <th>airports_nearest</th>\n",
       "      <th>cityCenters_nearest</th>\n",
       "      <th>parks_around3000</th>\n",
       "      <th>parks_nearest</th>\n",
       "      <th>ponds_around3000</th>\n",
       "      <th>ponds_nearest</th>\n",
       "      <th>days_exposition</th>\n",
       "    </tr>\n",
       "  </thead>\n",
       "  <tbody>\n",
       "    <tr>\n",
       "      <th>906</th>\n",
       "      <td>15</td>\n",
       "      <td>2600000.0</td>\n",
       "      <td>27.0</td>\n",
       "      <td>2017-07-10T00:00:00</td>\n",
       "      <td>1</td>\n",
       "      <td>2.75</td>\n",
       "      <td>23.0</td>\n",
       "      <td>18.0</td>\n",
       "      <td>18</td>\n",
       "      <td>NaN</td>\n",
       "      <td>...</td>\n",
       "      <td>2.0</td>\n",
       "      <td>0.0</td>\n",
       "      <td>Санкт-Петербург</td>\n",
       "      <td>22131.0</td>\n",
       "      <td>17459.0</td>\n",
       "      <td>0.0</td>\n",
       "      <td>NaN</td>\n",
       "      <td>1.0</td>\n",
       "      <td>411.0</td>\n",
       "      <td>10.0</td>\n",
       "    </tr>\n",
       "    <tr>\n",
       "      <th>2165</th>\n",
       "      <td>15</td>\n",
       "      <td>3180000.0</td>\n",
       "      <td>25.0</td>\n",
       "      <td>2019-03-21T00:00:00</td>\n",
       "      <td>1</td>\n",
       "      <td>2.50</td>\n",
       "      <td>25.0</td>\n",
       "      <td>17.0</td>\n",
       "      <td>17</td>\n",
       "      <td>NaN</td>\n",
       "      <td>...</td>\n",
       "      <td>3.0</td>\n",
       "      <td>NaN</td>\n",
       "      <td>посёлок Мурино</td>\n",
       "      <td>NaN</td>\n",
       "      <td>NaN</td>\n",
       "      <td>NaN</td>\n",
       "      <td>NaN</td>\n",
       "      <td>NaN</td>\n",
       "      <td>NaN</td>\n",
       "      <td>19.0</td>\n",
       "    </tr>\n",
       "    <tr>\n",
       "      <th>3078</th>\n",
       "      <td>17</td>\n",
       "      <td>6000000.0</td>\n",
       "      <td>43.0</td>\n",
       "      <td>2018-11-12T00:00:00</td>\n",
       "      <td>2</td>\n",
       "      <td>2.90</td>\n",
       "      <td>4.0</td>\n",
       "      <td>29.3</td>\n",
       "      <td>2</td>\n",
       "      <td>NaN</td>\n",
       "      <td>...</td>\n",
       "      <td>3.2</td>\n",
       "      <td>NaN</td>\n",
       "      <td>Санкт-Петербург</td>\n",
       "      <td>22357.0</td>\n",
       "      <td>5247.0</td>\n",
       "      <td>1.0</td>\n",
       "      <td>319.0</td>\n",
       "      <td>2.0</td>\n",
       "      <td>831.0</td>\n",
       "      <td>37.0</td>\n",
       "    </tr>\n",
       "    <tr>\n",
       "      <th>3195</th>\n",
       "      <td>17</td>\n",
       "      <td>2690000.0</td>\n",
       "      <td>25.6</td>\n",
       "      <td>2018-02-19T00:00:00</td>\n",
       "      <td>1</td>\n",
       "      <td>2.50</td>\n",
       "      <td>9.0</td>\n",
       "      <td>16.2</td>\n",
       "      <td>7</td>\n",
       "      <td>NaN</td>\n",
       "      <td>...</td>\n",
       "      <td>3.8</td>\n",
       "      <td>NaN</td>\n",
       "      <td>Санкт-Петербург</td>\n",
       "      <td>11033.0</td>\n",
       "      <td>11281.0</td>\n",
       "      <td>0.0</td>\n",
       "      <td>NaN</td>\n",
       "      <td>1.0</td>\n",
       "      <td>283.0</td>\n",
       "      <td>99.0</td>\n",
       "    </tr>\n",
       "    <tr>\n",
       "      <th>6084</th>\n",
       "      <td>6</td>\n",
       "      <td>770000.0</td>\n",
       "      <td>18.0</td>\n",
       "      <td>2017-10-16T00:00:00</td>\n",
       "      <td>1</td>\n",
       "      <td>NaN</td>\n",
       "      <td>5.0</td>\n",
       "      <td>13.0</td>\n",
       "      <td>4</td>\n",
       "      <td>NaN</td>\n",
       "      <td>...</td>\n",
       "      <td>3.0</td>\n",
       "      <td>NaN</td>\n",
       "      <td>Тихвин</td>\n",
       "      <td>NaN</td>\n",
       "      <td>NaN</td>\n",
       "      <td>NaN</td>\n",
       "      <td>NaN</td>\n",
       "      <td>NaN</td>\n",
       "      <td>NaN</td>\n",
       "      <td>90.0</td>\n",
       "    </tr>\n",
       "  </tbody>\n",
       "</table>\n",
       "<p>5 rows × 22 columns</p>\n",
       "</div>"
      ],
      "text/plain": [
       "      total_images  last_price  total_area first_day_exposition  rooms  \\\n",
       "906             15   2600000.0        27.0  2017-07-10T00:00:00      1   \n",
       "2165            15   3180000.0        25.0  2019-03-21T00:00:00      1   \n",
       "3078            17   6000000.0        43.0  2018-11-12T00:00:00      2   \n",
       "3195            17   2690000.0        25.6  2018-02-19T00:00:00      1   \n",
       "6084             6    770000.0        18.0  2017-10-16T00:00:00      1   \n",
       "\n",
       "      ceiling_height  floors_total  living_area  floor is_apartment  ...  \\\n",
       "906             2.75          23.0         18.0     18          NaN  ...   \n",
       "2165            2.50          25.0         17.0     17          NaN  ...   \n",
       "3078            2.90           4.0         29.3      2          NaN  ...   \n",
       "3195            2.50           9.0         16.2      7          NaN  ...   \n",
       "6084             NaN           5.0         13.0      4          NaN  ...   \n",
       "\n",
       "      kitchen_area  balcony    locality_name  airports_nearest  \\\n",
       "906            2.0      0.0  Санкт-Петербург           22131.0   \n",
       "2165           3.0      NaN   посёлок Мурино               NaN   \n",
       "3078           3.2      NaN  Санкт-Петербург           22357.0   \n",
       "3195           3.8      NaN  Санкт-Петербург           11033.0   \n",
       "6084           3.0      NaN           Тихвин               NaN   \n",
       "\n",
       "     cityCenters_nearest  parks_around3000  parks_nearest  ponds_around3000  \\\n",
       "906              17459.0               0.0            NaN               1.0   \n",
       "2165                 NaN               NaN            NaN               NaN   \n",
       "3078              5247.0               1.0          319.0               2.0   \n",
       "3195             11281.0               0.0            NaN               1.0   \n",
       "6084                 NaN               NaN            NaN               NaN   \n",
       "\n",
       "      ponds_nearest  days_exposition  \n",
       "906           411.0             10.0  \n",
       "2165            NaN             19.0  \n",
       "3078          831.0             37.0  \n",
       "3195          283.0             99.0  \n",
       "6084            NaN             90.0  \n",
       "\n",
       "[5 rows x 22 columns]"
      ]
     },
     "execution_count": 11,
     "metadata": {},
     "output_type": "execute_result"
    }
   ],
   "source": [
    "data[data['kitchen_area'] < 4].head()"
   ]
  },
  {
   "cell_type": "markdown",
   "metadata": {
    "pycharm": {
     "name": "#%% md\n"
    }
   },
   "source": [
    "Исправив аномальные значения, можно перейти к заполнению пропусков."
   ]
  },
  {
   "cell_type": "code",
   "execution_count": 12,
   "metadata": {
    "pycharm": {
     "name": "#%%\n"
    }
   },
   "outputs": [
    {
     "data": {
      "text/plain": [
       "total_images                0\n",
       "last_price                  0\n",
       "total_area                  0\n",
       "first_day_exposition        0\n",
       "rooms                       0\n",
       "ceiling_height           9195\n",
       "floors_total               86\n",
       "living_area              1903\n",
       "floor                       0\n",
       "is_apartment            20924\n",
       "studio                      0\n",
       "open_plan                   0\n",
       "kitchen_area             2278\n",
       "balcony                 11519\n",
       "locality_name              49\n",
       "airports_nearest         5542\n",
       "cityCenters_nearest      5519\n",
       "parks_around3000         5518\n",
       "parks_nearest           15620\n",
       "ponds_around3000         5518\n",
       "ponds_nearest           14589\n",
       "days_exposition          3181\n",
       "dtype: int64"
      ]
     },
     "execution_count": 12,
     "metadata": {},
     "output_type": "execute_result"
    }
   ],
   "source": [
    "data.isna().sum()"
   ]
  },
  {
   "cell_type": "markdown",
   "metadata": {
    "pycharm": {
     "name": "#%% md\n"
    }
   },
   "source": [
    "Рассмотрим строки с пропусками в столбце `ceiling_height`."
   ]
  },
  {
   "cell_type": "code",
   "execution_count": 13,
   "metadata": {
    "scrolled": true,
    "pycharm": {
     "name": "#%%\n"
    }
   },
   "outputs": [
    {
     "data": {
      "text/html": [
       "<div>\n",
       "<style scoped>\n",
       "    .dataframe tbody tr th:only-of-type {\n",
       "        vertical-align: middle;\n",
       "    }\n",
       "\n",
       "    .dataframe tbody tr th {\n",
       "        vertical-align: top;\n",
       "    }\n",
       "\n",
       "    .dataframe thead th {\n",
       "        text-align: right;\n",
       "    }\n",
       "</style>\n",
       "<table border=\"1\" class=\"dataframe\">\n",
       "  <thead>\n",
       "    <tr style=\"text-align: right;\">\n",
       "      <th></th>\n",
       "      <th>total_images</th>\n",
       "      <th>last_price</th>\n",
       "      <th>total_area</th>\n",
       "      <th>first_day_exposition</th>\n",
       "      <th>rooms</th>\n",
       "      <th>ceiling_height</th>\n",
       "      <th>floors_total</th>\n",
       "      <th>living_area</th>\n",
       "      <th>floor</th>\n",
       "      <th>is_apartment</th>\n",
       "      <th>...</th>\n",
       "      <th>kitchen_area</th>\n",
       "      <th>balcony</th>\n",
       "      <th>locality_name</th>\n",
       "      <th>airports_nearest</th>\n",
       "      <th>cityCenters_nearest</th>\n",
       "      <th>parks_around3000</th>\n",
       "      <th>parks_nearest</th>\n",
       "      <th>ponds_around3000</th>\n",
       "      <th>ponds_nearest</th>\n",
       "      <th>days_exposition</th>\n",
       "    </tr>\n",
       "  </thead>\n",
       "  <tbody>\n",
       "    <tr>\n",
       "      <th>1</th>\n",
       "      <td>7</td>\n",
       "      <td>3350000.0</td>\n",
       "      <td>40.4</td>\n",
       "      <td>2018-12-04T00:00:00</td>\n",
       "      <td>1</td>\n",
       "      <td>NaN</td>\n",
       "      <td>11.0</td>\n",
       "      <td>18.6</td>\n",
       "      <td>1</td>\n",
       "      <td>NaN</td>\n",
       "      <td>...</td>\n",
       "      <td>11.0</td>\n",
       "      <td>2.0</td>\n",
       "      <td>посёлок Шушары</td>\n",
       "      <td>12817.0</td>\n",
       "      <td>18603.0</td>\n",
       "      <td>0.0</td>\n",
       "      <td>NaN</td>\n",
       "      <td>0.0</td>\n",
       "      <td>NaN</td>\n",
       "      <td>81.0</td>\n",
       "    </tr>\n",
       "    <tr>\n",
       "      <th>2</th>\n",
       "      <td>10</td>\n",
       "      <td>5196000.0</td>\n",
       "      <td>56.0</td>\n",
       "      <td>2015-08-20T00:00:00</td>\n",
       "      <td>2</td>\n",
       "      <td>NaN</td>\n",
       "      <td>5.0</td>\n",
       "      <td>34.3</td>\n",
       "      <td>4</td>\n",
       "      <td>NaN</td>\n",
       "      <td>...</td>\n",
       "      <td>8.3</td>\n",
       "      <td>0.0</td>\n",
       "      <td>Санкт-Петербург</td>\n",
       "      <td>21741.0</td>\n",
       "      <td>13933.0</td>\n",
       "      <td>1.0</td>\n",
       "      <td>90.0</td>\n",
       "      <td>2.0</td>\n",
       "      <td>574.0</td>\n",
       "      <td>558.0</td>\n",
       "    </tr>\n",
       "    <tr>\n",
       "      <th>3</th>\n",
       "      <td>0</td>\n",
       "      <td>64900000.0</td>\n",
       "      <td>159.0</td>\n",
       "      <td>2015-07-24T00:00:00</td>\n",
       "      <td>3</td>\n",
       "      <td>NaN</td>\n",
       "      <td>14.0</td>\n",
       "      <td>NaN</td>\n",
       "      <td>9</td>\n",
       "      <td>NaN</td>\n",
       "      <td>...</td>\n",
       "      <td>NaN</td>\n",
       "      <td>0.0</td>\n",
       "      <td>Санкт-Петербург</td>\n",
       "      <td>28098.0</td>\n",
       "      <td>6800.0</td>\n",
       "      <td>2.0</td>\n",
       "      <td>84.0</td>\n",
       "      <td>3.0</td>\n",
       "      <td>234.0</td>\n",
       "      <td>424.0</td>\n",
       "    </tr>\n",
       "    <tr>\n",
       "      <th>5</th>\n",
       "      <td>10</td>\n",
       "      <td>2890000.0</td>\n",
       "      <td>30.4</td>\n",
       "      <td>2018-09-10T00:00:00</td>\n",
       "      <td>1</td>\n",
       "      <td>NaN</td>\n",
       "      <td>12.0</td>\n",
       "      <td>14.4</td>\n",
       "      <td>5</td>\n",
       "      <td>NaN</td>\n",
       "      <td>...</td>\n",
       "      <td>9.1</td>\n",
       "      <td>NaN</td>\n",
       "      <td>городской посёлок Янино-1</td>\n",
       "      <td>NaN</td>\n",
       "      <td>NaN</td>\n",
       "      <td>NaN</td>\n",
       "      <td>NaN</td>\n",
       "      <td>NaN</td>\n",
       "      <td>NaN</td>\n",
       "      <td>55.0</td>\n",
       "    </tr>\n",
       "    <tr>\n",
       "      <th>6</th>\n",
       "      <td>6</td>\n",
       "      <td>3700000.0</td>\n",
       "      <td>37.3</td>\n",
       "      <td>2017-11-02T00:00:00</td>\n",
       "      <td>1</td>\n",
       "      <td>NaN</td>\n",
       "      <td>26.0</td>\n",
       "      <td>10.6</td>\n",
       "      <td>6</td>\n",
       "      <td>NaN</td>\n",
       "      <td>...</td>\n",
       "      <td>14.4</td>\n",
       "      <td>1.0</td>\n",
       "      <td>посёлок Парголово</td>\n",
       "      <td>52996.0</td>\n",
       "      <td>19143.0</td>\n",
       "      <td>0.0</td>\n",
       "      <td>NaN</td>\n",
       "      <td>0.0</td>\n",
       "      <td>NaN</td>\n",
       "      <td>155.0</td>\n",
       "    </tr>\n",
       "  </tbody>\n",
       "</table>\n",
       "<p>5 rows × 22 columns</p>\n",
       "</div>"
      ],
      "text/plain": [
       "   total_images  last_price  total_area first_day_exposition  rooms  \\\n",
       "1             7   3350000.0        40.4  2018-12-04T00:00:00      1   \n",
       "2            10   5196000.0        56.0  2015-08-20T00:00:00      2   \n",
       "3             0  64900000.0       159.0  2015-07-24T00:00:00      3   \n",
       "5            10   2890000.0        30.4  2018-09-10T00:00:00      1   \n",
       "6             6   3700000.0        37.3  2017-11-02T00:00:00      1   \n",
       "\n",
       "   ceiling_height  floors_total  living_area  floor is_apartment  ...  \\\n",
       "1             NaN          11.0         18.6      1          NaN  ...   \n",
       "2             NaN           5.0         34.3      4          NaN  ...   \n",
       "3             NaN          14.0          NaN      9          NaN  ...   \n",
       "5             NaN          12.0         14.4      5          NaN  ...   \n",
       "6             NaN          26.0         10.6      6          NaN  ...   \n",
       "\n",
       "   kitchen_area  balcony              locality_name  airports_nearest  \\\n",
       "1          11.0      2.0             посёлок Шушары           12817.0   \n",
       "2           8.3      0.0            Санкт-Петербург           21741.0   \n",
       "3           NaN      0.0            Санкт-Петербург           28098.0   \n",
       "5           9.1      NaN  городской посёлок Янино-1               NaN   \n",
       "6          14.4      1.0          посёлок Парголово           52996.0   \n",
       "\n",
       "  cityCenters_nearest  parks_around3000  parks_nearest  ponds_around3000  \\\n",
       "1             18603.0               0.0            NaN               0.0   \n",
       "2             13933.0               1.0           90.0               2.0   \n",
       "3              6800.0               2.0           84.0               3.0   \n",
       "5                 NaN               NaN            NaN               NaN   \n",
       "6             19143.0               0.0            NaN               0.0   \n",
       "\n",
       "   ponds_nearest  days_exposition  \n",
       "1            NaN             81.0  \n",
       "2          574.0            558.0  \n",
       "3          234.0            424.0  \n",
       "5            NaN             55.0  \n",
       "6            NaN            155.0  \n",
       "\n",
       "[5 rows x 22 columns]"
      ]
     },
     "execution_count": 13,
     "metadata": {},
     "output_type": "execute_result"
    }
   ],
   "source": [
    "data[data['ceiling_height'].isnull()].head()"
   ]
  },
  {
   "cell_type": "code",
   "execution_count": 14,
   "metadata": {
    "scrolled": true,
    "pycharm": {
     "name": "#%%\n"
    }
   },
   "outputs": [
    {
     "data": {
      "text/plain": [
       "total_images           0.043097\n",
       "last_price             0.380604\n",
       "total_area             0.470062\n",
       "rooms                  0.293089\n",
       "ceiling_height         1.000000\n",
       "floors_total          -0.094160\n",
       "living_area            0.447189\n",
       "floor                 -0.048096\n",
       "studio                 0.013074\n",
       "open_plan              0.022025\n",
       "kitchen_area           0.411683\n",
       "balcony               -0.067691\n",
       "airports_nearest      -0.106826\n",
       "cityCenters_nearest   -0.368802\n",
       "parks_around3000       0.272699\n",
       "parks_nearest         -0.058514\n",
       "ponds_around3000       0.240331\n",
       "ponds_nearest         -0.148514\n",
       "days_exposition        0.129016\n",
       "Name: ceiling_height, dtype: float64"
      ]
     },
     "execution_count": 14,
     "metadata": {},
     "output_type": "execute_result"
    }
   ],
   "source": [
    "data.corr()['ceiling_height']"
   ]
  },
  {
   "cell_type": "markdown",
   "metadata": {
    "pycharm": {
     "name": "#%% md\n"
    }
   },
   "source": [
    "Видно, что высота потолка слабо зависит от площади квартиры, жилой площади и площади кухни. Последние два показателя напрямую зависят от первого, поэтому при заполнении пропущенных значений будем ссылаться на площадь квартиры."
   ]
  },
  {
   "cell_type": "code",
   "execution_count": 15,
   "metadata": {
    "pycharm": {
     "name": "#%%\n"
    }
   },
   "outputs": [
    {
     "data": {
      "text/html": [
       "<div>\n",
       "<style scoped>\n",
       "    .dataframe tbody tr th:only-of-type {\n",
       "        vertical-align: middle;\n",
       "    }\n",
       "\n",
       "    .dataframe tbody tr th {\n",
       "        vertical-align: top;\n",
       "    }\n",
       "\n",
       "    .dataframe thead th {\n",
       "        text-align: right;\n",
       "    }\n",
       "</style>\n",
       "<table border=\"1\" class=\"dataframe\">\n",
       "  <thead>\n",
       "    <tr style=\"text-align: right;\">\n",
       "      <th></th>\n",
       "      <th>total_area</th>\n",
       "      <th>living_area</th>\n",
       "      <th>ceiling_height</th>\n",
       "      <th>total_area_rounded</th>\n",
       "    </tr>\n",
       "  </thead>\n",
       "  <tbody>\n",
       "    <tr>\n",
       "      <th>0</th>\n",
       "      <td>108.0</td>\n",
       "      <td>51.0</td>\n",
       "      <td>2.70</td>\n",
       "      <td>110</td>\n",
       "    </tr>\n",
       "    <tr>\n",
       "      <th>4</th>\n",
       "      <td>100.0</td>\n",
       "      <td>32.0</td>\n",
       "      <td>3.03</td>\n",
       "      <td>100</td>\n",
       "    </tr>\n",
       "    <tr>\n",
       "      <th>9</th>\n",
       "      <td>61.0</td>\n",
       "      <td>43.6</td>\n",
       "      <td>2.50</td>\n",
       "      <td>60</td>\n",
       "    </tr>\n",
       "    <tr>\n",
       "      <th>10</th>\n",
       "      <td>39.6</td>\n",
       "      <td>20.3</td>\n",
       "      <td>2.67</td>\n",
       "      <td>40</td>\n",
       "    </tr>\n",
       "    <tr>\n",
       "      <th>13</th>\n",
       "      <td>42.8</td>\n",
       "      <td>27.0</td>\n",
       "      <td>2.56</td>\n",
       "      <td>40</td>\n",
       "    </tr>\n",
       "  </tbody>\n",
       "</table>\n",
       "</div>"
      ],
      "text/plain": [
       "    total_area  living_area  ceiling_height  total_area_rounded\n",
       "0        108.0         51.0            2.70                 110\n",
       "4        100.0         32.0            3.03                 100\n",
       "9         61.0         43.6            2.50                  60\n",
       "10        39.6         20.3            2.67                  40\n",
       "13        42.8         27.0            2.56                  40"
      ]
     },
     "execution_count": 15,
     "metadata": {},
     "output_type": "execute_result"
    }
   ],
   "source": [
    "#Делаем копию данных\n",
    "data_int = data.loc[:,('total_area', 'living_area', 'ceiling_height')].dropna()\n",
    "data_int['total_area_rounded'] = data_int['total_area'].astype('int')\n",
    "\n",
    "# Округляем общую площадь до десятых\n",
    "data_int['total_area_rounded'] = round(data_int['total_area_rounded'],-1)\n",
    "\n",
    "data_int.head()"
   ]
  },
  {
   "cell_type": "code",
   "execution_count": 16,
   "metadata": {
    "scrolled": true,
    "pycharm": {
     "name": "#%%\n"
    }
   },
   "outputs": [
    {
     "data": {
      "text/html": [
       "<div>\n",
       "<style scoped>\n",
       "    .dataframe tbody tr th:only-of-type {\n",
       "        vertical-align: middle;\n",
       "    }\n",
       "\n",
       "    .dataframe tbody tr th {\n",
       "        vertical-align: top;\n",
       "    }\n",
       "\n",
       "    .dataframe thead th {\n",
       "        text-align: right;\n",
       "    }\n",
       "</style>\n",
       "<table border=\"1\" class=\"dataframe\">\n",
       "  <thead>\n",
       "    <tr style=\"text-align: right;\">\n",
       "      <th></th>\n",
       "      <th>total_images</th>\n",
       "      <th>last_price</th>\n",
       "      <th>total_area</th>\n",
       "      <th>first_day_exposition</th>\n",
       "      <th>rooms</th>\n",
       "      <th>ceiling_height</th>\n",
       "      <th>floors_total</th>\n",
       "      <th>living_area</th>\n",
       "      <th>floor</th>\n",
       "      <th>is_apartment</th>\n",
       "      <th>...</th>\n",
       "      <th>kitchen_area</th>\n",
       "      <th>balcony</th>\n",
       "      <th>locality_name</th>\n",
       "      <th>airports_nearest</th>\n",
       "      <th>cityCenters_nearest</th>\n",
       "      <th>parks_around3000</th>\n",
       "      <th>parks_nearest</th>\n",
       "      <th>ponds_around3000</th>\n",
       "      <th>ponds_nearest</th>\n",
       "      <th>days_exposition</th>\n",
       "    </tr>\n",
       "  </thead>\n",
       "  <tbody>\n",
       "    <tr>\n",
       "      <th>3676</th>\n",
       "      <td>12</td>\n",
       "      <td>28789000.0</td>\n",
       "      <td>441.98</td>\n",
       "      <td>2019-01-23T00:00:00</td>\n",
       "      <td>4</td>\n",
       "      <td>NaN</td>\n",
       "      <td>6.0</td>\n",
       "      <td>NaN</td>\n",
       "      <td>6</td>\n",
       "      <td>NaN</td>\n",
       "      <td>...</td>\n",
       "      <td>35.05</td>\n",
       "      <td>NaN</td>\n",
       "      <td>Санкт-Петербург</td>\n",
       "      <td>20552.0</td>\n",
       "      <td>5181.0</td>\n",
       "      <td>0.0</td>\n",
       "      <td>NaN</td>\n",
       "      <td>0.0</td>\n",
       "      <td>NaN</td>\n",
       "      <td>NaN</td>\n",
       "    </tr>\n",
       "    <tr>\n",
       "      <th>4237</th>\n",
       "      <td>1</td>\n",
       "      <td>50000000.0</td>\n",
       "      <td>517.00</td>\n",
       "      <td>2017-10-14T00:00:00</td>\n",
       "      <td>7</td>\n",
       "      <td>NaN</td>\n",
       "      <td>4.0</td>\n",
       "      <td>332.0</td>\n",
       "      <td>3</td>\n",
       "      <td>NaN</td>\n",
       "      <td>...</td>\n",
       "      <td>22.00</td>\n",
       "      <td>NaN</td>\n",
       "      <td>Санкт-Петербург</td>\n",
       "      <td>22835.0</td>\n",
       "      <td>1847.0</td>\n",
       "      <td>2.0</td>\n",
       "      <td>477.0</td>\n",
       "      <td>2.0</td>\n",
       "      <td>540.0</td>\n",
       "      <td>NaN</td>\n",
       "    </tr>\n",
       "    <tr>\n",
       "      <th>6221</th>\n",
       "      <td>8</td>\n",
       "      <td>34000000.0</td>\n",
       "      <td>470.30</td>\n",
       "      <td>2018-01-14T00:00:00</td>\n",
       "      <td>4</td>\n",
       "      <td>NaN</td>\n",
       "      <td>3.0</td>\n",
       "      <td>248.7</td>\n",
       "      <td>3</td>\n",
       "      <td>NaN</td>\n",
       "      <td>...</td>\n",
       "      <td>40.00</td>\n",
       "      <td>NaN</td>\n",
       "      <td>Санкт-Петербург</td>\n",
       "      <td>43756.0</td>\n",
       "      <td>15459.0</td>\n",
       "      <td>1.0</td>\n",
       "      <td>852.0</td>\n",
       "      <td>3.0</td>\n",
       "      <td>122.0</td>\n",
       "      <td>179.0</td>\n",
       "    </tr>\n",
       "    <tr>\n",
       "      <th>14498</th>\n",
       "      <td>6</td>\n",
       "      <td>32250000.0</td>\n",
       "      <td>374.60</td>\n",
       "      <td>2018-06-09T00:00:00</td>\n",
       "      <td>19</td>\n",
       "      <td>NaN</td>\n",
       "      <td>5.0</td>\n",
       "      <td>264.5</td>\n",
       "      <td>2</td>\n",
       "      <td>NaN</td>\n",
       "      <td>...</td>\n",
       "      <td>27.60</td>\n",
       "      <td>NaN</td>\n",
       "      <td>Санкт-Петербург</td>\n",
       "      <td>19497.0</td>\n",
       "      <td>3574.0</td>\n",
       "      <td>0.0</td>\n",
       "      <td>NaN</td>\n",
       "      <td>2.0</td>\n",
       "      <td>548.0</td>\n",
       "      <td>114.0</td>\n",
       "    </tr>\n",
       "    <tr>\n",
       "      <th>14591</th>\n",
       "      <td>20</td>\n",
       "      <td>29000000.0</td>\n",
       "      <td>327.20</td>\n",
       "      <td>2017-11-15T00:00:00</td>\n",
       "      <td>6</td>\n",
       "      <td>NaN</td>\n",
       "      <td>4.0</td>\n",
       "      <td>177.3</td>\n",
       "      <td>4</td>\n",
       "      <td>NaN</td>\n",
       "      <td>...</td>\n",
       "      <td>27.10</td>\n",
       "      <td>NaN</td>\n",
       "      <td>Санкт-Петербург</td>\n",
       "      <td>53531.0</td>\n",
       "      <td>18024.0</td>\n",
       "      <td>0.0</td>\n",
       "      <td>NaN</td>\n",
       "      <td>2.0</td>\n",
       "      <td>194.0</td>\n",
       "      <td>274.0</td>\n",
       "    </tr>\n",
       "    <tr>\n",
       "      <th>20314</th>\n",
       "      <td>8</td>\n",
       "      <td>42000000.0</td>\n",
       "      <td>374.00</td>\n",
       "      <td>2017-04-09T00:00:00</td>\n",
       "      <td>7</td>\n",
       "      <td>NaN</td>\n",
       "      <td>4.0</td>\n",
       "      <td>239.4</td>\n",
       "      <td>3</td>\n",
       "      <td>NaN</td>\n",
       "      <td>...</td>\n",
       "      <td>51.00</td>\n",
       "      <td>0.0</td>\n",
       "      <td>Пушкин</td>\n",
       "      <td>15595.0</td>\n",
       "      <td>27749.0</td>\n",
       "      <td>3.0</td>\n",
       "      <td>62.0</td>\n",
       "      <td>3.0</td>\n",
       "      <td>274.0</td>\n",
       "      <td>9.0</td>\n",
       "    </tr>\n",
       "    <tr>\n",
       "      <th>21990</th>\n",
       "      <td>20</td>\n",
       "      <td>68000000.0</td>\n",
       "      <td>373.10</td>\n",
       "      <td>2018-09-08T00:00:00</td>\n",
       "      <td>8</td>\n",
       "      <td>NaN</td>\n",
       "      <td>8.0</td>\n",
       "      <td>176.2</td>\n",
       "      <td>8</td>\n",
       "      <td>NaN</td>\n",
       "      <td>...</td>\n",
       "      <td>29.40</td>\n",
       "      <td>NaN</td>\n",
       "      <td>Санкт-Петербург</td>\n",
       "      <td>37965.0</td>\n",
       "      <td>7873.0</td>\n",
       "      <td>1.0</td>\n",
       "      <td>562.0</td>\n",
       "      <td>3.0</td>\n",
       "      <td>691.0</td>\n",
       "      <td>234.0</td>\n",
       "    </tr>\n",
       "  </tbody>\n",
       "</table>\n",
       "<p>7 rows × 22 columns</p>\n",
       "</div>"
      ],
      "text/plain": [
       "       total_images  last_price  total_area first_day_exposition  rooms  \\\n",
       "3676             12  28789000.0      441.98  2019-01-23T00:00:00      4   \n",
       "4237              1  50000000.0      517.00  2017-10-14T00:00:00      7   \n",
       "6221              8  34000000.0      470.30  2018-01-14T00:00:00      4   \n",
       "14498             6  32250000.0      374.60  2018-06-09T00:00:00     19   \n",
       "14591            20  29000000.0      327.20  2017-11-15T00:00:00      6   \n",
       "20314             8  42000000.0      374.00  2017-04-09T00:00:00      7   \n",
       "21990            20  68000000.0      373.10  2018-09-08T00:00:00      8   \n",
       "\n",
       "       ceiling_height  floors_total  living_area  floor is_apartment  ...  \\\n",
       "3676              NaN           6.0          NaN      6          NaN  ...   \n",
       "4237              NaN           4.0        332.0      3          NaN  ...   \n",
       "6221              NaN           3.0        248.7      3          NaN  ...   \n",
       "14498             NaN           5.0        264.5      2          NaN  ...   \n",
       "14591             NaN           4.0        177.3      4          NaN  ...   \n",
       "20314             NaN           4.0        239.4      3          NaN  ...   \n",
       "21990             NaN           8.0        176.2      8          NaN  ...   \n",
       "\n",
       "       kitchen_area  balcony    locality_name  airports_nearest  \\\n",
       "3676          35.05      NaN  Санкт-Петербург           20552.0   \n",
       "4237          22.00      NaN  Санкт-Петербург           22835.0   \n",
       "6221          40.00      NaN  Санкт-Петербург           43756.0   \n",
       "14498         27.60      NaN  Санкт-Петербург           19497.0   \n",
       "14591         27.10      NaN  Санкт-Петербург           53531.0   \n",
       "20314         51.00      0.0           Пушкин           15595.0   \n",
       "21990         29.40      NaN  Санкт-Петербург           37965.0   \n",
       "\n",
       "      cityCenters_nearest  parks_around3000  parks_nearest  ponds_around3000  \\\n",
       "3676               5181.0               0.0            NaN               0.0   \n",
       "4237               1847.0               2.0          477.0               2.0   \n",
       "6221              15459.0               1.0          852.0               3.0   \n",
       "14498              3574.0               0.0            NaN               2.0   \n",
       "14591             18024.0               0.0            NaN               2.0   \n",
       "20314             27749.0               3.0           62.0               3.0   \n",
       "21990              7873.0               1.0          562.0               3.0   \n",
       "\n",
       "       ponds_nearest  days_exposition  \n",
       "3676             NaN              NaN  \n",
       "4237           540.0              NaN  \n",
       "6221           122.0            179.0  \n",
       "14498          548.0            114.0  \n",
       "14591          194.0            274.0  \n",
       "20314          274.0              9.0  \n",
       "21990          691.0            234.0  \n",
       "\n",
       "[7 rows x 22 columns]"
      ]
     },
     "execution_count": 16,
     "metadata": {},
     "output_type": "execute_result"
    }
   ],
   "source": [
    "for string_number in data[data['ceiling_height'].isnull()].index.to_list():\n",
    "    data.loc[string_number, 'ceiling_height'] = round(data_int[data_int['total_area_rounded'] == round(data.loc[string_number, 'total_area'],-1)]['ceiling_height'].mean(), 2)\n",
    "data[data['ceiling_height'].isna()]"
   ]
  },
  {
   "cell_type": "markdown",
   "metadata": {
    "pycharm": {
     "name": "#%% md\n"
    }
   },
   "source": [
    "Осталось 7 строк с пустыми данными, т.к. нет схожих квартир по площади, округленной до десятых. Вставим данные вручную."
   ]
  },
  {
   "cell_type": "code",
   "execution_count": 17,
   "metadata": {
    "pycharm": {
     "name": "#%%\n"
    }
   },
   "outputs": [
    {
     "data": {
      "text/plain": [
       "0"
      ]
     },
     "execution_count": 17,
     "metadata": {},
     "output_type": "execute_result"
    }
   ],
   "source": [
    "data.loc[14591, 'ceiling_height'] = round(data_int[(data_int['total_area_rounded'] < 340)&(data_int['total_area_rounded'] > 300)]['ceiling_height'].mean(),2)\n",
    "data.loc[6221, 'ceiling_height'] = round(data_int[(data_int['total_area_rounded'] < 500)&(data_int['total_area_rounded'] > 450)]['ceiling_height'].mean(),2)\n",
    "data.loc[4237, 'ceiling_height'] = round(data_int[(data_int['total_area_rounded'] < 530)&(data_int['total_area_rounded'] > 500)]['ceiling_height'].mean(),2)\n",
    "data.loc[3676, 'ceiling_height'] = round(data_int[(data_int['total_area_rounded'] < 460)&(data_int['total_area_rounded'] > 420)]['ceiling_height'].mean(),2)\n",
    "data.loc[21990, 'ceiling_height'] = round(data_int[(data_int['total_area_rounded'] < 390)&(data_int['total_area_rounded'] > 350)]['ceiling_height'].mean(),2)\n",
    "data.loc[20314, 'ceiling_height'] = round(data_int[(data_int['total_area_rounded'] < 390)&(data_int['total_area_rounded'] > 350)]['ceiling_height'].mean(),2)\n",
    "data.loc[14498, 'ceiling_height'] = round(data_int[(data_int['total_area_rounded'] < 390)&(data_int['total_area_rounded'] > 350)]['ceiling_height'].mean(),2)\n",
    "\n",
    "data['ceiling_height'].isna().sum()"
   ]
  },
  {
   "cell_type": "markdown",
   "metadata": {
    "pycharm": {
     "name": "#%% md\n"
    }
   },
   "source": [
    "Больше пустых строк в столбце `ceiling_height` нет. "
   ]
  },
  {
   "cell_type": "markdown",
   "metadata": {
    "pycharm": {
     "name": "#%% md\n"
    }
   },
   "source": [
    "Рассмотрим пропуски в столбце `living_area`."
   ]
  },
  {
   "cell_type": "code",
   "execution_count": 18,
   "metadata": {
    "pycharm": {
     "name": "#%%\n"
    }
   },
   "outputs": [
    {
     "data": {
      "text/html": [
       "<div>\n",
       "<style scoped>\n",
       "    .dataframe tbody tr th:only-of-type {\n",
       "        vertical-align: middle;\n",
       "    }\n",
       "\n",
       "    .dataframe tbody tr th {\n",
       "        vertical-align: top;\n",
       "    }\n",
       "\n",
       "    .dataframe thead th {\n",
       "        text-align: right;\n",
       "    }\n",
       "</style>\n",
       "<table border=\"1\" class=\"dataframe\">\n",
       "  <thead>\n",
       "    <tr style=\"text-align: right;\">\n",
       "      <th></th>\n",
       "      <th>total_images</th>\n",
       "      <th>last_price</th>\n",
       "      <th>total_area</th>\n",
       "      <th>first_day_exposition</th>\n",
       "      <th>rooms</th>\n",
       "      <th>ceiling_height</th>\n",
       "      <th>floors_total</th>\n",
       "      <th>living_area</th>\n",
       "      <th>floor</th>\n",
       "      <th>is_apartment</th>\n",
       "      <th>...</th>\n",
       "      <th>kitchen_area</th>\n",
       "      <th>balcony</th>\n",
       "      <th>locality_name</th>\n",
       "      <th>airports_nearest</th>\n",
       "      <th>cityCenters_nearest</th>\n",
       "      <th>parks_around3000</th>\n",
       "      <th>parks_nearest</th>\n",
       "      <th>ponds_around3000</th>\n",
       "      <th>ponds_nearest</th>\n",
       "      <th>days_exposition</th>\n",
       "    </tr>\n",
       "  </thead>\n",
       "  <tbody>\n",
       "    <tr>\n",
       "      <th>3</th>\n",
       "      <td>0</td>\n",
       "      <td>64900000.0</td>\n",
       "      <td>159.0</td>\n",
       "      <td>2015-07-24T00:00:00</td>\n",
       "      <td>3</td>\n",
       "      <td>3.13</td>\n",
       "      <td>14.0</td>\n",
       "      <td>NaN</td>\n",
       "      <td>9</td>\n",
       "      <td>NaN</td>\n",
       "      <td>...</td>\n",
       "      <td>NaN</td>\n",
       "      <td>0.0</td>\n",
       "      <td>Санкт-Петербург</td>\n",
       "      <td>28098.0</td>\n",
       "      <td>6800.0</td>\n",
       "      <td>2.0</td>\n",
       "      <td>84.0</td>\n",
       "      <td>3.0</td>\n",
       "      <td>234.0</td>\n",
       "      <td>424.0</td>\n",
       "    </tr>\n",
       "    <tr>\n",
       "      <th>7</th>\n",
       "      <td>5</td>\n",
       "      <td>7915000.0</td>\n",
       "      <td>71.6</td>\n",
       "      <td>2019-04-18T00:00:00</td>\n",
       "      <td>2</td>\n",
       "      <td>2.76</td>\n",
       "      <td>24.0</td>\n",
       "      <td>NaN</td>\n",
       "      <td>22</td>\n",
       "      <td>NaN</td>\n",
       "      <td>...</td>\n",
       "      <td>18.9</td>\n",
       "      <td>2.0</td>\n",
       "      <td>Санкт-Петербург</td>\n",
       "      <td>23982.0</td>\n",
       "      <td>11634.0</td>\n",
       "      <td>0.0</td>\n",
       "      <td>NaN</td>\n",
       "      <td>0.0</td>\n",
       "      <td>NaN</td>\n",
       "      <td>NaN</td>\n",
       "    </tr>\n",
       "    <tr>\n",
       "      <th>30</th>\n",
       "      <td>12</td>\n",
       "      <td>2200000.0</td>\n",
       "      <td>32.8</td>\n",
       "      <td>2018-02-19T00:00:00</td>\n",
       "      <td>1</td>\n",
       "      <td>2.59</td>\n",
       "      <td>9.0</td>\n",
       "      <td>NaN</td>\n",
       "      <td>2</td>\n",
       "      <td>NaN</td>\n",
       "      <td>...</td>\n",
       "      <td>NaN</td>\n",
       "      <td>NaN</td>\n",
       "      <td>Коммунар</td>\n",
       "      <td>NaN</td>\n",
       "      <td>NaN</td>\n",
       "      <td>NaN</td>\n",
       "      <td>NaN</td>\n",
       "      <td>NaN</td>\n",
       "      <td>NaN</td>\n",
       "      <td>63.0</td>\n",
       "    </tr>\n",
       "    <tr>\n",
       "      <th>37</th>\n",
       "      <td>10</td>\n",
       "      <td>1990000.0</td>\n",
       "      <td>45.8</td>\n",
       "      <td>2017-10-28T00:00:00</td>\n",
       "      <td>2</td>\n",
       "      <td>2.50</td>\n",
       "      <td>5.0</td>\n",
       "      <td>NaN</td>\n",
       "      <td>1</td>\n",
       "      <td>NaN</td>\n",
       "      <td>...</td>\n",
       "      <td>NaN</td>\n",
       "      <td>NaN</td>\n",
       "      <td>поселок городского типа Красный Бор</td>\n",
       "      <td>NaN</td>\n",
       "      <td>NaN</td>\n",
       "      <td>NaN</td>\n",
       "      <td>NaN</td>\n",
       "      <td>NaN</td>\n",
       "      <td>NaN</td>\n",
       "      <td>196.0</td>\n",
       "    </tr>\n",
       "    <tr>\n",
       "      <th>44</th>\n",
       "      <td>13</td>\n",
       "      <td>5350000.0</td>\n",
       "      <td>40.0</td>\n",
       "      <td>2018-11-18T00:00:00</td>\n",
       "      <td>1</td>\n",
       "      <td>2.65</td>\n",
       "      <td>22.0</td>\n",
       "      <td>NaN</td>\n",
       "      <td>3</td>\n",
       "      <td>NaN</td>\n",
       "      <td>...</td>\n",
       "      <td>NaN</td>\n",
       "      <td>1.0</td>\n",
       "      <td>Санкт-Петербург</td>\n",
       "      <td>30471.0</td>\n",
       "      <td>11603.0</td>\n",
       "      <td>1.0</td>\n",
       "      <td>620.0</td>\n",
       "      <td>1.0</td>\n",
       "      <td>1152.0</td>\n",
       "      <td>NaN</td>\n",
       "    </tr>\n",
       "  </tbody>\n",
       "</table>\n",
       "<p>5 rows × 22 columns</p>\n",
       "</div>"
      ],
      "text/plain": [
       "    total_images  last_price  total_area first_day_exposition  rooms  \\\n",
       "3              0  64900000.0       159.0  2015-07-24T00:00:00      3   \n",
       "7              5   7915000.0        71.6  2019-04-18T00:00:00      2   \n",
       "30            12   2200000.0        32.8  2018-02-19T00:00:00      1   \n",
       "37            10   1990000.0        45.8  2017-10-28T00:00:00      2   \n",
       "44            13   5350000.0        40.0  2018-11-18T00:00:00      1   \n",
       "\n",
       "    ceiling_height  floors_total  living_area  floor is_apartment  ...  \\\n",
       "3             3.13          14.0          NaN      9          NaN  ...   \n",
       "7             2.76          24.0          NaN     22          NaN  ...   \n",
       "30            2.59           9.0          NaN      2          NaN  ...   \n",
       "37            2.50           5.0          NaN      1          NaN  ...   \n",
       "44            2.65          22.0          NaN      3          NaN  ...   \n",
       "\n",
       "    kitchen_area  balcony                        locality_name  \\\n",
       "3            NaN      0.0                      Санкт-Петербург   \n",
       "7           18.9      2.0                      Санкт-Петербург   \n",
       "30           NaN      NaN                             Коммунар   \n",
       "37           NaN      NaN  поселок городского типа Красный Бор   \n",
       "44           NaN      1.0                      Санкт-Петербург   \n",
       "\n",
       "    airports_nearest cityCenters_nearest  parks_around3000  parks_nearest  \\\n",
       "3            28098.0              6800.0               2.0           84.0   \n",
       "7            23982.0             11634.0               0.0            NaN   \n",
       "30               NaN                 NaN               NaN            NaN   \n",
       "37               NaN                 NaN               NaN            NaN   \n",
       "44           30471.0             11603.0               1.0          620.0   \n",
       "\n",
       "    ponds_around3000  ponds_nearest  days_exposition  \n",
       "3                3.0          234.0            424.0  \n",
       "7                0.0            NaN              NaN  \n",
       "30               NaN            NaN             63.0  \n",
       "37               NaN            NaN            196.0  \n",
       "44               1.0         1152.0              NaN  \n",
       "\n",
       "[5 rows x 22 columns]"
      ]
     },
     "execution_count": 18,
     "metadata": {},
     "output_type": "execute_result"
    }
   ],
   "source": [
    "data[data['living_area'].isna()].head()"
   ]
  },
  {
   "cell_type": "markdown",
   "metadata": {
    "pycharm": {
     "name": "#%% md\n"
    }
   },
   "source": [
    "Как правило, жилая площадь составляет определенный процент от общей площади квартиры. Рассчитаем его с помощью использованной ранее копии данных, в которой общая площадь округлена до десятых, и заполним пропуски в столбце `living_area`."
   ]
  },
  {
   "cell_type": "code",
   "execution_count": 19,
   "metadata": {
    "pycharm": {
     "name": "#%%\n"
    }
   },
   "outputs": [
    {
     "data": {
      "text/html": [
       "<div>\n",
       "<style scoped>\n",
       "    .dataframe tbody tr th:only-of-type {\n",
       "        vertical-align: middle;\n",
       "    }\n",
       "\n",
       "    .dataframe tbody tr th {\n",
       "        vertical-align: top;\n",
       "    }\n",
       "\n",
       "    .dataframe thead th {\n",
       "        text-align: right;\n",
       "    }\n",
       "</style>\n",
       "<table border=\"1\" class=\"dataframe\">\n",
       "  <thead>\n",
       "    <tr style=\"text-align: right;\">\n",
       "      <th></th>\n",
       "      <th>total_area</th>\n",
       "      <th>living_area</th>\n",
       "      <th>ceiling_height</th>\n",
       "      <th>total_area_rounded</th>\n",
       "      <th>living_area_share</th>\n",
       "    </tr>\n",
       "  </thead>\n",
       "  <tbody>\n",
       "    <tr>\n",
       "      <th>0</th>\n",
       "      <td>108.0</td>\n",
       "      <td>51.0</td>\n",
       "      <td>2.70</td>\n",
       "      <td>110</td>\n",
       "      <td>0.472222</td>\n",
       "    </tr>\n",
       "    <tr>\n",
       "      <th>4</th>\n",
       "      <td>100.0</td>\n",
       "      <td>32.0</td>\n",
       "      <td>3.03</td>\n",
       "      <td>100</td>\n",
       "      <td>0.320000</td>\n",
       "    </tr>\n",
       "    <tr>\n",
       "      <th>9</th>\n",
       "      <td>61.0</td>\n",
       "      <td>43.6</td>\n",
       "      <td>2.50</td>\n",
       "      <td>60</td>\n",
       "      <td>0.714754</td>\n",
       "    </tr>\n",
       "    <tr>\n",
       "      <th>10</th>\n",
       "      <td>39.6</td>\n",
       "      <td>20.3</td>\n",
       "      <td>2.67</td>\n",
       "      <td>40</td>\n",
       "      <td>0.512626</td>\n",
       "    </tr>\n",
       "    <tr>\n",
       "      <th>13</th>\n",
       "      <td>42.8</td>\n",
       "      <td>27.0</td>\n",
       "      <td>2.56</td>\n",
       "      <td>40</td>\n",
       "      <td>0.630841</td>\n",
       "    </tr>\n",
       "  </tbody>\n",
       "</table>\n",
       "</div>"
      ],
      "text/plain": [
       "    total_area  living_area  ceiling_height  total_area_rounded  \\\n",
       "0        108.0         51.0            2.70                 110   \n",
       "4        100.0         32.0            3.03                 100   \n",
       "9         61.0         43.6            2.50                  60   \n",
       "10        39.6         20.3            2.67                  40   \n",
       "13        42.8         27.0            2.56                  40   \n",
       "\n",
       "    living_area_share  \n",
       "0            0.472222  \n",
       "4            0.320000  \n",
       "9            0.714754  \n",
       "10           0.512626  \n",
       "13           0.630841  "
      ]
     },
     "execution_count": 19,
     "metadata": {},
     "output_type": "execute_result"
    }
   ],
   "source": [
    "data_int['living_area_share'] = data_int['living_area'] / data_int['total_area']\n",
    "data_int.head()"
   ]
  },
  {
   "cell_type": "code",
   "execution_count": 20,
   "metadata": {
    "pycharm": {
     "name": "#%%\n"
    }
   },
   "outputs": [
    {
     "data": {
      "text/html": [
       "<div>\n",
       "<style scoped>\n",
       "    .dataframe tbody tr th:only-of-type {\n",
       "        vertical-align: middle;\n",
       "    }\n",
       "\n",
       "    .dataframe tbody tr th {\n",
       "        vertical-align: top;\n",
       "    }\n",
       "\n",
       "    .dataframe thead th {\n",
       "        text-align: right;\n",
       "    }\n",
       "</style>\n",
       "<table border=\"1\" class=\"dataframe\">\n",
       "  <thead>\n",
       "    <tr style=\"text-align: right;\">\n",
       "      <th></th>\n",
       "      <th>total_images</th>\n",
       "      <th>last_price</th>\n",
       "      <th>total_area</th>\n",
       "      <th>first_day_exposition</th>\n",
       "      <th>rooms</th>\n",
       "      <th>ceiling_height</th>\n",
       "      <th>floors_total</th>\n",
       "      <th>living_area</th>\n",
       "      <th>floor</th>\n",
       "      <th>is_apartment</th>\n",
       "      <th>...</th>\n",
       "      <th>kitchen_area</th>\n",
       "      <th>balcony</th>\n",
       "      <th>locality_name</th>\n",
       "      <th>airports_nearest</th>\n",
       "      <th>cityCenters_nearest</th>\n",
       "      <th>parks_around3000</th>\n",
       "      <th>parks_nearest</th>\n",
       "      <th>ponds_around3000</th>\n",
       "      <th>ponds_nearest</th>\n",
       "      <th>days_exposition</th>\n",
       "    </tr>\n",
       "  </thead>\n",
       "  <tbody>\n",
       "    <tr>\n",
       "      <th>3676</th>\n",
       "      <td>12</td>\n",
       "      <td>28789000.0</td>\n",
       "      <td>441.98</td>\n",
       "      <td>2019-01-23T00:00:00</td>\n",
       "      <td>4</td>\n",
       "      <td>3.70</td>\n",
       "      <td>6.0</td>\n",
       "      <td>NaN</td>\n",
       "      <td>6</td>\n",
       "      <td>NaN</td>\n",
       "      <td>...</td>\n",
       "      <td>35.05</td>\n",
       "      <td>NaN</td>\n",
       "      <td>Санкт-Петербург</td>\n",
       "      <td>20552.0</td>\n",
       "      <td>5181.0</td>\n",
       "      <td>0.0</td>\n",
       "      <td>NaN</td>\n",
       "      <td>0.0</td>\n",
       "      <td>NaN</td>\n",
       "      <td>NaN</td>\n",
       "    </tr>\n",
       "    <tr>\n",
       "      <th>19392</th>\n",
       "      <td>5</td>\n",
       "      <td>71000000.0</td>\n",
       "      <td>371.00</td>\n",
       "      <td>2018-07-26T00:00:00</td>\n",
       "      <td>0</td>\n",
       "      <td>3.57</td>\n",
       "      <td>7.0</td>\n",
       "      <td>NaN</td>\n",
       "      <td>6</td>\n",
       "      <td>NaN</td>\n",
       "      <td>...</td>\n",
       "      <td>NaN</td>\n",
       "      <td>NaN</td>\n",
       "      <td>Санкт-Петербург</td>\n",
       "      <td>25257.0</td>\n",
       "      <td>6060.0</td>\n",
       "      <td>1.0</td>\n",
       "      <td>761.0</td>\n",
       "      <td>1.0</td>\n",
       "      <td>584.0</td>\n",
       "      <td>90.0</td>\n",
       "    </tr>\n",
       "    <tr>\n",
       "      <th>22131</th>\n",
       "      <td>14</td>\n",
       "      <td>27000000.0</td>\n",
       "      <td>422.20</td>\n",
       "      <td>2018-10-18T00:00:00</td>\n",
       "      <td>5</td>\n",
       "      <td>2.70</td>\n",
       "      <td>13.0</td>\n",
       "      <td>NaN</td>\n",
       "      <td>11</td>\n",
       "      <td>NaN</td>\n",
       "      <td>...</td>\n",
       "      <td>NaN</td>\n",
       "      <td>NaN</td>\n",
       "      <td>Санкт-Петербург</td>\n",
       "      <td>46625.0</td>\n",
       "      <td>16554.0</td>\n",
       "      <td>0.0</td>\n",
       "      <td>NaN</td>\n",
       "      <td>0.0</td>\n",
       "      <td>NaN</td>\n",
       "      <td>NaN</td>\n",
       "    </tr>\n",
       "  </tbody>\n",
       "</table>\n",
       "<p>3 rows × 22 columns</p>\n",
       "</div>"
      ],
      "text/plain": [
       "       total_images  last_price  total_area first_day_exposition  rooms  \\\n",
       "3676             12  28789000.0      441.98  2019-01-23T00:00:00      4   \n",
       "19392             5  71000000.0      371.00  2018-07-26T00:00:00      0   \n",
       "22131            14  27000000.0      422.20  2018-10-18T00:00:00      5   \n",
       "\n",
       "       ceiling_height  floors_total  living_area  floor is_apartment  ...  \\\n",
       "3676             3.70           6.0          NaN      6          NaN  ...   \n",
       "19392            3.57           7.0          NaN      6          NaN  ...   \n",
       "22131            2.70          13.0          NaN     11          NaN  ...   \n",
       "\n",
       "       kitchen_area  balcony    locality_name  airports_nearest  \\\n",
       "3676          35.05      NaN  Санкт-Петербург           20552.0   \n",
       "19392           NaN      NaN  Санкт-Петербург           25257.0   \n",
       "22131           NaN      NaN  Санкт-Петербург           46625.0   \n",
       "\n",
       "      cityCenters_nearest  parks_around3000  parks_nearest  ponds_around3000  \\\n",
       "3676               5181.0               0.0            NaN               0.0   \n",
       "19392              6060.0               1.0          761.0               1.0   \n",
       "22131             16554.0               0.0            NaN               0.0   \n",
       "\n",
       "       ponds_nearest  days_exposition  \n",
       "3676             NaN              NaN  \n",
       "19392          584.0             90.0  \n",
       "22131            NaN              NaN  \n",
       "\n",
       "[3 rows x 22 columns]"
      ]
     },
     "execution_count": 20,
     "metadata": {},
     "output_type": "execute_result"
    }
   ],
   "source": [
    "for string_number in data[data['living_area'].isnull()].index.to_list():\n",
    "    data.loc[string_number, 'living_area'] = round(data_int[data_int['total_area_rounded'] == data.loc[string_number, 'total_area'].round(-1)]['living_area'].mean(), 1)\n",
    "\n",
    "data[data['living_area'].isna()]"
   ]
  },
  {
   "cell_type": "code",
   "execution_count": 21,
   "metadata": {
    "pycharm": {
     "name": "#%%\n"
    }
   },
   "outputs": [],
   "source": [
    "data.loc[3676, 'living_area'] = round(data_int[(data_int['total_area_rounded'] < 460)&(data_int['total_area_rounded'] > 420)]['living_area'].mean(),1)\n",
    "data.loc[19392, 'living_area'] = round(data_int[(data_int['total_area_rounded'] < 390)&(data_int['total_area_rounded'] > 350)]['living_area'].mean(),1)\n",
    "data.loc[22131, 'living_area'] = round(data_int[(data_int['total_area_rounded'] < 440)&(data_int['total_area_rounded'] > 400)]['living_area'].mean(),1)"
   ]
  },
  {
   "cell_type": "code",
   "execution_count": 22,
   "metadata": {
    "pycharm": {
     "name": "#%%\n"
    }
   },
   "outputs": [
    {
     "data": {
      "text/plain": [
       "total_images                0\n",
       "last_price                  0\n",
       "total_area                  0\n",
       "first_day_exposition        0\n",
       "rooms                       0\n",
       "ceiling_height              0\n",
       "floors_total               86\n",
       "living_area                 0\n",
       "floor                       0\n",
       "is_apartment            20924\n",
       "studio                      0\n",
       "open_plan                   0\n",
       "kitchen_area             2278\n",
       "balcony                 11519\n",
       "locality_name              49\n",
       "airports_nearest         5542\n",
       "cityCenters_nearest      5519\n",
       "parks_around3000         5518\n",
       "parks_nearest           15620\n",
       "ponds_around3000         5518\n",
       "ponds_nearest           14589\n",
       "days_exposition          3181\n",
       "dtype: int64"
      ]
     },
     "execution_count": 22,
     "metadata": {},
     "output_type": "execute_result"
    }
   ],
   "source": [
    "data.isna().sum()"
   ]
  },
  {
   "cell_type": "markdown",
   "metadata": {
    "pycharm": {
     "name": "#%% md\n"
    }
   },
   "source": [
    "Пропуски в столбце `kitchen_area`, скорее всего, означают, что в квартире кухня-гостиная, либо это квартира-студия. Кухня-гостиная может быть как в квартирах с большой площадью, так и с маленькой. А вот в квартирах-студиях число комнат равно 0, поэтому такие пропуски можно заполнить \"0\"."
   ]
  },
  {
   "cell_type": "code",
   "execution_count": 23,
   "metadata": {
    "pycharm": {
     "name": "#%%\n"
    }
   },
   "outputs": [],
   "source": [
    "for string_number in data[(data['kitchen_area'].isna())&(data['rooms'] == 0)].index.to_list():\n",
    "    data.loc[string_number, 'kitchen_area'] = 0"
   ]
  },
  {
   "cell_type": "markdown",
   "metadata": {
    "pycharm": {
     "name": "#%% md\n"
    }
   },
   "source": [
    "Пропуски в столбце `locality_name` заполнить не представляется возможным, поскольку квартира может находиться в любой части города. Аналогично со столбцом `floors_total`."
   ]
  },
  {
   "cell_type": "markdown",
   "metadata": {
    "pycharm": {
     "name": "#%% md\n"
    }
   },
   "source": [
    "Пропуски в столбце `days_exposition` могут означать, что объявление ещё не снято с публикации, поэтому заполнять их не нужно."
   ]
  },
  {
   "cell_type": "markdown",
   "metadata": {
    "pycharm": {
     "name": "#%% md\n"
    }
   },
   "source": [
    "В столбцах `is_apartment`, `balcony`, `parks_around3000`, `ponds_around3000` пропуск означает отсутствие, поэтому пропуски можно заполнить \"0\" (или False)."
   ]
  },
  {
   "cell_type": "code",
   "execution_count": 24,
   "metadata": {
    "pycharm": {
     "name": "#%%\n"
    }
   },
   "outputs": [],
   "source": [
    "data['is_apartment'] = data['is_apartment'].fillna(False)\n",
    "data['balcony']=data['balcony'].fillna(0)\n",
    "data['parks_around3000']= data['parks_around3000'].fillna(0)\n",
    "data['ponds_around3000']= data['ponds_around3000'].fillna(0)"
   ]
  },
  {
   "cell_type": "markdown",
   "metadata": {
    "pycharm": {
     "name": "#%% md\n"
    }
   },
   "source": [
    "Заполнив пропуски с учетом наших возможностей, перейдем к изменению типов данных в столбцах. "
   ]
  },
  {
   "cell_type": "code",
   "execution_count": 25,
   "metadata": {
    "pycharm": {
     "name": "#%%\n"
    }
   },
   "outputs": [
    {
     "name": "stdout",
     "output_type": "stream",
     "text": [
      "<class 'pandas.core.frame.DataFrame'>\n",
      "RangeIndex: 23699 entries, 0 to 23698\n",
      "Data columns (total 22 columns):\n",
      " #   Column                Non-Null Count  Dtype  \n",
      "---  ------                --------------  -----  \n",
      " 0   total_images          23699 non-null  int64  \n",
      " 1   last_price            23699 non-null  float64\n",
      " 2   total_area            23699 non-null  float64\n",
      " 3   first_day_exposition  23699 non-null  object \n",
      " 4   rooms                 23699 non-null  int64  \n",
      " 5   ceiling_height        23699 non-null  float64\n",
      " 6   floors_total          23613 non-null  float64\n",
      " 7   living_area           23699 non-null  float64\n",
      " 8   floor                 23699 non-null  int64  \n",
      " 9   is_apartment          23699 non-null  bool   \n",
      " 10  studio                23699 non-null  bool   \n",
      " 11  open_plan             23699 non-null  bool   \n",
      " 12  kitchen_area          21618 non-null  float64\n",
      " 13  balcony               23699 non-null  float64\n",
      " 14  locality_name         23650 non-null  object \n",
      " 15  airports_nearest      18157 non-null  float64\n",
      " 16  cityCenters_nearest   18180 non-null  float64\n",
      " 17  parks_around3000      23699 non-null  float64\n",
      " 18  parks_nearest         8079 non-null   float64\n",
      " 19  ponds_around3000      23699 non-null  float64\n",
      " 20  ponds_nearest         9110 non-null   float64\n",
      " 21  days_exposition       20518 non-null  float64\n",
      "dtypes: bool(3), float64(14), int64(3), object(2)\n",
      "memory usage: 3.5+ MB\n"
     ]
    }
   ],
   "source": [
    "data.info()"
   ]
  },
  {
   "cell_type": "markdown",
   "metadata": {
    "pycharm": {
     "name": "#%% md\n"
    }
   },
   "source": [
    "Прежде всего необходимо привести столбец `first_day_exposition` к типу даты."
   ]
  },
  {
   "cell_type": "code",
   "execution_count": 26,
   "metadata": {
    "pycharm": {
     "name": "#%%\n"
    }
   },
   "outputs": [],
   "source": [
    "data['first_day_exposition'] = pd.to_datetime(data['first_day_exposition'], format='%Y-%m-%d')"
   ]
  },
  {
   "cell_type": "markdown",
   "metadata": {
    "pycharm": {
     "name": "#%% md\n"
    }
   },
   "source": [
    "Число балконов, комнат, этажей, парков, водоёмов, цена измеряются в целых значениях, поэтому соответствующие столбцы нужно привести к целочисленному типу."
   ]
  },
  {
   "cell_type": "code",
   "execution_count": 27,
   "metadata": {
    "scrolled": true,
    "pycharm": {
     "name": "#%%\n"
    }
   },
   "outputs": [
    {
     "data": {
      "text/html": [
       "<div>\n",
       "<style scoped>\n",
       "    .dataframe tbody tr th:only-of-type {\n",
       "        vertical-align: middle;\n",
       "    }\n",
       "\n",
       "    .dataframe tbody tr th {\n",
       "        vertical-align: top;\n",
       "    }\n",
       "\n",
       "    .dataframe thead th {\n",
       "        text-align: right;\n",
       "    }\n",
       "</style>\n",
       "<table border=\"1\" class=\"dataframe\">\n",
       "  <thead>\n",
       "    <tr style=\"text-align: right;\">\n",
       "      <th></th>\n",
       "      <th>total_images</th>\n",
       "      <th>last_price</th>\n",
       "      <th>total_area</th>\n",
       "      <th>first_day_exposition</th>\n",
       "      <th>rooms</th>\n",
       "      <th>ceiling_height</th>\n",
       "      <th>floors_total</th>\n",
       "      <th>living_area</th>\n",
       "      <th>floor</th>\n",
       "      <th>is_apartment</th>\n",
       "      <th>...</th>\n",
       "      <th>kitchen_area</th>\n",
       "      <th>balcony</th>\n",
       "      <th>locality_name</th>\n",
       "      <th>airports_nearest</th>\n",
       "      <th>cityCenters_nearest</th>\n",
       "      <th>parks_around3000</th>\n",
       "      <th>parks_nearest</th>\n",
       "      <th>ponds_around3000</th>\n",
       "      <th>ponds_nearest</th>\n",
       "      <th>days_exposition</th>\n",
       "    </tr>\n",
       "  </thead>\n",
       "  <tbody>\n",
       "    <tr>\n",
       "      <th>0</th>\n",
       "      <td>20</td>\n",
       "      <td>13000000</td>\n",
       "      <td>108.0</td>\n",
       "      <td>2019-03-07</td>\n",
       "      <td>3</td>\n",
       "      <td>2.70</td>\n",
       "      <td>16.0</td>\n",
       "      <td>51.0</td>\n",
       "      <td>8</td>\n",
       "      <td>False</td>\n",
       "      <td>...</td>\n",
       "      <td>25.0</td>\n",
       "      <td>0</td>\n",
       "      <td>Санкт-Петербург</td>\n",
       "      <td>18863.0</td>\n",
       "      <td>16028.0</td>\n",
       "      <td>1</td>\n",
       "      <td>482.0</td>\n",
       "      <td>2</td>\n",
       "      <td>755.0</td>\n",
       "      <td>NaN</td>\n",
       "    </tr>\n",
       "    <tr>\n",
       "      <th>1</th>\n",
       "      <td>7</td>\n",
       "      <td>3350000</td>\n",
       "      <td>40.4</td>\n",
       "      <td>2018-12-04</td>\n",
       "      <td>1</td>\n",
       "      <td>2.65</td>\n",
       "      <td>11.0</td>\n",
       "      <td>18.6</td>\n",
       "      <td>1</td>\n",
       "      <td>False</td>\n",
       "      <td>...</td>\n",
       "      <td>11.0</td>\n",
       "      <td>2</td>\n",
       "      <td>посёлок Шушары</td>\n",
       "      <td>12817.0</td>\n",
       "      <td>18603.0</td>\n",
       "      <td>0</td>\n",
       "      <td>NaN</td>\n",
       "      <td>0</td>\n",
       "      <td>NaN</td>\n",
       "      <td>81.0</td>\n",
       "    </tr>\n",
       "    <tr>\n",
       "      <th>2</th>\n",
       "      <td>10</td>\n",
       "      <td>5196000</td>\n",
       "      <td>56.0</td>\n",
       "      <td>2015-08-20</td>\n",
       "      <td>2</td>\n",
       "      <td>2.68</td>\n",
       "      <td>5.0</td>\n",
       "      <td>34.3</td>\n",
       "      <td>4</td>\n",
       "      <td>False</td>\n",
       "      <td>...</td>\n",
       "      <td>8.3</td>\n",
       "      <td>0</td>\n",
       "      <td>Санкт-Петербург</td>\n",
       "      <td>21741.0</td>\n",
       "      <td>13933.0</td>\n",
       "      <td>1</td>\n",
       "      <td>90.0</td>\n",
       "      <td>2</td>\n",
       "      <td>574.0</td>\n",
       "      <td>558.0</td>\n",
       "    </tr>\n",
       "    <tr>\n",
       "      <th>3</th>\n",
       "      <td>0</td>\n",
       "      <td>64900000</td>\n",
       "      <td>159.0</td>\n",
       "      <td>2015-07-24</td>\n",
       "      <td>3</td>\n",
       "      <td>3.13</td>\n",
       "      <td>14.0</td>\n",
       "      <td>96.3</td>\n",
       "      <td>9</td>\n",
       "      <td>False</td>\n",
       "      <td>...</td>\n",
       "      <td>NaN</td>\n",
       "      <td>0</td>\n",
       "      <td>Санкт-Петербург</td>\n",
       "      <td>28098.0</td>\n",
       "      <td>6800.0</td>\n",
       "      <td>2</td>\n",
       "      <td>84.0</td>\n",
       "      <td>3</td>\n",
       "      <td>234.0</td>\n",
       "      <td>424.0</td>\n",
       "    </tr>\n",
       "    <tr>\n",
       "      <th>4</th>\n",
       "      <td>2</td>\n",
       "      <td>10000000</td>\n",
       "      <td>100.0</td>\n",
       "      <td>2018-06-19</td>\n",
       "      <td>2</td>\n",
       "      <td>3.03</td>\n",
       "      <td>14.0</td>\n",
       "      <td>32.0</td>\n",
       "      <td>13</td>\n",
       "      <td>False</td>\n",
       "      <td>...</td>\n",
       "      <td>41.0</td>\n",
       "      <td>0</td>\n",
       "      <td>Санкт-Петербург</td>\n",
       "      <td>31856.0</td>\n",
       "      <td>8098.0</td>\n",
       "      <td>2</td>\n",
       "      <td>112.0</td>\n",
       "      <td>1</td>\n",
       "      <td>48.0</td>\n",
       "      <td>121.0</td>\n",
       "    </tr>\n",
       "  </tbody>\n",
       "</table>\n",
       "<p>5 rows × 22 columns</p>\n",
       "</div>"
      ],
      "text/plain": [
       "   total_images  last_price  total_area first_day_exposition  rooms  \\\n",
       "0            20    13000000       108.0           2019-03-07      3   \n",
       "1             7     3350000        40.4           2018-12-04      1   \n",
       "2            10     5196000        56.0           2015-08-20      2   \n",
       "3             0    64900000       159.0           2015-07-24      3   \n",
       "4             2    10000000       100.0           2018-06-19      2   \n",
       "\n",
       "   ceiling_height  floors_total  living_area  floor  is_apartment  ...  \\\n",
       "0            2.70          16.0         51.0      8         False  ...   \n",
       "1            2.65          11.0         18.6      1         False  ...   \n",
       "2            2.68           5.0         34.3      4         False  ...   \n",
       "3            3.13          14.0         96.3      9         False  ...   \n",
       "4            3.03          14.0         32.0     13         False  ...   \n",
       "\n",
       "   kitchen_area  balcony    locality_name  airports_nearest  \\\n",
       "0          25.0        0  Санкт-Петербург           18863.0   \n",
       "1          11.0        2   посёлок Шушары           12817.0   \n",
       "2           8.3        0  Санкт-Петербург           21741.0   \n",
       "3           NaN        0  Санкт-Петербург           28098.0   \n",
       "4          41.0        0  Санкт-Петербург           31856.0   \n",
       "\n",
       "  cityCenters_nearest  parks_around3000  parks_nearest  ponds_around3000  \\\n",
       "0             16028.0                 1          482.0                 2   \n",
       "1             18603.0                 0            NaN                 0   \n",
       "2             13933.0                 1           90.0                 2   \n",
       "3              6800.0                 2           84.0                 3   \n",
       "4              8098.0                 2          112.0                 1   \n",
       "\n",
       "   ponds_nearest  days_exposition  \n",
       "0          755.0              NaN  \n",
       "1            NaN             81.0  \n",
       "2          574.0            558.0  \n",
       "3          234.0            424.0  \n",
       "4           48.0            121.0  \n",
       "\n",
       "[5 rows x 22 columns]"
      ]
     },
     "execution_count": 27,
     "metadata": {},
     "output_type": "execute_result"
    }
   ],
   "source": [
    "data['rooms'] = data['rooms'].astype('int')\n",
    "data['floor'] = data['floor'].astype('int')\n",
    "data['balcony'] = data['balcony'].astype('int')\n",
    "data['parks_around3000'] = data['parks_around3000'].astype('int')\n",
    "data['ponds_around3000'] = data['ponds_around3000'].astype('int')\n",
    "data['last_price'] = data['last_price'].astype('int')\n",
    "data.head()"
   ]
  },
  {
   "cell_type": "markdown",
   "metadata": {
    "pycharm": {
     "name": "#%% md\n"
    }
   },
   "source": [
    "Некоторые столбцы также можно привести к целочисленному типу, однако в них присутствуют пропуски."
   ]
  },
  {
   "cell_type": "markdown",
   "metadata": {
    "pycharm": {
     "name": "#%% md\n"
    }
   },
   "source": [
    "### Вывод"
   ]
  },
  {
   "cell_type": "markdown",
   "metadata": {
    "pycharm": {
     "name": "#%% md\n"
    }
   },
   "source": [
    "Таким образом, нами были устранены аномальные значения, по возможности заполнены пропуски, а также изменены типы данных некоторых столбцов. Можно переходить к дальнейшим расчетам."
   ]
  },
  {
   "cell_type": "markdown",
   "metadata": {
    "pycharm": {
     "name": "#%% md\n"
    }
   },
   "source": [
    "## Расчёты и добавление результатов в таблицу"
   ]
  },
  {
   "cell_type": "markdown",
   "metadata": {
    "pycharm": {
     "name": "#%% md\n"
    }
   },
   "source": [
    "Цена квадратного метра:"
   ]
  },
  {
   "cell_type": "code",
   "execution_count": 28,
   "metadata": {
    "pycharm": {
     "name": "#%%\n"
    }
   },
   "outputs": [
    {
     "data": {
      "text/html": [
       "<div>\n",
       "<style scoped>\n",
       "    .dataframe tbody tr th:only-of-type {\n",
       "        vertical-align: middle;\n",
       "    }\n",
       "\n",
       "    .dataframe tbody tr th {\n",
       "        vertical-align: top;\n",
       "    }\n",
       "\n",
       "    .dataframe thead th {\n",
       "        text-align: right;\n",
       "    }\n",
       "</style>\n",
       "<table border=\"1\" class=\"dataframe\">\n",
       "  <thead>\n",
       "    <tr style=\"text-align: right;\">\n",
       "      <th></th>\n",
       "      <th>total_images</th>\n",
       "      <th>last_price</th>\n",
       "      <th>total_area</th>\n",
       "      <th>first_day_exposition</th>\n",
       "      <th>rooms</th>\n",
       "      <th>ceiling_height</th>\n",
       "      <th>floors_total</th>\n",
       "      <th>living_area</th>\n",
       "      <th>floor</th>\n",
       "      <th>is_apartment</th>\n",
       "      <th>...</th>\n",
       "      <th>balcony</th>\n",
       "      <th>locality_name</th>\n",
       "      <th>airports_nearest</th>\n",
       "      <th>cityCenters_nearest</th>\n",
       "      <th>parks_around3000</th>\n",
       "      <th>parks_nearest</th>\n",
       "      <th>ponds_around3000</th>\n",
       "      <th>ponds_nearest</th>\n",
       "      <th>days_exposition</th>\n",
       "      <th>price_per_square_meter</th>\n",
       "    </tr>\n",
       "  </thead>\n",
       "  <tbody>\n",
       "    <tr>\n",
       "      <th>0</th>\n",
       "      <td>20</td>\n",
       "      <td>13000000</td>\n",
       "      <td>108.0</td>\n",
       "      <td>2019-03-07</td>\n",
       "      <td>3</td>\n",
       "      <td>2.70</td>\n",
       "      <td>16.0</td>\n",
       "      <td>51.0</td>\n",
       "      <td>8</td>\n",
       "      <td>False</td>\n",
       "      <td>...</td>\n",
       "      <td>0</td>\n",
       "      <td>Санкт-Петербург</td>\n",
       "      <td>18863.0</td>\n",
       "      <td>16028.0</td>\n",
       "      <td>1</td>\n",
       "      <td>482.0</td>\n",
       "      <td>2</td>\n",
       "      <td>755.0</td>\n",
       "      <td>NaN</td>\n",
       "      <td>120370.37</td>\n",
       "    </tr>\n",
       "    <tr>\n",
       "      <th>1</th>\n",
       "      <td>7</td>\n",
       "      <td>3350000</td>\n",
       "      <td>40.4</td>\n",
       "      <td>2018-12-04</td>\n",
       "      <td>1</td>\n",
       "      <td>2.65</td>\n",
       "      <td>11.0</td>\n",
       "      <td>18.6</td>\n",
       "      <td>1</td>\n",
       "      <td>False</td>\n",
       "      <td>...</td>\n",
       "      <td>2</td>\n",
       "      <td>посёлок Шушары</td>\n",
       "      <td>12817.0</td>\n",
       "      <td>18603.0</td>\n",
       "      <td>0</td>\n",
       "      <td>NaN</td>\n",
       "      <td>0</td>\n",
       "      <td>NaN</td>\n",
       "      <td>81.0</td>\n",
       "      <td>82920.79</td>\n",
       "    </tr>\n",
       "    <tr>\n",
       "      <th>2</th>\n",
       "      <td>10</td>\n",
       "      <td>5196000</td>\n",
       "      <td>56.0</td>\n",
       "      <td>2015-08-20</td>\n",
       "      <td>2</td>\n",
       "      <td>2.68</td>\n",
       "      <td>5.0</td>\n",
       "      <td>34.3</td>\n",
       "      <td>4</td>\n",
       "      <td>False</td>\n",
       "      <td>...</td>\n",
       "      <td>0</td>\n",
       "      <td>Санкт-Петербург</td>\n",
       "      <td>21741.0</td>\n",
       "      <td>13933.0</td>\n",
       "      <td>1</td>\n",
       "      <td>90.0</td>\n",
       "      <td>2</td>\n",
       "      <td>574.0</td>\n",
       "      <td>558.0</td>\n",
       "      <td>92785.71</td>\n",
       "    </tr>\n",
       "    <tr>\n",
       "      <th>3</th>\n",
       "      <td>0</td>\n",
       "      <td>64900000</td>\n",
       "      <td>159.0</td>\n",
       "      <td>2015-07-24</td>\n",
       "      <td>3</td>\n",
       "      <td>3.13</td>\n",
       "      <td>14.0</td>\n",
       "      <td>96.3</td>\n",
       "      <td>9</td>\n",
       "      <td>False</td>\n",
       "      <td>...</td>\n",
       "      <td>0</td>\n",
       "      <td>Санкт-Петербург</td>\n",
       "      <td>28098.0</td>\n",
       "      <td>6800.0</td>\n",
       "      <td>2</td>\n",
       "      <td>84.0</td>\n",
       "      <td>3</td>\n",
       "      <td>234.0</td>\n",
       "      <td>424.0</td>\n",
       "      <td>408176.10</td>\n",
       "    </tr>\n",
       "    <tr>\n",
       "      <th>4</th>\n",
       "      <td>2</td>\n",
       "      <td>10000000</td>\n",
       "      <td>100.0</td>\n",
       "      <td>2018-06-19</td>\n",
       "      <td>2</td>\n",
       "      <td>3.03</td>\n",
       "      <td>14.0</td>\n",
       "      <td>32.0</td>\n",
       "      <td>13</td>\n",
       "      <td>False</td>\n",
       "      <td>...</td>\n",
       "      <td>0</td>\n",
       "      <td>Санкт-Петербург</td>\n",
       "      <td>31856.0</td>\n",
       "      <td>8098.0</td>\n",
       "      <td>2</td>\n",
       "      <td>112.0</td>\n",
       "      <td>1</td>\n",
       "      <td>48.0</td>\n",
       "      <td>121.0</td>\n",
       "      <td>100000.00</td>\n",
       "    </tr>\n",
       "  </tbody>\n",
       "</table>\n",
       "<p>5 rows × 23 columns</p>\n",
       "</div>"
      ],
      "text/plain": [
       "   total_images  last_price  total_area first_day_exposition  rooms  \\\n",
       "0            20    13000000       108.0           2019-03-07      3   \n",
       "1             7     3350000        40.4           2018-12-04      1   \n",
       "2            10     5196000        56.0           2015-08-20      2   \n",
       "3             0    64900000       159.0           2015-07-24      3   \n",
       "4             2    10000000       100.0           2018-06-19      2   \n",
       "\n",
       "   ceiling_height  floors_total  living_area  floor  is_apartment  ...  \\\n",
       "0            2.70          16.0         51.0      8         False  ...   \n",
       "1            2.65          11.0         18.6      1         False  ...   \n",
       "2            2.68           5.0         34.3      4         False  ...   \n",
       "3            3.13          14.0         96.3      9         False  ...   \n",
       "4            3.03          14.0         32.0     13         False  ...   \n",
       "\n",
       "   balcony    locality_name  airports_nearest  cityCenters_nearest  \\\n",
       "0        0  Санкт-Петербург           18863.0              16028.0   \n",
       "1        2   посёлок Шушары           12817.0              18603.0   \n",
       "2        0  Санкт-Петербург           21741.0              13933.0   \n",
       "3        0  Санкт-Петербург           28098.0               6800.0   \n",
       "4        0  Санкт-Петербург           31856.0               8098.0   \n",
       "\n",
       "  parks_around3000  parks_nearest  ponds_around3000  ponds_nearest  \\\n",
       "0                1          482.0                 2          755.0   \n",
       "1                0            NaN                 0            NaN   \n",
       "2                1           90.0                 2          574.0   \n",
       "3                2           84.0                 3          234.0   \n",
       "4                2          112.0                 1           48.0   \n",
       "\n",
       "   days_exposition  price_per_square_meter  \n",
       "0              NaN               120370.37  \n",
       "1             81.0                82920.79  \n",
       "2            558.0                92785.71  \n",
       "3            424.0               408176.10  \n",
       "4            121.0               100000.00  \n",
       "\n",
       "[5 rows x 23 columns]"
      ]
     },
     "execution_count": 28,
     "metadata": {},
     "output_type": "execute_result"
    }
   ],
   "source": [
    "data['price_per_square_meter'] = round(data['last_price'] / data['total_area'], 2)\n",
    "data.head()"
   ]
  },
  {
   "cell_type": "markdown",
   "metadata": {
    "pycharm": {
     "name": "#%% md\n"
    }
   },
   "source": [
    "День недели, месяц и год публикации объявления:"
   ]
  },
  {
   "cell_type": "code",
   "execution_count": 29,
   "metadata": {
    "pycharm": {
     "name": "#%%\n"
    }
   },
   "outputs": [
    {
     "data": {
      "text/html": [
       "<div>\n",
       "<style scoped>\n",
       "    .dataframe tbody tr th:only-of-type {\n",
       "        vertical-align: middle;\n",
       "    }\n",
       "\n",
       "    .dataframe tbody tr th {\n",
       "        vertical-align: top;\n",
       "    }\n",
       "\n",
       "    .dataframe thead th {\n",
       "        text-align: right;\n",
       "    }\n",
       "</style>\n",
       "<table border=\"1\" class=\"dataframe\">\n",
       "  <thead>\n",
       "    <tr style=\"text-align: right;\">\n",
       "      <th></th>\n",
       "      <th>total_images</th>\n",
       "      <th>last_price</th>\n",
       "      <th>total_area</th>\n",
       "      <th>first_day_exposition</th>\n",
       "      <th>rooms</th>\n",
       "      <th>ceiling_height</th>\n",
       "      <th>floors_total</th>\n",
       "      <th>living_area</th>\n",
       "      <th>floor</th>\n",
       "      <th>is_apartment</th>\n",
       "      <th>...</th>\n",
       "      <th>cityCenters_nearest</th>\n",
       "      <th>parks_around3000</th>\n",
       "      <th>parks_nearest</th>\n",
       "      <th>ponds_around3000</th>\n",
       "      <th>ponds_nearest</th>\n",
       "      <th>days_exposition</th>\n",
       "      <th>price_per_square_meter</th>\n",
       "      <th>exposition_weekday</th>\n",
       "      <th>exposition_month</th>\n",
       "      <th>exposition_year</th>\n",
       "    </tr>\n",
       "  </thead>\n",
       "  <tbody>\n",
       "    <tr>\n",
       "      <th>0</th>\n",
       "      <td>20</td>\n",
       "      <td>13000000</td>\n",
       "      <td>108.0</td>\n",
       "      <td>2019-03-07</td>\n",
       "      <td>3</td>\n",
       "      <td>2.70</td>\n",
       "      <td>16.0</td>\n",
       "      <td>51.0</td>\n",
       "      <td>8</td>\n",
       "      <td>False</td>\n",
       "      <td>...</td>\n",
       "      <td>16028.0</td>\n",
       "      <td>1</td>\n",
       "      <td>482.0</td>\n",
       "      <td>2</td>\n",
       "      <td>755.0</td>\n",
       "      <td>NaN</td>\n",
       "      <td>120370.37</td>\n",
       "      <td>3</td>\n",
       "      <td>3</td>\n",
       "      <td>2019</td>\n",
       "    </tr>\n",
       "    <tr>\n",
       "      <th>1</th>\n",
       "      <td>7</td>\n",
       "      <td>3350000</td>\n",
       "      <td>40.4</td>\n",
       "      <td>2018-12-04</td>\n",
       "      <td>1</td>\n",
       "      <td>2.65</td>\n",
       "      <td>11.0</td>\n",
       "      <td>18.6</td>\n",
       "      <td>1</td>\n",
       "      <td>False</td>\n",
       "      <td>...</td>\n",
       "      <td>18603.0</td>\n",
       "      <td>0</td>\n",
       "      <td>NaN</td>\n",
       "      <td>0</td>\n",
       "      <td>NaN</td>\n",
       "      <td>81.0</td>\n",
       "      <td>82920.79</td>\n",
       "      <td>1</td>\n",
       "      <td>12</td>\n",
       "      <td>2018</td>\n",
       "    </tr>\n",
       "    <tr>\n",
       "      <th>2</th>\n",
       "      <td>10</td>\n",
       "      <td>5196000</td>\n",
       "      <td>56.0</td>\n",
       "      <td>2015-08-20</td>\n",
       "      <td>2</td>\n",
       "      <td>2.68</td>\n",
       "      <td>5.0</td>\n",
       "      <td>34.3</td>\n",
       "      <td>4</td>\n",
       "      <td>False</td>\n",
       "      <td>...</td>\n",
       "      <td>13933.0</td>\n",
       "      <td>1</td>\n",
       "      <td>90.0</td>\n",
       "      <td>2</td>\n",
       "      <td>574.0</td>\n",
       "      <td>558.0</td>\n",
       "      <td>92785.71</td>\n",
       "      <td>3</td>\n",
       "      <td>8</td>\n",
       "      <td>2015</td>\n",
       "    </tr>\n",
       "    <tr>\n",
       "      <th>3</th>\n",
       "      <td>0</td>\n",
       "      <td>64900000</td>\n",
       "      <td>159.0</td>\n",
       "      <td>2015-07-24</td>\n",
       "      <td>3</td>\n",
       "      <td>3.13</td>\n",
       "      <td>14.0</td>\n",
       "      <td>96.3</td>\n",
       "      <td>9</td>\n",
       "      <td>False</td>\n",
       "      <td>...</td>\n",
       "      <td>6800.0</td>\n",
       "      <td>2</td>\n",
       "      <td>84.0</td>\n",
       "      <td>3</td>\n",
       "      <td>234.0</td>\n",
       "      <td>424.0</td>\n",
       "      <td>408176.10</td>\n",
       "      <td>4</td>\n",
       "      <td>7</td>\n",
       "      <td>2015</td>\n",
       "    </tr>\n",
       "    <tr>\n",
       "      <th>4</th>\n",
       "      <td>2</td>\n",
       "      <td>10000000</td>\n",
       "      <td>100.0</td>\n",
       "      <td>2018-06-19</td>\n",
       "      <td>2</td>\n",
       "      <td>3.03</td>\n",
       "      <td>14.0</td>\n",
       "      <td>32.0</td>\n",
       "      <td>13</td>\n",
       "      <td>False</td>\n",
       "      <td>...</td>\n",
       "      <td>8098.0</td>\n",
       "      <td>2</td>\n",
       "      <td>112.0</td>\n",
       "      <td>1</td>\n",
       "      <td>48.0</td>\n",
       "      <td>121.0</td>\n",
       "      <td>100000.00</td>\n",
       "      <td>1</td>\n",
       "      <td>6</td>\n",
       "      <td>2018</td>\n",
       "    </tr>\n",
       "  </tbody>\n",
       "</table>\n",
       "<p>5 rows × 26 columns</p>\n",
       "</div>"
      ],
      "text/plain": [
       "   total_images  last_price  total_area first_day_exposition  rooms  \\\n",
       "0            20    13000000       108.0           2019-03-07      3   \n",
       "1             7     3350000        40.4           2018-12-04      1   \n",
       "2            10     5196000        56.0           2015-08-20      2   \n",
       "3             0    64900000       159.0           2015-07-24      3   \n",
       "4             2    10000000       100.0           2018-06-19      2   \n",
       "\n",
       "   ceiling_height  floors_total  living_area  floor  is_apartment  ...  \\\n",
       "0            2.70          16.0         51.0      8         False  ...   \n",
       "1            2.65          11.0         18.6      1         False  ...   \n",
       "2            2.68           5.0         34.3      4         False  ...   \n",
       "3            3.13          14.0         96.3      9         False  ...   \n",
       "4            3.03          14.0         32.0     13         False  ...   \n",
       "\n",
       "   cityCenters_nearest  parks_around3000  parks_nearest  ponds_around3000  \\\n",
       "0              16028.0                 1          482.0                 2   \n",
       "1              18603.0                 0            NaN                 0   \n",
       "2              13933.0                 1           90.0                 2   \n",
       "3               6800.0                 2           84.0                 3   \n",
       "4               8098.0                 2          112.0                 1   \n",
       "\n",
       "  ponds_nearest  days_exposition  price_per_square_meter  exposition_weekday  \\\n",
       "0         755.0              NaN               120370.37                   3   \n",
       "1           NaN             81.0                82920.79                   1   \n",
       "2         574.0            558.0                92785.71                   3   \n",
       "3         234.0            424.0               408176.10                   4   \n",
       "4          48.0            121.0               100000.00                   1   \n",
       "\n",
       "   exposition_month  exposition_year  \n",
       "0                 3             2019  \n",
       "1                12             2018  \n",
       "2                 8             2015  \n",
       "3                 7             2015  \n",
       "4                 6             2018  \n",
       "\n",
       "[5 rows x 26 columns]"
      ]
     },
     "execution_count": 29,
     "metadata": {},
     "output_type": "execute_result"
    }
   ],
   "source": [
    "data['exposition_weekday'] = data['first_day_exposition'].dt.weekday\n",
    "data['exposition_month'] = data['first_day_exposition'].dt.month\n",
    "data['exposition_year'] = data['first_day_exposition'].dt.year\n",
    "data.head()"
   ]
  },
  {
   "cell_type": "markdown",
   "metadata": {
    "pycharm": {
     "name": "#%% md\n"
    }
   },
   "source": [
    "Этаж квартиры (первый, последний, другой):"
   ]
  },
  {
   "cell_type": "code",
   "execution_count": 30,
   "metadata": {
    "pycharm": {
     "name": "#%%\n"
    }
   },
   "outputs": [],
   "source": [
    "def define_floor(row):\n",
    "    if row['floor'] == 1:\n",
    "        return 'первый'\n",
    "    elif row['floor'] == row['floors_total']:\n",
    "        return 'последний'\n",
    "    else:\n",
    "        return 'другой'\n",
    "\n",
    "data['floor_options'] = data.apply(define_floor, axis=1)"
   ]
  },
  {
   "cell_type": "markdown",
   "metadata": {
    "pycharm": {
     "name": "#%% md\n"
    }
   },
   "source": [
    "Соотношение жилой и общей площади, а также отношение площади кухни к общей:"
   ]
  },
  {
   "cell_type": "code",
   "execution_count": 31,
   "metadata": {
    "pycharm": {
     "name": "#%%\n"
    }
   },
   "outputs": [
    {
     "data": {
      "text/html": [
       "<div>\n",
       "<style scoped>\n",
       "    .dataframe tbody tr th:only-of-type {\n",
       "        vertical-align: middle;\n",
       "    }\n",
       "\n",
       "    .dataframe tbody tr th {\n",
       "        vertical-align: top;\n",
       "    }\n",
       "\n",
       "    .dataframe thead th {\n",
       "        text-align: right;\n",
       "    }\n",
       "</style>\n",
       "<table border=\"1\" class=\"dataframe\">\n",
       "  <thead>\n",
       "    <tr style=\"text-align: right;\">\n",
       "      <th></th>\n",
       "      <th>total_images</th>\n",
       "      <th>last_price</th>\n",
       "      <th>total_area</th>\n",
       "      <th>first_day_exposition</th>\n",
       "      <th>rooms</th>\n",
       "      <th>ceiling_height</th>\n",
       "      <th>floors_total</th>\n",
       "      <th>living_area</th>\n",
       "      <th>floor</th>\n",
       "      <th>is_apartment</th>\n",
       "      <th>...</th>\n",
       "      <th>ponds_around3000</th>\n",
       "      <th>ponds_nearest</th>\n",
       "      <th>days_exposition</th>\n",
       "      <th>price_per_square_meter</th>\n",
       "      <th>exposition_weekday</th>\n",
       "      <th>exposition_month</th>\n",
       "      <th>exposition_year</th>\n",
       "      <th>floor_options</th>\n",
       "      <th>living_area_share</th>\n",
       "      <th>kitchen_area_share</th>\n",
       "    </tr>\n",
       "  </thead>\n",
       "  <tbody>\n",
       "    <tr>\n",
       "      <th>0</th>\n",
       "      <td>20</td>\n",
       "      <td>13000000</td>\n",
       "      <td>108.0</td>\n",
       "      <td>2019-03-07</td>\n",
       "      <td>3</td>\n",
       "      <td>2.70</td>\n",
       "      <td>16.0</td>\n",
       "      <td>51.0</td>\n",
       "      <td>8</td>\n",
       "      <td>False</td>\n",
       "      <td>...</td>\n",
       "      <td>2</td>\n",
       "      <td>755.0</td>\n",
       "      <td>NaN</td>\n",
       "      <td>120370.37</td>\n",
       "      <td>3</td>\n",
       "      <td>3</td>\n",
       "      <td>2019</td>\n",
       "      <td>другой</td>\n",
       "      <td>0.47</td>\n",
       "      <td>0.23</td>\n",
       "    </tr>\n",
       "    <tr>\n",
       "      <th>1</th>\n",
       "      <td>7</td>\n",
       "      <td>3350000</td>\n",
       "      <td>40.4</td>\n",
       "      <td>2018-12-04</td>\n",
       "      <td>1</td>\n",
       "      <td>2.65</td>\n",
       "      <td>11.0</td>\n",
       "      <td>18.6</td>\n",
       "      <td>1</td>\n",
       "      <td>False</td>\n",
       "      <td>...</td>\n",
       "      <td>0</td>\n",
       "      <td>NaN</td>\n",
       "      <td>81.0</td>\n",
       "      <td>82920.79</td>\n",
       "      <td>1</td>\n",
       "      <td>12</td>\n",
       "      <td>2018</td>\n",
       "      <td>первый</td>\n",
       "      <td>0.46</td>\n",
       "      <td>0.27</td>\n",
       "    </tr>\n",
       "    <tr>\n",
       "      <th>2</th>\n",
       "      <td>10</td>\n",
       "      <td>5196000</td>\n",
       "      <td>56.0</td>\n",
       "      <td>2015-08-20</td>\n",
       "      <td>2</td>\n",
       "      <td>2.68</td>\n",
       "      <td>5.0</td>\n",
       "      <td>34.3</td>\n",
       "      <td>4</td>\n",
       "      <td>False</td>\n",
       "      <td>...</td>\n",
       "      <td>2</td>\n",
       "      <td>574.0</td>\n",
       "      <td>558.0</td>\n",
       "      <td>92785.71</td>\n",
       "      <td>3</td>\n",
       "      <td>8</td>\n",
       "      <td>2015</td>\n",
       "      <td>другой</td>\n",
       "      <td>0.61</td>\n",
       "      <td>0.15</td>\n",
       "    </tr>\n",
       "    <tr>\n",
       "      <th>3</th>\n",
       "      <td>0</td>\n",
       "      <td>64900000</td>\n",
       "      <td>159.0</td>\n",
       "      <td>2015-07-24</td>\n",
       "      <td>3</td>\n",
       "      <td>3.13</td>\n",
       "      <td>14.0</td>\n",
       "      <td>96.3</td>\n",
       "      <td>9</td>\n",
       "      <td>False</td>\n",
       "      <td>...</td>\n",
       "      <td>3</td>\n",
       "      <td>234.0</td>\n",
       "      <td>424.0</td>\n",
       "      <td>408176.10</td>\n",
       "      <td>4</td>\n",
       "      <td>7</td>\n",
       "      <td>2015</td>\n",
       "      <td>другой</td>\n",
       "      <td>0.61</td>\n",
       "      <td>NaN</td>\n",
       "    </tr>\n",
       "    <tr>\n",
       "      <th>4</th>\n",
       "      <td>2</td>\n",
       "      <td>10000000</td>\n",
       "      <td>100.0</td>\n",
       "      <td>2018-06-19</td>\n",
       "      <td>2</td>\n",
       "      <td>3.03</td>\n",
       "      <td>14.0</td>\n",
       "      <td>32.0</td>\n",
       "      <td>13</td>\n",
       "      <td>False</td>\n",
       "      <td>...</td>\n",
       "      <td>1</td>\n",
       "      <td>48.0</td>\n",
       "      <td>121.0</td>\n",
       "      <td>100000.00</td>\n",
       "      <td>1</td>\n",
       "      <td>6</td>\n",
       "      <td>2018</td>\n",
       "      <td>другой</td>\n",
       "      <td>0.32</td>\n",
       "      <td>0.41</td>\n",
       "    </tr>\n",
       "  </tbody>\n",
       "</table>\n",
       "<p>5 rows × 29 columns</p>\n",
       "</div>"
      ],
      "text/plain": [
       "   total_images  last_price  total_area first_day_exposition  rooms  \\\n",
       "0            20    13000000       108.0           2019-03-07      3   \n",
       "1             7     3350000        40.4           2018-12-04      1   \n",
       "2            10     5196000        56.0           2015-08-20      2   \n",
       "3             0    64900000       159.0           2015-07-24      3   \n",
       "4             2    10000000       100.0           2018-06-19      2   \n",
       "\n",
       "   ceiling_height  floors_total  living_area  floor  is_apartment  ...  \\\n",
       "0            2.70          16.0         51.0      8         False  ...   \n",
       "1            2.65          11.0         18.6      1         False  ...   \n",
       "2            2.68           5.0         34.3      4         False  ...   \n",
       "3            3.13          14.0         96.3      9         False  ...   \n",
       "4            3.03          14.0         32.0     13         False  ...   \n",
       "\n",
       "   ponds_around3000  ponds_nearest  days_exposition  price_per_square_meter  \\\n",
       "0                 2          755.0              NaN               120370.37   \n",
       "1                 0            NaN             81.0                82920.79   \n",
       "2                 2          574.0            558.0                92785.71   \n",
       "3                 3          234.0            424.0               408176.10   \n",
       "4                 1           48.0            121.0               100000.00   \n",
       "\n",
       "  exposition_weekday  exposition_month  exposition_year  floor_options  \\\n",
       "0                  3                 3             2019         другой   \n",
       "1                  1                12             2018         первый   \n",
       "2                  3                 8             2015         другой   \n",
       "3                  4                 7             2015         другой   \n",
       "4                  1                 6             2018         другой   \n",
       "\n",
       "   living_area_share  kitchen_area_share  \n",
       "0               0.47                0.23  \n",
       "1               0.46                0.27  \n",
       "2               0.61                0.15  \n",
       "3               0.61                 NaN  \n",
       "4               0.32                0.41  \n",
       "\n",
       "[5 rows x 29 columns]"
      ]
     },
     "execution_count": 31,
     "metadata": {},
     "output_type": "execute_result"
    }
   ],
   "source": [
    "data['living_area_share'] = round(data['living_area'] / data['total_area'], 2)\n",
    "data['kitchen_area_share'] = round(data['kitchen_area'] / data['total_area'], 2)\n",
    "data.head()"
   ]
  },
  {
   "cell_type": "markdown",
   "metadata": {
    "pycharm": {
     "name": "#%% md\n"
    }
   },
   "source": [
    "### Вывод"
   ]
  },
  {
   "cell_type": "markdown",
   "metadata": {
    "pycharm": {
     "name": "#%% md\n"
    }
   },
   "source": [
    "Таким образом, нами были рассчитаны и добавлены в таблицу следующие данные: цена квадратного метра, день недели, месяц и год публикации объявления, этаж квартиры, соотношение жилой и общей площади, а также отношение площади кухни к общей."
   ]
  },
  {
   "cell_type": "markdown",
   "metadata": {
    "pycharm": {
     "name": "#%% md\n"
    }
   },
   "source": [
    "## Исследовательский анализ данных"
   ]
  },
  {
   "cell_type": "markdown",
   "metadata": {
    "pycharm": {
     "name": "#%% md\n"
    }
   },
   "source": [
    "Изучим следующие параметры: площадь, цена, число комнат, высота потолков."
   ]
  },
  {
   "cell_type": "code",
   "execution_count": 32,
   "metadata": {
    "pycharm": {
     "name": "#%%\n"
    }
   },
   "outputs": [
    {
     "data": {
      "text/html": [
       "<div>\n",
       "<style scoped>\n",
       "    .dataframe tbody tr th:only-of-type {\n",
       "        vertical-align: middle;\n",
       "    }\n",
       "\n",
       "    .dataframe tbody tr th {\n",
       "        vertical-align: top;\n",
       "    }\n",
       "\n",
       "    .dataframe thead th {\n",
       "        text-align: right;\n",
       "    }\n",
       "</style>\n",
       "<table border=\"1\" class=\"dataframe\">\n",
       "  <thead>\n",
       "    <tr style=\"text-align: right;\">\n",
       "      <th></th>\n",
       "      <th>total_area</th>\n",
       "      <th>last_price</th>\n",
       "      <th>rooms</th>\n",
       "      <th>ceiling_height</th>\n",
       "    </tr>\n",
       "  </thead>\n",
       "  <tbody>\n",
       "    <tr>\n",
       "      <th>count</th>\n",
       "      <td>23699.0</td>\n",
       "      <td>23699.0</td>\n",
       "      <td>23699.0</td>\n",
       "      <td>23699.0</td>\n",
       "    </tr>\n",
       "    <tr>\n",
       "      <th>mean</th>\n",
       "      <td>60.3</td>\n",
       "      <td>6541548.8</td>\n",
       "      <td>2.1</td>\n",
       "      <td>2.7</td>\n",
       "    </tr>\n",
       "    <tr>\n",
       "      <th>std</th>\n",
       "      <td>35.7</td>\n",
       "      <td>10887013.3</td>\n",
       "      <td>1.1</td>\n",
       "      <td>0.2</td>\n",
       "    </tr>\n",
       "    <tr>\n",
       "      <th>min</th>\n",
       "      <td>12.0</td>\n",
       "      <td>12190.0</td>\n",
       "      <td>0.0</td>\n",
       "      <td>2.5</td>\n",
       "    </tr>\n",
       "    <tr>\n",
       "      <th>25%</th>\n",
       "      <td>40.0</td>\n",
       "      <td>3400000.0</td>\n",
       "      <td>1.0</td>\n",
       "      <td>2.6</td>\n",
       "    </tr>\n",
       "    <tr>\n",
       "      <th>50%</th>\n",
       "      <td>52.0</td>\n",
       "      <td>4650000.0</td>\n",
       "      <td>2.0</td>\n",
       "      <td>2.7</td>\n",
       "    </tr>\n",
       "    <tr>\n",
       "      <th>75%</th>\n",
       "      <td>69.9</td>\n",
       "      <td>6800000.0</td>\n",
       "      <td>3.0</td>\n",
       "      <td>2.8</td>\n",
       "    </tr>\n",
       "    <tr>\n",
       "      <th>max</th>\n",
       "      <td>900.0</td>\n",
       "      <td>763000000.0</td>\n",
       "      <td>19.0</td>\n",
       "      <td>4.0</td>\n",
       "    </tr>\n",
       "  </tbody>\n",
       "</table>\n",
       "</div>"
      ],
      "text/plain": [
       "       total_area   last_price    rooms  ceiling_height\n",
       "count     23699.0      23699.0  23699.0         23699.0\n",
       "mean         60.3    6541548.8      2.1             2.7\n",
       "std          35.7   10887013.3      1.1             0.2\n",
       "min          12.0      12190.0      0.0             2.5\n",
       "25%          40.0    3400000.0      1.0             2.6\n",
       "50%          52.0    4650000.0      2.0             2.7\n",
       "75%          69.9    6800000.0      3.0             2.8\n",
       "max         900.0  763000000.0     19.0             4.0"
      ]
     },
     "execution_count": 32,
     "metadata": {},
     "output_type": "execute_result"
    }
   ],
   "source": [
    "data[['total_area', 'last_price', 'rooms', 'ceiling_height']].describe().round(1)"
   ]
  },
  {
   "cell_type": "markdown",
   "metadata": {
    "pycharm": {
     "name": "#%% md\n"
    }
   },
   "source": [
    "Среднее значение площади квартиры составляет 60,3 кв.м., а медианное - 52 кв.м. Минимальная площадь, с которой продается квартира - 12 кв.м., а максимальная - 900 кв.м.\n",
    "\n",
    "Среднее значение цены квартиры составляет 6 541 549 руб., а медианное - 4 650 000 руб. Минимальная цена, за которую продают квартиру - 12 190 руб., а максимальная - 763 000 000 руб.\n",
    "\n",
    "В среднем в продаваемых квартирах 2 комнаты, столько же составляет их медианное значение. Есть квартиры, в которых нет комнат, а есть квартиры с 19 комнатами.\n",
    "\n",
    "Среднее значение высоты потолка квартиры составляет 2,1 м, а медианное - 2 м. Минимальная высота потолка составляет 2,5 метра, а максимальная - 4 м."
   ]
  },
  {
   "cell_type": "markdown",
   "metadata": {
    "pycharm": {
     "name": "#%% md\n"
    }
   },
   "source": [
    "Построим гистограммы для площади, цены, числа комнат и высоты потолков."
   ]
  },
  {
   "cell_type": "code",
   "execution_count": 33,
   "metadata": {
    "pycharm": {
     "name": "#%%\n"
    }
   },
   "outputs": [
    {
     "name": "stdout",
     "output_type": "stream",
     "text": [
      "Площадь квартиры, кв.м\n"
     ]
    },
    {
     "data": {
      "image/png": "[encoded data removed]",
      "text/plain": [
       "<Figure size 432x288 with 1 Axes>"
      ]
     },
     "metadata": {
      "needs_background": "light"
     },
     "output_type": "display_data"
    },
    {
     "name": "stdout",
     "output_type": "stream",
     "text": [
      "Цена на момент снятия с публикации, тыс. руб.\n"
     ]
    },
    {
     "data": {
      "image/png": "[encoded data removed]",
      "text/plain": [
       "<Figure size 432x288 with 1 Axes>"
      ]
     },
     "metadata": {
      "needs_background": "light"
     },
     "output_type": "display_data"
    },
    {
     "name": "stdout",
     "output_type": "stream",
     "text": [
      "Число комнат, шт.\n"
     ]
    },
    {
     "data": {
      "image/png": "[encoded data removed]",
      "text/plain": [
       "<Figure size 432x288 with 1 Axes>"
      ]
     },
     "metadata": {
      "needs_background": "light"
     },
     "output_type": "display_data"
    },
    {
     "name": "stdout",
     "output_type": "stream",
     "text": [
      "Высота потолков, м\n"
     ]
    },
    {
     "data": {
      "image/png": "[encoded data removed]",
      "text/plain": [
       "<Figure size 432x288 with 1 Axes>"
      ]
     },
     "metadata": {
      "needs_background": "light"
     },
     "output_type": "display_data"
    }
   ],
   "source": [
    "import matplotlib.pyplot as plt\n",
    "\n",
    "print('Площадь квартиры, кв.м')\n",
    "data['total_area'].hist(bins=10, range=(0,250))\n",
    "plt.show()\n",
    "\n",
    "print('Цена на момент снятия с публикации, тыс. руб.')\n",
    "(data['last_price'] / 1000).hist(bins=12, range=(0, 30000))\n",
    "plt.show()\n",
    "\n",
    "print('Число комнат, шт.')\n",
    "data['rooms'].hist(bins=8, range=(0,8))\n",
    "plt.show()\n",
    "\n",
    "print('Высота потолков, м')\n",
    "data['ceiling_height'].hist(bins=11,range=(2.5,3.6))\n",
    "plt.show()"
   ]
  },
  {
   "cell_type": "markdown",
   "metadata": {
    "pycharm": {
     "name": "#%% md\n"
    }
   },
   "source": [
    "Изучим время продажи квартиры. "
   ]
  },
  {
   "cell_type": "code",
   "execution_count": 34,
   "metadata": {
    "pycharm": {
     "name": "#%%\n"
    }
   },
   "outputs": [
    {
     "data": {
      "text/plain": [
       "count    20518.000000\n",
       "mean       180.888634\n",
       "std        219.727988\n",
       "min          1.000000\n",
       "25%         45.000000\n",
       "50%         95.000000\n",
       "75%        232.000000\n",
       "max       1580.000000\n",
       "Name: days_exposition, dtype: float64"
      ]
     },
     "execution_count": 34,
     "metadata": {},
     "output_type": "execute_result"
    }
   ],
   "source": [
    "data['days_exposition'].describe()"
   ]
  },
  {
   "cell_type": "code",
   "execution_count": 35,
   "metadata": {
    "pycharm": {
     "name": "#%%\n"
    }
   },
   "outputs": [
    {
     "data": {
      "text/plain": [
       "<AxesSubplot:>"
      ]
     },
     "execution_count": 35,
     "metadata": {},
     "output_type": "execute_result"
    },
    {
     "data": {
      "image/png": "[encoded data removed]",
      "text/plain": [
       "<Figure size 432x288 with 1 Axes>"
      ]
     },
     "metadata": {
      "needs_background": "light"
     },
     "output_type": "display_data"
    }
   ],
   "source": [
    "data['days_exposition'].hist(bins=14,range=(0,1400))"
   ]
  },
  {
   "cell_type": "markdown",
   "metadata": {
    "pycharm": {
     "name": "#%% md\n"
    }
   },
   "source": [
    "В среднем, квартира продается за 181 день. Медианное значение срока продажи квартиры составляет 95 дней, что является более приближенным к реальности, поскольку подтверждается гистограммой.\n",
    "\n",
    "Если квартира продавалась до 45 дней, то её продажа произошла очень быстро (быстрее 75% выборки). Если квартира продается более 232 дней, то её продажа происходит необычно долго (дольше 75% выборки)."
   ]
  },
  {
   "cell_type": "markdown",
   "metadata": {
    "pycharm": {
     "name": "#%% md\n"
    }
   },
   "source": [
    "Перейдем к удалению редких и выбивающихся значений."
   ]
  },
  {
   "cell_type": "code",
   "execution_count": 36,
   "metadata": {
    "pycharm": {
     "name": "#%%\n"
    }
   },
   "outputs": [
    {
     "data": {
      "image/png": "[encoded data removed]",
      "text/plain": [
       "<Figure size 1008x720 with 1 Axes>"
      ]
     },
     "metadata": {
      "needs_background": "light"
     },
     "output_type": "display_data"
    },
    {
     "data": {
      "image/png": "[encoded data removed]",
      "text/plain": [
       "<Figure size 1008x720 with 1 Axes>"
      ]
     },
     "metadata": {
      "needs_background": "light"
     },
     "output_type": "display_data"
    }
   ],
   "source": [
    "data.boxplot(column='total_area', figsize=(14,10))\n",
    "plt.ylim(0,400)\n",
    "plt.show()\n",
    "\n",
    "data.boxplot(column='total_area', figsize=(14,10))\n",
    "plt.ylim(180,320)\n",
    "plt.show()"
   ]
  },
  {
   "cell_type": "markdown",
   "metadata": {
    "pycharm": {
     "name": "#%% md\n"
    }
   },
   "source": [
    "Из второго графика видно, что определенная \"плотность\" данных по площади квартиры сохраняется вплоть до значения 260."
   ]
  },
  {
   "cell_type": "code",
   "execution_count": 37,
   "metadata": {
    "pycharm": {
     "name": "#%%\n"
    }
   },
   "outputs": [],
   "source": [
    "data_filtered = data.query('total_area <= 260')"
   ]
  },
  {
   "cell_type": "code",
   "execution_count": 38,
   "metadata": {
    "pycharm": {
     "name": "#%%\n"
    }
   },
   "outputs": [
    {
     "data": {
      "image/png": "[encoded data removed]",
      "text/plain": [
       "<Figure size 1008x720 with 1 Axes>"
      ]
     },
     "metadata": {
      "needs_background": "light"
     },
     "output_type": "display_data"
    },
    {
     "data": {
      "text/plain": [
       "(40000000.0, 120000000.0)"
      ]
     },
     "execution_count": 38,
     "metadata": {},
     "output_type": "execute_result"
    },
    {
     "data": {
      "image/png": "[encoded data removed]",
      "text/plain": [
       "<Figure size 1008x720 with 1 Axes>"
      ]
     },
     "metadata": {
      "needs_background": "light"
     },
     "output_type": "display_data"
    }
   ],
   "source": [
    "data_filtered.boxplot(column='last_price', figsize=(14,10))\n",
    "plt.show()\n",
    "\n",
    "data_filtered.boxplot(column='last_price', figsize=(14,10))\n",
    "plt.ylim(0.4e+08,1.2e+08)"
   ]
  },
  {
   "cell_type": "markdown",
   "metadata": {
    "pycharm": {
     "name": "#%% md\n"
    }
   },
   "source": [
    "На этом графике видно, что \"плотность\" данных о цене квартиры сохраняется вплоть до значения 0.7e+08 (70 000 000 руб.)."
   ]
  },
  {
   "cell_type": "code",
   "execution_count": 39,
   "metadata": {
    "pycharm": {
     "name": "#%%\n"
    }
   },
   "outputs": [],
   "source": [
    "data_filtered = data_filtered.query('last_price <= 0.7e+08')"
   ]
  },
  {
   "cell_type": "code",
   "execution_count": 40,
   "metadata": {
    "pycharm": {
     "name": "#%%\n"
    }
   },
   "outputs": [
    {
     "data": {
      "image/png": "[encoded data removed]",
      "text/plain": [
       "<Figure size 1008x720 with 1 Axes>"
      ]
     },
     "metadata": {
      "needs_background": "light"
     },
     "output_type": "display_data"
    },
    {
     "data": {
      "text/plain": [
       "(3.0, 4.0)"
      ]
     },
     "execution_count": 40,
     "metadata": {},
     "output_type": "execute_result"
    },
    {
     "data": {
      "image/png": "[encoded data removed]",
      "text/plain": [
       "<Figure size 1008x720 with 1 Axes>"
      ]
     },
     "metadata": {
      "needs_background": "light"
     },
     "output_type": "display_data"
    }
   ],
   "source": [
    "data_filtered.boxplot(column='ceiling_height', figsize=(14,10))\n",
    "plt.show()\n",
    "\n",
    "data_filtered.boxplot(column='ceiling_height', figsize=(14,10))\n",
    "plt.ylim(3,4)"
   ]
  },
  {
   "cell_type": "markdown",
   "metadata": {
    "pycharm": {
     "name": "#%% md\n"
    }
   },
   "source": [
    "\"Плотность\" данных о высоте потолка квартиры сохраняется вплоть до значения 3,7."
   ]
  },
  {
   "cell_type": "code",
   "execution_count": 41,
   "metadata": {
    "pycharm": {
     "name": "#%%\n"
    }
   },
   "outputs": [],
   "source": [
    "data_filtered = data_filtered.query('ceiling_height <= 3.7')"
   ]
  },
  {
   "cell_type": "code",
   "execution_count": 42,
   "metadata": {
    "pycharm": {
     "name": "#%%\n"
    }
   },
   "outputs": [
    {
     "data": {
      "image/png": "[encoded data removed]",
      "text/plain": [
       "<Figure size 1008x720 with 1 Axes>"
      ]
     },
     "metadata": {
      "needs_background": "light"
     },
     "output_type": "display_data"
    },
    {
     "data": {
      "text/plain": [
       "(1000.0, 1600.0)"
      ]
     },
     "execution_count": 42,
     "metadata": {},
     "output_type": "execute_result"
    },
    {
     "data": {
      "image/png": "[encoded data removed]",
      "text/plain": [
       "<Figure size 1008x720 with 1 Axes>"
      ]
     },
     "metadata": {
      "needs_background": "light"
     },
     "output_type": "display_data"
    }
   ],
   "source": [
    "data_filtered.boxplot(column='days_exposition', figsize=(14,10))\n",
    "plt.show()\n",
    "\n",
    "data_filtered.boxplot(column='days_exposition', figsize=(14,10))\n",
    "plt.ylim(1000,1600)"
   ]
  },
  {
   "cell_type": "markdown",
   "metadata": {
    "pycharm": {
     "name": "#%% md\n"
    }
   },
   "source": [
    "\"Плотность\" данных о сроках продажи квартиры сохраняется вплоть до значения 1380 дней."
   ]
  },
  {
   "cell_type": "code",
   "execution_count": 43,
   "metadata": {
    "pycharm": {
     "name": "#%%\n"
    }
   },
   "outputs": [],
   "source": [
    "data_filtered = data_filtered.query('days_exposition <= 1380')"
   ]
  },
  {
   "cell_type": "markdown",
   "metadata": {
    "pycharm": {
     "name": "#%% md\n"
    }
   },
   "source": [
    "Перейдем к изучению факторов, влияющих на стоимость квартиры."
   ]
  },
  {
   "cell_type": "code",
   "execution_count": 44,
   "metadata": {
    "pycharm": {
     "name": "#%%\n"
    }
   },
   "outputs": [
    {
     "data": {
      "text/plain": [
       "<AxesSubplot:xlabel='total_area', ylabel='last_price'>"
      ]
     },
     "execution_count": 44,
     "metadata": {},
     "output_type": "execute_result"
    },
    {
     "data": {
      "image/png": "[encoded data removed]",
      "text/plain": [
       "<Figure size 432x288 with 1 Axes>"
      ]
     },
     "metadata": {
      "needs_background": "light"
     },
     "output_type": "display_data"
    }
   ],
   "source": [
    "data_filtered.plot(x='total_area', y='last_price', kind='scatter', alpha=0.3)"
   ]
  },
  {
   "cell_type": "markdown",
   "metadata": {
    "pycharm": {
     "name": "#%% md\n"
    }
   },
   "source": [
    "Очевидно, что чем больше площадь, тем больше цена. Однако данная зависимость носит четкий характер примерно до 150 кв.м, затем, похоже, начинают играть роль иные факторы."
   ]
  },
  {
   "cell_type": "code",
   "execution_count": 45,
   "metadata": {
    "pycharm": {
     "name": "#%%\n"
    }
   },
   "outputs": [
    {
     "data": {
      "text/plain": [
       "<AxesSubplot:xlabel='rooms', ylabel='last_price'>"
      ]
     },
     "execution_count": 45,
     "metadata": {},
     "output_type": "execute_result"
    },
    {
     "data": {
      "image/png": "[encoded data removed]",
      "text/plain": [
       "<Figure size 432x288 with 1 Axes>"
      ]
     },
     "metadata": {
      "needs_background": "light"
     },
     "output_type": "display_data"
    }
   ],
   "source": [
    "data_filtered.plot(x='rooms', y='last_price', kind='scatter', alpha=0.3, xlim = (0, 8))"
   ]
  },
  {
   "cell_type": "markdown",
   "metadata": {
    "pycharm": {
     "name": "#%% md\n"
    }
   },
   "source": [
    "Чем выше число комнат, тем больше цена квартиры."
   ]
  },
  {
   "cell_type": "code",
   "execution_count": 46,
   "metadata": {
    "pycharm": {
     "name": "#%%\n"
    }
   },
   "outputs": [
    {
     "data": {
      "text/plain": [
       "<AxesSubplot:xlabel='cityCenters_nearest', ylabel='last_price'>"
      ]
     },
     "execution_count": 46,
     "metadata": {},
     "output_type": "execute_result"
    },
    {
     "data": {
      "image/png": "[encoded data removed]",
      "text/plain": [
       "<Figure size 432x288 with 1 Axes>"
      ]
     },
     "metadata": {
      "needs_background": "light"
     },
     "output_type": "display_data"
    }
   ],
   "source": [
    "data_filtered.plot(x='cityCenters_nearest', y='last_price', kind='scatter', alpha=0.3)"
   ]
  },
  {
   "cell_type": "markdown",
   "metadata": {
    "pycharm": {
     "name": "#%% md\n"
    }
   },
   "source": [
    "Зависимость похожа на гиперболическую: чем ближе квартира находится к центру, тем больше увеличивается стоимость квартир. И наоборот, чем дальше квартира от центра, тем меньше падает её цена."
   ]
  },
  {
   "cell_type": "code",
   "execution_count": 47,
   "metadata": {
    "pycharm": {
     "name": "#%%\n"
    }
   },
   "outputs": [
    {
     "data": {
      "text/plain": [
       "last_price             1.000000\n",
       "total_area             0.751729\n",
       "rooms                  0.467177\n",
       "cityCenters_nearest   -0.315896\n",
       "Name: last_price, dtype: float64"
      ]
     },
     "execution_count": 47,
     "metadata": {},
     "output_type": "execute_result"
    }
   ],
   "source": [
    "data_filtered[['last_price', 'total_area',  'rooms', 'cityCenters_nearest',]].corr()['last_price']"
   ]
  },
  {
   "cell_type": "markdown",
   "metadata": {
    "pycharm": {
     "name": "#%% md\n"
    }
   },
   "source": [
    "Указанные ранее выводы подтверждаются корреляцией: самая большая прямая зависимость между ценой и площадью, чуть меньше связаны цена и число комнат. Зависимость между стоимостью и удаленностью от центра обратнопропорциональная и относительно слабая."
   ]
  },
  {
   "cell_type": "code",
   "execution_count": 48,
   "metadata": {
    "pycharm": {
     "name": "#%%\n"
    }
   },
   "outputs": [
    {
     "data": {
      "text/plain": [
       "<AxesSubplot:xlabel='floor_options'>"
      ]
     },
     "execution_count": 48,
     "metadata": {},
     "output_type": "execute_result"
    },
    {
     "data": {
      "image/png": "[encoded data removed]",
      "text/plain": [
       "<Figure size 432x288 with 1 Axes>"
      ]
     },
     "metadata": {
      "needs_background": "light"
     },
     "output_type": "display_data"
    }
   ],
   "source": [
    "data_filtered.groupby('floor_options')['last_price'].median().plot()"
   ]
  },
  {
   "cell_type": "markdown",
   "metadata": {
    "pycharm": {
     "name": "#%% md\n"
    }
   },
   "source": [
    "Очевидно, что средняя цена квартиры на первом этаже намного меньше цены квартиры на последнем этаже, а средняя стоимость квартир не на первом и последних этажах выше остальных."
   ]
  },
  {
   "cell_type": "code",
   "execution_count": 49,
   "metadata": {
    "pycharm": {
     "name": "#%%\n"
    }
   },
   "outputs": [
    {
     "data": {
      "text/plain": [
       "<AxesSubplot:xlabel='exposition_weekday'>"
      ]
     },
     "execution_count": 49,
     "metadata": {},
     "output_type": "execute_result"
    },
    {
     "data": {
      "image/png": "[encoded data removed]",
      "text/plain": [
       "<Figure size 432x288 with 1 Axes>"
      ]
     },
     "metadata": {
      "needs_background": "light"
     },
     "output_type": "display_data"
    }
   ],
   "source": [
    "data_filtered.groupby('exposition_weekday')['last_price'].median().plot()"
   ]
  },
  {
   "cell_type": "markdown",
   "metadata": {
    "pycharm": {
     "name": "#%% md\n"
    }
   },
   "source": [
    "0 - воскресенье, 6 - суббота.\n",
    " Средняя стоимость квартир, размещенных в понедельник выше, чем по неделе. А средняя стоимость квартир, размещенных в четверг и субботу, ниже остальных."
   ]
  },
  {
   "cell_type": "code",
   "execution_count": 50,
   "metadata": {
    "pycharm": {
     "name": "#%%\n"
    }
   },
   "outputs": [
    {
     "data": {
      "text/plain": [
       "<AxesSubplot:xlabel='exposition_month'>"
      ]
     },
     "execution_count": 50,
     "metadata": {},
     "output_type": "execute_result"
    },
    {
     "data": {
      "image/png": "[encoded data removed]",
      "text/plain": [
       "<Figure size 432x288 with 1 Axes>"
      ]
     },
     "metadata": {
      "needs_background": "light"
     },
     "output_type": "display_data"
    }
   ],
   "source": [
    "data_filtered.groupby('exposition_month')['last_price'].median().plot()"
   ]
  },
  {
   "cell_type": "markdown",
   "metadata": {
    "pycharm": {
     "name": "#%% md\n"
    }
   },
   "source": [
    "В июне продаются самые дешевые квартиры, а самые дорогие - в сентябре и ноябре. Также в марте наблюдается небольшой провал в стоимости квартир."
   ]
  },
  {
   "cell_type": "code",
   "execution_count": 51,
   "metadata": {
    "pycharm": {
     "name": "#%%\n"
    }
   },
   "outputs": [
    {
     "data": {
      "text/plain": [
       "<AxesSubplot:xlabel='exposition_year'>"
      ]
     },
     "execution_count": 51,
     "metadata": {},
     "output_type": "execute_result"
    },
    {
     "data": {
      "image/png": "[encoded data removed]",
      "text/plain": [
       "<Figure size 432x288 with 1 Axes>"
      ]
     },
     "metadata": {
      "needs_background": "light"
     },
     "output_type": "display_data"
    }
   ],
   "source": [
    "data_filtered.groupby('exposition_year')['last_price'].median().plot()"
   ]
  },
  {
   "cell_type": "markdown",
   "metadata": {
    "pycharm": {
     "name": "#%% md\n"
    }
   },
   "source": [
    "С 2014 по 2016 наблюдается сильное падение стоимости квартир. С 2016 по 2018 падение сильно замедлилось, а с 2018 стоимость квартир снова начала расти."
   ]
  },
  {
   "cell_type": "markdown",
   "metadata": {
    "pycharm": {
     "name": "#%% md\n"
    }
   },
   "source": [
    "Перейдем к изучению объявлений в разрезе населенных пунктов."
   ]
  },
  {
   "cell_type": "code",
   "execution_count": 52,
   "metadata": {
    "pycharm": {
     "name": "#%%\n"
    }
   },
   "outputs": [
    {
     "data": {
      "text/html": [
       "<div>\n",
       "<style scoped>\n",
       "    .dataframe tbody tr th:only-of-type {\n",
       "        vertical-align: middle;\n",
       "    }\n",
       "\n",
       "    .dataframe tbody tr th {\n",
       "        vertical-align: top;\n",
       "    }\n",
       "\n",
       "    .dataframe thead th {\n",
       "        text-align: right;\n",
       "    }\n",
       "</style>\n",
       "<table border=\"1\" class=\"dataframe\">\n",
       "  <thead>\n",
       "    <tr style=\"text-align: right;\">\n",
       "      <th></th>\n",
       "      <th>count</th>\n",
       "      <th>mean</th>\n",
       "    </tr>\n",
       "    <tr>\n",
       "      <th>locality_name</th>\n",
       "      <th></th>\n",
       "      <th></th>\n",
       "    </tr>\n",
       "  </thead>\n",
       "  <tbody>\n",
       "    <tr>\n",
       "      <th>Санкт-Петербург</th>\n",
       "      <td>13420</td>\n",
       "      <td>102876.175</td>\n",
       "    </tr>\n",
       "    <tr>\n",
       "      <th>посёлок Мурино</th>\n",
       "      <td>515</td>\n",
       "      <td>86111.110</td>\n",
       "    </tr>\n",
       "    <tr>\n",
       "      <th>посёлок Шушары</th>\n",
       "      <td>407</td>\n",
       "      <td>76125.000</td>\n",
       "    </tr>\n",
       "    <tr>\n",
       "      <th>Всеволожск</th>\n",
       "      <td>336</td>\n",
       "      <td>65789.470</td>\n",
       "    </tr>\n",
       "    <tr>\n",
       "      <th>Колпино</th>\n",
       "      <td>307</td>\n",
       "      <td>73913.040</td>\n",
       "    </tr>\n",
       "    <tr>\n",
       "      <th>посёлок Парголово</th>\n",
       "      <td>301</td>\n",
       "      <td>91346.150</td>\n",
       "    </tr>\n",
       "    <tr>\n",
       "      <th>деревня Кудрово</th>\n",
       "      <td>299</td>\n",
       "      <td>91860.470</td>\n",
       "    </tr>\n",
       "    <tr>\n",
       "      <th>Пушкин</th>\n",
       "      <td>298</td>\n",
       "      <td>97725.710</td>\n",
       "    </tr>\n",
       "    <tr>\n",
       "      <th>Гатчина</th>\n",
       "      <td>267</td>\n",
       "      <td>67187.500</td>\n",
       "    </tr>\n",
       "    <tr>\n",
       "      <th>Выборг</th>\n",
       "      <td>205</td>\n",
       "      <td>56944.440</td>\n",
       "    </tr>\n",
       "  </tbody>\n",
       "</table>\n",
       "</div>"
      ],
      "text/plain": [
       "                   count        mean\n",
       "locality_name                       \n",
       "Санкт-Петербург    13420  102876.175\n",
       "посёлок Мурино       515   86111.110\n",
       "посёлок Шушары       407   76125.000\n",
       "Всеволожск           336   65789.470\n",
       "Колпино              307   73913.040\n",
       "посёлок Парголово    301   91346.150\n",
       "деревня Кудрово      299   91860.470\n",
       "Пушкин               298   97725.710\n",
       "Гатчина              267   67187.500\n",
       "Выборг               205   56944.440"
      ]
     },
     "execution_count": 52,
     "metadata": {},
     "output_type": "execute_result"
    }
   ],
   "source": [
    "result = data_filtered.pivot_table(index='locality_name', values='price_per_square_meter', aggfunc=['count', 'median'])\n",
    "result.columns = ['count', 'mean']\n",
    "result.sort_values('count', ascending=False).head(10)"
   ]
  },
  {
   "cell_type": "markdown",
   "metadata": {
    "pycharm": {
     "name": "#%% md\n"
    }
   },
   "source": [
    "Таким образом, в Санкт-Петербурге наблюдаются самые высокие цены на квартиры. Чуть меньше стоимость в Пушкине и Кудрово.\n",
    "В Топ-10 квартир по стоимости наименьшая цена наблюдается в Всеволожске и Выборге."
   ]
  },
  {
   "cell_type": "markdown",
   "metadata": {
    "pycharm": {
     "name": "#%% md\n"
    }
   },
   "source": [
    "Изучим квартиры в Санкт-Петербурге."
   ]
  },
  {
   "cell_type": "code",
   "execution_count": 53,
   "metadata": {
    "pycharm": {
     "name": "#%%\n"
    }
   },
   "outputs": [
    {
     "data": {
      "text/plain": [
       "<AxesSubplot:xlabel='center_distance'>"
      ]
     },
     "execution_count": 53,
     "metadata": {},
     "output_type": "execute_result"
    },
    {
     "data": {
      "image/png": "[encoded data removed]",
      "text/plain": [
       "<Figure size 864x504 with 1 Axes>"
      ]
     },
     "metadata": {
      "needs_background": "light"
     },
     "output_type": "display_data"
    }
   ],
   "source": [
    "data_filtered['center_distance'] = round(data_filtered['cityCenters_nearest'] / 1000, 0)\n",
    "\n",
    "data_filtered_spb = data_filtered[data_filtered['locality_name'] == 'Санкт-Петербург']\n",
    "result = data_filtered_spb.pivot_table(index='center_distance', values='last_price', aggfunc=['median'])\n",
    "result.columns = ['median_last_price']\n",
    "\n",
    "result.plot(figsize = (12,7))"
   ]
  },
  {
   "cell_type": "markdown",
   "metadata": {
    "pycharm": {
     "name": "#%% md\n"
    }
   },
   "source": [
    "От 0 до 3 км наблюдается изменение стоимости квартир. Таким образом, радиус центра города составляет примерно 3 км."
   ]
  },
  {
   "cell_type": "markdown",
   "metadata": {
    "pycharm": {
     "name": "#%% md\n"
    }
   },
   "source": [
    "Перейдем к изучению квартир в центре Санкт-Петербурга."
   ]
  },
  {
   "cell_type": "code",
   "execution_count": 54,
   "metadata": {
    "pycharm": {
     "name": "#%%\n"
    }
   },
   "outputs": [
    {
     "name": "stdout",
     "output_type": "stream",
     "text": [
      "Данные по базе квартир\n"
     ]
    },
    {
     "data": {
      "text/html": [
       "<div>\n",
       "<style scoped>\n",
       "    .dataframe tbody tr th:only-of-type {\n",
       "        vertical-align: middle;\n",
       "    }\n",
       "\n",
       "    .dataframe tbody tr th {\n",
       "        vertical-align: top;\n",
       "    }\n",
       "\n",
       "    .dataframe thead th {\n",
       "        text-align: right;\n",
       "    }\n",
       "</style>\n",
       "<table border=\"1\" class=\"dataframe\">\n",
       "  <thead>\n",
       "    <tr style=\"text-align: right;\">\n",
       "      <th></th>\n",
       "      <th>total_area</th>\n",
       "      <th>last_price</th>\n",
       "      <th>rooms</th>\n",
       "      <th>ceiling_height</th>\n",
       "    </tr>\n",
       "  </thead>\n",
       "  <tbody>\n",
       "    <tr>\n",
       "      <th>count</th>\n",
       "      <td>20264.00</td>\n",
       "      <td>20264.00</td>\n",
       "      <td>20264.0</td>\n",
       "      <td>20264.00</td>\n",
       "    </tr>\n",
       "    <tr>\n",
       "      <th>mean</th>\n",
       "      <td>57.27</td>\n",
       "      <td>5740891.06</td>\n",
       "      <td>2.0</td>\n",
       "      <td>2.70</td>\n",
       "    </tr>\n",
       "    <tr>\n",
       "      <th>std</th>\n",
       "      <td>26.97</td>\n",
       "      <td>4883292.06</td>\n",
       "      <td>1.0</td>\n",
       "      <td>0.19</td>\n",
       "    </tr>\n",
       "    <tr>\n",
       "      <th>min</th>\n",
       "      <td>12.00</td>\n",
       "      <td>12190.00</td>\n",
       "      <td>0.0</td>\n",
       "      <td>2.50</td>\n",
       "    </tr>\n",
       "    <tr>\n",
       "      <th>25%</th>\n",
       "      <td>39.30</td>\n",
       "      <td>3400000.00</td>\n",
       "      <td>1.0</td>\n",
       "      <td>2.59</td>\n",
       "    </tr>\n",
       "    <tr>\n",
       "      <th>50%</th>\n",
       "      <td>50.40</td>\n",
       "      <td>4500000.00</td>\n",
       "      <td>2.0</td>\n",
       "      <td>2.66</td>\n",
       "    </tr>\n",
       "    <tr>\n",
       "      <th>75%</th>\n",
       "      <td>67.00</td>\n",
       "      <td>6400000.00</td>\n",
       "      <td>3.0</td>\n",
       "      <td>2.76</td>\n",
       "    </tr>\n",
       "    <tr>\n",
       "      <th>max</th>\n",
       "      <td>259.60</td>\n",
       "      <td>68500000.00</td>\n",
       "      <td>14.0</td>\n",
       "      <td>3.70</td>\n",
       "    </tr>\n",
       "  </tbody>\n",
       "</table>\n",
       "</div>"
      ],
      "text/plain": [
       "       total_area   last_price    rooms  ceiling_height\n",
       "count    20264.00     20264.00  20264.0        20264.00\n",
       "mean        57.27   5740891.06      2.0            2.70\n",
       "std         26.97   4883292.06      1.0            0.19\n",
       "min         12.00     12190.00      0.0            2.50\n",
       "25%         39.30   3400000.00      1.0            2.59\n",
       "50%         50.40   4500000.00      2.0            2.66\n",
       "75%         67.00   6400000.00      3.0            2.76\n",
       "max        259.60  68500000.00     14.0            3.70"
      ]
     },
     "metadata": {},
     "output_type": "display_data"
    },
    {
     "name": "stdout",
     "output_type": "stream",
     "text": [
      "Данные по центру Санкт-Петербурга\n"
     ]
    },
    {
     "data": {
      "text/html": [
       "<div>\n",
       "<style scoped>\n",
       "    .dataframe tbody tr th:only-of-type {\n",
       "        vertical-align: middle;\n",
       "    }\n",
       "\n",
       "    .dataframe tbody tr th {\n",
       "        vertical-align: top;\n",
       "    }\n",
       "\n",
       "    .dataframe thead th {\n",
       "        text-align: right;\n",
       "    }\n",
       "</style>\n",
       "<table border=\"1\" class=\"dataframe\">\n",
       "  <thead>\n",
       "    <tr style=\"text-align: right;\">\n",
       "      <th></th>\n",
       "      <th>total_area</th>\n",
       "      <th>last_price</th>\n",
       "      <th>rooms</th>\n",
       "      <th>ceiling_height</th>\n",
       "    </tr>\n",
       "  </thead>\n",
       "  <tbody>\n",
       "    <tr>\n",
       "      <th>count</th>\n",
       "      <td>655.00</td>\n",
       "      <td>655.00</td>\n",
       "      <td>655.00</td>\n",
       "      <td>655.00</td>\n",
       "    </tr>\n",
       "    <tr>\n",
       "      <th>mean</th>\n",
       "      <td>89.61</td>\n",
       "      <td>11388010.64</td>\n",
       "      <td>3.02</td>\n",
       "      <td>3.04</td>\n",
       "    </tr>\n",
       "    <tr>\n",
       "      <th>std</th>\n",
       "      <td>41.63</td>\n",
       "      <td>8312924.07</td>\n",
       "      <td>1.42</td>\n",
       "      <td>0.29</td>\n",
       "    </tr>\n",
       "    <tr>\n",
       "      <th>min</th>\n",
       "      <td>12.00</td>\n",
       "      <td>2100000.00</td>\n",
       "      <td>0.00</td>\n",
       "      <td>2.50</td>\n",
       "    </tr>\n",
       "    <tr>\n",
       "      <th>25%</th>\n",
       "      <td>60.72</td>\n",
       "      <td>6800000.00</td>\n",
       "      <td>2.00</td>\n",
       "      <td>2.82</td>\n",
       "    </tr>\n",
       "    <tr>\n",
       "      <th>50%</th>\n",
       "      <td>81.50</td>\n",
       "      <td>9000000.00</td>\n",
       "      <td>3.00</td>\n",
       "      <td>3.00</td>\n",
       "    </tr>\n",
       "    <tr>\n",
       "      <th>75%</th>\n",
       "      <td>108.00</td>\n",
       "      <td>13000000.00</td>\n",
       "      <td>4.00</td>\n",
       "      <td>3.23</td>\n",
       "    </tr>\n",
       "    <tr>\n",
       "      <th>max</th>\n",
       "      <td>253.70</td>\n",
       "      <td>68000000.00</td>\n",
       "      <td>14.00</td>\n",
       "      <td>3.70</td>\n",
       "    </tr>\n",
       "  </tbody>\n",
       "</table>\n",
       "</div>"
      ],
      "text/plain": [
       "       total_area   last_price   rooms  ceiling_height\n",
       "count      655.00       655.00  655.00          655.00\n",
       "mean        89.61  11388010.64    3.02            3.04\n",
       "std         41.63   8312924.07    1.42            0.29\n",
       "min         12.00   2100000.00    0.00            2.50\n",
       "25%         60.72   6800000.00    2.00            2.82\n",
       "50%         81.50   9000000.00    3.00            3.00\n",
       "75%        108.00  13000000.00    4.00            3.23\n",
       "max        253.70  68000000.00   14.00            3.70"
      ]
     },
     "metadata": {},
     "output_type": "display_data"
    }
   ],
   "source": [
    "data_filtered_spb_centre = data_filtered.query('center_distance <= 3')\n",
    "\n",
    "print('Данные по базе квартир')\n",
    "display(data_filtered[['total_area', 'last_price', 'rooms', 'ceiling_height']].describe().round(2))\n",
    "print('Данные по центру Санкт-Петербурга')\n",
    "display(data_filtered_spb_centre[['total_area', 'last_price', 'rooms', 'ceiling_height']].describe().round(2))"
   ]
  },
  {
   "cell_type": "markdown",
   "metadata": {
    "pycharm": {
     "name": "#%% md\n"
    }
   },
   "source": [
    "Всего в очищенной от выбросов базе 20264 объявлений о продаже квартир, из них только 655 находятся в центре города.\n",
    "\n",
    "Можно выделить следующие параметры для сравнения:\n",
    "* Медианная площадь квартир по всей базе составляет 50 кв.м, а в центре - 81 кв.м.\n",
    "* Медианная цена квартир по всей базе составляет 4 500 000 руб., а в центре - 9 000 000 руб.\n",
    "* Медианная число комнат квартир по всей базе составляет 2 шт., а в центре - 3 шт.\n",
    "* Медианная высота потолка квартир по всей базе составляет 2,66 м, а в центре - 3 м."
   ]
  },
  {
   "cell_type": "markdown",
   "metadata": {
    "pycharm": {
     "name": "#%% md\n"
    }
   },
   "source": [
    "Изучим влияние различных факторов на стоимость квартир в центре Санкт-Петербурга."
   ]
  },
  {
   "cell_type": "code",
   "execution_count": 55,
   "metadata": {
    "pycharm": {
     "name": "#%%\n"
    }
   },
   "outputs": [
    {
     "data": {
      "text/plain": [
       "<AxesSubplot:xlabel='rooms', ylabel='last_price'>"
      ]
     },
     "execution_count": 55,
     "metadata": {},
     "output_type": "execute_result"
    },
    {
     "data": {
      "image/png": "[encoded data removed]",
      "text/plain": [
       "<Figure size 432x288 with 1 Axes>"
      ]
     },
     "metadata": {
      "needs_background": "light"
     },
     "output_type": "display_data"
    }
   ],
   "source": [
    "data_filtered_spb_centre.plot(x='rooms', y='last_price', kind='scatter', alpha=0.3)"
   ]
  },
  {
   "cell_type": "markdown",
   "metadata": {
    "pycharm": {
     "name": "#%% md\n"
    }
   },
   "source": [
    "Чем больше число комнат, тем больше цена. Данная зависимость аналогичная общей зависимости по всей базе и носит более четкий характер."
   ]
  },
  {
   "cell_type": "code",
   "execution_count": 56,
   "metadata": {
    "pycharm": {
     "name": "#%%\n"
    }
   },
   "outputs": [
    {
     "data": {
      "text/plain": [
       "<AxesSubplot:xlabel='cityCenters_nearest', ylabel='last_price'>"
      ]
     },
     "execution_count": 56,
     "metadata": {},
     "output_type": "execute_result"
    },
    {
     "data": {
      "image/png": "[encoded data removed]",
      "text/plain": [
       "<Figure size 432x288 with 1 Axes>"
      ]
     },
     "metadata": {
      "needs_background": "light"
     },
     "output_type": "display_data"
    }
   ],
   "source": [
    "data_filtered_spb_centre.plot(x='cityCenters_nearest', y='last_price', kind='scatter', alpha=0.3)"
   ]
  },
  {
   "cell_type": "markdown",
   "metadata": {
    "pycharm": {
     "name": "#%% md\n"
    }
   },
   "source": [
    "А вот расстояние от центра города (в пределах 3,5 км) не оказывает значительное влияние на стоимость квартиры, в отличие от влияния по всей базе."
   ]
  },
  {
   "cell_type": "code",
   "execution_count": 57,
   "metadata": {
    "pycharm": {
     "name": "#%%\n"
    }
   },
   "outputs": [
    {
     "data": {
      "text/plain": [
       "last_price             1.000000\n",
       "rooms                  0.408506\n",
       "cityCenters_nearest   -0.180363\n",
       "Name: last_price, dtype: float64"
      ]
     },
     "execution_count": 57,
     "metadata": {},
     "output_type": "execute_result"
    }
   ],
   "source": [
    "data_filtered_spb_centre[['last_price',  'rooms', 'cityCenters_nearest',]].corr()['last_price']"
   ]
  },
  {
   "cell_type": "markdown",
   "metadata": {
    "pycharm": {
     "name": "#%% md\n"
    }
   },
   "source": [
    "Коэффициенты корреляции говорят о том, что цена квартир в центре Санкт-Петербурга меньше зависит от числа комнат и близости к центру, чем в целом по базе."
   ]
  },
  {
   "cell_type": "code",
   "execution_count": 58,
   "metadata": {
    "pycharm": {
     "name": "#%%\n"
    }
   },
   "outputs": [
    {
     "data": {
      "text/plain": [
       "<AxesSubplot:xlabel='floor_options'>"
      ]
     },
     "execution_count": 58,
     "metadata": {},
     "output_type": "execute_result"
    },
    {
     "data": {
      "image/png": "[encoded data removed]",
      "text/plain": [
       "<Figure size 432x288 with 1 Axes>"
      ]
     },
     "metadata": {
      "needs_background": "light"
     },
     "output_type": "display_data"
    }
   ],
   "source": [
    "data_filtered_spb_centre.groupby('floor_options')['last_price'].median().plot()"
   ]
  },
  {
   "cell_type": "markdown",
   "metadata": {
    "pycharm": {
     "name": "#%% md\n"
    }
   },
   "source": [
    "Зависимость квартиры от этажа схожа с зависимостью по всей базе: средняя цена квартиры на первом этаже намного меньше цены квартиры на последнем этаже, а средняя стоимость квартир не на первом и последних этажах выше остальных."
   ]
  },
  {
   "cell_type": "code",
   "execution_count": 59,
   "metadata": {
    "pycharm": {
     "name": "#%%\n"
    }
   },
   "outputs": [
    {
     "data": {
      "text/plain": [
       "<AxesSubplot:xlabel='exposition_weekday'>"
      ]
     },
     "execution_count": 59,
     "metadata": {},
     "output_type": "execute_result"
    },
    {
     "data": {
      "image/png": "[encoded data removed]",
      "text/plain": [
       "<Figure size 432x288 with 1 Axes>"
      ]
     },
     "metadata": {
      "needs_background": "light"
     },
     "output_type": "display_data"
    }
   ],
   "source": [
    "data_filtered_spb_centre.groupby('exposition_weekday')['last_price'].median().plot()"
   ]
  },
  {
   "cell_type": "markdown",
   "metadata": {
    "pycharm": {
     "name": "#%% md\n"
    }
   },
   "source": [
    "Зависимость стоимости квартир от дня недели схожа с общей зависимостью по базе, но сдвигается \"вправо\" на один день: цена квартиры растет во вторник и субботу (а не понедельник и пятницу) и падает в пятницу (а не в четверг).\n"
   ]
  },
  {
   "cell_type": "code",
   "execution_count": 60,
   "metadata": {
    "pycharm": {
     "name": "#%%\n"
    }
   },
   "outputs": [
    {
     "data": {
      "text/plain": [
       "<AxesSubplot:xlabel='exposition_month'>"
      ]
     },
     "execution_count": 60,
     "metadata": {},
     "output_type": "execute_result"
    },
    {
     "data": {
      "image/png": "[encoded data removed]",
      "text/plain": [
       "<Figure size 432x288 with 1 Axes>"
      ]
     },
     "metadata": {
      "needs_background": "light"
     },
     "output_type": "display_data"
    }
   ],
   "source": [
    "data_filtered_spb_centre.groupby('exposition_month')['last_price'].median().plot()"
   ]
  },
  {
   "cell_type": "markdown",
   "metadata": {
    "pycharm": {
     "name": "#%% md\n"
    }
   },
   "source": [
    "Зависимость стоимости квартир от месяца в целом схожа с общей зависимостью по базе, но немного отличается после апреля. Стоимость квартир падает в июне и августе, значительно увеличивается в сентябре, а затем снова значительно падает в ноябре и увеличивается в декабре."
   ]
  },
  {
   "cell_type": "code",
   "execution_count": 61,
   "metadata": {
    "pycharm": {
     "name": "#%%\n"
    }
   },
   "outputs": [
    {
     "data": {
      "text/plain": [
       "<AxesSubplot:xlabel='exposition_year'>"
      ]
     },
     "execution_count": 61,
     "metadata": {},
     "output_type": "execute_result"
    },
    {
     "data": {
      "image/png": "[encoded data removed]",
      "text/plain": [
       "<Figure size 432x288 with 1 Axes>"
      ]
     },
     "metadata": {
      "needs_background": "light"
     },
     "output_type": "display_data"
    }
   ],
   "source": [
    "data_filtered_spb_centre.groupby('exposition_year')['last_price'].median().plot()"
   ]
  },
  {
   "cell_type": "markdown",
   "metadata": {
    "pycharm": {
     "name": "#%% md\n"
    }
   },
   "source": [
    "Стоимость квартир в центре с 2014 по 2018 падала (так же, как и в целом по базе), однако в 2019 году не произошло увеличение стоимости квартир."
   ]
  },
  {
   "cell_type": "markdown",
   "metadata": {
    "pycharm": {
     "name": "#%% md\n"
    }
   },
   "source": [
    "### Вывод"
   ]
  },
  {
   "cell_type": "markdown",
   "source": [
    "Таким образом, нами изучены площадь, цена, число комнат, высота потолков, время продажи квартиры, убраны редкие и выбивающиеся значения, а также определено вляние факторов на стоимость квартиры. Кроме этого, нами была изучена десятка населённых пунктов с наибольшим числом объявлений, определен радиус центра Санкт-Петербурга и проведено сравнение между найденными ранее зависимостями в целом по базе и по квартирам в центре."
   ],
   "metadata": {
    "collapsed": false,
    "pycharm": {
     "name": "#%% md\n"
    }
   }
  },
  {
   "cell_type": "markdown",
   "metadata": {
    "pycharm": {
     "name": "#%% md\n"
    }
   },
   "source": [
    "## Общий вывод"
   ]
  },
  {
   "cell_type": "markdown",
   "metadata": {
    "pycharm": {
     "name": "#%% md\n"
    }
   },
   "source": [
    "Основываясь на результатах исследования, можно сделать следующие практически применимые выводы:\n",
    "* Всего в базе 20264 объявлений о продаже квартир, пригодных для выявления закономерностей, из них только 655 находятся в центре города.\n",
    "* В Топ-10 по количеству обявлений входят Санкт-Петербург, Мурино, Шушары, Всеволожск, Колпино, Парголово, Кудрово, Пушкин, Гатчина\tи Выборг. В Санкт-Петербурге наблюдаются самые высокие цены на квартиры. Чуть меньше стоимость в Пушкине и Кудрово. Наименьшая цена наблюдается в Всеволожске и Выборге.\n",
    "* Радиус центра Санкт-Петербурга составляет примерно 3 км.\n",
    "* Медианная площадь квартир по всей базе составляет 50 кв.м, а в центре - 81 кв.м.\n",
    "* Медианная цена квартир по всей базе составляет 4 500 000 руб., а в центре - 9 000 000 руб.\n",
    "* Медианная число комнат квартир по всей базе составляет 2 шт., а в центре - 3 шт.\n",
    "* Медианная высота потолка квартир по всей базе составляет 2,66 м, а в центре - 3 м.\n",
    "* Медианное значение срока продажи квартиры составляет 95 дней.\n",
    "* Если квартира продавалась до 45 дней, то её продажа произошла очень быстро. Если квартира продается более 232 дней, то её продажа происходит необычно долго.\n",
    "* Цена квартиры прямопропорциональна площади и числу комнат, обратнопропорциональна удалённости от центра. Последняя зависимость практически не оказывает влияние на стоимость, если квартира находится в радиусе 3км от центра.\n",
    "* Средняя цена квартиры на первом этаже намного меньше цены квартиры на последнем этаже, а средняя стоимость квартир не на первом и последних этажах выше остальных.\n",
    "* В среднем по всей базе цена размещаемых квартир растет в понедельник и пятницу и падает в четверг. Цена размещаемых квартир в центре дорожает во вторник и субботу и дешевеет в субботу. \n",
    "* В среднем по всей базе в июне размещаются объявления о продаже самых дешевых квартир, а самых дорогих - в сентябре и ноябре. Также в марте наблюдается небольшой провал в стоимости квартир. Стоимость квартир в центре Санкт-Петербурга падает в июне и августе, значительно увеличивается в сентябре, а затем снова значительно падает в ноябре и увеличивается в декабре.\n",
    "* С 2014 по 2016 наблюдается сильное падение стоимости квартир. С 2016 по 2018 падение сильно замедлилось, а с 2018 стоимость квартир снова начала расти, однако стоимость квартир в центре расти не стала."
   ]
  },
  {
   "cell_type": "code",
   "execution_count": null,
   "metadata": {
    "pycharm": {
     "name": "#%%\n"
    }
   },
   "outputs": [],
   "source": []
  }
 ],
 "metadata": {
  "ExecuteTimeLog": [
   {
    "duration": 620,
    "start_time": "2022-03-16T14:55:12.902Z"
   },
   {
    "duration": 15,
    "start_time": "2022-03-16T14:55:18.983Z"
   },
   {
    "duration": 67,
    "start_time": "2022-03-16T14:59:32.877Z"
   },
   {
    "duration": 58,
    "start_time": "2022-03-16T14:59:40.211Z"
   },
   {
    "duration": 52,
    "start_time": "2022-03-16T14:59:50.885Z"
   },
   {
    "duration": 58,
    "start_time": "2022-03-16T14:59:56.987Z"
   },
   {
    "duration": 84,
    "start_time": "2022-03-16T15:00:13.542Z"
   },
   {
    "duration": 56,
    "start_time": "2022-03-16T15:00:24.795Z"
   },
   {
    "duration": 240,
    "start_time": "2022-03-16T15:00:30.941Z"
   },
   {
    "duration": 70,
    "start_time": "2022-03-16T15:00:37.595Z"
   },
   {
    "duration": 56,
    "start_time": "2022-03-16T15:03:17.468Z"
   },
   {
    "duration": 55,
    "start_time": "2022-03-16T15:03:26.291Z"
   },
   {
    "duration": 8,
    "start_time": "2022-03-16T15:03:31.044Z"
   },
   {
    "duration": 52,
    "start_time": "2022-03-16T15:03:41.347Z"
   },
   {
    "duration": 9,
    "start_time": "2022-03-16T15:03:42.683Z"
   },
   {
    "duration": 552,
    "start_time": "2022-03-16T15:03:54.783Z"
   },
   {
    "duration": 597,
    "start_time": "2022-03-16T15:03:58.307Z"
   },
   {
    "duration": 65,
    "start_time": "2022-03-16T15:04:05.282Z"
   },
   {
    "duration": 43,
    "start_time": "2022-03-16T15:04:06.421Z"
   },
   {
    "duration": 81,
    "start_time": "2022-03-16T15:04:24.251Z"
   },
   {
    "duration": 11,
    "start_time": "2022-03-16T15:06:59.586Z"
   },
   {
    "duration": 24,
    "start_time": "2022-03-16T15:14:14.019Z"
   },
   {
    "duration": 10,
    "start_time": "2022-03-16T15:16:00.898Z"
   },
   {
    "duration": 9,
    "start_time": "2022-03-16T15:16:19.083Z"
   },
   {
    "duration": 174,
    "start_time": "2022-03-16T15:25:19.066Z"
   },
   {
    "duration": 38,
    "start_time": "2022-03-16T15:25:39.902Z"
   },
   {
    "duration": 28,
    "start_time": "2022-03-16T15:25:54.101Z"
   },
   {
    "duration": 81,
    "start_time": "2022-03-16T15:29:49.861Z"
   },
   {
    "duration": 71,
    "start_time": "2022-03-16T15:36:17.878Z"
   },
   {
    "duration": 50,
    "start_time": "2022-03-16T15:41:26.166Z"
   },
   {
    "duration": 35,
    "start_time": "2022-03-16T15:42:17.925Z"
   },
   {
    "duration": 37,
    "start_time": "2022-03-16T15:43:08.735Z"
   },
   {
    "duration": 191,
    "start_time": "2022-03-16T15:43:26.095Z"
   },
   {
    "duration": 7,
    "start_time": "2022-03-16T15:43:40.402Z"
   },
   {
    "duration": 39,
    "start_time": "2022-03-16T15:43:45.310Z"
   },
   {
    "duration": 34,
    "start_time": "2022-03-16T15:43:48.263Z"
   },
   {
    "duration": 6,
    "start_time": "2022-03-16T15:44:19.166Z"
   },
   {
    "duration": 9,
    "start_time": "2022-03-16T15:44:53.854Z"
   },
   {
    "duration": 6,
    "start_time": "2022-03-16T15:45:06.231Z"
   },
   {
    "duration": 7,
    "start_time": "2022-03-16T15:45:07.753Z"
   },
   {
    "duration": 7,
    "start_time": "2022-03-16T15:45:29.241Z"
   },
   {
    "duration": 7,
    "start_time": "2022-03-16T15:45:31.206Z"
   },
   {
    "duration": 7,
    "start_time": "2022-03-16T15:45:41.311Z"
   },
   {
    "duration": 9,
    "start_time": "2022-03-16T15:46:54.958Z"
   },
   {
    "duration": 6,
    "start_time": "2022-03-16T15:47:11.453Z"
   },
   {
    "duration": 35,
    "start_time": "2022-03-16T15:51:40.533Z"
   },
   {
    "duration": 19,
    "start_time": "2022-03-16T15:55:29.742Z"
   },
   {
    "duration": 176,
    "start_time": "2022-03-16T15:55:36.566Z"
   },
   {
    "duration": 34,
    "start_time": "2022-03-16T15:55:40.390Z"
   },
   {
    "duration": 39,
    "start_time": "2022-03-16T15:55:55.999Z"
   },
   {
    "duration": 35,
    "start_time": "2022-03-16T15:56:01.015Z"
   },
   {
    "duration": 35,
    "start_time": "2022-03-16T15:56:10.088Z"
   },
   {
    "duration": 37,
    "start_time": "2022-03-16T15:56:13.631Z"
   },
   {
    "duration": 34,
    "start_time": "2022-03-16T15:56:17.544Z"
   },
   {
    "duration": 36,
    "start_time": "2022-03-16T15:56:26.255Z"
   },
   {
    "duration": 32,
    "start_time": "2022-03-16T15:56:43.704Z"
   },
   {
    "duration": 9,
    "start_time": "2022-03-16T15:58:37.375Z"
   },
   {
    "duration": 6,
    "start_time": "2022-03-16T15:58:51.351Z"
   },
   {
    "duration": 16,
    "start_time": "2022-03-16T16:01:53.409Z"
   },
   {
    "duration": 10,
    "start_time": "2022-03-16T16:01:54.751Z"
   },
   {
    "duration": 16,
    "start_time": "2022-03-16T16:02:08.040Z"
   },
   {
    "duration": 34,
    "start_time": "2022-03-16T16:04:03.047Z"
   },
   {
    "duration": 7,
    "start_time": "2022-03-16T16:04:11.904Z"
   },
   {
    "duration": 6,
    "start_time": "2022-03-16T16:04:24.799Z"
   },
   {
    "duration": 14,
    "start_time": "2022-03-16T16:06:29.553Z"
   },
   {
    "duration": 33,
    "start_time": "2022-03-16T16:14:43.479Z"
   },
   {
    "duration": 7,
    "start_time": "2022-03-16T16:15:03.448Z"
   },
   {
    "duration": 604,
    "start_time": "2022-03-16T16:15:27.671Z"
   },
   {
    "duration": 14,
    "start_time": "2022-03-16T16:15:28.277Z"
   },
   {
    "duration": 90,
    "start_time": "2022-03-16T16:15:28.294Z"
   },
   {
    "duration": 12,
    "start_time": "2022-03-16T16:15:28.386Z"
   },
   {
    "duration": 87,
    "start_time": "2022-03-16T16:15:28.400Z"
   },
   {
    "duration": 7,
    "start_time": "2022-03-16T16:15:28.489Z"
   },
   {
    "duration": 8,
    "start_time": "2022-03-16T16:15:28.498Z"
   },
   {
    "duration": 30,
    "start_time": "2022-03-16T16:15:28.509Z"
   },
   {
    "duration": 8,
    "start_time": "2022-03-16T16:15:28.541Z"
   },
   {
    "duration": 20,
    "start_time": "2022-03-16T16:15:28.550Z"
   },
   {
    "duration": 36,
    "start_time": "2022-03-16T16:15:28.572Z"
   },
   {
    "duration": 12,
    "start_time": "2022-03-16T16:15:28.638Z"
   },
   {
    "duration": 11,
    "start_time": "2022-03-16T16:15:28.652Z"
   },
   {
    "duration": 27,
    "start_time": "2022-03-16T16:15:28.665Z"
   },
   {
    "duration": 28,
    "start_time": "2022-03-16T16:15:57.721Z"
   },
   {
    "duration": 23,
    "start_time": "2022-03-16T16:16:22.711Z"
   },
   {
    "duration": 27,
    "start_time": "2022-03-16T16:16:25.986Z"
   },
   {
    "duration": 7,
    "start_time": "2022-03-16T16:16:33.851Z"
   },
   {
    "duration": 627,
    "start_time": "2022-03-16T16:16:42.950Z"
   },
   {
    "duration": 13,
    "start_time": "2022-03-16T16:16:43.579Z"
   },
   {
    "duration": 85,
    "start_time": "2022-03-16T16:16:43.594Z"
   },
   {
    "duration": 9,
    "start_time": "2022-03-16T16:16:43.681Z"
   },
   {
    "duration": 86,
    "start_time": "2022-03-16T16:16:43.692Z"
   },
   {
    "duration": 6,
    "start_time": "2022-03-16T16:16:43.781Z"
   },
   {
    "duration": 8,
    "start_time": "2022-03-16T16:16:43.789Z"
   },
   {
    "duration": 10,
    "start_time": "2022-03-16T16:16:43.800Z"
   },
   {
    "duration": 27,
    "start_time": "2022-03-16T16:16:43.813Z"
   },
   {
    "duration": 22,
    "start_time": "2022-03-16T16:16:43.842Z"
   },
   {
    "duration": 28,
    "start_time": "2022-03-16T16:16:43.866Z"
   },
   {
    "duration": 12,
    "start_time": "2022-03-16T16:16:43.895Z"
   },
   {
    "duration": 36,
    "start_time": "2022-03-16T16:16:43.909Z"
   },
   {
    "duration": 28,
    "start_time": "2022-03-16T16:16:43.947Z"
   },
   {
    "duration": 9,
    "start_time": "2022-03-16T16:22:06.051Z"
   },
   {
    "duration": 13,
    "start_time": "2022-03-16T16:22:27.971Z"
   },
   {
    "duration": 9,
    "start_time": "2022-03-16T16:22:39.890Z"
   },
   {
    "duration": 7,
    "start_time": "2022-03-16T16:22:43.067Z"
   },
   {
    "duration": 7,
    "start_time": "2022-03-16T16:23:21.691Z"
   },
   {
    "duration": 35,
    "start_time": "2022-03-16T16:23:29.507Z"
   },
   {
    "duration": 7,
    "start_time": "2022-03-16T16:23:39.851Z"
   },
   {
    "duration": 13,
    "start_time": "2022-03-16T16:24:11.419Z"
   },
   {
    "duration": 36,
    "start_time": "2022-03-16T16:24:14.532Z"
   },
   {
    "duration": 223,
    "start_time": "2022-03-16T16:29:44.371Z"
   },
   {
    "duration": 182,
    "start_time": "2022-03-16T16:30:09.709Z"
   },
   {
    "duration": 195,
    "start_time": "2022-03-16T16:30:13.509Z"
   },
   {
    "duration": 63,
    "start_time": "2022-03-16T16:30:21.876Z"
   },
   {
    "duration": 4537,
    "start_time": "2022-03-16T16:30:25.236Z"
   },
   {
    "duration": 181,
    "start_time": "2022-03-16T16:31:25.149Z"
   },
   {
    "duration": 177,
    "start_time": "2022-03-16T16:31:38.926Z"
   },
   {
    "duration": 34,
    "start_time": "2022-03-16T16:31:45.789Z"
   },
   {
    "duration": 5,
    "start_time": "2022-03-16T16:31:54.973Z"
   },
   {
    "duration": 4183,
    "start_time": "2022-03-16T16:32:05.500Z"
   },
   {
    "duration": 6,
    "start_time": "2022-03-16T16:32:40.142Z"
   },
   {
    "duration": 6,
    "start_time": "2022-03-16T16:32:48.180Z"
   },
   {
    "duration": 6,
    "start_time": "2022-03-16T16:32:51.468Z"
   },
   {
    "duration": 7,
    "start_time": "2022-03-16T16:32:59.549Z"
   },
   {
    "duration": 6,
    "start_time": "2022-03-16T16:33:03.829Z"
   },
   {
    "duration": 34,
    "start_time": "2022-03-16T16:33:40.684Z"
   },
   {
    "duration": 15,
    "start_time": "2022-03-16T16:33:47.334Z"
   },
   {
    "duration": 6,
    "start_time": "2022-03-16T16:33:59.981Z"
   },
   {
    "duration": 28,
    "start_time": "2022-03-16T16:34:05.990Z"
   },
   {
    "duration": 662,
    "start_time": "2022-03-16T16:34:52.312Z"
   },
   {
    "duration": 12,
    "start_time": "2022-03-16T16:34:52.975Z"
   },
   {
    "duration": 86,
    "start_time": "2022-03-16T16:34:52.989Z"
   },
   {
    "duration": 11,
    "start_time": "2022-03-16T16:34:53.076Z"
   },
   {
    "duration": 84,
    "start_time": "2022-03-16T16:34:53.088Z"
   },
   {
    "duration": 6,
    "start_time": "2022-03-16T16:34:53.173Z"
   },
   {
    "duration": 37,
    "start_time": "2022-03-16T16:34:53.181Z"
   },
   {
    "duration": 46,
    "start_time": "2022-03-16T16:34:53.220Z"
   },
   {
    "duration": 6,
    "start_time": "2022-03-16T16:34:53.268Z"
   },
   {
    "duration": 35,
    "start_time": "2022-03-16T16:34:53.275Z"
   },
   {
    "duration": 44,
    "start_time": "2022-03-16T16:34:53.312Z"
   },
   {
    "duration": 9,
    "start_time": "2022-03-16T16:34:53.357Z"
   },
   {
    "duration": 9,
    "start_time": "2022-03-16T16:34:53.367Z"
   },
   {
    "duration": 26,
    "start_time": "2022-03-16T16:34:53.378Z"
   },
   {
    "duration": 36,
    "start_time": "2022-03-16T16:38:30.922Z"
   },
   {
    "duration": 26,
    "start_time": "2022-03-16T16:38:51.011Z"
   },
   {
    "duration": 25,
    "start_time": "2022-03-16T16:43:51.179Z"
   },
   {
    "duration": 84,
    "start_time": "2022-03-16T16:44:24.514Z"
   },
   {
    "duration": 70,
    "start_time": "2022-03-16T16:45:19.595Z"
   },
   {
    "duration": 265,
    "start_time": "2022-03-16T16:45:38.619Z"
   },
   {
    "duration": 67,
    "start_time": "2022-03-16T16:46:09.913Z"
   },
   {
    "duration": 42,
    "start_time": "2022-03-16T16:52:34.162Z"
   },
   {
    "duration": 15,
    "start_time": "2022-03-16T16:52:57.275Z"
   },
   {
    "duration": 38,
    "start_time": "2022-03-16T16:53:13.868Z"
   },
   {
    "duration": 182,
    "start_time": "2022-03-16T17:04:48.093Z"
   },
   {
    "duration": 179,
    "start_time": "2022-03-16T17:05:15.549Z"
   },
   {
    "duration": 200,
    "start_time": "2022-03-16T17:05:34.773Z"
   },
   {
    "duration": 24,
    "start_time": "2022-03-16T17:06:13.925Z"
   },
   {
    "duration": 194,
    "start_time": "2022-03-16T17:06:19.740Z"
   },
   {
    "duration": 165,
    "start_time": "2022-03-16T17:06:36.149Z"
   },
   {
    "duration": 7,
    "start_time": "2022-03-16T17:06:42.259Z"
   },
   {
    "duration": 17,
    "start_time": "2022-03-16T17:06:46.060Z"
   },
   {
    "duration": 37,
    "start_time": "2022-03-16T17:07:52.902Z"
   },
   {
    "duration": 4,
    "start_time": "2022-03-16T17:08:22.655Z"
   },
   {
    "duration": 11997,
    "start_time": "2022-03-16T17:08:43.022Z"
   },
   {
    "duration": 7,
    "start_time": "2022-03-16T17:09:23.166Z"
   },
   {
    "duration": 24,
    "start_time": "2022-03-16T17:09:34.029Z"
   },
   {
    "duration": 11885,
    "start_time": "2022-03-16T17:09:54.942Z"
   },
   {
    "duration": 12603,
    "start_time": "2022-03-16T17:10:58.037Z"
   },
   {
    "duration": 819,
    "start_time": "2022-03-16T17:12:16.054Z"
   },
   {
    "duration": 34,
    "start_time": "2022-03-16T17:12:46.918Z"
   },
   {
    "duration": 952,
    "start_time": "2022-03-16T17:13:29.999Z"
   },
   {
    "duration": 12,
    "start_time": "2022-03-16T17:13:41.422Z"
   },
   {
    "duration": 187,
    "start_time": "2022-03-16T17:18:42.094Z"
   },
   {
    "duration": 616,
    "start_time": "2022-03-16T17:18:47.630Z"
   },
   {
    "duration": 10,
    "start_time": "2022-03-16T17:21:05.837Z"
   },
   {
    "duration": 4250,
    "start_time": "2022-03-16T17:23:49.478Z"
   },
   {
    "duration": 4765,
    "start_time": "2022-03-16T17:25:02.093Z"
   },
   {
    "duration": 4511,
    "start_time": "2022-03-16T17:25:14.638Z"
   },
   {
    "duration": 1158,
    "start_time": "2022-03-16T17:25:22.958Z"
   },
   {
    "duration": 11,
    "start_time": "2022-03-16T17:25:32.312Z"
   },
   {
    "duration": 13,
    "start_time": "2022-03-16T17:25:40.810Z"
   },
   {
    "duration": 13,
    "start_time": "2022-03-16T17:26:06.257Z"
   },
   {
    "duration": 4432,
    "start_time": "2022-03-16T17:27:57.031Z"
   },
   {
    "duration": 799,
    "start_time": "2022-03-16T17:29:03.936Z"
   },
   {
    "duration": 9,
    "start_time": "2022-03-16T17:34:14.536Z"
   },
   {
    "duration": 14,
    "start_time": "2022-03-16T17:34:22.103Z"
   },
   {
    "duration": 5,
    "start_time": "2022-03-16T17:37:23.839Z"
   },
   {
    "duration": 8,
    "start_time": "2022-03-16T17:37:42.201Z"
   },
   {
    "duration": 14,
    "start_time": "2022-03-16T17:37:46.882Z"
   },
   {
    "duration": 66,
    "start_time": "2022-03-16T17:38:40.539Z"
   },
   {
    "duration": 19,
    "start_time": "2022-03-16T17:39:24.441Z"
   },
   {
    "duration": 606,
    "start_time": "2022-03-16T17:39:47.297Z"
   },
   {
    "duration": 13,
    "start_time": "2022-03-16T17:39:47.906Z"
   },
   {
    "duration": 92,
    "start_time": "2022-03-16T17:39:47.921Z"
   },
   {
    "duration": 11,
    "start_time": "2022-03-16T17:39:48.014Z"
   },
   {
    "duration": 91,
    "start_time": "2022-03-16T17:39:48.037Z"
   },
   {
    "duration": 8,
    "start_time": "2022-03-16T17:39:48.138Z"
   },
   {
    "duration": 47,
    "start_time": "2022-03-16T17:39:48.147Z"
   },
   {
    "duration": 60,
    "start_time": "2022-03-16T17:39:48.196Z"
   },
   {
    "duration": 7,
    "start_time": "2022-03-16T17:39:48.258Z"
   },
   {
    "duration": 43,
    "start_time": "2022-03-16T17:39:48.266Z"
   },
   {
    "duration": 43,
    "start_time": "2022-03-16T17:39:48.311Z"
   },
   {
    "duration": 12,
    "start_time": "2022-03-16T17:39:48.356Z"
   },
   {
    "duration": 37,
    "start_time": "2022-03-16T17:39:48.370Z"
   },
   {
    "duration": 85,
    "start_time": "2022-03-16T17:39:48.409Z"
   },
   {
    "duration": 14,
    "start_time": "2022-03-16T17:39:48.496Z"
   },
   {
    "duration": 11992,
    "start_time": "2022-03-16T17:39:48.511Z"
   },
   {
    "duration": 50,
    "start_time": "2022-03-16T17:40:00.505Z"
   },
   {
    "duration": 239,
    "start_time": "2022-03-16T17:40:00.558Z"
   },
   {
    "duration": 52,
    "start_time": "2022-03-16T17:44:40.510Z"
   },
   {
    "duration": 23,
    "start_time": "2022-03-16T17:44:49.297Z"
   },
   {
    "duration": 22,
    "start_time": "2022-03-16T17:45:02.143Z"
   },
   {
    "duration": 15,
    "start_time": "2022-03-16T17:45:05.174Z"
   },
   {
    "duration": 27,
    "start_time": "2022-03-16T17:46:17.574Z"
   },
   {
    "duration": 30,
    "start_time": "2022-03-16T17:46:26.127Z"
   },
   {
    "duration": 28,
    "start_time": "2022-03-16T17:46:31.167Z"
   },
   {
    "duration": 34,
    "start_time": "2022-03-16T17:46:46.719Z"
   },
   {
    "duration": 176,
    "start_time": "2022-03-16T17:50:36.473Z"
   },
   {
    "duration": 186,
    "start_time": "2022-03-16T17:50:45.457Z"
   },
   {
    "duration": 167,
    "start_time": "2022-03-16T17:50:56.384Z"
   },
   {
    "duration": 8,
    "start_time": "2022-03-16T17:51:43.418Z"
   },
   {
    "duration": 34,
    "start_time": "2022-03-16T17:53:25.312Z"
   },
   {
    "duration": 35,
    "start_time": "2022-03-16T17:54:23.443Z"
   },
   {
    "duration": 34,
    "start_time": "2022-03-16T17:55:02.114Z"
   },
   {
    "duration": 34,
    "start_time": "2022-03-16T17:55:14.328Z"
   },
   {
    "duration": 20,
    "start_time": "2022-03-16T17:55:40.672Z"
   },
   {
    "duration": 21,
    "start_time": "2022-03-16T17:55:49.298Z"
   },
   {
    "duration": 9,
    "start_time": "2022-03-16T17:56:04.760Z"
   },
   {
    "duration": 17,
    "start_time": "2022-03-16T17:56:11.840Z"
   },
   {
    "duration": 655,
    "start_time": "2022-03-16T18:05:10.449Z"
   },
   {
    "duration": 13,
    "start_time": "2022-03-16T18:05:11.107Z"
   },
   {
    "duration": 91,
    "start_time": "2022-03-16T18:05:11.122Z"
   },
   {
    "duration": 10,
    "start_time": "2022-03-16T18:05:11.215Z"
   },
   {
    "duration": 82,
    "start_time": "2022-03-16T18:05:11.227Z"
   },
   {
    "duration": 30,
    "start_time": "2022-03-16T18:05:11.311Z"
   },
   {
    "duration": 34,
    "start_time": "2022-03-16T18:05:11.343Z"
   },
   {
    "duration": 35,
    "start_time": "2022-03-16T18:05:11.380Z"
   },
   {
    "duration": 7,
    "start_time": "2022-03-16T18:05:11.437Z"
   },
   {
    "duration": 38,
    "start_time": "2022-03-16T18:05:11.446Z"
   },
   {
    "duration": 25,
    "start_time": "2022-03-16T18:05:11.486Z"
   },
   {
    "duration": 17,
    "start_time": "2022-03-16T18:05:11.538Z"
   },
   {
    "duration": 41,
    "start_time": "2022-03-16T18:05:11.557Z"
   },
   {
    "duration": 78,
    "start_time": "2022-03-16T18:05:11.600Z"
   },
   {
    "duration": 14,
    "start_time": "2022-03-16T18:05:11.680Z"
   },
   {
    "duration": 12370,
    "start_time": "2022-03-16T18:05:11.696Z"
   },
   {
    "duration": 17,
    "start_time": "2022-03-16T18:05:24.068Z"
   },
   {
    "duration": 56,
    "start_time": "2022-03-16T18:05:24.086Z"
   },
   {
    "duration": 37,
    "start_time": "2022-03-16T18:09:31.863Z"
   },
   {
    "duration": 27,
    "start_time": "2022-03-16T18:11:50.995Z"
   },
   {
    "duration": 3209,
    "start_time": "2022-03-16T18:13:49.495Z"
   },
   {
    "duration": 66,
    "start_time": "2022-03-16T18:14:45.528Z"
   },
   {
    "duration": 57,
    "start_time": "2022-03-16T18:15:10.328Z"
   },
   {
    "duration": 51,
    "start_time": "2022-03-16T18:15:24.584Z"
   },
   {
    "duration": 9,
    "start_time": "2022-03-16T18:15:29.688Z"
   },
   {
    "duration": 9,
    "start_time": "2022-03-16T18:15:43.920Z"
   },
   {
    "duration": 7,
    "start_time": "2022-03-16T18:15:57.177Z"
   },
   {
    "duration": 26,
    "start_time": "2022-03-16T18:16:03.448Z"
   },
   {
    "duration": 78,
    "start_time": "2022-03-16T18:25:23.425Z"
   },
   {
    "duration": 9,
    "start_time": "2022-03-16T18:26:34.817Z"
   },
   {
    "duration": 6,
    "start_time": "2022-03-16T18:26:46.225Z"
   },
   {
    "duration": 7,
    "start_time": "2022-03-16T18:27:05.137Z"
   },
   {
    "duration": 170,
    "start_time": "2022-03-16T18:27:13.083Z"
   },
   {
    "duration": 182,
    "start_time": "2022-03-16T18:27:16.793Z"
   },
   {
    "duration": 7,
    "start_time": "2022-03-16T18:27:22.801Z"
   },
   {
    "duration": 5,
    "start_time": "2022-03-16T18:28:23.786Z"
   },
   {
    "duration": 37,
    "start_time": "2022-03-16T18:28:32.074Z"
   },
   {
    "duration": 23,
    "start_time": "2022-03-16T18:28:42.186Z"
   },
   {
    "duration": 16,
    "start_time": "2022-03-16T18:30:00.451Z"
   },
   {
    "duration": 14,
    "start_time": "2022-03-16T18:30:34.165Z"
   },
   {
    "duration": 20,
    "start_time": "2022-03-16T18:31:20.243Z"
   },
   {
    "duration": 15,
    "start_time": "2022-03-16T18:31:42.900Z"
   },
   {
    "duration": 14,
    "start_time": "2022-03-16T18:32:10.219Z"
   },
   {
    "duration": 649,
    "start_time": "2022-03-17T12:18:16.078Z"
   },
   {
    "duration": 22,
    "start_time": "2022-03-17T12:18:16.730Z"
   },
   {
    "duration": 175,
    "start_time": "2022-03-17T12:18:16.754Z"
   },
   {
    "duration": 23,
    "start_time": "2022-03-17T12:18:16.932Z"
   },
   {
    "duration": 121,
    "start_time": "2022-03-17T12:18:16.957Z"
   },
   {
    "duration": 9,
    "start_time": "2022-03-17T12:18:17.080Z"
   },
   {
    "duration": 68,
    "start_time": "2022-03-17T12:18:17.091Z"
   },
   {
    "duration": 66,
    "start_time": "2022-03-17T12:18:17.161Z"
   },
   {
    "duration": 8,
    "start_time": "2022-03-17T12:18:17.229Z"
   },
   {
    "duration": 71,
    "start_time": "2022-03-17T12:18:17.242Z"
   },
   {
    "duration": 43,
    "start_time": "2022-03-17T12:18:17.315Z"
   },
   {
    "duration": 38,
    "start_time": "2022-03-17T12:18:17.361Z"
   },
   {
    "duration": 44,
    "start_time": "2022-03-17T12:18:17.404Z"
   },
   {
    "duration": 77,
    "start_time": "2022-03-17T12:18:17.451Z"
   },
   {
    "duration": 19,
    "start_time": "2022-03-17T12:18:17.531Z"
   },
   {
    "duration": 16305,
    "start_time": "2022-03-17T12:18:17.553Z"
   },
   {
    "duration": 36,
    "start_time": "2022-03-17T12:18:33.860Z"
   },
   {
    "duration": 66,
    "start_time": "2022-03-17T12:18:33.899Z"
   },
   {
    "duration": 84,
    "start_time": "2022-03-17T12:18:33.967Z"
   },
   {
    "duration": 53,
    "start_time": "2022-03-17T12:18:34.053Z"
   },
   {
    "duration": 8,
    "start_time": "2022-03-17T12:18:34.108Z"
   },
   {
    "duration": 30,
    "start_time": "2022-03-17T12:18:34.119Z"
   },
   {
    "duration": 40,
    "start_time": "2022-03-17T12:18:34.151Z"
   },
   {
    "duration": 73,
    "start_time": "2022-03-17T12:18:34.193Z"
   },
   {
    "duration": 113,
    "start_time": "2022-03-17T12:18:34.269Z"
   },
   {
    "duration": 26,
    "start_time": "2022-03-17T12:21:25.288Z"
   },
   {
    "duration": 26,
    "start_time": "2022-03-17T12:27:19.566Z"
   },
   {
    "duration": 22,
    "start_time": "2022-03-17T12:28:29.086Z"
   },
   {
    "duration": 24,
    "start_time": "2022-03-17T12:28:30.502Z"
   },
   {
    "duration": 742,
    "start_time": "2022-03-17T12:28:38.672Z"
   },
   {
    "duration": 23,
    "start_time": "2022-03-17T12:28:39.417Z"
   },
   {
    "duration": 164,
    "start_time": "2022-03-17T12:28:39.443Z"
   },
   {
    "duration": 28,
    "start_time": "2022-03-17T12:28:39.611Z"
   },
   {
    "duration": 156,
    "start_time": "2022-03-17T12:28:39.642Z"
   },
   {
    "duration": 11,
    "start_time": "2022-03-17T12:28:39.800Z"
   },
   {
    "duration": 84,
    "start_time": "2022-03-17T12:28:39.813Z"
   },
   {
    "duration": 38,
    "start_time": "2022-03-17T12:28:39.900Z"
   },
   {
    "duration": 7,
    "start_time": "2022-03-17T12:28:39.941Z"
   },
   {
    "duration": 66,
    "start_time": "2022-03-17T12:28:39.952Z"
   },
   {
    "duration": 40,
    "start_time": "2022-03-17T12:28:40.021Z"
   },
   {
    "duration": 13,
    "start_time": "2022-03-17T12:28:40.084Z"
   },
   {
    "duration": 44,
    "start_time": "2022-03-17T12:28:40.099Z"
   },
   {
    "duration": 71,
    "start_time": "2022-03-17T12:28:40.145Z"
   },
   {
    "duration": 21,
    "start_time": "2022-03-17T12:28:40.218Z"
   },
   {
    "duration": 14974,
    "start_time": "2022-03-17T12:28:40.242Z"
   },
   {
    "duration": 29,
    "start_time": "2022-03-17T12:28:55.219Z"
   },
   {
    "duration": 65,
    "start_time": "2022-03-17T12:28:55.250Z"
   },
   {
    "duration": 77,
    "start_time": "2022-03-17T12:28:55.317Z"
   },
   {
    "duration": 43,
    "start_time": "2022-03-17T12:28:55.397Z"
   },
   {
    "duration": 9,
    "start_time": "2022-03-17T12:28:55.442Z"
   },
   {
    "duration": 46,
    "start_time": "2022-03-17T12:28:55.453Z"
   },
   {
    "duration": 23,
    "start_time": "2022-03-17T12:28:55.502Z"
   },
   {
    "duration": 20,
    "start_time": "2022-03-17T12:28:55.527Z"
   },
   {
    "duration": 33,
    "start_time": "2022-03-17T12:28:55.549Z"
   },
   {
    "duration": 115,
    "start_time": "2022-03-17T12:35:17.141Z"
   },
   {
    "duration": 6,
    "start_time": "2022-03-17T12:37:19.523Z"
   },
   {
    "duration": 15,
    "start_time": "2022-03-17T12:37:28.811Z"
   },
   {
    "duration": 3232,
    "start_time": "2022-03-17T12:38:32.254Z"
   },
   {
    "duration": 29,
    "start_time": "2022-03-17T12:40:50.707Z"
   },
   {
    "duration": 16,
    "start_time": "2022-03-17T12:41:04.772Z"
   },
   {
    "duration": 611,
    "start_time": "2022-03-17T12:41:19.303Z"
   },
   {
    "duration": 18,
    "start_time": "2022-03-17T12:41:19.917Z"
   },
   {
    "duration": 166,
    "start_time": "2022-03-17T12:41:19.937Z"
   },
   {
    "duration": 22,
    "start_time": "2022-03-17T12:41:20.106Z"
   },
   {
    "duration": 128,
    "start_time": "2022-03-17T12:41:20.130Z"
   },
   {
    "duration": 13,
    "start_time": "2022-03-17T12:41:20.260Z"
   },
   {
    "duration": 61,
    "start_time": "2022-03-17T12:41:20.283Z"
   },
   {
    "duration": 65,
    "start_time": "2022-03-17T12:41:20.346Z"
   },
   {
    "duration": 8,
    "start_time": "2022-03-17T12:41:20.414Z"
   },
   {
    "duration": 68,
    "start_time": "2022-03-17T12:41:20.428Z"
   },
   {
    "duration": 42,
    "start_time": "2022-03-17T12:41:20.499Z"
   },
   {
    "duration": 41,
    "start_time": "2022-03-17T12:41:20.544Z"
   },
   {
    "duration": 40,
    "start_time": "2022-03-17T12:41:20.588Z"
   },
   {
    "duration": 64,
    "start_time": "2022-03-17T12:41:20.631Z"
   },
   {
    "duration": 20,
    "start_time": "2022-03-17T12:41:20.697Z"
   },
   {
    "duration": 14744,
    "start_time": "2022-03-17T12:41:20.720Z"
   },
   {
    "duration": 35,
    "start_time": "2022-03-17T12:41:35.467Z"
   },
   {
    "duration": 40,
    "start_time": "2022-03-17T12:41:35.505Z"
   },
   {
    "duration": 72,
    "start_time": "2022-03-17T12:41:35.548Z"
   },
   {
    "duration": 39,
    "start_time": "2022-03-17T12:41:35.622Z"
   },
   {
    "duration": 16,
    "start_time": "2022-03-17T12:41:35.683Z"
   },
   {
    "duration": 3130,
    "start_time": "2022-03-17T12:41:35.702Z"
   },
   {
    "duration": 17,
    "start_time": "2022-03-17T12:41:38.834Z"
   },
   {
    "duration": 31,
    "start_time": "2022-03-17T12:41:38.853Z"
   },
   {
    "duration": 12,
    "start_time": "2022-03-17T12:41:38.886Z"
   },
   {
    "duration": 11,
    "start_time": "2022-03-17T12:41:38.901Z"
   },
   {
    "duration": 13,
    "start_time": "2022-03-17T12:41:38.914Z"
   },
   {
    "duration": 50,
    "start_time": "2022-03-17T12:45:00.785Z"
   },
   {
    "duration": 48,
    "start_time": "2022-03-17T12:45:23.462Z"
   },
   {
    "duration": 2430,
    "start_time": "2022-03-17T12:46:12.685Z"
   },
   {
    "duration": 2320,
    "start_time": "2022-03-17T12:46:26.245Z"
   },
   {
    "duration": 1873,
    "start_time": "2022-03-17T12:46:32.158Z"
   },
   {
    "duration": 45,
    "start_time": "2022-03-17T12:46:46.638Z"
   },
   {
    "duration": 47,
    "start_time": "2022-03-17T12:46:51.357Z"
   },
   {
    "duration": 50,
    "start_time": "2022-03-17T12:47:55.110Z"
   },
   {
    "duration": 572,
    "start_time": "2022-03-17T12:50:19.726Z"
   },
   {
    "duration": 20,
    "start_time": "2022-03-17T12:50:20.301Z"
   },
   {
    "duration": 160,
    "start_time": "2022-03-17T12:50:20.323Z"
   },
   {
    "duration": 22,
    "start_time": "2022-03-17T12:50:20.487Z"
   },
   {
    "duration": 126,
    "start_time": "2022-03-17T12:50:20.512Z"
   },
   {
    "duration": 9,
    "start_time": "2022-03-17T12:50:20.641Z"
   },
   {
    "duration": 73,
    "start_time": "2022-03-17T12:50:20.652Z"
   },
   {
    "duration": 57,
    "start_time": "2022-03-17T12:50:20.728Z"
   },
   {
    "duration": 8,
    "start_time": "2022-03-17T12:50:20.787Z"
   },
   {
    "duration": 51,
    "start_time": "2022-03-17T12:50:20.799Z"
   },
   {
    "duration": 56,
    "start_time": "2022-03-17T12:50:20.852Z"
   },
   {
    "duration": 22,
    "start_time": "2022-03-17T12:50:20.911Z"
   },
   {
    "duration": 79,
    "start_time": "2022-03-17T12:50:20.935Z"
   },
   {
    "duration": 45,
    "start_time": "2022-03-17T12:50:21.016Z"
   },
   {
    "duration": 38,
    "start_time": "2022-03-17T12:50:21.063Z"
   },
   {
    "duration": 16613,
    "start_time": "2022-03-17T12:50:21.103Z"
   },
   {
    "duration": 28,
    "start_time": "2022-03-17T12:50:37.718Z"
   },
   {
    "duration": 78,
    "start_time": "2022-03-17T12:50:37.748Z"
   },
   {
    "duration": 59,
    "start_time": "2022-03-17T12:50:37.829Z"
   },
   {
    "duration": 38,
    "start_time": "2022-03-17T12:50:37.890Z"
   },
   {
    "duration": 17,
    "start_time": "2022-03-17T12:50:37.930Z"
   },
   {
    "duration": 3286,
    "start_time": "2022-03-17T12:50:37.949Z"
   },
   {
    "duration": 19,
    "start_time": "2022-03-17T12:50:41.238Z"
   },
   {
    "duration": 38,
    "start_time": "2022-03-17T12:50:41.260Z"
   },
   {
    "duration": 14,
    "start_time": "2022-03-17T12:50:41.301Z"
   },
   {
    "duration": 28,
    "start_time": "2022-03-17T12:50:41.318Z"
   },
   {
    "duration": 14,
    "start_time": "2022-03-17T12:50:41.348Z"
   },
   {
    "duration": 25,
    "start_time": "2022-03-17T12:50:41.367Z"
   },
   {
    "duration": 24,
    "start_time": "2022-03-17T12:52:23.742Z"
   },
   {
    "duration": 19,
    "start_time": "2022-03-17T12:52:46.013Z"
   },
   {
    "duration": 3804,
    "start_time": "2022-03-17T12:53:34.726Z"
   },
   {
    "duration": 94,
    "start_time": "2022-03-17T12:58:50.694Z"
   },
   {
    "duration": 9,
    "start_time": "2022-03-17T12:58:50.791Z"
   },
   {
    "duration": 160,
    "start_time": "2022-03-17T12:58:50.803Z"
   },
   {
    "duration": 31,
    "start_time": "2022-03-17T12:58:50.966Z"
   },
   {
    "duration": 117,
    "start_time": "2022-03-17T12:58:51.000Z"
   },
   {
    "duration": 8,
    "start_time": "2022-03-17T12:58:51.120Z"
   },
   {
    "duration": 85,
    "start_time": "2022-03-17T12:58:51.130Z"
   },
   {
    "duration": 38,
    "start_time": "2022-03-17T12:58:51.218Z"
   },
   {
    "duration": 29,
    "start_time": "2022-03-17T12:58:51.258Z"
   },
   {
    "duration": 38,
    "start_time": "2022-03-17T12:58:51.290Z"
   },
   {
    "duration": 66,
    "start_time": "2022-03-17T12:58:51.330Z"
   },
   {
    "duration": 14,
    "start_time": "2022-03-17T12:58:51.399Z"
   },
   {
    "duration": 70,
    "start_time": "2022-03-17T12:58:51.416Z"
   },
   {
    "duration": 43,
    "start_time": "2022-03-17T12:58:51.491Z"
   },
   {
    "duration": 48,
    "start_time": "2022-03-17T12:58:51.536Z"
   },
   {
    "duration": 15041,
    "start_time": "2022-03-17T12:58:51.587Z"
   },
   {
    "duration": 89,
    "start_time": "2022-03-17T12:59:16.932Z"
   },
   {
    "duration": 10,
    "start_time": "2022-03-17T12:59:17.025Z"
   },
   {
    "duration": 153,
    "start_time": "2022-03-17T12:59:17.038Z"
   },
   {
    "duration": 23,
    "start_time": "2022-03-17T12:59:17.194Z"
   },
   {
    "duration": 123,
    "start_time": "2022-03-17T12:59:17.220Z"
   },
   {
    "duration": 9,
    "start_time": "2022-03-17T12:59:17.345Z"
   },
   {
    "duration": 83,
    "start_time": "2022-03-17T12:59:17.356Z"
   },
   {
    "duration": 65,
    "start_time": "2022-03-17T12:59:17.442Z"
   },
   {
    "duration": 9,
    "start_time": "2022-03-17T12:59:17.509Z"
   },
   {
    "duration": 72,
    "start_time": "2022-03-17T12:59:17.521Z"
   },
   {
    "duration": 57,
    "start_time": "2022-03-17T12:59:17.595Z"
   },
   {
    "duration": 39,
    "start_time": "2022-03-17T12:59:17.656Z"
   },
   {
    "duration": 55,
    "start_time": "2022-03-17T12:59:17.697Z"
   },
   {
    "duration": 67,
    "start_time": "2022-03-17T12:59:17.755Z"
   },
   {
    "duration": 21,
    "start_time": "2022-03-17T12:59:17.824Z"
   },
   {
    "duration": 15112,
    "start_time": "2022-03-17T12:59:17.847Z"
   },
   {
    "duration": 40,
    "start_time": "2022-03-17T12:59:32.961Z"
   },
   {
    "duration": 40,
    "start_time": "2022-03-17T12:59:33.003Z"
   },
   {
    "duration": 76,
    "start_time": "2022-03-17T12:59:33.046Z"
   },
   {
    "duration": 39,
    "start_time": "2022-03-17T12:59:33.125Z"
   },
   {
    "duration": 17,
    "start_time": "2022-03-17T12:59:33.183Z"
   },
   {
    "duration": 3075,
    "start_time": "2022-03-17T12:59:41.492Z"
   },
   {
    "duration": 20,
    "start_time": "2022-03-17T12:59:55.013Z"
   },
   {
    "duration": 57,
    "start_time": "2022-03-17T13:03:48.250Z"
   },
   {
    "duration": 14,
    "start_time": "2022-03-17T13:06:31.794Z"
   },
   {
    "duration": 13,
    "start_time": "2022-03-17T13:06:53.153Z"
   },
   {
    "duration": 32,
    "start_time": "2022-03-17T13:15:12.487Z"
   },
   {
    "duration": 682,
    "start_time": "2022-03-17T13:15:25.656Z"
   },
   {
    "duration": 21,
    "start_time": "2022-03-17T13:15:26.341Z"
   },
   {
    "duration": 176,
    "start_time": "2022-03-17T13:15:26.365Z"
   },
   {
    "duration": 23,
    "start_time": "2022-03-17T13:15:26.544Z"
   },
   {
    "duration": 125,
    "start_time": "2022-03-17T13:15:26.583Z"
   },
   {
    "duration": 11,
    "start_time": "2022-03-17T13:15:26.710Z"
   },
   {
    "duration": 104,
    "start_time": "2022-03-17T13:15:26.724Z"
   },
   {
    "duration": 53,
    "start_time": "2022-03-17T13:15:26.831Z"
   },
   {
    "duration": 10,
    "start_time": "2022-03-17T13:15:26.887Z"
   },
   {
    "duration": 101,
    "start_time": "2022-03-17T13:15:26.905Z"
   },
   {
    "duration": 45,
    "start_time": "2022-03-17T13:15:27.010Z"
   },
   {
    "duration": 48,
    "start_time": "2022-03-17T13:15:27.057Z"
   },
   {
    "duration": 45,
    "start_time": "2022-03-17T13:15:27.107Z"
   },
   {
    "duration": 72,
    "start_time": "2022-03-17T13:15:27.154Z"
   },
   {
    "duration": 21,
    "start_time": "2022-03-17T13:15:27.228Z"
   },
   {
    "duration": 16435,
    "start_time": "2022-03-17T13:15:27.251Z"
   },
   {
    "duration": 34,
    "start_time": "2022-03-17T13:15:43.689Z"
   },
   {
    "duration": 78,
    "start_time": "2022-03-17T13:15:43.725Z"
   },
   {
    "duration": 54,
    "start_time": "2022-03-17T13:15:43.806Z"
   },
   {
    "duration": 67,
    "start_time": "2022-03-17T13:15:43.862Z"
   },
   {
    "duration": 15,
    "start_time": "2022-03-17T13:15:43.931Z"
   },
   {
    "duration": 3996,
    "start_time": "2022-03-17T13:15:43.948Z"
   },
   {
    "duration": 17,
    "start_time": "2022-03-17T13:15:47.947Z"
   },
   {
    "duration": 20,
    "start_time": "2022-03-17T13:15:47.984Z"
   },
   {
    "duration": 33,
    "start_time": "2022-03-17T13:15:48.007Z"
   },
   {
    "duration": 18,
    "start_time": "2022-03-17T13:15:48.042Z"
   },
   {
    "duration": 57,
    "start_time": "2022-03-17T13:15:52.399Z"
   },
   {
    "duration": 153,
    "start_time": "2022-03-17T13:18:51.260Z"
   },
   {
    "duration": 13,
    "start_time": "2022-03-17T13:18:58.388Z"
   },
   {
    "duration": 8,
    "start_time": "2022-03-17T13:21:09.026Z"
   },
   {
    "duration": 103,
    "start_time": "2022-03-17T13:25:18.701Z"
   },
   {
    "duration": 14,
    "start_time": "2022-03-17T13:25:18.808Z"
   },
   {
    "duration": 176,
    "start_time": "2022-03-17T13:25:18.825Z"
   },
   {
    "duration": 24,
    "start_time": "2022-03-17T13:25:19.006Z"
   },
   {
    "duration": 135,
    "start_time": "2022-03-17T13:25:19.032Z"
   },
   {
    "duration": 16,
    "start_time": "2022-03-17T13:25:19.170Z"
   },
   {
    "duration": 92,
    "start_time": "2022-03-17T13:25:19.189Z"
   },
   {
    "duration": 63,
    "start_time": "2022-03-17T13:25:19.284Z"
   },
   {
    "duration": 13,
    "start_time": "2022-03-17T13:25:19.350Z"
   },
   {
    "duration": 61,
    "start_time": "2022-03-17T13:25:19.368Z"
   },
   {
    "duration": 66,
    "start_time": "2022-03-17T13:25:19.432Z"
   },
   {
    "duration": 30,
    "start_time": "2022-03-17T13:25:19.501Z"
   },
   {
    "duration": 62,
    "start_time": "2022-03-17T13:25:19.533Z"
   },
   {
    "duration": 58,
    "start_time": "2022-03-17T13:25:19.599Z"
   },
   {
    "duration": 48,
    "start_time": "2022-03-17T13:25:19.660Z"
   },
   {
    "duration": 16267,
    "start_time": "2022-03-17T13:25:19.710Z"
   },
   {
    "duration": 33,
    "start_time": "2022-03-17T13:25:35.985Z"
   },
   {
    "duration": 60,
    "start_time": "2022-03-17T13:25:45.721Z"
   },
   {
    "duration": 8,
    "start_time": "2022-03-17T13:26:17.807Z"
   },
   {
    "duration": 640,
    "start_time": "2022-03-17T13:26:59.845Z"
   },
   {
    "duration": 22,
    "start_time": "2022-03-17T13:27:00.491Z"
   },
   {
    "duration": 189,
    "start_time": "2022-03-17T13:27:00.516Z"
   },
   {
    "duration": 21,
    "start_time": "2022-03-17T13:27:00.710Z"
   },
   {
    "duration": 136,
    "start_time": "2022-03-17T13:27:00.733Z"
   },
   {
    "duration": 21,
    "start_time": "2022-03-17T13:27:00.872Z"
   },
   {
    "duration": 62,
    "start_time": "2022-03-17T13:27:00.896Z"
   },
   {
    "duration": 69,
    "start_time": "2022-03-17T13:27:00.961Z"
   },
   {
    "duration": 8,
    "start_time": "2022-03-17T13:27:01.032Z"
   },
   {
    "duration": 78,
    "start_time": "2022-03-17T13:27:01.044Z"
   },
   {
    "duration": 72,
    "start_time": "2022-03-17T13:27:01.125Z"
   },
   {
    "duration": 14,
    "start_time": "2022-03-17T13:27:01.199Z"
   },
   {
    "duration": 68,
    "start_time": "2022-03-17T13:27:01.215Z"
   },
   {
    "duration": 54,
    "start_time": "2022-03-17T13:27:01.287Z"
   },
   {
    "duration": 43,
    "start_time": "2022-03-17T13:27:01.343Z"
   },
   {
    "duration": 17762,
    "start_time": "2022-03-17T13:27:01.389Z"
   },
   {
    "duration": 46,
    "start_time": "2022-03-17T13:27:19.153Z"
   },
   {
    "duration": 6,
    "start_time": "2022-03-17T13:27:19.202Z"
   },
   {
    "duration": 60,
    "start_time": "2022-03-17T13:27:19.211Z"
   },
   {
    "duration": 62,
    "start_time": "2022-03-17T13:27:19.273Z"
   },
   {
    "duration": 19,
    "start_time": "2022-03-17T13:27:19.337Z"
   },
   {
    "duration": 3477,
    "start_time": "2022-03-17T13:27:19.384Z"
   },
   {
    "duration": 22,
    "start_time": "2022-03-17T13:27:22.863Z"
   },
   {
    "duration": 24,
    "start_time": "2022-03-17T13:27:22.889Z"
   },
   {
    "duration": 110,
    "start_time": "2022-03-17T13:27:22.915Z"
   },
   {
    "duration": 11,
    "start_time": "2022-03-17T13:27:23.027Z"
   },
   {
    "duration": 43,
    "start_time": "2022-03-17T13:29:10.407Z"
   },
   {
    "duration": 697,
    "start_time": "2022-03-17T13:31:47.568Z"
   },
   {
    "duration": 23,
    "start_time": "2022-03-17T13:31:48.268Z"
   },
   {
    "duration": 168,
    "start_time": "2022-03-17T13:31:48.295Z"
   },
   {
    "duration": 42,
    "start_time": "2022-03-17T13:31:48.465Z"
   },
   {
    "duration": 167,
    "start_time": "2022-03-17T13:31:48.511Z"
   },
   {
    "duration": 14,
    "start_time": "2022-03-17T13:31:48.685Z"
   },
   {
    "duration": 94,
    "start_time": "2022-03-17T13:31:48.702Z"
   },
   {
    "duration": 51,
    "start_time": "2022-03-17T13:31:48.800Z"
   },
   {
    "duration": 32,
    "start_time": "2022-03-17T13:31:48.853Z"
   },
   {
    "duration": 55,
    "start_time": "2022-03-17T13:31:48.888Z"
   },
   {
    "duration": 61,
    "start_time": "2022-03-17T13:31:48.946Z"
   },
   {
    "duration": 29,
    "start_time": "2022-03-17T13:31:49.009Z"
   },
   {
    "duration": 59,
    "start_time": "2022-03-17T13:31:49.040Z"
   },
   {
    "duration": 48,
    "start_time": "2022-03-17T13:31:49.105Z"
   },
   {
    "duration": 46,
    "start_time": "2022-03-17T13:31:49.156Z"
   },
   {
    "duration": 16123,
    "start_time": "2022-03-17T13:31:49.204Z"
   },
   {
    "duration": 30,
    "start_time": "2022-03-17T13:32:05.330Z"
   },
   {
    "duration": 69,
    "start_time": "2022-03-17T13:32:05.363Z"
   },
   {
    "duration": 18,
    "start_time": "2022-03-17T13:32:05.435Z"
   },
   {
    "duration": 3568,
    "start_time": "2022-03-17T13:32:05.456Z"
   },
   {
    "duration": 15,
    "start_time": "2022-03-17T13:32:09.026Z"
   },
   {
    "duration": 49,
    "start_time": "2022-03-17T13:32:09.043Z"
   },
   {
    "duration": 95,
    "start_time": "2022-03-17T13:32:09.095Z"
   },
   {
    "duration": 15,
    "start_time": "2022-03-17T13:32:09.194Z"
   },
   {
    "duration": 115,
    "start_time": "2022-03-17T13:33:33.002Z"
   },
   {
    "duration": 45,
    "start_time": "2022-03-17T13:33:37.913Z"
   },
   {
    "duration": 59,
    "start_time": "2022-03-17T13:34:47.601Z"
   },
   {
    "duration": 145,
    "start_time": "2022-03-17T13:35:17.997Z"
   },
   {
    "duration": 8,
    "start_time": "2022-03-17T13:35:24.306Z"
   },
   {
    "duration": 67,
    "start_time": "2022-03-17T13:35:25.872Z"
   },
   {
    "duration": 50,
    "start_time": "2022-03-17T13:36:17.320Z"
   },
   {
    "duration": 56,
    "start_time": "2022-03-17T13:37:23.776Z"
   },
   {
    "duration": 8,
    "start_time": "2022-03-17T13:37:33.321Z"
   },
   {
    "duration": 73,
    "start_time": "2022-03-17T13:37:37.479Z"
   },
   {
    "duration": 8,
    "start_time": "2022-03-17T13:37:41.497Z"
   },
   {
    "duration": 9,
    "start_time": "2022-03-17T13:38:35.782Z"
   },
   {
    "duration": 14,
    "start_time": "2022-03-17T13:38:52.601Z"
   },
   {
    "duration": 111,
    "start_time": "2022-03-17T13:40:30.312Z"
   },
   {
    "duration": 38,
    "start_time": "2022-03-17T13:40:35.419Z"
   },
   {
    "duration": 20,
    "start_time": "2022-03-17T13:43:44.532Z"
   },
   {
    "duration": 11,
    "start_time": "2022-03-17T13:54:26.507Z"
   },
   {
    "duration": 61,
    "start_time": "2022-03-17T13:54:33.819Z"
   },
   {
    "duration": 646,
    "start_time": "2022-03-17T13:55:32.767Z"
   },
   {
    "duration": 24,
    "start_time": "2022-03-17T13:55:33.417Z"
   },
   {
    "duration": 227,
    "start_time": "2022-03-17T13:55:33.444Z"
   },
   {
    "duration": 37,
    "start_time": "2022-03-17T13:55:33.675Z"
   },
   {
    "duration": 173,
    "start_time": "2022-03-17T13:55:33.714Z"
   },
   {
    "duration": 15,
    "start_time": "2022-03-17T13:55:33.890Z"
   },
   {
    "duration": 79,
    "start_time": "2022-03-17T13:55:33.908Z"
   },
   {
    "duration": 44,
    "start_time": "2022-03-17T13:55:33.990Z"
   },
   {
    "duration": 7,
    "start_time": "2022-03-17T13:55:34.036Z"
   },
   {
    "duration": 78,
    "start_time": "2022-03-17T13:55:34.048Z"
   },
   {
    "duration": 62,
    "start_time": "2022-03-17T13:55:34.129Z"
   },
   {
    "duration": 15,
    "start_time": "2022-03-17T13:55:34.195Z"
   },
   {
    "duration": 42,
    "start_time": "2022-03-17T13:55:34.212Z"
   },
   {
    "duration": 52,
    "start_time": "2022-03-17T13:55:34.293Z"
   },
   {
    "duration": 36,
    "start_time": "2022-03-17T13:55:34.347Z"
   },
   {
    "duration": 15836,
    "start_time": "2022-03-17T13:55:34.387Z"
   },
   {
    "duration": 29,
    "start_time": "2022-03-17T13:55:50.226Z"
   },
   {
    "duration": 65,
    "start_time": "2022-03-17T13:55:50.257Z"
   },
   {
    "duration": 33,
    "start_time": "2022-03-17T13:55:50.325Z"
   },
   {
    "duration": 3279,
    "start_time": "2022-03-17T13:55:50.360Z"
   },
   {
    "duration": 13,
    "start_time": "2022-03-17T13:55:53.641Z"
   },
   {
    "duration": 33,
    "start_time": "2022-03-17T13:55:53.657Z"
   },
   {
    "duration": 107,
    "start_time": "2022-03-17T13:55:53.694Z"
   },
   {
    "duration": 16,
    "start_time": "2022-03-17T13:55:53.804Z"
   },
   {
    "duration": 30,
    "start_time": "2022-03-17T13:55:53.822Z"
   },
   {
    "duration": 30,
    "start_time": "2022-03-17T13:55:53.854Z"
   },
   {
    "duration": 67,
    "start_time": "2022-03-17T13:55:53.887Z"
   },
   {
    "duration": 25,
    "start_time": "2022-03-17T14:39:44.308Z"
   },
   {
    "duration": 40,
    "start_time": "2022-03-17T14:40:09.382Z"
   },
   {
    "duration": 44,
    "start_time": "2022-03-17T14:41:44.676Z"
   },
   {
    "duration": 105,
    "start_time": "2022-03-17T14:41:51.372Z"
   },
   {
    "duration": 8,
    "start_time": "2022-03-17T14:44:18.994Z"
   },
   {
    "duration": 8,
    "start_time": "2022-03-17T14:44:30.051Z"
   },
   {
    "duration": 9,
    "start_time": "2022-03-17T14:44:33.580Z"
   },
   {
    "duration": 9,
    "start_time": "2022-03-17T14:44:37.866Z"
   },
   {
    "duration": 10,
    "start_time": "2022-03-17T14:47:17.046Z"
   },
   {
    "duration": 603,
    "start_time": "2022-03-17T14:48:33.024Z"
   },
   {
    "duration": 20,
    "start_time": "2022-03-17T14:48:33.630Z"
   },
   {
    "duration": 155,
    "start_time": "2022-03-17T14:48:33.652Z"
   },
   {
    "duration": 28,
    "start_time": "2022-03-17T14:48:33.810Z"
   },
   {
    "duration": 134,
    "start_time": "2022-03-17T14:48:33.841Z"
   },
   {
    "duration": 14,
    "start_time": "2022-03-17T14:48:33.977Z"
   },
   {
    "duration": 68,
    "start_time": "2022-03-17T14:48:33.993Z"
   },
   {
    "duration": 55,
    "start_time": "2022-03-17T14:48:34.065Z"
   },
   {
    "duration": 8,
    "start_time": "2022-03-17T14:48:34.123Z"
   },
   {
    "duration": 65,
    "start_time": "2022-03-17T14:48:34.135Z"
   },
   {
    "duration": 41,
    "start_time": "2022-03-17T14:48:34.202Z"
   },
   {
    "duration": 37,
    "start_time": "2022-03-17T14:48:34.246Z"
   },
   {
    "duration": 40,
    "start_time": "2022-03-17T14:48:34.286Z"
   },
   {
    "duration": 65,
    "start_time": "2022-03-17T14:48:34.328Z"
   },
   {
    "duration": 20,
    "start_time": "2022-03-17T14:48:34.395Z"
   },
   {
    "duration": 2431,
    "start_time": "2022-03-17T14:48:34.418Z"
   },
   {
    "duration": 0,
    "start_time": "2022-03-17T14:48:36.852Z"
   },
   {
    "duration": 0,
    "start_time": "2022-03-17T14:48:36.854Z"
   },
   {
    "duration": 0,
    "start_time": "2022-03-17T14:48:36.856Z"
   },
   {
    "duration": 0,
    "start_time": "2022-03-17T14:48:36.857Z"
   },
   {
    "duration": 0,
    "start_time": "2022-03-17T14:48:36.859Z"
   },
   {
    "duration": 0,
    "start_time": "2022-03-17T14:48:36.861Z"
   },
   {
    "duration": 0,
    "start_time": "2022-03-17T14:48:36.863Z"
   },
   {
    "duration": 0,
    "start_time": "2022-03-17T14:48:36.884Z"
   },
   {
    "duration": 0,
    "start_time": "2022-03-17T14:48:36.886Z"
   },
   {
    "duration": 0,
    "start_time": "2022-03-17T14:48:36.888Z"
   },
   {
    "duration": 0,
    "start_time": "2022-03-17T14:48:36.889Z"
   },
   {
    "duration": 16,
    "start_time": "2022-03-17T14:51:02.374Z"
   },
   {
    "duration": 14043,
    "start_time": "2022-03-17T14:51:23.504Z"
   },
   {
    "duration": 29,
    "start_time": "2022-03-17T14:51:49.608Z"
   },
   {
    "duration": 46,
    "start_time": "2022-03-17T14:52:13.471Z"
   },
   {
    "duration": 17,
    "start_time": "2022-03-17T14:52:15.945Z"
   },
   {
    "duration": 576,
    "start_time": "2022-03-17T14:52:18.038Z"
   },
   {
    "duration": 16,
    "start_time": "2022-03-17T14:52:30.783Z"
   },
   {
    "duration": 3197,
    "start_time": "2022-03-17T14:52:34.928Z"
   },
   {
    "duration": 26,
    "start_time": "2022-03-17T14:52:45.379Z"
   },
   {
    "duration": 27,
    "start_time": "2022-03-17T14:53:01.177Z"
   },
   {
    "duration": 719,
    "start_time": "2022-03-17T14:53:09.377Z"
   },
   {
    "duration": 21,
    "start_time": "2022-03-17T14:53:10.098Z"
   },
   {
    "duration": 155,
    "start_time": "2022-03-17T14:53:10.121Z"
   },
   {
    "duration": 24,
    "start_time": "2022-03-17T14:53:10.279Z"
   },
   {
    "duration": 124,
    "start_time": "2022-03-17T14:53:10.305Z"
   },
   {
    "duration": 12,
    "start_time": "2022-03-17T14:53:10.431Z"
   },
   {
    "duration": 87,
    "start_time": "2022-03-17T14:53:10.445Z"
   },
   {
    "duration": 64,
    "start_time": "2022-03-17T14:53:10.535Z"
   },
   {
    "duration": 10,
    "start_time": "2022-03-17T14:53:10.602Z"
   },
   {
    "duration": 72,
    "start_time": "2022-03-17T14:53:10.618Z"
   },
   {
    "duration": 40,
    "start_time": "2022-03-17T14:53:10.692Z"
   },
   {
    "duration": 49,
    "start_time": "2022-03-17T14:53:10.734Z"
   },
   {
    "duration": 64,
    "start_time": "2022-03-17T14:53:10.785Z"
   },
   {
    "duration": 48,
    "start_time": "2022-03-17T14:53:10.852Z"
   },
   {
    "duration": 19,
    "start_time": "2022-03-17T14:53:10.902Z"
   },
   {
    "duration": 15234,
    "start_time": "2022-03-17T14:53:10.923Z"
   },
   {
    "duration": 37,
    "start_time": "2022-03-17T14:53:26.159Z"
   },
   {
    "duration": 46,
    "start_time": "2022-03-17T14:53:26.199Z"
   },
   {
    "duration": 15,
    "start_time": "2022-03-17T14:53:26.247Z"
   },
   {
    "duration": 3311,
    "start_time": "2022-03-17T14:53:26.285Z"
   },
   {
    "duration": 13,
    "start_time": "2022-03-17T14:53:29.599Z"
   },
   {
    "duration": 28,
    "start_time": "2022-03-17T14:53:29.614Z"
   },
   {
    "duration": 103,
    "start_time": "2022-03-17T14:53:29.645Z"
   },
   {
    "duration": 11,
    "start_time": "2022-03-17T14:53:29.750Z"
   },
   {
    "duration": 29,
    "start_time": "2022-03-17T14:53:29.764Z"
   },
   {
    "duration": 12,
    "start_time": "2022-03-17T14:53:29.795Z"
   },
   {
    "duration": 55,
    "start_time": "2022-03-17T14:53:29.809Z"
   },
   {
    "duration": 783,
    "start_time": "2022-03-17T14:59:44.519Z"
   },
   {
    "duration": 28,
    "start_time": "2022-03-17T14:59:45.306Z"
   },
   {
    "duration": 157,
    "start_time": "2022-03-17T14:59:45.337Z"
   },
   {
    "duration": 22,
    "start_time": "2022-03-17T14:59:45.497Z"
   },
   {
    "duration": 126,
    "start_time": "2022-03-17T14:59:45.521Z"
   },
   {
    "duration": 12,
    "start_time": "2022-03-17T14:59:45.649Z"
   },
   {
    "duration": 73,
    "start_time": "2022-03-17T14:59:45.663Z"
   },
   {
    "duration": 56,
    "start_time": "2022-03-17T14:59:45.738Z"
   },
   {
    "duration": 8,
    "start_time": "2022-03-17T14:59:45.796Z"
   },
   {
    "duration": 51,
    "start_time": "2022-03-17T14:59:45.810Z"
   },
   {
    "duration": 42,
    "start_time": "2022-03-17T14:59:45.884Z"
   },
   {
    "duration": 20,
    "start_time": "2022-03-17T14:59:45.929Z"
   },
   {
    "duration": 68,
    "start_time": "2022-03-17T14:59:45.951Z"
   },
   {
    "duration": 45,
    "start_time": "2022-03-17T14:59:46.021Z"
   },
   {
    "duration": 20,
    "start_time": "2022-03-17T14:59:46.084Z"
   },
   {
    "duration": 15000,
    "start_time": "2022-03-17T14:59:46.107Z"
   },
   {
    "duration": 30,
    "start_time": "2022-03-17T15:00:01.109Z"
   },
   {
    "duration": 66,
    "start_time": "2022-03-17T15:00:01.142Z"
   },
   {
    "duration": 18,
    "start_time": "2022-03-17T15:00:01.210Z"
   },
   {
    "duration": 3373,
    "start_time": "2022-03-17T15:00:01.230Z"
   },
   {
    "duration": 15,
    "start_time": "2022-03-17T15:00:04.605Z"
   },
   {
    "duration": 25,
    "start_time": "2022-03-17T15:00:04.623Z"
   },
   {
    "duration": 106,
    "start_time": "2022-03-17T15:00:04.650Z"
   },
   {
    "duration": 12,
    "start_time": "2022-03-17T15:00:04.759Z"
   },
   {
    "duration": 31,
    "start_time": "2022-03-17T15:00:04.773Z"
   },
   {
    "duration": 12,
    "start_time": "2022-03-17T15:00:04.807Z"
   },
   {
    "duration": 81,
    "start_time": "2022-03-17T15:00:04.822Z"
   },
   {
    "duration": 15,
    "start_time": "2022-03-17T15:01:04.570Z"
   },
   {
    "duration": 10,
    "start_time": "2022-03-17T15:01:16.859Z"
   },
   {
    "duration": 571,
    "start_time": "2022-03-17T15:01:37.623Z"
   },
   {
    "duration": 21,
    "start_time": "2022-03-17T15:01:38.197Z"
   },
   {
    "duration": 152,
    "start_time": "2022-03-17T15:01:38.221Z"
   },
   {
    "duration": 28,
    "start_time": "2022-03-17T15:01:38.376Z"
   },
   {
    "duration": 125,
    "start_time": "2022-03-17T15:01:38.406Z"
   },
   {
    "duration": 10,
    "start_time": "2022-03-17T15:01:38.534Z"
   },
   {
    "duration": 8,
    "start_time": "2022-03-17T15:01:38.546Z"
   },
   {
    "duration": 64,
    "start_time": "2022-03-17T15:01:38.556Z"
   },
   {
    "duration": 8,
    "start_time": "2022-03-17T15:01:38.622Z"
   },
   {
    "duration": 67,
    "start_time": "2022-03-17T15:01:38.636Z"
   },
   {
    "duration": 41,
    "start_time": "2022-03-17T15:01:38.706Z"
   },
   {
    "duration": 36,
    "start_time": "2022-03-17T15:01:38.749Z"
   },
   {
    "duration": 42,
    "start_time": "2022-03-17T15:01:38.787Z"
   },
   {
    "duration": 76,
    "start_time": "2022-03-17T15:01:38.831Z"
   },
   {
    "duration": 22,
    "start_time": "2022-03-17T15:01:38.909Z"
   },
   {
    "duration": 15560,
    "start_time": "2022-03-17T15:01:38.934Z"
   },
   {
    "duration": 31,
    "start_time": "2022-03-17T15:01:54.497Z"
   },
   {
    "duration": 66,
    "start_time": "2022-03-17T15:01:54.530Z"
   },
   {
    "duration": 16,
    "start_time": "2022-03-17T15:01:54.598Z"
   },
   {
    "duration": 3193,
    "start_time": "2022-03-17T15:01:54.616Z"
   },
   {
    "duration": 13,
    "start_time": "2022-03-17T15:01:57.811Z"
   },
   {
    "duration": 26,
    "start_time": "2022-03-17T15:01:57.826Z"
   },
   {
    "duration": 98,
    "start_time": "2022-03-17T15:01:57.855Z"
   },
   {
    "duration": 11,
    "start_time": "2022-03-17T15:01:57.955Z"
   },
   {
    "duration": 43,
    "start_time": "2022-03-17T15:01:57.969Z"
   },
   {
    "duration": 14,
    "start_time": "2022-03-17T15:01:58.015Z"
   },
   {
    "duration": 61,
    "start_time": "2022-03-17T15:01:58.032Z"
   },
   {
    "duration": 450,
    "start_time": "2022-03-18T15:06:17.796Z"
   },
   {
    "duration": 13,
    "start_time": "2022-03-18T15:06:18.248Z"
   },
   {
    "duration": 108,
    "start_time": "2022-03-18T15:06:18.262Z"
   },
   {
    "duration": 15,
    "start_time": "2022-03-18T15:06:18.372Z"
   },
   {
    "duration": 80,
    "start_time": "2022-03-18T15:06:18.388Z"
   },
   {
    "duration": 5,
    "start_time": "2022-03-18T15:06:18.470Z"
   },
   {
    "duration": 8,
    "start_time": "2022-03-18T15:06:18.477Z"
   },
   {
    "duration": 22,
    "start_time": "2022-03-18T15:06:18.487Z"
   },
   {
    "duration": 26,
    "start_time": "2022-03-18T15:06:18.511Z"
   },
   {
    "duration": 23,
    "start_time": "2022-03-18T15:06:18.539Z"
   },
   {
    "duration": 22,
    "start_time": "2022-03-18T15:06:18.563Z"
   },
   {
    "duration": 9,
    "start_time": "2022-03-18T15:06:18.587Z"
   },
   {
    "duration": 48,
    "start_time": "2022-03-18T15:06:18.597Z"
   },
   {
    "duration": 34,
    "start_time": "2022-03-18T15:06:18.646Z"
   },
   {
    "duration": 13,
    "start_time": "2022-03-18T15:06:18.682Z"
   },
   {
    "duration": 9049,
    "start_time": "2022-03-18T15:06:18.697Z"
   },
   {
    "duration": 17,
    "start_time": "2022-03-18T15:06:27.748Z"
   },
   {
    "duration": 22,
    "start_time": "2022-03-18T15:06:27.766Z"
   },
   {
    "duration": 9,
    "start_time": "2022-03-18T15:06:27.789Z"
   },
   {
    "duration": 1944,
    "start_time": "2022-03-18T15:06:27.800Z"
   },
   {
    "duration": 11,
    "start_time": "2022-03-18T15:06:29.745Z"
   },
   {
    "duration": 9,
    "start_time": "2022-03-18T15:06:29.757Z"
   },
   {
    "duration": 66,
    "start_time": "2022-03-18T15:06:29.768Z"
   },
   {
    "duration": 6,
    "start_time": "2022-03-18T15:06:29.836Z"
   },
   {
    "duration": 15,
    "start_time": "2022-03-18T15:06:29.844Z"
   },
   {
    "duration": 8,
    "start_time": "2022-03-18T15:06:29.860Z"
   },
   {
    "duration": 29,
    "start_time": "2022-03-18T15:06:29.870Z"
   },
   {
    "duration": 23,
    "start_time": "2022-03-18T15:10:48.212Z"
   },
   {
    "duration": 24,
    "start_time": "2022-03-18T15:11:15.540Z"
   },
   {
    "duration": 33,
    "start_time": "2022-03-18T15:14:22.241Z"
   },
   {
    "duration": 28,
    "start_time": "2022-03-18T15:14:37.806Z"
   },
   {
    "duration": 368,
    "start_time": "2022-03-18T15:16:16.645Z"
   },
   {
    "duration": 299,
    "start_time": "2022-03-18T15:16:57.021Z"
   },
   {
    "duration": 289,
    "start_time": "2022-03-18T15:17:16.550Z"
   },
   {
    "duration": 23,
    "start_time": "2022-03-18T15:18:22.326Z"
   },
   {
    "duration": 1155,
    "start_time": "2022-03-18T15:51:28.479Z"
   },
   {
    "duration": 1252,
    "start_time": "2022-03-18T15:51:44.743Z"
   },
   {
    "duration": 2015,
    "start_time": "2022-03-18T15:51:49.975Z"
   },
   {
    "duration": 1343,
    "start_time": "2022-03-18T15:52:26.543Z"
   },
   {
    "duration": 22,
    "start_time": "2022-03-18T15:53:26.655Z"
   },
   {
    "duration": 23,
    "start_time": "2022-03-18T15:54:19.871Z"
   },
   {
    "duration": 22,
    "start_time": "2022-03-18T15:54:24.823Z"
   },
   {
    "duration": 11,
    "start_time": "2022-03-18T15:54:40.463Z"
   },
   {
    "duration": 13,
    "start_time": "2022-03-18T15:55:10.487Z"
   },
   {
    "duration": 9,
    "start_time": "2022-03-18T15:55:20.208Z"
   },
   {
    "duration": 2580,
    "start_time": "2022-03-18T15:55:28.958Z"
   },
   {
    "duration": 12,
    "start_time": "2022-03-18T15:55:40.990Z"
   },
   {
    "duration": 12,
    "start_time": "2022-03-18T15:56:43.152Z"
   },
   {
    "duration": 23,
    "start_time": "2022-03-18T15:58:02.536Z"
   },
   {
    "duration": 17,
    "start_time": "2022-03-18T15:58:49.144Z"
   },
   {
    "duration": 17,
    "start_time": "2022-03-18T15:59:12.896Z"
   },
   {
    "duration": 24,
    "start_time": "2022-03-18T15:59:17.590Z"
   },
   {
    "duration": 22,
    "start_time": "2022-03-18T15:59:37.175Z"
   },
   {
    "duration": 23,
    "start_time": "2022-03-18T16:00:38.038Z"
   },
   {
    "duration": 459,
    "start_time": "2022-03-18T16:01:04.554Z"
   },
   {
    "duration": 13,
    "start_time": "2022-03-18T16:01:05.015Z"
   },
   {
    "duration": 106,
    "start_time": "2022-03-18T16:01:05.033Z"
   },
   {
    "duration": 15,
    "start_time": "2022-03-18T16:01:05.141Z"
   },
   {
    "duration": 81,
    "start_time": "2022-03-18T16:01:05.158Z"
   },
   {
    "duration": 6,
    "start_time": "2022-03-18T16:01:05.241Z"
   },
   {
    "duration": 10,
    "start_time": "2022-03-18T16:01:05.249Z"
   },
   {
    "duration": 32,
    "start_time": "2022-03-18T16:01:05.260Z"
   },
   {
    "duration": 6,
    "start_time": "2022-03-18T16:01:05.294Z"
   },
   {
    "duration": 42,
    "start_time": "2022-03-18T16:01:05.302Z"
   },
   {
    "duration": 24,
    "start_time": "2022-03-18T16:01:05.346Z"
   },
   {
    "duration": 9,
    "start_time": "2022-03-18T16:01:05.372Z"
   },
   {
    "duration": 50,
    "start_time": "2022-03-18T16:01:05.383Z"
   },
   {
    "duration": 33,
    "start_time": "2022-03-18T16:01:05.434Z"
   },
   {
    "duration": 12,
    "start_time": "2022-03-18T16:01:05.469Z"
   },
   {
    "duration": 8996,
    "start_time": "2022-03-18T16:01:05.483Z"
   },
   {
    "duration": 17,
    "start_time": "2022-03-18T16:01:14.481Z"
   },
   {
    "duration": 38,
    "start_time": "2022-03-18T16:01:14.500Z"
   },
   {
    "duration": 9,
    "start_time": "2022-03-18T16:01:14.540Z"
   },
   {
    "duration": 1912,
    "start_time": "2022-03-18T16:01:14.551Z"
   },
   {
    "duration": 9,
    "start_time": "2022-03-18T16:01:16.464Z"
   },
   {
    "duration": 10,
    "start_time": "2022-03-18T16:01:16.475Z"
   },
   {
    "duration": 68,
    "start_time": "2022-03-18T16:01:16.487Z"
   },
   {
    "duration": 9,
    "start_time": "2022-03-18T16:01:16.557Z"
   },
   {
    "duration": 14,
    "start_time": "2022-03-18T16:01:16.568Z"
   },
   {
    "duration": 8,
    "start_time": "2022-03-18T16:01:16.584Z"
   },
   {
    "duration": 58,
    "start_time": "2022-03-18T16:01:16.594Z"
   },
   {
    "duration": 23,
    "start_time": "2022-03-18T16:01:16.656Z"
   },
   {
    "duration": 31,
    "start_time": "2022-03-18T16:01:16.681Z"
   },
   {
    "duration": 348,
    "start_time": "2022-03-18T16:01:16.732Z"
   },
   {
    "duration": 24,
    "start_time": "2022-03-18T16:01:17.082Z"
   },
   {
    "duration": 44,
    "start_time": "2022-03-18T16:01:17.108Z"
   },
   {
    "duration": 25,
    "start_time": "2022-03-18T16:04:05.291Z"
   },
   {
    "duration": 25,
    "start_time": "2022-03-18T16:04:15.345Z"
   },
   {
    "duration": 74,
    "start_time": "2022-03-18T16:04:23.121Z"
   },
   {
    "duration": 24,
    "start_time": "2022-03-18T16:04:31.162Z"
   },
   {
    "duration": 21,
    "start_time": "2022-03-18T16:09:07.825Z"
   },
   {
    "duration": 23,
    "start_time": "2022-03-18T16:12:29.962Z"
   },
   {
    "duration": 22,
    "start_time": "2022-03-18T16:13:24.563Z"
   },
   {
    "duration": 23,
    "start_time": "2022-03-18T16:15:59.562Z"
   },
   {
    "duration": 7,
    "start_time": "2022-03-18T16:20:55.810Z"
   },
   {
    "duration": 7,
    "start_time": "2022-03-18T16:21:11.452Z"
   },
   {
    "duration": 8,
    "start_time": "2022-03-18T16:21:16.642Z"
   },
   {
    "duration": 496,
    "start_time": "2022-03-18T16:21:21.084Z"
   },
   {
    "duration": 164,
    "start_time": "2022-03-18T16:21:35.633Z"
   },
   {
    "duration": 108,
    "start_time": "2022-03-18T16:21:58.409Z"
   },
   {
    "duration": 114,
    "start_time": "2022-03-18T16:22:46.993Z"
   },
   {
    "duration": 95,
    "start_time": "2022-03-18T16:23:14.024Z"
   },
   {
    "duration": 458,
    "start_time": "2022-03-18T16:23:58.320Z"
   },
   {
    "duration": 548,
    "start_time": "2022-03-18T16:24:06.089Z"
   },
   {
    "duration": 471,
    "start_time": "2022-03-18T16:24:25.767Z"
   },
   {
    "duration": 461,
    "start_time": "2022-03-18T16:24:34.809Z"
   },
   {
    "duration": 530,
    "start_time": "2022-03-18T16:24:50.704Z"
   },
   {
    "duration": 459,
    "start_time": "2022-03-18T16:25:02.106Z"
   },
   {
    "duration": 448,
    "start_time": "2022-03-18T16:25:08.360Z"
   },
   {
    "duration": 540,
    "start_time": "2022-03-18T16:25:42.503Z"
   },
   {
    "duration": 472,
    "start_time": "2022-03-18T16:25:45.455Z"
   },
   {
    "duration": 466,
    "start_time": "2022-03-18T16:26:02.073Z"
   },
   {
    "duration": 552,
    "start_time": "2022-03-18T16:26:10.287Z"
   },
   {
    "duration": 478,
    "start_time": "2022-03-18T16:27:03.871Z"
   },
   {
    "duration": 562,
    "start_time": "2022-03-18T16:27:13.279Z"
   },
   {
    "duration": 493,
    "start_time": "2022-03-18T16:27:41.561Z"
   },
   {
    "duration": 472,
    "start_time": "2022-03-18T16:28:02.543Z"
   },
   {
    "duration": 555,
    "start_time": "2022-03-18T16:28:18.784Z"
   },
   {
    "duration": 465,
    "start_time": "2022-03-18T16:28:23.686Z"
   },
   {
    "duration": 481,
    "start_time": "2022-03-18T16:28:33.206Z"
   },
   {
    "duration": 548,
    "start_time": "2022-03-18T16:28:39.870Z"
   },
   {
    "duration": 459,
    "start_time": "2022-03-18T16:29:04.055Z"
   },
   {
    "duration": 462,
    "start_time": "2022-03-18T16:29:25.374Z"
   },
   {
    "duration": 523,
    "start_time": "2022-03-18T16:29:33.935Z"
   },
   {
    "duration": 451,
    "start_time": "2022-03-18T16:29:40.518Z"
   },
   {
    "duration": 525,
    "start_time": "2022-03-18T16:29:50.798Z"
   },
   {
    "duration": 444,
    "start_time": "2022-03-18T16:29:57.165Z"
   },
   {
    "duration": 455,
    "start_time": "2022-03-18T16:30:10.750Z"
   },
   {
    "duration": 547,
    "start_time": "2022-03-18T16:30:29.742Z"
   },
   {
    "duration": 480,
    "start_time": "2022-03-18T16:30:43.725Z"
   },
   {
    "duration": 480,
    "start_time": "2022-03-18T16:30:53.030Z"
   },
   {
    "duration": 536,
    "start_time": "2022-03-18T16:31:20.190Z"
   },
   {
    "duration": 460,
    "start_time": "2022-03-18T16:31:36.421Z"
   },
   {
    "duration": 451,
    "start_time": "2022-03-18T16:31:47.743Z"
   },
   {
    "duration": 471,
    "start_time": "2022-03-18T16:36:13.735Z"
   },
   {
    "duration": 13,
    "start_time": "2022-03-18T16:36:14.208Z"
   },
   {
    "duration": 105,
    "start_time": "2022-03-18T16:36:14.223Z"
   },
   {
    "duration": 15,
    "start_time": "2022-03-18T16:36:14.334Z"
   },
   {
    "duration": 63,
    "start_time": "2022-03-18T16:36:14.350Z"
   },
   {
    "duration": 7,
    "start_time": "2022-03-18T16:36:14.433Z"
   },
   {
    "duration": 6,
    "start_time": "2022-03-18T16:36:14.441Z"
   },
   {
    "duration": 26,
    "start_time": "2022-03-18T16:36:14.449Z"
   },
   {
    "duration": 5,
    "start_time": "2022-03-18T16:36:14.476Z"
   },
   {
    "duration": 60,
    "start_time": "2022-03-18T16:36:14.483Z"
   },
   {
    "duration": 26,
    "start_time": "2022-03-18T16:36:14.545Z"
   },
   {
    "duration": 9,
    "start_time": "2022-03-18T16:36:14.572Z"
   },
   {
    "duration": 25,
    "start_time": "2022-03-18T16:36:14.583Z"
   },
   {
    "duration": 55,
    "start_time": "2022-03-18T16:36:14.610Z"
   },
   {
    "duration": 13,
    "start_time": "2022-03-18T16:36:14.666Z"
   },
   {
    "duration": 9265,
    "start_time": "2022-03-18T16:36:14.681Z"
   },
   {
    "duration": 18,
    "start_time": "2022-03-18T16:36:23.948Z"
   },
   {
    "duration": 24,
    "start_time": "2022-03-18T16:36:23.967Z"
   },
   {
    "duration": 44,
    "start_time": "2022-03-18T16:36:23.992Z"
   },
   {
    "duration": 1968,
    "start_time": "2022-03-18T16:36:24.038Z"
   },
   {
    "duration": 9,
    "start_time": "2022-03-18T16:36:26.007Z"
   },
   {
    "duration": 17,
    "start_time": "2022-03-18T16:36:26.018Z"
   },
   {
    "duration": 48,
    "start_time": "2022-03-18T16:36:26.037Z"
   },
   {
    "duration": 6,
    "start_time": "2022-03-18T16:36:26.087Z"
   },
   {
    "duration": 42,
    "start_time": "2022-03-18T16:36:26.095Z"
   },
   {
    "duration": 7,
    "start_time": "2022-03-18T16:36:26.139Z"
   },
   {
    "duration": 34,
    "start_time": "2022-03-18T16:36:26.147Z"
   },
   {
    "duration": 23,
    "start_time": "2022-03-18T16:36:26.185Z"
   },
   {
    "duration": 49,
    "start_time": "2022-03-18T16:36:26.210Z"
   },
   {
    "duration": 359,
    "start_time": "2022-03-18T16:36:26.261Z"
   },
   {
    "duration": 27,
    "start_time": "2022-03-18T16:36:26.622Z"
   },
   {
    "duration": 25,
    "start_time": "2022-03-18T16:36:26.650Z"
   },
   {
    "duration": 724,
    "start_time": "2022-03-18T16:36:26.676Z"
   },
   {
    "duration": 463,
    "start_time": "2022-03-18T16:38:23.281Z"
   },
   {
    "duration": 455,
    "start_time": "2022-03-18T16:38:32.794Z"
   },
   {
    "duration": 718,
    "start_time": "2022-03-18T16:38:39.433Z"
   },
   {
    "duration": 456,
    "start_time": "2022-03-18T16:38:47.371Z"
   },
   {
    "duration": 518,
    "start_time": "2022-03-18T16:38:56.805Z"
   },
   {
    "duration": 472,
    "start_time": "2022-03-18T16:39:01.634Z"
   },
   {
    "duration": 574,
    "start_time": "2022-03-18T16:39:09.634Z"
   },
   {
    "duration": 503,
    "start_time": "2022-03-18T16:39:46.994Z"
   },
   {
    "duration": 443,
    "start_time": "2022-03-18T16:39:52.778Z"
   },
   {
    "duration": 458,
    "start_time": "2022-03-18T16:40:22.497Z"
   },
   {
    "duration": 530,
    "start_time": "2022-03-18T16:40:44.378Z"
   },
   {
    "duration": 594,
    "start_time": "2022-03-19T14:04:40.765Z"
   },
   {
    "duration": 466,
    "start_time": "2022-03-19T14:04:46.131Z"
   },
   {
    "duration": 12,
    "start_time": "2022-03-19T14:04:46.599Z"
   },
   {
    "duration": 119,
    "start_time": "2022-03-19T14:04:46.616Z"
   },
   {
    "duration": 15,
    "start_time": "2022-03-19T14:04:46.736Z"
   },
   {
    "duration": 81,
    "start_time": "2022-03-19T14:04:46.753Z"
   },
   {
    "duration": 7,
    "start_time": "2022-03-19T14:04:46.836Z"
   },
   {
    "duration": 6,
    "start_time": "2022-03-19T14:04:46.845Z"
   },
   {
    "duration": 30,
    "start_time": "2022-03-19T14:04:46.853Z"
   },
   {
    "duration": 6,
    "start_time": "2022-03-19T14:04:46.886Z"
   },
   {
    "duration": 55,
    "start_time": "2022-03-19T14:04:46.893Z"
   },
   {
    "duration": 24,
    "start_time": "2022-03-19T14:04:46.949Z"
   },
   {
    "duration": 11,
    "start_time": "2022-03-19T14:04:46.974Z"
   },
   {
    "duration": 23,
    "start_time": "2022-03-19T14:04:46.986Z"
   },
   {
    "duration": 68,
    "start_time": "2022-03-19T14:04:47.010Z"
   },
   {
    "duration": 12,
    "start_time": "2022-03-19T14:04:47.080Z"
   },
   {
    "duration": 9164,
    "start_time": "2022-03-19T14:04:47.095Z"
   },
   {
    "duration": 16,
    "start_time": "2022-03-19T14:04:56.261Z"
   },
   {
    "duration": 23,
    "start_time": "2022-03-19T14:04:56.279Z"
   },
   {
    "duration": 34,
    "start_time": "2022-03-19T14:04:56.303Z"
   },
   {
    "duration": 1909,
    "start_time": "2022-03-19T14:04:56.339Z"
   },
   {
    "duration": 9,
    "start_time": "2022-03-19T14:04:58.250Z"
   },
   {
    "duration": 11,
    "start_time": "2022-03-19T14:04:58.260Z"
   },
   {
    "duration": 65,
    "start_time": "2022-03-19T14:04:58.272Z"
   },
   {
    "duration": 7,
    "start_time": "2022-03-19T14:04:58.339Z"
   },
   {
    "duration": 16,
    "start_time": "2022-03-19T14:04:58.348Z"
   },
   {
    "duration": 7,
    "start_time": "2022-03-19T14:04:58.365Z"
   },
   {
    "duration": 33,
    "start_time": "2022-03-19T14:04:58.374Z"
   },
   {
    "duration": 24,
    "start_time": "2022-03-19T14:04:58.432Z"
   },
   {
    "duration": 29,
    "start_time": "2022-03-19T14:04:58.458Z"
   },
   {
    "duration": 362,
    "start_time": "2022-03-19T14:04:58.489Z"
   },
   {
    "duration": 23,
    "start_time": "2022-03-19T14:04:58.852Z"
   },
   {
    "duration": 24,
    "start_time": "2022-03-19T14:04:58.877Z"
   },
   {
    "duration": 796,
    "start_time": "2022-03-19T14:04:58.902Z"
   },
   {
    "duration": 469,
    "start_time": "2022-03-19T14:05:22.901Z"
   },
   {
    "duration": 543,
    "start_time": "2022-03-19T14:05:33.029Z"
   },
   {
    "duration": 587,
    "start_time": "2022-03-19T14:05:49.613Z"
   },
   {
    "duration": 435,
    "start_time": "2022-03-19T14:06:05.270Z"
   },
   {
    "duration": 540,
    "start_time": "2022-03-19T14:06:10.013Z"
   },
   {
    "duration": 633,
    "start_time": "2022-03-19T14:06:32.518Z"
   },
   {
    "duration": 455,
    "start_time": "2022-03-19T14:06:55.423Z"
   },
   {
    "duration": 573,
    "start_time": "2022-03-19T14:12:29.935Z"
   },
   {
    "duration": 125,
    "start_time": "2022-03-19T14:13:12.878Z"
   },
   {
    "duration": 117,
    "start_time": "2022-03-19T14:13:20.693Z"
   },
   {
    "duration": 5,
    "start_time": "2022-03-19T14:13:27.470Z"
   },
   {
    "duration": 8,
    "start_time": "2022-03-19T14:13:30.766Z"
   },
   {
    "duration": 119,
    "start_time": "2022-03-19T14:13:34.597Z"
   },
   {
    "duration": 119,
    "start_time": "2022-03-19T14:14:21.094Z"
   },
   {
    "duration": 27351,
    "start_time": "2022-03-19T14:56:04.793Z"
   },
   {
    "duration": 28413,
    "start_time": "2022-03-19T14:56:43.010Z"
   },
   {
    "duration": 732,
    "start_time": "2022-03-21T08:36:04.728Z"
   },
   {
    "duration": 0,
    "start_time": "2022-03-21T08:36:05.466Z"
   },
   {
    "duration": 0,
    "start_time": "2022-03-21T08:36:05.467Z"
   },
   {
    "duration": 0,
    "start_time": "2022-03-21T08:36:05.469Z"
   },
   {
    "duration": 0,
    "start_time": "2022-03-21T08:36:05.471Z"
   },
   {
    "duration": 0,
    "start_time": "2022-03-21T08:36:05.472Z"
   },
   {
    "duration": 0,
    "start_time": "2022-03-21T08:36:05.473Z"
   },
   {
    "duration": 0,
    "start_time": "2022-03-21T08:36:05.475Z"
   },
   {
    "duration": 0,
    "start_time": "2022-03-21T08:36:05.477Z"
   },
   {
    "duration": 0,
    "start_time": "2022-03-21T08:36:05.478Z"
   },
   {
    "duration": 0,
    "start_time": "2022-03-21T08:36:05.480Z"
   },
   {
    "duration": 0,
    "start_time": "2022-03-21T08:36:05.482Z"
   },
   {
    "duration": 0,
    "start_time": "2022-03-21T08:36:05.483Z"
   },
   {
    "duration": 0,
    "start_time": "2022-03-21T08:36:05.485Z"
   },
   {
    "duration": 0,
    "start_time": "2022-03-21T08:36:05.486Z"
   },
   {
    "duration": 0,
    "start_time": "2022-03-21T08:36:05.487Z"
   },
   {
    "duration": 0,
    "start_time": "2022-03-21T08:36:05.489Z"
   },
   {
    "duration": 0,
    "start_time": "2022-03-21T08:36:05.490Z"
   },
   {
    "duration": 0,
    "start_time": "2022-03-21T08:36:05.491Z"
   },
   {
    "duration": 0,
    "start_time": "2022-03-21T08:36:05.493Z"
   },
   {
    "duration": 0,
    "start_time": "2022-03-21T08:36:05.495Z"
   },
   {
    "duration": 0,
    "start_time": "2022-03-21T08:36:05.496Z"
   },
   {
    "duration": 0,
    "start_time": "2022-03-21T08:36:05.497Z"
   },
   {
    "duration": 0,
    "start_time": "2022-03-21T08:36:05.498Z"
   },
   {
    "duration": 0,
    "start_time": "2022-03-21T08:36:05.500Z"
   },
   {
    "duration": 0,
    "start_time": "2022-03-21T08:36:05.501Z"
   },
   {
    "duration": 0,
    "start_time": "2022-03-21T08:36:05.503Z"
   },
   {
    "duration": 0,
    "start_time": "2022-03-21T08:36:05.504Z"
   },
   {
    "duration": 0,
    "start_time": "2022-03-21T08:36:05.568Z"
   },
   {
    "duration": 0,
    "start_time": "2022-03-21T08:36:05.570Z"
   },
   {
    "duration": 0,
    "start_time": "2022-03-21T08:36:05.571Z"
   },
   {
    "duration": 0,
    "start_time": "2022-03-21T08:36:05.574Z"
   },
   {
    "duration": 0,
    "start_time": "2022-03-21T08:36:05.575Z"
   },
   {
    "duration": 0,
    "start_time": "2022-03-21T08:36:05.578Z"
   },
   {
    "duration": 1,
    "start_time": "2022-03-21T08:36:05.579Z"
   },
   {
    "duration": 0,
    "start_time": "2022-03-21T08:36:05.582Z"
   },
   {
    "duration": 0,
    "start_time": "2022-03-21T08:36:05.583Z"
   },
   {
    "duration": 0,
    "start_time": "2022-03-21T08:36:05.586Z"
   },
   {
    "duration": 0,
    "start_time": "2022-03-21T08:36:05.588Z"
   },
   {
    "duration": 0,
    "start_time": "2022-03-21T08:36:05.590Z"
   },
   {
    "duration": 0,
    "start_time": "2022-03-21T08:36:05.591Z"
   },
   {
    "duration": 0,
    "start_time": "2022-03-21T08:36:05.593Z"
   },
   {
    "duration": 0,
    "start_time": "2022-03-21T08:36:05.595Z"
   },
   {
    "duration": 0,
    "start_time": "2022-03-21T08:36:05.596Z"
   },
   {
    "duration": 0,
    "start_time": "2022-03-21T08:36:05.598Z"
   },
   {
    "duration": 0,
    "start_time": "2022-03-21T08:36:05.600Z"
   },
   {
    "duration": 0,
    "start_time": "2022-03-21T08:36:05.601Z"
   },
   {
    "duration": 0,
    "start_time": "2022-03-21T08:36:05.603Z"
   },
   {
    "duration": 0,
    "start_time": "2022-03-21T08:36:05.604Z"
   },
   {
    "duration": 0,
    "start_time": "2022-03-21T08:36:05.668Z"
   },
   {
    "duration": 0,
    "start_time": "2022-03-21T08:36:05.670Z"
   },
   {
    "duration": 0,
    "start_time": "2022-03-21T08:36:05.672Z"
   },
   {
    "duration": 0,
    "start_time": "2022-03-21T08:36:05.674Z"
   },
   {
    "duration": 0,
    "start_time": "2022-03-21T08:36:05.676Z"
   },
   {
    "duration": 0,
    "start_time": "2022-03-21T08:36:05.677Z"
   },
   {
    "duration": 0,
    "start_time": "2022-03-21T08:36:05.678Z"
   },
   {
    "duration": 0,
    "start_time": "2022-03-21T08:36:05.680Z"
   },
   {
    "duration": 0,
    "start_time": "2022-03-21T08:36:05.682Z"
   },
   {
    "duration": 0,
    "start_time": "2022-03-21T08:36:05.684Z"
   },
   {
    "duration": 0,
    "start_time": "2022-03-21T08:36:05.685Z"
   },
   {
    "duration": 0,
    "start_time": "2022-03-21T08:36:05.686Z"
   },
   {
    "duration": 59,
    "start_time": "2022-03-21T08:36:51.952Z"
   },
   {
    "duration": 91,
    "start_time": "2022-03-21T08:36:58.487Z"
   },
   {
    "duration": 19,
    "start_time": "2022-03-21T08:37:00.727Z"
   },
   {
    "duration": 135,
    "start_time": "2022-03-21T08:37:08.014Z"
   },
   {
    "duration": 581,
    "start_time": "2022-03-21T08:37:12.191Z"
   },
   {
    "duration": 20,
    "start_time": "2022-03-21T08:37:12.775Z"
   },
   {
    "duration": 149,
    "start_time": "2022-03-21T08:37:12.797Z"
   },
   {
    "duration": 32,
    "start_time": "2022-03-21T08:37:12.949Z"
   },
   {
    "duration": 107,
    "start_time": "2022-03-21T08:37:12.983Z"
   },
   {
    "duration": 8,
    "start_time": "2022-03-21T08:37:13.093Z"
   },
   {
    "duration": 9,
    "start_time": "2022-03-21T08:37:13.104Z"
   },
   {
    "duration": 63,
    "start_time": "2022-03-21T08:37:13.115Z"
   },
   {
    "duration": 9,
    "start_time": "2022-03-21T08:37:13.181Z"
   },
   {
    "duration": 39,
    "start_time": "2022-03-21T08:37:13.196Z"
   },
   {
    "duration": 68,
    "start_time": "2022-03-21T08:37:13.238Z"
   },
   {
    "duration": 15,
    "start_time": "2022-03-21T08:37:13.309Z"
   },
   {
    "duration": 69,
    "start_time": "2022-03-21T08:37:13.327Z"
   },
   {
    "duration": 41,
    "start_time": "2022-03-21T08:37:13.397Z"
   },
   {
    "duration": 34,
    "start_time": "2022-03-21T08:37:13.440Z"
   },
   {
    "duration": 14151,
    "start_time": "2022-03-21T08:37:13.476Z"
   },
   {
    "duration": 39,
    "start_time": "2022-03-21T08:37:27.630Z"
   },
   {
    "duration": 38,
    "start_time": "2022-03-21T08:37:27.671Z"
   },
   {
    "duration": 15,
    "start_time": "2022-03-21T08:37:27.711Z"
   },
   {
    "duration": 3167,
    "start_time": "2022-03-21T08:37:27.728Z"
   },
   {
    "duration": 13,
    "start_time": "2022-03-21T08:37:30.898Z"
   },
   {
    "duration": 42,
    "start_time": "2022-03-21T08:37:30.914Z"
   },
   {
    "duration": 105,
    "start_time": "2022-03-21T08:37:30.959Z"
   },
   {
    "duration": 11,
    "start_time": "2022-03-21T08:37:31.067Z"
   },
   {
    "duration": 38,
    "start_time": "2022-03-21T08:37:31.081Z"
   },
   {
    "duration": 32,
    "start_time": "2022-03-21T08:37:31.122Z"
   },
   {
    "duration": 66,
    "start_time": "2022-03-21T08:37:31.156Z"
   },
   {
    "duration": 39,
    "start_time": "2022-03-21T08:37:31.228Z"
   },
   {
    "duration": 48,
    "start_time": "2022-03-21T08:37:31.269Z"
   },
   {
    "duration": 599,
    "start_time": "2022-03-21T08:37:31.320Z"
   },
   {
    "duration": 48,
    "start_time": "2022-03-21T08:37:31.921Z"
   },
   {
    "duration": 42,
    "start_time": "2022-03-21T08:37:31.971Z"
   },
   {
    "duration": 1455,
    "start_time": "2022-03-21T08:37:32.016Z"
   },
   {
    "duration": 16,
    "start_time": "2022-03-21T08:37:33.474Z"
   },
   {
    "duration": 249,
    "start_time": "2022-03-21T08:37:33.493Z"
   },
   {
    "duration": 545,
    "start_time": "2022-03-21T08:37:33.744Z"
   },
   {
    "duration": 13,
    "start_time": "2022-03-21T08:37:34.291Z"
   },
   {
    "duration": 564,
    "start_time": "2022-03-21T08:37:34.306Z"
   },
   {
    "duration": 13,
    "start_time": "2022-03-21T08:37:34.872Z"
   },
   {
    "duration": 533,
    "start_time": "2022-03-21T08:37:34.887Z"
   },
   {
    "duration": 13,
    "start_time": "2022-03-21T08:37:35.422Z"
   },
   {
    "duration": 625,
    "start_time": "2022-03-21T08:37:35.437Z"
   },
   {
    "duration": 14,
    "start_time": "2022-03-21T08:37:36.067Z"
   },
   {
    "duration": 295,
    "start_time": "2022-03-21T08:37:36.083Z"
   },
   {
    "duration": 315,
    "start_time": "2022-03-21T08:37:36.380Z"
   },
   {
    "duration": 277,
    "start_time": "2022-03-21T08:37:36.697Z"
   },
   {
    "duration": 12,
    "start_time": "2022-03-21T08:37:36.977Z"
   },
   {
    "duration": 296,
    "start_time": "2022-03-21T08:37:36.991Z"
   },
   {
    "duration": 306,
    "start_time": "2022-03-21T08:37:37.289Z"
   },
   {
    "duration": 200,
    "start_time": "2022-03-21T08:37:37.597Z"
   },
   {
    "duration": 192,
    "start_time": "2022-03-21T08:37:37.799Z"
   },
   {
    "duration": 36,
    "start_time": "2022-03-21T08:37:37.993Z"
   },
   {
    "duration": 287,
    "start_time": "2022-03-21T08:37:38.031Z"
   },
   {
    "duration": 80,
    "start_time": "2022-03-21T08:37:38.321Z"
   },
   {
    "duration": 239,
    "start_time": "2022-03-21T08:37:38.403Z"
   },
   {
    "duration": 250,
    "start_time": "2022-03-21T08:37:38.645Z"
   },
   {
    "duration": 10,
    "start_time": "2022-03-21T08:37:38.898Z"
   },
   {
    "duration": 282,
    "start_time": "2022-03-21T08:37:38.910Z"
   },
   {
    "duration": 233,
    "start_time": "2022-03-21T08:37:39.194Z"
   },
   {
    "duration": 217,
    "start_time": "2022-03-21T08:37:39.429Z"
   },
   {
    "duration": 232,
    "start_time": "2022-03-21T08:37:39.649Z"
   },
   {
    "duration": 114,
    "start_time": "2022-03-21T08:43:24.921Z"
   },
   {
    "duration": 49,
    "start_time": "2022-03-22T10:48:33.397Z"
   },
   {
    "duration": 444,
    "start_time": "2022-03-22T10:48:39.897Z"
   },
   {
    "duration": 15,
    "start_time": "2022-03-22T10:48:40.343Z"
   },
   {
    "duration": 112,
    "start_time": "2022-03-22T10:48:40.360Z"
   },
   {
    "duration": 15,
    "start_time": "2022-03-22T10:48:40.474Z"
   },
   {
    "duration": 89,
    "start_time": "2022-03-22T10:48:40.490Z"
   },
   {
    "duration": 7,
    "start_time": "2022-03-22T10:48:40.580Z"
   },
   {
    "duration": 8,
    "start_time": "2022-03-22T10:48:40.588Z"
   },
   {
    "duration": 46,
    "start_time": "2022-03-22T10:48:40.597Z"
   },
   {
    "duration": 6,
    "start_time": "2022-03-22T10:48:40.644Z"
   },
   {
    "duration": 27,
    "start_time": "2022-03-22T10:48:40.652Z"
   },
   {
    "duration": 24,
    "start_time": "2022-03-22T10:48:40.681Z"
   },
   {
    "duration": 38,
    "start_time": "2022-03-22T10:48:40.707Z"
   },
   {
    "duration": 26,
    "start_time": "2022-03-22T10:48:40.747Z"
   },
   {
    "duration": 32,
    "start_time": "2022-03-22T10:48:40.774Z"
   },
   {
    "duration": 40,
    "start_time": "2022-03-22T10:48:40.808Z"
   },
   {
    "duration": 9058,
    "start_time": "2022-03-22T10:48:40.849Z"
   },
   {
    "duration": 16,
    "start_time": "2022-03-22T10:48:49.909Z"
   },
   {
    "duration": 44,
    "start_time": "2022-03-22T10:48:49.927Z"
   },
   {
    "duration": 11,
    "start_time": "2022-03-22T10:48:49.973Z"
   },
   {
    "duration": 1918,
    "start_time": "2022-03-22T10:48:49.986Z"
   },
   {
    "duration": 9,
    "start_time": "2022-03-22T10:48:51.905Z"
   },
   {
    "duration": 23,
    "start_time": "2022-03-22T10:48:51.915Z"
   },
   {
    "duration": 50,
    "start_time": "2022-03-22T10:48:51.940Z"
   },
   {
    "duration": 8,
    "start_time": "2022-03-22T10:48:51.991Z"
   },
   {
    "duration": 38,
    "start_time": "2022-03-22T10:48:52.000Z"
   },
   {
    "duration": 8,
    "start_time": "2022-03-22T10:48:52.040Z"
   },
   {
    "duration": 31,
    "start_time": "2022-03-22T10:48:52.049Z"
   },
   {
    "duration": 25,
    "start_time": "2022-03-22T10:48:52.084Z"
   },
   {
    "duration": 31,
    "start_time": "2022-03-22T10:48:52.138Z"
   },
   {
    "duration": 368,
    "start_time": "2022-03-22T10:48:52.171Z"
   },
   {
    "duration": 25,
    "start_time": "2022-03-22T10:48:52.541Z"
   },
   {
    "duration": 26,
    "start_time": "2022-03-22T10:48:52.568Z"
   },
   {
    "duration": 1023,
    "start_time": "2022-03-22T10:48:52.596Z"
   },
   {
    "duration": 22,
    "start_time": "2022-03-22T10:48:53.621Z"
   },
   {
    "duration": 152,
    "start_time": "2022-03-22T10:48:53.645Z"
   },
   {
    "duration": 324,
    "start_time": "2022-03-22T10:48:53.799Z"
   },
   {
    "duration": 16,
    "start_time": "2022-03-22T10:48:54.124Z"
   },
   {
    "duration": 334,
    "start_time": "2022-03-22T10:48:54.142Z"
   },
   {
    "duration": 9,
    "start_time": "2022-03-22T10:48:54.478Z"
   },
   {
    "duration": 321,
    "start_time": "2022-03-22T10:48:54.489Z"
   },
   {
    "duration": 10,
    "start_time": "2022-03-22T10:48:54.811Z"
   },
   {
    "duration": 392,
    "start_time": "2022-03-22T10:48:54.822Z"
   },
   {
    "duration": 23,
    "start_time": "2022-03-22T10:48:55.215Z"
   },
   {
    "duration": 180,
    "start_time": "2022-03-22T10:48:55.239Z"
   },
   {
    "duration": 191,
    "start_time": "2022-03-22T10:48:55.421Z"
   },
   {
    "duration": 190,
    "start_time": "2022-03-22T10:48:55.613Z"
   },
   {
    "duration": 9,
    "start_time": "2022-03-22T10:48:55.805Z"
   },
   {
    "duration": 135,
    "start_time": "2022-03-22T10:48:55.816Z"
   },
   {
    "duration": 153,
    "start_time": "2022-03-22T10:48:55.953Z"
   },
   {
    "duration": 134,
    "start_time": "2022-03-22T10:48:56.108Z"
   },
   {
    "duration": 130,
    "start_time": "2022-03-22T10:48:56.244Z"
   },
   {
    "duration": 21,
    "start_time": "2022-03-22T10:48:56.376Z"
   },
   {
    "duration": 176,
    "start_time": "2022-03-22T10:48:56.399Z"
   },
   {
    "duration": 63,
    "start_time": "2022-03-22T10:48:56.577Z"
   },
   {
    "duration": 155,
    "start_time": "2022-03-22T10:48:56.641Z"
   },
   {
    "duration": 163,
    "start_time": "2022-03-22T10:48:56.799Z"
   },
   {
    "duration": 8,
    "start_time": "2022-03-22T10:48:56.964Z"
   },
   {
    "duration": 221,
    "start_time": "2022-03-22T10:48:56.974Z"
   },
   {
    "duration": 148,
    "start_time": "2022-03-22T10:48:57.197Z"
   },
   {
    "duration": 143,
    "start_time": "2022-03-22T10:48:57.348Z"
   },
   {
    "duration": 160,
    "start_time": "2022-03-22T10:48:57.493Z"
   },
   {
    "duration": 47,
    "start_time": "2022-03-22T10:50:06.294Z"
   },
   {
    "duration": 44,
    "start_time": "2022-03-22T10:50:18.054Z"
   },
   {
    "duration": 48,
    "start_time": "2022-03-22T10:52:24.710Z"
   },
   {
    "duration": 452,
    "start_time": "2022-03-22T11:14:14.069Z"
   },
   {
    "duration": 13,
    "start_time": "2022-03-22T11:14:14.524Z"
   },
   {
    "duration": 124,
    "start_time": "2022-03-22T11:14:14.538Z"
   },
   {
    "duration": 14,
    "start_time": "2022-03-22T11:14:14.664Z"
   },
   {
    "duration": 84,
    "start_time": "2022-03-22T11:14:14.680Z"
   },
   {
    "duration": 7,
    "start_time": "2022-03-22T11:14:14.765Z"
   },
   {
    "duration": 25,
    "start_time": "2022-03-22T11:14:14.774Z"
   },
   {
    "duration": 59,
    "start_time": "2022-03-22T11:14:14.800Z"
   },
   {
    "duration": 8,
    "start_time": "2022-03-22T11:14:14.861Z"
   },
   {
    "duration": 48,
    "start_time": "2022-03-22T11:14:14.872Z"
   },
   {
    "duration": 38,
    "start_time": "2022-03-22T11:14:14.921Z"
   },
   {
    "duration": 25,
    "start_time": "2022-03-22T11:14:14.961Z"
   },
   {
    "duration": 51,
    "start_time": "2022-03-22T11:14:14.987Z"
   },
   {
    "duration": 41,
    "start_time": "2022-03-22T11:14:15.039Z"
   },
   {
    "duration": 13,
    "start_time": "2022-03-22T11:14:15.082Z"
   },
   {
    "duration": 9389,
    "start_time": "2022-03-22T11:14:15.096Z"
   },
   {
    "duration": 19,
    "start_time": "2022-03-22T11:14:24.487Z"
   },
   {
    "duration": 37,
    "start_time": "2022-03-22T11:14:24.508Z"
   },
   {
    "duration": 9,
    "start_time": "2022-03-22T11:14:24.547Z"
   },
   {
    "duration": 1991,
    "start_time": "2022-03-22T11:14:24.558Z"
   },
   {
    "duration": 9,
    "start_time": "2022-03-22T11:14:26.551Z"
   },
   {
    "duration": 13,
    "start_time": "2022-03-22T11:14:26.562Z"
   },
   {
    "duration": 61,
    "start_time": "2022-03-22T11:14:26.576Z"
   },
   {
    "duration": 8,
    "start_time": "2022-03-22T11:14:26.639Z"
   },
   {
    "duration": 15,
    "start_time": "2022-03-22T11:14:26.649Z"
   },
   {
    "duration": 8,
    "start_time": "2022-03-22T11:14:26.665Z"
   },
   {
    "duration": 34,
    "start_time": "2022-03-22T11:14:26.674Z"
   },
   {
    "duration": 45,
    "start_time": "2022-03-22T11:14:26.712Z"
   },
   {
    "duration": 29,
    "start_time": "2022-03-22T11:14:26.759Z"
   },
   {
    "duration": 369,
    "start_time": "2022-03-22T11:14:26.790Z"
   },
   {
    "duration": 23,
    "start_time": "2022-03-22T11:14:27.161Z"
   },
   {
    "duration": 26,
    "start_time": "2022-03-22T11:14:27.185Z"
   },
   {
    "duration": 871,
    "start_time": "2022-03-22T11:14:27.213Z"
   },
   {
    "duration": 10,
    "start_time": "2022-03-22T11:14:28.086Z"
   },
   {
    "duration": 162,
    "start_time": "2022-03-22T11:14:28.097Z"
   },
   {
    "duration": 319,
    "start_time": "2022-03-22T11:14:28.260Z"
   },
   {
    "duration": 9,
    "start_time": "2022-03-22T11:14:28.581Z"
   },
   {
    "duration": 329,
    "start_time": "2022-03-22T11:14:28.592Z"
   },
   {
    "duration": 15,
    "start_time": "2022-03-22T11:14:28.922Z"
   },
   {
    "duration": 306,
    "start_time": "2022-03-22T11:14:28.939Z"
   },
   {
    "duration": 8,
    "start_time": "2022-03-22T11:14:29.247Z"
   },
   {
    "duration": 384,
    "start_time": "2022-03-22T11:14:29.256Z"
   },
   {
    "duration": 9,
    "start_time": "2022-03-22T11:14:29.641Z"
   },
   {
    "duration": 183,
    "start_time": "2022-03-22T11:14:29.651Z"
   },
   {
    "duration": 199,
    "start_time": "2022-03-22T11:14:29.838Z"
   },
   {
    "duration": 177,
    "start_time": "2022-03-22T11:14:30.039Z"
   },
   {
    "duration": 9,
    "start_time": "2022-03-22T11:14:30.218Z"
   },
   {
    "duration": 125,
    "start_time": "2022-03-22T11:14:30.238Z"
   },
   {
    "duration": 135,
    "start_time": "2022-03-22T11:14:30.365Z"
   },
   {
    "duration": 125,
    "start_time": "2022-03-22T11:14:30.502Z"
   },
   {
    "duration": 122,
    "start_time": "2022-03-22T11:14:30.637Z"
   },
   {
    "duration": 22,
    "start_time": "2022-03-22T11:14:30.761Z"
   },
   {
    "duration": 174,
    "start_time": "2022-03-22T11:14:30.785Z"
   },
   {
    "duration": 51,
    "start_time": "2022-03-22T11:14:30.960Z"
   },
   {
    "duration": 166,
    "start_time": "2022-03-22T11:14:31.013Z"
   },
   {
    "duration": 157,
    "start_time": "2022-03-22T11:14:31.180Z"
   },
   {
    "duration": 8,
    "start_time": "2022-03-22T11:14:31.339Z"
   },
   {
    "duration": 208,
    "start_time": "2022-03-22T11:14:31.349Z"
   },
   {
    "duration": 143,
    "start_time": "2022-03-22T11:14:31.559Z"
   },
   {
    "duration": 140,
    "start_time": "2022-03-22T11:14:31.704Z"
   },
   {
    "duration": 154,
    "start_time": "2022-03-22T11:14:31.846Z"
   },
   {
    "duration": 499,
    "start_time": "2022-07-27T08:43:18.448Z"
   },
   {
    "duration": 13,
    "start_time": "2022-07-27T08:43:18.949Z"
   },
   {
    "duration": 97,
    "start_time": "2022-07-27T08:43:18.966Z"
   },
   {
    "duration": 14,
    "start_time": "2022-07-27T08:43:19.065Z"
   },
   {
    "duration": 89,
    "start_time": "2022-07-27T08:43:19.080Z"
   },
   {
    "duration": 5,
    "start_time": "2022-07-27T08:43:19.171Z"
   },
   {
    "duration": 5,
    "start_time": "2022-07-27T08:43:19.178Z"
   },
   {
    "duration": 44,
    "start_time": "2022-07-27T08:43:19.184Z"
   },
   {
    "duration": 7,
    "start_time": "2022-07-27T08:43:19.232Z"
   },
   {
    "duration": 24,
    "start_time": "2022-07-27T08:43:19.241Z"
   },
   {
    "duration": 51,
    "start_time": "2022-07-27T08:43:19.266Z"
   },
   {
    "duration": 14,
    "start_time": "2022-07-27T08:43:19.318Z"
   },
   {
    "duration": 22,
    "start_time": "2022-07-27T08:43:19.333Z"
   },
   {
    "duration": 53,
    "start_time": "2022-07-27T08:43:19.357Z"
   },
   {
    "duration": 18,
    "start_time": "2022-07-27T08:43:19.412Z"
   },
   {
    "duration": 10041,
    "start_time": "2022-07-27T08:43:19.432Z"
   },
   {
    "duration": 28,
    "start_time": "2022-07-27T08:43:29.475Z"
   },
   {
    "duration": 37,
    "start_time": "2022-07-27T08:43:29.504Z"
   },
   {
    "duration": 10,
    "start_time": "2022-07-27T08:43:29.543Z"
   },
   {
    "duration": 2201,
    "start_time": "2022-07-27T08:43:29.554Z"
   },
   {
    "duration": 9,
    "start_time": "2022-07-27T08:43:31.756Z"
   },
   {
    "duration": 25,
    "start_time": "2022-07-27T08:43:31.766Z"
   },
   {
    "duration": 78,
    "start_time": "2022-07-27T08:43:31.793Z"
   },
   {
    "duration": 7,
    "start_time": "2022-07-27T08:43:31.873Z"
   },
   {
    "duration": 35,
    "start_time": "2022-07-27T08:43:31.881Z"
   },
   {
    "duration": 14,
    "start_time": "2022-07-27T08:43:31.919Z"
   },
   {
    "duration": 37,
    "start_time": "2022-07-27T08:43:31.937Z"
   },
   {
    "duration": 28,
    "start_time": "2022-07-27T08:43:31.975Z"
   },
   {
    "duration": 37,
    "start_time": "2022-07-27T08:43:32.004Z"
   },
   {
    "duration": 371,
    "start_time": "2022-07-27T08:43:32.043Z"
   },
   {
    "duration": 25,
    "start_time": "2022-07-27T08:43:32.415Z"
   },
   {
    "duration": 26,
    "start_time": "2022-07-27T08:43:32.441Z"
   },
   {
    "duration": 882,
    "start_time": "2022-07-27T08:43:32.468Z"
   },
   {
    "duration": 9,
    "start_time": "2022-07-27T08:43:33.351Z"
   },
   {
    "duration": 150,
    "start_time": "2022-07-27T08:43:33.361Z"
   },
   {
    "duration": 324,
    "start_time": "2022-07-27T08:43:33.513Z"
   },
   {
    "duration": 13,
    "start_time": "2022-07-27T08:43:33.838Z"
   },
   {
    "duration": 297,
    "start_time": "2022-07-27T08:43:33.852Z"
   },
   {
    "duration": 8,
    "start_time": "2022-07-27T08:43:34.151Z"
   },
   {
    "duration": 283,
    "start_time": "2022-07-27T08:43:34.161Z"
   },
   {
    "duration": 9,
    "start_time": "2022-07-27T08:43:34.446Z"
   },
   {
    "duration": 347,
    "start_time": "2022-07-27T08:43:34.457Z"
   },
   {
    "duration": 8,
    "start_time": "2022-07-27T08:43:34.806Z"
   },
   {
    "duration": 199,
    "start_time": "2022-07-27T08:43:34.816Z"
   },
   {
    "duration": 211,
    "start_time": "2022-07-27T08:43:35.017Z"
   },
   {
    "duration": 173,
    "start_time": "2022-07-27T08:43:35.231Z"
   },
   {
    "duration": 8,
    "start_time": "2022-07-27T08:43:35.406Z"
   },
   {
    "duration": 133,
    "start_time": "2022-07-27T08:43:35.417Z"
   },
   {
    "duration": 156,
    "start_time": "2022-07-27T08:43:35.551Z"
   },
   {
    "duration": 153,
    "start_time": "2022-07-27T08:43:35.710Z"
   },
   {
    "duration": 130,
    "start_time": "2022-07-27T08:43:35.864Z"
   },
   {
    "duration": 34,
    "start_time": "2022-07-27T08:43:35.996Z"
   },
   {
    "duration": 179,
    "start_time": "2022-07-27T08:43:36.032Z"
   },
   {
    "duration": 52,
    "start_time": "2022-07-27T08:43:36.215Z"
   },
   {
    "duration": 187,
    "start_time": "2022-07-27T08:43:36.268Z"
   },
   {
    "duration": 147,
    "start_time": "2022-07-27T08:43:36.457Z"
   },
   {
    "duration": 8,
    "start_time": "2022-07-27T08:43:36.606Z"
   },
   {
    "duration": 175,
    "start_time": "2022-07-27T08:43:36.618Z"
   },
   {
    "duration": 146,
    "start_time": "2022-07-27T08:43:36.804Z"
   },
   {
    "duration": 139,
    "start_time": "2022-07-27T08:43:36.952Z"
   },
   {
    "duration": 150,
    "start_time": "2022-07-27T08:43:37.093Z"
   }
  ],
  "kernelspec": {
   "display_name": "Python 3 (ipykernel)",
   "language": "python",
   "name": "python3"
  },
  "language_info": {
   "codemirror_mode": {
    "name": "ipython",
    "version": 3
   },
   "file_extension": ".py",
   "mimetype": "text/x-python",
   "name": "python",
   "nbconvert_exporter": "python",
   "pygments_lexer": "ipython3",
   "version": "3.9.5"
  },
  "toc": {
   "base_numbering": 1,
   "nav_menu": {
    "height": "159px",
    "width": "376px"
   },
   "number_sections": true,
   "sideBar": false,
   "skip_h1_title": true,
   "title_cell": "Содержание",
   "title_sidebar": "Contents",
   "toc_cell": true,
   "toc_position": {
    "height": "563.2px",
    "left": "43px",
    "top": "137.125px",
    "width": "214px"
   },
   "toc_section_display": true,
   "toc_window_display": false
  }
 },
 "nbformat": 4,
 "nbformat_minor": 4
}