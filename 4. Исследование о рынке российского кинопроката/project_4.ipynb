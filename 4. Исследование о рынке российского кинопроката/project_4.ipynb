{
 "cells": [
  {
   "cell_type": "markdown",
   "metadata": {
    "id": "sIfNaMOxgFyK",
    "pycharm": {
     "name": "#%% md\n"
    }
   },
   "source": [
    "## Исследование данных о российском кинопрокате\n",
    "\n"
   ]
  },
  {
   "cell_type": "markdown",
   "metadata": {
    "pycharm": {
     "name": "#%% md\n"
    }
   },
   "source": [
    "Заказчик этого исследования — Министерство культуры Российской Федерации.\n",
    "\n",
    "В исследовании необходимо изучить рынок российского кинопроката и выявить текущие тренды, уделив особое внимание фильмам, которые получили государственную поддержку. Нужно определить, насколько такие фильмы интересны зрителю.\n",
    "\n",
    "Данные взяты на портале открытых данных Министерства культуры, а также с сайта КиноПоиск."
   ]
  },
  {
   "cell_type": "markdown",
   "metadata": {
    "id": "3bSlkCsbgFyL",
    "pycharm": {
     "name": "#%% md\n"
    }
   },
   "source": [
    "### Шаг 1. Откройте файлы с данными и объедините их в один датафрейм. \n",
    "\n",
    "Объедините данные таким образом, чтобы все объекты из датасета `mkrf_movies` обязательно вошли в получившийся датафрейм. "
   ]
  },
  {
   "cell_type": "code",
   "execution_count": 1,
   "metadata": {
    "pycharm": {
     "name": "#%%\n"
    }
   },
   "outputs": [],
   "source": [
    "import pandas as pd\n",
    "pd.options.display.float_format = '{:.2f}'.format"
   ]
  },
  {
   "cell_type": "code",
   "execution_count": 2,
   "metadata": {
    "id": "dw87FlzMgFyM",
    "pycharm": {
     "name": "#%%\n"
    }
   },
   "outputs": [],
   "source": [
    "df_movies = pd.read_csv('/datasets/mkrf_movies.csv')\n",
    "df_shows = pd.read_csv('/datasets/mkrf_shows.csv')"
   ]
  },
  {
   "cell_type": "code",
   "execution_count": 3,
   "metadata": {
    "pycharm": {
     "name": "#%%\n"
    }
   },
   "outputs": [
    {
     "name": "stdout",
     "output_type": "stream",
     "text": [
      "<class 'pandas.core.frame.DataFrame'>\n",
      "RangeIndex: 7486 entries, 0 to 7485\n",
      "Data columns (total 15 columns):\n",
      " #   Column                 Non-Null Count  Dtype  \n",
      "---  ------                 --------------  -----  \n",
      " 0   title                  7486 non-null   object \n",
      " 1   puNumber               7486 non-null   object \n",
      " 2   show_start_date        7486 non-null   object \n",
      " 3   type                   7486 non-null   object \n",
      " 4   film_studio            7468 non-null   object \n",
      " 5   production_country     7484 non-null   object \n",
      " 6   director               7477 non-null   object \n",
      " 7   producer               6918 non-null   object \n",
      " 8   age_restriction        7486 non-null   object \n",
      " 9   refundable_support     332 non-null    float64\n",
      " 10  nonrefundable_support  332 non-null    float64\n",
      " 11  budget                 332 non-null    float64\n",
      " 12  financing_source       332 non-null    object \n",
      " 13  ratings                6519 non-null   object \n",
      " 14  genres                 6510 non-null   object \n",
      "dtypes: float64(3), object(12)\n",
      "memory usage: 877.4+ KB\n"
     ]
    }
   ],
   "source": [
    "df_movies.info()"
   ]
  },
  {
   "cell_type": "code",
   "execution_count": 4,
   "metadata": {
    "pycharm": {
     "name": "#%%\n"
    }
   },
   "outputs": [
    {
     "name": "stdout",
     "output_type": "stream",
     "text": [
      "<class 'pandas.core.frame.DataFrame'>\n",
      "RangeIndex: 3158 entries, 0 to 3157\n",
      "Data columns (total 2 columns):\n",
      " #   Column      Non-Null Count  Dtype  \n",
      "---  ------      --------------  -----  \n",
      " 0   puNumber    3158 non-null   int64  \n",
      " 1   box_office  3158 non-null   float64\n",
      "dtypes: float64(1), int64(1)\n",
      "memory usage: 49.5 KB\n"
     ]
    }
   ],
   "source": [
    "df_shows.info()"
   ]
  },
  {
   "cell_type": "markdown",
   "metadata": {
    "pycharm": {
     "name": "#%% md\n"
    }
   },
   "source": [
    "Для того чтобы объединить датафреймы по столбцу \"puNumber\", нужно в первом датафрейме поменять тип данного столбца на int64."
   ]
  },
  {
   "cell_type": "code",
   "execution_count": 5,
   "metadata": {
    "pycharm": {
     "name": "#%%\n"
    }
   },
   "outputs": [],
   "source": [
    "df_movies = df_movies.replace('нет', '0')\n",
    "df_movies['puNumber'] = df_movies['puNumber'].astype('int64')\n",
    "data = df_movies.merge(df_shows, on='puNumber', how='left')"
   ]
  },
  {
   "cell_type": "markdown",
   "metadata": {
    "pycharm": {
     "name": "#%% md\n"
    }
   },
   "source": [
    "Проведем анализ получившегося датафрейма."
   ]
  },
  {
   "cell_type": "code",
   "execution_count": 6,
   "metadata": {
    "pycharm": {
     "name": "#%%\n"
    }
   },
   "outputs": [
    {
     "name": "stdout",
     "output_type": "stream",
     "text": [
      "<class 'pandas.core.frame.DataFrame'>\n",
      "Int64Index: 7486 entries, 0 to 7485\n",
      "Data columns (total 16 columns):\n",
      " #   Column                 Non-Null Count  Dtype  \n",
      "---  ------                 --------------  -----  \n",
      " 0   title                  7486 non-null   object \n",
      " 1   puNumber               7486 non-null   int64  \n",
      " 2   show_start_date        7486 non-null   object \n",
      " 3   type                   7486 non-null   object \n",
      " 4   film_studio            7468 non-null   object \n",
      " 5   production_country     7484 non-null   object \n",
      " 6   director               7477 non-null   object \n",
      " 7   producer               6918 non-null   object \n",
      " 8   age_restriction        7486 non-null   object \n",
      " 9   refundable_support     332 non-null    float64\n",
      " 10  nonrefundable_support  332 non-null    float64\n",
      " 11  budget                 332 non-null    float64\n",
      " 12  financing_source       332 non-null    object \n",
      " 13  ratings                6519 non-null   object \n",
      " 14  genres                 6510 non-null   object \n",
      " 15  box_office             3158 non-null   float64\n",
      "dtypes: float64(4), int64(1), object(11)\n",
      "memory usage: 994.2+ KB\n"
     ]
    }
   ],
   "source": [
    "data.info()"
   ]
  },
  {
   "cell_type": "markdown",
   "metadata": {
    "pycharm": {
     "name": "#%% md\n"
    }
   },
   "source": [
    "Датафреймы успешно объединены. В столбце `puNumber` остались все строки из первого датафрейма, а в столбец `box_office` вошли все строки из второго датафрейма."
   ]
  },
  {
   "cell_type": "markdown",
   "metadata": {
    "pycharm": {
     "name": "#%% md\n"
    }
   },
   "source": [
    "Всего в датафрейме 16 столбцов:\n",
    "* `title` — название фильма;\n",
    "* `puNumber` — номер прокатного удостоверения;\n",
    "* `show_start_date` — дата премьеры фильма;\n",
    "* `type` — тип фильма;\n",
    "* `film_studio` — студия-производитель;\n",
    "* `production_country` — страна-производитель;\n",
    "* `director` — режиссёр;\n",
    "* `producer` — продюсер;\n",
    "* `age_restriction` — возрастная категория;\n",
    "* `refundable_support` — объём возвратных средств государственной поддержки;\n",
    "* `nonrefundable_support` — объём невозвратных средств государственной поддержки;\n",
    "* `financing_source` — источник государственного финансирования;\n",
    "* `budget` — общий бюджет фильма;\n",
    "* `ratings` — рейтинг фильма на КиноПоиске;\n",
    "* `genres` — жанр фильма;\n",
    "* `box_office` — сборы в рублях."
   ]
  },
  {
   "cell_type": "markdown",
   "metadata": {
    "pycharm": {
     "name": "#%% md\n"
    }
   },
   "source": [
    "В столбцах `film_studio`, `production_country` и `director` присутствуют незначительные пропуски. Можно отбросить строки, в которых присутствуют пропуски по этим столбцам. \n",
    "\n",
    "В некоторых других столбцах пропуски более существенны, поэтому отбросить строки с пропусками в них не удасться. Необходимо будет рассмотреть варианты заполнения пропусков."
   ]
  },
  {
   "cell_type": "markdown",
   "metadata": {
    "pycharm": {
     "name": "#%% md\n"
    }
   },
   "source": [
    "#### Вывод"
   ]
  },
  {
   "cell_type": "markdown",
   "metadata": {
    "pycharm": {
     "name": "#%% md\n"
    }
   },
   "source": [
    "Таким образом, на данном этапе были объединены два датафрейма в один, а также намечены планы по устранию пропусков в различных столбцах."
   ]
  },
  {
   "cell_type": "markdown",
   "metadata": {
    "id": "KLDGpPG0gFyM",
    "pycharm": {
     "name": "#%% md\n"
    }
   },
   "source": [
    "### Шаг 2. Предобработка данных"
   ]
  },
  {
   "cell_type": "markdown",
   "metadata": {
    "id": "ssWwKXsxgFyO",
    "pycharm": {
     "name": "#%% md\n"
    }
   },
   "source": [
    "#### Шаг 2.1. Проверьте типы данных\n",
    "\n",
    "- Проверьте типы данных в датафрейме и преобразуйте их там, где это необходимо."
   ]
  },
  {
   "cell_type": "code",
   "execution_count": 7,
   "metadata": {
    "id": "kVGSplJOgFyO",
    "pycharm": {
     "name": "#%%\n"
    }
   },
   "outputs": [
    {
     "name": "stdout",
     "output_type": "stream",
     "text": [
      "<class 'pandas.core.frame.DataFrame'>\n",
      "Int64Index: 7486 entries, 0 to 7485\n",
      "Data columns (total 16 columns):\n",
      " #   Column                 Non-Null Count  Dtype  \n",
      "---  ------                 --------------  -----  \n",
      " 0   title                  7486 non-null   object \n",
      " 1   puNumber               7486 non-null   int64  \n",
      " 2   show_start_date        7486 non-null   object \n",
      " 3   type                   7486 non-null   object \n",
      " 4   film_studio            7468 non-null   object \n",
      " 5   production_country     7484 non-null   object \n",
      " 6   director               7477 non-null   object \n",
      " 7   producer               6918 non-null   object \n",
      " 8   age_restriction        7486 non-null   object \n",
      " 9   refundable_support     332 non-null    float64\n",
      " 10  nonrefundable_support  332 non-null    float64\n",
      " 11  budget                 332 non-null    float64\n",
      " 12  financing_source       332 non-null    object \n",
      " 13  ratings                6519 non-null   object \n",
      " 14  genres                 6510 non-null   object \n",
      " 15  box_office             3158 non-null   float64\n",
      "dtypes: float64(4), int64(1), object(11)\n",
      "memory usage: 994.2+ KB\n"
     ]
    }
   ],
   "source": [
    "data.info()"
   ]
  },
  {
   "cell_type": "code",
   "execution_count": 8,
   "metadata": {
    "scrolled": false,
    "pycharm": {
     "name": "#%%\n"
    }
   },
   "outputs": [
    {
     "data": {
      "text/html": [
       "<div>\n",
       "<style scoped>\n",
       "    .dataframe tbody tr th:only-of-type {\n",
       "        vertical-align: middle;\n",
       "    }\n",
       "\n",
       "    .dataframe tbody tr th {\n",
       "        vertical-align: top;\n",
       "    }\n",
       "\n",
       "    .dataframe thead th {\n",
       "        text-align: right;\n",
       "    }\n",
       "</style>\n",
       "<table border=\"1\" class=\"dataframe\">\n",
       "  <thead>\n",
       "    <tr style=\"text-align: right;\">\n",
       "      <th></th>\n",
       "      <th>title</th>\n",
       "      <th>puNumber</th>\n",
       "      <th>show_start_date</th>\n",
       "      <th>type</th>\n",
       "      <th>film_studio</th>\n",
       "      <th>production_country</th>\n",
       "      <th>director</th>\n",
       "      <th>producer</th>\n",
       "      <th>age_restriction</th>\n",
       "      <th>refundable_support</th>\n",
       "      <th>nonrefundable_support</th>\n",
       "      <th>budget</th>\n",
       "      <th>financing_source</th>\n",
       "      <th>ratings</th>\n",
       "      <th>genres</th>\n",
       "      <th>box_office</th>\n",
       "    </tr>\n",
       "  </thead>\n",
       "  <tbody>\n",
       "    <tr>\n",
       "      <th>0</th>\n",
       "      <td>Открытый простор</td>\n",
       "      <td>221048915</td>\n",
       "      <td>2015-11-27T12:00:00.000Z</td>\n",
       "      <td>Художественный</td>\n",
       "      <td>Тачстоун Пикчерз, Кобальт Пикчерз, Бикон Пикче...</td>\n",
       "      <td>США</td>\n",
       "      <td>Кевин Костнер</td>\n",
       "      <td>Дэвид Валдес, Кевин Костнер, Джейк Эбертс</td>\n",
       "      <td>«18+» - запрещено для детей</td>\n",
       "      <td>NaN</td>\n",
       "      <td>NaN</td>\n",
       "      <td>NaN</td>\n",
       "      <td>NaN</td>\n",
       "      <td>7.2</td>\n",
       "      <td>боевик,драма,мелодрама</td>\n",
       "      <td>NaN</td>\n",
       "    </tr>\n",
       "    <tr>\n",
       "      <th>1</th>\n",
       "      <td>Особо важное задание</td>\n",
       "      <td>111013716</td>\n",
       "      <td>2016-09-13T12:00:00.000Z</td>\n",
       "      <td>Художественный</td>\n",
       "      <td>Киностудия \"Мосфильм\"</td>\n",
       "      <td>СССР</td>\n",
       "      <td>Е.Матвеев</td>\n",
       "      <td>NaN</td>\n",
       "      <td>«6+» - для детей старше 6 лет</td>\n",
       "      <td>NaN</td>\n",
       "      <td>NaN</td>\n",
       "      <td>NaN</td>\n",
       "      <td>NaN</td>\n",
       "      <td>6.6</td>\n",
       "      <td>драма,военный</td>\n",
       "      <td>NaN</td>\n",
       "    </tr>\n",
       "    <tr>\n",
       "      <th>2</th>\n",
       "      <td>Особо опасен</td>\n",
       "      <td>221038416</td>\n",
       "      <td>2016-10-10T12:00:00.000Z</td>\n",
       "      <td>Художественный</td>\n",
       "      <td>Юниверсал Пикчерз, Кикстарт Продакшнз, Марк Пл...</td>\n",
       "      <td>США</td>\n",
       "      <td>Тимур Бекмамбетов</td>\n",
       "      <td>Джим Лемли, Джейсон Нетер, Марк Е.Платт, Яйн Смит</td>\n",
       "      <td>«18+» - запрещено для детей</td>\n",
       "      <td>NaN</td>\n",
       "      <td>NaN</td>\n",
       "      <td>NaN</td>\n",
       "      <td>NaN</td>\n",
       "      <td>6.8</td>\n",
       "      <td>фантастика,боевик,триллер</td>\n",
       "      <td>NaN</td>\n",
       "    </tr>\n",
       "    <tr>\n",
       "      <th>3</th>\n",
       "      <td>Особо опасен</td>\n",
       "      <td>221026916</td>\n",
       "      <td>2016-06-10T12:00:00.000Z</td>\n",
       "      <td>Художественный</td>\n",
       "      <td>Юниверсал Пикчерз, Кикстарт Продакшнз, Марк Пл...</td>\n",
       "      <td>США</td>\n",
       "      <td>Тимур Бекмамбетов</td>\n",
       "      <td>Джим Лемли, Джейсон Нетер, Марк Е.Платт, Яйн Смит</td>\n",
       "      <td>«18+» - запрещено для детей</td>\n",
       "      <td>NaN</td>\n",
       "      <td>NaN</td>\n",
       "      <td>NaN</td>\n",
       "      <td>NaN</td>\n",
       "      <td>6.8</td>\n",
       "      <td>фантастика,боевик,триллер</td>\n",
       "      <td>NaN</td>\n",
       "    </tr>\n",
       "    <tr>\n",
       "      <th>4</th>\n",
       "      <td>Особо опасен</td>\n",
       "      <td>221030815</td>\n",
       "      <td>2015-07-29T12:00:00.000Z</td>\n",
       "      <td>Художественный</td>\n",
       "      <td>Юниверсал Пикчерз, Кикстарт Продакшнз, Марк Пл...</td>\n",
       "      <td>США</td>\n",
       "      <td>Тимур Бекмамбетов</td>\n",
       "      <td>Джим Лемли, Джейсон Нетер, Марк Е.Платт, Яйн Смит</td>\n",
       "      <td>«18+» - запрещено для детей</td>\n",
       "      <td>NaN</td>\n",
       "      <td>NaN</td>\n",
       "      <td>NaN</td>\n",
       "      <td>NaN</td>\n",
       "      <td>6.8</td>\n",
       "      <td>фантастика,боевик,триллер</td>\n",
       "      <td>NaN</td>\n",
       "    </tr>\n",
       "    <tr>\n",
       "      <th>5</th>\n",
       "      <td>Остановился поезд</td>\n",
       "      <td>111013816</td>\n",
       "      <td>2016-09-13T12:00:00.000Z</td>\n",
       "      <td>Художественный</td>\n",
       "      <td>Киностудия \"Мосфильм\"</td>\n",
       "      <td>СССР</td>\n",
       "      <td>В.Абдрашитов</td>\n",
       "      <td>NaN</td>\n",
       "      <td>«6+» - для детей старше 6 лет</td>\n",
       "      <td>NaN</td>\n",
       "      <td>NaN</td>\n",
       "      <td>NaN</td>\n",
       "      <td>NaN</td>\n",
       "      <td>7.7</td>\n",
       "      <td>драма</td>\n",
       "      <td>NaN</td>\n",
       "    </tr>\n",
       "    <tr>\n",
       "      <th>6</th>\n",
       "      <td>Любовь и голуби</td>\n",
       "      <td>111007013</td>\n",
       "      <td>2013-10-18T12:00:00.000Z</td>\n",
       "      <td>Художественный</td>\n",
       "      <td>Киностудия \"Мосфильм\"</td>\n",
       "      <td>СССР</td>\n",
       "      <td>В.Меньшов</td>\n",
       "      <td>NaN</td>\n",
       "      <td>«12+» - для детей старше 12 лет</td>\n",
       "      <td>NaN</td>\n",
       "      <td>NaN</td>\n",
       "      <td>NaN</td>\n",
       "      <td>NaN</td>\n",
       "      <td>8.3</td>\n",
       "      <td>мелодрама,комедия</td>\n",
       "      <td>2700.00</td>\n",
       "    </tr>\n",
       "    <tr>\n",
       "      <th>7</th>\n",
       "      <td>Любовь и сигареты</td>\n",
       "      <td>221074614</td>\n",
       "      <td>2014-12-29T12:00:00.000Z</td>\n",
       "      <td>Художественный</td>\n",
       "      <td>Юнайтед Артистс, Грин Стрит Филмз, Айкон Интер...</td>\n",
       "      <td>США</td>\n",
       "      <td>Джон Туртурро</td>\n",
       "      <td>Джон Пенотти, Джон Туртурро</td>\n",
       "      <td>«18+» - запрещено для детей</td>\n",
       "      <td>NaN</td>\n",
       "      <td>NaN</td>\n",
       "      <td>NaN</td>\n",
       "      <td>NaN</td>\n",
       "      <td>6.6</td>\n",
       "      <td>мюзикл,мелодрама,комедия</td>\n",
       "      <td>NaN</td>\n",
       "    </tr>\n",
       "    <tr>\n",
       "      <th>8</th>\n",
       "      <td>Отпетые мошенники.</td>\n",
       "      <td>121011416</td>\n",
       "      <td>2016-05-05T12:00:00.000Z</td>\n",
       "      <td>Художественный</td>\n",
       "      <td>Пульсар Продюксьон, ТФ1 Фильм</td>\n",
       "      <td>Франция</td>\n",
       "      <td>Эрик Беснард</td>\n",
       "      <td>Патрис Леду</td>\n",
       "      <td>«18+» - запрещено для детей</td>\n",
       "      <td>NaN</td>\n",
       "      <td>NaN</td>\n",
       "      <td>NaN</td>\n",
       "      <td>NaN</td>\n",
       "      <td>8.0</td>\n",
       "      <td>комедия,криминал</td>\n",
       "      <td>NaN</td>\n",
       "    </tr>\n",
       "    <tr>\n",
       "      <th>9</th>\n",
       "      <td>Отпуск за свой счет</td>\n",
       "      <td>111019114</td>\n",
       "      <td>2014-12-01T12:00:00.000Z</td>\n",
       "      <td>Художественный</td>\n",
       "      <td>Киностудия \"Мосфильм\", Телевидение ВНР</td>\n",
       "      <td>СССР, Венгрия</td>\n",
       "      <td>В.Титов</td>\n",
       "      <td>NaN</td>\n",
       "      <td>«12+» - для детей старше 12 лет</td>\n",
       "      <td>NaN</td>\n",
       "      <td>NaN</td>\n",
       "      <td>NaN</td>\n",
       "      <td>NaN</td>\n",
       "      <td>7.8</td>\n",
       "      <td>мелодрама,комедия</td>\n",
       "      <td>NaN</td>\n",
       "    </tr>\n",
       "  </tbody>\n",
       "</table>\n",
       "</div>"
      ],
      "text/plain": [
       "                  title   puNumber           show_start_date            type  \\\n",
       "0      Открытый простор  221048915  2015-11-27T12:00:00.000Z  Художественный   \n",
       "1  Особо важное задание  111013716  2016-09-13T12:00:00.000Z  Художественный   \n",
       "2          Особо опасен  221038416  2016-10-10T12:00:00.000Z  Художественный   \n",
       "3          Особо опасен  221026916  2016-06-10T12:00:00.000Z  Художественный   \n",
       "4          Особо опасен  221030815  2015-07-29T12:00:00.000Z  Художественный   \n",
       "5     Остановился поезд  111013816  2016-09-13T12:00:00.000Z  Художественный   \n",
       "6       Любовь и голуби  111007013  2013-10-18T12:00:00.000Z  Художественный   \n",
       "7     Любовь и сигареты  221074614  2014-12-29T12:00:00.000Z  Художественный   \n",
       "8    Отпетые мошенники.  121011416  2016-05-05T12:00:00.000Z  Художественный   \n",
       "9   Отпуск за свой счет  111019114  2014-12-01T12:00:00.000Z  Художественный   \n",
       "\n",
       "                                         film_studio production_country  \\\n",
       "0  Тачстоун Пикчерз, Кобальт Пикчерз, Бикон Пикче...                США   \n",
       "1                              Киностудия \"Мосфильм\"               СССР   \n",
       "2  Юниверсал Пикчерз, Кикстарт Продакшнз, Марк Пл...                США   \n",
       "3  Юниверсал Пикчерз, Кикстарт Продакшнз, Марк Пл...                США   \n",
       "4  Юниверсал Пикчерз, Кикстарт Продакшнз, Марк Пл...                США   \n",
       "5                              Киностудия \"Мосфильм\"               СССР   \n",
       "6                              Киностудия \"Мосфильм\"               СССР   \n",
       "7  Юнайтед Артистс, Грин Стрит Филмз, Айкон Интер...                США   \n",
       "8                     Пульсар Продюксьон, ТФ1 Фильм             Франция   \n",
       "9             Киностудия \"Мосфильм\", Телевидение ВНР      СССР, Венгрия   \n",
       "\n",
       "            director                                           producer  \\\n",
       "0      Кевин Костнер          Дэвид Валдес, Кевин Костнер, Джейк Эбертс   \n",
       "1          Е.Матвеев                                                NaN   \n",
       "2  Тимур Бекмамбетов  Джим Лемли, Джейсон Нетер, Марк Е.Платт, Яйн Смит   \n",
       "3  Тимур Бекмамбетов  Джим Лемли, Джейсон Нетер, Марк Е.Платт, Яйн Смит   \n",
       "4  Тимур Бекмамбетов  Джим Лемли, Джейсон Нетер, Марк Е.Платт, Яйн Смит   \n",
       "5       В.Абдрашитов                                                NaN   \n",
       "6          В.Меньшов                                                NaN   \n",
       "7      Джон Туртурро                        Джон Пенотти, Джон Туртурро   \n",
       "8       Эрик Беснард                                        Патрис Леду   \n",
       "9            В.Титов                                                NaN   \n",
       "\n",
       "                   age_restriction  refundable_support  nonrefundable_support  \\\n",
       "0      «18+» - запрещено для детей                 NaN                    NaN   \n",
       "1    «6+» - для детей старше 6 лет                 NaN                    NaN   \n",
       "2      «18+» - запрещено для детей                 NaN                    NaN   \n",
       "3      «18+» - запрещено для детей                 NaN                    NaN   \n",
       "4      «18+» - запрещено для детей                 NaN                    NaN   \n",
       "5    «6+» - для детей старше 6 лет                 NaN                    NaN   \n",
       "6  «12+» - для детей старше 12 лет                 NaN                    NaN   \n",
       "7      «18+» - запрещено для детей                 NaN                    NaN   \n",
       "8      «18+» - запрещено для детей                 NaN                    NaN   \n",
       "9  «12+» - для детей старше 12 лет                 NaN                    NaN   \n",
       "\n",
       "   budget financing_source ratings                     genres  box_office  \n",
       "0     NaN              NaN     7.2     боевик,драма,мелодрама         NaN  \n",
       "1     NaN              NaN     6.6              драма,военный         NaN  \n",
       "2     NaN              NaN     6.8  фантастика,боевик,триллер         NaN  \n",
       "3     NaN              NaN     6.8  фантастика,боевик,триллер         NaN  \n",
       "4     NaN              NaN     6.8  фантастика,боевик,триллер         NaN  \n",
       "5     NaN              NaN     7.7                      драма         NaN  \n",
       "6     NaN              NaN     8.3          мелодрама,комедия     2700.00  \n",
       "7     NaN              NaN     6.6   мюзикл,мелодрама,комедия         NaN  \n",
       "8     NaN              NaN     8.0           комедия,криминал         NaN  \n",
       "9     NaN              NaN     7.8          мелодрама,комедия         NaN  "
      ]
     },
     "execution_count": 8,
     "metadata": {},
     "output_type": "execute_result"
    }
   ],
   "source": [
    "data.head(10)"
   ]
  },
  {
   "cell_type": "markdown",
   "metadata": {
    "pycharm": {
     "name": "#%% md\n"
    }
   },
   "source": [
    "Необходимо внести следующие коррективы:\n",
    "* заменить тип данных столбца `show_start_date` на datetime;\n",
    "* заменить тип данных столбца `ratings` на float64."
   ]
  },
  {
   "cell_type": "code",
   "execution_count": 9,
   "metadata": {
    "pycharm": {
     "name": "#%%\n"
    }
   },
   "outputs": [],
   "source": [
    "data['show_start_date'] = pd.to_datetime(data['show_start_date'], format='%Y-%m-%dT%H:%M:%S')"
   ]
  },
  {
   "cell_type": "markdown",
   "metadata": {
    "pycharm": {
     "name": "#%% md\n"
    }
   },
   "source": [
    "На Кинопоиске рейтинг исчисляется от 0 до 10, однако в данных есть строки, в которых рейтинг исчисляется в %. Необходимо привести их к единому стандарту."
   ]
  },
  {
   "cell_type": "code",
   "execution_count": 10,
   "metadata": {
    "scrolled": true,
    "pycharm": {
     "name": "#%%\n"
    }
   },
   "outputs": [],
   "source": [
    "data['ratings'] = data['ratings'].str.replace('%', '').astype(float)\n",
    "data.loc[data['ratings'] >10, 'ratings'] = data.loc[data['ratings'] >10, 'ratings'] / 10"
   ]
  },
  {
   "cell_type": "markdown",
   "metadata": {
    "id": "i0MOLbF-gFyP",
    "pycharm": {
     "name": "#%% md\n"
    }
   },
   "source": [
    "#### Шаг 2.2. Изучите пропуски в датафрейме\n",
    "\n",
    "- Объясните, почему заполнили пропуски определённым образом или почему не стали этого делать."
   ]
  },
  {
   "cell_type": "code",
   "execution_count": 11,
   "metadata": {
    "id": "8MJD_lkngFyP",
    "pycharm": {
     "name": "#%%\n"
    }
   },
   "outputs": [
    {
     "data": {
      "text/plain": [
       "title                       0\n",
       "puNumber                    0\n",
       "show_start_date             0\n",
       "type                        0\n",
       "film_studio                18\n",
       "production_country          2\n",
       "director                    9\n",
       "producer                  568\n",
       "age_restriction             0\n",
       "refundable_support       7154\n",
       "nonrefundable_support    7154\n",
       "budget                   7154\n",
       "financing_source         7154\n",
       "ratings                   967\n",
       "genres                    976\n",
       "box_office               4328\n",
       "dtype: int64"
      ]
     },
     "execution_count": 11,
     "metadata": {},
     "output_type": "execute_result"
    }
   ],
   "source": [
    "data.isna().sum()"
   ]
  },
  {
   "cell_type": "markdown",
   "metadata": {
    "pycharm": {
     "name": "#%% md\n"
    }
   },
   "source": [
    "Как говорилось ранее, доля пропусков в солбцах `film_studio`, `production_country` и `director` невелика, поэтому можно отбросить строки с пропусками в этих столбцах."
   ]
  },
  {
   "cell_type": "code",
   "execution_count": 12,
   "metadata": {
    "pycharm": {
     "name": "#%%\n"
    }
   },
   "outputs": [],
   "source": [
    "data = data[data['film_studio'].isna() == False]\n",
    "data = data[data['production_country'].isna() == False]\n",
    "data = data[data['director'].isna() == False]"
   ]
  },
  {
   "cell_type": "markdown",
   "metadata": {
    "pycharm": {
     "name": "#%% md\n"
    }
   },
   "source": [
    "Заполнение пропусков в остальных столбцах затруднительно, поскольку заполнение средними значениями в столбцах с численными даными может привести к значительным искажениям итоговых выводов. Можно заполнить пропуски нулевыми значениями, однако видимых преимуществ это не даст.\n",
    "\n",
    "Похожая ситуация наблюдается со столбцами с уникальными значениями (например, имя продюсера). Можно заполнить пропуски значением \"unknown\", однако видимых преимущств это не даст."
   ]
  },
  {
   "cell_type": "markdown",
   "metadata": {
    "id": "4c6k1t9ygFyQ",
    "pycharm": {
     "name": "#%% md\n"
    }
   },
   "source": [
    "#### Шаг 2.3. Изучите дубликаты в датафрейме\n",
    "- Проверьте, есть ли в данных дубликаты. Опишите причины, которые могли повлиять на появление дублей."
   ]
  },
  {
   "cell_type": "code",
   "execution_count": 13,
   "metadata": {
    "id": "aKck8RIdgFyQ",
    "scrolled": true,
    "pycharm": {
     "name": "#%%\n"
    }
   },
   "outputs": [
    {
     "data": {
      "text/html": [
       "<div>\n",
       "<style scoped>\n",
       "    .dataframe tbody tr th:only-of-type {\n",
       "        vertical-align: middle;\n",
       "    }\n",
       "\n",
       "    .dataframe tbody tr th {\n",
       "        vertical-align: top;\n",
       "    }\n",
       "\n",
       "    .dataframe thead th {\n",
       "        text-align: right;\n",
       "    }\n",
       "</style>\n",
       "<table border=\"1\" class=\"dataframe\">\n",
       "  <thead>\n",
       "    <tr style=\"text-align: right;\">\n",
       "      <th></th>\n",
       "      <th>title</th>\n",
       "      <th>puNumber</th>\n",
       "      <th>show_start_date</th>\n",
       "      <th>type</th>\n",
       "      <th>film_studio</th>\n",
       "      <th>production_country</th>\n",
       "      <th>director</th>\n",
       "      <th>producer</th>\n",
       "      <th>age_restriction</th>\n",
       "      <th>refundable_support</th>\n",
       "      <th>nonrefundable_support</th>\n",
       "      <th>budget</th>\n",
       "      <th>financing_source</th>\n",
       "      <th>ratings</th>\n",
       "      <th>genres</th>\n",
       "      <th>box_office</th>\n",
       "    </tr>\n",
       "  </thead>\n",
       "  <tbody>\n",
       "  </tbody>\n",
       "</table>\n",
       "</div>"
      ],
      "text/plain": [
       "Empty DataFrame\n",
       "Columns: [title, puNumber, show_start_date, type, film_studio, production_country, director, producer, age_restriction, refundable_support, nonrefundable_support, budget, financing_source, ratings, genres, box_office]\n",
       "Index: []"
      ]
     },
     "execution_count": 13,
     "metadata": {},
     "output_type": "execute_result"
    }
   ],
   "source": [
    "data[data.duplicated()]"
   ]
  },
  {
   "cell_type": "markdown",
   "metadata": {
    "pycharm": {
     "name": "#%% md\n"
    }
   },
   "source": [
    "Явных дубликатов в данных не выявлено. Попробуем найти неявные дубликаты."
   ]
  },
  {
   "cell_type": "code",
   "execution_count": 14,
   "metadata": {
    "pycharm": {
     "name": "#%%\n"
    }
   },
   "outputs": [
    {
     "data": {
      "text/plain": [
       "День святого Валентина_                    5\n",
       "Непокоренный.                              4\n",
       "Дитя тьмы                                  4\n",
       "Дом грёз                                   4\n",
       "Жена путешественника во времени            4\n",
       "                                          ..\n",
       "Агент под прикрытием                       1\n",
       "МУЛЬТ в кино. Выпуск №47                   1\n",
       "Эколав                                     1\n",
       "Страсти Дон Жуана                          1\n",
       "Три метра над уровнем неба. Я тебя хочу    1\n",
       "Name: title, Length: 6746, dtype: int64"
      ]
     },
     "execution_count": 14,
     "metadata": {},
     "output_type": "execute_result"
    }
   ],
   "source": [
    "data['title'].value_counts()"
   ]
  },
  {
   "cell_type": "markdown",
   "metadata": {
    "pycharm": {
     "name": "#%% md\n"
    }
   },
   "source": [
    "Как можно видеть, в датафрейме есть фильмы с одним и тем же названием."
   ]
  },
  {
   "cell_type": "code",
   "execution_count": 15,
   "metadata": {
    "scrolled": false,
    "pycharm": {
     "name": "#%%\n"
    }
   },
   "outputs": [
    {
     "data": {
      "text/html": [
       "<div>\n",
       "<style scoped>\n",
       "    .dataframe tbody tr th:only-of-type {\n",
       "        vertical-align: middle;\n",
       "    }\n",
       "\n",
       "    .dataframe tbody tr th {\n",
       "        vertical-align: top;\n",
       "    }\n",
       "\n",
       "    .dataframe thead th {\n",
       "        text-align: right;\n",
       "    }\n",
       "</style>\n",
       "<table border=\"1\" class=\"dataframe\">\n",
       "  <thead>\n",
       "    <tr style=\"text-align: right;\">\n",
       "      <th></th>\n",
       "      <th>title</th>\n",
       "      <th>puNumber</th>\n",
       "      <th>show_start_date</th>\n",
       "      <th>type</th>\n",
       "      <th>film_studio</th>\n",
       "      <th>production_country</th>\n",
       "      <th>director</th>\n",
       "      <th>producer</th>\n",
       "      <th>age_restriction</th>\n",
       "      <th>refundable_support</th>\n",
       "      <th>nonrefundable_support</th>\n",
       "      <th>budget</th>\n",
       "      <th>financing_source</th>\n",
       "      <th>ratings</th>\n",
       "      <th>genres</th>\n",
       "      <th>box_office</th>\n",
       "    </tr>\n",
       "  </thead>\n",
       "  <tbody>\n",
       "    <tr>\n",
       "      <th>3902</th>\n",
       "      <td>День святого Валентина_</td>\n",
       "      <td>221083810</td>\n",
       "      <td>2010-07-15 12:00:00+00:00</td>\n",
       "      <td>Художественный</td>\n",
       "      <td>Уорнер Бразерс, Нью Лайн Синема, Уэйн Райс, Ка...</td>\n",
       "      <td>США</td>\n",
       "      <td>Гарри Маршалл</td>\n",
       "      <td>Сэмюэл Дж.Браун</td>\n",
       "      <td>«16+» - для детей старше 16 лет</td>\n",
       "      <td>NaN</td>\n",
       "      <td>NaN</td>\n",
       "      <td>NaN</td>\n",
       "      <td>NaN</td>\n",
       "      <td>6.70</td>\n",
       "      <td>мелодрама,комедия</td>\n",
       "      <td>NaN</td>\n",
       "    </tr>\n",
       "    <tr>\n",
       "      <th>3991</th>\n",
       "      <td>День святого Валентина_</td>\n",
       "      <td>221068010</td>\n",
       "      <td>2010-05-14 12:00:00+00:00</td>\n",
       "      <td>Художественный</td>\n",
       "      <td>Уорнер Бразерс, Нью Лайн Синема, Уэйн Райс, Ка...</td>\n",
       "      <td>США</td>\n",
       "      <td>Гарри Маршалл</td>\n",
       "      <td>Сэмюэл Дж.Браун</td>\n",
       "      <td>«16+» - для детей старше 16 лет</td>\n",
       "      <td>NaN</td>\n",
       "      <td>NaN</td>\n",
       "      <td>NaN</td>\n",
       "      <td>NaN</td>\n",
       "      <td>6.70</td>\n",
       "      <td>мелодрама,комедия</td>\n",
       "      <td>NaN</td>\n",
       "    </tr>\n",
       "    <tr>\n",
       "      <th>4070</th>\n",
       "      <td>День святого Валентина_</td>\n",
       "      <td>121002210</td>\n",
       "      <td>2010-02-03 12:00:00+00:00</td>\n",
       "      <td>Художественный</td>\n",
       "      <td>Уорнер Бразерс, Нью Лайн Синема, Уэйн Райс, Ка...</td>\n",
       "      <td>США</td>\n",
       "      <td>Гарри Маршалл</td>\n",
       "      <td>Сэмюэл Дж.Браун</td>\n",
       "      <td>«16+» - для детей старше 16 лет</td>\n",
       "      <td>NaN</td>\n",
       "      <td>NaN</td>\n",
       "      <td>NaN</td>\n",
       "      <td>NaN</td>\n",
       "      <td>6.70</td>\n",
       "      <td>мелодрама,комедия</td>\n",
       "      <td>NaN</td>\n",
       "    </tr>\n",
       "    <tr>\n",
       "      <th>4196</th>\n",
       "      <td>День святого Валентина_</td>\n",
       "      <td>221136210</td>\n",
       "      <td>2010-11-30 12:00:00+00:00</td>\n",
       "      <td>Художественный</td>\n",
       "      <td>Уорнер Бразерс, Нью Лайн Синема, Уэйн Райс, Ка...</td>\n",
       "      <td>США</td>\n",
       "      <td>Гарри Маршалл</td>\n",
       "      <td>Сэмюэл Дж.Браун</td>\n",
       "      <td>«16+» - для детей старше 16 лет</td>\n",
       "      <td>NaN</td>\n",
       "      <td>NaN</td>\n",
       "      <td>NaN</td>\n",
       "      <td>NaN</td>\n",
       "      <td>6.70</td>\n",
       "      <td>мелодрама,комедия</td>\n",
       "      <td>NaN</td>\n",
       "    </tr>\n",
       "    <tr>\n",
       "      <th>5070</th>\n",
       "      <td>День святого Валентина_</td>\n",
       "      <td>221066410</td>\n",
       "      <td>2010-06-01 12:00:00+00:00</td>\n",
       "      <td>Художественный</td>\n",
       "      <td>Уорнер Бразерс, Нью Лайн Синема, Уэйн Райс, Ка...</td>\n",
       "      <td>США</td>\n",
       "      <td>Гарри Маршалл</td>\n",
       "      <td>Сэмюэл Дж.Браун</td>\n",
       "      <td>«16+» - для детей старше 16 лет</td>\n",
       "      <td>NaN</td>\n",
       "      <td>NaN</td>\n",
       "      <td>NaN</td>\n",
       "      <td>NaN</td>\n",
       "      <td>6.70</td>\n",
       "      <td>мелодрама,комедия</td>\n",
       "      <td>NaN</td>\n",
       "    </tr>\n",
       "  </tbody>\n",
       "</table>\n",
       "</div>"
      ],
      "text/plain": [
       "                        title   puNumber           show_start_date  \\\n",
       "3902  День святого Валентина_  221083810 2010-07-15 12:00:00+00:00   \n",
       "3991  День святого Валентина_  221068010 2010-05-14 12:00:00+00:00   \n",
       "4070  День святого Валентина_  121002210 2010-02-03 12:00:00+00:00   \n",
       "4196  День святого Валентина_  221136210 2010-11-30 12:00:00+00:00   \n",
       "5070  День святого Валентина_  221066410 2010-06-01 12:00:00+00:00   \n",
       "\n",
       "                type                                        film_studio  \\\n",
       "3902  Художественный  Уорнер Бразерс, Нью Лайн Синема, Уэйн Райс, Ка...   \n",
       "3991  Художественный  Уорнер Бразерс, Нью Лайн Синема, Уэйн Райс, Ка...   \n",
       "4070  Художественный  Уорнер Бразерс, Нью Лайн Синема, Уэйн Райс, Ка...   \n",
       "4196  Художественный  Уорнер Бразерс, Нью Лайн Синема, Уэйн Райс, Ка...   \n",
       "5070  Художественный  Уорнер Бразерс, Нью Лайн Синема, Уэйн Райс, Ка...   \n",
       "\n",
       "     production_country       director         producer  \\\n",
       "3902                США  Гарри Маршалл  Сэмюэл Дж.Браун   \n",
       "3991                США  Гарри Маршалл  Сэмюэл Дж.Браун   \n",
       "4070                США  Гарри Маршалл  Сэмюэл Дж.Браун   \n",
       "4196                США  Гарри Маршалл  Сэмюэл Дж.Браун   \n",
       "5070                США  Гарри Маршалл  Сэмюэл Дж.Браун   \n",
       "\n",
       "                      age_restriction  refundable_support  \\\n",
       "3902  «16+» - для детей старше 16 лет                 NaN   \n",
       "3991  «16+» - для детей старше 16 лет                 NaN   \n",
       "4070  «16+» - для детей старше 16 лет                 NaN   \n",
       "4196  «16+» - для детей старше 16 лет                 NaN   \n",
       "5070  «16+» - для детей старше 16 лет                 NaN   \n",
       "\n",
       "      nonrefundable_support  budget financing_source  ratings  \\\n",
       "3902                    NaN     NaN              NaN     6.70   \n",
       "3991                    NaN     NaN              NaN     6.70   \n",
       "4070                    NaN     NaN              NaN     6.70   \n",
       "4196                    NaN     NaN              NaN     6.70   \n",
       "5070                    NaN     NaN              NaN     6.70   \n",
       "\n",
       "                 genres  box_office  \n",
       "3902  мелодрама,комедия         NaN  \n",
       "3991  мелодрама,комедия         NaN  \n",
       "4070  мелодрама,комедия         NaN  \n",
       "4196  мелодрама,комедия         NaN  \n",
       "5070  мелодрама,комедия         NaN  "
      ]
     },
     "execution_count": 15,
     "metadata": {},
     "output_type": "execute_result"
    }
   ],
   "source": [
    "data[data['title'] == 'День святого Валентина_']"
   ]
  },
  {
   "cell_type": "markdown",
   "metadata": {
    "pycharm": {
     "name": "#%% md\n"
    }
   },
   "source": [
    "У данных фильмов одинаковые названия, но разные номера прокатного удостоверения и дата начала проката.\n",
    "\n",
    "Однако может быть ситуация, когда фильмы имеют одинаковое названия, но сняты разными режиссерами и в разных странах, что нужно учесть при удалении дубликатов."
   ]
  },
  {
   "cell_type": "code",
   "execution_count": 16,
   "metadata": {
    "scrolled": true,
    "pycharm": {
     "name": "#%%\n"
    }
   },
   "outputs": [
    {
     "data": {
      "text/plain": [
       "675"
      ]
     },
     "execution_count": 16,
     "metadata": {},
     "output_type": "execute_result"
    }
   ],
   "source": [
    "duplicated_films = data[['title', 'production_country', 'director']]\n",
    "duplicated_films = duplicated_films[duplicated_films.duplicated()]\n",
    "duplicated_films['title'].count()"
   ]
  },
  {
   "cell_type": "markdown",
   "metadata": {
    "pycharm": {
     "name": "#%% md\n"
    }
   },
   "source": [
    "Получается, в датафрейме 675 фильмов с одинаковым названием, страной происхожения и режисером."
   ]
  },
  {
   "cell_type": "code",
   "execution_count": 17,
   "metadata": {
    "pycharm": {
     "name": "#%%\n"
    }
   },
   "outputs": [
    {
     "data": {
      "text/html": [
       "<div>\n",
       "<style scoped>\n",
       "    .dataframe tbody tr th:only-of-type {\n",
       "        vertical-align: middle;\n",
       "    }\n",
       "\n",
       "    .dataframe tbody tr th {\n",
       "        vertical-align: top;\n",
       "    }\n",
       "\n",
       "    .dataframe thead th {\n",
       "        text-align: right;\n",
       "    }\n",
       "</style>\n",
       "<table border=\"1\" class=\"dataframe\">\n",
       "  <thead>\n",
       "    <tr style=\"text-align: right;\">\n",
       "      <th></th>\n",
       "      <th>title</th>\n",
       "      <th>production_country</th>\n",
       "      <th>director</th>\n",
       "    </tr>\n",
       "  </thead>\n",
       "  <tbody>\n",
       "    <tr>\n",
       "      <th>3991</th>\n",
       "      <td>День святого Валентина_</td>\n",
       "      <td>США</td>\n",
       "      <td>Гарри Маршалл</td>\n",
       "    </tr>\n",
       "    <tr>\n",
       "      <th>4070</th>\n",
       "      <td>День святого Валентина_</td>\n",
       "      <td>США</td>\n",
       "      <td>Гарри Маршалл</td>\n",
       "    </tr>\n",
       "    <tr>\n",
       "      <th>4196</th>\n",
       "      <td>День святого Валентина_</td>\n",
       "      <td>США</td>\n",
       "      <td>Гарри Маршалл</td>\n",
       "    </tr>\n",
       "    <tr>\n",
       "      <th>5070</th>\n",
       "      <td>День святого Валентина_</td>\n",
       "      <td>США</td>\n",
       "      <td>Гарри Маршалл</td>\n",
       "    </tr>\n",
       "  </tbody>\n",
       "</table>\n",
       "</div>"
      ],
      "text/plain": [
       "                        title production_country       director\n",
       "3991  День святого Валентина_                США  Гарри Маршалл\n",
       "4070  День святого Валентина_                США  Гарри Маршалл\n",
       "4196  День святого Валентина_                США  Гарри Маршалл\n",
       "5070  День святого Валентина_                США  Гарри Маршалл"
      ]
     },
     "execution_count": 17,
     "metadata": {},
     "output_type": "execute_result"
    }
   ],
   "source": [
    "duplicated_films[duplicated_films['title'] == 'День святого Валентина_']"
   ]
  },
  {
   "cell_type": "code",
   "execution_count": 18,
   "metadata": {
    "pycharm": {
     "name": "#%%\n"
    }
   },
   "outputs": [],
   "source": [
    "data = data.drop(index=duplicated_films.index.to_list())"
   ]
  },
  {
   "cell_type": "code",
   "execution_count": 19,
   "metadata": {
    "scrolled": true,
    "pycharm": {
     "name": "#%%\n"
    }
   },
   "outputs": [
    {
     "data": {
      "text/html": [
       "<div>\n",
       "<style scoped>\n",
       "    .dataframe tbody tr th:only-of-type {\n",
       "        vertical-align: middle;\n",
       "    }\n",
       "\n",
       "    .dataframe tbody tr th {\n",
       "        vertical-align: top;\n",
       "    }\n",
       "\n",
       "    .dataframe thead th {\n",
       "        text-align: right;\n",
       "    }\n",
       "</style>\n",
       "<table border=\"1\" class=\"dataframe\">\n",
       "  <thead>\n",
       "    <tr style=\"text-align: right;\">\n",
       "      <th></th>\n",
       "      <th>title</th>\n",
       "      <th>puNumber</th>\n",
       "      <th>show_start_date</th>\n",
       "      <th>type</th>\n",
       "      <th>film_studio</th>\n",
       "      <th>production_country</th>\n",
       "      <th>director</th>\n",
       "      <th>producer</th>\n",
       "      <th>age_restriction</th>\n",
       "      <th>refundable_support</th>\n",
       "      <th>nonrefundable_support</th>\n",
       "      <th>budget</th>\n",
       "      <th>financing_source</th>\n",
       "      <th>ratings</th>\n",
       "      <th>genres</th>\n",
       "      <th>box_office</th>\n",
       "    </tr>\n",
       "  </thead>\n",
       "  <tbody>\n",
       "    <tr>\n",
       "      <th>3902</th>\n",
       "      <td>День святого Валентина_</td>\n",
       "      <td>221083810</td>\n",
       "      <td>2010-07-15 12:00:00+00:00</td>\n",
       "      <td>Художественный</td>\n",
       "      <td>Уорнер Бразерс, Нью Лайн Синема, Уэйн Райс, Ка...</td>\n",
       "      <td>США</td>\n",
       "      <td>Гарри Маршалл</td>\n",
       "      <td>Сэмюэл Дж.Браун</td>\n",
       "      <td>«16+» - для детей старше 16 лет</td>\n",
       "      <td>NaN</td>\n",
       "      <td>NaN</td>\n",
       "      <td>NaN</td>\n",
       "      <td>NaN</td>\n",
       "      <td>6.70</td>\n",
       "      <td>мелодрама,комедия</td>\n",
       "      <td>NaN</td>\n",
       "    </tr>\n",
       "  </tbody>\n",
       "</table>\n",
       "</div>"
      ],
      "text/plain": [
       "                        title   puNumber           show_start_date  \\\n",
       "3902  День святого Валентина_  221083810 2010-07-15 12:00:00+00:00   \n",
       "\n",
       "                type                                        film_studio  \\\n",
       "3902  Художественный  Уорнер Бразерс, Нью Лайн Синема, Уэйн Райс, Ка...   \n",
       "\n",
       "     production_country       director         producer  \\\n",
       "3902                США  Гарри Маршалл  Сэмюэл Дж.Браун   \n",
       "\n",
       "                      age_restriction  refundable_support  \\\n",
       "3902  «16+» - для детей старше 16 лет                 NaN   \n",
       "\n",
       "      nonrefundable_support  budget financing_source  ratings  \\\n",
       "3902                    NaN     NaN              NaN     6.70   \n",
       "\n",
       "                 genres  box_office  \n",
       "3902  мелодрама,комедия         NaN  "
      ]
     },
     "execution_count": 19,
     "metadata": {},
     "output_type": "execute_result"
    }
   ],
   "source": [
    "data[data['title'] == 'День святого Валентина_']"
   ]
  },
  {
   "cell_type": "code",
   "execution_count": 20,
   "metadata": {
    "scrolled": true,
    "pycharm": {
     "name": "#%%\n"
    }
   },
   "outputs": [
    {
     "data": {
      "text/html": [
       "<div>\n",
       "<style scoped>\n",
       "    .dataframe tbody tr th:only-of-type {\n",
       "        vertical-align: middle;\n",
       "    }\n",
       "\n",
       "    .dataframe tbody tr th {\n",
       "        vertical-align: top;\n",
       "    }\n",
       "\n",
       "    .dataframe thead th {\n",
       "        text-align: right;\n",
       "    }\n",
       "</style>\n",
       "<table border=\"1\" class=\"dataframe\">\n",
       "  <thead>\n",
       "    <tr style=\"text-align: right;\">\n",
       "      <th></th>\n",
       "      <th>title</th>\n",
       "      <th>puNumber</th>\n",
       "      <th>show_start_date</th>\n",
       "      <th>type</th>\n",
       "      <th>film_studio</th>\n",
       "      <th>production_country</th>\n",
       "      <th>director</th>\n",
       "      <th>producer</th>\n",
       "      <th>age_restriction</th>\n",
       "      <th>refundable_support</th>\n",
       "      <th>nonrefundable_support</th>\n",
       "      <th>budget</th>\n",
       "      <th>financing_source</th>\n",
       "      <th>ratings</th>\n",
       "      <th>genres</th>\n",
       "      <th>box_office</th>\n",
       "    </tr>\n",
       "  </thead>\n",
       "  <tbody>\n",
       "  </tbody>\n",
       "</table>\n",
       "</div>"
      ],
      "text/plain": [
       "Empty DataFrame\n",
       "Columns: [title, puNumber, show_start_date, type, film_studio, production_country, director, producer, age_restriction, refundable_support, nonrefundable_support, budget, financing_source, ratings, genres, box_office]\n",
       "Index: []"
      ]
     },
     "execution_count": 20,
     "metadata": {},
     "output_type": "execute_result"
    }
   ],
   "source": [
    "data[data['puNumber'].duplicated()]"
   ]
  },
  {
   "cell_type": "markdown",
   "metadata": {
    "pycharm": {
     "name": "#%% md\n"
    }
   },
   "source": [
    "Дубликатов в столбце `puNumber` не обнаружено."
   ]
  },
  {
   "cell_type": "markdown",
   "metadata": {
    "id": "52fOPrEBgFyQ",
    "pycharm": {
     "name": "#%% md\n"
    }
   },
   "source": [
    "#### Шаг 2.4. Изучите категориальные значения\n",
    "\n",
    "- Посмотрите, какая общая проблема встречается почти во всех категориальных столбцах;\n",
    "- Исправьте проблемные значения в поле `type`.\n",
    "\n",
    "<div id=\"accordion\">\n",
    "    <div class=\"card\">\n",
    "        <div class=\"card-header\" id=\"headingThree\">\n",
    "            <button class=\"btn btn-link collapsed\" data-toggle=\"collapse\" data-target=\"#collapseHint_1\" aria-expanded=\"false\" aria-controls=\"collapseHint_1\">Подсказка</button>\n",
    "        </div>\n",
    "        <div id=\"collapseHint_1\" class=\"collapse\" aria-labelledby=\"headingThree\" data-parent=\"#accordion\">\n",
    "            <div class=\"card-body\">\n",
    "В поле <code>type</code> есть несколько значений, у которых появился пробел в начале строки. Самый простой способ их «починить» -- использовать метод <a href=\"https://pandas.pydata.org/docs/reference/api/pandas.Series.str.strip.html#pandas.Series.str.strip\">.str.strip</a>. Этот метод удаляет все пробелы, которые встречаются в начале и в конце строки. Применяют его таким образом:<br>\n",
    "<code>df['type'].str.strip()</code>\n",
    "            </div>\n",
    "        </div>\n",
    "    </div>\n",
    "</div>"
   ]
  },
  {
   "cell_type": "code",
   "execution_count": 21,
   "metadata": {
    "pycharm": {
     "name": "#%%\n"
    }
   },
   "outputs": [
    {
     "name": "stdout",
     "output_type": "stream",
     "text": [
      "<class 'pandas.core.frame.DataFrame'>\n",
      "Int64Index: 6784 entries, 0 to 7485\n",
      "Data columns (total 16 columns):\n",
      " #   Column                 Non-Null Count  Dtype              \n",
      "---  ------                 --------------  -----              \n",
      " 0   title                  6784 non-null   object             \n",
      " 1   puNumber               6784 non-null   int64              \n",
      " 2   show_start_date        6784 non-null   datetime64[ns, UTC]\n",
      " 3   type                   6784 non-null   object             \n",
      " 4   film_studio            6784 non-null   object             \n",
      " 5   production_country     6784 non-null   object             \n",
      " 6   director               6784 non-null   object             \n",
      " 7   producer               6229 non-null   object             \n",
      " 8   age_restriction        6784 non-null   object             \n",
      " 9   refundable_support     331 non-null    float64            \n",
      " 10  nonrefundable_support  331 non-null    float64            \n",
      " 11  budget                 331 non-null    float64            \n",
      " 12  financing_source       331 non-null    object             \n",
      " 13  ratings                5843 non-null   float64            \n",
      " 14  genres                 5834 non-null   object             \n",
      " 15  box_office             3024 non-null   float64            \n",
      "dtypes: datetime64[ns, UTC](1), float64(5), int64(1), object(9)\n",
      "memory usage: 901.0+ KB\n"
     ]
    }
   ],
   "source": [
    "data.info()"
   ]
  },
  {
   "cell_type": "markdown",
   "metadata": {
    "id": "PnXKIVdFgFyR",
    "pycharm": {
     "name": "#%% md\n"
    }
   },
   "source": [
    "Категориальные значения присутсвуют в столбцах `type` и `age_restriction`. \n",
    "\n",
    "В теории, к категориальным столбцам также можно отнести `film_studio`, `production_country`, `director`, `producer`, `financing_source` и `genres`, однако разнообразие данных в них не позволяет провести категоризацию. (Например, фильмы могут сниматься в конечном множестве стран. Однако фильмы, снятые в СССР, будут отнесены к одной категории, а фильмы, снятые в СССР и Франции - к другой)"
   ]
  },
  {
   "cell_type": "code",
   "execution_count": 22,
   "metadata": {
    "pycharm": {
     "name": "#%%\n"
    }
   },
   "outputs": [
    {
     "data": {
      "text/plain": [
       "Художественный                3924\n",
       " Художественный               1374\n",
       "Анимационный                   770\n",
       "Прочие                         389\n",
       "Документальный                 276\n",
       "Научно-популярный               49\n",
       "Музыкально-развлекательный       1\n",
       " Анимационный                    1\n",
       "Name: type, dtype: int64"
      ]
     },
     "execution_count": 22,
     "metadata": {},
     "output_type": "execute_result"
    }
   ],
   "source": [
    "data['type'].value_counts()"
   ]
  },
  {
   "cell_type": "code",
   "execution_count": 23,
   "metadata": {
    "pycharm": {
     "name": "#%%\n"
    }
   },
   "outputs": [
    {
     "data": {
      "text/plain": [
       "Россия                                                               1788\n",
       "США                                                                  1782\n",
       "СССР                                                                  345\n",
       "Франция                                                               278\n",
       "Великобритания                                                        237\n",
       "                                                                     ... \n",
       "Австралия-Турция-США                                                    1\n",
       "Ирландия - Финляндия - Бельгия - Великобритания - США - Швейцария       1\n",
       "Великобритания-США-Германия-КНР                                         1\n",
       "Германия - Бельгия - Люксембург - Норвегия                              1\n",
       "США - Япония - Франция - Великобритания                                 1\n",
       "Name: production_country, Length: 950, dtype: int64"
      ]
     },
     "execution_count": 23,
     "metadata": {},
     "output_type": "execute_result"
    }
   ],
   "source": [
    "data['production_country'].value_counts()"
   ]
  },
  {
   "cell_type": "code",
   "execution_count": 24,
   "metadata": {
    "pycharm": {
     "name": "#%%\n"
    }
   },
   "outputs": [
    {
     "data": {
      "text/plain": [
       "«16+» - для детей старше 16 лет           2518\n",
       "«12+» - для детей старше 12 лет           1484\n",
       "«18+» - запрещено для детей               1439\n",
       "«0+» - для любой зрительской аудитории     741\n",
       "«6+» - для детей старше 6 лет              602\n",
       "Name: age_restriction, dtype: int64"
      ]
     },
     "execution_count": 24,
     "metadata": {},
     "output_type": "execute_result"
    }
   ],
   "source": [
    "data['age_restriction'].value_counts()"
   ]
  },
  {
   "cell_type": "markdown",
   "metadata": {
    "pycharm": {
     "name": "#%% md\n"
    }
   },
   "source": [
    "В столбце `type` выявлены дубликаты, связанные с пробелами."
   ]
  },
  {
   "cell_type": "code",
   "execution_count": 25,
   "metadata": {
    "scrolled": true,
    "pycharm": {
     "name": "#%%\n"
    }
   },
   "outputs": [
    {
     "data": {
      "text/plain": [
       "Художественный                5298\n",
       "Анимационный                   771\n",
       "Прочие                         389\n",
       "Документальный                 276\n",
       "Научно-популярный               49\n",
       "Музыкально-развлекательный       1\n",
       "Name: type, dtype: int64"
      ]
     },
     "execution_count": 25,
     "metadata": {},
     "output_type": "execute_result"
    }
   ],
   "source": [
    "data['type'] = data['type'].str.strip()\n",
    "data['type'].value_counts()"
   ]
  },
  {
   "cell_type": "markdown",
   "metadata": {
    "id": "XFSN5lrEgFyR",
    "pycharm": {
     "name": "#%% md\n"
    }
   },
   "source": [
    "#### Шаг 2.5. Проверьте количественные значения\n",
    "\n",
    "- Проверьте, обнаружились ли в таких столбцах подозрительные данные. Как с такими данными лучше поступить?\n",
    "\n",
    "<div id=\"accordion\">\n",
    "    <div class=\"card\">\n",
    "        <div class=\"card-header\" id=\"headingThree\">\n",
    "            <button class=\"btn btn-link collapsed\" data-toggle=\"collapse\" data-target=\"#collapseHint_budget\" aria-expanded=\"false\" aria-controls=\"collapseHint_budget\">Подсказка</button>\n",
    "        </div>\n",
    "        <div id=\"collapseHint_budget\" class=\"collapse\" aria-labelledby=\"headingThree\" data-parent=\"#accordion\">\n",
    "            <div class=\"card-body\">\n",
    "Обратите внимание на описание столбца <code>budget</code>. Как этот столбец соотносится с двумя другими: <code>refundable_support</code> и <code>nonrefundable_support</code>?\n",
    "            </div>\n",
    "        </div>\n",
    "    </div>\n",
    "</div>"
   ]
  },
  {
   "cell_type": "code",
   "execution_count": 26,
   "metadata": {
    "pycharm": {
     "name": "#%%\n"
    }
   },
   "outputs": [
    {
     "name": "stdout",
     "output_type": "stream",
     "text": [
      "<class 'pandas.core.frame.DataFrame'>\n",
      "Int64Index: 6784 entries, 0 to 7485\n",
      "Data columns (total 16 columns):\n",
      " #   Column                 Non-Null Count  Dtype              \n",
      "---  ------                 --------------  -----              \n",
      " 0   title                  6784 non-null   object             \n",
      " 1   puNumber               6784 non-null   int64              \n",
      " 2   show_start_date        6784 non-null   datetime64[ns, UTC]\n",
      " 3   type                   6784 non-null   object             \n",
      " 4   film_studio            6784 non-null   object             \n",
      " 5   production_country     6784 non-null   object             \n",
      " 6   director               6784 non-null   object             \n",
      " 7   producer               6229 non-null   object             \n",
      " 8   age_restriction        6784 non-null   object             \n",
      " 9   refundable_support     331 non-null    float64            \n",
      " 10  nonrefundable_support  331 non-null    float64            \n",
      " 11  budget                 331 non-null    float64            \n",
      " 12  financing_source       331 non-null    object             \n",
      " 13  ratings                5843 non-null   float64            \n",
      " 14  genres                 5834 non-null   object             \n",
      " 15  box_office             3024 non-null   float64            \n",
      "dtypes: datetime64[ns, UTC](1), float64(5), int64(1), object(9)\n",
      "memory usage: 901.0+ KB\n"
     ]
    }
   ],
   "source": [
    "data.info()"
   ]
  },
  {
   "cell_type": "markdown",
   "metadata": {
    "pycharm": {
     "name": "#%% md\n"
    }
   },
   "source": [
    "Количественные значения присутствуют в столбцах `refundable_support`, `nonrefundable_support`, `budget`, `ratings`."
   ]
  },
  {
   "cell_type": "code",
   "execution_count": 27,
   "metadata": {
    "id": "YbzClBxagFyS",
    "scrolled": true,
    "pycharm": {
     "name": "#%%\n"
    }
   },
   "outputs": [
    {
     "data": {
      "text/html": [
       "<div>\n",
       "<style scoped>\n",
       "    .dataframe tbody tr th:only-of-type {\n",
       "        vertical-align: middle;\n",
       "    }\n",
       "\n",
       "    .dataframe tbody tr th {\n",
       "        vertical-align: top;\n",
       "    }\n",
       "\n",
       "    .dataframe thead th {\n",
       "        text-align: right;\n",
       "    }\n",
       "</style>\n",
       "<table border=\"1\" class=\"dataframe\">\n",
       "  <thead>\n",
       "    <tr style=\"text-align: right;\">\n",
       "      <th></th>\n",
       "      <th>refundable_support</th>\n",
       "      <th>nonrefundable_support</th>\n",
       "      <th>budget</th>\n",
       "      <th>ratings</th>\n",
       "    </tr>\n",
       "  </thead>\n",
       "  <tbody>\n",
       "    <tr>\n",
       "      <th>count</th>\n",
       "      <td>331.00</td>\n",
       "      <td>331.00</td>\n",
       "      <td>331.00</td>\n",
       "      <td>5843.00</td>\n",
       "    </tr>\n",
       "    <tr>\n",
       "      <th>mean</th>\n",
       "      <td>11900302.00</td>\n",
       "      <td>49038333.00</td>\n",
       "      <td>127469081.00</td>\n",
       "      <td>6.00</td>\n",
       "    </tr>\n",
       "    <tr>\n",
       "      <th>std</th>\n",
       "      <td>24945705.00</td>\n",
       "      <td>60061813.00</td>\n",
       "      <td>188823341.00</td>\n",
       "      <td>1.00</td>\n",
       "    </tr>\n",
       "    <tr>\n",
       "      <th>min</th>\n",
       "      <td>0.00</td>\n",
       "      <td>0.00</td>\n",
       "      <td>0.00</td>\n",
       "      <td>1.00</td>\n",
       "    </tr>\n",
       "    <tr>\n",
       "      <th>25%</th>\n",
       "      <td>0.00</td>\n",
       "      <td>25000000.00</td>\n",
       "      <td>42000000.00</td>\n",
       "      <td>6.00</td>\n",
       "    </tr>\n",
       "    <tr>\n",
       "      <th>50%</th>\n",
       "      <td>0.00</td>\n",
       "      <td>30000000.00</td>\n",
       "      <td>68809226.00</td>\n",
       "      <td>7.00</td>\n",
       "    </tr>\n",
       "    <tr>\n",
       "      <th>75%</th>\n",
       "      <td>15000000.00</td>\n",
       "      <td>40750000.00</td>\n",
       "      <td>143945639.00</td>\n",
       "      <td>7.00</td>\n",
       "    </tr>\n",
       "    <tr>\n",
       "      <th>max</th>\n",
       "      <td>180000000.00</td>\n",
       "      <td>400000000.00</td>\n",
       "      <td>2305074303.00</td>\n",
       "      <td>10.00</td>\n",
       "    </tr>\n",
       "  </tbody>\n",
       "</table>\n",
       "</div>"
      ],
      "text/plain": [
       "       refundable_support  nonrefundable_support        budget  ratings\n",
       "count              331.00                 331.00        331.00  5843.00\n",
       "mean          11900302.00            49038333.00  127469081.00     6.00\n",
       "std           24945705.00            60061813.00  188823341.00     1.00\n",
       "min                  0.00                   0.00          0.00     1.00\n",
       "25%                  0.00            25000000.00   42000000.00     6.00\n",
       "50%                  0.00            30000000.00   68809226.00     7.00\n",
       "75%           15000000.00            40750000.00  143945639.00     7.00\n",
       "max          180000000.00           400000000.00 2305074303.00    10.00"
      ]
     },
     "execution_count": 27,
     "metadata": {},
     "output_type": "execute_result"
    }
   ],
   "source": [
    "data[['refundable_support', 'nonrefundable_support', 'budget', 'ratings']].describe().round()"
   ]
  },
  {
   "cell_type": "markdown",
   "metadata": {
    "pycharm": {
     "name": "#%% md\n"
    }
   },
   "source": [
    "Бюджет фильма вряд ли может быть равен нулю."
   ]
  },
  {
   "cell_type": "code",
   "execution_count": 28,
   "metadata": {
    "pycharm": {
     "name": "#%%\n"
    }
   },
   "outputs": [
    {
     "data": {
      "text/html": [
       "<div>\n",
       "<style scoped>\n",
       "    .dataframe tbody tr th:only-of-type {\n",
       "        vertical-align: middle;\n",
       "    }\n",
       "\n",
       "    .dataframe tbody tr th {\n",
       "        vertical-align: top;\n",
       "    }\n",
       "\n",
       "    .dataframe thead th {\n",
       "        text-align: right;\n",
       "    }\n",
       "</style>\n",
       "<table border=\"1\" class=\"dataframe\">\n",
       "  <thead>\n",
       "    <tr style=\"text-align: right;\">\n",
       "      <th></th>\n",
       "      <th>title</th>\n",
       "      <th>puNumber</th>\n",
       "      <th>show_start_date</th>\n",
       "      <th>type</th>\n",
       "      <th>film_studio</th>\n",
       "      <th>production_country</th>\n",
       "      <th>director</th>\n",
       "      <th>producer</th>\n",
       "      <th>age_restriction</th>\n",
       "      <th>refundable_support</th>\n",
       "      <th>nonrefundable_support</th>\n",
       "      <th>budget</th>\n",
       "      <th>financing_source</th>\n",
       "      <th>ratings</th>\n",
       "      <th>genres</th>\n",
       "      <th>box_office</th>\n",
       "    </tr>\n",
       "  </thead>\n",
       "  <tbody>\n",
       "    <tr>\n",
       "      <th>2053</th>\n",
       "      <td>14+</td>\n",
       "      <td>111023614</td>\n",
       "      <td>2014-12-19 12:00:00+00:00</td>\n",
       "      <td>Художественный</td>\n",
       "      <td>ООО Киностудия  \"Сентябрь\"</td>\n",
       "      <td>Россия</td>\n",
       "      <td>А.Зайцев</td>\n",
       "      <td>О.Гранина, А.Зайцев</td>\n",
       "      <td>«16+» - для детей старше 16 лет</td>\n",
       "      <td>0.00</td>\n",
       "      <td>23000000.00</td>\n",
       "      <td>0.00</td>\n",
       "      <td>Министерство культуры, Фонд кино</td>\n",
       "      <td>6.60</td>\n",
       "      <td>мелодрама</td>\n",
       "      <td>10234016.10</td>\n",
       "    </tr>\n",
       "    <tr>\n",
       "      <th>2058</th>\n",
       "      <td>Дуxless 2</td>\n",
       "      <td>111000415</td>\n",
       "      <td>2015-01-26 12:00:00+00:00</td>\n",
       "      <td>Художественный</td>\n",
       "      <td>ООО \"Киностудия \"Слово\", ООО \"Арт Пикчерс Студия\"</td>\n",
       "      <td>Россия</td>\n",
       "      <td>Р.Прыгунов</td>\n",
       "      <td>П.Ануров, Ф.Бондарчук, Д.Рудовский</td>\n",
       "      <td>«16+» - для детей старше 16 лет</td>\n",
       "      <td>0.00</td>\n",
       "      <td>75000000.00</td>\n",
       "      <td>0.00</td>\n",
       "      <td>Фонд кино</td>\n",
       "      <td>6.60</td>\n",
       "      <td>драма</td>\n",
       "      <td>446163511.00</td>\n",
       "    </tr>\n",
       "    <tr>\n",
       "      <th>2472</th>\n",
       "      <td>Воин (2015)</td>\n",
       "      <td>111017315</td>\n",
       "      <td>2015-09-28 12:00:00+00:00</td>\n",
       "      <td>Художественный</td>\n",
       "      <td>ООО \"Форпост Продакшн\", ООО \"Арт Пикчерс Студия\"</td>\n",
       "      <td>Россия</td>\n",
       "      <td>А.Андрианов</td>\n",
       "      <td>ООО \"Арт Пикчерс Студия\"</td>\n",
       "      <td>«12+» - для детей старше 12 лет</td>\n",
       "      <td>10000000.00</td>\n",
       "      <td>70000000.00</td>\n",
       "      <td>0.00</td>\n",
       "      <td>Фонд кино</td>\n",
       "      <td>7.80</td>\n",
       "      <td>боевик,драма,криминал</td>\n",
       "      <td>196572438.40</td>\n",
       "    </tr>\n",
       "    <tr>\n",
       "      <th>2532</th>\n",
       "      <td>Бармен.</td>\n",
       "      <td>111009615</td>\n",
       "      <td>2015-05-26 12:00:00+00:00</td>\n",
       "      <td>Художественный</td>\n",
       "      <td>АО \"ВайТ Медиа\", ООО \"Арт Пикчерс Студия\"</td>\n",
       "      <td>Россия</td>\n",
       "      <td>Д.Штурманова</td>\n",
       "      <td>Т.Вайнштейн</td>\n",
       "      <td>«16+» - для детей старше 16 лет</td>\n",
       "      <td>20000000.00</td>\n",
       "      <td>0.00</td>\n",
       "      <td>0.00</td>\n",
       "      <td>Фонд кино</td>\n",
       "      <td>6.20</td>\n",
       "      <td>комедия,фэнтези</td>\n",
       "      <td>67418974.80</td>\n",
       "    </tr>\n",
       "    <tr>\n",
       "      <th>2615</th>\n",
       "      <td>Савва. Сердце воина</td>\n",
       "      <td>114001715</td>\n",
       "      <td>2015-07-21 12:00:00+00:00</td>\n",
       "      <td>Анимационный</td>\n",
       "      <td>ООО \"Глюкоза Продакшн\", ООО \"Арт Пикчерс Студия\"</td>\n",
       "      <td>Россия</td>\n",
       "      <td>М.Фадеев</td>\n",
       "      <td>А.Чистяков</td>\n",
       "      <td>«6+» - для детей старше 6 лет</td>\n",
       "      <td>60000000.00</td>\n",
       "      <td>100000000.00</td>\n",
       "      <td>0.00</td>\n",
       "      <td>Фонд кино</td>\n",
       "      <td>4.60</td>\n",
       "      <td>мультфильм,приключения,фэнтези</td>\n",
       "      <td>184487551.40</td>\n",
       "    </tr>\n",
       "  </tbody>\n",
       "</table>\n",
       "</div>"
      ],
      "text/plain": [
       "                    title   puNumber           show_start_date  \\\n",
       "2053                  14+  111023614 2014-12-19 12:00:00+00:00   \n",
       "2058            Дуxless 2  111000415 2015-01-26 12:00:00+00:00   \n",
       "2472          Воин (2015)  111017315 2015-09-28 12:00:00+00:00   \n",
       "2532              Бармен.  111009615 2015-05-26 12:00:00+00:00   \n",
       "2615  Савва. Сердце воина  114001715 2015-07-21 12:00:00+00:00   \n",
       "\n",
       "                type                                        film_studio  \\\n",
       "2053  Художественный                         ООО Киностудия  \"Сентябрь\"   \n",
       "2058  Художественный  ООО \"Киностудия \"Слово\", ООО \"Арт Пикчерс Студия\"   \n",
       "2472  Художественный   ООО \"Форпост Продакшн\", ООО \"Арт Пикчерс Студия\"   \n",
       "2532  Художественный          АО \"ВайТ Медиа\", ООО \"Арт Пикчерс Студия\"   \n",
       "2615    Анимационный   ООО \"Глюкоза Продакшн\", ООО \"Арт Пикчерс Студия\"   \n",
       "\n",
       "     production_country      director                            producer  \\\n",
       "2053             Россия      А.Зайцев                 О.Гранина, А.Зайцев   \n",
       "2058             Россия    Р.Прыгунов  П.Ануров, Ф.Бондарчук, Д.Рудовский   \n",
       "2472             Россия   А.Андрианов            ООО \"Арт Пикчерс Студия\"   \n",
       "2532             Россия  Д.Штурманова                         Т.Вайнштейн   \n",
       "2615             Россия      М.Фадеев                          А.Чистяков   \n",
       "\n",
       "                      age_restriction  refundable_support  \\\n",
       "2053  «16+» - для детей старше 16 лет                0.00   \n",
       "2058  «16+» - для детей старше 16 лет                0.00   \n",
       "2472  «12+» - для детей старше 12 лет         10000000.00   \n",
       "2532  «16+» - для детей старше 16 лет         20000000.00   \n",
       "2615    «6+» - для детей старше 6 лет         60000000.00   \n",
       "\n",
       "      nonrefundable_support  budget                  financing_source  \\\n",
       "2053            23000000.00    0.00  Министерство культуры, Фонд кино   \n",
       "2058            75000000.00    0.00                         Фонд кино   \n",
       "2472            70000000.00    0.00                         Фонд кино   \n",
       "2532                   0.00    0.00                         Фонд кино   \n",
       "2615           100000000.00    0.00                         Фонд кино   \n",
       "\n",
       "      ratings                          genres   box_office  \n",
       "2053     6.60                       мелодрама  10234016.10  \n",
       "2058     6.60                           драма 446163511.00  \n",
       "2472     7.80           боевик,драма,криминал 196572438.40  \n",
       "2532     6.20                 комедия,фэнтези  67418974.80  \n",
       "2615     4.60  мультфильм,приключения,фэнтези 184487551.40  "
      ]
     },
     "execution_count": 28,
     "metadata": {},
     "output_type": "execute_result"
    }
   ],
   "source": [
    "data[data['budget'] == 0].head()"
   ]
  },
  {
   "cell_type": "markdown",
   "metadata": {
    "pycharm": {
     "name": "#%% md\n"
    }
   },
   "source": [
    "Несмотря на то, что бюджет фильма равен нулю, для него указана стоимость возвратных и невозвратных средств. Поэтому в фильмах с нулевым бюджетом можно заполнить пропуски с помощью суммирования двух источников."
   ]
  },
  {
   "cell_type": "code",
   "execution_count": 29,
   "metadata": {
    "pycharm": {
     "name": "#%%\n"
    }
   },
   "outputs": [],
   "source": [
    "data.loc[data['budget'] == 0, 'budget'] = data.loc[data['budget'] == 0, 'refundable_support'] + data.loc[data['budget'] == 0, 'nonrefundable_support']"
   ]
  },
  {
   "cell_type": "markdown",
   "metadata": {
    "pycharm": {
     "name": "#%% md\n"
    }
   },
   "source": [
    "Рассмотрим распределение данных в столбцах с количественными значениями:"
   ]
  },
  {
   "cell_type": "code",
   "execution_count": 30,
   "metadata": {
    "pycharm": {
     "name": "#%%\n"
    }
   },
   "outputs": [
    {
     "data": {
      "text/html": [
       "<div>\n",
       "<style scoped>\n",
       "    .dataframe tbody tr th:only-of-type {\n",
       "        vertical-align: middle;\n",
       "    }\n",
       "\n",
       "    .dataframe tbody tr th {\n",
       "        vertical-align: top;\n",
       "    }\n",
       "\n",
       "    .dataframe thead th {\n",
       "        text-align: right;\n",
       "    }\n",
       "</style>\n",
       "<table border=\"1\" class=\"dataframe\">\n",
       "  <thead>\n",
       "    <tr style=\"text-align: right;\">\n",
       "      <th></th>\n",
       "      <th>refundable_support</th>\n",
       "      <th>nonrefundable_support</th>\n",
       "      <th>budget</th>\n",
       "      <th>ratings</th>\n",
       "      <th>box_office</th>\n",
       "    </tr>\n",
       "  </thead>\n",
       "  <tbody>\n",
       "    <tr>\n",
       "      <th>count</th>\n",
       "      <td>331.00</td>\n",
       "      <td>331.00</td>\n",
       "      <td>331.00</td>\n",
       "      <td>5843.00</td>\n",
       "      <td>3024.00</td>\n",
       "    </tr>\n",
       "    <tr>\n",
       "      <th>mean</th>\n",
       "      <td>11900302.00</td>\n",
       "      <td>49038333.00</td>\n",
       "      <td>131674427.00</td>\n",
       "      <td>6.00</td>\n",
       "      <td>75467542.00</td>\n",
       "    </tr>\n",
       "    <tr>\n",
       "      <th>std</th>\n",
       "      <td>24945705.00</td>\n",
       "      <td>60061813.00</td>\n",
       "      <td>187375150.00</td>\n",
       "      <td>1.00</td>\n",
       "      <td>237450465.00</td>\n",
       "    </tr>\n",
       "    <tr>\n",
       "      <th>min</th>\n",
       "      <td>0.00</td>\n",
       "      <td>0.00</td>\n",
       "      <td>6000000.00</td>\n",
       "      <td>1.00</td>\n",
       "      <td>0.00</td>\n",
       "    </tr>\n",
       "    <tr>\n",
       "      <th>25%</th>\n",
       "      <td>0.00</td>\n",
       "      <td>25000000.00</td>\n",
       "      <td>45510944.00</td>\n",
       "      <td>6.00</td>\n",
       "      <td>121933.00</td>\n",
       "    </tr>\n",
       "    <tr>\n",
       "      <th>50%</th>\n",
       "      <td>0.00</td>\n",
       "      <td>30000000.00</td>\n",
       "      <td>71517631.00</td>\n",
       "      <td>7.00</td>\n",
       "      <td>2429184.00</td>\n",
       "    </tr>\n",
       "    <tr>\n",
       "      <th>75%</th>\n",
       "      <td>15000000.00</td>\n",
       "      <td>40750000.00</td>\n",
       "      <td>150000000.00</td>\n",
       "      <td>7.00</td>\n",
       "      <td>23641347.00</td>\n",
       "    </tr>\n",
       "    <tr>\n",
       "      <th>max</th>\n",
       "      <td>180000000.00</td>\n",
       "      <td>400000000.00</td>\n",
       "      <td>2305074303.00</td>\n",
       "      <td>10.00</td>\n",
       "      <td>3073568691.00</td>\n",
       "    </tr>\n",
       "  </tbody>\n",
       "</table>\n",
       "</div>"
      ],
      "text/plain": [
       "       refundable_support  nonrefundable_support        budget  ratings  \\\n",
       "count              331.00                 331.00        331.00  5843.00   \n",
       "mean          11900302.00            49038333.00  131674427.00     6.00   \n",
       "std           24945705.00            60061813.00  187375150.00     1.00   \n",
       "min                  0.00                   0.00    6000000.00     1.00   \n",
       "25%                  0.00            25000000.00   45510944.00     6.00   \n",
       "50%                  0.00            30000000.00   71517631.00     7.00   \n",
       "75%           15000000.00            40750000.00  150000000.00     7.00   \n",
       "max          180000000.00           400000000.00 2305074303.00    10.00   \n",
       "\n",
       "         box_office  \n",
       "count       3024.00  \n",
       "mean    75467542.00  \n",
       "std    237450465.00  \n",
       "min            0.00  \n",
       "25%       121933.00  \n",
       "50%      2429184.00  \n",
       "75%     23641347.00  \n",
       "max   3073568691.00  "
      ]
     },
     "execution_count": 30,
     "metadata": {},
     "output_type": "execute_result"
    }
   ],
   "source": [
    "pd.options.display.float_format = '{:.2f}'.format\n",
    "data[['refundable_support', 'nonrefundable_support', 'budget', 'ratings', 'box_office']].describe().round()"
   ]
  },
  {
   "cell_type": "markdown",
   "metadata": {
    "pycharm": {
     "name": "#%% md\n"
    }
   },
   "source": [
    "На диаграммах видно, что большая их часть смещена влево. Это означает, что в данных присутствует существенное количество выбросов, из-за чего диаграммы имеют большой \"хвост\"."
   ]
  },
  {
   "cell_type": "code",
   "execution_count": 31,
   "metadata": {
    "scrolled": true,
    "pycharm": {
     "name": "#%%\n"
    }
   },
   "outputs": [
    {
     "data": {
      "text/plain": [
       "<AxesSubplot:>"
      ]
     },
     "execution_count": 31,
     "metadata": {},
     "output_type": "execute_result"
    },
    {
     "data": {
      "image/png": "[encoded data removed]",
      "text/plain": [
       "<Figure size 432x288 with 1 Axes>"
      ]
     },
     "metadata": {
      "needs_background": "light"
     },
     "output_type": "display_data"
    }
   ],
   "source": [
    "data['box_office'].hist(bins=10, range=(0, 100000))"
   ]
  },
  {
   "cell_type": "markdown",
   "metadata": {
    "pycharm": {
     "name": "#%% md\n"
    }
   },
   "source": [
    "Большое количество фильмов имеют кассовые сборы менее 20000 рублей. Вероятно, в этих данных присутсвует ошибка. Однако попытка удалить эти фильмы пожет привести к потере большого количества информации. Напомню, в столбце `box_office` заполнено только 3024 строки, а удалить нужно примерно 560 (18,51%)."
   ]
  },
  {
   "cell_type": "code",
   "execution_count": 32,
   "metadata": {
    "pycharm": {
     "name": "#%%\n"
    }
   },
   "outputs": [
    {
     "data": {
      "text/plain": [
       "<AxesSubplot:>"
      ]
     },
     "execution_count": 32,
     "metadata": {},
     "output_type": "execute_result"
    },
    {
     "data": {
      "image/png": "[encoded data removed]",
      "text/plain": [
       "<Figure size 432x288 with 1 Axes>"
      ]
     },
     "metadata": {
      "needs_background": "light"
     },
     "output_type": "display_data"
    }
   ],
   "source": [
    "data['refundable_support'].hist(bins=11, range=(10000000, 120000000))"
   ]
  },
  {
   "cell_type": "markdown",
   "metadata": {
    "pycharm": {
     "name": "#%% md\n"
    }
   },
   "source": [
    "Также можно видеть, что в данных возвратной после 95 000 000 рублей наблюдается \"всплеск\". "
   ]
  },
  {
   "cell_type": "code",
   "execution_count": 33,
   "metadata": {
    "pycharm": {
     "name": "#%%\n"
    }
   },
   "outputs": [
    {
     "data": {
      "text/html": [
       "<div>\n",
       "<style scoped>\n",
       "    .dataframe tbody tr th:only-of-type {\n",
       "        vertical-align: middle;\n",
       "    }\n",
       "\n",
       "    .dataframe tbody tr th {\n",
       "        vertical-align: top;\n",
       "    }\n",
       "\n",
       "    .dataframe thead th {\n",
       "        text-align: right;\n",
       "    }\n",
       "</style>\n",
       "<table border=\"1\" class=\"dataframe\">\n",
       "  <thead>\n",
       "    <tr style=\"text-align: right;\">\n",
       "      <th></th>\n",
       "      <th>title</th>\n",
       "      <th>puNumber</th>\n",
       "      <th>show_start_date</th>\n",
       "      <th>type</th>\n",
       "      <th>film_studio</th>\n",
       "      <th>production_country</th>\n",
       "      <th>director</th>\n",
       "      <th>producer</th>\n",
       "      <th>age_restriction</th>\n",
       "      <th>refundable_support</th>\n",
       "      <th>nonrefundable_support</th>\n",
       "      <th>budget</th>\n",
       "      <th>financing_source</th>\n",
       "      <th>ratings</th>\n",
       "      <th>genres</th>\n",
       "      <th>box_office</th>\n",
       "    </tr>\n",
       "  </thead>\n",
       "  <tbody>\n",
       "    <tr>\n",
       "      <th>3164</th>\n",
       "      <td>Герой (2015)</td>\n",
       "      <td>111000416</td>\n",
       "      <td>2016-01-22 12:00:00+00:00</td>\n",
       "      <td>Художественный</td>\n",
       "      <td>ООО \"Студия 25\", ООО \"Медиа Арт Студио\", ООО ...</td>\n",
       "      <td>Россия</td>\n",
       "      <td>Ю.Васильев</td>\n",
       "      <td>Э.Айнулова, Н.Дорошкевич, М.Журомская</td>\n",
       "      <td>«12+» - для детей старше 12 лет</td>\n",
       "      <td>110000000.00</td>\n",
       "      <td>30000000.00</td>\n",
       "      <td>222177790.00</td>\n",
       "      <td>Министерство культуры, Фонд кино</td>\n",
       "      <td>7.10</td>\n",
       "      <td>мюзикл,боевик,драма</td>\n",
       "      <td>81430626.82</td>\n",
       "    </tr>\n",
       "    <tr>\n",
       "      <th>3351</th>\n",
       "      <td>Дуэлянт</td>\n",
       "      <td>111015416</td>\n",
       "      <td>2016-09-14 12:00:00+00:00</td>\n",
       "      <td>Художественный</td>\n",
       "      <td>ООО \"Нон-Стоп Продакшн\"</td>\n",
       "      <td>Россия</td>\n",
       "      <td>А.Мизгирев</td>\n",
       "      <td>А.Роднянский, С.Мелькумов</td>\n",
       "      <td>«16+» - для детей старше 16 лет</td>\n",
       "      <td>150000000.00</td>\n",
       "      <td>300000000.00</td>\n",
       "      <td>684200536.00</td>\n",
       "      <td>Фонд кино</td>\n",
       "      <td>6.60</td>\n",
       "      <td>драма</td>\n",
       "      <td>364285139.60</td>\n",
       "    </tr>\n",
       "    <tr>\n",
       "      <th>3453</th>\n",
       "      <td>Ледокол</td>\n",
       "      <td>111016316</td>\n",
       "      <td>2016-10-11 12:00:00+00:00</td>\n",
       "      <td>Художественный</td>\n",
       "      <td>ООО \"Продюсерская фирма Игоря Толстунова\"</td>\n",
       "      <td>Россия</td>\n",
       "      <td>Н.Хомерики</td>\n",
       "      <td>И.Толстунов, С.Козлов</td>\n",
       "      <td>«12+» - для детей старше 12 лет</td>\n",
       "      <td>100000000.00</td>\n",
       "      <td>200000000.00</td>\n",
       "      <td>430000000.00</td>\n",
       "      <td>Фонд кино</td>\n",
       "      <td>6.50</td>\n",
       "      <td>драма</td>\n",
       "      <td>337069662.80</td>\n",
       "    </tr>\n",
       "    <tr>\n",
       "      <th>5437</th>\n",
       "      <td>Матильда</td>\n",
       "      <td>111005717</td>\n",
       "      <td>2017-08-17 12:00:00+00:00</td>\n",
       "      <td>Художественный</td>\n",
       "      <td>ООО \"ТПО \"РОК\", ООО \"Матильда\"</td>\n",
       "      <td>Россия</td>\n",
       "      <td>А.Учитель</td>\n",
       "      <td>А.Учитель, А.Достман, В.Винокур</td>\n",
       "      <td>«16+» - для детей старше 16 лет</td>\n",
       "      <td>110000000.00</td>\n",
       "      <td>190000000.00</td>\n",
       "      <td>1032905957.00</td>\n",
       "      <td>Фонд кино</td>\n",
       "      <td>7.70</td>\n",
       "      <td>фэнтези,комедия,семейный</td>\n",
       "      <td>511775548.00</td>\n",
       "    </tr>\n",
       "    <tr>\n",
       "      <th>5569</th>\n",
       "      <td>Легенда о Коловрате</td>\n",
       "      <td>111007617</td>\n",
       "      <td>2017-11-30 12:00:00+00:00</td>\n",
       "      <td>Художественный</td>\n",
       "      <td>ООО \"Продюсерский центр ИВАН\"</td>\n",
       "      <td>Россия</td>\n",
       "      <td>И.Шурховецкий</td>\n",
       "      <td>ООО \"Централ Партнершип\",              АО \"Тел...</td>\n",
       "      <td>«12+» - для детей старше 12 лет</td>\n",
       "      <td>100000000.00</td>\n",
       "      <td>250000000.00</td>\n",
       "      <td>500012729.00</td>\n",
       "      <td>Фонд кино</td>\n",
       "      <td>6.40</td>\n",
       "      <td>история,боевик,фэнтези</td>\n",
       "      <td>590405065.00</td>\n",
       "    </tr>\n",
       "    <tr>\n",
       "      <th>6472</th>\n",
       "      <td>Три богатыря и наследница престола</td>\n",
       "      <td>114008818</td>\n",
       "      <td>2018-12-15 12:00:00+00:00</td>\n",
       "      <td>Анимационный</td>\n",
       "      <td>ООО \"Студия анимационного кино \"Мельница\"</td>\n",
       "      <td>Россия</td>\n",
       "      <td>К.Бронзит</td>\n",
       "      <td>С.Сельянов, А.Боярский</td>\n",
       "      <td>«6+» - для детей старше 6 лет</td>\n",
       "      <td>115000000.00</td>\n",
       "      <td>0.00</td>\n",
       "      <td>185500705.00</td>\n",
       "      <td>Фонд кино</td>\n",
       "      <td>6.50</td>\n",
       "      <td>мультфильм,приключения,семейный</td>\n",
       "      <td>577368853.25</td>\n",
       "    </tr>\n",
       "    <tr>\n",
       "      <th>7114</th>\n",
       "      <td>Тайна Печати Дракона</td>\n",
       "      <td>111012819</td>\n",
       "      <td>2019-09-12 12:00:00+00:00</td>\n",
       "      <td>Художественный</td>\n",
       "      <td>ООО \"Кинокомпания \"СТВ\"; ООО \"РФГ Корп\"; ООО \"...</td>\n",
       "      <td>Россия-Китай</td>\n",
       "      <td>О.Степченко</td>\n",
       "      <td>С.Сельянов, А.Петрухин</td>\n",
       "      <td>«6+» - для детей старше 6 лет</td>\n",
       "      <td>180000000.00</td>\n",
       "      <td>90000000.00</td>\n",
       "      <td>2305074303.00</td>\n",
       "      <td>Фонд кино</td>\n",
       "      <td>5.80</td>\n",
       "      <td>приключения,фэнтези</td>\n",
       "      <td>333597059.59</td>\n",
       "    </tr>\n",
       "    <tr>\n",
       "      <th>7464</th>\n",
       "      <td>Союз спасения</td>\n",
       "      <td>111022019</td>\n",
       "      <td>2019-12-26 12:00:00+00:00</td>\n",
       "      <td>Художественный</td>\n",
       "      <td>ЗАО \"Дирекция кино\"</td>\n",
       "      <td>Россия</td>\n",
       "      <td>А.Кравчук</td>\n",
       "      <td>А.Максимов, К.Эрнст</td>\n",
       "      <td>«12+» - для детей старше 12 лет</td>\n",
       "      <td>100000000.00</td>\n",
       "      <td>400000000.00</td>\n",
       "      <td>980000000.00</td>\n",
       "      <td>Фонд кино</td>\n",
       "      <td>6.00</td>\n",
       "      <td>история,биография,драма</td>\n",
       "      <td>717703185.53</td>\n",
       "    </tr>\n",
       "    <tr>\n",
       "      <th>7466</th>\n",
       "      <td>Иван Царевич и Серый Волк 4</td>\n",
       "      <td>114005019</td>\n",
       "      <td>2019-12-20 12:00:00+00:00</td>\n",
       "      <td>Анимационный</td>\n",
       "      <td>ООО \"Студия анимационного кино \"Мельница\"</td>\n",
       "      <td>Россия</td>\n",
       "      <td>Д.Шмидт, К.Феоктистов</td>\n",
       "      <td>С.Сельянов, А.Боярский</td>\n",
       "      <td>«6+» - для детей старше 6 лет</td>\n",
       "      <td>100000000.00</td>\n",
       "      <td>0.00</td>\n",
       "      <td>190000000.00</td>\n",
       "      <td>Фонд кино</td>\n",
       "      <td>6.70</td>\n",
       "      <td>мультфильм,приключения,семейный</td>\n",
       "      <td>501069235.00</td>\n",
       "    </tr>\n",
       "    <tr>\n",
       "      <th>7474</th>\n",
       "      <td>Вторжение</td>\n",
       "      <td>111022519</td>\n",
       "      <td>2019-12-23 12:00:00+00:00</td>\n",
       "      <td>Художественный</td>\n",
       "      <td>ООО \"Арт Пикчерс Студия\", ООО \"Водород 2011\"</td>\n",
       "      <td>Россия</td>\n",
       "      <td>Ф.Бондарчук</td>\n",
       "      <td>Ф.Бондарчук, М.Врубель, А.Андрющенко, Д.Рудовский</td>\n",
       "      <td>«12+» - для детей старше 12 лет</td>\n",
       "      <td>100000000.00</td>\n",
       "      <td>400000000.00</td>\n",
       "      <td>944000000.00</td>\n",
       "      <td>Фонд кино</td>\n",
       "      <td>5.70</td>\n",
       "      <td>фантастика,боевик</td>\n",
       "      <td>NaN</td>\n",
       "    </tr>\n",
       "  </tbody>\n",
       "</table>\n",
       "</div>"
      ],
      "text/plain": [
       "                                   title   puNumber           show_start_date  \\\n",
       "3164                        Герой (2015)  111000416 2016-01-22 12:00:00+00:00   \n",
       "3351                             Дуэлянт  111015416 2016-09-14 12:00:00+00:00   \n",
       "3453                             Ледокол  111016316 2016-10-11 12:00:00+00:00   \n",
       "5437                            Матильда  111005717 2017-08-17 12:00:00+00:00   \n",
       "5569                 Легенда о Коловрате  111007617 2017-11-30 12:00:00+00:00   \n",
       "6472  Три богатыря и наследница престола  114008818 2018-12-15 12:00:00+00:00   \n",
       "7114                Тайна Печати Дракона  111012819 2019-09-12 12:00:00+00:00   \n",
       "7464                       Союз спасения  111022019 2019-12-26 12:00:00+00:00   \n",
       "7466         Иван Царевич и Серый Волк 4  114005019 2019-12-20 12:00:00+00:00   \n",
       "7474                           Вторжение  111022519 2019-12-23 12:00:00+00:00   \n",
       "\n",
       "                type                                        film_studio  \\\n",
       "3164  Художественный   ООО \"Студия 25\", ООО \"Медиа Арт Студио\", ООО ...   \n",
       "3351  Художественный                            ООО \"Нон-Стоп Продакшн\"   \n",
       "3453  Художественный          ООО \"Продюсерская фирма Игоря Толстунова\"   \n",
       "5437  Художественный                     ООО \"ТПО \"РОК\", ООО \"Матильда\"   \n",
       "5569  Художественный                      ООО \"Продюсерский центр ИВАН\"   \n",
       "6472    Анимационный          ООО \"Студия анимационного кино \"Мельница\"   \n",
       "7114  Художественный  ООО \"Кинокомпания \"СТВ\"; ООО \"РФГ Корп\"; ООО \"...   \n",
       "7464  Художественный                                ЗАО \"Дирекция кино\"   \n",
       "7466    Анимационный          ООО \"Студия анимационного кино \"Мельница\"   \n",
       "7474  Художественный       ООО \"Арт Пикчерс Студия\", ООО \"Водород 2011\"   \n",
       "\n",
       "     production_country               director  \\\n",
       "3164             Россия             Ю.Васильев   \n",
       "3351             Россия             А.Мизгирев   \n",
       "3453             Россия             Н.Хомерики   \n",
       "5437             Россия              А.Учитель   \n",
       "5569             Россия          И.Шурховецкий   \n",
       "6472             Россия              К.Бронзит   \n",
       "7114       Россия-Китай            О.Степченко   \n",
       "7464             Россия              А.Кравчук   \n",
       "7466             Россия  Д.Шмидт, К.Феоктистов   \n",
       "7474             Россия            Ф.Бондарчук   \n",
       "\n",
       "                                               producer  \\\n",
       "3164              Э.Айнулова, Н.Дорошкевич, М.Журомская   \n",
       "3351                          А.Роднянский, С.Мелькумов   \n",
       "3453                              И.Толстунов, С.Козлов   \n",
       "5437                    А.Учитель, А.Достман, В.Винокур   \n",
       "5569  ООО \"Централ Партнершип\",              АО \"Тел...   \n",
       "6472                             С.Сельянов, А.Боярский   \n",
       "7114                             С.Сельянов, А.Петрухин   \n",
       "7464                                А.Максимов, К.Эрнст   \n",
       "7466                             С.Сельянов, А.Боярский   \n",
       "7474  Ф.Бондарчук, М.Врубель, А.Андрющенко, Д.Рудовский   \n",
       "\n",
       "                      age_restriction  refundable_support  \\\n",
       "3164  «12+» - для детей старше 12 лет        110000000.00   \n",
       "3351  «16+» - для детей старше 16 лет        150000000.00   \n",
       "3453  «12+» - для детей старше 12 лет        100000000.00   \n",
       "5437  «16+» - для детей старше 16 лет        110000000.00   \n",
       "5569  «12+» - для детей старше 12 лет        100000000.00   \n",
       "6472    «6+» - для детей старше 6 лет        115000000.00   \n",
       "7114    «6+» - для детей старше 6 лет        180000000.00   \n",
       "7464  «12+» - для детей старше 12 лет        100000000.00   \n",
       "7466    «6+» - для детей старше 6 лет        100000000.00   \n",
       "7474  «12+» - для детей старше 12 лет        100000000.00   \n",
       "\n",
       "      nonrefundable_support        budget                  financing_source  \\\n",
       "3164            30000000.00  222177790.00  Министерство культуры, Фонд кино   \n",
       "3351           300000000.00  684200536.00                         Фонд кино   \n",
       "3453           200000000.00  430000000.00                         Фонд кино   \n",
       "5437           190000000.00 1032905957.00                         Фонд кино   \n",
       "5569           250000000.00  500012729.00                         Фонд кино   \n",
       "6472                   0.00  185500705.00                         Фонд кино   \n",
       "7114            90000000.00 2305074303.00                         Фонд кино   \n",
       "7464           400000000.00  980000000.00                         Фонд кино   \n",
       "7466                   0.00  190000000.00                         Фонд кино   \n",
       "7474           400000000.00  944000000.00                         Фонд кино   \n",
       "\n",
       "      ratings                           genres   box_office  \n",
       "3164     7.10              мюзикл,боевик,драма  81430626.82  \n",
       "3351     6.60                            драма 364285139.60  \n",
       "3453     6.50                            драма 337069662.80  \n",
       "5437     7.70         фэнтези,комедия,семейный 511775548.00  \n",
       "5569     6.40           история,боевик,фэнтези 590405065.00  \n",
       "6472     6.50  мультфильм,приключения,семейный 577368853.25  \n",
       "7114     5.80              приключения,фэнтези 333597059.59  \n",
       "7464     6.00          история,биография,драма 717703185.53  \n",
       "7466     6.70  мультфильм,приключения,семейный 501069235.00  \n",
       "7474     5.70                фантастика,боевик          NaN  "
      ]
     },
     "execution_count": 33,
     "metadata": {},
     "output_type": "execute_result"
    }
   ],
   "source": [
    "data[data['refundable_support']> 95000000]"
   ]
  },
  {
   "cell_type": "markdown",
   "metadata": {
    "pycharm": {
     "name": "#%% md\n"
    }
   },
   "source": [
    "Как можно видеть, это одни из самых известных фильмов, спонсированных государсвом. Удалять их также не стоит, поскольку они существенны. "
   ]
  },
  {
   "cell_type": "code",
   "execution_count": 34,
   "metadata": {
    "scrolled": true,
    "pycharm": {
     "name": "#%%\n"
    }
   },
   "outputs": [
    {
     "data": {
      "text/plain": [
       "<AxesSubplot:>"
      ]
     },
     "execution_count": 34,
     "metadata": {},
     "output_type": "execute_result"
    },
    {
     "data": {
      "image/png": "[encoded data removed]",
      "text/plain": [
       "<Figure size 432x288 with 1 Axes>"
      ]
     },
     "metadata": {
      "needs_background": "light"
     },
     "output_type": "display_data"
    }
   ],
   "source": [
    "data['nonrefundable_support'].hist(bins=11, range=(10000000, 120000000))"
   ]
  },
  {
   "cell_type": "markdown",
   "metadata": {
    "pycharm": {
     "name": "#%% md\n"
    }
   },
   "source": [
    "Распределение данных о безвозмездной поддержке уже больше похоже на нормальное, однако наблюдается всплеск после 90 000 000 рублей."
   ]
  },
  {
   "cell_type": "code",
   "execution_count": 35,
   "metadata": {
    "pycharm": {
     "name": "#%%\n"
    }
   },
   "outputs": [
    {
     "data": {
      "text/html": [
       "<div>\n",
       "<style scoped>\n",
       "    .dataframe tbody tr th:only-of-type {\n",
       "        vertical-align: middle;\n",
       "    }\n",
       "\n",
       "    .dataframe tbody tr th {\n",
       "        vertical-align: top;\n",
       "    }\n",
       "\n",
       "    .dataframe thead th {\n",
       "        text-align: right;\n",
       "    }\n",
       "</style>\n",
       "<table border=\"1\" class=\"dataframe\">\n",
       "  <thead>\n",
       "    <tr style=\"text-align: right;\">\n",
       "      <th></th>\n",
       "      <th>title</th>\n",
       "      <th>puNumber</th>\n",
       "      <th>show_start_date</th>\n",
       "      <th>type</th>\n",
       "      <th>film_studio</th>\n",
       "      <th>production_country</th>\n",
       "      <th>director</th>\n",
       "      <th>producer</th>\n",
       "      <th>age_restriction</th>\n",
       "      <th>refundable_support</th>\n",
       "      <th>nonrefundable_support</th>\n",
       "      <th>budget</th>\n",
       "      <th>financing_source</th>\n",
       "      <th>ratings</th>\n",
       "      <th>genres</th>\n",
       "      <th>box_office</th>\n",
       "    </tr>\n",
       "  </thead>\n",
       "  <tbody>\n",
       "    <tr>\n",
       "      <th>3164</th>\n",
       "      <td>Герой (2015)</td>\n",
       "      <td>111000416</td>\n",
       "      <td>2016-01-22 12:00:00+00:00</td>\n",
       "      <td>Художественный</td>\n",
       "      <td>ООО \"Студия 25\", ООО \"Медиа Арт Студио\", ООО ...</td>\n",
       "      <td>Россия</td>\n",
       "      <td>Ю.Васильев</td>\n",
       "      <td>Э.Айнулова, Н.Дорошкевич, М.Журомская</td>\n",
       "      <td>«12+» - для детей старше 12 лет</td>\n",
       "      <td>110000000.00</td>\n",
       "      <td>30000000.00</td>\n",
       "      <td>222177790.00</td>\n",
       "      <td>Министерство культуры, Фонд кино</td>\n",
       "      <td>7.10</td>\n",
       "      <td>мюзикл,боевик,драма</td>\n",
       "      <td>81430626.82</td>\n",
       "    </tr>\n",
       "    <tr>\n",
       "      <th>3351</th>\n",
       "      <td>Дуэлянт</td>\n",
       "      <td>111015416</td>\n",
       "      <td>2016-09-14 12:00:00+00:00</td>\n",
       "      <td>Художественный</td>\n",
       "      <td>ООО \"Нон-Стоп Продакшн\"</td>\n",
       "      <td>Россия</td>\n",
       "      <td>А.Мизгирев</td>\n",
       "      <td>А.Роднянский, С.Мелькумов</td>\n",
       "      <td>«16+» - для детей старше 16 лет</td>\n",
       "      <td>150000000.00</td>\n",
       "      <td>300000000.00</td>\n",
       "      <td>684200536.00</td>\n",
       "      <td>Фонд кино</td>\n",
       "      <td>6.60</td>\n",
       "      <td>драма</td>\n",
       "      <td>364285139.60</td>\n",
       "    </tr>\n",
       "    <tr>\n",
       "      <th>3453</th>\n",
       "      <td>Ледокол</td>\n",
       "      <td>111016316</td>\n",
       "      <td>2016-10-11 12:00:00+00:00</td>\n",
       "      <td>Художественный</td>\n",
       "      <td>ООО \"Продюсерская фирма Игоря Толстунова\"</td>\n",
       "      <td>Россия</td>\n",
       "      <td>Н.Хомерики</td>\n",
       "      <td>И.Толстунов, С.Козлов</td>\n",
       "      <td>«12+» - для детей старше 12 лет</td>\n",
       "      <td>100000000.00</td>\n",
       "      <td>200000000.00</td>\n",
       "      <td>430000000.00</td>\n",
       "      <td>Фонд кино</td>\n",
       "      <td>6.50</td>\n",
       "      <td>драма</td>\n",
       "      <td>337069662.80</td>\n",
       "    </tr>\n",
       "    <tr>\n",
       "      <th>5437</th>\n",
       "      <td>Матильда</td>\n",
       "      <td>111005717</td>\n",
       "      <td>2017-08-17 12:00:00+00:00</td>\n",
       "      <td>Художественный</td>\n",
       "      <td>ООО \"ТПО \"РОК\", ООО \"Матильда\"</td>\n",
       "      <td>Россия</td>\n",
       "      <td>А.Учитель</td>\n",
       "      <td>А.Учитель, А.Достман, В.Винокур</td>\n",
       "      <td>«16+» - для детей старше 16 лет</td>\n",
       "      <td>110000000.00</td>\n",
       "      <td>190000000.00</td>\n",
       "      <td>1032905957.00</td>\n",
       "      <td>Фонд кино</td>\n",
       "      <td>7.70</td>\n",
       "      <td>фэнтези,комедия,семейный</td>\n",
       "      <td>511775548.00</td>\n",
       "    </tr>\n",
       "    <tr>\n",
       "      <th>5569</th>\n",
       "      <td>Легенда о Коловрате</td>\n",
       "      <td>111007617</td>\n",
       "      <td>2017-11-30 12:00:00+00:00</td>\n",
       "      <td>Художественный</td>\n",
       "      <td>ООО \"Продюсерский центр ИВАН\"</td>\n",
       "      <td>Россия</td>\n",
       "      <td>И.Шурховецкий</td>\n",
       "      <td>ООО \"Централ Партнершип\",              АО \"Тел...</td>\n",
       "      <td>«12+» - для детей старше 12 лет</td>\n",
       "      <td>100000000.00</td>\n",
       "      <td>250000000.00</td>\n",
       "      <td>500012729.00</td>\n",
       "      <td>Фонд кино</td>\n",
       "      <td>6.40</td>\n",
       "      <td>история,боевик,фэнтези</td>\n",
       "      <td>590405065.00</td>\n",
       "    </tr>\n",
       "    <tr>\n",
       "      <th>6472</th>\n",
       "      <td>Три богатыря и наследница престола</td>\n",
       "      <td>114008818</td>\n",
       "      <td>2018-12-15 12:00:00+00:00</td>\n",
       "      <td>Анимационный</td>\n",
       "      <td>ООО \"Студия анимационного кино \"Мельница\"</td>\n",
       "      <td>Россия</td>\n",
       "      <td>К.Бронзит</td>\n",
       "      <td>С.Сельянов, А.Боярский</td>\n",
       "      <td>«6+» - для детей старше 6 лет</td>\n",
       "      <td>115000000.00</td>\n",
       "      <td>0.00</td>\n",
       "      <td>185500705.00</td>\n",
       "      <td>Фонд кино</td>\n",
       "      <td>6.50</td>\n",
       "      <td>мультфильм,приключения,семейный</td>\n",
       "      <td>577368853.25</td>\n",
       "    </tr>\n",
       "    <tr>\n",
       "      <th>7114</th>\n",
       "      <td>Тайна Печати Дракона</td>\n",
       "      <td>111012819</td>\n",
       "      <td>2019-09-12 12:00:00+00:00</td>\n",
       "      <td>Художественный</td>\n",
       "      <td>ООО \"Кинокомпания \"СТВ\"; ООО \"РФГ Корп\"; ООО \"...</td>\n",
       "      <td>Россия-Китай</td>\n",
       "      <td>О.Степченко</td>\n",
       "      <td>С.Сельянов, А.Петрухин</td>\n",
       "      <td>«6+» - для детей старше 6 лет</td>\n",
       "      <td>180000000.00</td>\n",
       "      <td>90000000.00</td>\n",
       "      <td>2305074303.00</td>\n",
       "      <td>Фонд кино</td>\n",
       "      <td>5.80</td>\n",
       "      <td>приключения,фэнтези</td>\n",
       "      <td>333597059.59</td>\n",
       "    </tr>\n",
       "    <tr>\n",
       "      <th>7464</th>\n",
       "      <td>Союз спасения</td>\n",
       "      <td>111022019</td>\n",
       "      <td>2019-12-26 12:00:00+00:00</td>\n",
       "      <td>Художественный</td>\n",
       "      <td>ЗАО \"Дирекция кино\"</td>\n",
       "      <td>Россия</td>\n",
       "      <td>А.Кравчук</td>\n",
       "      <td>А.Максимов, К.Эрнст</td>\n",
       "      <td>«12+» - для детей старше 12 лет</td>\n",
       "      <td>100000000.00</td>\n",
       "      <td>400000000.00</td>\n",
       "      <td>980000000.00</td>\n",
       "      <td>Фонд кино</td>\n",
       "      <td>6.00</td>\n",
       "      <td>история,биография,драма</td>\n",
       "      <td>717703185.53</td>\n",
       "    </tr>\n",
       "    <tr>\n",
       "      <th>7466</th>\n",
       "      <td>Иван Царевич и Серый Волк 4</td>\n",
       "      <td>114005019</td>\n",
       "      <td>2019-12-20 12:00:00+00:00</td>\n",
       "      <td>Анимационный</td>\n",
       "      <td>ООО \"Студия анимационного кино \"Мельница\"</td>\n",
       "      <td>Россия</td>\n",
       "      <td>Д.Шмидт, К.Феоктистов</td>\n",
       "      <td>С.Сельянов, А.Боярский</td>\n",
       "      <td>«6+» - для детей старше 6 лет</td>\n",
       "      <td>100000000.00</td>\n",
       "      <td>0.00</td>\n",
       "      <td>190000000.00</td>\n",
       "      <td>Фонд кино</td>\n",
       "      <td>6.70</td>\n",
       "      <td>мультфильм,приключения,семейный</td>\n",
       "      <td>501069235.00</td>\n",
       "    </tr>\n",
       "    <tr>\n",
       "      <th>7474</th>\n",
       "      <td>Вторжение</td>\n",
       "      <td>111022519</td>\n",
       "      <td>2019-12-23 12:00:00+00:00</td>\n",
       "      <td>Художественный</td>\n",
       "      <td>ООО \"Арт Пикчерс Студия\", ООО \"Водород 2011\"</td>\n",
       "      <td>Россия</td>\n",
       "      <td>Ф.Бондарчук</td>\n",
       "      <td>Ф.Бондарчук, М.Врубель, А.Андрющенко, Д.Рудовский</td>\n",
       "      <td>«12+» - для детей старше 12 лет</td>\n",
       "      <td>100000000.00</td>\n",
       "      <td>400000000.00</td>\n",
       "      <td>944000000.00</td>\n",
       "      <td>Фонд кино</td>\n",
       "      <td>5.70</td>\n",
       "      <td>фантастика,боевик</td>\n",
       "      <td>NaN</td>\n",
       "    </tr>\n",
       "  </tbody>\n",
       "</table>\n",
       "</div>"
      ],
      "text/plain": [
       "                                   title   puNumber           show_start_date  \\\n",
       "3164                        Герой (2015)  111000416 2016-01-22 12:00:00+00:00   \n",
       "3351                             Дуэлянт  111015416 2016-09-14 12:00:00+00:00   \n",
       "3453                             Ледокол  111016316 2016-10-11 12:00:00+00:00   \n",
       "5437                            Матильда  111005717 2017-08-17 12:00:00+00:00   \n",
       "5569                 Легенда о Коловрате  111007617 2017-11-30 12:00:00+00:00   \n",
       "6472  Три богатыря и наследница престола  114008818 2018-12-15 12:00:00+00:00   \n",
       "7114                Тайна Печати Дракона  111012819 2019-09-12 12:00:00+00:00   \n",
       "7464                       Союз спасения  111022019 2019-12-26 12:00:00+00:00   \n",
       "7466         Иван Царевич и Серый Волк 4  114005019 2019-12-20 12:00:00+00:00   \n",
       "7474                           Вторжение  111022519 2019-12-23 12:00:00+00:00   \n",
       "\n",
       "                type                                        film_studio  \\\n",
       "3164  Художественный   ООО \"Студия 25\", ООО \"Медиа Арт Студио\", ООО ...   \n",
       "3351  Художественный                            ООО \"Нон-Стоп Продакшн\"   \n",
       "3453  Художественный          ООО \"Продюсерская фирма Игоря Толстунова\"   \n",
       "5437  Художественный                     ООО \"ТПО \"РОК\", ООО \"Матильда\"   \n",
       "5569  Художественный                      ООО \"Продюсерский центр ИВАН\"   \n",
       "6472    Анимационный          ООО \"Студия анимационного кино \"Мельница\"   \n",
       "7114  Художественный  ООО \"Кинокомпания \"СТВ\"; ООО \"РФГ Корп\"; ООО \"...   \n",
       "7464  Художественный                                ЗАО \"Дирекция кино\"   \n",
       "7466    Анимационный          ООО \"Студия анимационного кино \"Мельница\"   \n",
       "7474  Художественный       ООО \"Арт Пикчерс Студия\", ООО \"Водород 2011\"   \n",
       "\n",
       "     production_country               director  \\\n",
       "3164             Россия             Ю.Васильев   \n",
       "3351             Россия             А.Мизгирев   \n",
       "3453             Россия             Н.Хомерики   \n",
       "5437             Россия              А.Учитель   \n",
       "5569             Россия          И.Шурховецкий   \n",
       "6472             Россия              К.Бронзит   \n",
       "7114       Россия-Китай            О.Степченко   \n",
       "7464             Россия              А.Кравчук   \n",
       "7466             Россия  Д.Шмидт, К.Феоктистов   \n",
       "7474             Россия            Ф.Бондарчук   \n",
       "\n",
       "                                               producer  \\\n",
       "3164              Э.Айнулова, Н.Дорошкевич, М.Журомская   \n",
       "3351                          А.Роднянский, С.Мелькумов   \n",
       "3453                              И.Толстунов, С.Козлов   \n",
       "5437                    А.Учитель, А.Достман, В.Винокур   \n",
       "5569  ООО \"Централ Партнершип\",              АО \"Тел...   \n",
       "6472                             С.Сельянов, А.Боярский   \n",
       "7114                             С.Сельянов, А.Петрухин   \n",
       "7464                                А.Максимов, К.Эрнст   \n",
       "7466                             С.Сельянов, А.Боярский   \n",
       "7474  Ф.Бондарчук, М.Врубель, А.Андрющенко, Д.Рудовский   \n",
       "\n",
       "                      age_restriction  refundable_support  \\\n",
       "3164  «12+» - для детей старше 12 лет        110000000.00   \n",
       "3351  «16+» - для детей старше 16 лет        150000000.00   \n",
       "3453  «12+» - для детей старше 12 лет        100000000.00   \n",
       "5437  «16+» - для детей старше 16 лет        110000000.00   \n",
       "5569  «12+» - для детей старше 12 лет        100000000.00   \n",
       "6472    «6+» - для детей старше 6 лет        115000000.00   \n",
       "7114    «6+» - для детей старше 6 лет        180000000.00   \n",
       "7464  «12+» - для детей старше 12 лет        100000000.00   \n",
       "7466    «6+» - для детей старше 6 лет        100000000.00   \n",
       "7474  «12+» - для детей старше 12 лет        100000000.00   \n",
       "\n",
       "      nonrefundable_support        budget                  financing_source  \\\n",
       "3164            30000000.00  222177790.00  Министерство культуры, Фонд кино   \n",
       "3351           300000000.00  684200536.00                         Фонд кино   \n",
       "3453           200000000.00  430000000.00                         Фонд кино   \n",
       "5437           190000000.00 1032905957.00                         Фонд кино   \n",
       "5569           250000000.00  500012729.00                         Фонд кино   \n",
       "6472                   0.00  185500705.00                         Фонд кино   \n",
       "7114            90000000.00 2305074303.00                         Фонд кино   \n",
       "7464           400000000.00  980000000.00                         Фонд кино   \n",
       "7466                   0.00  190000000.00                         Фонд кино   \n",
       "7474           400000000.00  944000000.00                         Фонд кино   \n",
       "\n",
       "      ratings                           genres   box_office  \n",
       "3164     7.10              мюзикл,боевик,драма  81430626.82  \n",
       "3351     6.60                            драма 364285139.60  \n",
       "3453     6.50                            драма 337069662.80  \n",
       "5437     7.70         фэнтези,комедия,семейный 511775548.00  \n",
       "5569     6.40           история,боевик,фэнтези 590405065.00  \n",
       "6472     6.50  мультфильм,приключения,семейный 577368853.25  \n",
       "7114     5.80              приключения,фэнтези 333597059.59  \n",
       "7464     6.00          история,биография,драма 717703185.53  \n",
       "7466     6.70  мультфильм,приключения,семейный 501069235.00  \n",
       "7474     5.70                фантастика,боевик          NaN  "
      ]
     },
     "execution_count": 35,
     "metadata": {},
     "output_type": "execute_result"
    }
   ],
   "source": [
    "data[data['refundable_support']> 90000000]"
   ]
  },
  {
   "cell_type": "markdown",
   "metadata": {
    "pycharm": {
     "name": "#%% md\n"
    }
   },
   "source": [
    "Это те же самые известные фильмы, спонсированные государством. "
   ]
  },
  {
   "cell_type": "code",
   "execution_count": 36,
   "metadata": {
    "pycharm": {
     "name": "#%%\n"
    }
   },
   "outputs": [
    {
     "data": {
      "text/plain": [
       "<AxesSubplot:>"
      ]
     },
     "execution_count": 36,
     "metadata": {},
     "output_type": "execute_result"
    },
    {
     "data": {
      "image/png": "[encoded data removed]",
      "text/plain": [
       "<Figure size 432x288 with 1 Axes>"
      ]
     },
     "metadata": {
      "needs_background": "light"
     },
     "output_type": "display_data"
    }
   ],
   "source": [
    "data['budget'].hist(bins=12, range=(10000000, 130000000))"
   ]
  },
  {
   "cell_type": "markdown",
   "metadata": {
    "pycharm": {
     "name": "#%% md\n"
    }
   },
   "source": [
    "Данные о бюджете фильмов не имеют всплесков, однако их распределение явлеется правоассиметричным."
   ]
  },
  {
   "cell_type": "code",
   "execution_count": 37,
   "metadata": {
    "scrolled": true,
    "pycharm": {
     "name": "#%%\n"
    }
   },
   "outputs": [
    {
     "data": {
      "text/plain": [
       "<AxesSubplot:>"
      ]
     },
     "execution_count": 37,
     "metadata": {},
     "output_type": "execute_result"
    },
    {
     "data": {
      "image/png": "[encoded data removed]",
      "text/plain": [
       "<Figure size 432x288 with 1 Axes>"
      ]
     },
     "metadata": {
      "needs_background": "light"
     },
     "output_type": "display_data"
    }
   ],
   "source": [
    "data['ratings'].hist(bins=10, range=(0, 10))"
   ]
  },
  {
   "cell_type": "markdown",
   "metadata": {
    "pycharm": {
     "name": "#%% md\n"
    }
   },
   "source": [
    "Лучше всего ситуация обстоит с распределением рейтинга на Кинопоские. Оно приближено к нормальному, однако имеет небольшую левоассиметричность."
   ]
  },
  {
   "cell_type": "markdown",
   "metadata": {
    "pycharm": {
     "name": "#%% md\n"
    }
   },
   "source": [
    "Таким образом, большая часть данных искажается \"фильмами-выбросами\".  Их удаление может существенно снизить результативность исследования, поэтому в качестве критериев для сравнения фильмов необходимо использовать медианные значения, а не средние."
   ]
  },
  {
   "cell_type": "markdown",
   "metadata": {
    "id": "Eu6oWp2CgFyS",
    "pycharm": {
     "name": "#%% md\n"
    }
   },
   "source": [
    "#### Шаг 2.6. Добавьте новые столбцы\n",
    "\n",
    "\n",
    "\n"
   ]
  },
  {
   "cell_type": "markdown",
   "metadata": {
    "id": "7GgW-UpAgFyS",
    "pycharm": {
     "name": "#%% md\n"
    }
   },
   "source": [
    "- Создайте столбец с информацией о годе проката. Выделите год из даты премьеры фильма."
   ]
  },
  {
   "cell_type": "code",
   "execution_count": 38,
   "metadata": {
    "id": "I-yd1DkWgFyT",
    "pycharm": {
     "name": "#%%\n"
    }
   },
   "outputs": [],
   "source": [
    "data['year'] = data['show_start_date'].dt.year"
   ]
  },
  {
   "cell_type": "markdown",
   "metadata": {
    "id": "nFTDLDYOgFyT",
    "pycharm": {
     "name": "#%% md\n"
    }
   },
   "source": [
    "- Создайте два столбца: с именем и фамилией главного режиссёра и основным жанром фильма. В столбцы войдут первые значения из списка режиссёров и жанров соответственно.\n",
    "\n",
    "<div id=\"accordion\">\n",
    "    <div class=\"card\">\n",
    "        <div class=\"card-header\" id=\"headingThree\">\n",
    "            <button class=\"btn btn-link collapsed\" data-toggle=\"collapse\" data-target=\"#collapseHint_2\" aria-expanded=\"false\" aria-controls=\"collapseHint_2\">Подсказка</button>\n",
    "        </div>\n",
    "        <div id=\"collapseHint_2\" class=\"collapse\" aria-labelledby=\"headingThree\" data-parent=\"#accordion\">\n",
    "            <div class=\"card-body\">\n",
    "Чтобы создать такие столбцы, лучше всего использовать собственную функцию. Эту функцию можно применить к двум столбцам сразу. \n",
    "            </div>\n",
    "        </div>\n",
    "    </div>\n",
    "</div>"
   ]
  },
  {
   "cell_type": "code",
   "execution_count": 39,
   "metadata": {
    "id": "LSbRZKbMgFyU",
    "pycharm": {
     "name": "#%%\n"
    }
   },
   "outputs": [],
   "source": [
    "def find_main(string):\n",
    "    try:\n",
    "        return string.split(',')[0]\n",
    "    except:\n",
    "        return"
   ]
  },
  {
   "cell_type": "code",
   "execution_count": 40,
   "metadata": {
    "pycharm": {
     "name": "#%%\n"
    }
   },
   "outputs": [],
   "source": [
    "data['main_director'] = data['director'].apply(find_main)\n",
    "data['main_genre'] = data['genres'].apply(find_main)"
   ]
  },
  {
   "cell_type": "markdown",
   "metadata": {
    "id": "1FsCXHwdgFyU",
    "pycharm": {
     "name": "#%% md\n"
    }
   },
   "source": [
    "- Посчитайте, какую долю от общего бюджета фильма составляет государственная поддержка."
   ]
  },
  {
   "cell_type": "code",
   "execution_count": 41,
   "metadata": {
    "id": "LV6qFuZLgFyV",
    "pycharm": {
     "name": "#%%\n"
    }
   },
   "outputs": [],
   "source": [
    "data['gov_share'] = (data['refundable_support'] + data['nonrefundable_support']) / data['budget']"
   ]
  },
  {
   "cell_type": "markdown",
   "metadata": {
    "pycharm": {
     "name": "#%% md\n"
    }
   },
   "source": [
    "#### Вывод"
   ]
  },
  {
   "cell_type": "markdown",
   "metadata": {
    "pycharm": {
     "name": "#%% md\n"
    }
   },
   "source": [
    "Таким образом, на данно этапе были проверены типы данных в датафрейме, заполнены пропуски и удалены дубликаты. Также были изучены столбцы с категориальными и количественными значениями, добавлены новые столбцы, необходимые для дальнейшего исследования. "
   ]
  },
  {
   "cell_type": "markdown",
   "metadata": {
    "id": "6t4EukPLgFyV",
    "pycharm": {
     "name": "#%% md\n"
    }
   },
   "source": [
    "### Шаг 3. Проведите исследовательский анализ данных\n"
   ]
  },
  {
   "cell_type": "markdown",
   "metadata": {
    "id": "vAH8WCzugFyV",
    "pycharm": {
     "name": "#%% md\n"
    }
   },
   "source": [
    "- Посмотрите, сколько фильмов выходило в прокат каждый год. Обратите внимание, что данные о прокате в кинотеатрах известны не для всех фильмов. Посчитайте, какую долю составляют фильмы с указанной информацией о прокате в кинотеатрах."
   ]
  },
  {
   "cell_type": "code",
   "execution_count": 42,
   "metadata": {
    "id": "ABeV47y7gFyW",
    "scrolled": false,
    "pycharm": {
     "name": "#%%\n"
    }
   },
   "outputs": [
    {
     "data": {
      "text/html": [
       "<div>\n",
       "<style scoped>\n",
       "    .dataframe tbody tr th:only-of-type {\n",
       "        vertical-align: middle;\n",
       "    }\n",
       "\n",
       "    .dataframe tbody tr th {\n",
       "        vertical-align: top;\n",
       "    }\n",
       "\n",
       "    .dataframe thead th {\n",
       "        text-align: right;\n",
       "    }\n",
       "</style>\n",
       "<table border=\"1\" class=\"dataframe\">\n",
       "  <thead>\n",
       "    <tr style=\"text-align: right;\">\n",
       "      <th></th>\n",
       "      <th>total_films</th>\n",
       "      <th>films_with_box_info</th>\n",
       "      <th>info_share</th>\n",
       "    </tr>\n",
       "    <tr>\n",
       "      <th>year</th>\n",
       "      <th></th>\n",
       "      <th></th>\n",
       "      <th></th>\n",
       "    </tr>\n",
       "  </thead>\n",
       "  <tbody>\n",
       "    <tr>\n",
       "      <th>2010</th>\n",
       "      <td>757</td>\n",
       "      <td>88</td>\n",
       "      <td>0.12</td>\n",
       "    </tr>\n",
       "    <tr>\n",
       "      <th>2011</th>\n",
       "      <td>475</td>\n",
       "      <td>98</td>\n",
       "      <td>0.21</td>\n",
       "    </tr>\n",
       "    <tr>\n",
       "      <th>2012</th>\n",
       "      <td>516</td>\n",
       "      <td>115</td>\n",
       "      <td>0.22</td>\n",
       "    </tr>\n",
       "    <tr>\n",
       "      <th>2013</th>\n",
       "      <td>589</td>\n",
       "      <td>176</td>\n",
       "      <td>0.30</td>\n",
       "    </tr>\n",
       "    <tr>\n",
       "      <th>2014</th>\n",
       "      <td>729</td>\n",
       "      <td>257</td>\n",
       "      <td>0.35</td>\n",
       "    </tr>\n",
       "    <tr>\n",
       "      <th>2015</th>\n",
       "      <td>661</td>\n",
       "      <td>431</td>\n",
       "      <td>0.65</td>\n",
       "    </tr>\n",
       "    <tr>\n",
       "      <th>2016</th>\n",
       "      <td>770</td>\n",
       "      <td>500</td>\n",
       "      <td>0.65</td>\n",
       "    </tr>\n",
       "    <tr>\n",
       "      <th>2017</th>\n",
       "      <td>500</td>\n",
       "      <td>357</td>\n",
       "      <td>0.71</td>\n",
       "    </tr>\n",
       "    <tr>\n",
       "      <th>2018</th>\n",
       "      <td>873</td>\n",
       "      <td>473</td>\n",
       "      <td>0.54</td>\n",
       "    </tr>\n",
       "    <tr>\n",
       "      <th>2019</th>\n",
       "      <td>914</td>\n",
       "      <td>529</td>\n",
       "      <td>0.58</td>\n",
       "    </tr>\n",
       "  </tbody>\n",
       "</table>\n",
       "</div>"
      ],
      "text/plain": [
       "      total_films  films_with_box_info  info_share\n",
       "year                                              \n",
       "2010          757                   88        0.12\n",
       "2011          475                   98        0.21\n",
       "2012          516                  115        0.22\n",
       "2013          589                  176        0.30\n",
       "2014          729                  257        0.35\n",
       "2015          661                  431        0.65\n",
       "2016          770                  500        0.65\n",
       "2017          500                  357        0.71\n",
       "2018          873                  473        0.54\n",
       "2019          914                  529        0.58"
      ]
     },
     "execution_count": 42,
     "metadata": {},
     "output_type": "execute_result"
    }
   ],
   "source": [
    "data_pivot = data.pivot_table(index='year', values = 'title', aggfunc = 'count').rename(columns = {'title': 'total_films'})\n",
    "data_pivot1 = data.pivot_table(index='year', values = 'box_office', aggfunc = 'count').rename(columns = {'box_office': 'films_with_box_info'})\n",
    "\n",
    "data_pivot = data_pivot.merge(data_pivot1, on='year', how='left')\n",
    "\n",
    "data_pivot['info_share'] = round(data_pivot['films_with_box_info'] / data_pivot['total_films'], 2)\n",
    "\n",
    "data_pivot"
   ]
  },
  {
   "cell_type": "code",
   "execution_count": 43,
   "metadata": {
    "scrolled": false,
    "pycharm": {
     "name": "#%%\n"
    }
   },
   "outputs": [
    {
     "data": {
      "text/plain": [
       "<AxesSubplot:xlabel='year'>"
      ]
     },
     "execution_count": 43,
     "metadata": {},
     "output_type": "execute_result"
    },
    {
     "data": {
      "image/png": "[encoded data removed]",
      "text/plain": [
       "<Figure size 432x288 with 1 Axes>"
      ]
     },
     "metadata": {
      "needs_background": "light"
     },
     "output_type": "display_data"
    }
   ],
   "source": [
    "data_pivot['total_films'].plot()"
   ]
  },
  {
   "cell_type": "markdown",
   "metadata": {
    "pycharm": {
     "name": "#%% md\n"
    }
   },
   "source": [
    "C 2010 по 2017 наблюдается рост численности фильмов с информацией о кассовых сборах, однако затем доля фильмов с информацией падает. Наиболее полная информация представлена по 2017 году. "
   ]
  },
  {
   "cell_type": "markdown",
   "metadata": {
    "id": "BEOdcIrIgFyW",
    "pycharm": {
     "name": "#%% md\n"
    }
   },
   "source": [
    "- Изучите, как менялась динамика проката по годам. В каком году сумма сборов была минимальной? А максимальной?"
   ]
  },
  {
   "cell_type": "code",
   "execution_count": 44,
   "metadata": {
    "id": "tfEhofYvgFyX",
    "pycharm": {
     "name": "#%%\n"
    }
   },
   "outputs": [
    {
     "data": {
      "text/html": [
       "<div>\n",
       "<style scoped>\n",
       "    .dataframe tbody tr th:only-of-type {\n",
       "        vertical-align: middle;\n",
       "    }\n",
       "\n",
       "    .dataframe tbody tr th {\n",
       "        vertical-align: top;\n",
       "    }\n",
       "\n",
       "    .dataframe thead th {\n",
       "        text-align: right;\n",
       "    }\n",
       "</style>\n",
       "<table border=\"1\" class=\"dataframe\">\n",
       "  <thead>\n",
       "    <tr style=\"text-align: right;\">\n",
       "      <th></th>\n",
       "      <th>total_box</th>\n",
       "    </tr>\n",
       "    <tr>\n",
       "      <th>year</th>\n",
       "      <th></th>\n",
       "    </tr>\n",
       "  </thead>\n",
       "  <tbody>\n",
       "    <tr>\n",
       "      <th>2010</th>\n",
       "      <td>2374.00</td>\n",
       "    </tr>\n",
       "    <tr>\n",
       "      <th>2011</th>\n",
       "      <td>13944.00</td>\n",
       "    </tr>\n",
       "    <tr>\n",
       "      <th>2012</th>\n",
       "      <td>6421.00</td>\n",
       "    </tr>\n",
       "    <tr>\n",
       "      <th>2013</th>\n",
       "      <td>29769.00</td>\n",
       "    </tr>\n",
       "    <tr>\n",
       "      <th>2014</th>\n",
       "      <td>7372599.00</td>\n",
       "    </tr>\n",
       "    <tr>\n",
       "      <th>2015</th>\n",
       "      <td>32084650.00</td>\n",
       "    </tr>\n",
       "    <tr>\n",
       "      <th>2016</th>\n",
       "      <td>43731250.00</td>\n",
       "    </tr>\n",
       "    <tr>\n",
       "      <th>2017</th>\n",
       "      <td>48563707.00</td>\n",
       "    </tr>\n",
       "    <tr>\n",
       "      <th>2018</th>\n",
       "      <td>47985682.00</td>\n",
       "    </tr>\n",
       "    <tr>\n",
       "      <th>2019</th>\n",
       "      <td>48423450.00</td>\n",
       "    </tr>\n",
       "  </tbody>\n",
       "</table>\n",
       "</div>"
      ],
      "text/plain": [
       "       total_box\n",
       "year            \n",
       "2010     2374.00\n",
       "2011    13944.00\n",
       "2012     6421.00\n",
       "2013    29769.00\n",
       "2014  7372599.00\n",
       "2015 32084650.00\n",
       "2016 43731250.00\n",
       "2017 48563707.00\n",
       "2018 47985682.00\n",
       "2019 48423450.00"
      ]
     },
     "metadata": {},
     "output_type": "display_data"
    },
    {
     "data": {
      "text/plain": [
       "<AxesSubplot:xlabel='year'>"
      ]
     },
     "execution_count": 44,
     "metadata": {},
     "output_type": "execute_result"
    },
    {
     "data": {
      "image/png": "[encoded data removed]",
      "text/plain": [
       "<Figure size 432x288 with 1 Axes>"
      ]
     },
     "metadata": {
      "needs_background": "light"
     },
     "output_type": "display_data"
    }
   ],
   "source": [
    "data_pivot = data.pivot_table(index='year', values = 'box_office', aggfunc = 'sum').rename(columns = {'box_office': 'total_box'})\n",
    "data_pivot['total_box'] = round(data_pivot['total_box'] / 1000)\n",
    "display(data_pivot)\n",
    "\n",
    "data_pivot.plot()"
   ]
  },
  {
   "cell_type": "markdown",
   "metadata": {
    "pycharm": {
     "name": "#%% md\n"
    }
   },
   "source": [
    "Виндно, что с 2013 по 2017 происходит существенный рост кассовых сборов, а затем с 2017 года они стаются примерно на одном уровне.\n",
    "\n",
    "В 2017 году сумма сборов была максимальной, а в 2010 - минимальной. "
   ]
  },
  {
   "cell_type": "markdown",
   "metadata": {
    "id": "G-7qS-N-gFyY",
    "pycharm": {
     "name": "#%% md\n"
    }
   },
   "source": [
    "- С помощью сводной таблицы посчитайте среднюю и медианную сумму сборов для каждого года."
   ]
  },
  {
   "cell_type": "code",
   "execution_count": 45,
   "metadata": {
    "pycharm": {
     "name": "#%%\n"
    }
   },
   "outputs": [],
   "source": [
    "def mod_function(number):\n",
    "    return round(number / 1000)"
   ]
  },
  {
   "cell_type": "code",
   "execution_count": 46,
   "metadata": {
    "id": "jmp-rgg9gFyY",
    "pycharm": {
     "name": "#%%\n"
    }
   },
   "outputs": [
    {
     "data": {
      "text/html": [
       "<div>\n",
       "<style scoped>\n",
       "    .dataframe tbody tr th:only-of-type {\n",
       "        vertical-align: middle;\n",
       "    }\n",
       "\n",
       "    .dataframe tbody tr th {\n",
       "        vertical-align: top;\n",
       "    }\n",
       "\n",
       "    .dataframe thead th {\n",
       "        text-align: right;\n",
       "    }\n",
       "</style>\n",
       "<table border=\"1\" class=\"dataframe\">\n",
       "  <thead>\n",
       "    <tr style=\"text-align: right;\">\n",
       "      <th></th>\n",
       "      <th>total_box</th>\n",
       "      <th>mean_box</th>\n",
       "      <th>median_box</th>\n",
       "    </tr>\n",
       "    <tr>\n",
       "      <th>year</th>\n",
       "      <th></th>\n",
       "      <th></th>\n",
       "      <th></th>\n",
       "    </tr>\n",
       "  </thead>\n",
       "  <tbody>\n",
       "    <tr>\n",
       "      <th>2010</th>\n",
       "      <td>2374</td>\n",
       "      <td>27</td>\n",
       "      <td>2</td>\n",
       "    </tr>\n",
       "    <tr>\n",
       "      <th>2011</th>\n",
       "      <td>13944</td>\n",
       "      <td>142</td>\n",
       "      <td>3</td>\n",
       "    </tr>\n",
       "    <tr>\n",
       "      <th>2012</th>\n",
       "      <td>6421</td>\n",
       "      <td>56</td>\n",
       "      <td>7</td>\n",
       "    </tr>\n",
       "    <tr>\n",
       "      <th>2013</th>\n",
       "      <td>29769</td>\n",
       "      <td>169</td>\n",
       "      <td>4</td>\n",
       "    </tr>\n",
       "    <tr>\n",
       "      <th>2014</th>\n",
       "      <td>7372599</td>\n",
       "      <td>28687</td>\n",
       "      <td>22</td>\n",
       "    </tr>\n",
       "    <tr>\n",
       "      <th>2015</th>\n",
       "      <td>32084650</td>\n",
       "      <td>74442</td>\n",
       "      <td>4327</td>\n",
       "    </tr>\n",
       "    <tr>\n",
       "      <th>2016</th>\n",
       "      <td>43731250</td>\n",
       "      <td>87463</td>\n",
       "      <td>3650</td>\n",
       "    </tr>\n",
       "    <tr>\n",
       "      <th>2017</th>\n",
       "      <td>48563707</td>\n",
       "      <td>136033</td>\n",
       "      <td>9968</td>\n",
       "    </tr>\n",
       "    <tr>\n",
       "      <th>2018</th>\n",
       "      <td>47985682</td>\n",
       "      <td>101450</td>\n",
       "      <td>8891</td>\n",
       "    </tr>\n",
       "    <tr>\n",
       "      <th>2019</th>\n",
       "      <td>48423450</td>\n",
       "      <td>91538</td>\n",
       "      <td>4655</td>\n",
       "    </tr>\n",
       "  </tbody>\n",
       "</table>\n",
       "</div>"
      ],
      "text/plain": [
       "      total_box  mean_box  median_box\n",
       "year                                 \n",
       "2010       2374        27           2\n",
       "2011      13944       142           3\n",
       "2012       6421        56           7\n",
       "2013      29769       169           4\n",
       "2014    7372599     28687          22\n",
       "2015   32084650     74442        4327\n",
       "2016   43731250     87463        3650\n",
       "2017   48563707    136033        9968\n",
       "2018   47985682    101450        8891\n",
       "2019   48423450     91538        4655"
      ]
     },
     "execution_count": 46,
     "metadata": {},
     "output_type": "execute_result"
    }
   ],
   "source": [
    "data_pivot = data.pivot_table(index='year', values = 'box_office', aggfunc = ['sum', 'mean', 'median'])\n",
    "\n",
    "data_pivot1 = pd.DataFrame()\n",
    "data_pivot1['total_box'] = data_pivot['sum']['box_office'].apply(mod_function)\n",
    "data_pivot1['mean_box'] = data_pivot['mean']['box_office'].apply(mod_function)\n",
    "data_pivot1['median_box'] = data_pivot['median']['box_office'].apply(mod_function)\n",
    "\n",
    "data_pivot1"
   ]
  },
  {
   "cell_type": "markdown",
   "metadata": {
    "pycharm": {
     "name": "#%% md\n"
    }
   },
   "source": [
    "Из представленной таблицы видны, что динамика среднего значения кассовых сборов отличается от динамики общей суммы кассовых сборов и их медианного значения. Как уже говорилось ранее, средние значения существенно искажаются из-за \"фильмов-выбросов\" и ненормальности распределения данных. Медиана меньше подвержена данным искажениям, поэтому её использование позволит сделать более объективные выводы."
   ]
  },
  {
   "cell_type": "markdown",
   "metadata": {
    "id": "Ok89WFwJgFyZ",
    "pycharm": {
     "name": "#%% md\n"
    }
   },
   "source": [
    "- Определите, влияет ли возрастное ограничение аудитории («6+», «12+», «16+», «18+» и т. д.) на сборы фильма в прокате в период с 2015 по 2019 год? Фильмы с каким возрастным ограничением собрали больше всего денег в прокате? Меняется ли картина в зависимости от года? Если да, предположите, с чем это может быть связано."
   ]
  },
  {
   "cell_type": "code",
   "execution_count": 47,
   "metadata": {
    "id": "jsSbEqfjgFya",
    "pycharm": {
     "name": "#%%\n"
    }
   },
   "outputs": [
    {
     "data": {
      "text/html": [
       "<div>\n",
       "<style scoped>\n",
       "    .dataframe tbody tr th:only-of-type {\n",
       "        vertical-align: middle;\n",
       "    }\n",
       "\n",
       "    .dataframe tbody tr th {\n",
       "        vertical-align: top;\n",
       "    }\n",
       "\n",
       "    .dataframe thead th {\n",
       "        text-align: right;\n",
       "    }\n",
       "</style>\n",
       "<table border=\"1\" class=\"dataframe\">\n",
       "  <thead>\n",
       "    <tr style=\"text-align: right;\">\n",
       "      <th></th>\n",
       "      <th>Медианное значение сборов всех фильмов</th>\n",
       "      <th>Медианное значение сборов для «0+»</th>\n",
       "      <th>Медианное значение сборов для «12+»</th>\n",
       "      <th>Медианное значение сборов для «16+»</th>\n",
       "      <th>Медианное значение сборов для «18+»</th>\n",
       "      <th>Медианное значение сборов для «6+»</th>\n",
       "    </tr>\n",
       "    <tr>\n",
       "      <th>year</th>\n",
       "      <th></th>\n",
       "      <th></th>\n",
       "      <th></th>\n",
       "      <th></th>\n",
       "      <th></th>\n",
       "      <th></th>\n",
       "    </tr>\n",
       "  </thead>\n",
       "  <tbody>\n",
       "    <tr>\n",
       "      <th>2010</th>\n",
       "      <td>1868.00</td>\n",
       "      <td>10980.00</td>\n",
       "      <td>2635.00</td>\n",
       "      <td>1000.00</td>\n",
       "      <td>1970.00</td>\n",
       "      <td>NaN</td>\n",
       "    </tr>\n",
       "    <tr>\n",
       "      <th>2011</th>\n",
       "      <td>3042.50</td>\n",
       "      <td>6220.00</td>\n",
       "      <td>4859.50</td>\n",
       "      <td>2835.00</td>\n",
       "      <td>520.00</td>\n",
       "      <td>NaN</td>\n",
       "    </tr>\n",
       "    <tr>\n",
       "      <th>2012</th>\n",
       "      <td>6655.00</td>\n",
       "      <td>18420.00</td>\n",
       "      <td>3685.00</td>\n",
       "      <td>1760.00</td>\n",
       "      <td>4077.50</td>\n",
       "      <td>8305.00</td>\n",
       "    </tr>\n",
       "    <tr>\n",
       "      <th>2013</th>\n",
       "      <td>3565.00</td>\n",
       "      <td>18470.00</td>\n",
       "      <td>2550.00</td>\n",
       "      <td>3880.00</td>\n",
       "      <td>1600.00</td>\n",
       "      <td>3370.00</td>\n",
       "    </tr>\n",
       "    <tr>\n",
       "      <th>2014</th>\n",
       "      <td>22490.00</td>\n",
       "      <td>195810.00</td>\n",
       "      <td>6037.50</td>\n",
       "      <td>16730.00</td>\n",
       "      <td>429992.00</td>\n",
       "      <td>113935.00</td>\n",
       "    </tr>\n",
       "    <tr>\n",
       "      <th>2015</th>\n",
       "      <td>4327265.70</td>\n",
       "      <td>2767310.60</td>\n",
       "      <td>15144119.40</td>\n",
       "      <td>4170454.50</td>\n",
       "      <td>4011143.20</td>\n",
       "      <td>20380982.20</td>\n",
       "    </tr>\n",
       "    <tr>\n",
       "      <th>2016</th>\n",
       "      <td>3650260.90</td>\n",
       "      <td>2804263.00</td>\n",
       "      <td>4690635.25</td>\n",
       "      <td>3659719.50</td>\n",
       "      <td>5667492.65</td>\n",
       "      <td>3698271.84</td>\n",
       "    </tr>\n",
       "    <tr>\n",
       "      <th>2017</th>\n",
       "      <td>9968340.00</td>\n",
       "      <td>22178956.00</td>\n",
       "      <td>9010548.00</td>\n",
       "      <td>9702077.00</td>\n",
       "      <td>8212677.00</td>\n",
       "      <td>51992103.00</td>\n",
       "    </tr>\n",
       "    <tr>\n",
       "      <th>2018</th>\n",
       "      <td>8891102.21</td>\n",
       "      <td>3616937.28</td>\n",
       "      <td>10035323.33</td>\n",
       "      <td>8751895.75</td>\n",
       "      <td>7179466.00</td>\n",
       "      <td>14688850.32</td>\n",
       "    </tr>\n",
       "    <tr>\n",
       "      <th>2019</th>\n",
       "      <td>4654563.09</td>\n",
       "      <td>3885434.50</td>\n",
       "      <td>3405545.76</td>\n",
       "      <td>3217854.00</td>\n",
       "      <td>5603216.55</td>\n",
       "      <td>12875350.34</td>\n",
       "    </tr>\n",
       "  </tbody>\n",
       "</table>\n",
       "</div>"
      ],
      "text/plain": [
       "      Медианное значение сборов всех фильмов  \\\n",
       "year                                           \n",
       "2010                                 1868.00   \n",
       "2011                                 3042.50   \n",
       "2012                                 6655.00   \n",
       "2013                                 3565.00   \n",
       "2014                                22490.00   \n",
       "2015                              4327265.70   \n",
       "2016                              3650260.90   \n",
       "2017                              9968340.00   \n",
       "2018                              8891102.21   \n",
       "2019                              4654563.09   \n",
       "\n",
       "      Медианное значение сборов для «0+»  Медианное значение сборов для «12+»  \\\n",
       "year                                                                            \n",
       "2010                            10980.00                              2635.00   \n",
       "2011                             6220.00                              4859.50   \n",
       "2012                            18420.00                              3685.00   \n",
       "2013                            18470.00                              2550.00   \n",
       "2014                           195810.00                              6037.50   \n",
       "2015                          2767310.60                          15144119.40   \n",
       "2016                          2804263.00                           4690635.25   \n",
       "2017                         22178956.00                           9010548.00   \n",
       "2018                          3616937.28                          10035323.33   \n",
       "2019                          3885434.50                           3405545.76   \n",
       "\n",
       "      Медианное значение сборов для «16+»  \\\n",
       "year                                        \n",
       "2010                              1000.00   \n",
       "2011                              2835.00   \n",
       "2012                              1760.00   \n",
       "2013                              3880.00   \n",
       "2014                             16730.00   \n",
       "2015                           4170454.50   \n",
       "2016                           3659719.50   \n",
       "2017                           9702077.00   \n",
       "2018                           8751895.75   \n",
       "2019                           3217854.00   \n",
       "\n",
       "      Медианное значение сборов для «18+»  Медианное значение сборов для «6+»  \n",
       "year                                                                           \n",
       "2010                              1970.00                                 NaN  \n",
       "2011                               520.00                                 NaN  \n",
       "2012                              4077.50                             8305.00  \n",
       "2013                              1600.00                             3370.00  \n",
       "2014                            429992.00                           113935.00  \n",
       "2015                           4011143.20                         20380982.20  \n",
       "2016                           5667492.65                          3698271.84  \n",
       "2017                           8212677.00                         51992103.00  \n",
       "2018                           7179466.00                         14688850.32  \n",
       "2019                           5603216.55                         12875350.34  "
      ]
     },
     "execution_count": 47,
     "metadata": {},
     "output_type": "execute_result"
    }
   ],
   "source": [
    "data_pivot_total = data.pivot_table(index='year', values = 'box_office', aggfunc = 'median').rename(columns = {'box_office': 'Медианное значение сборов всех фильмов'})\n",
    "\n",
    "for limit in list(data['age_restriction'].unique()):\n",
    "    name = limit.split('-')[0].strip()\n",
    "    data_pivot = data[data['age_restriction'] == limit].pivot_table(index='year', values = 'box_office', aggfunc = 'median').rename(columns = {'box_office': f'Медианное значение сборов для {name}'})\n",
    "    #data_pivot1 = data.pivot_table(index='year', values = 'box_office', aggfunc = 'count').rename(columns = {'box_office': 'films_with_box_info'})\n",
    "\n",
    "    data_pivot_total = data_pivot_total.merge(data_pivot, on='year', how='left')\n",
    "\n",
    "data_pivot_total.sort_index(axis=1)"
   ]
  },
  {
   "cell_type": "code",
   "execution_count": 48,
   "metadata": {
    "scrolled": false,
    "pycharm": {
     "name": "#%%\n"
    }
   },
   "outputs": [
    {
     "data": {
      "text/plain": [
       "<AxesSubplot:xlabel='year'>"
      ]
     },
     "execution_count": 48,
     "metadata": {},
     "output_type": "execute_result"
    },
    {
     "data": {
      "image/png": "[encoded data removed]",
      "text/plain": [
       "<Figure size 1080x720 with 1 Axes>"
      ]
     },
     "metadata": {
      "needs_background": "light"
     },
     "output_type": "display_data"
    }
   ],
   "source": [
    "data_pivot_total.plot(figsize = (15, 10))"
   ]
  },
  {
   "cell_type": "markdown",
   "metadata": {
    "pycharm": {
     "name": "#%% md\n"
    }
   },
   "source": [
    "C 2010 по 2013 больше всего в прокате собирали фильмы \"0+\".\n",
    "\n",
    "С 2014 по 2014, а затем с 2017 по 2019 больше всего в прокате собирали фильмы \"6+\".\n",
    "\n",
    "В 2016 году больше всего в прокате собирали фильмы \"18+\".\n",
    "\n",
    "В целом медианные кассовые сборы фильма с 2017 года начинают падать независимо от его возрастного ограничения.\n",
    "\n",
    "Изменения в структуре медианных сборов фильмов, скорее всего, связаны с \"фильмами-выбросами\": в некоторые года выходили популярные фильмы, которые искажали данные."
   ]
  },
  {
   "cell_type": "markdown",
   "metadata": {
    "pycharm": {
     "name": "#%% md\n"
    }
   },
   "source": [
    "#### Вывод"
   ]
  },
  {
   "cell_type": "markdown",
   "metadata": {
    "pycharm": {
     "name": "#%% md\n"
    }
   },
   "source": [
    "Таким образом, на данном этапе была изучена динамика выхода фильмов в зависимсоти от года, а также рассмотрены данные о прокате фильмов в кинотеатрах: их средние и медианные сборы, полнота информации, динамика проката и её зависимость от возрастного ограничения."
   ]
  },
  {
   "cell_type": "markdown",
   "metadata": {
    "id": "l_Kg6Ku4gFya",
    "pycharm": {
     "name": "#%% md\n"
    }
   },
   "source": [
    "### Шаг 4. Исследуйте фильмы, которые получили государственную поддержку\n",
    "\n",
    "На этом этапе нет конкретных инструкций и заданий — поищите интересные закономерности в данных. Посмотрите, сколько выделяют средств на поддержку кино. Проверьте, хорошо ли окупаются такие фильмы, какой у них рейтинг."
   ]
  },
  {
   "cell_type": "code",
   "execution_count": 49,
   "metadata": {
    "pycharm": {
     "name": "#%%\n"
    }
   },
   "outputs": [
    {
     "name": "stdout",
     "output_type": "stream",
     "text": [
      "Фильмы с государственной поддержкой\n"
     ]
    },
    {
     "data": {
      "text/html": [
       "<div>\n",
       "<style scoped>\n",
       "    .dataframe tbody tr th:only-of-type {\n",
       "        vertical-align: middle;\n",
       "    }\n",
       "\n",
       "    .dataframe tbody tr th {\n",
       "        vertical-align: top;\n",
       "    }\n",
       "\n",
       "    .dataframe thead th {\n",
       "        text-align: right;\n",
       "    }\n",
       "</style>\n",
       "<table border=\"1\" class=\"dataframe\">\n",
       "  <thead>\n",
       "    <tr style=\"text-align: right;\">\n",
       "      <th></th>\n",
       "      <th>box_office</th>\n",
       "      <th>budget</th>\n",
       "      <th>ratings</th>\n",
       "      <th>title</th>\n",
       "    </tr>\n",
       "    <tr>\n",
       "      <th>year</th>\n",
       "      <th></th>\n",
       "      <th></th>\n",
       "      <th></th>\n",
       "      <th></th>\n",
       "    </tr>\n",
       "  </thead>\n",
       "  <tbody>\n",
       "    <tr>\n",
       "      <th>2013</th>\n",
       "      <td>10161192.55</td>\n",
       "      <td>127717695.00</td>\n",
       "      <td>6.70</td>\n",
       "      <td>2</td>\n",
       "    </tr>\n",
       "    <tr>\n",
       "      <th>2014</th>\n",
       "      <td>5504517.85</td>\n",
       "      <td>61036441.50</td>\n",
       "      <td>6.40</td>\n",
       "      <td>16</td>\n",
       "    </tr>\n",
       "    <tr>\n",
       "      <th>2015</th>\n",
       "      <td>9200824.50</td>\n",
       "      <td>57493985.50</td>\n",
       "      <td>6.20</td>\n",
       "      <td>86</td>\n",
       "    </tr>\n",
       "    <tr>\n",
       "      <th>2016</th>\n",
       "      <td>17921115.61</td>\n",
       "      <td>69883049.00</td>\n",
       "      <td>5.80</td>\n",
       "      <td>61</td>\n",
       "    </tr>\n",
       "    <tr>\n",
       "      <th>2017</th>\n",
       "      <td>50451949.00</td>\n",
       "      <td>78096315.00</td>\n",
       "      <td>6.20</td>\n",
       "      <td>41</td>\n",
       "    </tr>\n",
       "    <tr>\n",
       "      <th>2018</th>\n",
       "      <td>27023390.31</td>\n",
       "      <td>90324563.50</td>\n",
       "      <td>6.20</td>\n",
       "      <td>56</td>\n",
       "    </tr>\n",
       "    <tr>\n",
       "      <th>2019</th>\n",
       "      <td>27853374.23</td>\n",
       "      <td>78422212.00</td>\n",
       "      <td>6.20</td>\n",
       "      <td>69</td>\n",
       "    </tr>\n",
       "  </tbody>\n",
       "</table>\n",
       "</div>"
      ],
      "text/plain": [
       "      box_office       budget  ratings  title\n",
       "year                                         \n",
       "2013 10161192.55 127717695.00     6.70      2\n",
       "2014  5504517.85  61036441.50     6.40     16\n",
       "2015  9200824.50  57493985.50     6.20     86\n",
       "2016 17921115.61  69883049.00     5.80     61\n",
       "2017 50451949.00  78096315.00     6.20     41\n",
       "2018 27023390.31  90324563.50     6.20     56\n",
       "2019 27853374.23  78422212.00     6.20     69"
      ]
     },
     "metadata": {},
     "output_type": "display_data"
    },
    {
     "name": "stdout",
     "output_type": "stream",
     "text": [
      "\n",
      "\n",
      "Фильмы без государственной поддержки\n"
     ]
    },
    {
     "data": {
      "text/html": [
       "<div>\n",
       "<style scoped>\n",
       "    .dataframe tbody tr th:only-of-type {\n",
       "        vertical-align: middle;\n",
       "    }\n",
       "\n",
       "    .dataframe tbody tr th {\n",
       "        vertical-align: top;\n",
       "    }\n",
       "\n",
       "    .dataframe thead th {\n",
       "        text-align: right;\n",
       "    }\n",
       "</style>\n",
       "<table border=\"1\" class=\"dataframe\">\n",
       "  <thead>\n",
       "    <tr style=\"text-align: right;\">\n",
       "      <th></th>\n",
       "      <th>box_office</th>\n",
       "      <th>ratings</th>\n",
       "      <th>title</th>\n",
       "    </tr>\n",
       "    <tr>\n",
       "      <th>year</th>\n",
       "      <th></th>\n",
       "      <th></th>\n",
       "      <th></th>\n",
       "    </tr>\n",
       "  </thead>\n",
       "  <tbody>\n",
       "    <tr>\n",
       "      <th>2013</th>\n",
       "      <td>3547.50</td>\n",
       "      <td>6.60</td>\n",
       "      <td>587</td>\n",
       "    </tr>\n",
       "    <tr>\n",
       "      <th>2014</th>\n",
       "      <td>17050.00</td>\n",
       "      <td>6.70</td>\n",
       "      <td>713</td>\n",
       "    </tr>\n",
       "    <tr>\n",
       "      <th>2015</th>\n",
       "      <td>4268758.50</td>\n",
       "      <td>6.50</td>\n",
       "      <td>575</td>\n",
       "    </tr>\n",
       "    <tr>\n",
       "      <th>2016</th>\n",
       "      <td>3383683.59</td>\n",
       "      <td>6.60</td>\n",
       "      <td>709</td>\n",
       "    </tr>\n",
       "    <tr>\n",
       "      <th>2017</th>\n",
       "      <td>9487367.00</td>\n",
       "      <td>6.40</td>\n",
       "      <td>459</td>\n",
       "    </tr>\n",
       "    <tr>\n",
       "      <th>2018</th>\n",
       "      <td>8292672.00</td>\n",
       "      <td>6.50</td>\n",
       "      <td>817</td>\n",
       "    </tr>\n",
       "    <tr>\n",
       "      <th>2019</th>\n",
       "      <td>4211950.20</td>\n",
       "      <td>6.50</td>\n",
       "      <td>845</td>\n",
       "    </tr>\n",
       "  </tbody>\n",
       "</table>\n",
       "</div>"
      ],
      "text/plain": [
       "      box_office  ratings  title\n",
       "year                            \n",
       "2013     3547.50     6.60    587\n",
       "2014    17050.00     6.70    713\n",
       "2015  4268758.50     6.50    575\n",
       "2016  3383683.59     6.60    709\n",
       "2017  9487367.00     6.40    459\n",
       "2018  8292672.00     6.50    817\n",
       "2019  4211950.20     6.50    845"
      ]
     },
     "metadata": {},
     "output_type": "display_data"
    }
   ],
   "source": [
    "data_pivot_gov = data[data['budget'] > 0].pivot_table(index='year', values=['budget', 'box_office','title', 'ratings'], aggfunc={'budget':'median', 'box_office':'median','title':'count', 'ratings':'median'})\n",
    "#pivot_table_gov['box_office'] = pivot_table['box_office'].apply(mod_function)\n",
    "#pivot_table_gov['budget'] = pivot_table['budget'].apply(mod_function)\n",
    "\n",
    "data_pivot_nongov = data[(data['budget'].isna())&(data['year'] >= 2013)].pivot_table(index='year', values=['budget', 'box_office','title', 'ratings'], aggfunc={'box_office':'median','title':'count', 'ratings':'median'})\n",
    "#pivot_table_nongov['box_office'] = pivot_table['box_office'].apply(mod_function)\n",
    "#pivot_table_nongov['budget'] = pivot_table['budget'].apply(mod_function)\n",
    "\n",
    "print('Фильмы с государственной поддержкой')\n",
    "display(data_pivot_gov) \n",
    "print('\\n')\n",
    "print('Фильмы без государственной поддержки')\n",
    "display(data_pivot_nongov)\n"
   ]
  },
  {
   "cell_type": "markdown",
   "metadata": {
    "pycharm": {
     "name": "#%% md\n"
    }
   },
   "source": [
    "В течение рассматриваемого периода медианная оценка фильмов с государственной поддержкой составляла примерно 6.2, однако в 2016 году медианная оценка упала до 5.8. Больше всего выходило фильмов в прокат в 2015 году.\n",
    "\n",
    "В течение всего рассматриваемого периода медианная оценка фильмов без гос. поддержки была выше фильмов с гос. поддержкой."
   ]
  },
  {
   "cell_type": "code",
   "execution_count": 50,
   "metadata": {
    "pycharm": {
     "name": "#%%\n"
    }
   },
   "outputs": [
    {
     "data": {
      "text/plain": [
       "<AxesSubplot:xlabel='year'>"
      ]
     },
     "execution_count": 50,
     "metadata": {},
     "output_type": "execute_result"
    },
    {
     "data": {
      "image/png": "[encoded data removed]",
      "text/plain": [
       "<Figure size 432x288 with 1 Axes>"
      ]
     },
     "metadata": {
      "needs_background": "light"
     },
     "output_type": "display_data"
    }
   ],
   "source": [
    "data_pivot_gov[['box_office', 'budget']].plot()"
   ]
  },
  {
   "cell_type": "markdown",
   "metadata": {
    "id": "W9QKpjUdgFyb",
    "pycharm": {
     "name": "#%% md\n"
    }
   },
   "source": [
    "Медианные кассовые сборы фильмов с гос. поддержкой росли с 2014 по 2017, а затем резко упали в 2018. Медианный бюджет фильмов постепенно рос с 2014 по 2018, но в 2019 снизился. Также видно, что в среднем фильмы с гос. поддержкой не окупаются. "
   ]
  },
  {
   "cell_type": "code",
   "execution_count": 51,
   "metadata": {
    "scrolled": false,
    "pycharm": {
     "name": "#%%\n"
    }
   },
   "outputs": [
    {
     "name": "stderr",
     "output_type": "stream",
     "text": [
      "/tmp/ipykernel_895/536927083.py:2: SettingWithCopyWarning: \n",
      "A value is trying to be set on a copy of a slice from a DataFrame.\n",
      "Try using .loc[row_indexer,col_indexer] = value instead\n",
      "\n",
      "See the caveats in the documentation: https://pandas.pydata.org/pandas-docs/stable/user_guide/indexing.html#returning-a-view-versus-a-copy\n",
      "  pivot_table['is_successful'] = pivot_table['box_office'] > pivot_table['budget']\n"
     ]
    },
    {
     "data": {
      "text/plain": [
       "<AxesSubplot:xlabel='year'>"
      ]
     },
     "execution_count": 51,
     "metadata": {},
     "output_type": "execute_result"
    },
    {
     "data": {
      "image/png": "[encoded data removed]",
      "text/plain": [
       "<Figure size 432x288 with 1 Axes>"
      ]
     },
     "metadata": {
      "needs_background": "light"
     },
     "output_type": "display_data"
    }
   ],
   "source": [
    "pivot_table = data[data['budget'] > 0]\n",
    "pivot_table['is_successful'] = pivot_table['box_office'] > pivot_table['budget']\n",
    "pivot_table = pivot_table.pivot_table(index='year', values='is_successful', aggfunc='sum')\n",
    "pivot_table.plot()"
   ]
  },
  {
   "cell_type": "markdown",
   "metadata": {
    "pycharm": {
     "name": "#%% md\n"
    }
   },
   "source": [
    "Несмотря на общую закономерность, в среднем более 11 фильмов в год с государственной поддрежкой являются успешными с точки зрения кассовых сборов. Больше всего успешных фильмов в кассовом прокате выходило в 2018 и 2015 годах. "
   ]
  },
  {
   "cell_type": "code",
   "execution_count": 52,
   "metadata": {
    "pycharm": {
     "name": "#%%\n"
    }
   },
   "outputs": [
    {
     "data": {
      "text/plain": [
       "<AxesSubplot:xlabel='year'>"
      ]
     },
     "execution_count": 52,
     "metadata": {},
     "output_type": "execute_result"
    },
    {
     "data": {
      "image/png": "[encoded data removed]",
      "text/plain": [
       "<Figure size 432x288 with 1 Axes>"
      ]
     },
     "metadata": {
      "needs_background": "light"
     },
     "output_type": "display_data"
    }
   ],
   "source": [
    "data[data['budget'] > 0].pivot_table(index='year', values=['budget', 'box_office'], aggfunc='sum').plot()"
   ]
  },
  {
   "cell_type": "markdown",
   "metadata": {
    "pycharm": {
     "name": "#%% md\n"
    }
   },
   "source": [
    "Тенденция изменения общей поддержки немного отличается от тенденции изменения бюджета фильма с гос. поддержкой: \n"
   ]
  },
  {
   "cell_type": "code",
   "execution_count": 53,
   "metadata": {
    "pycharm": {
     "name": "#%%\n"
    }
   },
   "outputs": [
    {
     "data": {
      "text/plain": [
       "<AxesSubplot:xlabel='year'>"
      ]
     },
     "execution_count": 53,
     "metadata": {},
     "output_type": "execute_result"
    },
    {
     "data": {
      "image/png": "[encoded data removed]",
      "text/plain": [
       "<Figure size 432x288 with 1 Axes>"
      ]
     },
     "metadata": {
      "needs_background": "light"
     },
     "output_type": "display_data"
    }
   ],
   "source": [
    "data_pivot = pd.DataFrame()\n",
    "data_pivot = data[data['budget'] > 0][['year', 'box_office']]\n",
    "data_pivot['total_support'] = data.loc[data['budget'] > 0, 'refundable_support'] + data.loc[data['budget'] > 0, 'nonrefundable_support']\n",
    "data_pivot.pivot_table(index='year', values=['box_office', 'total_support'], aggfunc='sum').plot()"
   ]
  },
  {
   "cell_type": "markdown",
   "metadata": {
    "pycharm": {
     "name": "#%% md\n"
    }
   },
   "source": [
    "C 2013 по 2015 наблюдается рост объема выделенных бюджетных средств, затем он немного снижается с 2015 по 2018, а затем существено увеличивается в 2019.\n",
    "\n",
    "Общие кассовые сборы фильмов с гос. поддержкой росли с 2013 по 2017, а затем начали снижаться. "
   ]
  },
  {
   "cell_type": "code",
   "execution_count": 54,
   "metadata": {
    "pycharm": {
     "name": "#%%\n"
    }
   },
   "outputs": [
    {
     "data": {
      "text/html": [
       "<div>\n",
       "<style scoped>\n",
       "    .dataframe tbody tr th:only-of-type {\n",
       "        vertical-align: middle;\n",
       "    }\n",
       "\n",
       "    .dataframe tbody tr th {\n",
       "        vertical-align: top;\n",
       "    }\n",
       "\n",
       "    .dataframe thead th {\n",
       "        text-align: right;\n",
       "    }\n",
       "</style>\n",
       "<table border=\"1\" class=\"dataframe\">\n",
       "  <thead>\n",
       "    <tr style=\"text-align: right;\">\n",
       "      <th></th>\n",
       "      <th>nonrefundable_support</th>\n",
       "      <th>refundable_support</th>\n",
       "    </tr>\n",
       "    <tr>\n",
       "      <th>year</th>\n",
       "      <th></th>\n",
       "      <th></th>\n",
       "    </tr>\n",
       "  </thead>\n",
       "  <tbody>\n",
       "    <tr>\n",
       "      <th>2013</th>\n",
       "      <td>134347945.00</td>\n",
       "      <td>0.00</td>\n",
       "    </tr>\n",
       "    <tr>\n",
       "      <th>2014</th>\n",
       "      <td>501002299.00</td>\n",
       "      <td>71000000.00</td>\n",
       "    </tr>\n",
       "    <tr>\n",
       "      <th>2015</th>\n",
       "      <td>3019088340.00</td>\n",
       "      <td>637153119.00</td>\n",
       "    </tr>\n",
       "    <tr>\n",
       "      <th>2016</th>\n",
       "      <td>3381655482.00</td>\n",
       "      <td>921500000.00</td>\n",
       "    </tr>\n",
       "    <tr>\n",
       "      <th>2017</th>\n",
       "      <td>2464624781.00</td>\n",
       "      <td>719346881.00</td>\n",
       "    </tr>\n",
       "    <tr>\n",
       "      <th>2018</th>\n",
       "      <td>2784969465.00</td>\n",
       "      <td>662000000.00</td>\n",
       "    </tr>\n",
       "    <tr>\n",
       "      <th>2019</th>\n",
       "      <td>3946000000.00</td>\n",
       "      <td>928000000.00</td>\n",
       "    </tr>\n",
       "  </tbody>\n",
       "</table>\n",
       "</div>"
      ],
      "text/plain": [
       "      nonrefundable_support  refundable_support\n",
       "year                                           \n",
       "2013           134347945.00                0.00\n",
       "2014           501002299.00         71000000.00\n",
       "2015          3019088340.00        637153119.00\n",
       "2016          3381655482.00        921500000.00\n",
       "2017          2464624781.00        719346881.00\n",
       "2018          2784969465.00        662000000.00\n",
       "2019          3946000000.00        928000000.00"
      ]
     },
     "execution_count": 54,
     "metadata": {},
     "output_type": "execute_result"
    }
   ],
   "source": [
    "pivot_table = data[data['budget'] > 0].pivot_table(index='year', values=['refundable_support', 'nonrefundable_support'], aggfunc='sum')\n",
    "pivot_table"
   ]
  },
  {
   "cell_type": "code",
   "execution_count": 55,
   "metadata": {
    "scrolled": true,
    "pycharm": {
     "name": "#%%\n"
    }
   },
   "outputs": [
    {
     "data": {
      "text/plain": [
       "<AxesSubplot:xlabel='year'>"
      ]
     },
     "execution_count": 55,
     "metadata": {},
     "output_type": "execute_result"
    },
    {
     "data": {
      "image/png": "[encoded data removed]",
      "text/plain": [
       "<Figure size 432x288 with 1 Axes>"
      ]
     },
     "metadata": {
      "needs_background": "light"
     },
     "output_type": "display_data"
    }
   ],
   "source": [
    "pivot_table.plot()"
   ]
  },
  {
   "cell_type": "markdown",
   "metadata": {
    "pycharm": {
     "name": "#%% md\n"
    }
   },
   "source": [
    "На представленном графике видно, что государство больше всего выделяет невозвратных средств. Их объем резко вырос с 2013 по 2016, затем уменьшился в 2017 и снова начал расти. \n",
    "\n",
    "Объем выделеных возвратных средств рос с 2013 по 2016, затем с 2016 по 2018 уменьшалса, а в 2019 снова начал расти. "
   ]
  },
  {
   "cell_type": "code",
   "execution_count": 56,
   "metadata": {
    "pycharm": {
     "name": "#%%\n"
    }
   },
   "outputs": [
    {
     "data": {
      "text/plain": [
       "драма         93\n",
       "комедия       74\n",
       "мультфильм    31\n",
       "триллер       15\n",
       "мелодрама     15\n",
       "фантастика    11\n",
       "фэнтези       10\n",
       "ужасы         10\n",
       "военный        9\n",
       "семейный       7\n",
       "Name: main_genre, dtype: int64"
      ]
     },
     "execution_count": 56,
     "metadata": {},
     "output_type": "execute_result"
    }
   ],
   "source": [
    "data[data['budget'] > 0]['main_genre'].value_counts().head(10)"
   ]
  },
  {
   "cell_type": "markdown",
   "metadata": {
    "pycharm": {
     "name": "#%% md\n"
    }
   },
   "source": [
    "За рассматриваемый период больше всего государство выделило денег на драматические фильмы, чуть меньше на комедии, ещё меньше на мультфильмы и прочие жанры."
   ]
  },
  {
   "cell_type": "code",
   "execution_count": 57,
   "metadata": {
    "pycharm": {
     "name": "#%%\n"
    }
   },
   "outputs": [
    {
     "data": {
      "text/plain": [
       "«16+» - для детей старше 16 лет           124\n",
       "«12+» - для детей старше 12 лет           106\n",
       "«6+» - для детей старше 6 лет              65\n",
       "«18+» - запрещено для детей                28\n",
       "«0+» - для любой зрительской аудитории      8\n",
       "Name: age_restriction, dtype: int64"
      ]
     },
     "execution_count": 57,
     "metadata": {},
     "output_type": "execute_result"
    }
   ],
   "source": [
    "data[data['budget'] > 0]['age_restriction'].value_counts()"
   ]
  },
  {
   "cell_type": "markdown",
   "metadata": {
    "pycharm": {
     "name": "#%% md\n"
    }
   },
   "source": [
    "В течение рассматриваемого периода государство больше всего выделяло деньги на фильмы 16+ и чуть меньше на 12+. "
   ]
  },
  {
   "cell_type": "code",
   "execution_count": 58,
   "metadata": {
    "scrolled": true,
    "pycharm": {
     "name": "#%%\n"
    }
   },
   "outputs": [
    {
     "data": {
      "text/plain": [
       "Р.Давлетьяров    5\n",
       "С.Андреасян      4\n",
       "Д.Дьяченко       4\n",
       "Д.Шмидт          3\n",
       "А.Цицилин        3\n",
       "Name: main_director, dtype: int64"
      ]
     },
     "execution_count": 58,
     "metadata": {},
     "output_type": "execute_result"
    }
   ],
   "source": [
    "data[data['budget'] > 0]['main_director'].value_counts().head()"
   ]
  },
  {
   "cell_type": "markdown",
   "metadata": {
    "pycharm": {
     "name": "#%% md\n"
    }
   },
   "source": [
    "Самыми популярными главными режисерами фильмов с государственной поддержкой являются Р.Давлетьяров, С.Андреасян, Д.Дьяченко, А.Аксененко и К.Шипенко."
   ]
  },
  {
   "cell_type": "code",
   "execution_count": 59,
   "metadata": {
    "pycharm": {
     "name": "#%%\n"
    }
   },
   "outputs": [
    {
     "data": {
      "text/plain": [
       "<AxesSubplot:ylabel='financing_source'>"
      ]
     },
     "execution_count": 59,
     "metadata": {},
     "output_type": "execute_result"
    },
    {
     "data": {
      "image/png": "[encoded data removed]",
      "text/plain": [
       "<Figure size 1080x720 with 1 Axes>"
      ]
     },
     "metadata": {},
     "output_type": "display_data"
    }
   ],
   "source": [
    "data[data['budget'] > 0]['financing_source'].value_counts().plot(kind='pie', table=True, figsize=(15,10))"
   ]
  },
  {
   "cell_type": "markdown",
   "metadata": {
    "pycharm": {
     "name": "#%% md\n"
    }
   },
   "source": [
    "Больше всего фильмов спонсируются Министерством культуры, чуть меньше фильмов спонсируются Фондом кино."
   ]
  },
  {
   "cell_type": "markdown",
   "metadata": {
    "pycharm": {
     "name": "#%% md\n"
    }
   },
   "source": [
    "#### Вывод"
   ]
  },
  {
   "cell_type": "markdown",
   "metadata": {
    "pycharm": {
     "name": "#%% md\n"
    }
   },
   "source": [
    "Таким образом, на данном этапе был проведен поиск закономерностей в данных о фильмах с государственной поддержкой. Были изучены их общие и медианные сборы и бюджет, динамика успешности фильмов и их кассовых сборов, а также распределение возвратных и невозвратных средств. Кроме этого были рассмотрены жанры и возрастные ограничения фильмов с государственной поддержкой, их главные режиссёры и источник государственного финансирования. "
   ]
  },
  {
   "cell_type": "markdown",
   "metadata": {
    "id": "V2gYwMcPgFyd",
    "pycharm": {
     "name": "#%% md\n"
    }
   },
   "source": [
    "### Шаг 5. Напишите общий вывод"
   ]
  },
  {
   "cell_type": "markdown",
   "metadata": {
    "id": "AYRg3dzXgFye",
    "pycharm": {
     "name": "#%% md\n"
    }
   },
   "source": [
    "Опираясь на полученные результаты исследования, можно сделать следующие практически применимые выводы:\n",
    "* В течение рассматриваемого периода медианная оценка фильмов с государственной поддержкой составляла примерно 6.2, однако в 2016 году медианная оценка упала до 5.8.\n",
    "* Больше всего фильмов с государственной поддержкой выходило в прокат в 2015 году.\n",
    "* В течение всего рассматриваемого периода медианная оценка фильмов без гос. поддержки была выше фильмов с гос. поддержкой.\n",
    "* Медианные кассовые сборы фильмов с гос. поддержкой росли с 2014 по 2017, а затем резко упали в 2018. Медианный бюджет фильмов постепенно рос с 2014 по 2018, но в 2019 снизился.\n",
    "* Большинство фильмов с гос. поддержкой не окупаются, однако более 11 фильмов в год являются успешными с точки зрения кассовых сборов. Больше всего успешных фильмов в кассовом прокате выходило в 2018 и 2015 годах.\n",
    "* C 2013 по 2015 наблюдается рост объема выделенных бюджетных средств, затем он немного снижается с 2015 по 2018, а затем существено увеличивается в 2019.\n",
    "* Общие кассовые сборы фильмов с гос. поддержкой росли с 2013 по 2017, а затем начали снижаться.\n",
    "* В структуре выделенных бюджетных средств доминируют средства на невозвратной основе. Их объем резко вырос с 2013 по 2016, затем уменьшился в 2017 и снова начал расти.\n",
    "* Объем выделеных возвратных средств рос с 2013 по 2016, затем с 2016 по 2018 уменьшался, а в 2019 снова начал расти.\n",
    "\n",
    "В целом можно сказать, что фильмы с государственной поддержкой в среднем нравятся зрителю, однако чаще всего такие фильмы не являются коммерчески успешными. "
   ]
  }
 ],
 "metadata": {
  "ExecuteTimeLog": [
   {
    "duration": 537,
    "start_time": "2021-07-07T10:12:08.634Z"
   },
   {
    "duration": 206,
    "start_time": "2021-07-07T10:12:30.191Z"
   },
   {
    "duration": 227,
    "start_time": "2021-07-07T10:12:33.078Z"
   },
   {
    "duration": 153,
    "start_time": "2021-07-07T10:13:42.146Z"
   },
   {
    "duration": 233,
    "start_time": "2021-07-07T10:30:09.252Z"
   },
   {
    "duration": 19,
    "start_time": "2021-07-07T10:30:15.577Z"
   },
   {
    "duration": 18,
    "start_time": "2021-07-07T10:30:57.348Z"
   },
   {
    "duration": 19,
    "start_time": "2021-07-07T10:31:17.452Z"
   },
   {
    "duration": 21,
    "start_time": "2021-07-07T10:31:32.227Z"
   },
   {
    "duration": 27,
    "start_time": "2021-07-07T10:32:06.588Z"
   },
   {
    "duration": 23,
    "start_time": "2021-07-07T10:32:43.645Z"
   },
   {
    "duration": 24,
    "start_time": "2021-07-07T10:33:06.948Z"
   },
   {
    "duration": 7,
    "start_time": "2021-07-07T10:33:28.558Z"
   },
   {
    "duration": 23,
    "start_time": "2021-07-07T10:33:43.761Z"
   },
   {
    "duration": 28,
    "start_time": "2021-07-07T10:34:13.466Z"
   },
   {
    "duration": 23,
    "start_time": "2021-07-07T10:35:56.187Z"
   },
   {
    "duration": 6,
    "start_time": "2021-07-07T10:36:48.182Z"
   },
   {
    "duration": 14,
    "start_time": "2021-07-07T10:37:49.641Z"
   },
   {
    "duration": 6,
    "start_time": "2021-07-07T10:38:06.694Z"
   },
   {
    "duration": 6,
    "start_time": "2021-07-07T10:38:13.493Z"
   },
   {
    "duration": 19,
    "start_time": "2021-07-07T10:38:44.056Z"
   },
   {
    "duration": 186,
    "start_time": "2021-07-07T10:48:35.618Z"
   },
   {
    "duration": 24,
    "start_time": "2021-07-07T10:48:51.498Z"
   },
   {
    "duration": 20,
    "start_time": "2021-07-07T10:48:59.415Z"
   },
   {
    "duration": 20,
    "start_time": "2021-07-07T10:53:02.195Z"
   },
   {
    "duration": 188,
    "start_time": "2021-07-07T10:54:40.486Z"
   },
   {
    "duration": 115,
    "start_time": "2021-07-07T10:54:52.552Z"
   },
   {
    "duration": 214,
    "start_time": "2021-07-07T10:54:56.354Z"
   },
   {
    "duration": 47,
    "start_time": "2021-07-07T10:54:58.282Z"
   },
   {
    "duration": 217,
    "start_time": "2021-07-07T10:59:16.075Z"
   },
   {
    "duration": 51,
    "start_time": "2021-07-07T10:59:16.243Z"
   },
   {
    "duration": 578,
    "start_time": "2021-07-07T10:59:18.774Z"
   },
   {
    "duration": 161,
    "start_time": "2021-07-07T10:59:21.238Z"
   },
   {
    "duration": 59,
    "start_time": "2021-07-07T10:59:21.453Z"
   },
   {
    "duration": 3,
    "start_time": "2021-07-07T11:02:10.786Z"
   },
   {
    "duration": 13,
    "start_time": "2021-07-07T11:07:07.722Z"
   },
   {
    "duration": 26,
    "start_time": "2021-07-07T11:07:17.958Z"
   },
   {
    "duration": 22,
    "start_time": "2021-07-07T11:08:17.939Z"
   },
   {
    "duration": 212,
    "start_time": "2021-07-07T11:08:19.665Z"
   },
   {
    "duration": 21,
    "start_time": "2021-07-07T11:08:29.945Z"
   },
   {
    "duration": 31,
    "start_time": "2021-07-07T11:08:38.899Z"
   },
   {
    "duration": 23,
    "start_time": "2021-07-07T11:08:54.527Z"
   },
   {
    "duration": 8,
    "start_time": "2021-07-07T11:18:55.974Z"
   },
   {
    "duration": 7,
    "start_time": "2021-07-07T11:19:03.639Z"
   },
   {
    "duration": 7,
    "start_time": "2021-07-07T11:19:06.444Z"
   },
   {
    "duration": 578,
    "start_time": "2021-07-07T12:09:59.576Z"
   },
   {
    "duration": 195,
    "start_time": "2021-07-07T12:10:00.156Z"
   },
   {
    "duration": 115,
    "start_time": "2021-07-07T12:10:00.353Z"
   },
   {
    "duration": 3,
    "start_time": "2021-07-07T12:10:00.470Z"
   },
   {
    "duration": 32,
    "start_time": "2021-07-07T12:10:00.474Z"
   },
   {
    "duration": 23,
    "start_time": "2021-07-07T12:10:00.508Z"
   },
   {
    "duration": 19,
    "start_time": "2021-07-07T12:10:00.533Z"
   },
   {
    "duration": 44,
    "start_time": "2021-07-07T12:10:00.553Z"
   },
   {
    "duration": 7,
    "start_time": "2021-07-07T12:10:00.600Z"
   },
   {
    "duration": 7,
    "start_time": "2021-07-07T12:19:45.761Z"
   },
   {
    "duration": 21,
    "start_time": "2021-07-07T12:21:35.482Z"
   },
   {
    "duration": 21,
    "start_time": "2021-07-07T12:29:23.569Z"
   },
   {
    "duration": 525,
    "start_time": "2021-07-07T12:29:44.542Z"
   },
   {
    "duration": 214,
    "start_time": "2021-07-07T12:29:45.069Z"
   },
   {
    "duration": 92,
    "start_time": "2021-07-07T12:29:45.285Z"
   },
   {
    "duration": 3,
    "start_time": "2021-07-07T12:29:45.379Z"
   },
   {
    "duration": 28,
    "start_time": "2021-07-07T12:29:45.384Z"
   },
   {
    "duration": 23,
    "start_time": "2021-07-07T12:29:45.413Z"
   },
   {
    "duration": 21,
    "start_time": "2021-07-07T12:29:45.437Z"
   },
   {
    "duration": 41,
    "start_time": "2021-07-07T12:29:45.460Z"
   },
   {
    "duration": 7,
    "start_time": "2021-07-07T12:29:45.502Z"
   },
   {
    "duration": 20,
    "start_time": "2021-07-07T12:29:45.511Z"
   },
   {
    "duration": 12,
    "start_time": "2021-07-07T12:34:02.800Z"
   },
   {
    "duration": 7,
    "start_time": "2021-07-07T12:35:10.479Z"
   },
   {
    "duration": 8,
    "start_time": "2021-07-07T12:35:22.440Z"
   },
   {
    "duration": 6,
    "start_time": "2021-07-07T12:35:35.649Z"
   },
   {
    "duration": 6,
    "start_time": "2021-07-07T12:35:43.107Z"
   },
   {
    "duration": 22,
    "start_time": "2021-07-07T12:38:03.029Z"
   },
   {
    "duration": 10,
    "start_time": "2021-07-07T12:38:06.592Z"
   },
   {
    "duration": 563,
    "start_time": "2021-07-07T12:38:46.493Z"
   },
   {
    "duration": 265,
    "start_time": "2021-07-07T12:38:47.058Z"
   },
   {
    "duration": 94,
    "start_time": "2021-07-07T12:38:47.325Z"
   },
   {
    "duration": 3,
    "start_time": "2021-07-07T12:38:47.422Z"
   },
   {
    "duration": 30,
    "start_time": "2021-07-07T12:38:47.427Z"
   },
   {
    "duration": 16,
    "start_time": "2021-07-07T12:38:53.305Z"
   },
   {
    "duration": 10,
    "start_time": "2021-07-07T12:38:53.499Z"
   },
   {
    "duration": 8,
    "start_time": "2021-07-07T12:39:48.161Z"
   },
   {
    "duration": 27,
    "start_time": "2021-07-07T12:41:17.629Z"
   },
   {
    "duration": 17,
    "start_time": "2021-07-07T12:41:17.867Z"
   },
   {
    "duration": 21,
    "start_time": "2021-07-07T12:41:19.310Z"
   },
   {
    "duration": 7,
    "start_time": "2021-07-07T12:41:19.544Z"
   },
   {
    "duration": 20,
    "start_time": "2021-07-07T12:41:20.504Z"
   },
   {
    "duration": 554,
    "start_time": "2021-07-07T12:56:23.696Z"
   },
   {
    "duration": 200,
    "start_time": "2021-07-07T12:56:25.234Z"
   },
   {
    "duration": 119,
    "start_time": "2021-07-07T12:56:25.480Z"
   },
   {
    "duration": 4,
    "start_time": "2021-07-07T12:56:25.762Z"
   },
   {
    "duration": 26,
    "start_time": "2021-07-07T12:56:27.172Z"
   },
   {
    "duration": 12,
    "start_time": "2021-07-07T12:56:29.051Z"
   },
   {
    "duration": 10,
    "start_time": "2021-07-07T12:56:29.291Z"
   },
   {
    "duration": 8,
    "start_time": "2021-07-07T12:56:29.623Z"
   },
   {
    "duration": 28,
    "start_time": "2021-07-07T12:56:32.137Z"
   },
   {
    "duration": 19,
    "start_time": "2021-07-07T12:56:39.785Z"
   },
   {
    "duration": 20,
    "start_time": "2021-07-07T12:56:44.297Z"
   },
   {
    "duration": 7,
    "start_time": "2021-07-07T12:56:45.392Z"
   },
   {
    "duration": 23,
    "start_time": "2021-07-07T12:56:46.615Z"
   },
   {
    "duration": 4,
    "start_time": "2021-07-07T12:57:06.625Z"
   },
   {
    "duration": 32,
    "start_time": "2021-07-07T12:57:36.690Z"
   },
   {
    "duration": 18,
    "start_time": "2021-07-07T12:58:00.149Z"
   },
   {
    "duration": 15,
    "start_time": "2021-07-07T12:59:16.793Z"
   },
   {
    "duration": 7,
    "start_time": "2021-07-07T13:19:22.624Z"
   },
   {
    "duration": 6,
    "start_time": "2021-07-07T14:17:33.527Z"
   },
   {
    "duration": 9,
    "start_time": "2021-07-07T14:17:48.409Z"
   },
   {
    "duration": 8,
    "start_time": "2021-07-07T14:20:13.060Z"
   },
   {
    "duration": 8,
    "start_time": "2021-07-07T14:20:37.957Z"
   },
   {
    "duration": 8,
    "start_time": "2021-07-07T14:20:47.470Z"
   },
   {
    "duration": 9,
    "start_time": "2021-07-07T14:20:54.503Z"
   },
   {
    "duration": 10,
    "start_time": "2021-07-07T14:28:57.763Z"
   },
   {
    "duration": 3,
    "start_time": "2021-07-07T14:30:23.377Z"
   },
   {
    "duration": 3,
    "start_time": "2021-07-07T14:30:36.489Z"
   },
   {
    "duration": 103,
    "start_time": "2021-07-07T14:30:52.351Z"
   },
   {
    "duration": 8,
    "start_time": "2021-07-07T14:30:54.763Z"
   },
   {
    "duration": 8,
    "start_time": "2021-07-07T14:31:29.301Z"
   },
   {
    "duration": 13,
    "start_time": "2021-07-07T14:31:44.516Z"
   },
   {
    "duration": 7,
    "start_time": "2021-07-07T14:33:10.972Z"
   },
   {
    "duration": 11,
    "start_time": "2021-07-07T14:33:27.780Z"
   },
   {
    "duration": 8,
    "start_time": "2021-07-07T14:34:44.588Z"
   },
   {
    "duration": 57,
    "start_time": "2021-07-07T14:35:59.042Z"
   },
   {
    "duration": 3,
    "start_time": "2021-07-07T14:36:28.168Z"
   },
   {
    "duration": 5,
    "start_time": "2021-07-07T14:36:46.254Z"
   },
   {
    "duration": 4,
    "start_time": "2021-07-07T14:36:52.714Z"
   },
   {
    "duration": 3,
    "start_time": "2021-07-07T14:36:56.612Z"
   },
   {
    "duration": 4,
    "start_time": "2021-07-07T14:36:57.049Z"
   },
   {
    "duration": 3,
    "start_time": "2021-07-07T14:39:21.214Z"
   },
   {
    "duration": 7,
    "start_time": "2021-07-07T14:39:52.406Z"
   },
   {
    "duration": 11,
    "start_time": "2021-07-07T14:39:58.576Z"
   },
   {
    "duration": 9,
    "start_time": "2021-07-07T14:40:26.301Z"
   },
   {
    "duration": 10,
    "start_time": "2021-07-07T14:40:31.704Z"
   },
   {
    "duration": 11,
    "start_time": "2021-07-07T14:40:36.249Z"
   },
   {
    "duration": 10,
    "start_time": "2021-07-07T14:40:39.783Z"
   },
   {
    "duration": 9,
    "start_time": "2021-07-07T14:40:48.558Z"
   },
   {
    "duration": 10,
    "start_time": "2021-07-07T14:40:57.143Z"
   },
   {
    "duration": 9,
    "start_time": "2021-07-07T14:41:06.074Z"
   },
   {
    "duration": 4324,
    "start_time": "2021-07-07T14:41:22.004Z"
   },
   {
    "duration": 11,
    "start_time": "2021-07-07T14:41:33.392Z"
   },
   {
    "duration": 9,
    "start_time": "2021-07-07T14:41:39.288Z"
   },
   {
    "duration": 569,
    "start_time": "2021-07-07T14:42:14.387Z"
   },
   {
    "duration": 197,
    "start_time": "2021-07-07T14:42:14.959Z"
   },
   {
    "duration": 84,
    "start_time": "2021-07-07T14:42:16.052Z"
   },
   {
    "duration": 4,
    "start_time": "2021-07-07T14:42:16.900Z"
   },
   {
    "duration": 27,
    "start_time": "2021-07-07T14:42:19.898Z"
   },
   {
    "duration": 12,
    "start_time": "2021-07-07T14:42:21.577Z"
   },
   {
    "duration": 9,
    "start_time": "2021-07-07T14:42:21.813Z"
   },
   {
    "duration": 9,
    "start_time": "2021-07-07T14:42:22.569Z"
   },
   {
    "duration": 29,
    "start_time": "2021-07-07T14:42:25.837Z"
   },
   {
    "duration": 20,
    "start_time": "2021-07-07T14:42:27.003Z"
   },
   {
    "duration": 21,
    "start_time": "2021-07-07T14:42:28.767Z"
   },
   {
    "duration": 7,
    "start_time": "2021-07-07T14:42:29.838Z"
   },
   {
    "duration": 4,
    "start_time": "2021-07-07T14:43:25.493Z"
   },
   {
    "duration": 7,
    "start_time": "2021-07-07T14:43:26.573Z"
   },
   {
    "duration": 10,
    "start_time": "2021-07-07T14:43:31.639Z"
   },
   {
    "duration": 9,
    "start_time": "2021-07-07T14:43:32.046Z"
   },
   {
    "duration": 10,
    "start_time": "2021-07-07T14:43:33.301Z"
   },
   {
    "duration": 12,
    "start_time": "2021-07-07T14:43:33.658Z"
   },
   {
    "duration": 8,
    "start_time": "2021-07-07T14:43:34.552Z"
   },
   {
    "duration": 9,
    "start_time": "2021-07-07T14:43:35.058Z"
   },
   {
    "duration": 12,
    "start_time": "2021-07-07T14:43:35.914Z"
   },
   {
    "duration": 17,
    "start_time": "2021-07-07T14:45:34.368Z"
   },
   {
    "duration": 512,
    "start_time": "2021-07-07T14:51:58.236Z"
   },
   {
    "duration": 223,
    "start_time": "2021-07-07T14:51:58.750Z"
   },
   {
    "duration": 93,
    "start_time": "2021-07-07T14:51:58.977Z"
   },
   {
    "duration": 4,
    "start_time": "2021-07-07T14:51:59.071Z"
   },
   {
    "duration": 37,
    "start_time": "2021-07-07T14:51:59.077Z"
   },
   {
    "duration": 18,
    "start_time": "2021-07-07T14:51:59.116Z"
   },
   {
    "duration": 10,
    "start_time": "2021-07-07T14:51:59.137Z"
   },
   {
    "duration": 8,
    "start_time": "2021-07-07T14:51:59.149Z"
   },
   {
    "duration": 54,
    "start_time": "2021-07-07T14:51:59.158Z"
   },
   {
    "duration": 18,
    "start_time": "2021-07-07T14:51:59.213Z"
   },
   {
    "duration": 22,
    "start_time": "2021-07-07T14:51:59.232Z"
   },
   {
    "duration": 36,
    "start_time": "2021-07-07T14:51:59.255Z"
   },
   {
    "duration": 7,
    "start_time": "2021-07-07T14:51:59.293Z"
   },
   {
    "duration": 10,
    "start_time": "2021-07-07T14:51:59.302Z"
   },
   {
    "duration": 9,
    "start_time": "2021-07-07T14:51:59.313Z"
   },
   {
    "duration": 11,
    "start_time": "2021-07-07T14:51:59.324Z"
   },
   {
    "duration": 8,
    "start_time": "2021-07-07T14:51:59.337Z"
   },
   {
    "duration": 46,
    "start_time": "2021-07-07T14:51:59.347Z"
   },
   {
    "duration": 22,
    "start_time": "2021-07-07T14:51:59.395Z"
   },
   {
    "duration": 24,
    "start_time": "2021-07-07T14:57:32.911Z"
   },
   {
    "duration": 7,
    "start_time": "2021-07-07T14:58:22.070Z"
   },
   {
    "duration": 4,
    "start_time": "2021-07-07T14:59:11.239Z"
   },
   {
    "duration": 25,
    "start_time": "2021-07-07T15:07:22.208Z"
   },
   {
    "duration": 16,
    "start_time": "2021-07-07T15:08:25.560Z"
   },
   {
    "duration": 15,
    "start_time": "2021-07-07T15:08:40.647Z"
   },
   {
    "duration": 14,
    "start_time": "2021-07-07T15:08:46.669Z"
   },
   {
    "duration": 533,
    "start_time": "2021-07-07T15:18:07.440Z"
   },
   {
    "duration": 173,
    "start_time": "2021-07-07T15:18:07.974Z"
   },
   {
    "duration": 84,
    "start_time": "2021-07-07T15:18:08.149Z"
   },
   {
    "duration": 3,
    "start_time": "2021-07-07T15:18:08.235Z"
   },
   {
    "duration": 30,
    "start_time": "2021-07-07T15:18:08.240Z"
   },
   {
    "duration": 22,
    "start_time": "2021-07-07T15:18:08.272Z"
   },
   {
    "duration": 11,
    "start_time": "2021-07-07T15:18:08.295Z"
   },
   {
    "duration": 11,
    "start_time": "2021-07-07T15:18:08.309Z"
   },
   {
    "duration": 40,
    "start_time": "2021-07-07T15:18:08.322Z"
   },
   {
    "duration": 42,
    "start_time": "2021-07-07T15:18:08.364Z"
   },
   {
    "duration": 22,
    "start_time": "2021-07-07T15:18:08.408Z"
   },
   {
    "duration": 5,
    "start_time": "2021-07-07T15:18:08.432Z"
   },
   {
    "duration": 13,
    "start_time": "2021-07-07T15:18:08.439Z"
   },
   {
    "duration": 9,
    "start_time": "2021-07-07T15:18:08.454Z"
   },
   {
    "duration": 32,
    "start_time": "2021-07-07T15:18:08.465Z"
   },
   {
    "duration": 10,
    "start_time": "2021-07-07T15:18:08.501Z"
   },
   {
    "duration": 7,
    "start_time": "2021-07-07T15:18:08.513Z"
   },
   {
    "duration": 11,
    "start_time": "2021-07-07T15:18:08.521Z"
   },
   {
    "duration": 17,
    "start_time": "2021-07-07T15:18:08.534Z"
   },
   {
    "duration": 44,
    "start_time": "2021-07-07T15:18:08.553Z"
   },
   {
    "duration": 22,
    "start_time": "2021-07-07T15:18:08.599Z"
   },
   {
    "duration": 61,
    "start_time": "2021-07-07T15:18:08.622Z"
   },
   {
    "duration": 7,
    "start_time": "2021-07-07T15:18:39.457Z"
   },
   {
    "duration": 5,
    "start_time": "2021-07-07T16:05:17.020Z"
   },
   {
    "duration": 5,
    "start_time": "2021-07-07T16:51:28.794Z"
   },
   {
    "duration": 546,
    "start_time": "2021-07-07T16:52:26.306Z"
   },
   {
    "duration": 203,
    "start_time": "2021-07-07T16:52:27.523Z"
   },
   {
    "duration": 85,
    "start_time": "2021-07-07T16:52:27.736Z"
   },
   {
    "duration": 4,
    "start_time": "2021-07-07T16:52:27.899Z"
   },
   {
    "duration": 25,
    "start_time": "2021-07-07T16:52:28.674Z"
   },
   {
    "duration": 8,
    "start_time": "2021-07-07T16:52:32.956Z"
   },
   {
    "duration": 18,
    "start_time": "2021-07-07T16:52:35.616Z"
   },
   {
    "duration": 6,
    "start_time": "2021-07-07T16:52:36.913Z"
   },
   {
    "duration": 11,
    "start_time": "2021-07-07T16:52:40.258Z"
   },
   {
    "duration": 10,
    "start_time": "2021-07-07T16:52:46.251Z"
   },
   {
    "duration": 8,
    "start_time": "2021-07-07T16:52:47.182Z"
   },
   {
    "duration": 27,
    "start_time": "2021-07-07T16:53:20.391Z"
   },
   {
    "duration": 20,
    "start_time": "2021-07-07T16:53:22.022Z"
   },
   {
    "duration": 23,
    "start_time": "2021-07-07T16:53:23.690Z"
   },
   {
    "duration": 8,
    "start_time": "2021-07-07T16:53:24.261Z"
   },
   {
    "duration": 4,
    "start_time": "2021-07-07T16:53:38.733Z"
   },
   {
    "duration": 7,
    "start_time": "2021-07-07T16:53:40.445Z"
   },
   {
    "duration": 11,
    "start_time": "2021-07-07T16:53:41.348Z"
   },
   {
    "duration": 13,
    "start_time": "2021-07-07T16:53:45.250Z"
   },
   {
    "duration": 12,
    "start_time": "2021-07-07T16:53:45.467Z"
   },
   {
    "duration": 4,
    "start_time": "2021-07-07T16:55:32.704Z"
   },
   {
    "duration": 12,
    "start_time": "2021-07-07T16:55:49.012Z"
   },
   {
    "duration": 18,
    "start_time": "2021-07-07T16:55:49.547Z"
   },
   {
    "duration": 611,
    "start_time": "2021-07-07T16:58:35.156Z"
   },
   {
    "duration": 200,
    "start_time": "2021-07-07T16:58:35.770Z"
   },
   {
    "duration": 86,
    "start_time": "2021-07-07T16:58:35.972Z"
   },
   {
    "duration": 3,
    "start_time": "2021-07-07T16:58:36.060Z"
   },
   {
    "duration": 27,
    "start_time": "2021-07-07T16:58:36.065Z"
   },
   {
    "duration": 8,
    "start_time": "2021-07-07T16:58:36.094Z"
   },
   {
    "duration": 17,
    "start_time": "2021-07-07T16:58:36.103Z"
   },
   {
    "duration": 5,
    "start_time": "2021-07-07T16:58:36.123Z"
   },
   {
    "duration": 11,
    "start_time": "2021-07-07T16:58:36.130Z"
   },
   {
    "duration": 7,
    "start_time": "2021-07-07T16:58:36.143Z"
   },
   {
    "duration": 37,
    "start_time": "2021-07-07T16:58:36.152Z"
   },
   {
    "duration": 27,
    "start_time": "2021-07-07T16:58:36.191Z"
   },
   {
    "duration": 19,
    "start_time": "2021-07-07T16:58:36.219Z"
   },
   {
    "duration": 49,
    "start_time": "2021-07-07T16:58:36.240Z"
   },
   {
    "duration": 6,
    "start_time": "2021-07-07T16:58:36.291Z"
   },
   {
    "duration": 3,
    "start_time": "2021-07-07T16:58:36.299Z"
   },
   {
    "duration": 13,
    "start_time": "2021-07-07T16:58:36.304Z"
   },
   {
    "duration": 10,
    "start_time": "2021-07-07T16:58:36.319Z"
   },
   {
    "duration": 10,
    "start_time": "2021-07-07T16:58:36.331Z"
   },
   {
    "duration": 44,
    "start_time": "2021-07-07T16:58:36.343Z"
   },
   {
    "duration": 4,
    "start_time": "2021-07-07T16:58:36.388Z"
   },
   {
    "duration": 13,
    "start_time": "2021-07-07T16:58:36.394Z"
   },
   {
    "duration": 16,
    "start_time": "2021-07-07T16:58:36.410Z"
   },
   {
    "duration": 8,
    "start_time": "2021-07-07T17:02:31.629Z"
   },
   {
    "duration": 8,
    "start_time": "2021-07-07T17:02:34.308Z"
   },
   {
    "duration": 6,
    "start_time": "2021-07-07T17:05:13.483Z"
   },
   {
    "duration": 17,
    "start_time": "2021-07-07T17:05:20.606Z"
   },
   {
    "duration": 7,
    "start_time": "2021-07-07T17:05:34.638Z"
   },
   {
    "duration": 3,
    "start_time": "2021-07-07T17:06:31.883Z"
   },
   {
    "duration": 570,
    "start_time": "2021-07-07T17:06:37.165Z"
   },
   {
    "duration": 174,
    "start_time": "2021-07-07T17:06:37.737Z"
   },
   {
    "duration": 47,
    "start_time": "2021-07-07T17:06:37.913Z"
   },
   {
    "duration": 3,
    "start_time": "2021-07-07T17:06:37.962Z"
   },
   {
    "duration": 27,
    "start_time": "2021-07-07T17:06:37.967Z"
   },
   {
    "duration": 7,
    "start_time": "2021-07-07T17:06:37.996Z"
   },
   {
    "duration": 16,
    "start_time": "2021-07-07T17:06:38.005Z"
   },
   {
    "duration": 6,
    "start_time": "2021-07-07T17:06:38.024Z"
   },
   {
    "duration": 12,
    "start_time": "2021-07-07T17:06:38.031Z"
   },
   {
    "duration": 41,
    "start_time": "2021-07-07T17:06:38.045Z"
   },
   {
    "duration": 8,
    "start_time": "2021-07-07T17:06:38.088Z"
   },
   {
    "duration": 26,
    "start_time": "2021-07-07T17:06:38.098Z"
   },
   {
    "duration": 17,
    "start_time": "2021-07-07T17:06:38.126Z"
   },
   {
    "duration": 43,
    "start_time": "2021-07-07T17:06:38.144Z"
   },
   {
    "duration": 6,
    "start_time": "2021-07-07T17:06:38.188Z"
   },
   {
    "duration": 5,
    "start_time": "2021-07-07T17:06:38.195Z"
   },
   {
    "duration": 9,
    "start_time": "2021-07-07T17:06:38.201Z"
   },
   {
    "duration": 12,
    "start_time": "2021-07-07T17:06:38.212Z"
   },
   {
    "duration": 11,
    "start_time": "2021-07-07T17:06:38.226Z"
   },
   {
    "duration": 47,
    "start_time": "2021-07-07T17:06:38.239Z"
   },
   {
    "duration": 4,
    "start_time": "2021-07-07T17:06:38.288Z"
   },
   {
    "duration": 13,
    "start_time": "2021-07-07T17:06:38.293Z"
   },
   {
    "duration": 5,
    "start_time": "2021-07-07T17:06:38.309Z"
   },
   {
    "duration": 18,
    "start_time": "2021-07-07T17:06:38.325Z"
   },
   {
    "duration": 20,
    "start_time": "2021-07-07T17:07:02.805Z"
   },
   {
    "duration": 19,
    "start_time": "2021-07-07T17:07:08.527Z"
   },
   {
    "duration": 19,
    "start_time": "2021-07-07T17:07:12.758Z"
   },
   {
    "duration": 22,
    "start_time": "2021-07-07T17:07:17.497Z"
   },
   {
    "duration": 19,
    "start_time": "2021-07-07T17:07:19.645Z"
   },
   {
    "duration": 10,
    "start_time": "2021-07-07T17:07:34.239Z"
   },
   {
    "duration": 17,
    "start_time": "2021-07-07T17:07:54.144Z"
   },
   {
    "duration": 14,
    "start_time": "2021-07-07T17:08:14.357Z"
   },
   {
    "duration": 616,
    "start_time": "2021-07-07T17:08:45.254Z"
   },
   {
    "duration": 178,
    "start_time": "2021-07-07T17:08:45.872Z"
   },
   {
    "duration": 60,
    "start_time": "2021-07-07T17:08:46.054Z"
   },
   {
    "duration": 3,
    "start_time": "2021-07-07T17:08:46.116Z"
   },
   {
    "duration": 26,
    "start_time": "2021-07-07T17:08:46.121Z"
   },
   {
    "duration": 7,
    "start_time": "2021-07-07T17:08:46.149Z"
   },
   {
    "duration": 17,
    "start_time": "2021-07-07T17:08:46.158Z"
   },
   {
    "duration": 14,
    "start_time": "2021-07-07T17:08:46.176Z"
   },
   {
    "duration": 17,
    "start_time": "2021-07-07T17:08:46.193Z"
   },
   {
    "duration": 9,
    "start_time": "2021-07-07T17:08:46.211Z"
   },
   {
    "duration": 21,
    "start_time": "2021-07-07T17:08:46.221Z"
   },
   {
    "duration": 49,
    "start_time": "2021-07-07T17:08:46.244Z"
   },
   {
    "duration": 24,
    "start_time": "2021-07-07T17:08:46.295Z"
   },
   {
    "duration": 22,
    "start_time": "2021-07-07T17:08:46.321Z"
   },
   {
    "duration": 6,
    "start_time": "2021-07-07T17:08:46.345Z"
   },
   {
    "duration": 5,
    "start_time": "2021-07-07T17:08:46.353Z"
   },
   {
    "duration": 13,
    "start_time": "2021-07-07T17:08:46.386Z"
   },
   {
    "duration": 12,
    "start_time": "2021-07-07T17:08:46.402Z"
   },
   {
    "duration": 10,
    "start_time": "2021-07-07T17:08:46.415Z"
   },
   {
    "duration": 7,
    "start_time": "2021-07-07T17:08:46.427Z"
   },
   {
    "duration": 8,
    "start_time": "2021-07-07T17:08:46.435Z"
   },
   {
    "duration": 68,
    "start_time": "2021-07-07T17:08:46.446Z"
   },
   {
    "duration": 13,
    "start_time": "2021-07-07T17:08:46.516Z"
   },
   {
    "duration": 78,
    "start_time": "2021-07-07T17:08:46.530Z"
   },
   {
    "duration": 40,
    "start_time": "2021-07-07T17:09:08.185Z"
   },
   {
    "duration": 16,
    "start_time": "2021-07-07T17:09:19.324Z"
   },
   {
    "duration": 21,
    "start_time": "2021-07-07T17:09:23.290Z"
   },
   {
    "duration": 13,
    "start_time": "2021-07-07T17:09:54.812Z"
   },
   {
    "duration": 13,
    "start_time": "2021-07-07T17:10:02.039Z"
   },
   {
    "duration": 10,
    "start_time": "2021-07-07T17:10:29.632Z"
   },
   {
    "duration": 13,
    "start_time": "2021-07-07T17:10:52.372Z"
   },
   {
    "duration": 13,
    "start_time": "2021-07-07T17:11:17.270Z"
   },
   {
    "duration": 13,
    "start_time": "2021-07-07T17:14:59.284Z"
   },
   {
    "duration": 547,
    "start_time": "2021-07-07T17:18:52.403Z"
   },
   {
    "duration": 163,
    "start_time": "2021-07-07T17:18:52.952Z"
   },
   {
    "duration": 44,
    "start_time": "2021-07-07T17:18:53.117Z"
   },
   {
    "duration": 3,
    "start_time": "2021-07-07T17:18:53.162Z"
   },
   {
    "duration": 26,
    "start_time": "2021-07-07T17:18:53.167Z"
   },
   {
    "duration": 6,
    "start_time": "2021-07-07T17:18:53.195Z"
   },
   {
    "duration": 15,
    "start_time": "2021-07-07T17:18:53.203Z"
   },
   {
    "duration": 5,
    "start_time": "2021-07-07T17:18:53.220Z"
   },
   {
    "duration": 11,
    "start_time": "2021-07-07T17:18:53.228Z"
   },
   {
    "duration": 9,
    "start_time": "2021-07-07T17:18:53.241Z"
   },
   {
    "duration": 41,
    "start_time": "2021-07-07T17:18:53.252Z"
   },
   {
    "duration": 33,
    "start_time": "2021-07-07T17:18:53.295Z"
   },
   {
    "duration": 19,
    "start_time": "2021-07-07T17:18:53.330Z"
   },
   {
    "duration": 49,
    "start_time": "2021-07-07T17:18:53.350Z"
   },
   {
    "duration": 5,
    "start_time": "2021-07-07T17:18:53.401Z"
   },
   {
    "duration": 5,
    "start_time": "2021-07-07T17:18:53.408Z"
   },
   {
    "duration": 11,
    "start_time": "2021-07-07T17:18:53.414Z"
   },
   {
    "duration": 9,
    "start_time": "2021-07-07T17:18:53.427Z"
   },
   {
    "duration": 10,
    "start_time": "2021-07-07T17:18:53.437Z"
   },
   {
    "duration": 39,
    "start_time": "2021-07-07T17:18:53.448Z"
   },
   {
    "duration": 26,
    "start_time": "2021-07-07T17:18:55.799Z"
   },
   {
    "duration": 598,
    "start_time": "2021-07-07T17:20:17.862Z"
   },
   {
    "duration": 161,
    "start_time": "2021-07-07T17:20:18.462Z"
   },
   {
    "duration": 45,
    "start_time": "2021-07-07T17:20:18.626Z"
   },
   {
    "duration": 4,
    "start_time": "2021-07-07T17:20:18.673Z"
   },
   {
    "duration": 38,
    "start_time": "2021-07-07T17:20:26.877Z"
   },
   {
    "duration": 7,
    "start_time": "2021-07-07T17:20:37.405Z"
   },
   {
    "duration": 19,
    "start_time": "2021-07-07T17:20:51.534Z"
   },
   {
    "duration": 5,
    "start_time": "2021-07-07T17:20:57.228Z"
   },
   {
    "duration": 7,
    "start_time": "2021-07-07T17:21:08.235Z"
   },
   {
    "duration": 19,
    "start_time": "2021-07-07T17:21:42.158Z"
   },
   {
    "duration": 14,
    "start_time": "2021-07-07T17:21:50.225Z"
   },
   {
    "duration": 22,
    "start_time": "2021-07-07T17:22:54.104Z"
   },
   {
    "duration": 5,
    "start_time": "2021-07-07T17:22:56.371Z"
   },
   {
    "duration": 14,
    "start_time": "2021-07-07T17:22:58.316Z"
   },
   {
    "duration": 5,
    "start_time": "2021-07-07T17:22:58.493Z"
   },
   {
    "duration": 35,
    "start_time": "2021-07-07T17:22:59.666Z"
   },
   {
    "duration": 6,
    "start_time": "2021-07-07T17:23:02.410Z"
   },
   {
    "duration": 611,
    "start_time": "2021-07-07T17:24:59.664Z"
   },
   {
    "duration": 178,
    "start_time": "2021-07-07T17:25:01.945Z"
   },
   {
    "duration": 47,
    "start_time": "2021-07-07T17:25:02.125Z"
   },
   {
    "duration": 2,
    "start_time": "2021-07-07T17:25:07.903Z"
   },
   {
    "duration": 254,
    "start_time": "2021-07-07T17:25:08.232Z"
   },
   {
    "duration": 182,
    "start_time": "2021-07-07T17:25:08.671Z"
   },
   {
    "duration": 6,
    "start_time": "2021-07-07T17:25:13.104Z"
   },
   {
    "duration": 36,
    "start_time": "2021-07-07T17:25:13.662Z"
   },
   {
    "duration": 7,
    "start_time": "2021-07-07T17:25:14.528Z"
   },
   {
    "duration": 24,
    "start_time": "2021-07-07T17:25:27.982Z"
   },
   {
    "duration": 3,
    "start_time": "2021-07-07T17:25:48.982Z"
   },
   {
    "duration": 165,
    "start_time": "2021-07-07T17:25:48.987Z"
   },
   {
    "duration": 50,
    "start_time": "2021-07-07T17:25:49.154Z"
   },
   {
    "duration": 4,
    "start_time": "2021-07-07T17:25:49.206Z"
   },
   {
    "duration": 26,
    "start_time": "2021-07-07T17:25:49.212Z"
   },
   {
    "duration": 7,
    "start_time": "2021-07-07T17:25:49.240Z"
   },
   {
    "duration": 16,
    "start_time": "2021-07-07T17:25:49.249Z"
   },
   {
    "duration": 22,
    "start_time": "2021-07-07T17:25:49.266Z"
   },
   {
    "duration": 16,
    "start_time": "2021-07-07T17:25:49.291Z"
   },
   {
    "duration": 9,
    "start_time": "2021-07-07T17:25:49.309Z"
   },
   {
    "duration": 7,
    "start_time": "2021-07-07T17:25:49.319Z"
   },
   {
    "duration": 28,
    "start_time": "2021-07-07T17:25:49.328Z"
   },
   {
    "duration": 44,
    "start_time": "2021-07-07T17:25:49.357Z"
   },
   {
    "duration": 22,
    "start_time": "2021-07-07T17:25:49.403Z"
   },
   {
    "duration": 7,
    "start_time": "2021-07-07T17:25:49.427Z"
   },
   {
    "duration": 3,
    "start_time": "2021-07-07T17:25:49.436Z"
   },
   {
    "duration": 44,
    "start_time": "2021-07-07T17:25:49.441Z"
   },
   {
    "duration": 12,
    "start_time": "2021-07-07T17:25:49.488Z"
   },
   {
    "duration": 13,
    "start_time": "2021-07-07T17:25:49.502Z"
   },
   {
    "duration": 10,
    "start_time": "2021-07-07T17:25:49.516Z"
   },
   {
    "duration": 62,
    "start_time": "2021-07-07T17:25:49.527Z"
   },
   {
    "duration": 26,
    "start_time": "2021-07-07T17:26:51.809Z"
   },
   {
    "duration": 26,
    "start_time": "2021-07-07T17:26:55.759Z"
   },
   {
    "duration": 26,
    "start_time": "2021-07-07T17:27:04.501Z"
   },
   {
    "duration": 25,
    "start_time": "2021-07-07T17:28:24.859Z"
   },
   {
    "duration": 21,
    "start_time": "2021-07-07T17:28:55.250Z"
   },
   {
    "duration": 21,
    "start_time": "2021-07-07T17:28:58.885Z"
   },
   {
    "duration": 7,
    "start_time": "2021-07-07T17:45:40.972Z"
   },
   {
    "duration": 13,
    "start_time": "2021-07-07T17:45:42.529Z"
   },
   {
    "duration": 27,
    "start_time": "2021-07-07T17:45:51.026Z"
   },
   {
    "duration": 518,
    "start_time": "2021-07-07T17:46:15.532Z"
   },
   {
    "duration": 235,
    "start_time": "2021-07-07T17:46:16.053Z"
   },
   {
    "duration": 80,
    "start_time": "2021-07-07T17:46:16.292Z"
   },
   {
    "duration": 5,
    "start_time": "2021-07-07T17:46:16.373Z"
   },
   {
    "duration": 26,
    "start_time": "2021-07-07T17:46:16.380Z"
   },
   {
    "duration": 7,
    "start_time": "2021-07-07T17:46:16.408Z"
   },
   {
    "duration": 16,
    "start_time": "2021-07-07T17:46:16.418Z"
   },
   {
    "duration": 5,
    "start_time": "2021-07-07T17:46:16.436Z"
   },
   {
    "duration": 13,
    "start_time": "2021-07-07T17:46:16.442Z"
   },
   {
    "duration": 35,
    "start_time": "2021-07-07T17:46:16.456Z"
   },
   {
    "duration": 8,
    "start_time": "2021-07-07T17:46:16.493Z"
   },
   {
    "duration": 28,
    "start_time": "2021-07-07T17:46:16.502Z"
   },
   {
    "duration": 17,
    "start_time": "2021-07-07T17:46:16.532Z"
   },
   {
    "duration": 44,
    "start_time": "2021-07-07T17:46:16.551Z"
   },
   {
    "duration": 6,
    "start_time": "2021-07-07T17:46:16.597Z"
   },
   {
    "duration": 4,
    "start_time": "2021-07-07T17:46:16.605Z"
   },
   {
    "duration": 9,
    "start_time": "2021-07-07T17:46:16.610Z"
   },
   {
    "duration": 9,
    "start_time": "2021-07-07T17:46:16.621Z"
   },
   {
    "duration": 10,
    "start_time": "2021-07-07T17:46:16.632Z"
   },
   {
    "duration": 43,
    "start_time": "2021-07-07T17:46:16.644Z"
   },
   {
    "duration": 26,
    "start_time": "2021-07-07T17:46:16.689Z"
   },
   {
    "duration": 19,
    "start_time": "2021-07-07T17:46:16.718Z"
   },
   {
    "duration": 8,
    "start_time": "2021-07-07T17:46:16.738Z"
   },
   {
    "duration": 43,
    "start_time": "2021-07-07T17:46:16.747Z"
   },
   {
    "duration": 19,
    "start_time": "2021-07-07T17:46:16.791Z"
   },
   {
    "duration": 9,
    "start_time": "2021-07-07T17:46:16.812Z"
   },
   {
    "duration": 60,
    "start_time": "2021-07-07T17:46:16.822Z"
   },
   {
    "duration": -8,
    "start_time": "2021-07-07T17:46:16.892Z"
   },
   {
    "duration": 12,
    "start_time": "2021-07-07T17:48:47.707Z"
   },
   {
    "duration": 553,
    "start_time": "2021-07-07T18:10:09.350Z"
   },
   {
    "duration": 230,
    "start_time": "2021-07-07T18:10:09.905Z"
   },
   {
    "duration": 97,
    "start_time": "2021-07-07T18:10:10.137Z"
   },
   {
    "duration": 5,
    "start_time": "2021-07-07T18:10:10.236Z"
   },
   {
    "duration": 29,
    "start_time": "2021-07-07T18:10:10.242Z"
   },
   {
    "duration": 7,
    "start_time": "2021-07-07T18:10:10.272Z"
   },
   {
    "duration": 15,
    "start_time": "2021-07-07T18:10:10.281Z"
   },
   {
    "duration": 4,
    "start_time": "2021-07-07T18:10:10.299Z"
   },
   {
    "duration": 14,
    "start_time": "2021-07-07T18:10:10.305Z"
   },
   {
    "duration": 8,
    "start_time": "2021-07-07T18:10:10.321Z"
   },
   {
    "duration": 8,
    "start_time": "2021-07-07T18:10:10.331Z"
   },
   {
    "duration": 56,
    "start_time": "2021-07-07T18:10:10.341Z"
   },
   {
    "duration": 19,
    "start_time": "2021-07-07T18:10:10.399Z"
   },
   {
    "duration": 23,
    "start_time": "2021-07-07T18:10:10.419Z"
   },
   {
    "duration": 6,
    "start_time": "2021-07-07T18:10:10.444Z"
   },
   {
    "duration": 9,
    "start_time": "2021-07-07T18:10:10.451Z"
   },
   {
    "duration": 30,
    "start_time": "2021-07-07T18:10:10.462Z"
   },
   {
    "duration": 9,
    "start_time": "2021-07-07T18:10:10.494Z"
   },
   {
    "duration": 14,
    "start_time": "2021-07-07T18:10:10.505Z"
   },
   {
    "duration": 7,
    "start_time": "2021-07-07T18:10:10.521Z"
   },
   {
    "duration": 26,
    "start_time": "2021-07-07T18:10:10.530Z"
   },
   {
    "duration": 44,
    "start_time": "2021-07-07T18:10:10.558Z"
   },
   {
    "duration": 7,
    "start_time": "2021-07-07T18:10:10.605Z"
   },
   {
    "duration": 11,
    "start_time": "2021-07-07T18:10:10.614Z"
   },
   {
    "duration": 19,
    "start_time": "2021-07-07T18:10:10.626Z"
   },
   {
    "duration": 44,
    "start_time": "2021-07-07T18:10:10.646Z"
   },
   {
    "duration": 516,
    "start_time": "2021-07-07T18:14:00.826Z"
   },
   {
    "duration": 230,
    "start_time": "2021-07-07T18:14:01.344Z"
   },
   {
    "duration": 105,
    "start_time": "2021-07-07T18:14:01.576Z"
   },
   {
    "duration": 5,
    "start_time": "2021-07-07T18:14:01.683Z"
   },
   {
    "duration": 46,
    "start_time": "2021-07-07T18:14:01.690Z"
   },
   {
    "duration": 7,
    "start_time": "2021-07-07T18:14:01.738Z"
   },
   {
    "duration": 20,
    "start_time": "2021-07-07T18:14:01.747Z"
   },
   {
    "duration": 16,
    "start_time": "2021-07-07T18:14:01.769Z"
   },
   {
    "duration": 14,
    "start_time": "2021-07-07T18:14:01.787Z"
   },
   {
    "duration": 15,
    "start_time": "2021-07-07T18:14:01.803Z"
   },
   {
    "duration": 12,
    "start_time": "2021-07-07T18:14:01.820Z"
   },
   {
    "duration": 35,
    "start_time": "2021-07-07T18:14:01.833Z"
   },
   {
    "duration": 31,
    "start_time": "2021-07-07T18:14:01.869Z"
   },
   {
    "duration": 37,
    "start_time": "2021-07-07T18:14:01.902Z"
   },
   {
    "duration": 8,
    "start_time": "2021-07-07T18:14:01.942Z"
   },
   {
    "duration": 16,
    "start_time": "2021-07-07T18:14:01.952Z"
   },
   {
    "duration": 13,
    "start_time": "2021-07-07T18:14:01.970Z"
   },
   {
    "duration": 32,
    "start_time": "2021-07-07T18:14:01.985Z"
   },
   {
    "duration": 11,
    "start_time": "2021-07-07T18:14:02.019Z"
   },
   {
    "duration": 22,
    "start_time": "2021-07-07T18:14:02.031Z"
   },
   {
    "duration": 27,
    "start_time": "2021-07-07T18:14:02.055Z"
   },
   {
    "duration": 18,
    "start_time": "2021-07-07T18:14:02.084Z"
   },
   {
    "duration": 18,
    "start_time": "2021-07-07T18:14:02.106Z"
   },
   {
    "duration": 11,
    "start_time": "2021-07-07T18:14:02.126Z"
   },
   {
    "duration": 21,
    "start_time": "2021-07-07T18:14:02.138Z"
   },
   {
    "duration": 32,
    "start_time": "2021-07-07T18:14:02.161Z"
   },
   {
    "duration": 28,
    "start_time": "2021-07-07T18:14:44.295Z"
   },
   {
    "duration": 6,
    "start_time": "2021-07-07T18:15:05.834Z"
   },
   {
    "duration": 511,
    "start_time": "2021-07-07T18:15:41.541Z"
   },
   {
    "duration": 183,
    "start_time": "2021-07-07T18:15:42.054Z"
   },
   {
    "duration": 50,
    "start_time": "2021-07-07T18:15:42.239Z"
   },
   {
    "duration": 5,
    "start_time": "2021-07-07T18:15:42.291Z"
   },
   {
    "duration": 48,
    "start_time": "2021-07-07T18:15:42.297Z"
   },
   {
    "duration": 8,
    "start_time": "2021-07-07T18:15:42.346Z"
   },
   {
    "duration": 17,
    "start_time": "2021-07-07T18:15:42.356Z"
   },
   {
    "duration": 15,
    "start_time": "2021-07-07T18:15:42.375Z"
   },
   {
    "duration": 12,
    "start_time": "2021-07-07T18:15:42.392Z"
   },
   {
    "duration": 7,
    "start_time": "2021-07-07T18:15:42.406Z"
   },
   {
    "duration": 7,
    "start_time": "2021-07-07T18:15:42.415Z"
   },
   {
    "duration": 29,
    "start_time": "2021-07-07T18:15:42.423Z"
   },
   {
    "duration": 43,
    "start_time": "2021-07-07T18:15:42.453Z"
   },
   {
    "duration": 18,
    "start_time": "2021-07-07T18:15:42.497Z"
   },
   {
    "duration": 6,
    "start_time": "2021-07-07T18:15:42.516Z"
   },
   {
    "duration": 3,
    "start_time": "2021-07-07T18:15:42.523Z"
   },
   {
    "duration": 18,
    "start_time": "2021-07-07T18:15:42.528Z"
   },
   {
    "duration": 10,
    "start_time": "2021-07-07T18:15:42.547Z"
   },
   {
    "duration": 36,
    "start_time": "2021-07-07T18:15:42.559Z"
   },
   {
    "duration": 8,
    "start_time": "2021-07-07T18:15:42.597Z"
   },
   {
    "duration": 28,
    "start_time": "2021-07-07T18:15:42.606Z"
   },
   {
    "duration": 52,
    "start_time": "2021-07-07T18:15:42.635Z"
   },
   {
    "duration": 7,
    "start_time": "2021-07-07T18:15:42.690Z"
   },
   {
    "duration": 10,
    "start_time": "2021-07-07T18:15:42.699Z"
   },
   {
    "duration": 19,
    "start_time": "2021-07-07T18:15:42.711Z"
   },
   {
    "duration": 9,
    "start_time": "2021-07-07T18:15:42.732Z"
   },
   {
    "duration": 5,
    "start_time": "2021-07-07T18:15:42.743Z"
   },
   {
    "duration": 1450,
    "start_time": "2021-07-07T18:15:51.984Z"
   },
   {
    "duration": 161,
    "start_time": "2021-07-07T18:15:53.435Z"
   },
   {
    "duration": 124,
    "start_time": "2021-07-07T18:15:53.598Z"
   },
   {
    "duration": 5,
    "start_time": "2021-07-07T18:15:53.724Z"
   },
   {
    "duration": 34,
    "start_time": "2021-07-07T18:15:53.730Z"
   },
   {
    "duration": 7,
    "start_time": "2021-07-07T18:15:53.765Z"
   },
   {
    "duration": 15,
    "start_time": "2021-07-07T18:15:53.773Z"
   },
   {
    "duration": 5,
    "start_time": "2021-07-07T18:15:53.791Z"
   },
   {
    "duration": 19,
    "start_time": "2021-07-07T18:15:53.798Z"
   },
   {
    "duration": 9,
    "start_time": "2021-07-07T18:15:53.818Z"
   },
   {
    "duration": 19,
    "start_time": "2021-07-07T18:15:53.828Z"
   },
   {
    "duration": 27,
    "start_time": "2021-07-07T18:15:53.848Z"
   },
   {
    "duration": 16,
    "start_time": "2021-07-07T18:15:53.884Z"
   },
   {
    "duration": 29,
    "start_time": "2021-07-07T18:15:53.901Z"
   },
   {
    "duration": 5,
    "start_time": "2021-07-07T18:15:53.932Z"
   },
   {
    "duration": 15,
    "start_time": "2021-07-07T18:15:53.939Z"
   },
   {
    "duration": 13,
    "start_time": "2021-07-07T18:15:53.956Z"
   },
   {
    "duration": 20,
    "start_time": "2021-07-07T18:15:53.971Z"
   },
   {
    "duration": 14,
    "start_time": "2021-07-07T18:15:53.992Z"
   },
   {
    "duration": 9,
    "start_time": "2021-07-07T18:15:54.009Z"
   },
   {
    "duration": 28,
    "start_time": "2021-07-07T18:15:54.020Z"
   },
   {
    "duration": 50,
    "start_time": "2021-07-07T18:15:54.051Z"
   },
   {
    "duration": 8,
    "start_time": "2021-07-07T18:15:54.105Z"
   },
   {
    "duration": 11,
    "start_time": "2021-07-07T18:15:54.115Z"
   },
   {
    "duration": 20,
    "start_time": "2021-07-07T18:15:54.128Z"
   },
   {
    "duration": 13,
    "start_time": "2021-07-07T18:15:54.184Z"
   },
   {
    "duration": 7,
    "start_time": "2021-07-07T18:15:54.199Z"
   },
   {
    "duration": 7,
    "start_time": "2021-07-07T18:17:08.042Z"
   },
   {
    "duration": 8,
    "start_time": "2021-07-07T18:17:21.008Z"
   },
   {
    "duration": 7,
    "start_time": "2021-07-07T18:17:29.003Z"
   },
   {
    "duration": 8,
    "start_time": "2021-07-07T18:17:32.492Z"
   },
   {
    "duration": 9,
    "start_time": "2021-07-07T18:17:41.758Z"
   },
   {
    "duration": 255,
    "start_time": "2021-07-07T18:20:20.897Z"
   },
   {
    "duration": 173,
    "start_time": "2021-07-07T18:20:26.636Z"
   },
   {
    "duration": 7,
    "start_time": "2021-07-07T18:21:47.164Z"
   },
   {
    "duration": 254,
    "start_time": "2021-07-07T18:23:08.703Z"
   },
   {
    "duration": 21,
    "start_time": "2021-07-07T18:23:22.506Z"
   },
   {
    "duration": 315,
    "start_time": "2021-07-07T18:25:54.801Z"
   },
   {
    "duration": 34,
    "start_time": "2021-07-07T18:26:51.817Z"
   },
   {
    "duration": 327,
    "start_time": "2021-07-07T18:26:56.147Z"
   },
   {
    "duration": 342,
    "start_time": "2021-07-07T18:27:15.887Z"
   },
   {
    "duration": 302,
    "start_time": "2021-07-07T18:28:18.569Z"
   },
   {
    "duration": 226,
    "start_time": "2021-07-07T18:29:20.879Z"
   },
   {
    "duration": 207,
    "start_time": "2021-07-07T18:29:58.114Z"
   },
   {
    "duration": 140,
    "start_time": "2021-07-07T18:32:04.372Z"
   },
   {
    "duration": 158,
    "start_time": "2021-07-07T18:32:32.508Z"
   },
   {
    "duration": 145,
    "start_time": "2021-07-07T18:32:41.365Z"
   },
   {
    "duration": 132,
    "start_time": "2021-07-07T18:32:45.199Z"
   },
   {
    "duration": 11,
    "start_time": "2021-07-07T18:35:24.679Z"
   },
   {
    "duration": 268,
    "start_time": "2021-07-07T18:36:16.145Z"
   },
   {
    "duration": 227,
    "start_time": "2021-07-07T18:37:04.918Z"
   },
   {
    "duration": 3,
    "start_time": "2021-07-07T18:37:33.012Z"
   },
   {
    "duration": 671,
    "start_time": "2021-07-07T18:37:38.295Z"
   },
   {
    "duration": 54,
    "start_time": "2021-07-07T18:37:53.406Z"
   },
   {
    "duration": 631,
    "start_time": "2021-07-07T18:37:56.463Z"
   },
   {
    "duration": 19,
    "start_time": "2021-07-07T18:39:40.535Z"
   },
   {
    "duration": 20,
    "start_time": "2021-07-07T18:40:12.236Z"
   },
   {
    "duration": 633,
    "start_time": "2021-07-07T18:42:00.398Z"
   },
   {
    "duration": 218,
    "start_time": "2021-07-07T18:42:01.033Z"
   },
   {
    "duration": 49,
    "start_time": "2021-07-07T18:42:01.253Z"
   },
   {
    "duration": 5,
    "start_time": "2021-07-07T18:42:01.303Z"
   },
   {
    "duration": 27,
    "start_time": "2021-07-07T18:42:01.310Z"
   },
   {
    "duration": 8,
    "start_time": "2021-07-07T18:42:01.339Z"
   },
   {
    "duration": 20,
    "start_time": "2021-07-07T18:42:01.348Z"
   },
   {
    "duration": 6,
    "start_time": "2021-07-07T18:42:01.386Z"
   },
   {
    "duration": 16,
    "start_time": "2021-07-07T18:42:01.394Z"
   },
   {
    "duration": 9,
    "start_time": "2021-07-07T18:42:01.411Z"
   },
   {
    "duration": 11,
    "start_time": "2021-07-07T18:42:01.421Z"
   },
   {
    "duration": 31,
    "start_time": "2021-07-07T18:42:01.434Z"
   },
   {
    "duration": 18,
    "start_time": "2021-07-07T18:42:01.485Z"
   },
   {
    "duration": 23,
    "start_time": "2021-07-07T18:42:01.505Z"
   },
   {
    "duration": 6,
    "start_time": "2021-07-07T18:42:01.530Z"
   },
   {
    "duration": 10,
    "start_time": "2021-07-07T18:42:01.538Z"
   },
   {
    "duration": 13,
    "start_time": "2021-07-07T18:42:01.550Z"
   },
   {
    "duration": 24,
    "start_time": "2021-07-07T18:42:01.564Z"
   },
   {
    "duration": 20,
    "start_time": "2021-07-07T18:42:01.590Z"
   },
   {
    "duration": 8,
    "start_time": "2021-07-07T18:42:01.611Z"
   },
   {
    "duration": 31,
    "start_time": "2021-07-07T18:42:01.620Z"
   },
   {
    "duration": 39,
    "start_time": "2021-07-07T18:42:01.653Z"
   },
   {
    "duration": 8,
    "start_time": "2021-07-07T18:42:01.696Z"
   },
   {
    "duration": 13,
    "start_time": "2021-07-07T18:42:01.705Z"
   },
   {
    "duration": 20,
    "start_time": "2021-07-07T18:42:01.720Z"
   },
   {
    "duration": 12,
    "start_time": "2021-07-07T18:42:01.741Z"
   },
   {
    "duration": 35,
    "start_time": "2021-07-07T18:42:01.755Z"
   },
   {
    "duration": 14,
    "start_time": "2021-07-07T18:42:01.792Z"
   },
   {
    "duration": 188,
    "start_time": "2021-07-07T18:42:01.808Z"
   },
   {
    "duration": 19,
    "start_time": "2021-07-07T18:42:01.998Z"
   },
   {
    "duration": 175,
    "start_time": "2021-07-07T18:42:02.019Z"
   },
   {
    "duration": 134,
    "start_time": "2021-07-07T18:42:02.196Z"
   },
   {
    "duration": 10,
    "start_time": "2021-07-07T18:42:02.331Z"
   },
   {
    "duration": 19,
    "start_time": "2021-07-07T18:42:02.343Z"
   },
   {
    "duration": 628,
    "start_time": "2021-07-07T18:46:30.701Z"
   },
   {
    "duration": 183,
    "start_time": "2021-07-07T18:46:31.331Z"
   },
   {
    "duration": 48,
    "start_time": "2021-07-07T18:46:31.516Z"
   },
   {
    "duration": 5,
    "start_time": "2021-07-07T18:46:31.566Z"
   },
   {
    "duration": 28,
    "start_time": "2021-07-07T18:46:31.572Z"
   },
   {
    "duration": 8,
    "start_time": "2021-07-07T18:46:31.602Z"
   },
   {
    "duration": 19,
    "start_time": "2021-07-07T18:46:31.611Z"
   },
   {
    "duration": 6,
    "start_time": "2021-07-07T18:46:31.633Z"
   },
   {
    "duration": 17,
    "start_time": "2021-07-07T18:46:31.642Z"
   },
   {
    "duration": 10,
    "start_time": "2021-07-07T18:46:31.684Z"
   },
   {
    "duration": 9,
    "start_time": "2021-07-07T18:46:31.695Z"
   },
   {
    "duration": 28,
    "start_time": "2021-07-07T18:46:31.705Z"
   },
   {
    "duration": 18,
    "start_time": "2021-07-07T18:46:31.735Z"
   },
   {
    "duration": 48,
    "start_time": "2021-07-07T18:46:31.755Z"
   },
   {
    "duration": 6,
    "start_time": "2021-07-07T18:46:31.804Z"
   },
   {
    "duration": 4,
    "start_time": "2021-07-07T18:46:31.812Z"
   },
   {
    "duration": 9,
    "start_time": "2021-07-07T18:46:31.817Z"
   },
   {
    "duration": 10,
    "start_time": "2021-07-07T18:46:31.827Z"
   },
   {
    "duration": 12,
    "start_time": "2021-07-07T18:46:31.838Z"
   },
   {
    "duration": 39,
    "start_time": "2021-07-07T18:46:31.851Z"
   },
   {
    "duration": 24,
    "start_time": "2021-07-07T18:46:31.892Z"
   },
   {
    "duration": 15,
    "start_time": "2021-07-07T18:46:31.918Z"
   },
   {
    "duration": 7,
    "start_time": "2021-07-07T18:46:31.936Z"
   },
   {
    "duration": 8,
    "start_time": "2021-07-07T18:46:31.944Z"
   },
   {
    "duration": 19,
    "start_time": "2021-07-07T18:46:31.984Z"
   },
   {
    "duration": 10,
    "start_time": "2021-07-07T18:46:32.004Z"
   },
   {
    "duration": 5,
    "start_time": "2021-07-07T18:46:32.016Z"
   },
   {
    "duration": 9,
    "start_time": "2021-07-07T18:46:32.023Z"
   },
   {
    "duration": 199,
    "start_time": "2021-07-07T18:46:32.033Z"
   },
   {
    "duration": 19,
    "start_time": "2021-07-07T18:46:32.234Z"
   },
   {
    "duration": 159,
    "start_time": "2021-07-07T18:46:32.255Z"
   },
   {
    "duration": 134,
    "start_time": "2021-07-07T18:46:32.416Z"
   },
   {
    "duration": 10,
    "start_time": "2021-07-07T18:46:32.552Z"
   },
   {
    "duration": 34,
    "start_time": "2021-07-07T18:46:32.563Z"
   },
   {
    "duration": 1039,
    "start_time": "2021-07-08T08:41:09.419Z"
   },
   {
    "duration": 333,
    "start_time": "2021-07-08T08:41:10.459Z"
   },
   {
    "duration": 173,
    "start_time": "2021-07-08T08:41:10.794Z"
   },
   {
    "duration": 5,
    "start_time": "2021-07-08T08:41:10.968Z"
   },
   {
    "duration": 25,
    "start_time": "2021-07-08T08:41:10.975Z"
   },
   {
    "duration": 9,
    "start_time": "2021-07-08T08:41:11.002Z"
   },
   {
    "duration": 18,
    "start_time": "2021-07-08T08:41:11.013Z"
   },
   {
    "duration": 6,
    "start_time": "2021-07-08T08:41:11.033Z"
   },
   {
    "duration": 44,
    "start_time": "2021-07-08T08:41:11.042Z"
   },
   {
    "duration": 10,
    "start_time": "2021-07-08T08:41:11.088Z"
   },
   {
    "duration": 9,
    "start_time": "2021-07-08T08:41:11.100Z"
   },
   {
    "duration": 27,
    "start_time": "2021-07-08T08:41:11.111Z"
   },
   {
    "duration": 46,
    "start_time": "2021-07-08T08:41:11.140Z"
   },
   {
    "duration": 17,
    "start_time": "2021-07-08T08:41:11.187Z"
   },
   {
    "duration": 6,
    "start_time": "2021-07-08T08:41:11.206Z"
   },
   {
    "duration": 5,
    "start_time": "2021-07-08T08:41:11.213Z"
   },
   {
    "duration": 10,
    "start_time": "2021-07-08T08:41:11.219Z"
   },
   {
    "duration": 9,
    "start_time": "2021-07-08T08:41:11.230Z"
   },
   {
    "duration": 45,
    "start_time": "2021-07-08T08:41:11.241Z"
   },
   {
    "duration": 7,
    "start_time": "2021-07-08T08:41:11.287Z"
   },
   {
    "duration": 24,
    "start_time": "2021-07-08T08:41:11.296Z"
   },
   {
    "duration": 16,
    "start_time": "2021-07-08T08:41:11.322Z"
   },
   {
    "duration": 7,
    "start_time": "2021-07-08T08:41:11.341Z"
   },
   {
    "duration": 41,
    "start_time": "2021-07-08T08:41:11.349Z"
   },
   {
    "duration": 17,
    "start_time": "2021-07-08T08:41:11.391Z"
   },
   {
    "duration": 9,
    "start_time": "2021-07-08T08:41:11.410Z"
   },
   {
    "duration": 5,
    "start_time": "2021-07-08T08:41:11.421Z"
   },
   {
    "duration": 6,
    "start_time": "2021-07-08T08:41:11.428Z"
   },
   {
    "duration": 198,
    "start_time": "2021-07-08T08:41:11.435Z"
   },
   {
    "duration": 18,
    "start_time": "2021-07-08T08:41:11.635Z"
   },
   {
    "duration": 155,
    "start_time": "2021-07-08T08:41:11.655Z"
   },
   {
    "duration": 138,
    "start_time": "2021-07-08T08:41:11.811Z"
   },
   {
    "duration": 10,
    "start_time": "2021-07-08T08:41:11.950Z"
   },
   {
    "duration": 29,
    "start_time": "2021-07-08T08:41:11.961Z"
   },
   {
    "duration": 171,
    "start_time": "2021-07-08T08:47:44.522Z"
   },
   {
    "duration": 124,
    "start_time": "2021-07-08T08:47:46.872Z"
   },
   {
    "duration": 191,
    "start_time": "2021-07-08T08:47:58.148Z"
   },
   {
    "duration": 191,
    "start_time": "2021-07-08T08:48:07.412Z"
   },
   {
    "duration": 261,
    "start_time": "2021-07-08T08:48:10.385Z"
   },
   {
    "duration": 255,
    "start_time": "2021-07-08T08:48:14.494Z"
   },
   {
    "duration": 219,
    "start_time": "2021-07-08T08:48:22.752Z"
   },
   {
    "duration": 173,
    "start_time": "2021-07-08T08:49:06.395Z"
   },
   {
    "duration": 180,
    "start_time": "2021-07-08T08:49:21.011Z"
   },
   {
    "duration": 6,
    "start_time": "2021-07-08T08:50:31.697Z"
   },
   {
    "duration": 10,
    "start_time": "2021-07-08T08:50:47.394Z"
   },
   {
    "duration": 11,
    "start_time": "2021-07-08T08:53:49.332Z"
   },
   {
    "duration": 171,
    "start_time": "2021-07-08T08:54:28.408Z"
   },
   {
    "duration": 636,
    "start_time": "2021-07-08T09:02:48.385Z"
   },
   {
    "duration": 227,
    "start_time": "2021-07-08T09:02:49.023Z"
   },
   {
    "duration": 104,
    "start_time": "2021-07-08T09:02:49.252Z"
   },
   {
    "duration": 5,
    "start_time": "2021-07-08T09:02:49.358Z"
   },
   {
    "duration": 27,
    "start_time": "2021-07-08T09:02:49.365Z"
   },
   {
    "duration": 8,
    "start_time": "2021-07-08T09:02:49.394Z"
   },
   {
    "duration": 18,
    "start_time": "2021-07-08T09:02:49.404Z"
   },
   {
    "duration": 6,
    "start_time": "2021-07-08T09:02:49.424Z"
   },
   {
    "duration": 11,
    "start_time": "2021-07-08T09:02:49.433Z"
   },
   {
    "duration": 13,
    "start_time": "2021-07-08T09:02:49.485Z"
   },
   {
    "duration": 9,
    "start_time": "2021-07-08T09:02:49.500Z"
   },
   {
    "duration": 38,
    "start_time": "2021-07-08T09:02:49.511Z"
   },
   {
    "duration": 42,
    "start_time": "2021-07-08T09:02:49.551Z"
   },
   {
    "duration": 21,
    "start_time": "2021-07-08T09:02:49.594Z"
   },
   {
    "duration": 6,
    "start_time": "2021-07-08T09:02:49.616Z"
   },
   {
    "duration": 3,
    "start_time": "2021-07-08T09:02:49.623Z"
   },
   {
    "duration": 9,
    "start_time": "2021-07-08T09:02:49.628Z"
   },
   {
    "duration": 52,
    "start_time": "2021-07-08T09:02:49.638Z"
   },
   {
    "duration": 11,
    "start_time": "2021-07-08T09:02:49.692Z"
   },
   {
    "duration": 8,
    "start_time": "2021-07-08T09:02:49.704Z"
   },
   {
    "duration": 27,
    "start_time": "2021-07-08T09:02:49.713Z"
   },
   {
    "duration": 59,
    "start_time": "2021-07-08T09:02:49.741Z"
   },
   {
    "duration": 8,
    "start_time": "2021-07-08T09:02:49.803Z"
   },
   {
    "duration": 14,
    "start_time": "2021-07-08T09:02:49.813Z"
   },
   {
    "duration": 20,
    "start_time": "2021-07-08T09:02:49.829Z"
   },
   {
    "duration": 44,
    "start_time": "2021-07-08T09:02:49.851Z"
   },
   {
    "duration": 14,
    "start_time": "2021-07-08T09:02:49.896Z"
   },
   {
    "duration": 221,
    "start_time": "2021-07-08T09:02:49.912Z"
   },
   {
    "duration": 6,
    "start_time": "2021-07-08T09:02:50.134Z"
   },
   {
    "duration": 206,
    "start_time": "2021-07-08T09:02:50.142Z"
   },
   {
    "duration": 19,
    "start_time": "2021-07-08T09:02:50.350Z"
   },
   {
    "duration": 21,
    "start_time": "2021-07-08T09:02:50.370Z"
   },
   {
    "duration": 20,
    "start_time": "2021-07-08T09:02:50.393Z"
   },
   {
    "duration": 5,
    "start_time": "2021-07-08T09:02:50.414Z"
   },
   {
    "duration": 5,
    "start_time": "2021-07-08T09:03:34.173Z"
   },
   {
    "duration": 6,
    "start_time": "2021-07-08T09:04:49.062Z"
   },
   {
    "duration": 9,
    "start_time": "2021-07-08T09:04:50.118Z"
   },
   {
    "duration": 14,
    "start_time": "2021-07-08T09:04:58.512Z"
   },
   {
    "duration": 9,
    "start_time": "2021-07-08T09:05:10.988Z"
   },
   {
    "duration": 11,
    "start_time": "2021-07-08T09:05:11.743Z"
   },
   {
    "duration": 7,
    "start_time": "2021-07-08T09:05:25.677Z"
   },
   {
    "duration": 13,
    "start_time": "2021-07-08T09:05:47.189Z"
   },
   {
    "duration": 13,
    "start_time": "2021-07-08T09:05:54.755Z"
   },
   {
    "duration": 4,
    "start_time": "2021-07-08T09:06:29.189Z"
   },
   {
    "duration": 244,
    "start_time": "2021-07-08T09:06:29.195Z"
   },
   {
    "duration": 91,
    "start_time": "2021-07-08T09:06:29.441Z"
   },
   {
    "duration": 4,
    "start_time": "2021-07-08T09:06:29.534Z"
   },
   {
    "duration": 28,
    "start_time": "2021-07-08T09:06:29.540Z"
   },
   {
    "duration": 6,
    "start_time": "2021-07-08T09:06:29.570Z"
   },
   {
    "duration": 18,
    "start_time": "2021-07-08T09:06:29.578Z"
   },
   {
    "duration": 5,
    "start_time": "2021-07-08T09:06:29.597Z"
   },
   {
    "duration": 13,
    "start_time": "2021-07-08T09:06:29.605Z"
   },
   {
    "duration": 8,
    "start_time": "2021-07-08T09:06:29.620Z"
   },
   {
    "duration": 7,
    "start_time": "2021-07-08T09:06:29.630Z"
   },
   {
    "duration": 63,
    "start_time": "2021-07-08T09:06:29.639Z"
   },
   {
    "duration": 17,
    "start_time": "2021-07-08T09:06:29.704Z"
   },
   {
    "duration": 20,
    "start_time": "2021-07-08T09:06:29.723Z"
   },
   {
    "duration": 6,
    "start_time": "2021-07-08T09:06:29.745Z"
   },
   {
    "duration": 3,
    "start_time": "2021-07-08T09:06:29.752Z"
   },
   {
    "duration": 7,
    "start_time": "2021-07-08T09:06:29.785Z"
   },
   {
    "duration": 11,
    "start_time": "2021-07-08T09:06:29.794Z"
   },
   {
    "duration": 15,
    "start_time": "2021-07-08T09:06:29.807Z"
   },
   {
    "duration": 8,
    "start_time": "2021-07-08T09:06:29.823Z"
   },
   {
    "duration": 70,
    "start_time": "2021-07-08T09:06:29.832Z"
   },
   {
    "duration": 17,
    "start_time": "2021-07-08T09:06:29.903Z"
   },
   {
    "duration": 9,
    "start_time": "2021-07-08T09:06:29.921Z"
   },
   {
    "duration": 9,
    "start_time": "2021-07-08T09:06:29.932Z"
   },
   {
    "duration": 57,
    "start_time": "2021-07-08T09:06:29.942Z"
   },
   {
    "duration": 11,
    "start_time": "2021-07-08T09:06:30.001Z"
   },
   {
    "duration": 19,
    "start_time": "2021-07-08T09:06:30.016Z"
   },
   {
    "duration": 217,
    "start_time": "2021-07-08T09:06:30.037Z"
   },
   {
    "duration": 6,
    "start_time": "2021-07-08T09:06:30.255Z"
   },
   {
    "duration": 205,
    "start_time": "2021-07-08T09:06:30.263Z"
   },
   {
    "duration": 27,
    "start_time": "2021-07-08T09:06:30.470Z"
   },
   {
    "duration": 11,
    "start_time": "2021-07-08T09:06:30.500Z"
   },
   {
    "duration": 31,
    "start_time": "2021-07-08T09:06:30.513Z"
   },
   {
    "duration": 18,
    "start_time": "2021-07-08T09:06:30.546Z"
   },
   {
    "duration": 11,
    "start_time": "2021-07-08T09:06:30.566Z"
   },
   {
    "duration": 19,
    "start_time": "2021-07-08T09:06:30.579Z"
   },
   {
    "duration": 20,
    "start_time": "2021-07-08T09:06:49.466Z"
   },
   {
    "duration": 9,
    "start_time": "2021-07-08T09:06:51.994Z"
   },
   {
    "duration": 20,
    "start_time": "2021-07-08T09:06:52.273Z"
   },
   {
    "duration": 246,
    "start_time": "2021-07-08T09:10:21.272Z"
   },
   {
    "duration": 84,
    "start_time": "2021-07-08T09:10:21.436Z"
   },
   {
    "duration": 7,
    "start_time": "2021-07-08T09:10:37.608Z"
   },
   {
    "duration": 189,
    "start_time": "2021-07-08T09:10:38.573Z"
   },
   {
    "duration": 185,
    "start_time": "2021-07-08T09:10:53.181Z"
   },
   {
    "duration": 11,
    "start_time": "2021-07-08T09:10:59.549Z"
   },
   {
    "duration": 42,
    "start_time": "2021-07-08T09:10:59.709Z"
   },
   {
    "duration": 12,
    "start_time": "2021-07-08T09:11:02.857Z"
   },
   {
    "duration": 28,
    "start_time": "2021-07-08T09:11:10.062Z"
   },
   {
    "duration": 249,
    "start_time": "2021-07-08T09:11:37.388Z"
   },
   {
    "duration": 232,
    "start_time": "2021-07-08T09:11:49.485Z"
   },
   {
    "duration": 453,
    "start_time": "2021-07-08T09:12:01.546Z"
   },
   {
    "duration": 440,
    "start_time": "2021-07-08T09:12:12.347Z"
   },
   {
    "duration": 213,
    "start_time": "2021-07-08T09:13:32.196Z"
   },
   {
    "duration": 172,
    "start_time": "2021-07-08T09:14:07.400Z"
   },
   {
    "duration": 185,
    "start_time": "2021-07-08T09:14:14.905Z"
   },
   {
    "duration": 209,
    "start_time": "2021-07-08T09:14:40.109Z"
   },
   {
    "duration": 201,
    "start_time": "2021-07-08T09:14:54.506Z"
   },
   {
    "duration": 622,
    "start_time": "2021-07-08T09:18:14.497Z"
   },
   {
    "duration": 220,
    "start_time": "2021-07-08T09:18:15.121Z"
   },
   {
    "duration": 79,
    "start_time": "2021-07-08T09:18:15.343Z"
   },
   {
    "duration": 4,
    "start_time": "2021-07-08T09:18:15.425Z"
   },
   {
    "duration": 24,
    "start_time": "2021-07-08T09:18:15.431Z"
   },
   {
    "duration": 8,
    "start_time": "2021-07-08T09:18:15.457Z"
   },
   {
    "duration": 16,
    "start_time": "2021-07-08T09:18:15.466Z"
   },
   {
    "duration": 5,
    "start_time": "2021-07-08T09:18:15.484Z"
   },
   {
    "duration": 10,
    "start_time": "2021-07-08T09:18:15.493Z"
   },
   {
    "duration": 8,
    "start_time": "2021-07-08T09:18:15.504Z"
   },
   {
    "duration": 7,
    "start_time": "2021-07-08T09:18:15.513Z"
   },
   {
    "duration": 26,
    "start_time": "2021-07-08T09:18:15.522Z"
   },
   {
    "duration": 49,
    "start_time": "2021-07-08T09:18:15.550Z"
   },
   {
    "duration": 21,
    "start_time": "2021-07-08T09:18:15.601Z"
   },
   {
    "duration": 8,
    "start_time": "2021-07-08T09:18:15.624Z"
   },
   {
    "duration": 3,
    "start_time": "2021-07-08T09:18:15.634Z"
   },
   {
    "duration": 8,
    "start_time": "2021-07-08T09:18:15.639Z"
   },
   {
    "duration": 45,
    "start_time": "2021-07-08T09:18:15.649Z"
   },
   {
    "duration": 13,
    "start_time": "2021-07-08T09:18:15.696Z"
   },
   {
    "duration": 10,
    "start_time": "2021-07-08T09:18:15.711Z"
   },
   {
    "duration": 64,
    "start_time": "2021-07-08T09:18:15.722Z"
   },
   {
    "duration": 19,
    "start_time": "2021-07-08T09:18:15.788Z"
   },
   {
    "duration": 9,
    "start_time": "2021-07-08T09:18:15.809Z"
   },
   {
    "duration": 9,
    "start_time": "2021-07-08T09:18:15.820Z"
   },
   {
    "duration": 18,
    "start_time": "2021-07-08T09:18:15.831Z"
   },
   {
    "duration": 43,
    "start_time": "2021-07-08T09:18:15.851Z"
   },
   {
    "duration": 12,
    "start_time": "2021-07-08T09:18:15.897Z"
   },
   {
    "duration": 219,
    "start_time": "2021-07-08T09:18:15.911Z"
   },
   {
    "duration": 8,
    "start_time": "2021-07-08T09:18:16.132Z"
   },
   {
    "duration": 199,
    "start_time": "2021-07-08T09:18:16.141Z"
   },
   {
    "duration": 18,
    "start_time": "2021-07-08T09:18:16.341Z"
   },
   {
    "duration": 24,
    "start_time": "2021-07-08T09:18:16.361Z"
   },
   {
    "duration": 24,
    "start_time": "2021-07-08T09:18:16.387Z"
   },
   {
    "duration": 211,
    "start_time": "2021-07-08T09:18:16.413Z"
   },
   {
    "duration": 18,
    "start_time": "2021-07-08T09:18:16.626Z"
   },
   {
    "duration": 596,
    "start_time": "2021-07-08T10:06:33.623Z"
   },
   {
    "duration": 181,
    "start_time": "2021-07-08T10:06:34.221Z"
   },
   {
    "duration": 176,
    "start_time": "2021-07-08T10:06:34.635Z"
   },
   {
    "duration": 239,
    "start_time": "2021-07-08T10:06:55.572Z"
   },
   {
    "duration": 6,
    "start_time": "2021-07-08T10:06:57.687Z"
   },
   {
    "duration": 4,
    "start_time": "2021-07-08T10:07:03.956Z"
   },
   {
    "duration": 4,
    "start_time": "2021-07-08T10:07:10.376Z"
   },
   {
    "duration": 4,
    "start_time": "2021-07-08T10:17:19.889Z"
   },
   {
    "duration": 3,
    "start_time": "2021-07-08T10:19:19.407Z"
   },
   {
    "duration": 197,
    "start_time": "2021-07-08T10:19:19.412Z"
   },
   {
    "duration": 127,
    "start_time": "2021-07-08T10:19:19.611Z"
   },
   {
    "duration": 4,
    "start_time": "2021-07-08T10:19:19.740Z"
   },
   {
    "duration": 27,
    "start_time": "2021-07-08T10:19:19.746Z"
   },
   {
    "duration": 7,
    "start_time": "2021-07-08T10:19:19.775Z"
   },
   {
    "duration": 30,
    "start_time": "2021-07-08T10:19:19.784Z"
   },
   {
    "duration": 7,
    "start_time": "2021-07-08T10:19:19.817Z"
   },
   {
    "duration": 26,
    "start_time": "2021-07-08T10:19:19.826Z"
   },
   {
    "duration": 18,
    "start_time": "2021-07-08T10:19:19.854Z"
   },
   {
    "duration": 14,
    "start_time": "2021-07-08T10:19:19.874Z"
   },
   {
    "duration": 48,
    "start_time": "2021-07-08T10:19:19.890Z"
   },
   {
    "duration": 17,
    "start_time": "2021-07-08T10:19:19.940Z"
   },
   {
    "duration": 38,
    "start_time": "2021-07-08T10:19:19.959Z"
   },
   {
    "duration": 8,
    "start_time": "2021-07-08T10:19:19.999Z"
   },
   {
    "duration": 15,
    "start_time": "2021-07-08T10:19:20.009Z"
   },
   {
    "duration": 22,
    "start_time": "2021-07-08T10:19:20.026Z"
   },
   {
    "duration": 10,
    "start_time": "2021-07-08T10:19:20.050Z"
   },
   {
    "duration": 10,
    "start_time": "2021-07-08T10:19:20.062Z"
   },
   {
    "duration": 20,
    "start_time": "2021-07-08T10:19:20.073Z"
   },
   {
    "duration": 29,
    "start_time": "2021-07-08T10:19:20.095Z"
   },
   {
    "duration": 17,
    "start_time": "2021-07-08T10:19:20.126Z"
   },
   {
    "duration": 40,
    "start_time": "2021-07-08T10:19:20.146Z"
   },
   {
    "duration": 15,
    "start_time": "2021-07-08T10:19:20.189Z"
   },
   {
    "duration": 19,
    "start_time": "2021-07-08T10:19:20.206Z"
   },
   {
    "duration": 10,
    "start_time": "2021-07-08T10:19:20.226Z"
   },
   {
    "duration": 11,
    "start_time": "2021-07-08T10:19:20.238Z"
   },
   {
    "duration": 297,
    "start_time": "2021-07-08T10:19:20.250Z"
   },
   {
    "duration": 6,
    "start_time": "2021-07-08T10:19:20.549Z"
   },
   {
    "duration": 191,
    "start_time": "2021-07-08T10:19:20.557Z"
   },
   {
    "duration": 19,
    "start_time": "2021-07-08T10:19:20.750Z"
   },
   {
    "duration": 20,
    "start_time": "2021-07-08T10:19:20.771Z"
   },
   {
    "duration": 15,
    "start_time": "2021-07-08T10:19:20.793Z"
   },
   {
    "duration": 222,
    "start_time": "2021-07-08T10:19:20.809Z"
   },
   {
    "duration": 20,
    "start_time": "2021-07-08T10:19:21.033Z"
   },
   {
    "duration": 27,
    "start_time": "2021-07-08T10:45:04.055Z"
   },
   {
    "duration": 8,
    "start_time": "2021-07-08T10:45:08.478Z"
   },
   {
    "duration": 8,
    "start_time": "2021-07-08T10:45:31.982Z"
   },
   {
    "duration": 10,
    "start_time": "2021-07-08T10:46:01.221Z"
   },
   {
    "duration": 17,
    "start_time": "2021-07-08T10:46:40.011Z"
   },
   {
    "duration": 193,
    "start_time": "2021-07-08T10:48:19.471Z"
   },
   {
    "duration": 225,
    "start_time": "2021-07-08T10:49:26.480Z"
   },
   {
    "duration": 204,
    "start_time": "2021-07-08T10:49:59.992Z"
   },
   {
    "duration": 435,
    "start_time": "2021-07-08T10:50:06.779Z"
   },
   {
    "duration": 199,
    "start_time": "2021-07-08T10:50:14.891Z"
   },
   {
    "duration": 204,
    "start_time": "2021-07-08T10:50:18.501Z"
   },
   {
    "duration": 244,
    "start_time": "2021-07-08T10:50:23.359Z"
   },
   {
    "duration": 192,
    "start_time": "2021-07-08T10:50:29.135Z"
   },
   {
    "duration": 218,
    "start_time": "2021-07-08T10:50:33.092Z"
   },
   {
    "duration": 207,
    "start_time": "2021-07-08T10:52:45.381Z"
   },
   {
    "duration": 5,
    "start_time": "2021-07-08T10:53:34.641Z"
   },
   {
    "duration": 196,
    "start_time": "2021-07-08T10:53:41.478Z"
   },
   {
    "duration": 43,
    "start_time": "2021-07-08T10:53:50.335Z"
   },
   {
    "duration": 32,
    "start_time": "2021-07-08T10:53:55.294Z"
   },
   {
    "duration": 55,
    "start_time": "2021-07-08T10:54:09.675Z"
   },
   {
    "duration": 16,
    "start_time": "2021-07-08T10:54:12.260Z"
   },
   {
    "duration": 15,
    "start_time": "2021-07-08T10:54:49.150Z"
   },
   {
    "duration": 20,
    "start_time": "2021-07-08T10:56:07.596Z"
   },
   {
    "duration": 16,
    "start_time": "2021-07-08T10:58:26.276Z"
   },
   {
    "duration": 22,
    "start_time": "2021-07-08T10:59:00.486Z"
   },
   {
    "duration": 18,
    "start_time": "2021-07-08T11:02:09.653Z"
   },
   {
    "duration": 10,
    "start_time": "2021-07-08T11:03:44.331Z"
   },
   {
    "duration": 10,
    "start_time": "2021-07-08T11:03:54.055Z"
   },
   {
    "duration": 12,
    "start_time": "2021-07-08T11:04:41.967Z"
   },
   {
    "duration": 24,
    "start_time": "2021-07-08T11:07:30.732Z"
   },
   {
    "duration": 6,
    "start_time": "2021-07-08T11:07:37.364Z"
   },
   {
    "duration": 16,
    "start_time": "2021-07-08T11:08:01.819Z"
   },
   {
    "duration": 17,
    "start_time": "2021-07-08T11:09:47.488Z"
   },
   {
    "duration": 246,
    "start_time": "2021-07-08T11:10:00.830Z"
   },
   {
    "duration": 18,
    "start_time": "2021-07-08T11:13:55.195Z"
   },
   {
    "duration": 204,
    "start_time": "2021-07-08T11:14:04.951Z"
   },
   {
    "duration": 19,
    "start_time": "2021-07-08T11:15:10.613Z"
   },
   {
    "duration": 680,
    "start_time": "2021-07-08T11:16:25.793Z"
   },
   {
    "duration": 451,
    "start_time": "2021-07-08T11:16:40.313Z"
   },
   {
    "duration": 469,
    "start_time": "2021-07-08T11:17:21.286Z"
   },
   {
    "duration": 20,
    "start_time": "2021-07-08T11:19:12.554Z"
   },
   {
    "duration": 35,
    "start_time": "2021-07-08T11:20:05.484Z"
   },
   {
    "duration": 53,
    "start_time": "2021-07-08T11:21:40.050Z"
   },
   {
    "duration": 13,
    "start_time": "2021-07-08T11:22:26.059Z"
   },
   {
    "duration": 19,
    "start_time": "2021-07-08T11:22:47.419Z"
   },
   {
    "duration": 25,
    "start_time": "2021-07-08T11:23:19.958Z"
   },
   {
    "duration": 29,
    "start_time": "2021-07-08T11:23:25.415Z"
   },
   {
    "duration": 10,
    "start_time": "2021-07-08T11:24:45.138Z"
   },
   {
    "duration": 19,
    "start_time": "2021-07-08T11:24:54.498Z"
   },
   {
    "duration": 12,
    "start_time": "2021-07-08T11:25:32.225Z"
   },
   {
    "duration": 19,
    "start_time": "2021-07-08T11:25:37.092Z"
   },
   {
    "duration": 17,
    "start_time": "2021-07-08T11:25:58.116Z"
   },
   {
    "duration": 15,
    "start_time": "2021-07-08T11:26:02.258Z"
   },
   {
    "duration": 8,
    "start_time": "2021-07-08T11:26:59.682Z"
   },
   {
    "duration": 184,
    "start_time": "2021-07-08T11:27:21.894Z"
   },
   {
    "duration": 8,
    "start_time": "2021-07-08T11:27:23.824Z"
   },
   {
    "duration": 202,
    "start_time": "2021-07-08T11:27:23.962Z"
   },
   {
    "duration": 360,
    "start_time": "2021-07-08T11:28:33.215Z"
   },
   {
    "duration": 231,
    "start_time": "2021-07-08T11:32:05.542Z"
   },
   {
    "duration": 607,
    "start_time": "2021-07-08T11:36:27.854Z"
   },
   {
    "duration": 241,
    "start_time": "2021-07-08T11:36:28.463Z"
   },
   {
    "duration": 67,
    "start_time": "2021-07-08T11:36:28.709Z"
   },
   {
    "duration": 5,
    "start_time": "2021-07-08T11:36:28.778Z"
   },
   {
    "duration": 32,
    "start_time": "2021-07-08T11:36:28.784Z"
   },
   {
    "duration": 11,
    "start_time": "2021-07-08T11:36:28.819Z"
   },
   {
    "duration": 20,
    "start_time": "2021-07-08T11:36:28.834Z"
   },
   {
    "duration": 36,
    "start_time": "2021-07-08T11:36:28.857Z"
   },
   {
    "duration": 16,
    "start_time": "2021-07-08T11:36:28.895Z"
   },
   {
    "duration": 14,
    "start_time": "2021-07-08T11:36:28.913Z"
   },
   {
    "duration": 9,
    "start_time": "2021-07-08T11:36:28.930Z"
   },
   {
    "duration": 55,
    "start_time": "2021-07-08T11:36:28.941Z"
   },
   {
    "duration": 27,
    "start_time": "2021-07-08T11:36:28.999Z"
   },
   {
    "duration": 30,
    "start_time": "2021-07-08T11:36:29.028Z"
   },
   {
    "duration": 31,
    "start_time": "2021-07-08T11:36:29.060Z"
   },
   {
    "duration": 3,
    "start_time": "2021-07-08T11:36:29.093Z"
   },
   {
    "duration": 12,
    "start_time": "2021-07-08T11:36:29.099Z"
   },
   {
    "duration": 11,
    "start_time": "2021-07-08T11:36:29.112Z"
   },
   {
    "duration": 12,
    "start_time": "2021-07-08T11:36:29.125Z"
   },
   {
    "duration": 9,
    "start_time": "2021-07-08T11:36:29.139Z"
   },
   {
    "duration": 31,
    "start_time": "2021-07-08T11:36:29.191Z"
   },
   {
    "duration": 17,
    "start_time": "2021-07-08T11:36:29.226Z"
   },
   {
    "duration": 7,
    "start_time": "2021-07-08T11:36:29.245Z"
   },
   {
    "duration": 10,
    "start_time": "2021-07-08T11:36:29.254Z"
   },
   {
    "duration": 30,
    "start_time": "2021-07-08T11:36:29.292Z"
   },
   {
    "duration": 11,
    "start_time": "2021-07-08T11:36:29.324Z"
   },
   {
    "duration": 11,
    "start_time": "2021-07-08T11:36:29.337Z"
   },
   {
    "duration": 230,
    "start_time": "2021-07-08T11:36:29.349Z"
   },
   {
    "duration": 13,
    "start_time": "2021-07-08T11:36:29.588Z"
   },
   {
    "duration": 205,
    "start_time": "2021-07-08T11:36:29.603Z"
   },
   {
    "duration": 20,
    "start_time": "2021-07-08T11:36:29.810Z"
   },
   {
    "duration": 9,
    "start_time": "2021-07-08T11:36:29.832Z"
   },
   {
    "duration": 16,
    "start_time": "2021-07-08T11:36:29.843Z"
   },
   {
    "duration": 283,
    "start_time": "2021-07-08T11:36:29.861Z"
   },
   {
    "duration": 50,
    "start_time": "2021-07-08T11:36:30.146Z"
   },
   {
    "duration": 14,
    "start_time": "2021-07-08T11:36:30.198Z"
   },
   {
    "duration": 11,
    "start_time": "2021-07-08T11:36:30.214Z"
   },
   {
    "duration": 245,
    "start_time": "2021-07-08T11:36:30.227Z"
   },
   {
    "duration": 439,
    "start_time": "2021-07-08T11:36:30.474Z"
   },
   {
    "duration": 210,
    "start_time": "2021-07-08T11:36:30.915Z"
   },
   {
    "duration": 15,
    "start_time": "2021-07-08T11:36:31.127Z"
   },
   {
    "duration": 17,
    "start_time": "2021-07-08T11:38:20.451Z"
   },
   {
    "duration": 642,
    "start_time": "2021-07-08T11:46:17.881Z"
   },
   {
    "duration": 210,
    "start_time": "2021-07-08T11:46:18.525Z"
   },
   {
    "duration": 104,
    "start_time": "2021-07-08T11:46:18.741Z"
   },
   {
    "duration": 8,
    "start_time": "2021-07-08T11:46:18.847Z"
   },
   {
    "duration": 25,
    "start_time": "2021-07-08T11:46:18.857Z"
   },
   {
    "duration": 14,
    "start_time": "2021-07-08T11:46:18.884Z"
   },
   {
    "duration": 22,
    "start_time": "2021-07-08T11:46:18.900Z"
   },
   {
    "duration": 5,
    "start_time": "2021-07-08T11:46:18.924Z"
   },
   {
    "duration": 13,
    "start_time": "2021-07-08T11:46:18.931Z"
   },
   {
    "duration": 45,
    "start_time": "2021-07-08T11:46:18.946Z"
   },
   {
    "duration": 12,
    "start_time": "2021-07-08T11:46:18.993Z"
   },
   {
    "duration": 38,
    "start_time": "2021-07-08T11:46:19.006Z"
   },
   {
    "duration": 50,
    "start_time": "2021-07-08T11:46:19.046Z"
   },
   {
    "duration": 29,
    "start_time": "2021-07-08T11:46:19.099Z"
   },
   {
    "duration": 7,
    "start_time": "2021-07-08T11:46:19.130Z"
   },
   {
    "duration": 3,
    "start_time": "2021-07-08T11:46:19.139Z"
   },
   {
    "duration": 11,
    "start_time": "2021-07-08T11:46:19.144Z"
   },
   {
    "duration": 40,
    "start_time": "2021-07-08T11:46:19.157Z"
   },
   {
    "duration": 15,
    "start_time": "2021-07-08T11:46:19.199Z"
   },
   {
    "duration": 10,
    "start_time": "2021-07-08T11:46:19.217Z"
   },
   {
    "duration": 68,
    "start_time": "2021-07-08T11:46:19.230Z"
   },
   {
    "duration": 17,
    "start_time": "2021-07-08T11:46:19.301Z"
   },
   {
    "duration": 7,
    "start_time": "2021-07-08T11:46:19.321Z"
   },
   {
    "duration": 11,
    "start_time": "2021-07-08T11:46:19.330Z"
   },
   {
    "duration": 59,
    "start_time": "2021-07-08T11:46:19.343Z"
   },
   {
    "duration": 17,
    "start_time": "2021-07-08T11:46:19.405Z"
   },
   {
    "duration": 16,
    "start_time": "2021-07-08T11:46:19.424Z"
   },
   {
    "duration": 252,
    "start_time": "2021-07-08T11:46:19.443Z"
   },
   {
    "duration": 9,
    "start_time": "2021-07-08T11:46:19.697Z"
   },
   {
    "duration": 224,
    "start_time": "2021-07-08T11:46:19.708Z"
   },
   {
    "duration": 21,
    "start_time": "2021-07-08T11:46:19.934Z"
   },
   {
    "duration": 9,
    "start_time": "2021-07-08T11:46:19.956Z"
   },
   {
    "duration": 32,
    "start_time": "2021-07-08T11:46:19.967Z"
   },
   {
    "duration": 288,
    "start_time": "2021-07-08T11:46:20.004Z"
   },
   {
    "duration": 23,
    "start_time": "2021-07-08T11:46:20.300Z"
   },
   {
    "duration": 11,
    "start_time": "2021-07-08T11:46:20.325Z"
   },
   {
    "duration": 11,
    "start_time": "2021-07-08T11:46:20.339Z"
   },
   {
    "duration": 259,
    "start_time": "2021-07-08T11:46:20.352Z"
   },
   {
    "duration": 438,
    "start_time": "2021-07-08T11:46:20.613Z"
   },
   {
    "duration": 207,
    "start_time": "2021-07-08T11:46:21.054Z"
   },
   {
    "duration": 27,
    "start_time": "2021-07-08T11:46:21.262Z"
   },
   {
    "duration": 19,
    "start_time": "2021-07-08T11:46:21.291Z"
   },
   {
    "duration": 820,
    "start_time": "2021-07-08T11:49:01.655Z"
   },
   {
    "duration": 372,
    "start_time": "2021-07-08T11:49:02.478Z"
   },
   {
    "duration": 98,
    "start_time": "2021-07-08T11:49:02.853Z"
   },
   {
    "duration": 6,
    "start_time": "2021-07-08T11:49:02.953Z"
   },
   {
    "duration": 39,
    "start_time": "2021-07-08T11:49:02.960Z"
   },
   {
    "duration": 9,
    "start_time": "2021-07-08T11:49:03.003Z"
   },
   {
    "duration": 23,
    "start_time": "2021-07-08T11:49:03.014Z"
   },
   {
    "duration": 6,
    "start_time": "2021-07-08T11:49:03.041Z"
   },
   {
    "duration": 20,
    "start_time": "2021-07-08T11:49:03.049Z"
   },
   {
    "duration": 18,
    "start_time": "2021-07-08T11:49:03.084Z"
   },
   {
    "duration": 14,
    "start_time": "2021-07-08T11:49:03.104Z"
   },
   {
    "duration": 39,
    "start_time": "2021-07-08T11:49:03.119Z"
   },
   {
    "duration": 38,
    "start_time": "2021-07-08T11:49:03.160Z"
   },
   {
    "duration": 26,
    "start_time": "2021-07-08T11:49:03.200Z"
   },
   {
    "duration": 7,
    "start_time": "2021-07-08T11:49:03.227Z"
   },
   {
    "duration": 4,
    "start_time": "2021-07-08T11:49:03.236Z"
   },
   {
    "duration": 15,
    "start_time": "2021-07-08T11:49:03.243Z"
   },
   {
    "duration": 21,
    "start_time": "2021-07-08T11:49:03.285Z"
   },
   {
    "duration": 17,
    "start_time": "2021-07-08T11:49:03.309Z"
   },
   {
    "duration": 10,
    "start_time": "2021-07-08T11:49:03.328Z"
   },
   {
    "duration": 65,
    "start_time": "2021-07-08T11:49:03.340Z"
   },
   {
    "duration": 18,
    "start_time": "2021-07-08T11:49:03.407Z"
   },
   {
    "duration": 8,
    "start_time": "2021-07-08T11:49:03.428Z"
   },
   {
    "duration": 15,
    "start_time": "2021-07-08T11:49:03.438Z"
   },
   {
    "duration": 40,
    "start_time": "2021-07-08T11:49:03.455Z"
   },
   {
    "duration": 12,
    "start_time": "2021-07-08T11:49:03.497Z"
   },
   {
    "duration": 29,
    "start_time": "2021-07-08T11:49:03.511Z"
   },
   {
    "duration": 285,
    "start_time": "2021-07-08T11:49:03.542Z"
   },
   {
    "duration": 8,
    "start_time": "2021-07-08T11:49:03.829Z"
   },
   {
    "duration": 227,
    "start_time": "2021-07-08T11:49:03.838Z"
   },
   {
    "duration": 40,
    "start_time": "2021-07-08T11:49:04.066Z"
   },
   {
    "duration": 10,
    "start_time": "2021-07-08T11:49:04.108Z"
   },
   {
    "duration": 26,
    "start_time": "2021-07-08T11:49:04.121Z"
   },
   {
    "duration": 290,
    "start_time": "2021-07-08T11:49:04.149Z"
   },
   {
    "duration": 26,
    "start_time": "2021-07-08T11:49:04.441Z"
   },
   {
    "duration": 31,
    "start_time": "2021-07-08T11:49:04.470Z"
   },
   {
    "duration": 14,
    "start_time": "2021-07-08T11:49:04.503Z"
   },
   {
    "duration": 259,
    "start_time": "2021-07-08T11:49:04.521Z"
   },
   {
    "duration": 480,
    "start_time": "2021-07-08T11:49:04.782Z"
   },
   {
    "duration": 225,
    "start_time": "2021-07-08T11:49:05.264Z"
   },
   {
    "duration": 22,
    "start_time": "2021-07-08T11:49:05.491Z"
   },
   {
    "duration": 24,
    "start_time": "2021-07-08T11:49:05.515Z"
   },
   {
    "duration": 634,
    "start_time": "2021-07-08T11:52:24.960Z"
   },
   {
    "duration": 199,
    "start_time": "2021-07-08T11:52:25.599Z"
   },
   {
    "duration": 106,
    "start_time": "2021-07-08T11:52:25.803Z"
   },
   {
    "duration": 7,
    "start_time": "2021-07-08T11:52:25.911Z"
   },
   {
    "duration": 29,
    "start_time": "2021-07-08T11:52:25.920Z"
   },
   {
    "duration": 7,
    "start_time": "2021-07-08T11:52:25.951Z"
   },
   {
    "duration": 26,
    "start_time": "2021-07-08T11:52:25.961Z"
   },
   {
    "duration": 11,
    "start_time": "2021-07-08T11:52:25.990Z"
   },
   {
    "duration": 29,
    "start_time": "2021-07-08T11:52:26.005Z"
   },
   {
    "duration": 9,
    "start_time": "2021-07-08T11:52:26.036Z"
   },
   {
    "duration": 8,
    "start_time": "2021-07-08T11:52:26.047Z"
   },
   {
    "duration": 63,
    "start_time": "2021-07-08T11:52:26.057Z"
   },
   {
    "duration": 17,
    "start_time": "2021-07-08T11:52:26.122Z"
   },
   {
    "duration": 43,
    "start_time": "2021-07-08T11:52:26.142Z"
   },
   {
    "duration": 17,
    "start_time": "2021-07-08T11:52:26.187Z"
   },
   {
    "duration": 5,
    "start_time": "2021-07-08T11:52:26.206Z"
   },
   {
    "duration": 12,
    "start_time": "2021-07-08T11:52:26.212Z"
   },
   {
    "duration": 11,
    "start_time": "2021-07-08T11:52:26.226Z"
   },
   {
    "duration": 12,
    "start_time": "2021-07-08T11:52:26.238Z"
   },
   {
    "duration": 38,
    "start_time": "2021-07-08T11:52:26.252Z"
   },
   {
    "duration": 40,
    "start_time": "2021-07-08T11:52:26.292Z"
   },
   {
    "duration": 17,
    "start_time": "2021-07-08T11:52:26.336Z"
   },
   {
    "duration": 39,
    "start_time": "2021-07-08T11:52:26.355Z"
   },
   {
    "duration": 11,
    "start_time": "2021-07-08T11:52:26.395Z"
   },
   {
    "duration": 23,
    "start_time": "2021-07-08T11:52:26.408Z"
   },
   {
    "duration": 12,
    "start_time": "2021-07-08T11:52:26.432Z"
   },
   {
    "duration": 41,
    "start_time": "2021-07-08T11:52:26.446Z"
   },
   {
    "duration": 215,
    "start_time": "2021-07-08T11:52:26.493Z"
   },
   {
    "duration": 8,
    "start_time": "2021-07-08T11:52:26.710Z"
   },
   {
    "duration": 228,
    "start_time": "2021-07-08T11:52:26.720Z"
   },
   {
    "duration": 18,
    "start_time": "2021-07-08T11:52:26.950Z"
   },
   {
    "duration": 35,
    "start_time": "2021-07-08T11:52:26.969Z"
   },
   {
    "duration": 23,
    "start_time": "2021-07-08T11:52:27.006Z"
   },
   {
    "duration": 258,
    "start_time": "2021-07-08T11:52:27.030Z"
   },
   {
    "duration": 24,
    "start_time": "2021-07-08T11:52:27.290Z"
   },
   {
    "duration": 12,
    "start_time": "2021-07-08T11:52:27.316Z"
   },
   {
    "duration": 10,
    "start_time": "2021-07-08T11:52:27.329Z"
   },
   {
    "duration": 298,
    "start_time": "2021-07-08T11:52:27.341Z"
   },
   {
    "duration": 436,
    "start_time": "2021-07-08T11:52:27.641Z"
   },
   {
    "duration": 216,
    "start_time": "2021-07-08T11:52:28.079Z"
   },
   {
    "duration": 20,
    "start_time": "2021-07-08T11:52:28.297Z"
   },
   {
    "duration": 17,
    "start_time": "2021-07-08T11:52:28.319Z"
   },
   {
    "duration": 415,
    "start_time": "2022-04-04T12:45:14.513Z"
   },
   {
    "duration": 124,
    "start_time": "2022-04-04T12:46:07.613Z"
   },
   {
    "duration": 61,
    "start_time": "2022-04-04T12:48:34.716Z"
   },
   {
    "duration": 16,
    "start_time": "2022-04-04T12:48:41.421Z"
   },
   {
    "duration": 11,
    "start_time": "2022-04-04T12:48:52.819Z"
   },
   {
    "duration": 14,
    "start_time": "2022-04-04T12:52:18.623Z"
   },
   {
    "duration": 15,
    "start_time": "2022-04-04T12:53:10.517Z"
   },
   {
    "duration": 851,
    "start_time": "2022-04-04T12:54:10.208Z"
   },
   {
    "duration": 14,
    "start_time": "2022-04-04T12:54:56.076Z"
   },
   {
    "duration": 7,
    "start_time": "2022-04-04T12:55:55.428Z"
   },
   {
    "duration": 4,
    "start_time": "2022-04-04T12:55:59.060Z"
   },
   {
    "duration": 11,
    "start_time": "2022-04-04T12:56:50.984Z"
   },
   {
    "duration": 17,
    "start_time": "2022-04-04T12:58:15.397Z"
   },
   {
    "duration": 2,
    "start_time": "2022-04-04T13:06:06.214Z"
   },
   {
    "duration": 15,
    "start_time": "2022-04-04T13:09:06.390Z"
   },
   {
    "duration": 16,
    "start_time": "2022-04-04T13:09:59.148Z"
   },
   {
    "duration": 16,
    "start_time": "2022-04-04T13:14:37.838Z"
   },
   {
    "duration": 7,
    "start_time": "2022-04-04T13:15:36.542Z"
   },
   {
    "duration": 22,
    "start_time": "2022-04-04T13:15:40.316Z"
   },
   {
    "duration": 22,
    "start_time": "2022-04-04T13:15:52.917Z"
   },
   {
    "duration": 7,
    "start_time": "2022-04-04T13:16:44.166Z"
   },
   {
    "duration": 21,
    "start_time": "2022-04-04T13:16:48.518Z"
   },
   {
    "duration": 5,
    "start_time": "2022-04-04T13:17:24.518Z"
   },
   {
    "duration": 6,
    "start_time": "2022-04-04T13:17:53.636Z"
   },
   {
    "duration": 8,
    "start_time": "2022-04-04T13:20:28.013Z"
   },
   {
    "duration": 18,
    "start_time": "2022-04-04T13:21:04.285Z"
   },
   {
    "duration": 16,
    "start_time": "2022-04-04T13:21:37.428Z"
   },
   {
    "duration": 15,
    "start_time": "2022-04-04T13:21:46.813Z"
   },
   {
    "duration": 14,
    "start_time": "2022-04-04T13:21:53.973Z"
   },
   {
    "duration": 4,
    "start_time": "2022-04-04T13:24:04.693Z"
   },
   {
    "duration": 8,
    "start_time": "2022-04-04T13:24:09.916Z"
   },
   {
    "duration": 892,
    "start_time": "2022-04-04T13:24:13.428Z"
   },
   {
    "duration": 8,
    "start_time": "2022-04-04T13:25:53.134Z"
   },
   {
    "duration": 8,
    "start_time": "2022-04-04T13:26:06.373Z"
   },
   {
    "duration": 8,
    "start_time": "2022-04-04T13:26:16.316Z"
   },
   {
    "duration": 53,
    "start_time": "2022-04-04T13:27:06.466Z"
   },
   {
    "duration": 48,
    "start_time": "2022-04-04T13:28:23.510Z"
   },
   {
    "duration": 9,
    "start_time": "2022-04-04T13:28:33.396Z"
   },
   {
    "duration": 51,
    "start_time": "2022-04-04T13:28:43.709Z"
   },
   {
    "duration": 61,
    "start_time": "2022-04-04T13:29:06.438Z"
   },
   {
    "duration": 5,
    "start_time": "2022-04-04T13:29:08.500Z"
   },
   {
    "duration": 10,
    "start_time": "2022-04-04T13:30:23.693Z"
   },
   {
    "duration": 14,
    "start_time": "2022-04-04T13:30:31.422Z"
   },
   {
    "duration": 13,
    "start_time": "2022-04-04T13:30:43.029Z"
   },
   {
    "duration": 9,
    "start_time": "2022-04-04T13:31:11.958Z"
   },
   {
    "duration": 13,
    "start_time": "2022-04-04T13:31:14.405Z"
   },
   {
    "duration": 575,
    "start_time": "2022-04-04T16:24:23.100Z"
   },
   {
    "duration": 15,
    "start_time": "2022-04-04T16:24:28.377Z"
   },
   {
    "duration": 10,
    "start_time": "2022-04-04T16:24:36.047Z"
   },
   {
    "duration": 18,
    "start_time": "2022-04-04T16:24:43.816Z"
   },
   {
    "duration": 17,
    "start_time": "2022-04-04T16:24:48.187Z"
   },
   {
    "duration": 550,
    "start_time": "2022-04-04T16:25:36.223Z"
   },
   {
    "duration": 17,
    "start_time": "2022-04-04T16:25:36.775Z"
   },
   {
    "duration": 10,
    "start_time": "2022-04-04T16:25:36.793Z"
   },
   {
    "duration": 16,
    "start_time": "2022-04-04T16:25:36.805Z"
   },
   {
    "duration": 16,
    "start_time": "2022-04-04T16:25:36.823Z"
   },
   {
    "duration": 15,
    "start_time": "2022-04-04T16:25:36.841Z"
   },
   {
    "duration": 25,
    "start_time": "2022-04-04T16:25:36.857Z"
   },
   {
    "duration": 7,
    "start_time": "2022-04-04T16:25:36.884Z"
   },
   {
    "duration": 86,
    "start_time": "2022-04-04T16:25:36.893Z"
   },
   {
    "duration": 4,
    "start_time": "2022-04-04T16:25:36.981Z"
   },
   {
    "duration": 76,
    "start_time": "2022-04-04T16:25:36.986Z"
   },
   {
    "duration": 23,
    "start_time": "2022-04-04T16:25:57.223Z"
   },
   {
    "duration": 15,
    "start_time": "2022-04-04T16:26:33.277Z"
   },
   {
    "duration": 12,
    "start_time": "2022-04-04T16:35:46.495Z"
   },
   {
    "duration": 12,
    "start_time": "2022-04-04T16:36:15.104Z"
   },
   {
    "duration": 9,
    "start_time": "2022-04-04T16:45:10.655Z"
   },
   {
    "duration": 10,
    "start_time": "2022-04-04T16:45:16.168Z"
   },
   {
    "duration": 13,
    "start_time": "2022-04-04T16:46:19.084Z"
   },
   {
    "duration": 10,
    "start_time": "2022-04-04T16:46:23.827Z"
   },
   {
    "duration": 25,
    "start_time": "2022-04-04T16:47:57.196Z"
   },
   {
    "duration": 24,
    "start_time": "2022-04-04T16:48:22.776Z"
   },
   {
    "duration": 26,
    "start_time": "2022-04-04T16:52:05.180Z"
   },
   {
    "duration": 28,
    "start_time": "2022-04-04T16:53:32.683Z"
   },
   {
    "duration": 30,
    "start_time": "2022-04-04T17:10:45.246Z"
   },
   {
    "duration": 10,
    "start_time": "2022-04-04T17:12:11.915Z"
   },
   {
    "duration": 28,
    "start_time": "2022-04-04T17:12:21.252Z"
   },
   {
    "duration": 627,
    "start_time": "2022-04-05T08:17:03.152Z"
   },
   {
    "duration": 22,
    "start_time": "2022-04-05T08:17:03.782Z"
   },
   {
    "duration": 34,
    "start_time": "2022-04-05T08:17:03.806Z"
   },
   {
    "duration": 41,
    "start_time": "2022-04-05T08:17:03.842Z"
   },
   {
    "duration": 23,
    "start_time": "2022-04-05T08:17:03.885Z"
   },
   {
    "duration": 25,
    "start_time": "2022-04-05T08:17:03.910Z"
   },
   {
    "duration": 39,
    "start_time": "2022-04-05T08:17:03.937Z"
   },
   {
    "duration": 10,
    "start_time": "2022-04-05T08:17:03.978Z"
   },
   {
    "duration": 128,
    "start_time": "2022-04-05T08:17:03.990Z"
   },
   {
    "duration": 5,
    "start_time": "2022-04-05T08:17:04.121Z"
   },
   {
    "duration": 31,
    "start_time": "2022-04-05T08:17:04.128Z"
   },
   {
    "duration": 20,
    "start_time": "2022-04-05T08:17:04.162Z"
   },
   {
    "duration": 38,
    "start_time": "2022-04-05T08:17:04.185Z"
   },
   {
    "duration": 59,
    "start_time": "2022-04-05T08:17:04.225Z"
   },
   {
    "duration": 14,
    "start_time": "2022-04-05T08:20:12.198Z"
   },
   {
    "duration": 27,
    "start_time": "2022-04-05T08:22:00.302Z"
   },
   {
    "duration": 43,
    "start_time": "2022-04-05T08:28:00.048Z"
   },
   {
    "duration": 7,
    "start_time": "2022-04-05T08:28:39.919Z"
   },
   {
    "duration": 43,
    "start_time": "2022-04-05T08:28:59.648Z"
   },
   {
    "duration": 108,
    "start_time": "2022-04-05T08:30:52.984Z"
   },
   {
    "duration": 8,
    "start_time": "2022-04-05T08:30:56.222Z"
   },
   {
    "duration": 8,
    "start_time": "2022-04-05T08:30:57.950Z"
   },
   {
    "duration": 144,
    "start_time": "2022-04-05T08:31:07.016Z"
   },
   {
    "duration": 5,
    "start_time": "2022-04-05T08:35:12.056Z"
   },
   {
    "duration": 14,
    "start_time": "2022-04-05T08:35:36.519Z"
   },
   {
    "duration": 12,
    "start_time": "2022-04-05T08:35:48.774Z"
   },
   {
    "duration": 15,
    "start_time": "2022-04-05T08:36:36.599Z"
   },
   {
    "duration": 11012,
    "start_time": "2022-04-05T08:41:25.463Z"
   },
   {
    "duration": 25,
    "start_time": "2022-04-05T08:41:36.478Z"
   },
   {
    "duration": 26,
    "start_time": "2022-04-05T08:41:41.023Z"
   },
   {
    "duration": 15,
    "start_time": "2022-04-05T08:41:47.192Z"
   },
   {
    "duration": 18,
    "start_time": "2022-04-05T08:42:04.136Z"
   },
   {
    "duration": 129,
    "start_time": "2022-04-05T08:42:32.610Z"
   },
   {
    "duration": 21,
    "start_time": "2022-04-05T08:42:32.742Z"
   },
   {
    "duration": 22,
    "start_time": "2022-04-05T08:42:32.766Z"
   },
   {
    "duration": 50,
    "start_time": "2022-04-05T08:42:32.793Z"
   },
   {
    "duration": 25,
    "start_time": "2022-04-05T08:42:32.845Z"
   },
   {
    "duration": 31,
    "start_time": "2022-04-05T08:42:32.873Z"
   },
   {
    "duration": 43,
    "start_time": "2022-04-05T08:42:32.907Z"
   },
   {
    "duration": 14,
    "start_time": "2022-04-05T08:42:32.952Z"
   },
   {
    "duration": 129,
    "start_time": "2022-04-05T08:42:32.968Z"
   },
   {
    "duration": 6,
    "start_time": "2022-04-05T08:42:33.100Z"
   },
   {
    "duration": 22,
    "start_time": "2022-04-05T08:42:33.109Z"
   },
   {
    "duration": 20,
    "start_time": "2022-04-05T08:42:33.142Z"
   },
   {
    "duration": 40,
    "start_time": "2022-04-05T08:42:33.164Z"
   },
   {
    "duration": 43,
    "start_time": "2022-04-05T08:42:33.207Z"
   },
   {
    "duration": 31,
    "start_time": "2022-04-05T08:42:33.253Z"
   },
   {
    "duration": 18,
    "start_time": "2022-04-05T08:42:33.287Z"
   },
   {
    "duration": 10363,
    "start_time": "2022-04-05T08:42:33.307Z"
   },
   {
    "duration": 14,
    "start_time": "2022-04-05T08:42:46.064Z"
   },
   {
    "duration": 184,
    "start_time": "2022-04-05T08:43:12.101Z"
   },
   {
    "duration": 29,
    "start_time": "2022-04-05T08:43:12.289Z"
   },
   {
    "duration": 21,
    "start_time": "2022-04-05T08:43:12.320Z"
   },
   {
    "duration": 38,
    "start_time": "2022-04-05T08:43:12.343Z"
   },
   {
    "duration": 61,
    "start_time": "2022-04-05T08:43:12.385Z"
   },
   {
    "duration": 43,
    "start_time": "2022-04-05T08:43:12.450Z"
   },
   {
    "duration": 63,
    "start_time": "2022-04-05T08:43:12.496Z"
   },
   {
    "duration": 12,
    "start_time": "2022-04-05T08:43:12.563Z"
   },
   {
    "duration": 183,
    "start_time": "2022-04-05T08:43:12.578Z"
   },
   {
    "duration": 7,
    "start_time": "2022-04-05T08:43:12.763Z"
   },
   {
    "duration": 18,
    "start_time": "2022-04-05T08:43:12.773Z"
   },
   {
    "duration": 60,
    "start_time": "2022-04-05T08:43:12.793Z"
   },
   {
    "duration": 63,
    "start_time": "2022-04-05T08:43:12.856Z"
   },
   {
    "duration": 32,
    "start_time": "2022-04-05T08:43:12.923Z"
   },
   {
    "duration": 30,
    "start_time": "2022-04-05T08:43:12.958Z"
   },
   {
    "duration": 24,
    "start_time": "2022-04-05T08:43:19.176Z"
   },
   {
    "duration": 21,
    "start_time": "2022-04-05T08:43:36.961Z"
   },
   {
    "duration": 25,
    "start_time": "2022-04-05T08:44:42.128Z"
   },
   {
    "duration": 21,
    "start_time": "2022-04-05T08:44:43.511Z"
   },
   {
    "duration": 14,
    "start_time": "2022-04-05T08:46:25.855Z"
   },
   {
    "duration": 32,
    "start_time": "2022-04-05T08:46:46.600Z"
   },
   {
    "duration": 20,
    "start_time": "2022-04-05T08:47:36.952Z"
   },
   {
    "duration": 16,
    "start_time": "2022-04-05T08:47:49.631Z"
   },
   {
    "duration": 42,
    "start_time": "2022-04-05T08:48:31.480Z"
   },
   {
    "duration": 16,
    "start_time": "2022-04-05T08:48:37.881Z"
   },
   {
    "duration": 13,
    "start_time": "2022-04-05T08:48:46.887Z"
   },
   {
    "duration": 9,
    "start_time": "2022-04-05T08:48:56.959Z"
   },
   {
    "duration": 26,
    "start_time": "2022-04-05T08:49:17.455Z"
   },
   {
    "duration": 1421,
    "start_time": "2022-04-05T08:49:25.566Z"
   },
   {
    "duration": 26,
    "start_time": "2022-04-05T08:49:31.086Z"
   },
   {
    "duration": 26,
    "start_time": "2022-04-05T08:49:38.023Z"
   },
   {
    "duration": 23,
    "start_time": "2022-04-05T08:51:58.575Z"
   },
   {
    "duration": 24,
    "start_time": "2022-04-05T08:52:16.194Z"
   },
   {
    "duration": 180,
    "start_time": "2022-04-05T08:52:32.854Z"
   },
   {
    "duration": 44,
    "start_time": "2022-04-05T08:52:33.039Z"
   },
   {
    "duration": 35,
    "start_time": "2022-04-05T08:52:33.087Z"
   },
   {
    "duration": 64,
    "start_time": "2022-04-05T08:52:33.128Z"
   },
   {
    "duration": 69,
    "start_time": "2022-04-05T08:52:33.196Z"
   },
   {
    "duration": 45,
    "start_time": "2022-04-05T08:52:33.270Z"
   },
   {
    "duration": 74,
    "start_time": "2022-04-05T08:52:33.319Z"
   },
   {
    "duration": 16,
    "start_time": "2022-04-05T08:52:33.396Z"
   },
   {
    "duration": 353,
    "start_time": "2022-04-05T08:52:33.416Z"
   },
   {
    "duration": 10,
    "start_time": "2022-04-05T08:52:33.776Z"
   },
   {
    "duration": 44,
    "start_time": "2022-04-05T08:52:33.790Z"
   },
   {
    "duration": 39,
    "start_time": "2022-04-05T08:52:33.845Z"
   },
   {
    "duration": 60,
    "start_time": "2022-04-05T08:52:33.887Z"
   },
   {
    "duration": 15,
    "start_time": "2022-04-05T08:52:33.950Z"
   },
   {
    "duration": 80,
    "start_time": "2022-04-05T08:52:33.969Z"
   },
   {
    "duration": 40,
    "start_time": "2022-04-05T08:52:41.657Z"
   },
   {
    "duration": 30,
    "start_time": "2022-04-05T08:53:02.488Z"
   },
   {
    "duration": 23,
    "start_time": "2022-04-05T08:53:16.154Z"
   },
   {
    "duration": 22,
    "start_time": "2022-04-05T08:53:29.127Z"
   },
   {
    "duration": 8,
    "start_time": "2022-04-05T08:54:31.607Z"
   },
   {
    "duration": 33,
    "start_time": "2022-04-05T08:54:35.935Z"
   },
   {
    "duration": 20,
    "start_time": "2022-04-05T08:54:48.198Z"
   },
   {
    "duration": 23,
    "start_time": "2022-04-05T08:54:56.398Z"
   },
   {
    "duration": 19,
    "start_time": "2022-04-05T08:55:06.119Z"
   },
   {
    "duration": 8,
    "start_time": "2022-04-05T08:55:12.119Z"
   },
   {
    "duration": 24,
    "start_time": "2022-04-05T08:55:16.559Z"
   },
   {
    "duration": 19,
    "start_time": "2022-04-05T08:55:34.055Z"
   },
   {
    "duration": 31,
    "start_time": "2022-04-05T08:55:49.203Z"
   },
   {
    "duration": 5,
    "start_time": "2022-04-05T08:56:20.992Z"
   },
   {
    "duration": 26,
    "start_time": "2022-04-05T08:56:35.432Z"
   },
   {
    "duration": 22,
    "start_time": "2022-04-05T08:56:50.408Z"
   },
   {
    "duration": 8,
    "start_time": "2022-04-05T08:57:08.263Z"
   },
   {
    "duration": 16,
    "start_time": "2022-04-05T08:57:12.910Z"
   },
   {
    "duration": 4102,
    "start_time": "2022-04-05T08:57:51.434Z"
   },
   {
    "duration": 8,
    "start_time": "2022-04-05T08:58:04.255Z"
   },
   {
    "duration": 22,
    "start_time": "2022-04-05T08:58:16.649Z"
   },
   {
    "duration": 136,
    "start_time": "2022-04-05T08:58:52.213Z"
   },
   {
    "duration": 24,
    "start_time": "2022-04-05T08:58:52.352Z"
   },
   {
    "duration": 21,
    "start_time": "2022-04-05T08:58:52.379Z"
   },
   {
    "duration": 55,
    "start_time": "2022-04-05T08:58:52.403Z"
   },
   {
    "duration": 33,
    "start_time": "2022-04-05T08:58:52.462Z"
   },
   {
    "duration": 57,
    "start_time": "2022-04-05T08:58:52.498Z"
   },
   {
    "duration": 41,
    "start_time": "2022-04-05T08:58:52.558Z"
   },
   {
    "duration": 10,
    "start_time": "2022-04-05T08:58:52.601Z"
   },
   {
    "duration": 139,
    "start_time": "2022-04-05T08:58:52.613Z"
   },
   {
    "duration": 5,
    "start_time": "2022-04-05T08:58:52.754Z"
   },
   {
    "duration": 21,
    "start_time": "2022-04-05T08:58:52.761Z"
   },
   {
    "duration": 24,
    "start_time": "2022-04-05T08:58:52.784Z"
   },
   {
    "duration": 63,
    "start_time": "2022-04-05T08:58:52.811Z"
   },
   {
    "duration": 14,
    "start_time": "2022-04-05T08:58:52.877Z"
   },
   {
    "duration": 62,
    "start_time": "2022-04-05T08:58:52.893Z"
   },
   {
    "duration": 22,
    "start_time": "2022-04-05T08:58:52.957Z"
   },
   {
    "duration": 20,
    "start_time": "2022-04-05T08:58:52.981Z"
   },
   {
    "duration": 6,
    "start_time": "2022-04-05T08:58:55.584Z"
   },
   {
    "duration": 23,
    "start_time": "2022-04-05T08:58:58.943Z"
   },
   {
    "duration": 26,
    "start_time": "2022-04-05T09:01:06.504Z"
   },
   {
    "duration": 10,
    "start_time": "2022-04-05T09:04:38.944Z"
   },
   {
    "duration": 10,
    "start_time": "2022-04-05T09:05:16.017Z"
   },
   {
    "duration": 9,
    "start_time": "2022-04-05T09:05:26.663Z"
   },
   {
    "duration": 13,
    "start_time": "2022-04-05T09:06:18.363Z"
   },
   {
    "duration": 23,
    "start_time": "2022-04-05T09:09:09.329Z"
   },
   {
    "duration": 18,
    "start_time": "2022-04-05T09:09:15.424Z"
   },
   {
    "duration": 7,
    "start_time": "2022-04-05T09:16:49.752Z"
   },
   {
    "duration": 4021,
    "start_time": "2022-04-05T09:16:56.279Z"
   },
   {
    "duration": 880,
    "start_time": "2022-04-05T09:17:28.370Z"
   },
   {
    "duration": 34,
    "start_time": "2022-04-05T09:17:29.253Z"
   },
   {
    "duration": 18,
    "start_time": "2022-04-05T09:17:29.291Z"
   },
   {
    "duration": 48,
    "start_time": "2022-04-05T09:17:29.312Z"
   },
   {
    "duration": 27,
    "start_time": "2022-04-05T09:17:29.363Z"
   },
   {
    "duration": 58,
    "start_time": "2022-04-05T09:17:29.392Z"
   },
   {
    "duration": 36,
    "start_time": "2022-04-05T09:17:29.453Z"
   },
   {
    "duration": 10,
    "start_time": "2022-04-05T09:17:29.492Z"
   },
   {
    "duration": 159,
    "start_time": "2022-04-05T09:17:29.505Z"
   },
   {
    "duration": 9,
    "start_time": "2022-04-05T09:17:29.672Z"
   },
   {
    "duration": 23,
    "start_time": "2022-04-05T09:17:29.683Z"
   },
   {
    "duration": 40,
    "start_time": "2022-04-05T09:17:29.710Z"
   },
   {
    "duration": 41,
    "start_time": "2022-04-05T09:17:29.752Z"
   },
   {
    "duration": 14,
    "start_time": "2022-04-05T09:17:29.795Z"
   },
   {
    "duration": 27,
    "start_time": "2022-04-05T09:17:29.842Z"
   },
   {
    "duration": 30,
    "start_time": "2022-04-05T09:17:29.871Z"
   },
   {
    "duration": 24,
    "start_time": "2022-04-05T09:17:29.903Z"
   },
   {
    "duration": 14,
    "start_time": "2022-04-05T09:17:29.942Z"
   },
   {
    "duration": 36,
    "start_time": "2022-04-05T09:17:29.959Z"
   },
   {
    "duration": 30,
    "start_time": "2022-04-05T09:17:29.997Z"
   },
   {
    "duration": 19,
    "start_time": "2022-04-05T09:17:30.030Z"
   },
   {
    "duration": 25,
    "start_time": "2022-04-05T09:17:30.051Z"
   },
   {
    "duration": 16,
    "start_time": "2022-04-05T09:17:30.079Z"
   },
   {
    "duration": 23,
    "start_time": "2022-04-05T09:17:30.098Z"
   },
   {
    "duration": 19,
    "start_time": "2022-04-05T09:20:06.132Z"
   },
   {
    "duration": 12,
    "start_time": "2022-04-05T09:21:06.364Z"
   },
   {
    "duration": 9,
    "start_time": "2022-04-05T09:21:43.227Z"
   },
   {
    "duration": 34,
    "start_time": "2022-04-05T09:22:47.012Z"
   },
   {
    "duration": 35,
    "start_time": "2022-04-05T09:22:55.827Z"
   },
   {
    "duration": 35,
    "start_time": "2022-04-05T09:23:02.883Z"
   },
   {
    "duration": 34,
    "start_time": "2022-04-05T09:23:07.252Z"
   },
   {
    "duration": 36,
    "start_time": "2022-04-05T09:23:17.491Z"
   },
   {
    "duration": 32,
    "start_time": "2022-04-05T09:24:07.460Z"
   },
   {
    "duration": 32,
    "start_time": "2022-04-05T09:24:13.155Z"
   },
   {
    "duration": 28,
    "start_time": "2022-04-05T09:24:50.597Z"
   },
   {
    "duration": 29,
    "start_time": "2022-04-05T09:24:57.092Z"
   },
   {
    "duration": 30,
    "start_time": "2022-04-05T09:25:03.955Z"
   },
   {
    "duration": 32,
    "start_time": "2022-04-05T09:25:09.453Z"
   },
   {
    "duration": 28,
    "start_time": "2022-04-05T09:25:13.164Z"
   },
   {
    "duration": 27,
    "start_time": "2022-04-05T09:25:26.156Z"
   },
   {
    "duration": 34,
    "start_time": "2022-04-05T09:25:41.612Z"
   },
   {
    "duration": 37,
    "start_time": "2022-04-05T09:25:49.677Z"
   },
   {
    "duration": 43,
    "start_time": "2022-04-05T09:25:54.306Z"
   },
   {
    "duration": 32,
    "start_time": "2022-04-05T09:25:58.171Z"
   },
   {
    "duration": 35,
    "start_time": "2022-04-05T09:26:03.458Z"
   },
   {
    "duration": 19,
    "start_time": "2022-04-05T09:30:10.212Z"
   },
   {
    "duration": 36,
    "start_time": "2022-04-05T09:30:33.036Z"
   },
   {
    "duration": 27,
    "start_time": "2022-04-05T09:30:57.020Z"
   },
   {
    "duration": 27,
    "start_time": "2022-04-05T09:32:32.732Z"
   },
   {
    "duration": 41,
    "start_time": "2022-04-05T09:36:05.915Z"
   },
   {
    "duration": 36,
    "start_time": "2022-04-05T09:38:38.789Z"
   },
   {
    "duration": 114,
    "start_time": "2022-04-05T09:42:03.453Z"
   },
   {
    "duration": 7,
    "start_time": "2022-04-05T09:43:56.012Z"
   },
   {
    "duration": 43,
    "start_time": "2022-04-05T09:44:31.043Z"
   },
   {
    "duration": 15,
    "start_time": "2022-04-05T09:44:52.772Z"
   },
   {
    "duration": 14,
    "start_time": "2022-04-05T09:44:55.973Z"
   },
   {
    "duration": 33,
    "start_time": "2022-04-05T09:46:04.093Z"
   },
   {
    "duration": 43,
    "start_time": "2022-04-05T09:46:27.031Z"
   },
   {
    "duration": 42,
    "start_time": "2022-04-05T09:46:31.029Z"
   },
   {
    "duration": 35,
    "start_time": "2022-04-05T09:46:38.988Z"
   },
   {
    "duration": 20,
    "start_time": "2022-04-05T09:47:37.261Z"
   },
   {
    "duration": 6,
    "start_time": "2022-04-05T09:50:47.412Z"
   },
   {
    "duration": 7,
    "start_time": "2022-04-05T11:33:09.322Z"
   },
   {
    "duration": 484,
    "start_time": "2022-04-05T11:33:15.538Z"
   },
   {
    "duration": 15,
    "start_time": "2022-04-05T11:33:16.025Z"
   },
   {
    "duration": 15,
    "start_time": "2022-04-05T11:33:16.041Z"
   },
   {
    "duration": 18,
    "start_time": "2022-04-05T11:33:16.058Z"
   },
   {
    "duration": 16,
    "start_time": "2022-04-05T11:33:16.077Z"
   },
   {
    "duration": 14,
    "start_time": "2022-04-05T11:33:16.094Z"
   },
   {
    "duration": 22,
    "start_time": "2022-04-05T11:33:16.110Z"
   },
   {
    "duration": 7,
    "start_time": "2022-04-05T11:33:16.134Z"
   },
   {
    "duration": 82,
    "start_time": "2022-04-05T11:33:16.142Z"
   },
   {
    "duration": 4,
    "start_time": "2022-04-05T11:33:16.226Z"
   },
   {
    "duration": 13,
    "start_time": "2022-04-05T11:33:16.231Z"
   },
   {
    "duration": 12,
    "start_time": "2022-04-05T11:33:16.245Z"
   },
   {
    "duration": 41,
    "start_time": "2022-04-05T11:33:16.258Z"
   },
   {
    "duration": 9,
    "start_time": "2022-04-05T11:33:16.300Z"
   },
   {
    "duration": 19,
    "start_time": "2022-04-05T11:33:16.311Z"
   },
   {
    "duration": 13,
    "start_time": "2022-04-05T11:33:16.331Z"
   },
   {
    "duration": 7,
    "start_time": "2022-04-05T11:33:16.345Z"
   },
   {
    "duration": 27,
    "start_time": "2022-04-05T11:33:16.354Z"
   },
   {
    "duration": 14,
    "start_time": "2022-04-05T11:33:16.382Z"
   },
   {
    "duration": 13,
    "start_time": "2022-04-05T11:33:16.397Z"
   },
   {
    "duration": 5,
    "start_time": "2022-04-05T11:33:16.411Z"
   },
   {
    "duration": 7,
    "start_time": "2022-04-05T11:33:16.417Z"
   },
   {
    "duration": 21,
    "start_time": "2022-04-05T11:33:16.426Z"
   },
   {
    "duration": 21,
    "start_time": "2022-04-05T11:33:16.448Z"
   },
   {
    "duration": 20,
    "start_time": "2022-04-05T11:33:16.470Z"
   },
   {
    "duration": 23,
    "start_time": "2022-04-05T11:33:16.492Z"
   },
   {
    "duration": 9,
    "start_time": "2022-04-05T11:33:16.516Z"
   },
   {
    "duration": 18,
    "start_time": "2022-04-05T11:33:16.527Z"
   },
   {
    "duration": 25,
    "start_time": "2022-04-05T11:33:16.546Z"
   },
   {
    "duration": 16,
    "start_time": "2022-04-05T11:33:16.572Z"
   },
   {
    "duration": 15,
    "start_time": "2022-04-05T11:33:16.590Z"
   },
   {
    "duration": 60,
    "start_time": "2022-04-05T11:33:51.319Z"
   },
   {
    "duration": 3,
    "start_time": "2022-04-05T11:33:55.671Z"
   },
   {
    "duration": 3,
    "start_time": "2022-04-05T11:33:56.606Z"
   },
   {
    "duration": 3,
    "start_time": "2022-04-05T11:34:55.366Z"
   },
   {
    "duration": 8,
    "start_time": "2022-04-05T11:35:50.118Z"
   },
   {
    "duration": 5502,
    "start_time": "2022-04-05T11:35:56.270Z"
   },
   {
    "duration": 6,
    "start_time": "2022-04-05T11:36:20.640Z"
   },
   {
    "duration": 3171,
    "start_time": "2022-04-05T11:36:25.791Z"
   },
   {
    "duration": 5,
    "start_time": "2022-04-05T11:37:21.048Z"
   },
   {
    "duration": 7,
    "start_time": "2022-04-05T11:37:35.575Z"
   },
   {
    "duration": 3,
    "start_time": "2022-04-05T11:38:46.392Z"
   },
   {
    "duration": 7,
    "start_time": "2022-04-05T11:38:48.543Z"
   },
   {
    "duration": 9,
    "start_time": "2022-04-05T11:38:59.007Z"
   },
   {
    "duration": 7,
    "start_time": "2022-04-05T11:39:01.671Z"
   },
   {
    "duration": 5,
    "start_time": "2022-04-05T11:39:03.958Z"
   },
   {
    "duration": 27,
    "start_time": "2022-04-05T11:39:31.454Z"
   },
   {
    "duration": 2,
    "start_time": "2022-04-05T11:40:03.422Z"
   },
   {
    "duration": 2438,
    "start_time": "2022-04-05T11:40:06.966Z"
   },
   {
    "duration": 0,
    "start_time": "2022-04-05T11:40:09.405Z"
   },
   {
    "duration": 3,
    "start_time": "2022-04-05T11:40:22.040Z"
   },
   {
    "duration": 6,
    "start_time": "2022-04-05T11:40:24.231Z"
   },
   {
    "duration": 8,
    "start_time": "2022-04-05T11:40:38.438Z"
   },
   {
    "duration": 6,
    "start_time": "2022-04-05T11:40:41.895Z"
   },
   {
    "duration": 8,
    "start_time": "2022-04-05T11:41:06.511Z"
   },
   {
    "duration": 8,
    "start_time": "2022-04-05T11:41:14.558Z"
   },
   {
    "duration": 23,
    "start_time": "2022-04-05T11:41:17.687Z"
   },
   {
    "duration": 5,
    "start_time": "2022-04-05T11:41:22.519Z"
   },
   {
    "duration": 4,
    "start_time": "2022-04-05T11:41:26.095Z"
   },
   {
    "duration": 7585,
    "start_time": "2022-04-05T11:41:37.550Z"
   },
   {
    "duration": 4,
    "start_time": "2022-04-05T11:41:52.648Z"
   },
   {
    "duration": 8,
    "start_time": "2022-04-05T11:42:17.887Z"
   },
   {
    "duration": 4,
    "start_time": "2022-04-05T11:44:49.447Z"
   },
   {
    "duration": 28,
    "start_time": "2022-04-05T11:44:55.319Z"
   },
   {
    "duration": 27,
    "start_time": "2022-04-05T11:45:31.408Z"
   },
   {
    "duration": 2,
    "start_time": "2022-04-05T11:46:27.879Z"
   },
   {
    "duration": 8,
    "start_time": "2022-04-05T11:46:29.445Z"
   },
   {
    "duration": 30,
    "start_time": "2022-04-05T11:46:37.294Z"
   },
   {
    "duration": 3,
    "start_time": "2022-04-05T11:47:41.394Z"
   },
   {
    "duration": 8,
    "start_time": "2022-04-05T11:47:42.597Z"
   },
   {
    "duration": 31,
    "start_time": "2022-04-05T11:47:45.454Z"
   },
   {
    "duration": 3,
    "start_time": "2022-04-05T11:47:55.904Z"
   },
   {
    "duration": 9,
    "start_time": "2022-04-05T11:47:57.294Z"
   },
   {
    "duration": 4,
    "start_time": "2022-04-05T11:48:00.910Z"
   },
   {
    "duration": 27,
    "start_time": "2022-04-05T11:48:02.422Z"
   },
   {
    "duration": 5,
    "start_time": "2022-04-05T11:48:36.158Z"
   },
   {
    "duration": 3,
    "start_time": "2022-04-05T11:48:43.046Z"
   },
   {
    "duration": 8,
    "start_time": "2022-04-05T11:48:51.394Z"
   },
   {
    "duration": 5,
    "start_time": "2022-04-05T11:48:52.741Z"
   },
   {
    "duration": 5,
    "start_time": "2022-04-05T11:48:58.407Z"
   },
   {
    "duration": 34,
    "start_time": "2022-04-05T11:49:09.367Z"
   },
   {
    "duration": 4,
    "start_time": "2022-04-05T11:50:05.994Z"
   },
   {
    "duration": 27,
    "start_time": "2022-04-05T11:50:07.511Z"
   },
   {
    "duration": 618,
    "start_time": "2022-04-05T11:50:39.113Z"
   },
   {
    "duration": 118,
    "start_time": "2022-04-05T11:55:47.070Z"
   },
   {
    "duration": 111,
    "start_time": "2022-04-05T11:55:55.078Z"
   },
   {
    "duration": 160,
    "start_time": "2022-04-05T11:56:00.070Z"
   },
   {
    "duration": 111,
    "start_time": "2022-04-05T11:56:05.489Z"
   },
   {
    "duration": 127,
    "start_time": "2022-04-05T11:56:11.950Z"
   },
   {
    "duration": 479,
    "start_time": "2022-04-06T15:34:04.064Z"
   },
   {
    "duration": 15,
    "start_time": "2022-04-06T15:34:04.545Z"
   },
   {
    "duration": 10,
    "start_time": "2022-04-06T15:34:04.562Z"
   },
   {
    "duration": 17,
    "start_time": "2022-04-06T15:34:04.574Z"
   },
   {
    "duration": 15,
    "start_time": "2022-04-06T15:34:04.593Z"
   },
   {
    "duration": 37,
    "start_time": "2022-04-06T15:34:04.609Z"
   },
   {
    "duration": 23,
    "start_time": "2022-04-06T15:34:04.647Z"
   },
   {
    "duration": 7,
    "start_time": "2022-04-06T15:34:04.671Z"
   },
   {
    "duration": 80,
    "start_time": "2022-04-06T15:34:04.679Z"
   },
   {
    "duration": 4,
    "start_time": "2022-04-06T15:34:04.761Z"
   },
   {
    "duration": 12,
    "start_time": "2022-04-06T15:34:04.767Z"
   },
   {
    "duration": 13,
    "start_time": "2022-04-06T15:34:04.781Z"
   },
   {
    "duration": 48,
    "start_time": "2022-04-06T15:34:04.795Z"
   },
   {
    "duration": 9,
    "start_time": "2022-04-06T15:34:04.844Z"
   },
   {
    "duration": 19,
    "start_time": "2022-04-06T15:34:04.855Z"
   },
   {
    "duration": 16,
    "start_time": "2022-04-06T15:34:04.876Z"
   },
   {
    "duration": 7,
    "start_time": "2022-04-06T15:34:04.894Z"
   },
   {
    "duration": 31,
    "start_time": "2022-04-06T15:34:04.902Z"
   },
   {
    "duration": 14,
    "start_time": "2022-04-06T15:34:04.935Z"
   },
   {
    "duration": 14,
    "start_time": "2022-04-06T15:34:04.951Z"
   },
   {
    "duration": 6,
    "start_time": "2022-04-06T15:34:04.966Z"
   },
   {
    "duration": 8,
    "start_time": "2022-04-06T15:34:04.973Z"
   },
   {
    "duration": 6,
    "start_time": "2022-04-06T15:34:04.983Z"
   },
   {
    "duration": 43,
    "start_time": "2022-04-06T15:34:04.991Z"
   },
   {
    "duration": 14,
    "start_time": "2022-04-06T15:34:05.035Z"
   },
   {
    "duration": 26,
    "start_time": "2022-04-06T15:34:05.050Z"
   },
   {
    "duration": 9,
    "start_time": "2022-04-06T15:34:05.078Z"
   },
   {
    "duration": 10,
    "start_time": "2022-04-06T15:34:05.090Z"
   },
   {
    "duration": 10,
    "start_time": "2022-04-06T15:34:05.132Z"
   },
   {
    "duration": 7,
    "start_time": "2022-04-06T15:34:05.144Z"
   },
   {
    "duration": 3,
    "start_time": "2022-04-06T15:34:05.153Z"
   },
   {
    "duration": 12,
    "start_time": "2022-04-06T15:34:05.157Z"
   },
   {
    "duration": 4,
    "start_time": "2022-04-06T15:34:05.171Z"
   },
   {
    "duration": 30,
    "start_time": "2022-04-06T15:44:42.388Z"
   },
   {
    "duration": 73,
    "start_time": "2022-04-06T15:47:45.446Z"
   },
   {
    "duration": 10,
    "start_time": "2022-04-06T15:50:24.093Z"
   },
   {
    "duration": 12,
    "start_time": "2022-04-06T15:50:40.216Z"
   },
   {
    "duration": 14,
    "start_time": "2022-04-06T15:51:13.078Z"
   },
   {
    "duration": 12,
    "start_time": "2022-04-06T15:51:33.438Z"
   },
   {
    "duration": 14,
    "start_time": "2022-04-06T15:58:08.157Z"
   },
   {
    "duration": 6,
    "start_time": "2022-04-06T15:58:15.290Z"
   },
   {
    "duration": 16,
    "start_time": "2022-04-06T16:02:40.056Z"
   },
   {
    "duration": 6,
    "start_time": "2022-04-06T16:02:44.546Z"
   },
   {
    "duration": 17,
    "start_time": "2022-04-06T16:02:56.018Z"
   },
   {
    "duration": 7,
    "start_time": "2022-04-06T16:02:59.289Z"
   },
   {
    "duration": 17,
    "start_time": "2022-04-06T16:05:26.574Z"
   },
   {
    "duration": 8,
    "start_time": "2022-04-06T16:05:28.254Z"
   },
   {
    "duration": 18,
    "start_time": "2022-04-06T16:05:46.545Z"
   },
   {
    "duration": 23,
    "start_time": "2022-04-06T16:06:14.250Z"
   },
   {
    "duration": 585,
    "start_time": "2022-04-06T16:19:00.362Z"
   },
   {
    "duration": 15,
    "start_time": "2022-04-06T16:19:19.442Z"
   },
   {
    "duration": 25,
    "start_time": "2022-04-06T16:20:21.597Z"
   },
   {
    "duration": 15,
    "start_time": "2022-04-06T16:20:34.083Z"
   },
   {
    "duration": 14,
    "start_time": "2022-04-06T16:21:40.115Z"
   },
   {
    "duration": 17,
    "start_time": "2022-04-06T16:22:11.512Z"
   },
   {
    "duration": 18,
    "start_time": "2022-04-06T16:22:32.411Z"
   },
   {
    "duration": 16,
    "start_time": "2022-04-06T16:22:48.989Z"
   },
   {
    "duration": 17,
    "start_time": "2022-04-06T16:22:58.148Z"
   },
   {
    "duration": 16,
    "start_time": "2022-04-06T16:23:04.867Z"
   },
   {
    "duration": 134,
    "start_time": "2022-04-06T16:23:21.207Z"
   },
   {
    "duration": 120,
    "start_time": "2022-04-06T16:25:30.083Z"
   },
   {
    "duration": 14,
    "start_time": "2022-04-06T16:25:34.712Z"
   },
   {
    "duration": 14,
    "start_time": "2022-04-06T16:26:02.021Z"
   },
   {
    "duration": 126,
    "start_time": "2022-04-06T16:26:18.375Z"
   },
   {
    "duration": 185,
    "start_time": "2022-04-06T16:27:00.294Z"
   },
   {
    "duration": 139,
    "start_time": "2022-04-06T16:27:10.128Z"
   },
   {
    "duration": 22,
    "start_time": "2022-04-06T16:31:38.757Z"
   },
   {
    "duration": 21,
    "start_time": "2022-04-06T16:32:57.513Z"
   },
   {
    "duration": 22,
    "start_time": "2022-04-06T16:33:51.195Z"
   },
   {
    "duration": 21,
    "start_time": "2022-04-06T16:34:12.921Z"
   },
   {
    "duration": 17,
    "start_time": "2022-04-06T16:35:18.698Z"
   },
   {
    "duration": 19,
    "start_time": "2022-04-06T16:35:28.102Z"
   },
   {
    "duration": 19,
    "start_time": "2022-04-06T16:35:48.354Z"
   },
   {
    "duration": 17,
    "start_time": "2022-04-06T16:35:56.359Z"
   },
   {
    "duration": 22,
    "start_time": "2022-04-06T16:36:07.659Z"
   },
   {
    "duration": 25,
    "start_time": "2022-04-06T16:36:37.624Z"
   },
   {
    "duration": 28,
    "start_time": "2022-04-06T16:36:45.570Z"
   },
   {
    "duration": 9,
    "start_time": "2022-04-06T16:58:46.668Z"
   },
   {
    "duration": 500,
    "start_time": "2022-04-06T16:58:56.533Z"
   },
   {
    "duration": 17,
    "start_time": "2022-04-06T16:58:57.035Z"
   },
   {
    "duration": 29,
    "start_time": "2022-04-06T16:58:57.054Z"
   },
   {
    "duration": 31,
    "start_time": "2022-04-06T16:58:57.085Z"
   },
   {
    "duration": 29,
    "start_time": "2022-04-06T16:58:57.119Z"
   },
   {
    "duration": 17,
    "start_time": "2022-04-06T16:58:57.150Z"
   },
   {
    "duration": 43,
    "start_time": "2022-04-06T16:58:57.170Z"
   },
   {
    "duration": 10,
    "start_time": "2022-04-06T16:58:57.215Z"
   },
   {
    "duration": 95,
    "start_time": "2022-04-06T16:58:57.227Z"
   },
   {
    "duration": 5,
    "start_time": "2022-04-06T16:58:57.324Z"
   },
   {
    "duration": 24,
    "start_time": "2022-04-06T16:58:57.331Z"
   },
   {
    "duration": 23,
    "start_time": "2022-04-06T16:58:57.357Z"
   },
   {
    "duration": 40,
    "start_time": "2022-04-06T16:58:57.382Z"
   },
   {
    "duration": 28,
    "start_time": "2022-04-06T16:58:57.425Z"
   },
   {
    "duration": 33,
    "start_time": "2022-04-06T16:58:57.454Z"
   },
   {
    "duration": 26,
    "start_time": "2022-04-06T16:58:57.489Z"
   },
   {
    "duration": 14,
    "start_time": "2022-04-06T16:58:57.517Z"
   },
   {
    "duration": 12,
    "start_time": "2022-04-06T16:58:57.533Z"
   },
   {
    "duration": 24,
    "start_time": "2022-04-06T16:58:57.547Z"
   },
   {
    "duration": 28,
    "start_time": "2022-04-06T16:58:57.573Z"
   },
   {
    "duration": 7,
    "start_time": "2022-04-06T16:58:57.603Z"
   },
   {
    "duration": 17,
    "start_time": "2022-04-06T16:58:57.612Z"
   },
   {
    "duration": 10,
    "start_time": "2022-04-06T16:58:57.631Z"
   },
   {
    "duration": 27,
    "start_time": "2022-04-06T16:58:57.643Z"
   },
   {
    "duration": 36,
    "start_time": "2022-04-06T16:58:57.671Z"
   },
   {
    "duration": 47,
    "start_time": "2022-04-06T16:58:57.709Z"
   },
   {
    "duration": 12,
    "start_time": "2022-04-06T16:58:57.758Z"
   },
   {
    "duration": 12,
    "start_time": "2022-04-06T16:58:57.772Z"
   },
   {
    "duration": 15,
    "start_time": "2022-04-06T16:58:57.786Z"
   },
   {
    "duration": 4,
    "start_time": "2022-04-06T16:58:57.803Z"
   },
   {
    "duration": 21,
    "start_time": "2022-04-06T16:58:57.809Z"
   },
   {
    "duration": 12,
    "start_time": "2022-04-06T16:58:57.832Z"
   },
   {
    "duration": 40,
    "start_time": "2022-04-06T16:58:57.845Z"
   },
   {
    "duration": 616,
    "start_time": "2022-04-06T16:58:57.887Z"
   },
   {
    "duration": 4,
    "start_time": "2022-04-06T16:58:58.505Z"
   },
   {
    "duration": 32,
    "start_time": "2022-04-06T16:58:58.510Z"
   },
   {
    "duration": 5,
    "start_time": "2022-04-06T16:59:43.254Z"
   },
   {
    "duration": 4,
    "start_time": "2022-04-06T16:59:52.498Z"
   },
   {
    "duration": 43,
    "start_time": "2022-04-06T17:01:48.924Z"
   },
   {
    "duration": 38,
    "start_time": "2022-04-06T17:04:03.887Z"
   },
   {
    "duration": 2524,
    "start_time": "2022-04-06T17:04:44.921Z"
   },
   {
    "duration": 28,
    "start_time": "2022-04-06T17:04:52.277Z"
   },
   {
    "duration": 40,
    "start_time": "2022-04-06T17:05:47.761Z"
   },
   {
    "duration": 4,
    "start_time": "2022-04-06T17:07:41.273Z"
   },
   {
    "duration": 6,
    "start_time": "2022-04-06T17:22:01.033Z"
   },
   {
    "duration": 9,
    "start_time": "2022-04-06T17:22:11.234Z"
   },
   {
    "duration": 8,
    "start_time": "2022-04-06T17:22:28.007Z"
   },
   {
    "duration": 8,
    "start_time": "2022-04-06T17:24:35.452Z"
   },
   {
    "duration": 4,
    "start_time": "2022-04-06T17:24:41.158Z"
   },
   {
    "duration": 25,
    "start_time": "2022-04-06T17:28:02.219Z"
   },
   {
    "duration": 25,
    "start_time": "2022-04-06T17:29:26.915Z"
   },
   {
    "duration": 66,
    "start_time": "2022-04-06T17:31:50.768Z"
   },
   {
    "duration": 67,
    "start_time": "2022-04-06T17:33:43.264Z"
   },
   {
    "duration": 69,
    "start_time": "2022-04-06T17:36:06.722Z"
   },
   {
    "duration": 70,
    "start_time": "2022-04-06T17:36:46.480Z"
   },
   {
    "duration": 5,
    "start_time": "2022-04-06T17:37:09.073Z"
   },
   {
    "duration": 3,
    "start_time": "2022-04-06T17:37:16.434Z"
   },
   {
    "duration": 4,
    "start_time": "2022-04-06T17:37:35.119Z"
   },
   {
    "duration": 12,
    "start_time": "2022-04-06T17:37:40.832Z"
   },
   {
    "duration": 184,
    "start_time": "2022-04-06T17:38:53.839Z"
   },
   {
    "duration": 9,
    "start_time": "2022-04-06T17:39:04.886Z"
   },
   {
    "duration": 9,
    "start_time": "2022-04-06T17:39:36.823Z"
   },
   {
    "duration": 4,
    "start_time": "2022-04-06T17:39:52.045Z"
   },
   {
    "duration": 5,
    "start_time": "2022-04-06T17:40:06.426Z"
   },
   {
    "duration": 3,
    "start_time": "2022-04-06T17:44:45.985Z"
   },
   {
    "duration": 9,
    "start_time": "2022-04-06T17:45:42.132Z"
   },
   {
    "duration": 9,
    "start_time": "2022-04-06T17:46:00.545Z"
   },
   {
    "duration": 9,
    "start_time": "2022-04-06T17:47:09.280Z"
   },
   {
    "duration": 5,
    "start_time": "2022-04-06T17:47:17.014Z"
   },
   {
    "duration": 10,
    "start_time": "2022-04-06T17:47:35.831Z"
   },
   {
    "duration": 4,
    "start_time": "2022-04-06T17:48:03.963Z"
   },
   {
    "duration": 6,
    "start_time": "2022-04-06T17:50:11.049Z"
   },
   {
    "duration": 6,
    "start_time": "2022-04-06T17:50:32.870Z"
   },
   {
    "duration": 14,
    "start_time": "2022-04-06T17:51:28.380Z"
   },
   {
    "duration": 7,
    "start_time": "2022-04-06T17:51:34.850Z"
   },
   {
    "duration": 142,
    "start_time": "2022-04-06T17:53:02.692Z"
   },
   {
    "duration": 65,
    "start_time": "2022-04-06T17:54:34.956Z"
   },
   {
    "duration": 65,
    "start_time": "2022-04-06T17:54:50.460Z"
   },
   {
    "duration": 63,
    "start_time": "2022-04-06T17:56:17.451Z"
   },
   {
    "duration": 61,
    "start_time": "2022-04-06T17:57:29.857Z"
   },
   {
    "duration": 208,
    "start_time": "2022-04-06T17:59:16.694Z"
   },
   {
    "duration": 283,
    "start_time": "2022-04-06T17:59:38.439Z"
   },
   {
    "duration": 257,
    "start_time": "2022-04-06T17:59:53.201Z"
   },
   {
    "duration": 68,
    "start_time": "2022-04-06T18:03:57.917Z"
   },
   {
    "duration": 663,
    "start_time": "2022-04-08T15:45:12.591Z"
   },
   {
    "duration": 22,
    "start_time": "2022-04-08T15:45:13.257Z"
   },
   {
    "duration": 26,
    "start_time": "2022-04-08T15:45:13.284Z"
   },
   {
    "duration": 25,
    "start_time": "2022-04-08T15:45:13.314Z"
   },
   {
    "duration": 44,
    "start_time": "2022-04-08T15:45:13.341Z"
   },
   {
    "duration": 21,
    "start_time": "2022-04-08T15:45:13.388Z"
   },
   {
    "duration": 36,
    "start_time": "2022-04-08T15:45:13.411Z"
   },
   {
    "duration": 36,
    "start_time": "2022-04-08T15:45:13.449Z"
   },
   {
    "duration": 123,
    "start_time": "2022-04-08T15:45:13.487Z"
   },
   {
    "duration": 5,
    "start_time": "2022-04-08T15:45:13.614Z"
   },
   {
    "duration": 17,
    "start_time": "2022-04-08T15:45:13.621Z"
   },
   {
    "duration": 42,
    "start_time": "2022-04-08T15:45:13.640Z"
   },
   {
    "duration": 41,
    "start_time": "2022-04-08T15:45:13.684Z"
   },
   {
    "duration": 13,
    "start_time": "2022-04-08T15:45:13.727Z"
   },
   {
    "duration": 54,
    "start_time": "2022-04-08T15:45:13.742Z"
   },
   {
    "duration": 18,
    "start_time": "2022-04-08T15:45:13.799Z"
   },
   {
    "duration": 11,
    "start_time": "2022-04-08T15:45:13.818Z"
   },
   {
    "duration": 44,
    "start_time": "2022-04-08T15:45:13.831Z"
   },
   {
    "duration": 26,
    "start_time": "2022-04-08T15:45:13.877Z"
   },
   {
    "duration": 24,
    "start_time": "2022-04-08T15:45:13.905Z"
   },
   {
    "duration": 8,
    "start_time": "2022-04-08T15:45:13.931Z"
   },
   {
    "duration": 45,
    "start_time": "2022-04-08T15:45:13.941Z"
   },
   {
    "duration": 11,
    "start_time": "2022-04-08T15:45:13.989Z"
   },
   {
    "duration": 16,
    "start_time": "2022-04-08T15:45:14.002Z"
   },
   {
    "duration": 24,
    "start_time": "2022-04-08T15:45:14.021Z"
   },
   {
    "duration": 58,
    "start_time": "2022-04-08T15:45:14.047Z"
   },
   {
    "duration": 15,
    "start_time": "2022-04-08T15:45:14.107Z"
   },
   {
    "duration": 46,
    "start_time": "2022-04-08T15:45:14.130Z"
   },
   {
    "duration": 7,
    "start_time": "2022-04-08T15:45:14.187Z"
   },
   {
    "duration": 8,
    "start_time": "2022-04-08T15:45:14.196Z"
   },
   {
    "duration": 21,
    "start_time": "2022-04-08T15:45:14.206Z"
   },
   {
    "duration": 7,
    "start_time": "2022-04-08T15:45:14.229Z"
   },
   {
    "duration": 73,
    "start_time": "2022-04-08T15:45:14.238Z"
   },
   {
    "duration": 850,
    "start_time": "2022-04-08T15:45:14.313Z"
   },
   {
    "duration": 10,
    "start_time": "2022-04-08T15:45:15.166Z"
   },
   {
    "duration": 49,
    "start_time": "2022-04-08T15:45:15.180Z"
   },
   {
    "duration": 111,
    "start_time": "2022-04-08T15:45:15.232Z"
   },
   {
    "duration": 453,
    "start_time": "2022-04-08T15:45:15.345Z"
   },
   {
    "duration": 20,
    "start_time": "2022-04-08T15:54:23.820Z"
   },
   {
    "duration": 14,
    "start_time": "2022-04-08T15:54:29.994Z"
   },
   {
    "duration": 38,
    "start_time": "2022-04-08T15:56:19.756Z"
   },
   {
    "duration": 34,
    "start_time": "2022-04-08T15:56:30.044Z"
   },
   {
    "duration": 29,
    "start_time": "2022-04-08T15:56:55.190Z"
   },
   {
    "duration": 243,
    "start_time": "2022-04-08T15:58:02.914Z"
   },
   {
    "duration": 32,
    "start_time": "2022-04-08T15:59:17.900Z"
   },
   {
    "duration": 19,
    "start_time": "2022-04-08T16:00:08.187Z"
   },
   {
    "duration": 58,
    "start_time": "2022-04-08T16:00:30.329Z"
   },
   {
    "duration": 257,
    "start_time": "2022-04-08T16:01:55.746Z"
   },
   {
    "duration": 246,
    "start_time": "2022-04-08T16:02:01.521Z"
   },
   {
    "duration": 33,
    "start_time": "2022-04-08T16:06:10.921Z"
   },
   {
    "duration": 33,
    "start_time": "2022-04-08T16:07:23.660Z"
   },
   {
    "duration": 251,
    "start_time": "2022-04-08T16:07:26.634Z"
   },
   {
    "duration": 2545,
    "start_time": "2022-04-08T16:12:21.611Z"
   },
   {
    "duration": 45,
    "start_time": "2022-04-08T16:12:32.922Z"
   },
   {
    "duration": 373,
    "start_time": "2022-04-08T16:12:42.084Z"
   },
   {
    "duration": 1376,
    "start_time": "2022-04-08T16:12:52.874Z"
   },
   {
    "duration": 10,
    "start_time": "2022-04-08T16:12:56.259Z"
   },
   {
    "duration": 10,
    "start_time": "2022-04-08T16:15:02.050Z"
   },
   {
    "duration": 10,
    "start_time": "2022-04-08T16:15:20.170Z"
   },
   {
    "duration": 47,
    "start_time": "2022-04-08T16:20:24.794Z"
   },
   {
    "duration": 1423,
    "start_time": "2022-04-08T16:21:45.300Z"
   },
   {
    "duration": 81,
    "start_time": "2022-04-08T16:23:35.732Z"
   },
   {
    "duration": 70,
    "start_time": "2022-04-08T16:24:11.971Z"
   },
   {
    "duration": 54,
    "start_time": "2022-04-08T16:25:29.491Z"
   },
   {
    "duration": 54,
    "start_time": "2022-04-08T16:26:18.075Z"
   },
   {
    "duration": 252,
    "start_time": "2022-04-08T16:28:18.431Z"
   },
   {
    "duration": 52,
    "start_time": "2022-04-08T16:28:41.000Z"
   },
   {
    "duration": 55,
    "start_time": "2022-04-08T16:28:50.178Z"
   },
   {
    "duration": 58,
    "start_time": "2022-04-08T16:28:55.088Z"
   },
   {
    "duration": 6,
    "start_time": "2022-04-08T16:35:40.892Z"
   },
   {
    "duration": 7,
    "start_time": "2022-04-08T16:37:05.433Z"
   },
   {
    "duration": 24,
    "start_time": "2022-04-08T16:39:02.180Z"
   },
   {
    "duration": 12,
    "start_time": "2022-04-08T16:39:18.025Z"
   },
   {
    "duration": 1488,
    "start_time": "2022-04-08T16:39:25.856Z"
   },
   {
    "duration": 13,
    "start_time": "2022-04-08T16:39:38.490Z"
   },
   {
    "duration": 49,
    "start_time": "2022-04-08T16:39:47.871Z"
   },
   {
    "duration": 16,
    "start_time": "2022-04-08T16:39:56.471Z"
   },
   {
    "duration": 9,
    "start_time": "2022-04-08T16:40:00.239Z"
   },
   {
    "duration": 3,
    "start_time": "2022-04-08T16:44:07.601Z"
   },
   {
    "duration": 11,
    "start_time": "2022-04-08T16:44:25.112Z"
   },
   {
    "duration": 14,
    "start_time": "2022-04-08T16:44:34.211Z"
   },
   {
    "duration": 19,
    "start_time": "2022-04-08T16:44:42.368Z"
   },
   {
    "duration": 21,
    "start_time": "2022-04-08T16:44:58.512Z"
   },
   {
    "duration": 194,
    "start_time": "2022-04-08T16:45:51.750Z"
   },
   {
    "duration": 75,
    "start_time": "2022-04-08T16:46:36.720Z"
   },
   {
    "duration": 68,
    "start_time": "2022-04-08T16:47:14.530Z"
   },
   {
    "duration": 1316,
    "start_time": "2022-04-08T16:47:18.353Z"
   },
   {
    "duration": 63,
    "start_time": "2022-04-08T16:48:00.578Z"
   },
   {
    "duration": 59,
    "start_time": "2022-04-08T16:48:17.810Z"
   },
   {
    "duration": 62,
    "start_time": "2022-04-08T16:48:54.312Z"
   },
   {
    "duration": 8,
    "start_time": "2022-04-08T16:49:13.681Z"
   },
   {
    "duration": 77,
    "start_time": "2022-04-08T16:50:41.593Z"
   },
   {
    "duration": 103,
    "start_time": "2022-04-08T16:50:45.728Z"
   },
   {
    "duration": 91,
    "start_time": "2022-04-08T16:50:49.342Z"
   },
   {
    "duration": 64,
    "start_time": "2022-04-08T16:51:36.848Z"
   },
   {
    "duration": 19,
    "start_time": "2022-04-08T16:52:54.492Z"
   },
   {
    "duration": 22,
    "start_time": "2022-04-08T16:53:05.592Z"
   },
   {
    "duration": 22,
    "start_time": "2022-04-08T16:53:32.416Z"
   },
   {
    "duration": 16,
    "start_time": "2022-04-08T16:56:08.889Z"
   },
   {
    "duration": 10,
    "start_time": "2022-04-08T16:56:12.503Z"
   },
   {
    "duration": 58,
    "start_time": "2022-04-08T16:56:28.512Z"
   },
   {
    "duration": 12,
    "start_time": "2022-04-08T16:57:00.607Z"
   },
   {
    "duration": 257,
    "start_time": "2022-04-08T17:00:29.280Z"
   },
   {
    "duration": 822,
    "start_time": "2022-04-08T17:02:09.688Z"
   },
   {
    "duration": 22,
    "start_time": "2022-04-08T17:02:10.514Z"
   },
   {
    "duration": 18,
    "start_time": "2022-04-08T17:02:10.538Z"
   },
   {
    "duration": 27,
    "start_time": "2022-04-08T17:02:10.558Z"
   },
   {
    "duration": 23,
    "start_time": "2022-04-08T17:02:10.589Z"
   },
   {
    "duration": 23,
    "start_time": "2022-04-08T17:02:10.615Z"
   },
   {
    "duration": 62,
    "start_time": "2022-04-08T17:02:10.641Z"
   },
   {
    "duration": 10,
    "start_time": "2022-04-08T17:02:10.706Z"
   },
   {
    "duration": 219,
    "start_time": "2022-04-08T17:02:10.718Z"
   },
   {
    "duration": 40,
    "start_time": "2022-04-08T17:02:10.939Z"
   },
   {
    "duration": 24,
    "start_time": "2022-04-08T17:02:10.982Z"
   },
   {
    "duration": 19,
    "start_time": "2022-04-08T17:02:11.009Z"
   },
   {
    "duration": 72,
    "start_time": "2022-04-08T17:02:11.030Z"
   },
   {
    "duration": 13,
    "start_time": "2022-04-08T17:02:11.107Z"
   },
   {
    "duration": 32,
    "start_time": "2022-04-08T17:02:11.123Z"
   },
   {
    "duration": 19,
    "start_time": "2022-04-08T17:02:11.157Z"
   },
   {
    "duration": 13,
    "start_time": "2022-04-08T17:02:11.180Z"
   },
   {
    "duration": 30,
    "start_time": "2022-04-08T17:02:11.195Z"
   },
   {
    "duration": 34,
    "start_time": "2022-04-08T17:02:11.228Z"
   },
   {
    "duration": 40,
    "start_time": "2022-04-08T17:02:11.265Z"
   },
   {
    "duration": 28,
    "start_time": "2022-04-08T17:02:11.308Z"
   },
   {
    "duration": 34,
    "start_time": "2022-04-08T17:02:11.338Z"
   },
   {
    "duration": 29,
    "start_time": "2022-04-08T17:02:11.374Z"
   },
   {
    "duration": 21,
    "start_time": "2022-04-08T17:02:11.405Z"
   },
   {
    "duration": 28,
    "start_time": "2022-04-08T17:02:11.429Z"
   },
   {
    "duration": 45,
    "start_time": "2022-04-08T17:02:11.460Z"
   },
   {
    "duration": 15,
    "start_time": "2022-04-08T17:02:11.508Z"
   },
   {
    "duration": 21,
    "start_time": "2022-04-08T17:02:11.525Z"
   },
   {
    "duration": 25,
    "start_time": "2022-04-08T17:02:11.548Z"
   },
   {
    "duration": 20,
    "start_time": "2022-04-08T17:02:11.575Z"
   },
   {
    "duration": 30,
    "start_time": "2022-04-08T17:02:11.598Z"
   },
   {
    "duration": 44,
    "start_time": "2022-04-08T17:02:11.631Z"
   },
   {
    "duration": 106,
    "start_time": "2022-04-08T17:02:11.679Z"
   },
   {
    "duration": 614,
    "start_time": "2022-04-08T17:02:11.787Z"
   },
   {
    "duration": 3,
    "start_time": "2022-04-08T17:02:12.404Z"
   },
   {
    "duration": 50,
    "start_time": "2022-04-08T17:02:12.409Z"
   },
   {
    "duration": 118,
    "start_time": "2022-04-08T17:02:12.461Z"
   },
   {
    "duration": 460,
    "start_time": "2022-04-08T17:02:12.582Z"
   },
   {
    "duration": 55,
    "start_time": "2022-04-08T17:02:13.045Z"
   },
   {
    "duration": 327,
    "start_time": "2022-04-08T17:02:13.103Z"
   },
   {
    "duration": 282,
    "start_time": "2022-04-08T17:02:13.437Z"
   },
   {
    "duration": 11,
    "start_time": "2022-04-08T17:02:13.721Z"
   },
   {
    "duration": 22,
    "start_time": "2022-04-08T17:02:13.734Z"
   },
   {
    "duration": 16,
    "start_time": "2022-04-08T17:02:13.773Z"
   },
   {
    "duration": 51,
    "start_time": "2022-04-08T17:02:13.792Z"
   },
   {
    "duration": 14,
    "start_time": "2022-04-08T17:07:43.537Z"
   },
   {
    "duration": 23,
    "start_time": "2022-04-08T17:07:47.110Z"
   },
   {
    "duration": 310,
    "start_time": "2022-04-08T17:08:07.726Z"
   },
   {
    "duration": 507,
    "start_time": "2022-04-09T07:50:19.837Z"
   },
   {
    "duration": 16,
    "start_time": "2022-04-09T07:50:20.346Z"
   },
   {
    "duration": 10,
    "start_time": "2022-04-09T07:50:20.364Z"
   },
   {
    "duration": 19,
    "start_time": "2022-04-09T07:50:20.376Z"
   },
   {
    "duration": 18,
    "start_time": "2022-04-09T07:50:20.397Z"
   },
   {
    "duration": 15,
    "start_time": "2022-04-09T07:50:20.418Z"
   },
   {
    "duration": 45,
    "start_time": "2022-04-09T07:50:20.435Z"
   },
   {
    "duration": 7,
    "start_time": "2022-04-09T07:50:20.481Z"
   },
   {
    "duration": 61,
    "start_time": "2022-04-09T07:50:20.490Z"
   },
   {
    "duration": 4,
    "start_time": "2022-04-09T07:50:20.554Z"
   },
   {
    "duration": 30,
    "start_time": "2022-04-09T07:50:20.559Z"
   },
   {
    "duration": 14,
    "start_time": "2022-04-09T07:50:20.590Z"
   },
   {
    "duration": 27,
    "start_time": "2022-04-09T07:50:20.605Z"
   },
   {
    "duration": 9,
    "start_time": "2022-04-09T07:50:20.634Z"
   },
   {
    "duration": 42,
    "start_time": "2022-04-09T07:50:20.645Z"
   },
   {
    "duration": 12,
    "start_time": "2022-04-09T07:50:20.689Z"
   },
   {
    "duration": 7,
    "start_time": "2022-04-09T07:50:20.703Z"
   },
   {
    "duration": 7,
    "start_time": "2022-04-09T07:50:20.712Z"
   },
   {
    "duration": 15,
    "start_time": "2022-04-09T07:50:20.720Z"
   },
   {
    "duration": 47,
    "start_time": "2022-04-09T07:50:20.737Z"
   },
   {
    "duration": 7,
    "start_time": "2022-04-09T07:50:20.785Z"
   },
   {
    "duration": 14,
    "start_time": "2022-04-09T07:50:20.793Z"
   },
   {
    "duration": 8,
    "start_time": "2022-04-09T07:50:20.808Z"
   },
   {
    "duration": 11,
    "start_time": "2022-04-09T07:50:20.818Z"
   },
   {
    "duration": 14,
    "start_time": "2022-04-09T07:50:20.831Z"
   },
   {
    "duration": 50,
    "start_time": "2022-04-09T07:50:20.846Z"
   },
   {
    "duration": 9,
    "start_time": "2022-04-09T07:50:20.898Z"
   },
   {
    "duration": 9,
    "start_time": "2022-04-09T07:50:20.912Z"
   },
   {
    "duration": 7,
    "start_time": "2022-04-09T07:50:20.923Z"
   },
   {
    "duration": 4,
    "start_time": "2022-04-09T07:50:20.931Z"
   },
   {
    "duration": 43,
    "start_time": "2022-04-09T07:50:20.937Z"
   },
   {
    "duration": 5,
    "start_time": "2022-04-09T07:50:20.982Z"
   },
   {
    "duration": 28,
    "start_time": "2022-04-09T07:50:20.989Z"
   },
   {
    "duration": 567,
    "start_time": "2022-04-09T07:50:21.020Z"
   },
   {
    "duration": 3,
    "start_time": "2022-04-09T07:50:21.590Z"
   },
   {
    "duration": 31,
    "start_time": "2022-04-09T07:50:21.595Z"
   },
   {
    "duration": 82,
    "start_time": "2022-04-09T07:50:21.628Z"
   },
   {
    "duration": 263,
    "start_time": "2022-04-09T07:50:21.712Z"
   },
   {
    "duration": 40,
    "start_time": "2022-04-09T07:50:21.977Z"
   },
   {
    "duration": 162,
    "start_time": "2022-04-09T07:50:22.018Z"
   },
   {
    "duration": 163,
    "start_time": "2022-04-09T07:50:22.182Z"
   },
   {
    "duration": 220,
    "start_time": "2022-04-09T07:50:22.347Z"
   },
   {
    "duration": 15,
    "start_time": "2022-04-09T07:50:22.569Z"
   },
   {
    "duration": 8,
    "start_time": "2022-04-09T07:50:22.586Z"
   },
   {
    "duration": 8,
    "start_time": "2022-04-09T07:50:22.596Z"
   },
   {
    "duration": 7,
    "start_time": "2022-04-09T07:52:59.734Z"
   },
   {
    "duration": 75,
    "start_time": "2022-04-09T07:55:24.058Z"
   },
   {
    "duration": 114,
    "start_time": "2022-04-09T07:56:00.603Z"
   },
   {
    "duration": 109,
    "start_time": "2022-04-09T07:56:08.036Z"
   },
   {
    "duration": 76,
    "start_time": "2022-04-09T07:57:39.357Z"
   },
   {
    "duration": 107,
    "start_time": "2022-04-09T08:17:49.234Z"
   },
   {
    "duration": 128,
    "start_time": "2022-04-09T08:18:30.060Z"
   },
   {
    "duration": 78,
    "start_time": "2022-04-09T08:18:40.953Z"
   },
   {
    "duration": 417,
    "start_time": "2022-04-09T08:22:13.584Z"
   },
   {
    "duration": 8,
    "start_time": "2022-04-09T08:31:31.191Z"
   },
   {
    "duration": 7,
    "start_time": "2022-04-09T08:31:44.536Z"
   },
   {
    "duration": 338,
    "start_time": "2022-04-09T08:31:52.493Z"
   },
   {
    "duration": 339,
    "start_time": "2022-04-09T08:32:06.788Z"
   },
   {
    "duration": 9,
    "start_time": "2022-04-09T08:35:20.534Z"
   },
   {
    "duration": 6,
    "start_time": "2022-04-09T08:35:29.224Z"
   },
   {
    "duration": 19,
    "start_time": "2022-04-09T08:37:17.803Z"
   },
   {
    "duration": 13,
    "start_time": "2022-04-09T08:38:03.865Z"
   },
   {
    "duration": 15,
    "start_time": "2022-04-09T08:38:11.832Z"
   },
   {
    "duration": 16,
    "start_time": "2022-04-09T08:39:12.123Z"
   },
   {
    "duration": 213,
    "start_time": "2022-04-09T08:39:38.332Z"
   },
   {
    "duration": 470,
    "start_time": "2022-04-09T08:44:15.552Z"
   },
   {
    "duration": 474,
    "start_time": "2022-04-09T08:44:25.167Z"
   },
   {
    "duration": 217,
    "start_time": "2022-04-09T08:45:38.986Z"
   },
   {
    "duration": 1837,
    "start_time": "2022-04-09T08:46:34.293Z"
   },
   {
    "duration": 493,
    "start_time": "2022-04-09T08:46:56.139Z"
   },
   {
    "duration": 16,
    "start_time": "2022-04-09T08:46:56.633Z"
   },
   {
    "duration": 12,
    "start_time": "2022-04-09T08:46:56.651Z"
   },
   {
    "duration": 17,
    "start_time": "2022-04-09T08:46:56.665Z"
   },
   {
    "duration": 17,
    "start_time": "2022-04-09T08:46:56.684Z"
   },
   {
    "duration": 17,
    "start_time": "2022-04-09T08:46:56.702Z"
   },
   {
    "duration": 23,
    "start_time": "2022-04-09T08:46:56.721Z"
   },
   {
    "duration": 37,
    "start_time": "2022-04-09T08:46:56.745Z"
   },
   {
    "duration": 61,
    "start_time": "2022-04-09T08:46:56.784Z"
   },
   {
    "duration": 5,
    "start_time": "2022-04-09T08:46:56.848Z"
   },
   {
    "duration": 30,
    "start_time": "2022-04-09T08:46:56.854Z"
   },
   {
    "duration": 14,
    "start_time": "2022-04-09T08:46:56.885Z"
   },
   {
    "duration": 28,
    "start_time": "2022-04-09T08:46:56.901Z"
   },
   {
    "duration": 10,
    "start_time": "2022-04-09T08:46:56.931Z"
   },
   {
    "duration": 50,
    "start_time": "2022-04-09T08:46:56.943Z"
   },
   {
    "duration": 13,
    "start_time": "2022-04-09T08:46:56.994Z"
   },
   {
    "duration": 8,
    "start_time": "2022-04-09T08:46:57.008Z"
   },
   {
    "duration": 8,
    "start_time": "2022-04-09T08:46:57.018Z"
   },
   {
    "duration": 16,
    "start_time": "2022-04-09T08:46:57.028Z"
   },
   {
    "duration": 45,
    "start_time": "2022-04-09T08:46:57.045Z"
   },
   {
    "duration": 6,
    "start_time": "2022-04-09T08:46:57.093Z"
   },
   {
    "duration": 12,
    "start_time": "2022-04-09T08:46:57.100Z"
   },
   {
    "duration": 8,
    "start_time": "2022-04-09T08:46:57.114Z"
   },
   {
    "duration": 10,
    "start_time": "2022-04-09T08:46:57.123Z"
   },
   {
    "duration": 48,
    "start_time": "2022-04-09T08:46:57.135Z"
   },
   {
    "duration": 24,
    "start_time": "2022-04-09T08:46:57.185Z"
   },
   {
    "duration": 13,
    "start_time": "2022-04-09T08:46:57.211Z"
   },
   {
    "duration": 15,
    "start_time": "2022-04-09T08:46:57.228Z"
   },
   {
    "duration": 4,
    "start_time": "2022-04-09T08:46:57.245Z"
   },
   {
    "duration": 3,
    "start_time": "2022-04-09T08:46:57.278Z"
   },
   {
    "duration": 14,
    "start_time": "2022-04-09T08:46:57.283Z"
   },
   {
    "duration": 6,
    "start_time": "2022-04-09T08:46:57.299Z"
   },
   {
    "duration": 26,
    "start_time": "2022-04-09T08:46:57.307Z"
   },
   {
    "duration": 414,
    "start_time": "2022-04-09T08:46:57.335Z"
   },
   {
    "duration": 4,
    "start_time": "2022-04-09T08:46:57.751Z"
   },
   {
    "duration": 40,
    "start_time": "2022-04-09T08:46:57.756Z"
   },
   {
    "duration": 60,
    "start_time": "2022-04-09T08:46:57.798Z"
   },
   {
    "duration": 299,
    "start_time": "2022-04-09T08:46:57.860Z"
   },
   {
    "duration": 84,
    "start_time": "2022-04-09T08:46:58.161Z"
   },
   {
    "duration": 0,
    "start_time": "2022-04-09T08:46:58.247Z"
   },
   {
    "duration": 0,
    "start_time": "2022-04-09T08:46:58.248Z"
   },
   {
    "duration": 0,
    "start_time": "2022-04-09T08:46:58.249Z"
   },
   {
    "duration": 0,
    "start_time": "2022-04-09T08:46:58.250Z"
   },
   {
    "duration": 0,
    "start_time": "2022-04-09T08:46:58.251Z"
   },
   {
    "duration": 0,
    "start_time": "2022-04-09T08:46:58.252Z"
   },
   {
    "duration": 0,
    "start_time": "2022-04-09T08:46:58.253Z"
   },
   {
    "duration": 0,
    "start_time": "2022-04-09T08:46:58.254Z"
   },
   {
    "duration": 0,
    "start_time": "2022-04-09T08:46:58.255Z"
   },
   {
    "duration": 21,
    "start_time": "2022-04-09T08:48:03.468Z"
   },
   {
    "duration": 43,
    "start_time": "2022-04-09T08:48:28.973Z"
   },
   {
    "duration": 46,
    "start_time": "2022-04-09T08:50:56.781Z"
   },
   {
    "duration": 46,
    "start_time": "2022-04-09T08:51:33.361Z"
   },
   {
    "duration": 46,
    "start_time": "2022-04-09T08:53:03.994Z"
   },
   {
    "duration": 47,
    "start_time": "2022-04-09T08:56:32.873Z"
   },
   {
    "duration": 38,
    "start_time": "2022-04-09T08:58:08.023Z"
   },
   {
    "duration": 35,
    "start_time": "2022-04-09T08:58:46.494Z"
   },
   {
    "duration": 492,
    "start_time": "2022-04-09T08:59:27.886Z"
   },
   {
    "duration": 16,
    "start_time": "2022-04-09T08:59:28.380Z"
   },
   {
    "duration": 12,
    "start_time": "2022-04-09T08:59:28.397Z"
   },
   {
    "duration": 19,
    "start_time": "2022-04-09T08:59:28.411Z"
   },
   {
    "duration": 15,
    "start_time": "2022-04-09T08:59:28.432Z"
   },
   {
    "duration": 40,
    "start_time": "2022-04-09T08:59:28.449Z"
   },
   {
    "duration": 24,
    "start_time": "2022-04-09T08:59:28.491Z"
   },
   {
    "duration": 6,
    "start_time": "2022-04-09T08:59:28.517Z"
   },
   {
    "duration": 83,
    "start_time": "2022-04-09T08:59:28.525Z"
   },
   {
    "duration": 4,
    "start_time": "2022-04-09T08:59:28.611Z"
   },
   {
    "duration": 13,
    "start_time": "2022-04-09T08:59:28.616Z"
   },
   {
    "duration": 13,
    "start_time": "2022-04-09T08:59:28.630Z"
   },
   {
    "duration": 49,
    "start_time": "2022-04-09T08:59:28.644Z"
   },
   {
    "duration": 10,
    "start_time": "2022-04-09T08:59:28.694Z"
   },
   {
    "duration": 15,
    "start_time": "2022-04-09T08:59:28.706Z"
   },
   {
    "duration": 12,
    "start_time": "2022-04-09T08:59:28.723Z"
   },
   {
    "duration": 8,
    "start_time": "2022-04-09T08:59:28.736Z"
   },
   {
    "duration": 36,
    "start_time": "2022-04-09T08:59:28.746Z"
   },
   {
    "duration": 15,
    "start_time": "2022-04-09T08:59:28.784Z"
   },
   {
    "duration": 14,
    "start_time": "2022-04-09T08:59:28.801Z"
   },
   {
    "duration": 6,
    "start_time": "2022-04-09T08:59:28.817Z"
   },
   {
    "duration": 7,
    "start_time": "2022-04-09T08:59:28.825Z"
   },
   {
    "duration": 46,
    "start_time": "2022-04-09T08:59:28.834Z"
   },
   {
    "duration": 8,
    "start_time": "2022-04-09T08:59:28.882Z"
   },
   {
    "duration": 16,
    "start_time": "2022-04-09T08:59:28.892Z"
   },
   {
    "duration": 23,
    "start_time": "2022-04-09T08:59:28.909Z"
   },
   {
    "duration": 9,
    "start_time": "2022-04-09T08:59:28.934Z"
   },
   {
    "duration": 10,
    "start_time": "2022-04-09T08:59:28.979Z"
   },
   {
    "duration": 4,
    "start_time": "2022-04-09T08:59:28.991Z"
   },
   {
    "duration": 3,
    "start_time": "2022-04-09T08:59:28.997Z"
   },
   {
    "duration": 13,
    "start_time": "2022-04-09T08:59:29.001Z"
   },
   {
    "duration": 4,
    "start_time": "2022-04-09T08:59:29.016Z"
   },
   {
    "duration": 29,
    "start_time": "2022-04-09T08:59:29.021Z"
   },
   {
    "duration": 407,
    "start_time": "2022-04-09T08:59:29.051Z"
   },
   {
    "duration": 3,
    "start_time": "2022-04-09T08:59:29.460Z"
   },
   {
    "duration": 38,
    "start_time": "2022-04-09T08:59:29.465Z"
   },
   {
    "duration": 75,
    "start_time": "2022-04-09T08:59:29.505Z"
   },
   {
    "duration": 254,
    "start_time": "2022-04-09T08:59:29.581Z"
   },
   {
    "duration": 37,
    "start_time": "2022-04-09T08:59:29.837Z"
   },
   {
    "duration": 72,
    "start_time": "2022-04-09T08:59:29.875Z"
   },
   {
    "duration": 0,
    "start_time": "2022-04-09T08:59:29.949Z"
   },
   {
    "duration": 0,
    "start_time": "2022-04-09T08:59:29.950Z"
   },
   {
    "duration": 0,
    "start_time": "2022-04-09T08:59:29.952Z"
   },
   {
    "duration": 0,
    "start_time": "2022-04-09T08:59:29.952Z"
   },
   {
    "duration": 0,
    "start_time": "2022-04-09T08:59:29.954Z"
   },
   {
    "duration": 0,
    "start_time": "2022-04-09T08:59:29.955Z"
   },
   {
    "duration": 0,
    "start_time": "2022-04-09T08:59:29.956Z"
   },
   {
    "duration": 0,
    "start_time": "2022-04-09T08:59:29.957Z"
   },
   {
    "duration": 8,
    "start_time": "2022-04-09T09:00:55.831Z"
   },
   {
    "duration": 35,
    "start_time": "2022-04-09T09:01:06.185Z"
   },
   {
    "duration": 140,
    "start_time": "2022-04-09T09:01:14.940Z"
   },
   {
    "duration": 518,
    "start_time": "2022-04-09T09:01:29.458Z"
   },
   {
    "duration": 15,
    "start_time": "2022-04-09T09:01:29.978Z"
   },
   {
    "duration": 11,
    "start_time": "2022-04-09T09:01:29.995Z"
   },
   {
    "duration": 22,
    "start_time": "2022-04-09T09:01:30.008Z"
   },
   {
    "duration": 18,
    "start_time": "2022-04-09T09:01:30.031Z"
   },
   {
    "duration": 41,
    "start_time": "2022-04-09T09:01:30.050Z"
   },
   {
    "duration": 24,
    "start_time": "2022-04-09T09:01:30.093Z"
   },
   {
    "duration": 8,
    "start_time": "2022-04-09T09:01:30.118Z"
   },
   {
    "duration": 87,
    "start_time": "2022-04-09T09:01:30.127Z"
   },
   {
    "duration": 4,
    "start_time": "2022-04-09T09:01:30.216Z"
   },
   {
    "duration": 17,
    "start_time": "2022-04-09T09:01:30.222Z"
   },
   {
    "duration": 14,
    "start_time": "2022-04-09T09:01:30.241Z"
   },
   {
    "duration": 48,
    "start_time": "2022-04-09T09:01:30.256Z"
   },
   {
    "duration": 10,
    "start_time": "2022-04-09T09:01:30.305Z"
   },
   {
    "duration": 22,
    "start_time": "2022-04-09T09:01:30.317Z"
   },
   {
    "duration": 30,
    "start_time": "2022-04-09T09:01:30.341Z"
   },
   {
    "duration": 15,
    "start_time": "2022-04-09T09:01:30.372Z"
   },
   {
    "duration": 22,
    "start_time": "2022-04-09T09:01:30.388Z"
   },
   {
    "duration": 21,
    "start_time": "2022-04-09T09:01:30.411Z"
   },
   {
    "duration": 21,
    "start_time": "2022-04-09T09:01:30.434Z"
   },
   {
    "duration": 7,
    "start_time": "2022-04-09T09:01:30.457Z"
   },
   {
    "duration": 27,
    "start_time": "2022-04-09T09:01:30.466Z"
   },
   {
    "duration": 17,
    "start_time": "2022-04-09T09:01:30.494Z"
   },
   {
    "duration": 17,
    "start_time": "2022-04-09T09:01:30.512Z"
   },
   {
    "duration": 15,
    "start_time": "2022-04-09T09:01:30.531Z"
   },
   {
    "duration": 21,
    "start_time": "2022-04-09T09:01:30.548Z"
   },
   {
    "duration": 17,
    "start_time": "2022-04-09T09:01:30.570Z"
   },
   {
    "duration": 16,
    "start_time": "2022-04-09T09:01:30.590Z"
   },
   {
    "duration": 5,
    "start_time": "2022-04-09T09:01:30.608Z"
   },
   {
    "duration": 9,
    "start_time": "2022-04-09T09:01:30.614Z"
   },
   {
    "duration": 12,
    "start_time": "2022-04-09T09:01:30.625Z"
   },
   {
    "duration": 8,
    "start_time": "2022-04-09T09:01:30.638Z"
   },
   {
    "duration": 42,
    "start_time": "2022-04-09T09:01:30.648Z"
   },
   {
    "duration": 418,
    "start_time": "2022-04-09T09:01:30.691Z"
   },
   {
    "duration": 2,
    "start_time": "2022-04-09T09:01:31.112Z"
   },
   {
    "duration": 41,
    "start_time": "2022-04-09T09:01:31.116Z"
   },
   {
    "duration": 71,
    "start_time": "2022-04-09T09:01:31.158Z"
   },
   {
    "duration": 365,
    "start_time": "2022-04-09T09:01:31.230Z"
   },
   {
    "duration": 38,
    "start_time": "2022-04-09T09:01:31.597Z"
   },
   {
    "duration": 143,
    "start_time": "2022-04-09T09:01:31.637Z"
   },
   {
    "duration": 163,
    "start_time": "2022-04-09T09:01:31.782Z"
   },
   {
    "duration": 217,
    "start_time": "2022-04-09T09:01:31.947Z"
   },
   {
    "duration": 23,
    "start_time": "2022-04-09T09:01:32.166Z"
   },
   {
    "duration": 153,
    "start_time": "2022-04-09T09:01:32.190Z"
   },
   {
    "duration": 7,
    "start_time": "2022-04-09T09:01:32.345Z"
   },
   {
    "duration": 7,
    "start_time": "2022-04-09T09:01:32.353Z"
   },
   {
    "duration": 8,
    "start_time": "2022-04-09T09:01:32.378Z"
   },
   {
    "duration": 431,
    "start_time": "2022-04-09T09:01:32.388Z"
   },
   {
    "duration": 95,
    "start_time": "2022-04-09T10:10:13.115Z"
   },
   {
    "duration": 16,
    "start_time": "2022-04-09T10:10:13.212Z"
   },
   {
    "duration": 12,
    "start_time": "2022-04-09T10:10:13.229Z"
   },
   {
    "duration": 23,
    "start_time": "2022-04-09T10:10:13.243Z"
   },
   {
    "duration": 22,
    "start_time": "2022-04-09T10:10:13.269Z"
   },
   {
    "duration": 20,
    "start_time": "2022-04-09T10:10:13.293Z"
   },
   {
    "duration": 22,
    "start_time": "2022-04-09T10:10:13.315Z"
   },
   {
    "duration": 8,
    "start_time": "2022-04-09T10:10:13.339Z"
   },
   {
    "duration": 103,
    "start_time": "2022-04-09T10:10:13.349Z"
   },
   {
    "duration": 6,
    "start_time": "2022-04-09T10:10:13.454Z"
   },
   {
    "duration": 40,
    "start_time": "2022-04-09T10:10:13.462Z"
   },
   {
    "duration": 17,
    "start_time": "2022-04-09T10:10:13.504Z"
   },
   {
    "duration": 30,
    "start_time": "2022-04-09T10:10:13.523Z"
   },
   {
    "duration": 31,
    "start_time": "2022-04-09T10:10:13.556Z"
   },
   {
    "duration": 21,
    "start_time": "2022-04-09T10:10:13.589Z"
   },
   {
    "duration": 14,
    "start_time": "2022-04-09T10:10:13.612Z"
   },
   {
    "duration": 10,
    "start_time": "2022-04-09T10:10:13.628Z"
   },
   {
    "duration": 39,
    "start_time": "2022-04-09T10:10:13.640Z"
   },
   {
    "duration": 17,
    "start_time": "2022-04-09T10:10:13.681Z"
   },
   {
    "duration": 15,
    "start_time": "2022-04-09T10:10:13.700Z"
   },
   {
    "duration": 5,
    "start_time": "2022-04-09T10:10:13.717Z"
   },
   {
    "duration": 11,
    "start_time": "2022-04-09T10:10:13.724Z"
   },
   {
    "duration": 6,
    "start_time": "2022-04-09T10:10:13.737Z"
   },
   {
    "duration": 42,
    "start_time": "2022-04-09T10:10:13.744Z"
   },
   {
    "duration": 20,
    "start_time": "2022-04-09T10:10:13.788Z"
   },
   {
    "duration": 23,
    "start_time": "2022-04-09T10:10:28.678Z"
   },
   {
    "duration": 10,
    "start_time": "2022-04-09T10:10:36.759Z"
   },
   {
    "duration": 24,
    "start_time": "2022-04-09T10:11:17.897Z"
   },
   {
    "duration": 17,
    "start_time": "2022-04-09T10:12:20.348Z"
   },
   {
    "duration": 11,
    "start_time": "2022-04-09T10:14:10.917Z"
   },
   {
    "duration": 10,
    "start_time": "2022-04-09T10:14:31.653Z"
   },
   {
    "duration": 484,
    "start_time": "2022-04-09T10:16:05.118Z"
   },
   {
    "duration": 17,
    "start_time": "2022-04-09T10:16:05.604Z"
   },
   {
    "duration": 11,
    "start_time": "2022-04-09T10:16:05.623Z"
   },
   {
    "duration": 18,
    "start_time": "2022-04-09T10:16:05.635Z"
   },
   {
    "duration": 30,
    "start_time": "2022-04-09T10:16:05.655Z"
   },
   {
    "duration": 18,
    "start_time": "2022-04-09T10:16:05.687Z"
   },
   {
    "duration": 24,
    "start_time": "2022-04-09T10:16:05.707Z"
   },
   {
    "duration": 8,
    "start_time": "2022-04-09T10:16:05.732Z"
   },
   {
    "duration": 89,
    "start_time": "2022-04-09T10:16:05.742Z"
   },
   {
    "duration": 4,
    "start_time": "2022-04-09T10:16:05.833Z"
   },
   {
    "duration": 13,
    "start_time": "2022-04-09T10:16:05.838Z"
   },
   {
    "duration": 31,
    "start_time": "2022-04-09T10:16:05.853Z"
   },
   {
    "duration": 29,
    "start_time": "2022-04-09T10:16:05.885Z"
   },
   {
    "duration": 10,
    "start_time": "2022-04-09T10:16:05.917Z"
   },
   {
    "duration": 16,
    "start_time": "2022-04-09T10:16:05.929Z"
   },
   {
    "duration": 40,
    "start_time": "2022-04-09T10:16:05.947Z"
   },
   {
    "duration": 7,
    "start_time": "2022-04-09T10:16:05.989Z"
   },
   {
    "duration": 6,
    "start_time": "2022-04-09T10:16:05.998Z"
   },
   {
    "duration": 14,
    "start_time": "2022-04-09T10:16:06.006Z"
   },
   {
    "duration": 13,
    "start_time": "2022-04-09T10:16:06.022Z"
   },
   {
    "duration": 6,
    "start_time": "2022-04-09T10:16:06.037Z"
   },
   {
    "duration": 40,
    "start_time": "2022-04-09T10:16:06.045Z"
   },
   {
    "duration": 22,
    "start_time": "2022-04-09T10:16:06.087Z"
   },
   {
    "duration": 15,
    "start_time": "2022-04-09T10:16:06.111Z"
   },
   {
    "duration": 23,
    "start_time": "2022-04-09T10:16:06.128Z"
   },
   {
    "duration": 39,
    "start_time": "2022-04-09T10:16:06.153Z"
   },
   {
    "duration": 21,
    "start_time": "2022-04-09T10:16:06.195Z"
   },
   {
    "duration": 11,
    "start_time": "2022-04-09T10:16:06.218Z"
   },
   {
    "duration": 6,
    "start_time": "2022-04-09T10:16:06.231Z"
   },
   {
    "duration": 3,
    "start_time": "2022-04-09T10:16:06.239Z"
   },
   {
    "duration": 43,
    "start_time": "2022-04-09T10:16:06.244Z"
   },
   {
    "duration": 7,
    "start_time": "2022-04-09T10:16:06.289Z"
   },
   {
    "duration": 27,
    "start_time": "2022-04-09T10:16:06.297Z"
   },
   {
    "duration": 418,
    "start_time": "2022-04-09T10:16:06.328Z"
   },
   {
    "duration": 3,
    "start_time": "2022-04-09T10:16:06.748Z"
   },
   {
    "duration": 42,
    "start_time": "2022-04-09T10:16:06.752Z"
   },
   {
    "duration": 68,
    "start_time": "2022-04-09T10:16:06.796Z"
   },
   {
    "duration": 289,
    "start_time": "2022-04-09T10:16:06.866Z"
   },
   {
    "duration": 40,
    "start_time": "2022-04-09T10:16:07.157Z"
   },
   {
    "duration": 162,
    "start_time": "2022-04-09T10:16:07.199Z"
   },
   {
    "duration": 164,
    "start_time": "2022-04-09T10:16:07.364Z"
   },
   {
    "duration": 213,
    "start_time": "2022-04-09T10:16:07.530Z"
   },
   {
    "duration": 15,
    "start_time": "2022-04-09T10:16:07.745Z"
   },
   {
    "duration": 162,
    "start_time": "2022-04-09T10:16:07.762Z"
   },
   {
    "duration": 8,
    "start_time": "2022-04-09T10:16:07.925Z"
   },
   {
    "duration": 8,
    "start_time": "2022-04-09T10:16:07.934Z"
   },
   {
    "duration": 7,
    "start_time": "2022-04-09T10:16:07.943Z"
   },
   {
    "duration": 377,
    "start_time": "2022-04-09T10:16:07.952Z"
   },
   {
    "duration": 3,
    "start_time": "2022-04-09T10:20:11.972Z"
   },
   {
    "duration": 861,
    "start_time": "2022-04-15T06:10:24.461Z"
   },
   {
    "duration": 17,
    "start_time": "2022-04-15T06:10:25.324Z"
   },
   {
    "duration": 15,
    "start_time": "2022-04-15T06:10:25.343Z"
   },
   {
    "duration": 20,
    "start_time": "2022-04-15T06:10:25.360Z"
   },
   {
    "duration": 16,
    "start_time": "2022-04-15T06:10:25.383Z"
   },
   {
    "duration": 15,
    "start_time": "2022-04-15T06:10:25.400Z"
   },
   {
    "duration": 23,
    "start_time": "2022-04-15T06:10:25.417Z"
   },
   {
    "duration": 6,
    "start_time": "2022-04-15T06:10:25.442Z"
   },
   {
    "duration": 60,
    "start_time": "2022-04-15T06:10:25.474Z"
   },
   {
    "duration": 12,
    "start_time": "2022-04-15T06:10:25.535Z"
   },
   {
    "duration": 25,
    "start_time": "2022-04-15T06:10:25.549Z"
   },
   {
    "duration": 13,
    "start_time": "2022-04-15T06:10:25.576Z"
   },
   {
    "duration": 27,
    "start_time": "2022-04-15T06:10:25.591Z"
   },
   {
    "duration": 10,
    "start_time": "2022-04-15T06:10:25.621Z"
   },
   {
    "duration": 42,
    "start_time": "2022-04-15T06:10:25.633Z"
   },
   {
    "duration": 15,
    "start_time": "2022-04-15T06:10:25.676Z"
   },
   {
    "duration": 9,
    "start_time": "2022-04-15T06:10:25.693Z"
   },
   {
    "duration": 7,
    "start_time": "2022-04-15T06:10:25.703Z"
   },
   {
    "duration": 15,
    "start_time": "2022-04-15T06:10:25.712Z"
   },
   {
    "duration": 22,
    "start_time": "2022-04-15T06:10:25.729Z"
   },
   {
    "duration": 24,
    "start_time": "2022-04-15T06:10:25.753Z"
   },
   {
    "duration": 8,
    "start_time": "2022-04-15T06:10:25.779Z"
   },
   {
    "duration": 6,
    "start_time": "2022-04-15T06:10:25.789Z"
   },
   {
    "duration": 10,
    "start_time": "2022-04-15T06:10:25.796Z"
   },
   {
    "duration": 12,
    "start_time": "2022-04-15T06:10:25.808Z"
   },
   {
    "duration": 56,
    "start_time": "2022-04-15T06:10:25.822Z"
   },
   {
    "duration": 17,
    "start_time": "2022-04-15T06:10:25.879Z"
   },
   {
    "duration": 10,
    "start_time": "2022-04-15T06:10:25.898Z"
   },
   {
    "duration": 5,
    "start_time": "2022-04-15T06:10:25.910Z"
   },
   {
    "duration": 6,
    "start_time": "2022-04-15T06:10:25.916Z"
   },
   {
    "duration": 14,
    "start_time": "2022-04-15T06:10:25.924Z"
   },
   {
    "duration": 4,
    "start_time": "2022-04-15T06:10:25.939Z"
   },
   {
    "duration": 51,
    "start_time": "2022-04-15T06:10:25.944Z"
   },
   {
    "duration": 558,
    "start_time": "2022-04-15T06:10:25.996Z"
   },
   {
    "duration": 3,
    "start_time": "2022-04-15T06:10:26.556Z"
   },
   {
    "duration": 28,
    "start_time": "2022-04-15T06:10:26.573Z"
   },
   {
    "duration": 70,
    "start_time": "2022-04-15T06:10:26.603Z"
   },
   {
    "duration": 267,
    "start_time": "2022-04-15T06:10:26.675Z"
   },
   {
    "duration": 35,
    "start_time": "2022-04-15T06:10:26.944Z"
   },
   {
    "duration": 153,
    "start_time": "2022-04-15T06:10:26.981Z"
   },
   {
    "duration": 221,
    "start_time": "2022-04-15T06:10:27.138Z"
   },
   {
    "duration": 169,
    "start_time": "2022-04-15T06:10:27.360Z"
   },
   {
    "duration": 17,
    "start_time": "2022-04-15T06:10:27.531Z"
   },
   {
    "duration": 168,
    "start_time": "2022-04-15T06:10:27.549Z"
   },
   {
    "duration": 8,
    "start_time": "2022-04-15T06:10:27.719Z"
   },
   {
    "duration": 27,
    "start_time": "2022-04-15T06:10:27.729Z"
   },
   {
    "duration": 17,
    "start_time": "2022-04-15T06:10:27.758Z"
   },
   {
    "duration": 432,
    "start_time": "2022-04-15T06:10:27.777Z"
   },
   {
    "duration": 468,
    "start_time": "2022-04-15T06:30:15.195Z"
   },
   {
    "duration": 16,
    "start_time": "2022-04-15T06:30:15.665Z"
   },
   {
    "duration": 9,
    "start_time": "2022-04-15T06:30:15.683Z"
   },
   {
    "duration": 23,
    "start_time": "2022-04-15T06:30:15.694Z"
   },
   {
    "duration": 15,
    "start_time": "2022-04-15T06:30:15.719Z"
   },
   {
    "duration": 37,
    "start_time": "2022-04-15T06:30:15.736Z"
   },
   {
    "duration": 23,
    "start_time": "2022-04-15T06:30:15.775Z"
   },
   {
    "duration": 7,
    "start_time": "2022-04-15T06:30:18.835Z"
   },
   {
    "duration": 4,
    "start_time": "2022-04-15T06:30:53.642Z"
   },
   {
    "duration": 67,
    "start_time": "2022-04-15T06:30:59.978Z"
   },
   {
    "duration": 472,
    "start_time": "2022-04-15T06:31:58.689Z"
   },
   {
    "duration": 15,
    "start_time": "2022-04-15T06:31:59.162Z"
   },
   {
    "duration": 13,
    "start_time": "2022-04-15T06:31:59.179Z"
   },
   {
    "duration": 20,
    "start_time": "2022-04-15T06:31:59.193Z"
   },
   {
    "duration": 15,
    "start_time": "2022-04-15T06:31:59.215Z"
   },
   {
    "duration": 15,
    "start_time": "2022-04-15T06:31:59.232Z"
   },
   {
    "duration": 40,
    "start_time": "2022-04-15T06:31:59.249Z"
   },
   {
    "duration": 7,
    "start_time": "2022-04-15T06:31:59.291Z"
   },
   {
    "duration": 11,
    "start_time": "2022-04-15T06:32:06.401Z"
   },
   {
    "duration": 486,
    "start_time": "2022-04-15T06:57:51.634Z"
   },
   {
    "duration": 16,
    "start_time": "2022-04-15T06:57:52.122Z"
   },
   {
    "duration": 9,
    "start_time": "2022-04-15T06:57:52.140Z"
   },
   {
    "duration": 21,
    "start_time": "2022-04-15T06:57:52.150Z"
   },
   {
    "duration": 14,
    "start_time": "2022-04-15T06:57:52.173Z"
   },
   {
    "duration": 14,
    "start_time": "2022-04-15T06:57:52.188Z"
   },
   {
    "duration": 23,
    "start_time": "2022-04-15T06:57:52.204Z"
   },
   {
    "duration": 6,
    "start_time": "2022-04-15T06:57:52.228Z"
   },
   {
    "duration": 83,
    "start_time": "2022-04-15T06:57:52.236Z"
   },
   {
    "duration": 4,
    "start_time": "2022-04-15T06:57:52.321Z"
   },
   {
    "duration": 15,
    "start_time": "2022-04-15T06:57:52.326Z"
   },
   {
    "duration": 16,
    "start_time": "2022-04-15T06:57:52.342Z"
   },
   {
    "duration": 38,
    "start_time": "2022-04-15T06:57:52.359Z"
   },
   {
    "duration": 9,
    "start_time": "2022-04-15T06:57:52.400Z"
   },
   {
    "duration": 17,
    "start_time": "2022-04-15T06:57:52.411Z"
   },
   {
    "duration": 13,
    "start_time": "2022-04-15T06:57:52.429Z"
   },
   {
    "duration": 30,
    "start_time": "2022-04-15T06:57:52.444Z"
   },
   {
    "duration": 7,
    "start_time": "2022-04-15T06:57:52.476Z"
   },
   {
    "duration": 17,
    "start_time": "2022-04-15T06:57:52.484Z"
   },
   {
    "duration": 16,
    "start_time": "2022-04-15T06:57:52.503Z"
   },
   {
    "duration": 5,
    "start_time": "2022-04-15T06:57:52.521Z"
   },
   {
    "duration": 19,
    "start_time": "2022-04-15T06:57:52.528Z"
   },
   {
    "duration": 6,
    "start_time": "2022-04-15T06:57:52.573Z"
   },
   {
    "duration": 18,
    "start_time": "2022-04-15T06:57:52.581Z"
   },
   {
    "duration": 15,
    "start_time": "2022-04-15T06:57:52.601Z"
   },
   {
    "duration": 22,
    "start_time": "2022-04-15T06:57:52.618Z"
   },
   {
    "duration": 33,
    "start_time": "2022-04-15T06:57:52.641Z"
   },
   {
    "duration": 19,
    "start_time": "2022-04-15T06:57:52.676Z"
   },
   {
    "duration": 6,
    "start_time": "2022-04-15T06:57:52.697Z"
   },
   {
    "duration": 4,
    "start_time": "2022-04-15T06:57:52.704Z"
   },
   {
    "duration": 14,
    "start_time": "2022-04-15T06:57:52.709Z"
   },
   {
    "duration": 3,
    "start_time": "2022-04-15T06:57:52.725Z"
   },
   {
    "duration": 29,
    "start_time": "2022-04-15T06:57:52.730Z"
   },
   {
    "duration": 388,
    "start_time": "2022-04-15T06:57:52.774Z"
   },
   {
    "duration": 2,
    "start_time": "2022-04-15T06:57:53.164Z"
   },
   {
    "duration": 29,
    "start_time": "2022-04-15T06:57:53.172Z"
   },
   {
    "duration": 75,
    "start_time": "2022-04-15T06:57:53.203Z"
   },
   {
    "duration": 253,
    "start_time": "2022-04-15T06:57:53.280Z"
   },
   {
    "duration": 39,
    "start_time": "2022-04-15T06:57:53.535Z"
   },
   {
    "duration": 155,
    "start_time": "2022-04-15T06:57:53.575Z"
   },
   {
    "duration": 157,
    "start_time": "2022-04-15T06:57:53.733Z"
   },
   {
    "duration": 218,
    "start_time": "2022-04-15T06:57:53.892Z"
   },
   {
    "duration": 18,
    "start_time": "2022-04-15T06:57:54.111Z"
   },
   {
    "duration": 178,
    "start_time": "2022-04-15T06:57:54.131Z"
   },
   {
    "duration": 7,
    "start_time": "2022-04-15T06:57:54.311Z"
   },
   {
    "duration": 8,
    "start_time": "2022-04-15T06:57:54.320Z"
   },
   {
    "duration": 6,
    "start_time": "2022-04-15T06:57:54.329Z"
   },
   {
    "duration": 379,
    "start_time": "2022-04-15T06:57:54.336Z"
   },
   {
    "duration": 9,
    "start_time": "2022-04-15T06:58:06.934Z"
   },
   {
    "duration": 462,
    "start_time": "2022-04-15T07:29:04.411Z"
   },
   {
    "duration": 17,
    "start_time": "2022-04-15T07:29:04.875Z"
   },
   {
    "duration": 11,
    "start_time": "2022-04-15T07:29:04.893Z"
   },
   {
    "duration": 19,
    "start_time": "2022-04-15T07:29:04.906Z"
   },
   {
    "duration": 17,
    "start_time": "2022-04-15T07:29:04.927Z"
   },
   {
    "duration": 43,
    "start_time": "2022-04-15T07:29:04.946Z"
   },
   {
    "duration": 28,
    "start_time": "2022-04-15T07:29:04.991Z"
   },
   {
    "duration": 9,
    "start_time": "2022-04-15T07:29:05.021Z"
   },
   {
    "duration": 87,
    "start_time": "2022-04-15T07:29:05.032Z"
   },
   {
    "duration": 4,
    "start_time": "2022-04-15T07:29:05.122Z"
   },
   {
    "duration": 14,
    "start_time": "2022-04-15T07:29:05.127Z"
   },
   {
    "duration": 30,
    "start_time": "2022-04-15T07:29:05.143Z"
   },
   {
    "duration": 29,
    "start_time": "2022-04-15T07:29:05.175Z"
   },
   {
    "duration": 10,
    "start_time": "2022-04-15T07:29:05.205Z"
   },
   {
    "duration": 19,
    "start_time": "2022-04-15T07:29:05.217Z"
   },
   {
    "duration": 38,
    "start_time": "2022-04-15T07:29:05.238Z"
   },
   {
    "duration": 8,
    "start_time": "2022-04-15T07:29:05.278Z"
   },
   {
    "duration": 23,
    "start_time": "2022-04-15T07:29:05.288Z"
   },
   {
    "duration": 18,
    "start_time": "2022-04-15T07:29:05.313Z"
   },
   {
    "duration": 22,
    "start_time": "2022-04-15T07:29:05.333Z"
   },
   {
    "duration": 6,
    "start_time": "2022-04-15T07:29:05.357Z"
   },
   {
    "duration": 10,
    "start_time": "2022-04-15T07:29:05.373Z"
   },
   {
    "duration": 12,
    "start_time": "2022-04-15T07:29:05.385Z"
   },
   {
    "duration": 16,
    "start_time": "2022-04-15T07:29:05.399Z"
   },
   {
    "duration": 17,
    "start_time": "2022-04-15T07:29:05.416Z"
   },
   {
    "duration": 24,
    "start_time": "2022-04-15T07:29:05.434Z"
   },
   {
    "duration": 32,
    "start_time": "2022-04-15T07:29:05.459Z"
   },
   {
    "duration": 18,
    "start_time": "2022-04-15T07:29:05.494Z"
   },
   {
    "duration": 4,
    "start_time": "2022-04-15T07:29:05.514Z"
   },
   {
    "duration": 7,
    "start_time": "2022-04-15T07:29:05.519Z"
   },
   {
    "duration": 15,
    "start_time": "2022-04-15T07:29:05.528Z"
   },
   {
    "duration": 13,
    "start_time": "2022-04-15T07:29:05.545Z"
   },
   {
    "duration": 43,
    "start_time": "2022-04-15T07:29:05.559Z"
   },
   {
    "duration": 404,
    "start_time": "2022-04-15T07:29:05.604Z"
   },
   {
    "duration": 3,
    "start_time": "2022-04-15T07:29:06.009Z"
   },
   {
    "duration": 30,
    "start_time": "2022-04-15T07:29:06.014Z"
   },
   {
    "duration": 80,
    "start_time": "2022-04-15T07:29:06.045Z"
   },
   {
    "duration": 271,
    "start_time": "2022-04-15T07:29:06.126Z"
   },
   {
    "duration": 38,
    "start_time": "2022-04-15T07:29:06.399Z"
   },
   {
    "duration": 147,
    "start_time": "2022-04-15T07:29:08.673Z"
   },
   {
    "duration": 16,
    "start_time": "2022-04-15T07:29:26.948Z"
   },
   {
    "duration": 489,
    "start_time": "2022-04-15T07:38:31.433Z"
   },
   {
    "duration": 17,
    "start_time": "2022-04-15T07:38:31.924Z"
   },
   {
    "duration": 11,
    "start_time": "2022-04-15T07:38:31.943Z"
   },
   {
    "duration": 21,
    "start_time": "2022-04-15T07:38:31.955Z"
   },
   {
    "duration": 17,
    "start_time": "2022-04-15T07:38:31.979Z"
   },
   {
    "duration": 17,
    "start_time": "2022-04-15T07:38:31.997Z"
   },
   {
    "duration": 25,
    "start_time": "2022-04-15T07:38:32.015Z"
   },
   {
    "duration": 36,
    "start_time": "2022-04-15T07:38:32.042Z"
   },
   {
    "duration": 63,
    "start_time": "2022-04-15T07:38:32.080Z"
   },
   {
    "duration": 4,
    "start_time": "2022-04-15T07:38:32.145Z"
   },
   {
    "duration": 29,
    "start_time": "2022-04-15T07:38:32.150Z"
   },
   {
    "duration": 17,
    "start_time": "2022-04-15T07:38:32.180Z"
   },
   {
    "duration": 28,
    "start_time": "2022-04-15T07:38:32.199Z"
   },
   {
    "duration": 9,
    "start_time": "2022-04-15T07:38:32.231Z"
   },
   {
    "duration": 42,
    "start_time": "2022-04-15T07:38:32.242Z"
   },
   {
    "duration": 14,
    "start_time": "2022-04-15T07:38:32.286Z"
   },
   {
    "duration": 8,
    "start_time": "2022-04-15T07:38:32.302Z"
   },
   {
    "duration": 10,
    "start_time": "2022-04-15T07:38:32.311Z"
   },
   {
    "duration": 21,
    "start_time": "2022-04-15T07:38:32.323Z"
   },
   {
    "duration": 35,
    "start_time": "2022-04-15T07:38:32.346Z"
   },
   {
    "duration": 6,
    "start_time": "2022-04-15T07:38:32.383Z"
   },
   {
    "duration": 9,
    "start_time": "2022-04-15T07:38:32.390Z"
   },
   {
    "duration": 7,
    "start_time": "2022-04-15T07:38:32.401Z"
   },
   {
    "duration": 11,
    "start_time": "2022-04-15T07:38:32.410Z"
   },
   {
    "duration": 18,
    "start_time": "2022-04-15T07:38:32.422Z"
   },
   {
    "duration": 54,
    "start_time": "2022-04-15T07:38:32.441Z"
   },
   {
    "duration": 18,
    "start_time": "2022-04-15T07:38:32.497Z"
   },
   {
    "duration": 22,
    "start_time": "2022-04-15T07:38:32.517Z"
   },
   {
    "duration": 12,
    "start_time": "2022-04-15T07:38:32.541Z"
   },
   {
    "duration": 6,
    "start_time": "2022-04-15T07:38:32.555Z"
   },
   {
    "duration": 16,
    "start_time": "2022-04-15T07:38:32.573Z"
   },
   {
    "duration": 6,
    "start_time": "2022-04-15T07:38:32.591Z"
   },
   {
    "duration": 27,
    "start_time": "2022-04-15T07:38:32.599Z"
   },
   {
    "duration": 431,
    "start_time": "2022-04-15T07:38:32.628Z"
   },
   {
    "duration": 3,
    "start_time": "2022-04-15T07:38:33.061Z"
   },
   {
    "duration": 33,
    "start_time": "2022-04-15T07:38:33.065Z"
   },
   {
    "duration": 77,
    "start_time": "2022-04-15T07:38:33.100Z"
   },
   {
    "duration": 267,
    "start_time": "2022-04-15T07:38:33.179Z"
   },
   {
    "duration": 41,
    "start_time": "2022-04-15T07:38:33.448Z"
   },
   {
    "duration": 167,
    "start_time": "2022-04-15T07:38:33.491Z"
   },
   {
    "duration": 165,
    "start_time": "2022-04-15T07:38:33.664Z"
   },
   {
    "duration": 223,
    "start_time": "2022-04-15T07:38:33.831Z"
   },
   {
    "duration": 25,
    "start_time": "2022-04-15T07:38:34.056Z"
   },
   {
    "duration": 168,
    "start_time": "2022-04-15T07:38:34.083Z"
   },
   {
    "duration": 7,
    "start_time": "2022-04-15T07:38:34.253Z"
   },
   {
    "duration": 7,
    "start_time": "2022-04-15T07:38:34.273Z"
   },
   {
    "duration": 9,
    "start_time": "2022-04-15T07:38:34.282Z"
   },
   {
    "duration": 401,
    "start_time": "2022-04-15T07:38:34.293Z"
   },
   {
    "duration": 609,
    "start_time": "2022-04-16T08:08:59.253Z"
   },
   {
    "duration": 22,
    "start_time": "2022-04-16T08:08:59.864Z"
   },
   {
    "duration": 13,
    "start_time": "2022-04-16T08:08:59.888Z"
   },
   {
    "duration": 23,
    "start_time": "2022-04-16T08:08:59.904Z"
   },
   {
    "duration": 45,
    "start_time": "2022-04-16T08:08:59.930Z"
   },
   {
    "duration": 25,
    "start_time": "2022-04-16T08:08:59.977Z"
   },
   {
    "duration": 65,
    "start_time": "2022-04-16T08:09:00.004Z"
   },
   {
    "duration": 9,
    "start_time": "2022-04-16T08:09:00.072Z"
   },
   {
    "duration": 157,
    "start_time": "2022-04-16T08:09:00.083Z"
   },
   {
    "duration": 5,
    "start_time": "2022-04-16T08:09:00.242Z"
   },
   {
    "duration": 41,
    "start_time": "2022-04-16T08:09:00.249Z"
   },
   {
    "duration": 30,
    "start_time": "2022-04-16T08:09:00.293Z"
   },
   {
    "duration": 40,
    "start_time": "2022-04-16T08:09:00.325Z"
   },
   {
    "duration": 13,
    "start_time": "2022-04-16T08:09:00.370Z"
   },
   {
    "duration": 38,
    "start_time": "2022-04-16T08:09:00.385Z"
   },
   {
    "duration": 51,
    "start_time": "2022-04-16T08:09:00.426Z"
   },
   {
    "duration": 30,
    "start_time": "2022-04-16T08:09:00.479Z"
   },
   {
    "duration": 21,
    "start_time": "2022-04-16T08:09:00.511Z"
   },
   {
    "duration": 40,
    "start_time": "2022-04-16T08:09:00.534Z"
   },
   {
    "duration": 30,
    "start_time": "2022-04-16T08:09:00.577Z"
   },
   {
    "duration": 10,
    "start_time": "2022-04-16T08:09:00.610Z"
   },
   {
    "duration": 30,
    "start_time": "2022-04-16T08:09:00.622Z"
   },
   {
    "duration": 20,
    "start_time": "2022-04-16T08:09:00.654Z"
   },
   {
    "duration": 26,
    "start_time": "2022-04-16T08:09:00.676Z"
   },
   {
    "duration": 29,
    "start_time": "2022-04-16T08:09:00.704Z"
   },
   {
    "duration": 36,
    "start_time": "2022-04-16T08:09:00.735Z"
   },
   {
    "duration": 26,
    "start_time": "2022-04-16T08:09:00.773Z"
   },
   {
    "duration": 42,
    "start_time": "2022-04-16T08:09:00.801Z"
   },
   {
    "duration": 21,
    "start_time": "2022-04-16T08:09:00.845Z"
   },
   {
    "duration": 9,
    "start_time": "2022-04-16T08:09:00.869Z"
   },
   {
    "duration": 30,
    "start_time": "2022-04-16T08:09:00.880Z"
   },
   {
    "duration": 13,
    "start_time": "2022-04-16T08:09:00.912Z"
   },
   {
    "duration": 47,
    "start_time": "2022-04-16T08:09:00.927Z"
   },
   {
    "duration": 829,
    "start_time": "2022-04-16T08:09:00.976Z"
   },
   {
    "duration": 5,
    "start_time": "2022-04-16T08:09:01.809Z"
   },
   {
    "duration": 68,
    "start_time": "2022-04-16T08:09:01.817Z"
   },
   {
    "duration": 113,
    "start_time": "2022-04-16T08:09:01.887Z"
   },
   {
    "duration": 462,
    "start_time": "2022-04-16T08:09:02.003Z"
   },
   {
    "duration": 56,
    "start_time": "2022-04-16T08:09:02.468Z"
   },
   {
    "duration": 252,
    "start_time": "2022-04-16T08:09:02.526Z"
   },
   {
    "duration": 258,
    "start_time": "2022-04-16T08:09:02.783Z"
   },
   {
    "duration": 311,
    "start_time": "2022-04-16T08:09:03.043Z"
   },
   {
    "duration": 21,
    "start_time": "2022-04-16T08:09:03.357Z"
   },
   {
    "duration": 251,
    "start_time": "2022-04-16T08:09:03.380Z"
   },
   {
    "duration": 19,
    "start_time": "2022-04-16T08:09:03.633Z"
   },
   {
    "duration": 9,
    "start_time": "2022-04-16T08:09:03.654Z"
   },
   {
    "duration": 10,
    "start_time": "2022-04-16T08:09:03.665Z"
   },
   {
    "duration": 603,
    "start_time": "2022-04-16T08:09:03.677Z"
   },
   {
    "duration": 608,
    "start_time": "2022-04-16T08:10:27.062Z"
   },
   {
    "duration": 23,
    "start_time": "2022-04-16T08:10:27.672Z"
   },
   {
    "duration": 16,
    "start_time": "2022-04-16T08:10:27.697Z"
   },
   {
    "duration": 36,
    "start_time": "2022-04-16T08:10:27.716Z"
   },
   {
    "duration": 25,
    "start_time": "2022-04-16T08:10:27.756Z"
   },
   {
    "duration": 24,
    "start_time": "2022-04-16T08:10:27.784Z"
   },
   {
    "duration": 70,
    "start_time": "2022-04-16T08:10:27.810Z"
   },
   {
    "duration": 11,
    "start_time": "2022-04-16T08:10:27.883Z"
   },
   {
    "duration": 140,
    "start_time": "2022-04-16T08:10:27.896Z"
   },
   {
    "duration": 5,
    "start_time": "2022-04-16T08:10:28.038Z"
   },
   {
    "duration": 19,
    "start_time": "2022-04-16T08:10:28.045Z"
   },
   {
    "duration": 23,
    "start_time": "2022-04-16T08:10:28.067Z"
   },
   {
    "duration": 64,
    "start_time": "2022-04-16T08:10:28.092Z"
   },
   {
    "duration": 13,
    "start_time": "2022-04-16T08:10:28.161Z"
   },
   {
    "duration": 27,
    "start_time": "2022-04-16T08:10:28.176Z"
   },
   {
    "duration": 17,
    "start_time": "2022-04-16T08:10:28.205Z"
   },
   {
    "duration": 12,
    "start_time": "2022-04-16T08:10:28.251Z"
   },
   {
    "duration": 11,
    "start_time": "2022-04-16T08:10:28.265Z"
   },
   {
    "duration": 23,
    "start_time": "2022-04-16T08:10:28.278Z"
   },
   {
    "duration": 52,
    "start_time": "2022-04-16T08:10:28.303Z"
   },
   {
    "duration": 9,
    "start_time": "2022-04-16T08:10:28.357Z"
   },
   {
    "duration": 16,
    "start_time": "2022-04-16T08:10:28.368Z"
   },
   {
    "duration": 10,
    "start_time": "2022-04-16T08:10:28.386Z"
   },
   {
    "duration": 53,
    "start_time": "2022-04-16T08:10:28.399Z"
   },
   {
    "duration": 28,
    "start_time": "2022-04-16T08:10:28.455Z"
   },
   {
    "duration": 73,
    "start_time": "2022-04-16T08:10:28.486Z"
   },
   {
    "duration": 39,
    "start_time": "2022-04-16T08:10:28.561Z"
   },
   {
    "duration": 22,
    "start_time": "2022-04-16T08:10:28.603Z"
   },
   {
    "duration": 27,
    "start_time": "2022-04-16T08:10:28.627Z"
   },
   {
    "duration": 5,
    "start_time": "2022-04-16T08:10:28.657Z"
   },
   {
    "duration": 29,
    "start_time": "2022-04-16T08:10:28.664Z"
   },
   {
    "duration": 7,
    "start_time": "2022-04-16T08:10:28.696Z"
   },
   {
    "duration": 77,
    "start_time": "2022-04-16T08:10:28.705Z"
   },
   {
    "duration": 785,
    "start_time": "2022-04-16T08:10:28.785Z"
   },
   {
    "duration": 5,
    "start_time": "2022-04-16T08:10:29.572Z"
   },
   {
    "duration": 76,
    "start_time": "2022-04-16T08:10:29.579Z"
   },
   {
    "duration": 135,
    "start_time": "2022-04-16T08:10:29.658Z"
   },
   {
    "duration": 589,
    "start_time": "2022-04-16T08:10:29.796Z"
   },
   {
    "duration": 79,
    "start_time": "2022-04-16T08:10:30.388Z"
   },
   {
    "duration": 369,
    "start_time": "2022-04-16T08:10:30.470Z"
   },
   {
    "duration": 375,
    "start_time": "2022-04-16T08:10:30.851Z"
   },
   {
    "duration": 457,
    "start_time": "2022-04-16T08:10:31.228Z"
   },
   {
    "duration": 31,
    "start_time": "2022-04-16T08:10:31.689Z"
   },
   {
    "duration": 281,
    "start_time": "2022-04-16T08:10:31.723Z"
   },
   {
    "duration": 10,
    "start_time": "2022-04-16T08:10:32.006Z"
   },
   {
    "duration": 35,
    "start_time": "2022-04-16T08:10:32.018Z"
   },
   {
    "duration": 10,
    "start_time": "2022-04-16T08:10:32.056Z"
   },
   {
    "duration": 527,
    "start_time": "2022-04-16T08:10:32.068Z"
   },
   {
    "duration": 113,
    "start_time": "2022-04-16T08:14:54.957Z"
   },
   {
    "duration": 16,
    "start_time": "2022-04-16T08:15:19.413Z"
   },
   {
    "duration": 20,
    "start_time": "2022-04-16T08:15:40.676Z"
   },
   {
    "duration": 13,
    "start_time": "2022-04-16T08:15:47.906Z"
   },
   {
    "duration": 9,
    "start_time": "2022-04-16T08:15:57.551Z"
   },
   {
    "duration": 16,
    "start_time": "2022-04-16T08:16:13.764Z"
   },
   {
    "duration": 8,
    "start_time": "2022-04-16T08:30:35.031Z"
   },
   {
    "duration": 18,
    "start_time": "2022-04-16T08:31:14.606Z"
   },
   {
    "duration": 27,
    "start_time": "2022-04-16T08:32:21.508Z"
   },
   {
    "duration": 49,
    "start_time": "2022-04-16T08:32:32.259Z"
   },
   {
    "duration": 51,
    "start_time": "2022-04-16T08:34:12.929Z"
   },
   {
    "duration": 6,
    "start_time": "2022-04-16T08:34:31.393Z"
   },
   {
    "duration": 8,
    "start_time": "2022-04-16T08:34:46.579Z"
   },
   {
    "duration": 1594,
    "start_time": "2022-04-16T08:36:52.481Z"
   },
   {
    "duration": 160,
    "start_time": "2022-04-16T08:37:20.347Z"
   },
   {
    "duration": 31,
    "start_time": "2022-04-16T08:37:20.510Z"
   },
   {
    "duration": 18,
    "start_time": "2022-04-16T08:37:20.551Z"
   },
   {
    "duration": 33,
    "start_time": "2022-04-16T08:37:20.573Z"
   },
   {
    "duration": 58,
    "start_time": "2022-04-16T08:37:20.609Z"
   },
   {
    "duration": 33,
    "start_time": "2022-04-16T08:37:20.669Z"
   },
   {
    "duration": 65,
    "start_time": "2022-04-16T08:37:20.705Z"
   },
   {
    "duration": 10,
    "start_time": "2022-04-16T08:37:20.772Z"
   },
   {
    "duration": 132,
    "start_time": "2022-04-16T08:37:20.784Z"
   },
   {
    "duration": 6,
    "start_time": "2022-04-16T08:37:20.920Z"
   },
   {
    "duration": 32,
    "start_time": "2022-04-16T08:37:20.928Z"
   },
   {
    "duration": 20,
    "start_time": "2022-04-16T08:37:20.962Z"
   },
   {
    "duration": 39,
    "start_time": "2022-04-16T08:37:20.984Z"
   },
   {
    "duration": 35,
    "start_time": "2022-04-16T08:37:21.025Z"
   },
   {
    "duration": 26,
    "start_time": "2022-04-16T08:37:21.062Z"
   },
   {
    "duration": 21,
    "start_time": "2022-04-16T08:37:21.090Z"
   },
   {
    "duration": 42,
    "start_time": "2022-04-16T08:37:21.114Z"
   },
   {
    "duration": 8,
    "start_time": "2022-04-16T08:37:21.159Z"
   },
   {
    "duration": 24,
    "start_time": "2022-04-16T08:37:21.169Z"
   },
   {
    "duration": 20,
    "start_time": "2022-04-16T08:37:21.196Z"
   },
   {
    "duration": 49,
    "start_time": "2022-04-16T08:37:21.218Z"
   },
   {
    "duration": 7,
    "start_time": "2022-04-16T08:37:21.269Z"
   },
   {
    "duration": 16,
    "start_time": "2022-04-16T08:37:21.278Z"
   },
   {
    "duration": 18,
    "start_time": "2022-04-16T08:37:21.297Z"
   },
   {
    "duration": 39,
    "start_time": "2022-04-16T08:37:21.318Z"
   },
   {
    "duration": 28,
    "start_time": "2022-04-16T08:37:21.359Z"
   },
   {
    "duration": 35,
    "start_time": "2022-04-16T08:37:21.390Z"
   },
   {
    "duration": 29,
    "start_time": "2022-04-16T08:37:21.454Z"
   },
   {
    "duration": 16,
    "start_time": "2022-04-16T08:37:21.486Z"
   },
   {
    "duration": 7,
    "start_time": "2022-04-16T08:37:21.505Z"
   },
   {
    "duration": 37,
    "start_time": "2022-04-16T08:37:21.515Z"
   },
   {
    "duration": 8,
    "start_time": "2022-04-16T08:37:21.555Z"
   },
   {
    "duration": 14,
    "start_time": "2022-04-16T08:37:21.566Z"
   },
   {
    "duration": 6,
    "start_time": "2022-04-16T08:37:21.583Z"
   },
   {
    "duration": 69,
    "start_time": "2022-04-16T08:37:21.592Z"
   },
   {
    "duration": 172,
    "start_time": "2022-04-16T08:37:39.168Z"
   },
   {
    "duration": 24,
    "start_time": "2022-04-16T09:43:47.117Z"
   },
   {
    "duration": 17,
    "start_time": "2022-04-16T09:45:21.442Z"
   },
   {
    "duration": 23,
    "start_time": "2022-04-16T09:45:28.193Z"
   },
   {
    "duration": 17,
    "start_time": "2022-04-16T09:45:53.281Z"
   },
   {
    "duration": 250,
    "start_time": "2022-04-16T09:46:12.118Z"
   },
   {
    "duration": 22,
    "start_time": "2022-04-16T09:47:04.364Z"
   },
   {
    "duration": 356,
    "start_time": "2022-04-16T09:47:31.102Z"
   },
   {
    "duration": 319,
    "start_time": "2022-04-16T09:56:50.497Z"
   },
   {
    "duration": 212,
    "start_time": "2022-04-16T09:57:54.942Z"
   },
   {
    "duration": 50,
    "start_time": "2022-04-17T08:55:28.127Z"
   },
   {
    "duration": 575,
    "start_time": "2022-04-17T08:55:36.392Z"
   },
   {
    "duration": 14,
    "start_time": "2022-04-17T08:55:36.969Z"
   },
   {
    "duration": 13,
    "start_time": "2022-04-17T08:55:36.984Z"
   },
   {
    "duration": 19,
    "start_time": "2022-04-17T08:55:36.999Z"
   },
   {
    "duration": 15,
    "start_time": "2022-04-17T08:55:37.020Z"
   },
   {
    "duration": 15,
    "start_time": "2022-04-17T08:55:37.037Z"
   },
   {
    "duration": 22,
    "start_time": "2022-04-17T08:55:37.054Z"
   },
   {
    "duration": 6,
    "start_time": "2022-04-17T08:55:37.077Z"
   },
   {
    "duration": 125,
    "start_time": "2022-04-17T08:55:37.085Z"
   },
   {
    "duration": 11,
    "start_time": "2022-04-17T08:55:37.212Z"
   },
   {
    "duration": 12,
    "start_time": "2022-04-17T08:55:37.224Z"
   },
   {
    "duration": 12,
    "start_time": "2022-04-17T08:55:37.237Z"
   },
   {
    "duration": 25,
    "start_time": "2022-04-17T08:55:37.250Z"
   },
   {
    "duration": 10,
    "start_time": "2022-04-17T08:55:37.277Z"
   },
   {
    "duration": 47,
    "start_time": "2022-04-17T08:55:37.289Z"
   },
   {
    "duration": 11,
    "start_time": "2022-04-17T08:55:37.338Z"
   },
   {
    "duration": 7,
    "start_time": "2022-04-17T08:55:37.351Z"
   },
   {
    "duration": 6,
    "start_time": "2022-04-17T08:55:37.360Z"
   },
   {
    "duration": 15,
    "start_time": "2022-04-17T08:55:37.368Z"
   },
   {
    "duration": 43,
    "start_time": "2022-04-17T08:55:37.385Z"
   },
   {
    "duration": 14,
    "start_time": "2022-04-17T08:55:37.430Z"
   },
   {
    "duration": 7,
    "start_time": "2022-04-17T08:55:37.445Z"
   },
   {
    "duration": 9,
    "start_time": "2022-04-17T08:55:37.453Z"
   },
   {
    "duration": 6,
    "start_time": "2022-04-17T08:55:37.463Z"
   },
   {
    "duration": 9,
    "start_time": "2022-04-17T08:55:37.471Z"
   },
   {
    "duration": 48,
    "start_time": "2022-04-17T08:55:37.482Z"
   },
   {
    "duration": 21,
    "start_time": "2022-04-17T08:55:37.532Z"
   },
   {
    "duration": 15,
    "start_time": "2022-04-17T08:55:37.556Z"
   },
   {
    "duration": 13,
    "start_time": "2022-04-17T08:55:37.573Z"
   },
   {
    "duration": 4,
    "start_time": "2022-04-17T08:55:37.588Z"
   },
   {
    "duration": 26,
    "start_time": "2022-04-17T08:56:45.578Z"
   },
   {
    "duration": 23,
    "start_time": "2022-04-17T08:57:18.060Z"
   },
   {
    "duration": 589,
    "start_time": "2022-04-17T08:57:25.498Z"
   },
   {
    "duration": 117,
    "start_time": "2022-04-17T08:57:35.179Z"
   },
   {
    "duration": 700,
    "start_time": "2022-04-17T09:01:25.301Z"
   },
   {
    "duration": 117,
    "start_time": "2022-04-17T09:02:50.708Z"
   },
   {
    "duration": 124,
    "start_time": "2022-04-17T09:03:05.676Z"
   },
   {
    "duration": 188,
    "start_time": "2022-04-17T09:03:16.413Z"
   },
   {
    "duration": 239,
    "start_time": "2022-04-17T09:03:22.796Z"
   },
   {
    "duration": 230,
    "start_time": "2022-04-17T09:03:51.308Z"
   },
   {
    "duration": 133,
    "start_time": "2022-04-17T09:04:03.748Z"
   },
   {
    "duration": 218,
    "start_time": "2022-04-17T09:04:15.948Z"
   },
   {
    "duration": 138,
    "start_time": "2022-04-17T09:04:31.036Z"
   },
   {
    "duration": 125,
    "start_time": "2022-04-17T09:04:49.139Z"
   },
   {
    "duration": 117,
    "start_time": "2022-04-17T09:05:23.292Z"
   },
   {
    "duration": 43,
    "start_time": "2022-04-17T09:06:30.517Z"
   },
   {
    "duration": 126,
    "start_time": "2022-04-17T09:13:03.685Z"
   },
   {
    "duration": 119,
    "start_time": "2022-04-17T09:13:23.277Z"
   },
   {
    "duration": 144,
    "start_time": "2022-04-17T09:13:36.124Z"
   },
   {
    "duration": 111,
    "start_time": "2022-04-17T09:19:26.491Z"
   },
   {
    "duration": 126,
    "start_time": "2022-04-17T09:20:02.163Z"
   },
   {
    "duration": 127,
    "start_time": "2022-04-17T09:20:13.716Z"
   },
   {
    "duration": 125,
    "start_time": "2022-04-17T09:22:10.933Z"
   },
   {
    "duration": 125,
    "start_time": "2022-04-17T09:22:14.428Z"
   },
   {
    "duration": 121,
    "start_time": "2022-04-17T09:22:18.630Z"
   },
   {
    "duration": 210,
    "start_time": "2022-04-17T09:22:21.693Z"
   },
   {
    "duration": 125,
    "start_time": "2022-04-17T09:22:28.308Z"
   },
   {
    "duration": 119,
    "start_time": "2022-04-17T09:22:36.628Z"
   },
   {
    "duration": 115,
    "start_time": "2022-04-17T09:22:40.045Z"
   },
   {
    "duration": 139,
    "start_time": "2022-04-17T09:22:43.731Z"
   },
   {
    "duration": 122,
    "start_time": "2022-04-17T09:22:50.446Z"
   },
   {
    "duration": 109,
    "start_time": "2022-04-17T09:22:54.428Z"
   },
   {
    "duration": 140,
    "start_time": "2022-04-17T09:22:57.419Z"
   },
   {
    "duration": 123,
    "start_time": "2022-04-17T09:23:03.075Z"
   },
   {
    "duration": 122,
    "start_time": "2022-04-17T09:23:07.723Z"
   },
   {
    "duration": 146,
    "start_time": "2022-04-17T09:23:11.011Z"
   },
   {
    "duration": 121,
    "start_time": "2022-04-17T09:23:14.156Z"
   },
   {
    "duration": 147,
    "start_time": "2022-04-17T09:23:26.020Z"
   },
   {
    "duration": 120,
    "start_time": "2022-04-17T09:23:41.388Z"
   },
   {
    "duration": 129,
    "start_time": "2022-04-17T09:23:55.573Z"
   },
   {
    "duration": 123,
    "start_time": "2022-04-17T09:24:00.677Z"
   },
   {
    "duration": 134,
    "start_time": "2022-04-17T09:24:47.204Z"
   },
   {
    "duration": 248,
    "start_time": "2022-04-17T09:24:50.492Z"
   },
   {
    "duration": 16,
    "start_time": "2022-04-17T09:25:22.180Z"
   },
   {
    "duration": 11,
    "start_time": "2022-04-17T09:26:10.645Z"
   },
   {
    "duration": 18,
    "start_time": "2022-04-17T09:26:14.556Z"
   },
   {
    "duration": 200,
    "start_time": "2022-04-17T09:30:49.005Z"
   },
   {
    "duration": 111,
    "start_time": "2022-04-17T09:30:58.573Z"
   },
   {
    "duration": 18,
    "start_time": "2022-04-17T09:33:39.244Z"
   },
   {
    "duration": 29,
    "start_time": "2022-04-17T09:35:26.189Z"
   },
   {
    "duration": 126,
    "start_time": "2022-04-17T09:36:44.758Z"
   },
   {
    "duration": 111,
    "start_time": "2022-04-17T09:36:56.573Z"
   },
   {
    "duration": 193,
    "start_time": "2022-04-17T09:42:29.628Z"
   },
   {
    "duration": 130,
    "start_time": "2022-04-17T09:42:40.225Z"
   },
   {
    "duration": 116,
    "start_time": "2022-04-17T09:42:49.517Z"
   },
   {
    "duration": 513,
    "start_time": "2022-04-23T11:05:14.523Z"
   },
   {
    "duration": 23,
    "start_time": "2022-04-23T11:05:15.038Z"
   },
   {
    "duration": 21,
    "start_time": "2022-04-23T11:05:15.063Z"
   },
   {
    "duration": 27,
    "start_time": "2022-04-23T11:05:15.087Z"
   },
   {
    "duration": 19,
    "start_time": "2022-04-23T11:05:15.116Z"
   },
   {
    "duration": 18,
    "start_time": "2022-04-23T11:05:15.137Z"
   },
   {
    "duration": 35,
    "start_time": "2022-04-23T11:05:15.173Z"
   },
   {
    "duration": 7,
    "start_time": "2022-04-23T11:05:15.210Z"
   },
   {
    "duration": 97,
    "start_time": "2022-04-23T11:05:15.219Z"
   },
   {
    "duration": 4,
    "start_time": "2022-04-23T11:05:15.318Z"
   },
   {
    "duration": 24,
    "start_time": "2022-04-23T11:05:15.324Z"
   },
   {
    "duration": 37,
    "start_time": "2022-04-23T11:05:15.350Z"
   },
   {
    "duration": 29,
    "start_time": "2022-04-23T11:05:15.389Z"
   },
   {
    "duration": 11,
    "start_time": "2022-04-23T11:05:15.421Z"
   },
   {
    "duration": 50,
    "start_time": "2022-04-23T11:05:15.434Z"
   },
   {
    "duration": 30,
    "start_time": "2022-04-23T11:05:15.488Z"
   },
   {
    "duration": 9,
    "start_time": "2022-04-23T11:05:15.520Z"
   },
   {
    "duration": 9,
    "start_time": "2022-04-23T11:05:15.531Z"
   },
   {
    "duration": 37,
    "start_time": "2022-04-23T11:05:15.542Z"
   },
   {
    "duration": 25,
    "start_time": "2022-04-23T11:05:15.581Z"
   },
   {
    "duration": 16,
    "start_time": "2022-04-23T11:05:15.608Z"
   },
   {
    "duration": 8,
    "start_time": "2022-04-23T11:05:15.626Z"
   },
   {
    "duration": 12,
    "start_time": "2022-04-23T11:05:15.636Z"
   },
   {
    "duration": 12,
    "start_time": "2022-04-23T11:05:15.674Z"
   },
   {
    "duration": 21,
    "start_time": "2022-04-23T11:05:15.690Z"
   },
   {
    "duration": 23,
    "start_time": "2022-04-23T11:05:15.714Z"
   },
   {
    "duration": 52,
    "start_time": "2022-04-23T11:05:15.739Z"
   },
   {
    "duration": 19,
    "start_time": "2022-04-23T11:05:15.796Z"
   },
   {
    "duration": 20,
    "start_time": "2022-04-23T11:05:15.818Z"
   },
   {
    "duration": 9,
    "start_time": "2022-04-23T11:05:15.841Z"
   },
   {
    "duration": 61,
    "start_time": "2022-04-23T11:05:15.853Z"
   },
   {
    "duration": 87,
    "start_time": "2022-04-23T11:05:15.916Z"
   },
   {
    "duration": 0,
    "start_time": "2022-04-23T11:05:16.005Z"
   },
   {
    "duration": 0,
    "start_time": "2022-04-23T11:05:16.007Z"
   },
   {
    "duration": 0,
    "start_time": "2022-04-23T11:05:16.008Z"
   },
   {
    "duration": 0,
    "start_time": "2022-04-23T11:05:16.010Z"
   },
   {
    "duration": 0,
    "start_time": "2022-04-23T11:05:16.011Z"
   },
   {
    "duration": 0,
    "start_time": "2022-04-23T11:05:16.012Z"
   },
   {
    "duration": 0,
    "start_time": "2022-04-23T11:05:16.014Z"
   },
   {
    "duration": 0,
    "start_time": "2022-04-23T11:05:16.015Z"
   },
   {
    "duration": 0,
    "start_time": "2022-04-23T11:05:16.017Z"
   },
   {
    "duration": 0,
    "start_time": "2022-04-23T11:05:16.018Z"
   },
   {
    "duration": 0,
    "start_time": "2022-04-23T11:05:16.021Z"
   },
   {
    "duration": 0,
    "start_time": "2022-04-23T11:05:16.023Z"
   },
   {
    "duration": 0,
    "start_time": "2022-04-23T11:05:16.025Z"
   },
   {
    "duration": 0,
    "start_time": "2022-04-23T11:05:16.026Z"
   },
   {
    "duration": 0,
    "start_time": "2022-04-23T11:05:16.028Z"
   },
   {
    "duration": 0,
    "start_time": "2022-04-23T11:05:16.029Z"
   },
   {
    "duration": 0,
    "start_time": "2022-04-23T11:05:16.032Z"
   },
   {
    "duration": 0,
    "start_time": "2022-04-23T11:05:16.075Z"
   },
   {
    "duration": 0,
    "start_time": "2022-04-23T11:05:16.077Z"
   },
   {
    "duration": 0,
    "start_time": "2022-04-23T11:05:16.082Z"
   },
   {
    "duration": 0,
    "start_time": "2022-04-23T11:05:16.084Z"
   },
   {
    "duration": 0,
    "start_time": "2022-04-23T11:05:16.085Z"
   },
   {
    "duration": 0,
    "start_time": "2022-04-23T11:05:16.086Z"
   },
   {
    "duration": 0,
    "start_time": "2022-04-23T11:05:16.087Z"
   },
   {
    "duration": 0,
    "start_time": "2022-04-23T11:05:16.089Z"
   },
   {
    "duration": 0,
    "start_time": "2022-04-23T11:05:16.090Z"
   },
   {
    "duration": 0,
    "start_time": "2022-04-23T11:05:16.091Z"
   },
   {
    "duration": 0,
    "start_time": "2022-04-23T11:05:16.093Z"
   },
   {
    "duration": 0,
    "start_time": "2022-04-23T11:05:16.094Z"
   },
   {
    "duration": 8,
    "start_time": "2022-04-23T11:10:18.887Z"
   },
   {
    "duration": 10,
    "start_time": "2022-04-23T11:10:22.587Z"
   },
   {
    "duration": 13,
    "start_time": "2022-04-23T11:14:39.723Z"
   },
   {
    "duration": 385,
    "start_time": "2022-04-23T11:14:40.388Z"
   },
   {
    "duration": 131,
    "start_time": "2022-04-23T11:14:41.332Z"
   },
   {
    "duration": 19,
    "start_time": "2022-04-23T11:14:42.042Z"
   },
   {
    "duration": 143,
    "start_time": "2022-04-23T11:14:42.725Z"
   },
   {
    "duration": 19,
    "start_time": "2022-04-23T11:14:43.387Z"
   },
   {
    "duration": 129,
    "start_time": "2022-04-23T11:14:44.386Z"
   },
   {
    "duration": 187,
    "start_time": "2022-04-23T11:14:45.586Z"
   },
   {
    "duration": 715,
    "start_time": "2022-04-23T11:15:04.148Z"
   },
   {
    "duration": 446,
    "start_time": "2022-04-23T11:18:46.651Z"
   },
   {
    "duration": 18,
    "start_time": "2022-04-23T11:19:20.198Z"
   },
   {
    "duration": 544,
    "start_time": "2022-04-23T11:19:46.190Z"
   },
   {
    "duration": 5,
    "start_time": "2022-04-23T11:21:50.070Z"
   },
   {
    "duration": 3,
    "start_time": "2022-04-23T11:21:50.748Z"
   },
   {
    "duration": 10,
    "start_time": "2022-04-23T11:21:51.091Z"
   },
   {
    "duration": 4,
    "start_time": "2022-04-23T11:21:51.965Z"
   },
   {
    "duration": 28,
    "start_time": "2022-04-23T11:21:56.870Z"
   },
   {
    "duration": 113,
    "start_time": "2022-04-23T11:22:06.758Z"
   },
   {
    "duration": 142,
    "start_time": "2022-04-23T11:26:03.012Z"
   },
   {
    "duration": 3,
    "start_time": "2022-04-23T11:26:08.586Z"
   },
   {
    "duration": 29,
    "start_time": "2022-04-23T11:26:09.107Z"
   },
   {
    "duration": 9,
    "start_time": "2022-04-23T11:29:19.671Z"
   },
   {
    "duration": 65,
    "start_time": "2022-04-23T11:29:27.587Z"
   },
   {
    "duration": 290,
    "start_time": "2022-04-23T11:29:30.432Z"
   },
   {
    "duration": 36,
    "start_time": "2022-04-23T11:29:37.417Z"
   },
   {
    "duration": 158,
    "start_time": "2022-04-23T11:29:38.656Z"
   },
   {
    "duration": 165,
    "start_time": "2022-04-23T11:29:41.936Z"
   },
   {
    "duration": 163,
    "start_time": "2022-04-23T11:29:50.632Z"
   },
   {
    "duration": 156,
    "start_time": "2022-04-23T11:29:56.588Z"
   },
   {
    "duration": 16,
    "start_time": "2022-04-23T11:29:56.961Z"
   },
   {
    "duration": 198,
    "start_time": "2022-04-23T11:29:57.735Z"
   },
   {
    "duration": 8,
    "start_time": "2022-04-23T11:29:58.161Z"
   },
   {
    "duration": 8,
    "start_time": "2022-04-23T11:29:58.624Z"
   },
   {
    "duration": 8,
    "start_time": "2022-04-23T11:29:59.222Z"
   },
   {
    "duration": 438,
    "start_time": "2022-04-23T11:29:59.574Z"
   },
   {
    "duration": 400,
    "start_time": "2022-07-27T08:45:05.710Z"
   },
   {
    "duration": 309,
    "start_time": "2022-07-27T08:45:06.111Z"
   },
   {
    "duration": 15,
    "start_time": "2022-07-27T08:45:06.421Z"
   },
   {
    "duration": 13,
    "start_time": "2022-07-27T08:45:06.437Z"
   },
   {
    "duration": 16,
    "start_time": "2022-07-27T08:45:06.451Z"
   },
   {
    "duration": 13,
    "start_time": "2022-07-27T08:45:06.468Z"
   },
   {
    "duration": 13,
    "start_time": "2022-07-27T08:45:06.482Z"
   },
   {
    "duration": 26,
    "start_time": "2022-07-27T08:45:06.496Z"
   },
   {
    "duration": 7,
    "start_time": "2022-07-27T08:45:06.524Z"
   },
   {
    "duration": 1487,
    "start_time": "2022-07-27T08:45:06.532Z"
   },
   {
    "duration": 0,
    "start_time": "2022-07-27T08:45:08.022Z"
   },
   {
    "duration": 0,
    "start_time": "2022-07-27T08:45:08.023Z"
   },
   {
    "duration": 0,
    "start_time": "2022-07-27T08:45:08.025Z"
   },
   {
    "duration": 0,
    "start_time": "2022-07-27T08:45:08.027Z"
   },
   {
    "duration": 0,
    "start_time": "2022-07-27T08:45:08.028Z"
   },
   {
    "duration": 0,
    "start_time": "2022-07-27T08:45:08.029Z"
   },
   {
    "duration": 0,
    "start_time": "2022-07-27T08:45:08.030Z"
   },
   {
    "duration": 0,
    "start_time": "2022-07-27T08:45:08.031Z"
   },
   {
    "duration": 0,
    "start_time": "2022-07-27T08:45:08.031Z"
   },
   {
    "duration": 0,
    "start_time": "2022-07-27T08:45:08.032Z"
   },
   {
    "duration": 0,
    "start_time": "2022-07-27T08:45:08.033Z"
   },
   {
    "duration": 0,
    "start_time": "2022-07-27T08:45:08.034Z"
   },
   {
    "duration": 0,
    "start_time": "2022-07-27T08:45:08.035Z"
   },
   {
    "duration": 0,
    "start_time": "2022-07-27T08:45:08.036Z"
   },
   {
    "duration": 0,
    "start_time": "2022-07-27T08:45:08.037Z"
   },
   {
    "duration": 0,
    "start_time": "2022-07-27T08:45:08.038Z"
   },
   {
    "duration": 0,
    "start_time": "2022-07-27T08:45:08.038Z"
   },
   {
    "duration": 0,
    "start_time": "2022-07-27T08:45:08.039Z"
   },
   {
    "duration": 0,
    "start_time": "2022-07-27T08:45:08.040Z"
   },
   {
    "duration": 0,
    "start_time": "2022-07-27T08:45:08.041Z"
   },
   {
    "duration": 0,
    "start_time": "2022-07-27T08:45:08.042Z"
   },
   {
    "duration": 0,
    "start_time": "2022-07-27T08:45:08.043Z"
   },
   {
    "duration": 0,
    "start_time": "2022-07-27T08:45:08.044Z"
   },
   {
    "duration": 0,
    "start_time": "2022-07-27T08:45:08.045Z"
   },
   {
    "duration": 0,
    "start_time": "2022-07-27T08:45:08.046Z"
   },
   {
    "duration": 0,
    "start_time": "2022-07-27T08:45:08.047Z"
   },
   {
    "duration": 0,
    "start_time": "2022-07-27T08:45:08.047Z"
   },
   {
    "duration": 0,
    "start_time": "2022-07-27T08:45:08.048Z"
   },
   {
    "duration": 0,
    "start_time": "2022-07-27T08:45:08.049Z"
   },
   {
    "duration": 0,
    "start_time": "2022-07-27T08:45:08.050Z"
   },
   {
    "duration": 0,
    "start_time": "2022-07-27T08:45:08.051Z"
   },
   {
    "duration": 0,
    "start_time": "2022-07-27T08:45:08.052Z"
   },
   {
    "duration": 0,
    "start_time": "2022-07-27T08:45:08.053Z"
   },
   {
    "duration": 0,
    "start_time": "2022-07-27T08:45:08.054Z"
   },
   {
    "duration": 0,
    "start_time": "2022-07-27T08:45:08.054Z"
   },
   {
    "duration": 0,
    "start_time": "2022-07-27T08:45:08.055Z"
   },
   {
    "duration": 0,
    "start_time": "2022-07-27T08:45:08.056Z"
   },
   {
    "duration": 0,
    "start_time": "2022-07-27T08:45:08.057Z"
   },
   {
    "duration": 0,
    "start_time": "2022-07-27T08:45:08.058Z"
   },
   {
    "duration": 0,
    "start_time": "2022-07-27T08:45:08.059Z"
   },
   {
    "duration": 0,
    "start_time": "2022-07-27T08:45:08.103Z"
   },
   {
    "duration": 0,
    "start_time": "2022-07-27T08:45:08.107Z"
   },
   {
    "duration": 0,
    "start_time": "2022-07-27T08:45:08.109Z"
   },
   {
    "duration": 0,
    "start_time": "2022-07-27T08:45:08.110Z"
   },
   {
    "duration": 0,
    "start_time": "2022-07-27T08:45:08.112Z"
   },
   {
    "duration": 0,
    "start_time": "2022-07-27T08:45:08.113Z"
   },
   {
    "duration": 0,
    "start_time": "2022-07-27T08:45:08.114Z"
   },
   {
    "duration": 0,
    "start_time": "2022-07-27T08:45:08.115Z"
   },
   {
    "duration": 0,
    "start_time": "2022-07-27T08:45:08.117Z"
   },
   {
    "duration": 0,
    "start_time": "2022-07-27T08:45:08.118Z"
   },
   {
    "duration": 11,
    "start_time": "2022-07-27T08:47:25.174Z"
   },
   {
    "duration": 3,
    "start_time": "2022-07-27T08:47:26.844Z"
   },
   {
    "duration": 409,
    "start_time": "2022-07-27T08:47:45.393Z"
   },
   {
    "duration": 111,
    "start_time": "2022-07-27T08:47:45.805Z"
   },
   {
    "duration": 14,
    "start_time": "2022-07-27T08:47:45.919Z"
   },
   {
    "duration": 10,
    "start_time": "2022-07-27T08:47:45.935Z"
   },
   {
    "duration": 14,
    "start_time": "2022-07-27T08:47:45.946Z"
   },
   {
    "duration": 14,
    "start_time": "2022-07-27T08:47:45.961Z"
   },
   {
    "duration": 39,
    "start_time": "2022-07-27T08:47:45.976Z"
   },
   {
    "duration": 23,
    "start_time": "2022-07-27T08:47:46.017Z"
   },
   {
    "duration": 5,
    "start_time": "2022-07-27T08:47:46.042Z"
   },
   {
    "duration": 11,
    "start_time": "2022-07-27T08:47:46.049Z"
   },
   {
    "duration": 12,
    "start_time": "2022-07-27T08:47:46.061Z"
   },
   {
    "duration": 37,
    "start_time": "2022-07-27T08:47:46.074Z"
   },
   {
    "duration": 30,
    "start_time": "2022-07-27T08:47:46.113Z"
   },
   {
    "duration": 8,
    "start_time": "2022-07-27T08:47:46.145Z"
   },
   {
    "duration": 16,
    "start_time": "2022-07-27T08:47:46.155Z"
   },
   {
    "duration": 36,
    "start_time": "2022-07-27T08:47:46.173Z"
   },
   {
    "duration": 15,
    "start_time": "2022-07-27T08:47:46.212Z"
   },
   {
    "duration": 11,
    "start_time": "2022-07-27T08:47:46.228Z"
   },
   {
    "duration": 15,
    "start_time": "2022-07-27T08:47:46.240Z"
   },
   {
    "duration": 10,
    "start_time": "2022-07-27T08:47:46.256Z"
   },
   {
    "duration": 10,
    "start_time": "2022-07-27T08:47:46.268Z"
   },
   {
    "duration": 25,
    "start_time": "2022-07-27T08:47:46.279Z"
   },
   {
    "duration": 9,
    "start_time": "2022-07-27T08:47:46.306Z"
   },
   {
    "duration": 12,
    "start_time": "2022-07-27T08:47:46.317Z"
   },
   {
    "duration": 12,
    "start_time": "2022-07-27T08:47:46.331Z"
   },
   {
    "duration": 12,
    "start_time": "2022-07-27T08:47:46.344Z"
   },
   {
    "duration": 51,
    "start_time": "2022-07-27T08:47:46.358Z"
   },
   {
    "duration": 14,
    "start_time": "2022-07-27T08:47:46.411Z"
   },
   {
    "duration": 11,
    "start_time": "2022-07-27T08:47:46.428Z"
   },
   {
    "duration": 23,
    "start_time": "2022-07-27T08:47:46.441Z"
   },
   {
    "duration": 382,
    "start_time": "2022-07-27T08:47:46.465Z"
   },
   {
    "duration": 114,
    "start_time": "2022-07-27T08:47:46.849Z"
   },
   {
    "duration": 15,
    "start_time": "2022-07-27T08:47:46.965Z"
   },
   {
    "duration": 130,
    "start_time": "2022-07-27T08:47:46.981Z"
   },
   {
    "duration": 18,
    "start_time": "2022-07-27T08:47:47.113Z"
   },
   {
    "duration": 128,
    "start_time": "2022-07-27T08:47:47.132Z"
   },
   {
    "duration": 166,
    "start_time": "2022-07-27T08:47:47.262Z"
   },
   {
    "duration": 5,
    "start_time": "2022-07-27T08:47:47.430Z"
   },
   {
    "duration": 7,
    "start_time": "2022-07-27T08:47:47.438Z"
   },
   {
    "duration": 14,
    "start_time": "2022-07-27T08:47:47.447Z"
   },
   {
    "duration": 10,
    "start_time": "2022-07-27T08:47:47.465Z"
   },
   {
    "duration": 55,
    "start_time": "2022-07-27T08:47:47.477Z"
   },
   {
    "duration": 125,
    "start_time": "2022-07-27T08:47:47.534Z"
   },
   {
    "duration": 177,
    "start_time": "2022-07-27T08:47:47.660Z"
   },
   {
    "duration": 3,
    "start_time": "2022-07-27T08:47:47.838Z"
   },
   {
    "duration": 29,
    "start_time": "2022-07-27T08:47:47.843Z"
   },
   {
    "duration": 80,
    "start_time": "2022-07-27T08:47:47.874Z"
   },
   {
    "duration": 226,
    "start_time": "2022-07-27T08:47:47.955Z"
   },
   {
    "duration": 47,
    "start_time": "2022-07-27T08:47:48.183Z"
   },
   {
    "duration": 174,
    "start_time": "2022-07-27T08:47:48.234Z"
   },
   {
    "duration": 142,
    "start_time": "2022-07-27T08:47:48.409Z"
   },
   {
    "duration": 152,
    "start_time": "2022-07-27T08:47:48.553Z"
   },
   {
    "duration": 163,
    "start_time": "2022-07-27T08:47:48.706Z"
   },
   {
    "duration": 13,
    "start_time": "2022-07-27T08:47:48.870Z"
   },
   {
    "duration": 180,
    "start_time": "2022-07-27T08:47:48.885Z"
   },
   {
    "duration": 7,
    "start_time": "2022-07-27T08:47:49.066Z"
   },
   {
    "duration": 8,
    "start_time": "2022-07-27T08:47:49.074Z"
   },
   {
    "duration": 20,
    "start_time": "2022-07-27T08:47:49.083Z"
   },
   {
    "duration": 441,
    "start_time": "2022-07-27T08:47:49.105Z"
   }
  ],
  "colab": {
   "name": "DA+. Сборный проект 1. Шаблон (1).ipynb",
   "provenance": []
  },
  "kernelspec": {
   "display_name": "Python 3 (ipykernel)",
   "language": "python",
   "name": "python3"
  },
  "language_info": {
   "codemirror_mode": {
    "name": "ipython",
    "version": 3
   },
   "file_extension": ".py",
   "mimetype": "text/x-python",
   "name": "python",
   "nbconvert_exporter": "python",
   "pygments_lexer": "ipython3",
   "version": "3.9.5"
  },
  "toc": {
   "base_numbering": 1,
   "nav_menu": {
    "height": "348px",
    "width": "686px"
   },
   "number_sections": true,
   "sideBar": true,
   "skip_h1_title": true,
   "title_cell": "Table of Contents",
   "title_sidebar": "Contents",
   "toc_cell": false,
   "toc_position": {
    "height": "calc(100% - 180px)",
    "left": "10px",
    "top": "150px",
    "width": "375.391px"
   },
   "toc_section_display": true,
   "toc_window_display": false
  }
 },
 "nbformat": 4,
 "nbformat_minor": 1
}