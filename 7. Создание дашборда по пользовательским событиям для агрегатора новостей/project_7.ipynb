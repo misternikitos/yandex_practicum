{
 "cells": [
  {
   "cell_type": "code",
   "execution_count": 8,
   "metadata": {
    "collapsed": true,
    "pycharm": {
     "name": "#%%\n"
    }
   },
   "outputs": [],
   "source": [
    "# импортируем библиотеки\n",
    "import pandas as pd\n",
    "from sqlalchemy import create_engine"
   ]
  },
  {
   "cell_type": "code",
   "execution_count": 9,
   "outputs": [],
   "source": [
    "db_config = {'user': 'praktikum_student', # имя пользователя\n",
    "            'pwd': 'Sdf4$2;d-d30pp', # пароль\n",
    "            'host': 'rc1b-wcoijxj3yxfsf3fs.mdb.yandexcloud.net',\n",
    "            'port': 6432, # порт подключения\n",
    "            'db': 'data-analyst-zen-project-db'} # название базы данных"
   ],
   "metadata": {
    "collapsed": false,
    "pycharm": {
     "name": "#%%\n"
    }
   }
  },
  {
   "cell_type": "code",
   "execution_count": 10,
   "outputs": [],
   "source": [
    "connection_string = 'postgresql://{}:{}@{}:{}/{}'.format(db_config['user'],\n",
    "                                                db_config['pwd'],\n",
    "                                                db_config['host'],\n",
    "                                                db_config['port'],\n",
    "                                                db_config['db'])\n",
    "\n",
    "engine = create_engine(connection_string)"
   ],
   "metadata": {
    "collapsed": false,
    "pycharm": {
     "name": "#%%\n"
    }
   }
  },
  {
   "cell_type": "code",
   "execution_count": 11,
   "outputs": [
    {
     "data": {
      "text/plain": "       record_id item_topic source_topic age_segment                  dt  \\\n0        1040597     Деньги         Авто       18-25 2019-09-24 18:32:00   \n1        1040598     Деньги         Авто       18-25 2019-09-24 18:35:00   \n2        1040599     Деньги         Авто       18-25 2019-09-24 18:54:00   \n3        1040600     Деньги         Авто       18-25 2019-09-24 18:55:00   \n4        1040601     Деньги         Авто       18-25 2019-09-24 18:56:00   \n...          ...        ...          ...         ...                 ...   \n30740    1071337       Юмор      Финансы       36-40 2019-09-24 18:57:00   \n30741    1071338       Юмор      Финансы       36-40 2019-09-24 19:00:00   \n30742    1071339       Юмор      Финансы       41-45 2019-09-24 18:54:00   \n30743    1071340       Юмор      Финансы       41-45 2019-09-24 18:56:00   \n30744    1071341       Юмор      Финансы       41-45 2019-09-24 19:00:00   \n\n       visits  \n0           3  \n1           1  \n2           4  \n3          17  \n4          27  \n...       ...  \n30740       2  \n30741       1  \n30742       1  \n30743       1  \n30744       1  \n\n[30745 rows x 6 columns]",
      "text/html": "<div>\n<style scoped>\n    .dataframe tbody tr th:only-of-type {\n        vertical-align: middle;\n    }\n\n    .dataframe tbody tr th {\n        vertical-align: top;\n    }\n\n    .dataframe thead th {\n        text-align: right;\n    }\n</style>\n<table border=\"1\" class=\"dataframe\">\n  <thead>\n    <tr style=\"text-align: right;\">\n      <th></th>\n      <th>record_id</th>\n      <th>item_topic</th>\n      <th>source_topic</th>\n      <th>age_segment</th>\n      <th>dt</th>\n      <th>visits</th>\n    </tr>\n  </thead>\n  <tbody>\n    <tr>\n      <th>0</th>\n      <td>1040597</td>\n      <td>Деньги</td>\n      <td>Авто</td>\n      <td>18-25</td>\n      <td>2019-09-24 18:32:00</td>\n      <td>3</td>\n    </tr>\n    <tr>\n      <th>1</th>\n      <td>1040598</td>\n      <td>Деньги</td>\n      <td>Авто</td>\n      <td>18-25</td>\n      <td>2019-09-24 18:35:00</td>\n      <td>1</td>\n    </tr>\n    <tr>\n      <th>2</th>\n      <td>1040599</td>\n      <td>Деньги</td>\n      <td>Авто</td>\n      <td>18-25</td>\n      <td>2019-09-24 18:54:00</td>\n      <td>4</td>\n    </tr>\n    <tr>\n      <th>3</th>\n      <td>1040600</td>\n      <td>Деньги</td>\n      <td>Авто</td>\n      <td>18-25</td>\n      <td>2019-09-24 18:55:00</td>\n      <td>17</td>\n    </tr>\n    <tr>\n      <th>4</th>\n      <td>1040601</td>\n      <td>Деньги</td>\n      <td>Авто</td>\n      <td>18-25</td>\n      <td>2019-09-24 18:56:00</td>\n      <td>27</td>\n    </tr>\n    <tr>\n      <th>...</th>\n      <td>...</td>\n      <td>...</td>\n      <td>...</td>\n      <td>...</td>\n      <td>...</td>\n      <td>...</td>\n    </tr>\n    <tr>\n      <th>30740</th>\n      <td>1071337</td>\n      <td>Юмор</td>\n      <td>Финансы</td>\n      <td>36-40</td>\n      <td>2019-09-24 18:57:00</td>\n      <td>2</td>\n    </tr>\n    <tr>\n      <th>30741</th>\n      <td>1071338</td>\n      <td>Юмор</td>\n      <td>Финансы</td>\n      <td>36-40</td>\n      <td>2019-09-24 19:00:00</td>\n      <td>1</td>\n    </tr>\n    <tr>\n      <th>30742</th>\n      <td>1071339</td>\n      <td>Юмор</td>\n      <td>Финансы</td>\n      <td>41-45</td>\n      <td>2019-09-24 18:54:00</td>\n      <td>1</td>\n    </tr>\n    <tr>\n      <th>30743</th>\n      <td>1071340</td>\n      <td>Юмор</td>\n      <td>Финансы</td>\n      <td>41-45</td>\n      <td>2019-09-24 18:56:00</td>\n      <td>1</td>\n    </tr>\n    <tr>\n      <th>30744</th>\n      <td>1071341</td>\n      <td>Юмор</td>\n      <td>Финансы</td>\n      <td>41-45</td>\n      <td>2019-09-24 19:00:00</td>\n      <td>1</td>\n    </tr>\n  </tbody>\n</table>\n<p>30745 rows × 6 columns</p>\n</div>"
     },
     "execution_count": 11,
     "metadata": {},
     "output_type": "execute_result"
    }
   ],
   "source": [
    "query = \"SELECT * FROM dash_visits\"\n",
    "data = pd.io.sql.read_sql(query, con=engine)\n",
    "data"
   ],
   "metadata": {
    "collapsed": false,
    "pycharm": {
     "name": "#%%\n"
    }
   }
  },
  {
   "cell_type": "code",
   "execution_count": 12,
   "outputs": [],
   "source": [
    "data.to_csv('data.csv', encoding='utf-8', index=False, header=True)"
   ],
   "metadata": {
    "collapsed": false,
    "pycharm": {
     "name": "#%%\n"
    }
   }
  },
  {
   "cell_type": "markdown",
   "source": [
    "### Ссылка на дашборд на сайте Tableau Public:"
   ],
   "metadata": {
    "collapsed": false,
    "pycharm": {
     "name": "#%% md\n"
    }
   }
  },
  {
   "cell_type": "markdown",
   "source": [
    "https://public.tableau.com/app/profile/woxtik/viz/__16552210819920/sheet0_1"
   ],
   "metadata": {
    "collapsed": false,
    "pycharm": {
     "name": "#%% md\n"
    }
   }
  }
 ],
 "metadata": {
  "kernelspec": {
   "display_name": "Python 3",
   "language": "python",
   "name": "python3"
  },
  "language_info": {
   "codemirror_mode": {
    "name": "ipython",
    "version": 2
   },
   "file_extension": ".py",
   "mimetype": "text/x-python",
   "name": "python",
   "nbconvert_exporter": "python",
   "pygments_lexer": "ipython2",
   "version": "2.7.6"
  }
 },
 "nbformat": 4,
 "nbformat_minor": 0
}