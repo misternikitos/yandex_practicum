{
 "cells": [
  {
   "cell_type": "code",
   "execution_count": 1,
   "id": "351d33ff",
   "metadata": {
    "tags": [
     "aa81075c-062f-4de0-b5fe-14c73dc7468e"
    ],
    "pycharm": {
     "name": "#%%\n"
    }
   },
   "outputs": [],
   "source": [
    "import pandas as pd\n",
    "\n",
    "from sqlalchemy import create_engine"
   ]
  },
  {
   "cell_type": "code",
   "execution_count": 2,
   "id": "b71b7ee7",
   "metadata": {
    "pycharm": {
     "name": "#%%\n"
    }
   },
   "outputs": [],
   "source": [
    "path_to_db = '/datasets/telecomm_csi.db'\n",
    "engine = create_engine(f'sqlite:///{path_to_db}', echo = False)"
   ]
  },
  {
   "cell_type": "code",
   "execution_count": 3,
   "id": "17c103a7",
   "metadata": {
    "pycharm": {
     "name": "#%%\n"
    }
   },
   "outputs": [],
   "source": [
    "query = \"\"\"\n",
    "SELECT u.user_id,\n",
    "    u.lt_day,\n",
    "    CASE \n",
    "        WHEN u.lt_day > 365 THEN 'старый'\n",
    "        ELSE 'новый'\n",
    "    END AS is_new,\n",
    "    u.age,\n",
    "    CASE \n",
    "        WHEN u.gender_segment = 1 THEN 'женщина'\n",
    "        WHEN u.gender_segment = 0 THEN 'мужчина'\n",
    "        ELSE 'unknown'\n",
    "    END AS gender_segment,\n",
    "    u.os_name,\n",
    "    u.cpe_type_name,\n",
    "    l.country,\n",
    "    l.city,\n",
    "    substr(ag.title,4) AS age_segment,\n",
    "    substr(ts.title,4) AS traffic_segment,\n",
    "    CASE\n",
    "        WHEN u.lt_day < 182 THEN '0-0.5'\n",
    "        WHEN u.lt_day < 365 THEN '0.5-1'\n",
    "        WHEN u.lt_day < 730 THEN '1-2'\n",
    "        WHEN u.lt_day < 1095 THEN '2-3'\n",
    "        WHEN u.lt_day < 1460 THEN '3-4'\n",
    "        ELSE '5+' \n",
    "    END AS lifetime_segment,\n",
    "    u.nps_score,\n",
    "    CASE\n",
    "        WHEN u.nps_score < 7 THEN 'критики'\n",
    "        WHEN u.nps_score < 9 THEN 'нейтралы'\n",
    "        ELSE 'cторонники'\n",
    "    END AS nps_group\n",
    "FROM user AS u\n",
    "JOIN location AS l ON u.location_id=l.location_id\n",
    "JOIN age_segment AS ag ON u.age_gr_id=ag.age_gr_id\n",
    "JOIN traffic_segment AS ts ON u.tr_gr_id=ts.tr_gr_id\n",
    "JOIN lifetime_segment AS ls ON u.lt_gr_id=ls.lt_gr_id;\n",
    "\"\"\""
   ]
  },
  {
   "cell_type": "code",
   "execution_count": 4,
   "id": "35721678",
   "metadata": {
    "pycharm": {
     "name": "#%%\n"
    }
   },
   "outputs": [
    {
     "data": {
      "text/html": [
       "<div>\n",
       "<style scoped>\n",
       "    .dataframe tbody tr th:only-of-type {\n",
       "        vertical-align: middle;\n",
       "    }\n",
       "\n",
       "    .dataframe tbody tr th {\n",
       "        vertical-align: top;\n",
       "    }\n",
       "\n",
       "    .dataframe thead th {\n",
       "        text-align: right;\n",
       "    }\n",
       "</style>\n",
       "<table border=\"1\" class=\"dataframe\">\n",
       "  <thead>\n",
       "    <tr style=\"text-align: right;\">\n",
       "      <th></th>\n",
       "      <th>user_id</th>\n",
       "      <th>lt_day</th>\n",
       "      <th>is_new</th>\n",
       "      <th>age</th>\n",
       "      <th>gender_segment</th>\n",
       "      <th>os_name</th>\n",
       "      <th>cpe_type_name</th>\n",
       "      <th>country</th>\n",
       "      <th>city</th>\n",
       "      <th>age_segment</th>\n",
       "      <th>traffic_segment</th>\n",
       "      <th>lifetime_segment</th>\n",
       "      <th>nps_score</th>\n",
       "      <th>nps_group</th>\n",
       "    </tr>\n",
       "  </thead>\n",
       "  <tbody>\n",
       "    <tr>\n",
       "      <th>0</th>\n",
       "      <td>A001A2</td>\n",
       "      <td>2320</td>\n",
       "      <td>старый</td>\n",
       "      <td>45.0</td>\n",
       "      <td>женщина</td>\n",
       "      <td>ANDROID</td>\n",
       "      <td>SMARTPHONE</td>\n",
       "      <td>Россия</td>\n",
       "      <td>Уфа</td>\n",
       "      <td>45-54</td>\n",
       "      <td>1-5</td>\n",
       "      <td>5+</td>\n",
       "      <td>10</td>\n",
       "      <td>cторонники</td>\n",
       "    </tr>\n",
       "    <tr>\n",
       "      <th>1</th>\n",
       "      <td>A001WF</td>\n",
       "      <td>2344</td>\n",
       "      <td>старый</td>\n",
       "      <td>53.0</td>\n",
       "      <td>мужчина</td>\n",
       "      <td>ANDROID</td>\n",
       "      <td>SMARTPHONE</td>\n",
       "      <td>Россия</td>\n",
       "      <td>Киров</td>\n",
       "      <td>45-54</td>\n",
       "      <td>1-5</td>\n",
       "      <td>5+</td>\n",
       "      <td>10</td>\n",
       "      <td>cторонники</td>\n",
       "    </tr>\n",
       "    <tr>\n",
       "      <th>2</th>\n",
       "      <td>A003Q7</td>\n",
       "      <td>467</td>\n",
       "      <td>старый</td>\n",
       "      <td>57.0</td>\n",
       "      <td>мужчина</td>\n",
       "      <td>ANDROID</td>\n",
       "      <td>SMARTPHONE</td>\n",
       "      <td>Россия</td>\n",
       "      <td>Москва</td>\n",
       "      <td>55-64</td>\n",
       "      <td>20-25</td>\n",
       "      <td>1-2</td>\n",
       "      <td>10</td>\n",
       "      <td>cторонники</td>\n",
       "    </tr>\n",
       "    <tr>\n",
       "      <th>3</th>\n",
       "      <td>A004TB</td>\n",
       "      <td>4190</td>\n",
       "      <td>старый</td>\n",
       "      <td>44.0</td>\n",
       "      <td>женщина</td>\n",
       "      <td>IOS</td>\n",
       "      <td>SMARTPHONE</td>\n",
       "      <td>Россия</td>\n",
       "      <td>РостовнаДону</td>\n",
       "      <td>35-44</td>\n",
       "      <td>0.1-1</td>\n",
       "      <td>5+</td>\n",
       "      <td>10</td>\n",
       "      <td>cторонники</td>\n",
       "    </tr>\n",
       "    <tr>\n",
       "      <th>4</th>\n",
       "      <td>A004XT</td>\n",
       "      <td>1163</td>\n",
       "      <td>старый</td>\n",
       "      <td>24.0</td>\n",
       "      <td>мужчина</td>\n",
       "      <td>ANDROID</td>\n",
       "      <td>SMARTPHONE</td>\n",
       "      <td>Россия</td>\n",
       "      <td>Рязань</td>\n",
       "      <td>16-24</td>\n",
       "      <td>5-10</td>\n",
       "      <td>3-4</td>\n",
       "      <td>10</td>\n",
       "      <td>cторонники</td>\n",
       "    </tr>\n",
       "    <tr>\n",
       "      <th>...</th>\n",
       "      <td>...</td>\n",
       "      <td>...</td>\n",
       "      <td>...</td>\n",
       "      <td>...</td>\n",
       "      <td>...</td>\n",
       "      <td>...</td>\n",
       "      <td>...</td>\n",
       "      <td>...</td>\n",
       "      <td>...</td>\n",
       "      <td>...</td>\n",
       "      <td>...</td>\n",
       "      <td>...</td>\n",
       "      <td>...</td>\n",
       "      <td>...</td>\n",
       "    </tr>\n",
       "    <tr>\n",
       "      <th>502488</th>\n",
       "      <td>ZZZKLD</td>\n",
       "      <td>1249</td>\n",
       "      <td>старый</td>\n",
       "      <td>54.0</td>\n",
       "      <td>женщина</td>\n",
       "      <td>ANDROID</td>\n",
       "      <td>SMARTPHONE</td>\n",
       "      <td>Россия</td>\n",
       "      <td>Москва</td>\n",
       "      <td>45-54</td>\n",
       "      <td>1-5</td>\n",
       "      <td>3-4</td>\n",
       "      <td>5</td>\n",
       "      <td>критики</td>\n",
       "    </tr>\n",
       "    <tr>\n",
       "      <th>502489</th>\n",
       "      <td>ZZZLWY</td>\n",
       "      <td>129</td>\n",
       "      <td>новый</td>\n",
       "      <td>31.0</td>\n",
       "      <td>мужчина</td>\n",
       "      <td>ANDROID</td>\n",
       "      <td>SMARTPHONE</td>\n",
       "      <td>Россия</td>\n",
       "      <td>Москва</td>\n",
       "      <td>25-34</td>\n",
       "      <td>1-5</td>\n",
       "      <td>0-0.5</td>\n",
       "      <td>8</td>\n",
       "      <td>нейтралы</td>\n",
       "    </tr>\n",
       "    <tr>\n",
       "      <th>502490</th>\n",
       "      <td>ZZZQ5F</td>\n",
       "      <td>522</td>\n",
       "      <td>старый</td>\n",
       "      <td>36.0</td>\n",
       "      <td>мужчина</td>\n",
       "      <td>ANDROID</td>\n",
       "      <td>SMARTPHONE</td>\n",
       "      <td>Россия</td>\n",
       "      <td>Сургут</td>\n",
       "      <td>35-44</td>\n",
       "      <td>25-30</td>\n",
       "      <td>1-2</td>\n",
       "      <td>10</td>\n",
       "      <td>cторонники</td>\n",
       "    </tr>\n",
       "    <tr>\n",
       "      <th>502491</th>\n",
       "      <td>ZZZQ8E</td>\n",
       "      <td>2936</td>\n",
       "      <td>старый</td>\n",
       "      <td>37.0</td>\n",
       "      <td>женщина</td>\n",
       "      <td>ANDROID</td>\n",
       "      <td>SMARTPHONE</td>\n",
       "      <td>Россия</td>\n",
       "      <td>УланУдэ</td>\n",
       "      <td>35-44</td>\n",
       "      <td>65-70</td>\n",
       "      <td>5+</td>\n",
       "      <td>9</td>\n",
       "      <td>cторонники</td>\n",
       "    </tr>\n",
       "    <tr>\n",
       "      <th>502492</th>\n",
       "      <td>ZZZYH0</td>\n",
       "      <td>2471</td>\n",
       "      <td>старый</td>\n",
       "      <td>37.0</td>\n",
       "      <td>мужчина</td>\n",
       "      <td>IOS</td>\n",
       "      <td>SMARTPHONE</td>\n",
       "      <td>Россия</td>\n",
       "      <td>Самара</td>\n",
       "      <td>35-44</td>\n",
       "      <td>10-15</td>\n",
       "      <td>5+</td>\n",
       "      <td>2</td>\n",
       "      <td>критики</td>\n",
       "    </tr>\n",
       "  </tbody>\n",
       "</table>\n",
       "<p>502493 rows × 14 columns</p>\n",
       "</div>"
      ],
      "text/plain": [
       "       user_id  lt_day  is_new   age gender_segment  os_name cpe_type_name  \\\n",
       "0       A001A2    2320  старый  45.0        женщина  ANDROID    SMARTPHONE   \n",
       "1       A001WF    2344  старый  53.0        мужчина  ANDROID    SMARTPHONE   \n",
       "2       A003Q7     467  старый  57.0        мужчина  ANDROID    SMARTPHONE   \n",
       "3       A004TB    4190  старый  44.0        женщина      IOS    SMARTPHONE   \n",
       "4       A004XT    1163  старый  24.0        мужчина  ANDROID    SMARTPHONE   \n",
       "...        ...     ...     ...   ...            ...      ...           ...   \n",
       "502488  ZZZKLD    1249  старый  54.0        женщина  ANDROID    SMARTPHONE   \n",
       "502489  ZZZLWY     129   новый  31.0        мужчина  ANDROID    SMARTPHONE   \n",
       "502490  ZZZQ5F     522  старый  36.0        мужчина  ANDROID    SMARTPHONE   \n",
       "502491  ZZZQ8E    2936  старый  37.0        женщина  ANDROID    SMARTPHONE   \n",
       "502492  ZZZYH0    2471  старый  37.0        мужчина      IOS    SMARTPHONE   \n",
       "\n",
       "       country          city age_segment traffic_segment lifetime_segment  \\\n",
       "0       Россия           Уфа       45-54             1-5               5+   \n",
       "1       Россия         Киров       45-54             1-5               5+   \n",
       "2       Россия        Москва       55-64           20-25              1-2   \n",
       "3       Россия  РостовнаДону       35-44           0.1-1               5+   \n",
       "4       Россия        Рязань       16-24            5-10              3-4   \n",
       "...        ...           ...         ...             ...              ...   \n",
       "502488  Россия        Москва       45-54             1-5              3-4   \n",
       "502489  Россия        Москва       25-34             1-5            0-0.5   \n",
       "502490  Россия        Сургут       35-44           25-30              1-2   \n",
       "502491  Россия       УланУдэ       35-44           65-70               5+   \n",
       "502492  Россия        Самара       35-44           10-15               5+   \n",
       "\n",
       "        nps_score   nps_group  \n",
       "0              10  cторонники  \n",
       "1              10  cторонники  \n",
       "2              10  cторонники  \n",
       "3              10  cторонники  \n",
       "4              10  cторонники  \n",
       "...           ...         ...  \n",
       "502488          5     критики  \n",
       "502489          8    нейтралы  \n",
       "502490         10  cторонники  \n",
       "502491          9  cторонники  \n",
       "502492          2     критики  \n",
       "\n",
       "[502493 rows x 14 columns]"
      ]
     },
     "execution_count": 4,
     "metadata": {},
     "output_type": "execute_result"
    }
   ],
   "source": [
    "df = pd.read_sql(query, engine)\n",
    "df"
   ]
  },
  {
   "cell_type": "code",
   "execution_count": 5,
   "id": "f1826f5d",
   "metadata": {
    "pycharm": {
     "name": "#%%\n"
    }
   },
   "outputs": [],
   "source": [
    "df.to_csv('telecomm_csi_tableau.csv', index=False)"
   ]
  },
  {
   "cell_type": "markdown",
   "id": "f9739b2f",
   "metadata": {
    "pycharm": {
     "name": "#%% md\n"
    }
   },
   "source": [
    "### Ссылка на дашборд на сайте Tableau Public:"
   ]
  },
  {
   "cell_type": "markdown",
   "id": "8e84d40c",
   "metadata": {
    "pycharm": {
     "name": "#%% md\n"
    }
   },
   "source": [
    "https://public.tableau.com/app/profile/woxtik/viz/NPS_16558807743650/Dashboard1"
   ]
  }
 ],
 "metadata": {
  "ExecuteTimeLog": [
   {
    "duration": 752,
    "start_time": "2021-10-03T17:40:52.731Z"
   },
   {
    "duration": 20,
    "start_time": "2021-10-03T17:40:53.486Z"
   },
   {
    "duration": 4,
    "start_time": "2021-10-03T17:41:04.638Z"
   },
   {
    "duration": 461,
    "start_time": "2021-10-03T17:41:04.912Z"
   },
   {
    "duration": 284,
    "start_time": "2021-10-03T17:41:05.376Z"
   },
   {
    "duration": 574,
    "start_time": "2021-10-06T07:55:05.029Z"
   },
   {
    "duration": 6,
    "start_time": "2021-10-06T07:55:05.605Z"
   },
   {
    "duration": 3,
    "start_time": "2021-10-06T07:55:14.685Z"
   },
   {
    "duration": 406,
    "start_time": "2021-10-06T07:55:15.522Z"
   },
   {
    "duration": 67,
    "start_time": "2021-10-06T07:55:15.929Z"
   },
   {
    "duration": 840,
    "start_time": "2021-10-07T07:54:04.647Z"
   },
   {
    "duration": 10,
    "start_time": "2021-10-07T07:54:05.490Z"
   },
   {
    "duration": 4,
    "start_time": "2021-10-07T07:54:05.544Z"
   },
   {
    "duration": 391,
    "start_time": "2021-10-07T07:54:06.237Z"
   },
   {
    "duration": 293,
    "start_time": "2021-10-07T07:54:06.654Z"
   },
   {
    "duration": 566,
    "start_time": "2022-06-22T06:57:58.540Z"
   },
   {
    "duration": 40,
    "start_time": "2022-06-22T06:57:59.909Z"
   },
   {
    "duration": 3,
    "start_time": "2022-06-22T06:58:02.027Z"
   },
   {
    "duration": 6218,
    "start_time": "2022-06-22T06:58:05.270Z"
   },
   {
    "duration": 3,
    "start_time": "2022-06-22T07:16:06.861Z"
   },
   {
    "duration": 5823,
    "start_time": "2022-06-22T07:16:08.327Z"
   },
   {
    "duration": 600,
    "start_time": "2022-06-27T13:27:36.656Z"
   },
   {
    "duration": 29,
    "start_time": "2022-06-27T13:27:37.259Z"
   },
   {
    "duration": 47,
    "start_time": "2022-06-27T13:27:37.290Z"
   },
   {
    "duration": 0,
    "start_time": "2022-06-27T13:27:37.339Z"
   },
   {
    "duration": 0,
    "start_time": "2022-06-27T13:27:37.341Z"
   },
   {
    "duration": 4,
    "start_time": "2022-06-27T13:27:48.541Z"
   },
   {
    "duration": 6117,
    "start_time": "2022-06-27T13:27:50.362Z"
   },
   {
    "duration": 5051,
    "start_time": "2022-06-27T13:27:58.779Z"
   },
   {
    "duration": 495,
    "start_time": "2022-06-28T04:20:00.248Z"
   },
   {
    "duration": 10,
    "start_time": "2022-06-28T04:20:00.745Z"
   },
   {
    "duration": 17,
    "start_time": "2022-06-28T04:20:00.756Z"
   },
   {
    "duration": 4921,
    "start_time": "2022-06-28T04:20:00.775Z"
   },
   {
    "duration": 3464,
    "start_time": "2022-06-28T04:20:05.698Z"
   },
   {
    "duration": 58,
    "start_time": "2022-06-28T06:53:54.581Z"
   },
   {
    "duration": 49,
    "start_time": "2022-06-28T06:54:22.073Z"
   }
  ],
  "kernelspec": {
   "display_name": "Python 3 (ipykernel)",
   "language": "python",
   "name": "python3"
  },
  "language_info": {
   "codemirror_mode": {
    "name": "ipython",
    "version": 3
   },
   "file_extension": ".py",
   "mimetype": "text/x-python",
   "name": "python",
   "nbconvert_exporter": "python",
   "pygments_lexer": "ipython3",
   "version": "3.9.5"
  },
  "toc": {
   "base_numbering": 1,
   "nav_menu": {
    "height": "96px",
    "width": "407px"
   },
   "number_sections": true,
   "sideBar": true,
   "skip_h1_title": true,
   "title_cell": "Table of Contents",
   "title_sidebar": "Contents",
   "toc_cell": false,
   "toc_position": {},
   "toc_section_display": true,
   "toc_window_display": false
  }
 },
 "nbformat": 4,
 "nbformat_minor": 5
}