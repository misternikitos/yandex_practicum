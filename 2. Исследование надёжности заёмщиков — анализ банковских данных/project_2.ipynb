{
 "cells": [
  {
   "cell_type": "markdown",
   "id": "8bb2ac38",
   "metadata": {
    "pycharm": {
     "name": "#%% md\n"
    }
   },
   "source": [
    "# Исследование надежности заемщиков."
   ]
  },
  {
   "cell_type": "markdown",
   "id": "b84870b9",
   "metadata": {
    "pycharm": {
     "name": "#%% md\n"
    }
   },
   "source": [
    "Целью данного проекта является определение степени влияния различных факторов (в частности, семейное положение и количество детей клиента) на погашение кредита в срок.\n",
    "\n",
    "Исходные данные банка — статистика о платёжеспособности клиентов. Описание данных приведено ниже."
   ]
  },
  {
   "cell_type": "markdown",
   "id": "7bf6538f",
   "metadata": {
    "pycharm": {
     "name": "#%% md\n"
    }
   },
   "source": [
    "### Шаг 1. Обзор данных"
   ]
  },
  {
   "cell_type": "code",
   "execution_count": 1,
   "id": "b50c3959",
   "metadata": {
    "pycharm": {
     "name": "#%%\n"
    }
   },
   "outputs": [],
   "source": [
    "import pandas as pd\n",
    "data = pd.read_csv('/datasets/data.csv')"
   ]
  },
  {
   "cell_type": "code",
   "execution_count": 2,
   "id": "7b85e616",
   "metadata": {
    "pycharm": {
     "name": "#%%\n"
    }
   },
   "outputs": [
    {
     "data": {
      "text/html": [
       "<div>\n",
       "<style scoped>\n",
       "    .dataframe tbody tr th:only-of-type {\n",
       "        vertical-align: middle;\n",
       "    }\n",
       "\n",
       "    .dataframe tbody tr th {\n",
       "        vertical-align: top;\n",
       "    }\n",
       "\n",
       "    .dataframe thead th {\n",
       "        text-align: right;\n",
       "    }\n",
       "</style>\n",
       "<table border=\"1\" class=\"dataframe\">\n",
       "  <thead>\n",
       "    <tr style=\"text-align: right;\">\n",
       "      <th></th>\n",
       "      <th>children</th>\n",
       "      <th>days_employed</th>\n",
       "      <th>dob_years</th>\n",
       "      <th>education</th>\n",
       "      <th>education_id</th>\n",
       "      <th>family_status</th>\n",
       "      <th>family_status_id</th>\n",
       "      <th>gender</th>\n",
       "      <th>income_type</th>\n",
       "      <th>debt</th>\n",
       "      <th>total_income</th>\n",
       "      <th>purpose</th>\n",
       "    </tr>\n",
       "  </thead>\n",
       "  <tbody>\n",
       "    <tr>\n",
       "      <th>0</th>\n",
       "      <td>1</td>\n",
       "      <td>-8437.673028</td>\n",
       "      <td>42</td>\n",
       "      <td>высшее</td>\n",
       "      <td>0</td>\n",
       "      <td>женат / замужем</td>\n",
       "      <td>0</td>\n",
       "      <td>F</td>\n",
       "      <td>сотрудник</td>\n",
       "      <td>0</td>\n",
       "      <td>253875.639453</td>\n",
       "      <td>покупка жилья</td>\n",
       "    </tr>\n",
       "    <tr>\n",
       "      <th>1</th>\n",
       "      <td>1</td>\n",
       "      <td>-4024.803754</td>\n",
       "      <td>36</td>\n",
       "      <td>среднее</td>\n",
       "      <td>1</td>\n",
       "      <td>женат / замужем</td>\n",
       "      <td>0</td>\n",
       "      <td>F</td>\n",
       "      <td>сотрудник</td>\n",
       "      <td>0</td>\n",
       "      <td>112080.014102</td>\n",
       "      <td>приобретение автомобиля</td>\n",
       "    </tr>\n",
       "    <tr>\n",
       "      <th>2</th>\n",
       "      <td>0</td>\n",
       "      <td>-5623.422610</td>\n",
       "      <td>33</td>\n",
       "      <td>Среднее</td>\n",
       "      <td>1</td>\n",
       "      <td>женат / замужем</td>\n",
       "      <td>0</td>\n",
       "      <td>M</td>\n",
       "      <td>сотрудник</td>\n",
       "      <td>0</td>\n",
       "      <td>145885.952297</td>\n",
       "      <td>покупка жилья</td>\n",
       "    </tr>\n",
       "    <tr>\n",
       "      <th>3</th>\n",
       "      <td>3</td>\n",
       "      <td>-4124.747207</td>\n",
       "      <td>32</td>\n",
       "      <td>среднее</td>\n",
       "      <td>1</td>\n",
       "      <td>женат / замужем</td>\n",
       "      <td>0</td>\n",
       "      <td>M</td>\n",
       "      <td>сотрудник</td>\n",
       "      <td>0</td>\n",
       "      <td>267628.550329</td>\n",
       "      <td>дополнительное образование</td>\n",
       "    </tr>\n",
       "    <tr>\n",
       "      <th>4</th>\n",
       "      <td>0</td>\n",
       "      <td>340266.072047</td>\n",
       "      <td>53</td>\n",
       "      <td>среднее</td>\n",
       "      <td>1</td>\n",
       "      <td>гражданский брак</td>\n",
       "      <td>1</td>\n",
       "      <td>F</td>\n",
       "      <td>пенсионер</td>\n",
       "      <td>0</td>\n",
       "      <td>158616.077870</td>\n",
       "      <td>сыграть свадьбу</td>\n",
       "    </tr>\n",
       "    <tr>\n",
       "      <th>5</th>\n",
       "      <td>0</td>\n",
       "      <td>-926.185831</td>\n",
       "      <td>27</td>\n",
       "      <td>высшее</td>\n",
       "      <td>0</td>\n",
       "      <td>гражданский брак</td>\n",
       "      <td>1</td>\n",
       "      <td>M</td>\n",
       "      <td>компаньон</td>\n",
       "      <td>0</td>\n",
       "      <td>255763.565419</td>\n",
       "      <td>покупка жилья</td>\n",
       "    </tr>\n",
       "    <tr>\n",
       "      <th>6</th>\n",
       "      <td>0</td>\n",
       "      <td>-2879.202052</td>\n",
       "      <td>43</td>\n",
       "      <td>высшее</td>\n",
       "      <td>0</td>\n",
       "      <td>женат / замужем</td>\n",
       "      <td>0</td>\n",
       "      <td>F</td>\n",
       "      <td>компаньон</td>\n",
       "      <td>0</td>\n",
       "      <td>240525.971920</td>\n",
       "      <td>операции с жильем</td>\n",
       "    </tr>\n",
       "    <tr>\n",
       "      <th>7</th>\n",
       "      <td>0</td>\n",
       "      <td>-152.779569</td>\n",
       "      <td>50</td>\n",
       "      <td>СРЕДНЕЕ</td>\n",
       "      <td>1</td>\n",
       "      <td>женат / замужем</td>\n",
       "      <td>0</td>\n",
       "      <td>M</td>\n",
       "      <td>сотрудник</td>\n",
       "      <td>0</td>\n",
       "      <td>135823.934197</td>\n",
       "      <td>образование</td>\n",
       "    </tr>\n",
       "    <tr>\n",
       "      <th>8</th>\n",
       "      <td>2</td>\n",
       "      <td>-6929.865299</td>\n",
       "      <td>35</td>\n",
       "      <td>ВЫСШЕЕ</td>\n",
       "      <td>0</td>\n",
       "      <td>гражданский брак</td>\n",
       "      <td>1</td>\n",
       "      <td>F</td>\n",
       "      <td>сотрудник</td>\n",
       "      <td>0</td>\n",
       "      <td>95856.832424</td>\n",
       "      <td>на проведение свадьбы</td>\n",
       "    </tr>\n",
       "    <tr>\n",
       "      <th>9</th>\n",
       "      <td>0</td>\n",
       "      <td>-2188.756445</td>\n",
       "      <td>41</td>\n",
       "      <td>среднее</td>\n",
       "      <td>1</td>\n",
       "      <td>женат / замужем</td>\n",
       "      <td>0</td>\n",
       "      <td>M</td>\n",
       "      <td>сотрудник</td>\n",
       "      <td>0</td>\n",
       "      <td>144425.938277</td>\n",
       "      <td>покупка жилья для семьи</td>\n",
       "    </tr>\n",
       "  </tbody>\n",
       "</table>\n",
       "</div>"
      ],
      "text/plain": [
       "   children  days_employed  dob_years education  education_id  \\\n",
       "0         1   -8437.673028         42    высшее             0   \n",
       "1         1   -4024.803754         36   среднее             1   \n",
       "2         0   -5623.422610         33   Среднее             1   \n",
       "3         3   -4124.747207         32   среднее             1   \n",
       "4         0  340266.072047         53   среднее             1   \n",
       "5         0    -926.185831         27    высшее             0   \n",
       "6         0   -2879.202052         43    высшее             0   \n",
       "7         0    -152.779569         50   СРЕДНЕЕ             1   \n",
       "8         2   -6929.865299         35    ВЫСШЕЕ             0   \n",
       "9         0   -2188.756445         41   среднее             1   \n",
       "\n",
       "      family_status  family_status_id gender income_type  debt   total_income  \\\n",
       "0   женат / замужем                 0      F   сотрудник     0  253875.639453   \n",
       "1   женат / замужем                 0      F   сотрудник     0  112080.014102   \n",
       "2   женат / замужем                 0      M   сотрудник     0  145885.952297   \n",
       "3   женат / замужем                 0      M   сотрудник     0  267628.550329   \n",
       "4  гражданский брак                 1      F   пенсионер     0  158616.077870   \n",
       "5  гражданский брак                 1      M   компаньон     0  255763.565419   \n",
       "6   женат / замужем                 0      F   компаньон     0  240525.971920   \n",
       "7   женат / замужем                 0      M   сотрудник     0  135823.934197   \n",
       "8  гражданский брак                 1      F   сотрудник     0   95856.832424   \n",
       "9   женат / замужем                 0      M   сотрудник     0  144425.938277   \n",
       "\n",
       "                      purpose  \n",
       "0               покупка жилья  \n",
       "1     приобретение автомобиля  \n",
       "2               покупка жилья  \n",
       "3  дополнительное образование  \n",
       "4             сыграть свадьбу  \n",
       "5               покупка жилья  \n",
       "6           операции с жильем  \n",
       "7                 образование  \n",
       "8       на проведение свадьбы  \n",
       "9     покупка жилья для семьи  "
      ]
     },
     "execution_count": 2,
     "metadata": {},
     "output_type": "execute_result"
    }
   ],
   "source": [
    "data.head(10)"
   ]
  },
  {
   "cell_type": "code",
   "execution_count": 3,
   "id": "2d2a0a30",
   "metadata": {
    "pycharm": {
     "name": "#%%\n"
    }
   },
   "outputs": [
    {
     "name": "stdout",
     "output_type": "stream",
     "text": [
      "<class 'pandas.core.frame.DataFrame'>\n",
      "RangeIndex: 21525 entries, 0 to 21524\n",
      "Data columns (total 12 columns):\n",
      " #   Column            Non-Null Count  Dtype  \n",
      "---  ------            --------------  -----  \n",
      " 0   children          21525 non-null  int64  \n",
      " 1   days_employed     19351 non-null  float64\n",
      " 2   dob_years         21525 non-null  int64  \n",
      " 3   education         21525 non-null  object \n",
      " 4   education_id      21525 non-null  int64  \n",
      " 5   family_status     21525 non-null  object \n",
      " 6   family_status_id  21525 non-null  int64  \n",
      " 7   gender            21525 non-null  object \n",
      " 8   income_type       21525 non-null  object \n",
      " 9   debt              21525 non-null  int64  \n",
      " 10  total_income      19351 non-null  float64\n",
      " 11  purpose           21525 non-null  object \n",
      "dtypes: float64(2), int64(5), object(5)\n",
      "memory usage: 2.0+ MB\n"
     ]
    }
   ],
   "source": [
    "data.info()"
   ]
  },
  {
   "cell_type": "markdown",
   "id": "3c2fa0d6",
   "metadata": {
    "pycharm": {
     "name": "#%% md\n"
    }
   },
   "source": [
    "В таблице 12 столбцов:\n",
    "* `children` — количество детей в семье\n",
    "* `days_employed` — общий трудовой стаж в днях\n",
    "* `dob_years` — возраст клиента в годах\n",
    "* `education` — уровень образования клиента\n",
    "* `education_id` — идентификатор уровня образования\n",
    "* `family_status` — семейное положение\n",
    "* `family_status_id` — идентификатор семейного положения\n",
    "* `gender` — пол клиента\n",
    "* `income_type` — тип занятости\n",
    "* `debt` — имел ли задолженность по возврату кредитов\n",
    "* `total_income` — ежемесячный доход\n",
    "* `purpose` — цель получения кредита\n",
    "\n",
    "Число строк в столбцах `days_employed` и `total_income` не соответсвует общему числу строк, значит, в этих столбцах присутствуют пропуски."
   ]
  },
  {
   "cell_type": "markdown",
   "id": "9b7f6bde",
   "metadata": {
    "pycharm": {
     "name": "#%% md\n"
    }
   },
   "source": [
    "### Шаг 2.1 Заполнение пропусков"
   ]
  },
  {
   "cell_type": "code",
   "execution_count": 4,
   "id": "711bb17b",
   "metadata": {
    "pycharm": {
     "name": "#%%\n"
    },
    "scrolled": true
   },
   "outputs": [
    {
     "data": {
      "text/plain": [
       "children               0\n",
       "days_employed       2174\n",
       "dob_years              0\n",
       "education              0\n",
       "education_id           0\n",
       "family_status          0\n",
       "family_status_id       0\n",
       "gender                 0\n",
       "income_type            0\n",
       "debt                   0\n",
       "total_income        2174\n",
       "purpose                0\n",
       "dtype: int64"
      ]
     },
     "execution_count": 4,
     "metadata": {},
     "output_type": "execute_result"
    }
   ],
   "source": [
    "data.isna().sum()"
   ]
  },
  {
   "cell_type": "code",
   "execution_count": 5,
   "id": "a26427d3",
   "metadata": {
    "pycharm": {
     "name": "#%%\n"
    }
   },
   "outputs": [
    {
     "data": {
      "text/plain": [
       "children               0\n",
       "days_employed       2174\n",
       "dob_years              0\n",
       "education              0\n",
       "education_id           0\n",
       "family_status          0\n",
       "family_status_id       0\n",
       "gender                 0\n",
       "income_type            0\n",
       "debt                   0\n",
       "total_income        2174\n",
       "purpose                0\n",
       "dtype: int64"
      ]
     },
     "execution_count": 5,
     "metadata": {},
     "output_type": "execute_result"
    }
   ],
   "source": [
    "data.isnull().sum()"
   ]
  },
  {
   "cell_type": "markdown",
   "id": "c9a8dae5",
   "metadata": {
    "pycharm": {
     "name": "#%% md\n"
    }
   },
   "source": [
    "В столбцах `days_employed` и `total_income` присутствует 2174 пропущенных значения, что составляет 10,1% от общего объема строк. "
   ]
  },
  {
   "cell_type": "code",
   "execution_count": 6,
   "id": "ba63ae01",
   "metadata": {
    "pycharm": {
     "name": "#%%\n"
    }
   },
   "outputs": [
    {
     "data": {
      "text/html": [
       "<div>\n",
       "<style scoped>\n",
       "    .dataframe tbody tr th:only-of-type {\n",
       "        vertical-align: middle;\n",
       "    }\n",
       "\n",
       "    .dataframe tbody tr th {\n",
       "        vertical-align: top;\n",
       "    }\n",
       "\n",
       "    .dataframe thead th {\n",
       "        text-align: right;\n",
       "    }\n",
       "</style>\n",
       "<table border=\"1\" class=\"dataframe\">\n",
       "  <thead>\n",
       "    <tr style=\"text-align: right;\">\n",
       "      <th></th>\n",
       "      <th>children</th>\n",
       "      <th>days_employed</th>\n",
       "      <th>dob_years</th>\n",
       "      <th>education</th>\n",
       "      <th>education_id</th>\n",
       "      <th>family_status</th>\n",
       "      <th>family_status_id</th>\n",
       "      <th>gender</th>\n",
       "      <th>income_type</th>\n",
       "      <th>debt</th>\n",
       "      <th>total_income</th>\n",
       "      <th>purpose</th>\n",
       "    </tr>\n",
       "  </thead>\n",
       "  <tbody>\n",
       "    <tr>\n",
       "      <th>12</th>\n",
       "      <td>0</td>\n",
       "      <td>NaN</td>\n",
       "      <td>65</td>\n",
       "      <td>среднее</td>\n",
       "      <td>1</td>\n",
       "      <td>гражданский брак</td>\n",
       "      <td>1</td>\n",
       "      <td>M</td>\n",
       "      <td>пенсионер</td>\n",
       "      <td>0</td>\n",
       "      <td>NaN</td>\n",
       "      <td>сыграть свадьбу</td>\n",
       "    </tr>\n",
       "    <tr>\n",
       "      <th>26</th>\n",
       "      <td>0</td>\n",
       "      <td>NaN</td>\n",
       "      <td>41</td>\n",
       "      <td>среднее</td>\n",
       "      <td>1</td>\n",
       "      <td>женат / замужем</td>\n",
       "      <td>0</td>\n",
       "      <td>M</td>\n",
       "      <td>госслужащий</td>\n",
       "      <td>0</td>\n",
       "      <td>NaN</td>\n",
       "      <td>образование</td>\n",
       "    </tr>\n",
       "    <tr>\n",
       "      <th>29</th>\n",
       "      <td>0</td>\n",
       "      <td>NaN</td>\n",
       "      <td>63</td>\n",
       "      <td>среднее</td>\n",
       "      <td>1</td>\n",
       "      <td>Не женат / не замужем</td>\n",
       "      <td>4</td>\n",
       "      <td>F</td>\n",
       "      <td>пенсионер</td>\n",
       "      <td>0</td>\n",
       "      <td>NaN</td>\n",
       "      <td>строительство жилой недвижимости</td>\n",
       "    </tr>\n",
       "    <tr>\n",
       "      <th>41</th>\n",
       "      <td>0</td>\n",
       "      <td>NaN</td>\n",
       "      <td>50</td>\n",
       "      <td>среднее</td>\n",
       "      <td>1</td>\n",
       "      <td>женат / замужем</td>\n",
       "      <td>0</td>\n",
       "      <td>F</td>\n",
       "      <td>госслужащий</td>\n",
       "      <td>0</td>\n",
       "      <td>NaN</td>\n",
       "      <td>сделка с подержанным автомобилем</td>\n",
       "    </tr>\n",
       "    <tr>\n",
       "      <th>55</th>\n",
       "      <td>0</td>\n",
       "      <td>NaN</td>\n",
       "      <td>54</td>\n",
       "      <td>среднее</td>\n",
       "      <td>1</td>\n",
       "      <td>гражданский брак</td>\n",
       "      <td>1</td>\n",
       "      <td>F</td>\n",
       "      <td>пенсионер</td>\n",
       "      <td>1</td>\n",
       "      <td>NaN</td>\n",
       "      <td>сыграть свадьбу</td>\n",
       "    </tr>\n",
       "  </tbody>\n",
       "</table>\n",
       "</div>"
      ],
      "text/plain": [
       "    children  days_employed  dob_years education  education_id  \\\n",
       "12         0            NaN         65   среднее             1   \n",
       "26         0            NaN         41   среднее             1   \n",
       "29         0            NaN         63   среднее             1   \n",
       "41         0            NaN         50   среднее             1   \n",
       "55         0            NaN         54   среднее             1   \n",
       "\n",
       "            family_status  family_status_id gender  income_type  debt  \\\n",
       "12       гражданский брак                 1      M    пенсионер     0   \n",
       "26        женат / замужем                 0      M  госслужащий     0   \n",
       "29  Не женат / не замужем                 4      F    пенсионер     0   \n",
       "41        женат / замужем                 0      F  госслужащий     0   \n",
       "55       гражданский брак                 1      F    пенсионер     1   \n",
       "\n",
       "    total_income                           purpose  \n",
       "12           NaN                   сыграть свадьбу  \n",
       "26           NaN                       образование  \n",
       "29           NaN  строительство жилой недвижимости  \n",
       "41           NaN  сделка с подержанным автомобилем  \n",
       "55           NaN                   сыграть свадьбу  "
      ]
     },
     "execution_count": 6,
     "metadata": {},
     "output_type": "execute_result"
    }
   ],
   "source": [
    "data[(data['days_employed'].isna() == True) | (data['total_income'].isna() == True)].head(5)"
   ]
  },
  {
   "cell_type": "markdown",
   "id": "0e82c0a2",
   "metadata": {
    "pycharm": {
     "name": "#%% md\n"
    }
   },
   "source": [
    "Вероятно, пропуски возникли из-за того, что на момент подачи кредитной заявки люди не предоставили документы, подтверждающие трудовой стаж и ежемесячный доход.\n",
    "\n",
    "`days_employed` и `total_income` - количественные переменные, в которых некоторые значения могут сильно выделяться среди большинства, поэтому имеет смысл заполнить пропуски медианным значением. В противном случае придется отказаться от существенной доли выборки.\n",
    "\n",
    "Прежде чем заполнять пропуски медианным значением следует проверить данные на аномалии, поскольку они могут привести к неправильному расчёту медианы."
   ]
  },
  {
   "cell_type": "markdown",
   "id": "c6749ab5",
   "metadata": {
    "pycharm": {
     "name": "#%% md\n"
    }
   },
   "source": [
    "### Шаг 2.2 Проверка данных на аномалии и исправления."
   ]
  },
  {
   "cell_type": "code",
   "execution_count": 7,
   "id": "b822e800",
   "metadata": {
    "pycharm": {
     "name": "#%%\n"
    }
   },
   "outputs": [
    {
     "data": {
      "text/html": [
       "<div>\n",
       "<style scoped>\n",
       "    .dataframe tbody tr th:only-of-type {\n",
       "        vertical-align: middle;\n",
       "    }\n",
       "\n",
       "    .dataframe tbody tr th {\n",
       "        vertical-align: top;\n",
       "    }\n",
       "\n",
       "    .dataframe thead th {\n",
       "        text-align: right;\n",
       "    }\n",
       "</style>\n",
       "<table border=\"1\" class=\"dataframe\">\n",
       "  <thead>\n",
       "    <tr style=\"text-align: right;\">\n",
       "      <th></th>\n",
       "      <th>children</th>\n",
       "      <th>days_employed</th>\n",
       "      <th>dob_years</th>\n",
       "      <th>education_id</th>\n",
       "      <th>family_status_id</th>\n",
       "      <th>debt</th>\n",
       "      <th>total_income</th>\n",
       "    </tr>\n",
       "  </thead>\n",
       "  <tbody>\n",
       "    <tr>\n",
       "      <th>count</th>\n",
       "      <td>21525.000000</td>\n",
       "      <td>19351.000000</td>\n",
       "      <td>21525.000000</td>\n",
       "      <td>21525.000000</td>\n",
       "      <td>21525.000000</td>\n",
       "      <td>21525.000000</td>\n",
       "      <td>1.935100e+04</td>\n",
       "    </tr>\n",
       "    <tr>\n",
       "      <th>mean</th>\n",
       "      <td>0.538908</td>\n",
       "      <td>63046.497661</td>\n",
       "      <td>43.293380</td>\n",
       "      <td>0.817236</td>\n",
       "      <td>0.972544</td>\n",
       "      <td>0.080883</td>\n",
       "      <td>1.674223e+05</td>\n",
       "    </tr>\n",
       "    <tr>\n",
       "      <th>std</th>\n",
       "      <td>1.381587</td>\n",
       "      <td>140827.311974</td>\n",
       "      <td>12.574584</td>\n",
       "      <td>0.548138</td>\n",
       "      <td>1.420324</td>\n",
       "      <td>0.272661</td>\n",
       "      <td>1.029716e+05</td>\n",
       "    </tr>\n",
       "    <tr>\n",
       "      <th>min</th>\n",
       "      <td>-1.000000</td>\n",
       "      <td>-18388.949901</td>\n",
       "      <td>0.000000</td>\n",
       "      <td>0.000000</td>\n",
       "      <td>0.000000</td>\n",
       "      <td>0.000000</td>\n",
       "      <td>2.066726e+04</td>\n",
       "    </tr>\n",
       "    <tr>\n",
       "      <th>25%</th>\n",
       "      <td>0.000000</td>\n",
       "      <td>-2747.423625</td>\n",
       "      <td>33.000000</td>\n",
       "      <td>1.000000</td>\n",
       "      <td>0.000000</td>\n",
       "      <td>0.000000</td>\n",
       "      <td>1.030532e+05</td>\n",
       "    </tr>\n",
       "    <tr>\n",
       "      <th>50%</th>\n",
       "      <td>0.000000</td>\n",
       "      <td>-1203.369529</td>\n",
       "      <td>42.000000</td>\n",
       "      <td>1.000000</td>\n",
       "      <td>0.000000</td>\n",
       "      <td>0.000000</td>\n",
       "      <td>1.450179e+05</td>\n",
       "    </tr>\n",
       "    <tr>\n",
       "      <th>75%</th>\n",
       "      <td>1.000000</td>\n",
       "      <td>-291.095954</td>\n",
       "      <td>53.000000</td>\n",
       "      <td>1.000000</td>\n",
       "      <td>1.000000</td>\n",
       "      <td>0.000000</td>\n",
       "      <td>2.034351e+05</td>\n",
       "    </tr>\n",
       "    <tr>\n",
       "      <th>max</th>\n",
       "      <td>20.000000</td>\n",
       "      <td>401755.400475</td>\n",
       "      <td>75.000000</td>\n",
       "      <td>4.000000</td>\n",
       "      <td>4.000000</td>\n",
       "      <td>1.000000</td>\n",
       "      <td>2.265604e+06</td>\n",
       "    </tr>\n",
       "  </tbody>\n",
       "</table>\n",
       "</div>"
      ],
      "text/plain": [
       "           children  days_employed     dob_years  education_id  \\\n",
       "count  21525.000000   19351.000000  21525.000000  21525.000000   \n",
       "mean       0.538908   63046.497661     43.293380      0.817236   \n",
       "std        1.381587  140827.311974     12.574584      0.548138   \n",
       "min       -1.000000  -18388.949901      0.000000      0.000000   \n",
       "25%        0.000000   -2747.423625     33.000000      1.000000   \n",
       "50%        0.000000   -1203.369529     42.000000      1.000000   \n",
       "75%        1.000000    -291.095954     53.000000      1.000000   \n",
       "max       20.000000  401755.400475     75.000000      4.000000   \n",
       "\n",
       "       family_status_id          debt  total_income  \n",
       "count      21525.000000  21525.000000  1.935100e+04  \n",
       "mean           0.972544      0.080883  1.674223e+05  \n",
       "std            1.420324      0.272661  1.029716e+05  \n",
       "min            0.000000      0.000000  2.066726e+04  \n",
       "25%            0.000000      0.000000  1.030532e+05  \n",
       "50%            0.000000      0.000000  1.450179e+05  \n",
       "75%            1.000000      0.000000  2.034351e+05  \n",
       "max            4.000000      1.000000  2.265604e+06  "
      ]
     },
     "execution_count": 7,
     "metadata": {},
     "output_type": "execute_result"
    }
   ],
   "source": [
    "data.describe()"
   ]
  },
  {
   "cell_type": "markdown",
   "id": "840ad29f",
   "metadata": {
    "pycharm": {
     "name": "#%% md\n"
    }
   },
   "source": [
    "Из представленной таблицы видно, что в столбцах `children` и `days_employed` присутствуют отрицательные значения. Вероятно, они связаны с человеческим фактором. "
   ]
  },
  {
   "cell_type": "code",
   "execution_count": 8,
   "id": "47308b16",
   "metadata": {
    "pycharm": {
     "name": "#%%\n"
    },
    "scrolled": true
   },
   "outputs": [
    {
     "data": {
      "text/html": [
       "<div>\n",
       "<style scoped>\n",
       "    .dataframe tbody tr th:only-of-type {\n",
       "        vertical-align: middle;\n",
       "    }\n",
       "\n",
       "    .dataframe tbody tr th {\n",
       "        vertical-align: top;\n",
       "    }\n",
       "\n",
       "    .dataframe thead th {\n",
       "        text-align: right;\n",
       "    }\n",
       "</style>\n",
       "<table border=\"1\" class=\"dataframe\">\n",
       "  <thead>\n",
       "    <tr style=\"text-align: right;\">\n",
       "      <th></th>\n",
       "      <th>children</th>\n",
       "      <th>days_employed</th>\n",
       "      <th>dob_years</th>\n",
       "      <th>education_id</th>\n",
       "      <th>family_status_id</th>\n",
       "      <th>debt</th>\n",
       "      <th>total_income</th>\n",
       "    </tr>\n",
       "  </thead>\n",
       "  <tbody>\n",
       "    <tr>\n",
       "      <th>count</th>\n",
       "      <td>21525.000000</td>\n",
       "      <td>19351.000000</td>\n",
       "      <td>21525.000000</td>\n",
       "      <td>21525.000000</td>\n",
       "      <td>21525.000000</td>\n",
       "      <td>21525.000000</td>\n",
       "      <td>1.935100e+04</td>\n",
       "    </tr>\n",
       "    <tr>\n",
       "      <th>mean</th>\n",
       "      <td>0.543275</td>\n",
       "      <td>66914.728907</td>\n",
       "      <td>43.293380</td>\n",
       "      <td>0.817236</td>\n",
       "      <td>0.972544</td>\n",
       "      <td>0.080883</td>\n",
       "      <td>1.674223e+05</td>\n",
       "    </tr>\n",
       "    <tr>\n",
       "      <th>std</th>\n",
       "      <td>1.379876</td>\n",
       "      <td>139030.880527</td>\n",
       "      <td>12.574584</td>\n",
       "      <td>0.548138</td>\n",
       "      <td>1.420324</td>\n",
       "      <td>0.272661</td>\n",
       "      <td>1.029716e+05</td>\n",
       "    </tr>\n",
       "    <tr>\n",
       "      <th>min</th>\n",
       "      <td>0.000000</td>\n",
       "      <td>24.141633</td>\n",
       "      <td>0.000000</td>\n",
       "      <td>0.000000</td>\n",
       "      <td>0.000000</td>\n",
       "      <td>0.000000</td>\n",
       "      <td>2.066726e+04</td>\n",
       "    </tr>\n",
       "    <tr>\n",
       "      <th>25%</th>\n",
       "      <td>0.000000</td>\n",
       "      <td>927.009265</td>\n",
       "      <td>33.000000</td>\n",
       "      <td>1.000000</td>\n",
       "      <td>0.000000</td>\n",
       "      <td>0.000000</td>\n",
       "      <td>1.030532e+05</td>\n",
       "    </tr>\n",
       "    <tr>\n",
       "      <th>50%</th>\n",
       "      <td>0.000000</td>\n",
       "      <td>2194.220567</td>\n",
       "      <td>42.000000</td>\n",
       "      <td>1.000000</td>\n",
       "      <td>0.000000</td>\n",
       "      <td>0.000000</td>\n",
       "      <td>1.450179e+05</td>\n",
       "    </tr>\n",
       "    <tr>\n",
       "      <th>75%</th>\n",
       "      <td>1.000000</td>\n",
       "      <td>5537.882441</td>\n",
       "      <td>53.000000</td>\n",
       "      <td>1.000000</td>\n",
       "      <td>1.000000</td>\n",
       "      <td>0.000000</td>\n",
       "      <td>2.034351e+05</td>\n",
       "    </tr>\n",
       "    <tr>\n",
       "      <th>max</th>\n",
       "      <td>20.000000</td>\n",
       "      <td>401755.400475</td>\n",
       "      <td>75.000000</td>\n",
       "      <td>4.000000</td>\n",
       "      <td>4.000000</td>\n",
       "      <td>1.000000</td>\n",
       "      <td>2.265604e+06</td>\n",
       "    </tr>\n",
       "  </tbody>\n",
       "</table>\n",
       "</div>"
      ],
      "text/plain": [
       "           children  days_employed     dob_years  education_id  \\\n",
       "count  21525.000000   19351.000000  21525.000000  21525.000000   \n",
       "mean       0.543275   66914.728907     43.293380      0.817236   \n",
       "std        1.379876  139030.880527     12.574584      0.548138   \n",
       "min        0.000000      24.141633      0.000000      0.000000   \n",
       "25%        0.000000     927.009265     33.000000      1.000000   \n",
       "50%        0.000000    2194.220567     42.000000      1.000000   \n",
       "75%        1.000000    5537.882441     53.000000      1.000000   \n",
       "max       20.000000  401755.400475     75.000000      4.000000   \n",
       "\n",
       "       family_status_id          debt  total_income  \n",
       "count      21525.000000  21525.000000  1.935100e+04  \n",
       "mean           0.972544      0.080883  1.674223e+05  \n",
       "std            1.420324      0.272661  1.029716e+05  \n",
       "min            0.000000      0.000000  2.066726e+04  \n",
       "25%            0.000000      0.000000  1.030532e+05  \n",
       "50%            0.000000      0.000000  1.450179e+05  \n",
       "75%            1.000000      0.000000  2.034351e+05  \n",
       "max            4.000000      1.000000  2.265604e+06  "
      ]
     },
     "execution_count": 8,
     "metadata": {},
     "output_type": "execute_result"
    }
   ],
   "source": [
    "data['children'] = data['children'].abs()\n",
    "data['days_employed'] = data['days_employed'].abs()\n",
    "data.describe()"
   ]
  },
  {
   "cell_type": "markdown",
   "id": "9342e33a",
   "metadata": {
    "pycharm": {
     "name": "#%% md\n"
    }
   },
   "source": [
    "Ещё в таблице видно, что среднее значение общего трудового стажа в днях составляет 60277 дней или 165 лет. Посмотрим, сколько строк имеют значение стажа больше, чем средний возраст клиента (42 года)."
   ]
  },
  {
   "cell_type": "code",
   "execution_count": 9,
   "id": "edfbe8ff",
   "metadata": {
    "pycharm": {
     "name": "#%%\n"
    }
   },
   "outputs": [
    {
     "data": {
      "text/plain": [
       "3455"
      ]
     },
     "execution_count": 9,
     "metadata": {},
     "output_type": "execute_result"
    }
   ],
   "source": [
    "data[data['days_employed'] > 42 * 365]['days_employed'].count()"
   ]
  },
  {
   "cell_type": "markdown",
   "id": "518c8373",
   "metadata": {
    "pycharm": {
     "name": "#%% md\n"
    }
   },
   "source": [
    "3455 строк или 16,04% данных имеют аномальные значения в столбце `days_employed`. Удалить их нельзя, поскольку они составляют существенную долю выборки. Скорее всего, они возникли из-за технической ошибки, либо человеческого фактора.\n",
    "\n",
    "Заменим аномальные значения на средние значения стажа для людей схожего возраста."
   ]
  },
  {
   "cell_type": "code",
   "execution_count": 10,
   "id": "ecdbfb4c",
   "metadata": {
    "pycharm": {
     "name": "#%%\n"
    }
   },
   "outputs": [
    {
     "data": {
      "text/html": [
       "<div>\n",
       "<style scoped>\n",
       "    .dataframe tbody tr th:only-of-type {\n",
       "        vertical-align: middle;\n",
       "    }\n",
       "\n",
       "    .dataframe tbody tr th {\n",
       "        vertical-align: top;\n",
       "    }\n",
       "\n",
       "    .dataframe thead th {\n",
       "        text-align: right;\n",
       "    }\n",
       "</style>\n",
       "<table border=\"1\" class=\"dataframe\">\n",
       "  <thead>\n",
       "    <tr style=\"text-align: right;\">\n",
       "      <th></th>\n",
       "      <th>children</th>\n",
       "      <th>days_employed</th>\n",
       "      <th>dob_years</th>\n",
       "      <th>education_id</th>\n",
       "      <th>family_status_id</th>\n",
       "      <th>debt</th>\n",
       "      <th>total_income</th>\n",
       "    </tr>\n",
       "  </thead>\n",
       "  <tbody>\n",
       "    <tr>\n",
       "      <th>count</th>\n",
       "      <td>21525.000000</td>\n",
       "      <td>19351.000000</td>\n",
       "      <td>21525.000000</td>\n",
       "      <td>21525.000000</td>\n",
       "      <td>21525.000000</td>\n",
       "      <td>21525.000000</td>\n",
       "      <td>1.935100e+04</td>\n",
       "    </tr>\n",
       "    <tr>\n",
       "      <th>mean</th>\n",
       "      <td>0.543275</td>\n",
       "      <td>2552.346135</td>\n",
       "      <td>43.293380</td>\n",
       "      <td>0.817236</td>\n",
       "      <td>0.972544</td>\n",
       "      <td>0.080883</td>\n",
       "      <td>1.674223e+05</td>\n",
       "    </tr>\n",
       "    <tr>\n",
       "      <th>std</th>\n",
       "      <td>1.379876</td>\n",
       "      <td>2124.640789</td>\n",
       "      <td>12.574584</td>\n",
       "      <td>0.548138</td>\n",
       "      <td>1.420324</td>\n",
       "      <td>0.272661</td>\n",
       "      <td>1.029716e+05</td>\n",
       "    </tr>\n",
       "    <tr>\n",
       "      <th>min</th>\n",
       "      <td>0.000000</td>\n",
       "      <td>24.141633</td>\n",
       "      <td>0.000000</td>\n",
       "      <td>0.000000</td>\n",
       "      <td>0.000000</td>\n",
       "      <td>0.000000</td>\n",
       "      <td>2.066726e+04</td>\n",
       "    </tr>\n",
       "    <tr>\n",
       "      <th>25%</th>\n",
       "      <td>0.000000</td>\n",
       "      <td>926.925347</td>\n",
       "      <td>33.000000</td>\n",
       "      <td>1.000000</td>\n",
       "      <td>0.000000</td>\n",
       "      <td>0.000000</td>\n",
       "      <td>1.030532e+05</td>\n",
       "    </tr>\n",
       "    <tr>\n",
       "      <th>50%</th>\n",
       "      <td>0.000000</td>\n",
       "      <td>2186.168272</td>\n",
       "      <td>42.000000</td>\n",
       "      <td>1.000000</td>\n",
       "      <td>0.000000</td>\n",
       "      <td>0.000000</td>\n",
       "      <td>1.450179e+05</td>\n",
       "    </tr>\n",
       "    <tr>\n",
       "      <th>75%</th>\n",
       "      <td>1.000000</td>\n",
       "      <td>3577.539706</td>\n",
       "      <td>53.000000</td>\n",
       "      <td>1.000000</td>\n",
       "      <td>1.000000</td>\n",
       "      <td>0.000000</td>\n",
       "      <td>2.034351e+05</td>\n",
       "    </tr>\n",
       "    <tr>\n",
       "      <th>max</th>\n",
       "      <td>20.000000</td>\n",
       "      <td>15267.541183</td>\n",
       "      <td>75.000000</td>\n",
       "      <td>4.000000</td>\n",
       "      <td>4.000000</td>\n",
       "      <td>1.000000</td>\n",
       "      <td>2.265604e+06</td>\n",
       "    </tr>\n",
       "  </tbody>\n",
       "</table>\n",
       "</div>"
      ],
      "text/plain": [
       "           children  days_employed     dob_years  education_id  \\\n",
       "count  21525.000000   19351.000000  21525.000000  21525.000000   \n",
       "mean       0.543275    2552.346135     43.293380      0.817236   \n",
       "std        1.379876    2124.640789     12.574584      0.548138   \n",
       "min        0.000000      24.141633      0.000000      0.000000   \n",
       "25%        0.000000     926.925347     33.000000      1.000000   \n",
       "50%        0.000000    2186.168272     42.000000      1.000000   \n",
       "75%        1.000000    3577.539706     53.000000      1.000000   \n",
       "max       20.000000   15267.541183     75.000000      4.000000   \n",
       "\n",
       "       family_status_id          debt  total_income  \n",
       "count      21525.000000  21525.000000  1.935100e+04  \n",
       "mean           0.972544      0.080883  1.674223e+05  \n",
       "std            1.420324      0.272661  1.029716e+05  \n",
       "min            0.000000      0.000000  2.066726e+04  \n",
       "25%            0.000000      0.000000  1.030532e+05  \n",
       "50%            0.000000      0.000000  1.450179e+05  \n",
       "75%            1.000000      0.000000  2.034351e+05  \n",
       "max            4.000000      1.000000  2.265604e+06  "
      ]
     },
     "execution_count": 10,
     "metadata": {},
     "output_type": "execute_result"
    }
   ],
   "source": [
    "def correct_days_employed(row):\n",
    "    row_number = row.name\n",
    "    days_employed = row['days_employed']\n",
    "    dob_years = row['dob_years']\n",
    "    target = 42 * 365\n",
    "    \n",
    "    if days_employed > target:\n",
    "        data.loc[row_number, 'days_employed'] = data[(data['days_employed'] <= target) & (data['dob_years'] == dob_years)]['days_employed'].mean()\n",
    "\n",
    "data.apply(correct_days_employed, axis=1)\n",
    "data.describe()"
   ]
  },
  {
   "cell_type": "markdown",
   "id": "6b8930ff",
   "metadata": {
    "pycharm": {
     "name": "#%% md\n"
    }
   },
   "source": [
    "Теперь максимальный трудовой стаж составляет 15267 дней или 41 год. Однако также можно заметить, что в столбце `children` максимальное значение составляет 20, что сомнительно в современных реалиях."
   ]
  },
  {
   "cell_type": "code",
   "execution_count": 11,
   "id": "00f3da8b",
   "metadata": {
    "pycharm": {
     "name": "#%%\n"
    }
   },
   "outputs": [
    {
     "data": {
      "text/html": [
       "<div>\n",
       "<style scoped>\n",
       "    .dataframe tbody tr th:only-of-type {\n",
       "        vertical-align: middle;\n",
       "    }\n",
       "\n",
       "    .dataframe tbody tr th {\n",
       "        vertical-align: top;\n",
       "    }\n",
       "\n",
       "    .dataframe thead th {\n",
       "        text-align: right;\n",
       "    }\n",
       "</style>\n",
       "<table border=\"1\" class=\"dataframe\">\n",
       "  <thead>\n",
       "    <tr style=\"text-align: right;\">\n",
       "      <th></th>\n",
       "      <th>children</th>\n",
       "      <th>days_employed</th>\n",
       "      <th>dob_years</th>\n",
       "      <th>education</th>\n",
       "      <th>education_id</th>\n",
       "      <th>family_status</th>\n",
       "      <th>family_status_id</th>\n",
       "      <th>gender</th>\n",
       "      <th>income_type</th>\n",
       "      <th>debt</th>\n",
       "      <th>total_income</th>\n",
       "      <th>purpose</th>\n",
       "    </tr>\n",
       "  </thead>\n",
       "  <tbody>\n",
       "    <tr>\n",
       "      <th>606</th>\n",
       "      <td>20</td>\n",
       "      <td>880.221113</td>\n",
       "      <td>21</td>\n",
       "      <td>среднее</td>\n",
       "      <td>1</td>\n",
       "      <td>женат / замужем</td>\n",
       "      <td>0</td>\n",
       "      <td>M</td>\n",
       "      <td>компаньон</td>\n",
       "      <td>0</td>\n",
       "      <td>145334.865002</td>\n",
       "      <td>покупка жилья</td>\n",
       "    </tr>\n",
       "    <tr>\n",
       "      <th>720</th>\n",
       "      <td>20</td>\n",
       "      <td>855.595512</td>\n",
       "      <td>44</td>\n",
       "      <td>среднее</td>\n",
       "      <td>1</td>\n",
       "      <td>женат / замужем</td>\n",
       "      <td>0</td>\n",
       "      <td>F</td>\n",
       "      <td>компаньон</td>\n",
       "      <td>0</td>\n",
       "      <td>112998.738649</td>\n",
       "      <td>покупка недвижимости</td>\n",
       "    </tr>\n",
       "    <tr>\n",
       "      <th>1074</th>\n",
       "      <td>20</td>\n",
       "      <td>3310.411598</td>\n",
       "      <td>56</td>\n",
       "      <td>среднее</td>\n",
       "      <td>1</td>\n",
       "      <td>женат / замужем</td>\n",
       "      <td>0</td>\n",
       "      <td>F</td>\n",
       "      <td>сотрудник</td>\n",
       "      <td>1</td>\n",
       "      <td>229518.537004</td>\n",
       "      <td>получение образования</td>\n",
       "    </tr>\n",
       "    <tr>\n",
       "      <th>2510</th>\n",
       "      <td>20</td>\n",
       "      <td>2714.161249</td>\n",
       "      <td>59</td>\n",
       "      <td>высшее</td>\n",
       "      <td>0</td>\n",
       "      <td>вдовец / вдова</td>\n",
       "      <td>2</td>\n",
       "      <td>F</td>\n",
       "      <td>сотрудник</td>\n",
       "      <td>0</td>\n",
       "      <td>264474.835577</td>\n",
       "      <td>операции с коммерческой недвижимостью</td>\n",
       "    </tr>\n",
       "    <tr>\n",
       "      <th>2941</th>\n",
       "      <td>20</td>\n",
       "      <td>2161.591519</td>\n",
       "      <td>0</td>\n",
       "      <td>среднее</td>\n",
       "      <td>1</td>\n",
       "      <td>женат / замужем</td>\n",
       "      <td>0</td>\n",
       "      <td>F</td>\n",
       "      <td>сотрудник</td>\n",
       "      <td>0</td>\n",
       "      <td>199739.941398</td>\n",
       "      <td>на покупку автомобиля</td>\n",
       "    </tr>\n",
       "    <tr>\n",
       "      <th>...</th>\n",
       "      <td>...</td>\n",
       "      <td>...</td>\n",
       "      <td>...</td>\n",
       "      <td>...</td>\n",
       "      <td>...</td>\n",
       "      <td>...</td>\n",
       "      <td>...</td>\n",
       "      <td>...</td>\n",
       "      <td>...</td>\n",
       "      <td>...</td>\n",
       "      <td>...</td>\n",
       "      <td>...</td>\n",
       "    </tr>\n",
       "    <tr>\n",
       "      <th>21008</th>\n",
       "      <td>20</td>\n",
       "      <td>1240.257910</td>\n",
       "      <td>40</td>\n",
       "      <td>среднее</td>\n",
       "      <td>1</td>\n",
       "      <td>женат / замужем</td>\n",
       "      <td>0</td>\n",
       "      <td>F</td>\n",
       "      <td>сотрудник</td>\n",
       "      <td>1</td>\n",
       "      <td>133524.010303</td>\n",
       "      <td>свой автомобиль</td>\n",
       "    </tr>\n",
       "    <tr>\n",
       "      <th>21325</th>\n",
       "      <td>20</td>\n",
       "      <td>601.174883</td>\n",
       "      <td>37</td>\n",
       "      <td>среднее</td>\n",
       "      <td>1</td>\n",
       "      <td>женат / замужем</td>\n",
       "      <td>0</td>\n",
       "      <td>F</td>\n",
       "      <td>компаньон</td>\n",
       "      <td>0</td>\n",
       "      <td>102986.065978</td>\n",
       "      <td>профильное образование</td>\n",
       "    </tr>\n",
       "    <tr>\n",
       "      <th>21390</th>\n",
       "      <td>20</td>\n",
       "      <td>NaN</td>\n",
       "      <td>53</td>\n",
       "      <td>среднее</td>\n",
       "      <td>1</td>\n",
       "      <td>женат / замужем</td>\n",
       "      <td>0</td>\n",
       "      <td>M</td>\n",
       "      <td>компаньон</td>\n",
       "      <td>0</td>\n",
       "      <td>NaN</td>\n",
       "      <td>покупка жилой недвижимости</td>\n",
       "    </tr>\n",
       "    <tr>\n",
       "      <th>21404</th>\n",
       "      <td>20</td>\n",
       "      <td>494.788448</td>\n",
       "      <td>52</td>\n",
       "      <td>среднее</td>\n",
       "      <td>1</td>\n",
       "      <td>женат / замужем</td>\n",
       "      <td>0</td>\n",
       "      <td>M</td>\n",
       "      <td>компаньон</td>\n",
       "      <td>0</td>\n",
       "      <td>156629.683642</td>\n",
       "      <td>операции со своей недвижимостью</td>\n",
       "    </tr>\n",
       "    <tr>\n",
       "      <th>21491</th>\n",
       "      <td>20</td>\n",
       "      <td>173.954460</td>\n",
       "      <td>27</td>\n",
       "      <td>среднее</td>\n",
       "      <td>1</td>\n",
       "      <td>женат / замужем</td>\n",
       "      <td>0</td>\n",
       "      <td>F</td>\n",
       "      <td>сотрудник</td>\n",
       "      <td>0</td>\n",
       "      <td>155520.899688</td>\n",
       "      <td>на покупку подержанного автомобиля</td>\n",
       "    </tr>\n",
       "  </tbody>\n",
       "</table>\n",
       "<p>76 rows × 12 columns</p>\n",
       "</div>"
      ],
      "text/plain": [
       "       children  days_employed  dob_years education  education_id  \\\n",
       "606          20     880.221113         21   среднее             1   \n",
       "720          20     855.595512         44   среднее             1   \n",
       "1074         20    3310.411598         56   среднее             1   \n",
       "2510         20    2714.161249         59    высшее             0   \n",
       "2941         20    2161.591519          0   среднее             1   \n",
       "...         ...            ...        ...       ...           ...   \n",
       "21008        20    1240.257910         40   среднее             1   \n",
       "21325        20     601.174883         37   среднее             1   \n",
       "21390        20            NaN         53   среднее             1   \n",
       "21404        20     494.788448         52   среднее             1   \n",
       "21491        20     173.954460         27   среднее             1   \n",
       "\n",
       "         family_status  family_status_id gender income_type  debt  \\\n",
       "606    женат / замужем                 0      M   компаньон     0   \n",
       "720    женат / замужем                 0      F   компаньон     0   \n",
       "1074   женат / замужем                 0      F   сотрудник     1   \n",
       "2510    вдовец / вдова                 2      F   сотрудник     0   \n",
       "2941   женат / замужем                 0      F   сотрудник     0   \n",
       "...                ...               ...    ...         ...   ...   \n",
       "21008  женат / замужем                 0      F   сотрудник     1   \n",
       "21325  женат / замужем                 0      F   компаньон     0   \n",
       "21390  женат / замужем                 0      M   компаньон     0   \n",
       "21404  женат / замужем                 0      M   компаньон     0   \n",
       "21491  женат / замужем                 0      F   сотрудник     0   \n",
       "\n",
       "        total_income                                purpose  \n",
       "606    145334.865002                          покупка жилья  \n",
       "720    112998.738649                   покупка недвижимости  \n",
       "1074   229518.537004                  получение образования  \n",
       "2510   264474.835577  операции с коммерческой недвижимостью  \n",
       "2941   199739.941398                  на покупку автомобиля  \n",
       "...              ...                                    ...  \n",
       "21008  133524.010303                        свой автомобиль  \n",
       "21325  102986.065978                 профильное образование  \n",
       "21390            NaN             покупка жилой недвижимости  \n",
       "21404  156629.683642        операции со своей недвижимостью  \n",
       "21491  155520.899688     на покупку подержанного автомобиля  \n",
       "\n",
       "[76 rows x 12 columns]"
      ]
     },
     "execution_count": 11,
     "metadata": {},
     "output_type": "execute_result"
    }
   ],
   "source": [
    "data[data['children'] == 20]"
   ]
  },
  {
   "cell_type": "markdown",
   "id": "d517c10a",
   "metadata": {
    "pycharm": {
     "name": "#%% md\n"
    }
   },
   "source": [
    "Учитывая, что существует 76 клиентов с 20 детьми, причем некоторым клиентам 20-30 лет, можно полноценно считать, что это аномалия. Скорее всего, она возникла из-за технической ошибки, либо человеческого фактора.\n",
    "\n",
    "Достоверно восстановить данные не представляется возможным, поскольку, судя по характеру ошибки, у данных клиентов может быть либо двое детей, либо более 5. Также 76 строк составляют незначительный процент от выборки, поэтому данные значения можно удалить."
   ]
  },
  {
   "cell_type": "code",
   "execution_count": 12,
   "id": "17234db3",
   "metadata": {
    "pycharm": {
     "name": "#%%\n"
    }
   },
   "outputs": [
    {
     "data": {
      "text/html": [
       "<div>\n",
       "<style scoped>\n",
       "    .dataframe tbody tr th:only-of-type {\n",
       "        vertical-align: middle;\n",
       "    }\n",
       "\n",
       "    .dataframe tbody tr th {\n",
       "        vertical-align: top;\n",
       "    }\n",
       "\n",
       "    .dataframe thead th {\n",
       "        text-align: right;\n",
       "    }\n",
       "</style>\n",
       "<table border=\"1\" class=\"dataframe\">\n",
       "  <thead>\n",
       "    <tr style=\"text-align: right;\">\n",
       "      <th></th>\n",
       "      <th>children</th>\n",
       "      <th>days_employed</th>\n",
       "      <th>dob_years</th>\n",
       "      <th>education_id</th>\n",
       "      <th>family_status_id</th>\n",
       "      <th>debt</th>\n",
       "      <th>total_income</th>\n",
       "    </tr>\n",
       "  </thead>\n",
       "  <tbody>\n",
       "    <tr>\n",
       "      <th>count</th>\n",
       "      <td>21449.000000</td>\n",
       "      <td>19284.000000</td>\n",
       "      <td>21449.000000</td>\n",
       "      <td>21449.000000</td>\n",
       "      <td>21449.000000</td>\n",
       "      <td>21449.000000</td>\n",
       "      <td>1.928400e+04</td>\n",
       "    </tr>\n",
       "    <tr>\n",
       "      <th>mean</th>\n",
       "      <td>0.474334</td>\n",
       "      <td>2553.309069</td>\n",
       "      <td>43.298615</td>\n",
       "      <td>0.817148</td>\n",
       "      <td>0.973099</td>\n",
       "      <td>0.080796</td>\n",
       "      <td>1.674178e+05</td>\n",
       "    </tr>\n",
       "    <tr>\n",
       "      <th>std</th>\n",
       "      <td>0.751417</td>\n",
       "      <td>2124.219168</td>\n",
       "      <td>12.576314</td>\n",
       "      <td>0.548507</td>\n",
       "      <td>1.420521</td>\n",
       "      <td>0.272528</td>\n",
       "      <td>1.030418e+05</td>\n",
       "    </tr>\n",
       "    <tr>\n",
       "      <th>min</th>\n",
       "      <td>0.000000</td>\n",
       "      <td>24.141633</td>\n",
       "      <td>0.000000</td>\n",
       "      <td>0.000000</td>\n",
       "      <td>0.000000</td>\n",
       "      <td>0.000000</td>\n",
       "      <td>2.066726e+04</td>\n",
       "    </tr>\n",
       "    <tr>\n",
       "      <th>25%</th>\n",
       "      <td>0.000000</td>\n",
       "      <td>927.913282</td>\n",
       "      <td>33.000000</td>\n",
       "      <td>1.000000</td>\n",
       "      <td>0.000000</td>\n",
       "      <td>0.000000</td>\n",
       "      <td>1.030161e+05</td>\n",
       "    </tr>\n",
       "    <tr>\n",
       "      <th>50%</th>\n",
       "      <td>0.000000</td>\n",
       "      <td>2188.801715</td>\n",
       "      <td>42.000000</td>\n",
       "      <td>1.000000</td>\n",
       "      <td>0.000000</td>\n",
       "      <td>0.000000</td>\n",
       "      <td>1.450208e+05</td>\n",
       "    </tr>\n",
       "    <tr>\n",
       "      <th>75%</th>\n",
       "      <td>1.000000</td>\n",
       "      <td>3577.539706</td>\n",
       "      <td>53.000000</td>\n",
       "      <td>1.000000</td>\n",
       "      <td>1.000000</td>\n",
       "      <td>0.000000</td>\n",
       "      <td>2.033700e+05</td>\n",
       "    </tr>\n",
       "    <tr>\n",
       "      <th>max</th>\n",
       "      <td>5.000000</td>\n",
       "      <td>15267.541183</td>\n",
       "      <td>75.000000</td>\n",
       "      <td>4.000000</td>\n",
       "      <td>4.000000</td>\n",
       "      <td>1.000000</td>\n",
       "      <td>2.265604e+06</td>\n",
       "    </tr>\n",
       "  </tbody>\n",
       "</table>\n",
       "</div>"
      ],
      "text/plain": [
       "           children  days_employed     dob_years  education_id  \\\n",
       "count  21449.000000   19284.000000  21449.000000  21449.000000   \n",
       "mean       0.474334    2553.309069     43.298615      0.817148   \n",
       "std        0.751417    2124.219168     12.576314      0.548507   \n",
       "min        0.000000      24.141633      0.000000      0.000000   \n",
       "25%        0.000000     927.913282     33.000000      1.000000   \n",
       "50%        0.000000    2188.801715     42.000000      1.000000   \n",
       "75%        1.000000    3577.539706     53.000000      1.000000   \n",
       "max        5.000000   15267.541183     75.000000      4.000000   \n",
       "\n",
       "       family_status_id          debt  total_income  \n",
       "count      21449.000000  21449.000000  1.928400e+04  \n",
       "mean           0.973099      0.080796  1.674178e+05  \n",
       "std            1.420521      0.272528  1.030418e+05  \n",
       "min            0.000000      0.000000  2.066726e+04  \n",
       "25%            0.000000      0.000000  1.030161e+05  \n",
       "50%            0.000000      0.000000  1.450208e+05  \n",
       "75%            1.000000      0.000000  2.033700e+05  \n",
       "max            4.000000      1.000000  2.265604e+06  "
      ]
     },
     "execution_count": 12,
     "metadata": {},
     "output_type": "execute_result"
    }
   ],
   "source": [
    "data = data[data['children'] <= 5]\n",
    "data.describe()"
   ]
  },
  {
   "cell_type": "markdown",
   "id": "1b8b1b24",
   "metadata": {
    "pycharm": {
     "name": "#%% md\n"
    }
   },
   "source": [
    "Также можно заметить, что в столбце `dob_years` присутствуют нулевые значения, т.е. возраст клиента равен 0, что является аномалией. Вероятно, эти значения появились из-за технической ошибки, либо человеческого фактора."
   ]
  },
  {
   "cell_type": "code",
   "execution_count": 13,
   "id": "7d9b0ebf",
   "metadata": {
    "pycharm": {
     "name": "#%%\n"
    }
   },
   "outputs": [
    {
     "data": {
      "text/plain": [
       "100"
      ]
     },
     "execution_count": 13,
     "metadata": {},
     "output_type": "execute_result"
    }
   ],
   "source": [
    "data[data['dob_years'] == 0]['dob_years'].count()"
   ]
  },
  {
   "cell_type": "markdown",
   "id": "8df7bbe5",
   "metadata": {
    "pycharm": {
     "name": "#%% md\n"
    }
   },
   "source": [
    "Строк с такими значениями 100 штук. К сожалению, восстановить такие данные не представляется возможным, поэтому их тоже придётся удалить из выборки."
   ]
  },
  {
   "cell_type": "code",
   "execution_count": 14,
   "id": "7b26b8cd",
   "metadata": {
    "pycharm": {
     "name": "#%%\n"
    }
   },
   "outputs": [
    {
     "data": {
      "text/html": [
       "<div>\n",
       "<style scoped>\n",
       "    .dataframe tbody tr th:only-of-type {\n",
       "        vertical-align: middle;\n",
       "    }\n",
       "\n",
       "    .dataframe tbody tr th {\n",
       "        vertical-align: top;\n",
       "    }\n",
       "\n",
       "    .dataframe thead th {\n",
       "        text-align: right;\n",
       "    }\n",
       "</style>\n",
       "<table border=\"1\" class=\"dataframe\">\n",
       "  <thead>\n",
       "    <tr style=\"text-align: right;\">\n",
       "      <th></th>\n",
       "      <th>children</th>\n",
       "      <th>days_employed</th>\n",
       "      <th>dob_years</th>\n",
       "      <th>education_id</th>\n",
       "      <th>family_status_id</th>\n",
       "      <th>debt</th>\n",
       "      <th>total_income</th>\n",
       "    </tr>\n",
       "  </thead>\n",
       "  <tbody>\n",
       "    <tr>\n",
       "      <th>count</th>\n",
       "      <td>21349.000000</td>\n",
       "      <td>19194.000000</td>\n",
       "      <td>21349.000000</td>\n",
       "      <td>21349.000000</td>\n",
       "      <td>21349.000000</td>\n",
       "      <td>21349.000000</td>\n",
       "      <td>1.919400e+04</td>\n",
       "    </tr>\n",
       "    <tr>\n",
       "      <th>mean</th>\n",
       "      <td>0.474308</td>\n",
       "      <td>2554.961940</td>\n",
       "      <td>43.501429</td>\n",
       "      <td>0.817837</td>\n",
       "      <td>0.971802</td>\n",
       "      <td>0.080800</td>\n",
       "      <td>1.674625e+05</td>\n",
       "    </tr>\n",
       "    <tr>\n",
       "      <th>std</th>\n",
       "      <td>0.751214</td>\n",
       "      <td>2124.792344</td>\n",
       "      <td>12.250774</td>\n",
       "      <td>0.548584</td>\n",
       "      <td>1.419916</td>\n",
       "      <td>0.272534</td>\n",
       "      <td>1.031558e+05</td>\n",
       "    </tr>\n",
       "    <tr>\n",
       "      <th>min</th>\n",
       "      <td>0.000000</td>\n",
       "      <td>24.141633</td>\n",
       "      <td>19.000000</td>\n",
       "      <td>0.000000</td>\n",
       "      <td>0.000000</td>\n",
       "      <td>0.000000</td>\n",
       "      <td>2.066726e+04</td>\n",
       "    </tr>\n",
       "    <tr>\n",
       "      <th>25%</th>\n",
       "      <td>0.000000</td>\n",
       "      <td>927.654762</td>\n",
       "      <td>33.000000</td>\n",
       "      <td>1.000000</td>\n",
       "      <td>0.000000</td>\n",
       "      <td>0.000000</td>\n",
       "      <td>1.030850e+05</td>\n",
       "    </tr>\n",
       "    <tr>\n",
       "      <th>50%</th>\n",
       "      <td>0.000000</td>\n",
       "      <td>2190.359362</td>\n",
       "      <td>43.000000</td>\n",
       "      <td>1.000000</td>\n",
       "      <td>0.000000</td>\n",
       "      <td>0.000000</td>\n",
       "      <td>1.450208e+05</td>\n",
       "    </tr>\n",
       "    <tr>\n",
       "      <th>75%</th>\n",
       "      <td>1.000000</td>\n",
       "      <td>3577.539706</td>\n",
       "      <td>53.000000</td>\n",
       "      <td>1.000000</td>\n",
       "      <td>1.000000</td>\n",
       "      <td>0.000000</td>\n",
       "      <td>2.033455e+05</td>\n",
       "    </tr>\n",
       "    <tr>\n",
       "      <th>max</th>\n",
       "      <td>5.000000</td>\n",
       "      <td>15267.541183</td>\n",
       "      <td>75.000000</td>\n",
       "      <td>4.000000</td>\n",
       "      <td>4.000000</td>\n",
       "      <td>1.000000</td>\n",
       "      <td>2.265604e+06</td>\n",
       "    </tr>\n",
       "  </tbody>\n",
       "</table>\n",
       "</div>"
      ],
      "text/plain": [
       "           children  days_employed     dob_years  education_id  \\\n",
       "count  21349.000000   19194.000000  21349.000000  21349.000000   \n",
       "mean       0.474308    2554.961940     43.501429      0.817837   \n",
       "std        0.751214    2124.792344     12.250774      0.548584   \n",
       "min        0.000000      24.141633     19.000000      0.000000   \n",
       "25%        0.000000     927.654762     33.000000      1.000000   \n",
       "50%        0.000000    2190.359362     43.000000      1.000000   \n",
       "75%        1.000000    3577.539706     53.000000      1.000000   \n",
       "max        5.000000   15267.541183     75.000000      4.000000   \n",
       "\n",
       "       family_status_id          debt  total_income  \n",
       "count      21349.000000  21349.000000  1.919400e+04  \n",
       "mean           0.971802      0.080800  1.674625e+05  \n",
       "std            1.419916      0.272534  1.031558e+05  \n",
       "min            0.000000      0.000000  2.066726e+04  \n",
       "25%            0.000000      0.000000  1.030850e+05  \n",
       "50%            0.000000      0.000000  1.450208e+05  \n",
       "75%            1.000000      0.000000  2.033455e+05  \n",
       "max            4.000000      1.000000  2.265604e+06  "
      ]
     },
     "execution_count": 14,
     "metadata": {},
     "output_type": "execute_result"
    }
   ],
   "source": [
    "data = data[data['dob_years'] > 0]\n",
    "data.describe()"
   ]
  },
  {
   "cell_type": "markdown",
   "id": "c9261288",
   "metadata": {
    "pycharm": {
     "name": "#%% md\n"
    }
   },
   "source": [
    "Больше аномальных значений не выявлено. Можно перенумеровать индексы строк и перейти к заполенению пропусков."
   ]
  },
  {
   "cell_type": "code",
   "execution_count": 15,
   "id": "00269469",
   "metadata": {
    "pycharm": {
     "name": "#%%\n"
    },
    "scrolled": true
   },
   "outputs": [
    {
     "data": {
      "text/plain": [
       "children            0\n",
       "days_employed       0\n",
       "dob_years           0\n",
       "education           0\n",
       "education_id        0\n",
       "family_status       0\n",
       "family_status_id    0\n",
       "gender              0\n",
       "income_type         0\n",
       "debt                0\n",
       "total_income        0\n",
       "purpose             0\n",
       "dtype: int64"
      ]
     },
     "execution_count": 15,
     "metadata": {},
     "output_type": "execute_result"
    }
   ],
   "source": [
    "data = data.reset_index(drop=True)\n",
    "data['days_employed'] = data['days_employed'].fillna(data['days_employed'].median())\n",
    "data['total_income'] = data['total_income'].fillna(data['total_income'].median())\n",
    "data.isna().sum()"
   ]
  },
  {
   "cell_type": "code",
   "execution_count": 16,
   "id": "22397504",
   "metadata": {
    "pycharm": {
     "name": "#%%\n"
    }
   },
   "outputs": [
    {
     "data": {
      "text/plain": [
       "F      14118\n",
       "M       7230\n",
       "XNA        1\n",
       "Name: gender, dtype: int64"
      ]
     },
     "execution_count": 16,
     "metadata": {},
     "output_type": "execute_result"
    }
   ],
   "source": [
    "data['gender'].value_counts()"
   ]
  },
  {
   "cell_type": "markdown",
   "id": "33a78fb2",
   "metadata": {
    "pycharm": {
     "name": "#%% md\n"
    }
   },
   "source": [
    "В столбце `gender` присутсвутет одно значение \"XNA\". Удалим строку с этим значением."
   ]
  },
  {
   "cell_type": "code",
   "execution_count": 17,
   "id": "833a5789",
   "metadata": {
    "pycharm": {
     "name": "#%%\n"
    }
   },
   "outputs": [
    {
     "data": {
      "text/plain": [
       "F    14118\n",
       "M     7230\n",
       "Name: gender, dtype: int64"
      ]
     },
     "execution_count": 17,
     "metadata": {},
     "output_type": "execute_result"
    }
   ],
   "source": [
    "data = data[data['gender'] != 'XNA']\n",
    "data['gender'].value_counts()"
   ]
  },
  {
   "cell_type": "markdown",
   "id": "039f6c6d",
   "metadata": {
    "pycharm": {
     "name": "#%% md\n"
    }
   },
   "source": [
    "### Шаг 2.3. Изменение типов данных."
   ]
  },
  {
   "cell_type": "code",
   "execution_count": 18,
   "id": "56e90e25",
   "metadata": {
    "pycharm": {
     "name": "#%%\n"
    }
   },
   "outputs": [
    {
     "name": "stdout",
     "output_type": "stream",
     "text": [
      "<class 'pandas.core.frame.DataFrame'>\n",
      "Int64Index: 21348 entries, 0 to 21348\n",
      "Data columns (total 12 columns):\n",
      " #   Column            Non-Null Count  Dtype  \n",
      "---  ------            --------------  -----  \n",
      " 0   children          21348 non-null  int64  \n",
      " 1   days_employed     21348 non-null  float64\n",
      " 2   dob_years         21348 non-null  int64  \n",
      " 3   education         21348 non-null  object \n",
      " 4   education_id      21348 non-null  int64  \n",
      " 5   family_status     21348 non-null  object \n",
      " 6   family_status_id  21348 non-null  int64  \n",
      " 7   gender            21348 non-null  object \n",
      " 8   income_type       21348 non-null  object \n",
      " 9   debt              21348 non-null  int64  \n",
      " 10  total_income      21348 non-null  float64\n",
      " 11  purpose           21348 non-null  object \n",
      "dtypes: float64(2), int64(5), object(5)\n",
      "memory usage: 2.1+ MB\n"
     ]
    }
   ],
   "source": [
    "data.info()"
   ]
  },
  {
   "cell_type": "code",
   "execution_count": 19,
   "id": "6f18ede3",
   "metadata": {
    "pycharm": {
     "name": "#%%\n"
    },
    "scrolled": true
   },
   "outputs": [
    {
     "data": {
      "text/html": [
       "<div>\n",
       "<style scoped>\n",
       "    .dataframe tbody tr th:only-of-type {\n",
       "        vertical-align: middle;\n",
       "    }\n",
       "\n",
       "    .dataframe tbody tr th {\n",
       "        vertical-align: top;\n",
       "    }\n",
       "\n",
       "    .dataframe thead th {\n",
       "        text-align: right;\n",
       "    }\n",
       "</style>\n",
       "<table border=\"1\" class=\"dataframe\">\n",
       "  <thead>\n",
       "    <tr style=\"text-align: right;\">\n",
       "      <th></th>\n",
       "      <th>children</th>\n",
       "      <th>days_employed</th>\n",
       "      <th>dob_years</th>\n",
       "      <th>education</th>\n",
       "      <th>education_id</th>\n",
       "      <th>family_status</th>\n",
       "      <th>family_status_id</th>\n",
       "      <th>gender</th>\n",
       "      <th>income_type</th>\n",
       "      <th>debt</th>\n",
       "      <th>total_income</th>\n",
       "      <th>purpose</th>\n",
       "    </tr>\n",
       "  </thead>\n",
       "  <tbody>\n",
       "    <tr>\n",
       "      <th>0</th>\n",
       "      <td>1</td>\n",
       "      <td>8437.673028</td>\n",
       "      <td>42</td>\n",
       "      <td>высшее</td>\n",
       "      <td>0</td>\n",
       "      <td>женат / замужем</td>\n",
       "      <td>0</td>\n",
       "      <td>F</td>\n",
       "      <td>сотрудник</td>\n",
       "      <td>0</td>\n",
       "      <td>253875.639453</td>\n",
       "      <td>покупка жилья</td>\n",
       "    </tr>\n",
       "    <tr>\n",
       "      <th>1</th>\n",
       "      <td>1</td>\n",
       "      <td>4024.803754</td>\n",
       "      <td>36</td>\n",
       "      <td>среднее</td>\n",
       "      <td>1</td>\n",
       "      <td>женат / замужем</td>\n",
       "      <td>0</td>\n",
       "      <td>F</td>\n",
       "      <td>сотрудник</td>\n",
       "      <td>0</td>\n",
       "      <td>112080.014102</td>\n",
       "      <td>приобретение автомобиля</td>\n",
       "    </tr>\n",
       "    <tr>\n",
       "      <th>2</th>\n",
       "      <td>0</td>\n",
       "      <td>5623.422610</td>\n",
       "      <td>33</td>\n",
       "      <td>Среднее</td>\n",
       "      <td>1</td>\n",
       "      <td>женат / замужем</td>\n",
       "      <td>0</td>\n",
       "      <td>M</td>\n",
       "      <td>сотрудник</td>\n",
       "      <td>0</td>\n",
       "      <td>145885.952297</td>\n",
       "      <td>покупка жилья</td>\n",
       "    </tr>\n",
       "    <tr>\n",
       "      <th>3</th>\n",
       "      <td>3</td>\n",
       "      <td>4124.747207</td>\n",
       "      <td>32</td>\n",
       "      <td>среднее</td>\n",
       "      <td>1</td>\n",
       "      <td>женат / замужем</td>\n",
       "      <td>0</td>\n",
       "      <td>M</td>\n",
       "      <td>сотрудник</td>\n",
       "      <td>0</td>\n",
       "      <td>267628.550329</td>\n",
       "      <td>дополнительное образование</td>\n",
       "    </tr>\n",
       "    <tr>\n",
       "      <th>4</th>\n",
       "      <td>0</td>\n",
       "      <td>3280.806279</td>\n",
       "      <td>53</td>\n",
       "      <td>среднее</td>\n",
       "      <td>1</td>\n",
       "      <td>гражданский брак</td>\n",
       "      <td>1</td>\n",
       "      <td>F</td>\n",
       "      <td>пенсионер</td>\n",
       "      <td>0</td>\n",
       "      <td>158616.077870</td>\n",
       "      <td>сыграть свадьбу</td>\n",
       "    </tr>\n",
       "  </tbody>\n",
       "</table>\n",
       "</div>"
      ],
      "text/plain": [
       "   children  days_employed  dob_years education  education_id  \\\n",
       "0         1    8437.673028         42    высшее             0   \n",
       "1         1    4024.803754         36   среднее             1   \n",
       "2         0    5623.422610         33   Среднее             1   \n",
       "3         3    4124.747207         32   среднее             1   \n",
       "4         0    3280.806279         53   среднее             1   \n",
       "\n",
       "      family_status  family_status_id gender income_type  debt   total_income  \\\n",
       "0   женат / замужем                 0      F   сотрудник     0  253875.639453   \n",
       "1   женат / замужем                 0      F   сотрудник     0  112080.014102   \n",
       "2   женат / замужем                 0      M   сотрудник     0  145885.952297   \n",
       "3   женат / замужем                 0      M   сотрудник     0  267628.550329   \n",
       "4  гражданский брак                 1      F   пенсионер     0  158616.077870   \n",
       "\n",
       "                      purpose  \n",
       "0               покупка жилья  \n",
       "1     приобретение автомобиля  \n",
       "2               покупка жилья  \n",
       "3  дополнительное образование  \n",
       "4             сыграть свадьбу  "
      ]
     },
     "execution_count": 19,
     "metadata": {},
     "output_type": "execute_result"
    }
   ],
   "source": [
    "data.head(5)"
   ]
  },
  {
   "cell_type": "markdown",
   "id": "7f119edc",
   "metadata": {
    "pycharm": {
     "name": "#%% md\n"
    }
   },
   "source": [
    "В столбцах `total_income` и  `days_employed` представлены значения с шестью знаками после запятой. Такая точность излишняя. Заменим значения на целочисленные."
   ]
  },
  {
   "cell_type": "code",
   "execution_count": 20,
   "id": "c8959327",
   "metadata": {
    "pycharm": {
     "name": "#%%\n"
    }
   },
   "outputs": [
    {
     "data": {
      "text/html": [
       "<div>\n",
       "<style scoped>\n",
       "    .dataframe tbody tr th:only-of-type {\n",
       "        vertical-align: middle;\n",
       "    }\n",
       "\n",
       "    .dataframe tbody tr th {\n",
       "        vertical-align: top;\n",
       "    }\n",
       "\n",
       "    .dataframe thead th {\n",
       "        text-align: right;\n",
       "    }\n",
       "</style>\n",
       "<table border=\"1\" class=\"dataframe\">\n",
       "  <thead>\n",
       "    <tr style=\"text-align: right;\">\n",
       "      <th></th>\n",
       "      <th>children</th>\n",
       "      <th>days_employed</th>\n",
       "      <th>dob_years</th>\n",
       "      <th>education</th>\n",
       "      <th>education_id</th>\n",
       "      <th>family_status</th>\n",
       "      <th>family_status_id</th>\n",
       "      <th>gender</th>\n",
       "      <th>income_type</th>\n",
       "      <th>debt</th>\n",
       "      <th>total_income</th>\n",
       "      <th>purpose</th>\n",
       "    </tr>\n",
       "  </thead>\n",
       "  <tbody>\n",
       "    <tr>\n",
       "      <th>0</th>\n",
       "      <td>1</td>\n",
       "      <td>8437</td>\n",
       "      <td>42</td>\n",
       "      <td>высшее</td>\n",
       "      <td>0</td>\n",
       "      <td>женат / замужем</td>\n",
       "      <td>0</td>\n",
       "      <td>F</td>\n",
       "      <td>сотрудник</td>\n",
       "      <td>0</td>\n",
       "      <td>253875</td>\n",
       "      <td>покупка жилья</td>\n",
       "    </tr>\n",
       "    <tr>\n",
       "      <th>1</th>\n",
       "      <td>1</td>\n",
       "      <td>4024</td>\n",
       "      <td>36</td>\n",
       "      <td>среднее</td>\n",
       "      <td>1</td>\n",
       "      <td>женат / замужем</td>\n",
       "      <td>0</td>\n",
       "      <td>F</td>\n",
       "      <td>сотрудник</td>\n",
       "      <td>0</td>\n",
       "      <td>112080</td>\n",
       "      <td>приобретение автомобиля</td>\n",
       "    </tr>\n",
       "    <tr>\n",
       "      <th>2</th>\n",
       "      <td>0</td>\n",
       "      <td>5623</td>\n",
       "      <td>33</td>\n",
       "      <td>Среднее</td>\n",
       "      <td>1</td>\n",
       "      <td>женат / замужем</td>\n",
       "      <td>0</td>\n",
       "      <td>M</td>\n",
       "      <td>сотрудник</td>\n",
       "      <td>0</td>\n",
       "      <td>145885</td>\n",
       "      <td>покупка жилья</td>\n",
       "    </tr>\n",
       "    <tr>\n",
       "      <th>3</th>\n",
       "      <td>3</td>\n",
       "      <td>4124</td>\n",
       "      <td>32</td>\n",
       "      <td>среднее</td>\n",
       "      <td>1</td>\n",
       "      <td>женат / замужем</td>\n",
       "      <td>0</td>\n",
       "      <td>M</td>\n",
       "      <td>сотрудник</td>\n",
       "      <td>0</td>\n",
       "      <td>267628</td>\n",
       "      <td>дополнительное образование</td>\n",
       "    </tr>\n",
       "    <tr>\n",
       "      <th>4</th>\n",
       "      <td>0</td>\n",
       "      <td>3280</td>\n",
       "      <td>53</td>\n",
       "      <td>среднее</td>\n",
       "      <td>1</td>\n",
       "      <td>гражданский брак</td>\n",
       "      <td>1</td>\n",
       "      <td>F</td>\n",
       "      <td>пенсионер</td>\n",
       "      <td>0</td>\n",
       "      <td>158616</td>\n",
       "      <td>сыграть свадьбу</td>\n",
       "    </tr>\n",
       "  </tbody>\n",
       "</table>\n",
       "</div>"
      ],
      "text/plain": [
       "   children  days_employed  dob_years education  education_id  \\\n",
       "0         1           8437         42    высшее             0   \n",
       "1         1           4024         36   среднее             1   \n",
       "2         0           5623         33   Среднее             1   \n",
       "3         3           4124         32   среднее             1   \n",
       "4         0           3280         53   среднее             1   \n",
       "\n",
       "      family_status  family_status_id gender income_type  debt  total_income  \\\n",
       "0   женат / замужем                 0      F   сотрудник     0        253875   \n",
       "1   женат / замужем                 0      F   сотрудник     0        112080   \n",
       "2   женат / замужем                 0      M   сотрудник     0        145885   \n",
       "3   женат / замужем                 0      M   сотрудник     0        267628   \n",
       "4  гражданский брак                 1      F   пенсионер     0        158616   \n",
       "\n",
       "                      purpose  \n",
       "0               покупка жилья  \n",
       "1     приобретение автомобиля  \n",
       "2               покупка жилья  \n",
       "3  дополнительное образование  \n",
       "4             сыграть свадьбу  "
      ]
     },
     "execution_count": 20,
     "metadata": {},
     "output_type": "execute_result"
    }
   ],
   "source": [
    "data['days_employed'] = data['days_employed'].astype('int64')\n",
    "data['total_income'] = data['total_income'].astype('int64')\n",
    "data.head(5)"
   ]
  },
  {
   "cell_type": "markdown",
   "id": "970ae660",
   "metadata": {
    "pycharm": {
     "name": "#%% md\n"
    }
   },
   "source": [
    "### Шаг 2.4. Удаление дубликатов."
   ]
  },
  {
   "cell_type": "markdown",
   "id": "9f4961c1",
   "metadata": {
    "pycharm": {
     "name": "#%% md\n"
    }
   },
   "source": [
    "Для начала найдём явные дубликаты в данных."
   ]
  },
  {
   "cell_type": "code",
   "execution_count": 21,
   "id": "70ecfb08",
   "metadata": {
    "pycharm": {
     "name": "#%%\n"
    }
   },
   "outputs": [
    {
     "data": {
      "text/plain": [
       "54"
      ]
     },
     "execution_count": 21,
     "metadata": {},
     "output_type": "execute_result"
    }
   ],
   "source": [
    "data.duplicated().sum()"
   ]
  },
  {
   "cell_type": "code",
   "execution_count": 22,
   "id": "26d9e3b7",
   "metadata": {
    "pycharm": {
     "name": "#%%\n"
    },
    "scrolled": true
   },
   "outputs": [
    {
     "data": {
      "text/plain": [
       "0    14079\n",
       "1     4849\n",
       "2     2042\n",
       "3      328\n",
       "4       41\n",
       "5        9\n",
       "Name: children, dtype: int64"
      ]
     },
     "execution_count": 22,
     "metadata": {},
     "output_type": "execute_result"
    }
   ],
   "source": [
    "data['children'].value_counts()"
   ]
  },
  {
   "cell_type": "code",
   "execution_count": 23,
   "id": "26df5b04",
   "metadata": {
    "pycharm": {
     "name": "#%%\n"
    }
   },
   "outputs": [
    {
     "data": {
      "text/plain": [
       "среднее                13640\n",
       "высшее                  4674\n",
       "СРЕДНЕЕ                  768\n",
       "Среднее                  702\n",
       "неоконченное высшее      663\n",
       "ВЫСШЕЕ                   271\n",
       "Высшее                   266\n",
       "начальное                250\n",
       "Неоконченное высшее       47\n",
       "НЕОКОНЧЕННОЕ ВЫСШЕЕ       29\n",
       "НАЧАЛЬНОЕ                 17\n",
       "Начальное                 15\n",
       "ученая степень             4\n",
       "УЧЕНАЯ СТЕПЕНЬ             1\n",
       "Ученая степень             1\n",
       "Name: education, dtype: int64"
      ]
     },
     "execution_count": 23,
     "metadata": {},
     "output_type": "execute_result"
    }
   ],
   "source": [
    "data['education'].value_counts()"
   ]
  },
  {
   "cell_type": "code",
   "execution_count": 24,
   "id": "f1e93dcb",
   "metadata": {
    "pycharm": {
     "name": "#%%\n"
    }
   },
   "outputs": [
    {
     "data": {
      "text/plain": [
       "1    15110\n",
       "0     5211\n",
       "2      739\n",
       "3      282\n",
       "4        6\n",
       "Name: education_id, dtype: int64"
      ]
     },
     "execution_count": 24,
     "metadata": {},
     "output_type": "execute_result"
    }
   ],
   "source": [
    "data['education_id'].value_counts()"
   ]
  },
  {
   "cell_type": "code",
   "execution_count": 25,
   "id": "10a4ff13",
   "metadata": {
    "pycharm": {
     "name": "#%%\n"
    }
   },
   "outputs": [
    {
     "data": {
      "text/plain": [
       "женат / замужем          12283\n",
       "гражданский брак          4143\n",
       "Не женат / не замужем     2788\n",
       "в разводе                 1183\n",
       "вдовец / вдова             951\n",
       "Name: family_status, dtype: int64"
      ]
     },
     "execution_count": 25,
     "metadata": {},
     "output_type": "execute_result"
    }
   ],
   "source": [
    "data['family_status'].value_counts()"
   ]
  },
  {
   "cell_type": "code",
   "execution_count": 26,
   "id": "2f374b75",
   "metadata": {
    "pycharm": {
     "name": "#%%\n"
    }
   },
   "outputs": [
    {
     "data": {
      "text/plain": [
       "F    14118\n",
       "M     7230\n",
       "Name: gender, dtype: int64"
      ]
     },
     "execution_count": 26,
     "metadata": {},
     "output_type": "execute_result"
    }
   ],
   "source": [
    "data['gender'].value_counts()"
   ]
  },
  {
   "cell_type": "code",
   "execution_count": 27,
   "id": "d6fd3afd",
   "metadata": {
    "pycharm": {
     "name": "#%%\n"
    }
   },
   "outputs": [
    {
     "data": {
      "text/plain": [
       "0    19623\n",
       "1     1725\n",
       "Name: debt, dtype: int64"
      ]
     },
     "execution_count": 27,
     "metadata": {},
     "output_type": "execute_result"
    }
   ],
   "source": [
    "data['debt'].value_counts()"
   ]
  },
  {
   "cell_type": "code",
   "execution_count": 28,
   "id": "8c6f992d",
   "metadata": {
    "pycharm": {
     "name": "#%%\n"
    }
   },
   "outputs": [
    {
     "data": {
      "text/plain": [
       "свадьба                                   791\n",
       "на проведение свадьбы                     769\n",
       "сыграть свадьбу                           765\n",
       "операции с недвижимостью                  672\n",
       "покупка коммерческой недвижимости         658\n",
       "покупка жилья для сдачи                   650\n",
       "операции с коммерческой недвижимостью     645\n",
       "операции с жильем                         643\n",
       "покупка жилья для семьи                   639\n",
       "покупка жилья                             638\n",
       "жилье                                     637\n",
       "операции со своей недвижимостью           629\n",
       "недвижимость                              629\n",
       "строительство собственной недвижимости    627\n",
       "строительство жилой недвижимости          622\n",
       "строительство недвижимости                620\n",
       "покупка своего жилья                      619\n",
       "покупка недвижимости                      618\n",
       "ремонт жилью                              608\n",
       "покупка жилой недвижимости                602\n",
       "на покупку своего автомобиля              502\n",
       "заняться высшим образованием              493\n",
       "автомобиль                                490\n",
       "сделка с подержанным автомобилем          483\n",
       "автомобили                                475\n",
       "свой автомобиль                           474\n",
       "на покупку подержанного автомобиля        473\n",
       "на покупку автомобиля                     467\n",
       "приобретение автомобиля                   460\n",
       "дополнительное образование                457\n",
       "сделка с автомобилем                      454\n",
       "высшее образование                        445\n",
       "получение дополнительного образования     444\n",
       "образование                               442\n",
       "получение образования                     441\n",
       "профильное образование                    433\n",
       "получение высшего образования             423\n",
       "заняться образованием                     411\n",
       "Name: purpose, dtype: int64"
      ]
     },
     "execution_count": 28,
     "metadata": {},
     "output_type": "execute_result"
    }
   ],
   "source": [
    "data['purpose'].value_counts()"
   ]
  },
  {
   "cell_type": "markdown",
   "id": "1773a4a5",
   "metadata": {
    "pycharm": {
     "name": "#%% md\n"
    }
   },
   "source": [
    "Из представленной выше информации видно, что в столбцах `education` и `purpose` присутствуют неявные дубликаты. Они связаны с человеческим фактором.\n",
    "\n",
    "В столбце `education` можно устранить проблему с помощью приведения значений к нижнему регистру.\n",
    "\n",
    "В столбце `purpose` можно устранить проблему с помощью категоризации данных, что будет предпринято в следующих этапах проекта."
   ]
  },
  {
   "cell_type": "code",
   "execution_count": 29,
   "id": "9fe791f2",
   "metadata": {
    "pycharm": {
     "name": "#%%\n"
    }
   },
   "outputs": [
    {
     "data": {
      "text/plain": [
       "среднее                15110\n",
       "высшее                  5211\n",
       "неоконченное высшее      739\n",
       "начальное                282\n",
       "ученая степень             6\n",
       "Name: education, dtype: int64"
      ]
     },
     "execution_count": 29,
     "metadata": {},
     "output_type": "execute_result"
    }
   ],
   "source": [
    "data['education'] = data['education'].str.lower()\n",
    "data['education'].value_counts()"
   ]
  },
  {
   "cell_type": "markdown",
   "id": "c1dcf82b",
   "metadata": {
    "pycharm": {
     "name": "#%% md\n"
    }
   },
   "source": [
    "### Шаг 2.5. Формирование дополнительных датафреймов словарей, декомпозиция исходного датафрейма."
   ]
  },
  {
   "cell_type": "code",
   "execution_count": 30,
   "id": "648bb46e",
   "metadata": {
    "pycharm": {
     "name": "#%%\n"
    }
   },
   "outputs": [
    {
     "data": {
      "text/html": [
       "<div>\n",
       "<style scoped>\n",
       "    .dataframe tbody tr th:only-of-type {\n",
       "        vertical-align: middle;\n",
       "    }\n",
       "\n",
       "    .dataframe tbody tr th {\n",
       "        vertical-align: top;\n",
       "    }\n",
       "\n",
       "    .dataframe thead th {\n",
       "        text-align: right;\n",
       "    }\n",
       "</style>\n",
       "<table border=\"1\" class=\"dataframe\">\n",
       "  <thead>\n",
       "    <tr style=\"text-align: right;\">\n",
       "      <th></th>\n",
       "      <th>education_id</th>\n",
       "      <th>education</th>\n",
       "    </tr>\n",
       "  </thead>\n",
       "  <tbody>\n",
       "    <tr>\n",
       "      <th>0</th>\n",
       "      <td>0</td>\n",
       "      <td>высшее</td>\n",
       "    </tr>\n",
       "    <tr>\n",
       "      <th>1</th>\n",
       "      <td>1</td>\n",
       "      <td>среднее</td>\n",
       "    </tr>\n",
       "    <tr>\n",
       "      <th>2</th>\n",
       "      <td>2</td>\n",
       "      <td>неоконченное высшее</td>\n",
       "    </tr>\n",
       "    <tr>\n",
       "      <th>3</th>\n",
       "      <td>3</td>\n",
       "      <td>начальное</td>\n",
       "    </tr>\n",
       "    <tr>\n",
       "      <th>4</th>\n",
       "      <td>4</td>\n",
       "      <td>ученая степень</td>\n",
       "    </tr>\n",
       "  </tbody>\n",
       "</table>\n",
       "</div>"
      ],
      "text/plain": [
       "   education_id            education\n",
       "0             0               высшее\n",
       "1             1              среднее\n",
       "2             2  неоконченное высшее\n",
       "3             3            начальное\n",
       "4             4       ученая степень"
      ]
     },
     "execution_count": 30,
     "metadata": {},
     "output_type": "execute_result"
    }
   ],
   "source": [
    "# Датафрейм-словарь с данными об образовании\n",
    "education_dict = data[['education_id','education']]\n",
    "education_dict = education_dict.drop_duplicates().reset_index(drop=True)\n",
    "education_dict"
   ]
  },
  {
   "cell_type": "code",
   "execution_count": 31,
   "id": "d73ae999",
   "metadata": {
    "pycharm": {
     "name": "#%%\n"
    }
   },
   "outputs": [
    {
     "data": {
      "text/html": [
       "<div>\n",
       "<style scoped>\n",
       "    .dataframe tbody tr th:only-of-type {\n",
       "        vertical-align: middle;\n",
       "    }\n",
       "\n",
       "    .dataframe tbody tr th {\n",
       "        vertical-align: top;\n",
       "    }\n",
       "\n",
       "    .dataframe thead th {\n",
       "        text-align: right;\n",
       "    }\n",
       "</style>\n",
       "<table border=\"1\" class=\"dataframe\">\n",
       "  <thead>\n",
       "    <tr style=\"text-align: right;\">\n",
       "      <th></th>\n",
       "      <th>family_status_id</th>\n",
       "      <th>family_status</th>\n",
       "    </tr>\n",
       "  </thead>\n",
       "  <tbody>\n",
       "    <tr>\n",
       "      <th>0</th>\n",
       "      <td>0</td>\n",
       "      <td>женат / замужем</td>\n",
       "    </tr>\n",
       "    <tr>\n",
       "      <th>1</th>\n",
       "      <td>1</td>\n",
       "      <td>гражданский брак</td>\n",
       "    </tr>\n",
       "    <tr>\n",
       "      <th>2</th>\n",
       "      <td>2</td>\n",
       "      <td>вдовец / вдова</td>\n",
       "    </tr>\n",
       "    <tr>\n",
       "      <th>3</th>\n",
       "      <td>3</td>\n",
       "      <td>в разводе</td>\n",
       "    </tr>\n",
       "    <tr>\n",
       "      <th>4</th>\n",
       "      <td>4</td>\n",
       "      <td>Не женат / не замужем</td>\n",
       "    </tr>\n",
       "  </tbody>\n",
       "</table>\n",
       "</div>"
      ],
      "text/plain": [
       "   family_status_id          family_status\n",
       "0                 0        женат / замужем\n",
       "1                 1       гражданский брак\n",
       "2                 2         вдовец / вдова\n",
       "3                 3              в разводе\n",
       "4                 4  Не женат / не замужем"
      ]
     },
     "execution_count": 31,
     "metadata": {},
     "output_type": "execute_result"
    }
   ],
   "source": [
    "# Датафрейм-словарь с данными о семейном статусе\n",
    "family_status_dict = data[['family_status_id','family_status']]\n",
    "family_status_dict = family_status_dict.drop_duplicates().reset_index(drop=True)\n",
    "family_status_dict"
   ]
  },
  {
   "cell_type": "code",
   "execution_count": 32,
   "id": "74012535",
   "metadata": {
    "pycharm": {
     "name": "#%%\n"
    }
   },
   "outputs": [
    {
     "data": {
      "text/html": [
       "<div>\n",
       "<style scoped>\n",
       "    .dataframe tbody tr th:only-of-type {\n",
       "        vertical-align: middle;\n",
       "    }\n",
       "\n",
       "    .dataframe tbody tr th {\n",
       "        vertical-align: top;\n",
       "    }\n",
       "\n",
       "    .dataframe thead th {\n",
       "        text-align: right;\n",
       "    }\n",
       "</style>\n",
       "<table border=\"1\" class=\"dataframe\">\n",
       "  <thead>\n",
       "    <tr style=\"text-align: right;\">\n",
       "      <th></th>\n",
       "      <th>family_status_id</th>\n",
       "      <th>family_status</th>\n",
       "    </tr>\n",
       "  </thead>\n",
       "  <tbody>\n",
       "    <tr>\n",
       "      <th>0</th>\n",
       "      <td>0</td>\n",
       "      <td>женат / замужем</td>\n",
       "    </tr>\n",
       "    <tr>\n",
       "      <th>1</th>\n",
       "      <td>1</td>\n",
       "      <td>гражданский брак</td>\n",
       "    </tr>\n",
       "    <tr>\n",
       "      <th>2</th>\n",
       "      <td>2</td>\n",
       "      <td>вдовец / вдова</td>\n",
       "    </tr>\n",
       "    <tr>\n",
       "      <th>3</th>\n",
       "      <td>3</td>\n",
       "      <td>в разводе</td>\n",
       "    </tr>\n",
       "    <tr>\n",
       "      <th>4</th>\n",
       "      <td>4</td>\n",
       "      <td>не женат / не замужем</td>\n",
       "    </tr>\n",
       "  </tbody>\n",
       "</table>\n",
       "</div>"
      ],
      "text/plain": [
       "   family_status_id          family_status\n",
       "0                 0        женат / замужем\n",
       "1                 1       гражданский брак\n",
       "2                 2         вдовец / вдова\n",
       "3                 3              в разводе\n",
       "4                 4  не женат / не замужем"
      ]
     },
     "execution_count": 32,
     "metadata": {},
     "output_type": "execute_result"
    }
   ],
   "source": [
    "family_status_dict['family_status'] = family_status_dict['family_status'].str.lower()\n",
    "family_status_dict"
   ]
  },
  {
   "cell_type": "code",
   "execution_count": 33,
   "id": "dfd12b03",
   "metadata": {
    "pycharm": {
     "name": "#%%\n"
    }
   },
   "outputs": [
    {
     "data": {
      "text/html": [
       "<div>\n",
       "<style scoped>\n",
       "    .dataframe tbody tr th:only-of-type {\n",
       "        vertical-align: middle;\n",
       "    }\n",
       "\n",
       "    .dataframe tbody tr th {\n",
       "        vertical-align: top;\n",
       "    }\n",
       "\n",
       "    .dataframe thead th {\n",
       "        text-align: right;\n",
       "    }\n",
       "</style>\n",
       "<table border=\"1\" class=\"dataframe\">\n",
       "  <thead>\n",
       "    <tr style=\"text-align: right;\">\n",
       "      <th></th>\n",
       "      <th>children</th>\n",
       "      <th>days_employed</th>\n",
       "      <th>dob_years</th>\n",
       "      <th>education_id</th>\n",
       "      <th>family_status_id</th>\n",
       "      <th>gender</th>\n",
       "      <th>income_type</th>\n",
       "      <th>debt</th>\n",
       "      <th>total_income</th>\n",
       "      <th>purpose</th>\n",
       "    </tr>\n",
       "  </thead>\n",
       "  <tbody>\n",
       "    <tr>\n",
       "      <th>0</th>\n",
       "      <td>1</td>\n",
       "      <td>8437</td>\n",
       "      <td>42</td>\n",
       "      <td>0</td>\n",
       "      <td>0</td>\n",
       "      <td>F</td>\n",
       "      <td>сотрудник</td>\n",
       "      <td>0</td>\n",
       "      <td>253875</td>\n",
       "      <td>покупка жилья</td>\n",
       "    </tr>\n",
       "    <tr>\n",
       "      <th>1</th>\n",
       "      <td>1</td>\n",
       "      <td>4024</td>\n",
       "      <td>36</td>\n",
       "      <td>1</td>\n",
       "      <td>0</td>\n",
       "      <td>F</td>\n",
       "      <td>сотрудник</td>\n",
       "      <td>0</td>\n",
       "      <td>112080</td>\n",
       "      <td>приобретение автомобиля</td>\n",
       "    </tr>\n",
       "    <tr>\n",
       "      <th>2</th>\n",
       "      <td>0</td>\n",
       "      <td>5623</td>\n",
       "      <td>33</td>\n",
       "      <td>1</td>\n",
       "      <td>0</td>\n",
       "      <td>M</td>\n",
       "      <td>сотрудник</td>\n",
       "      <td>0</td>\n",
       "      <td>145885</td>\n",
       "      <td>покупка жилья</td>\n",
       "    </tr>\n",
       "    <tr>\n",
       "      <th>3</th>\n",
       "      <td>3</td>\n",
       "      <td>4124</td>\n",
       "      <td>32</td>\n",
       "      <td>1</td>\n",
       "      <td>0</td>\n",
       "      <td>M</td>\n",
       "      <td>сотрудник</td>\n",
       "      <td>0</td>\n",
       "      <td>267628</td>\n",
       "      <td>дополнительное образование</td>\n",
       "    </tr>\n",
       "    <tr>\n",
       "      <th>4</th>\n",
       "      <td>0</td>\n",
       "      <td>3280</td>\n",
       "      <td>53</td>\n",
       "      <td>1</td>\n",
       "      <td>1</td>\n",
       "      <td>F</td>\n",
       "      <td>пенсионер</td>\n",
       "      <td>0</td>\n",
       "      <td>158616</td>\n",
       "      <td>сыграть свадьбу</td>\n",
       "    </tr>\n",
       "  </tbody>\n",
       "</table>\n",
       "</div>"
      ],
      "text/plain": [
       "   children  days_employed  dob_years  education_id  family_status_id gender  \\\n",
       "0         1           8437         42             0                 0      F   \n",
       "1         1           4024         36             1                 0      F   \n",
       "2         0           5623         33             1                 0      M   \n",
       "3         3           4124         32             1                 0      M   \n",
       "4         0           3280         53             1                 1      F   \n",
       "\n",
       "  income_type  debt  total_income                     purpose  \n",
       "0   сотрудник     0        253875               покупка жилья  \n",
       "1   сотрудник     0        112080     приобретение автомобиля  \n",
       "2   сотрудник     0        145885               покупка жилья  \n",
       "3   сотрудник     0        267628  дополнительное образование  \n",
       "4   пенсионер     0        158616             сыграть свадьбу  "
      ]
     },
     "execution_count": 33,
     "metadata": {},
     "output_type": "execute_result"
    }
   ],
   "source": [
    "# Удаление столбцов в исходном датафрейме\n",
    "data = data.drop(columns = ['education', 'family_status'])\n",
    "data.head(5)"
   ]
  },
  {
   "cell_type": "markdown",
   "id": "eca33da2",
   "metadata": {
    "pycharm": {
     "name": "#%% md\n"
    }
   },
   "source": [
    "### Шаг 2.6. Категоризация дохода."
   ]
  },
  {
   "cell_type": "markdown",
   "id": "126964b7",
   "metadata": {
    "pycharm": {
     "name": "#%% md\n"
    }
   },
   "source": [
    "Проведем категоризацию клиентов в зависимости от доходов:\n",
    "* 0–30000 — `E`;\n",
    "* 30001–50000 — `D`;\n",
    "* 50001–200000 — `C`;\n",
    "* 200001–1000000 — `B`;\n",
    "* 1000001 и выше — `A`."
   ]
  },
  {
   "cell_type": "code",
   "execution_count": 34,
   "id": "877bf072",
   "metadata": {
    "pycharm": {
     "name": "#%%\n"
    }
   },
   "outputs": [],
   "source": [
    "def income_category(income):\n",
    "    if 0 <= income <= 30000:\n",
    "        return 'E'\n",
    "    elif 30001 <= income <= 50000:\n",
    "        return 'D'\n",
    "    elif 50001 <= income <= 200000:\n",
    "        return 'C'\n",
    "    elif 200001 <= income <= 1000000:\n",
    "        return 'B'\n",
    "    else:\n",
    "        return 'A'"
   ]
  },
  {
   "cell_type": "code",
   "execution_count": 35,
   "id": "d69a69f6",
   "metadata": {
    "pycharm": {
     "name": "#%%\n"
    }
   },
   "outputs": [
    {
     "data": {
      "text/html": [
       "<div>\n",
       "<style scoped>\n",
       "    .dataframe tbody tr th:only-of-type {\n",
       "        vertical-align: middle;\n",
       "    }\n",
       "\n",
       "    .dataframe tbody tr th {\n",
       "        vertical-align: top;\n",
       "    }\n",
       "\n",
       "    .dataframe thead th {\n",
       "        text-align: right;\n",
       "    }\n",
       "</style>\n",
       "<table border=\"1\" class=\"dataframe\">\n",
       "  <thead>\n",
       "    <tr style=\"text-align: right;\">\n",
       "      <th></th>\n",
       "      <th>children</th>\n",
       "      <th>days_employed</th>\n",
       "      <th>dob_years</th>\n",
       "      <th>education_id</th>\n",
       "      <th>family_status_id</th>\n",
       "      <th>gender</th>\n",
       "      <th>income_type</th>\n",
       "      <th>debt</th>\n",
       "      <th>total_income</th>\n",
       "      <th>purpose</th>\n",
       "      <th>total_income_category</th>\n",
       "    </tr>\n",
       "  </thead>\n",
       "  <tbody>\n",
       "    <tr>\n",
       "      <th>0</th>\n",
       "      <td>1</td>\n",
       "      <td>8437</td>\n",
       "      <td>42</td>\n",
       "      <td>0</td>\n",
       "      <td>0</td>\n",
       "      <td>F</td>\n",
       "      <td>сотрудник</td>\n",
       "      <td>0</td>\n",
       "      <td>253875</td>\n",
       "      <td>покупка жилья</td>\n",
       "      <td>B</td>\n",
       "    </tr>\n",
       "    <tr>\n",
       "      <th>1</th>\n",
       "      <td>1</td>\n",
       "      <td>4024</td>\n",
       "      <td>36</td>\n",
       "      <td>1</td>\n",
       "      <td>0</td>\n",
       "      <td>F</td>\n",
       "      <td>сотрудник</td>\n",
       "      <td>0</td>\n",
       "      <td>112080</td>\n",
       "      <td>приобретение автомобиля</td>\n",
       "      <td>C</td>\n",
       "    </tr>\n",
       "    <tr>\n",
       "      <th>2</th>\n",
       "      <td>0</td>\n",
       "      <td>5623</td>\n",
       "      <td>33</td>\n",
       "      <td>1</td>\n",
       "      <td>0</td>\n",
       "      <td>M</td>\n",
       "      <td>сотрудник</td>\n",
       "      <td>0</td>\n",
       "      <td>145885</td>\n",
       "      <td>покупка жилья</td>\n",
       "      <td>C</td>\n",
       "    </tr>\n",
       "    <tr>\n",
       "      <th>3</th>\n",
       "      <td>3</td>\n",
       "      <td>4124</td>\n",
       "      <td>32</td>\n",
       "      <td>1</td>\n",
       "      <td>0</td>\n",
       "      <td>M</td>\n",
       "      <td>сотрудник</td>\n",
       "      <td>0</td>\n",
       "      <td>267628</td>\n",
       "      <td>дополнительное образование</td>\n",
       "      <td>B</td>\n",
       "    </tr>\n",
       "    <tr>\n",
       "      <th>4</th>\n",
       "      <td>0</td>\n",
       "      <td>3280</td>\n",
       "      <td>53</td>\n",
       "      <td>1</td>\n",
       "      <td>1</td>\n",
       "      <td>F</td>\n",
       "      <td>пенсионер</td>\n",
       "      <td>0</td>\n",
       "      <td>158616</td>\n",
       "      <td>сыграть свадьбу</td>\n",
       "      <td>C</td>\n",
       "    </tr>\n",
       "  </tbody>\n",
       "</table>\n",
       "</div>"
      ],
      "text/plain": [
       "   children  days_employed  dob_years  education_id  family_status_id gender  \\\n",
       "0         1           8437         42             0                 0      F   \n",
       "1         1           4024         36             1                 0      F   \n",
       "2         0           5623         33             1                 0      M   \n",
       "3         3           4124         32             1                 0      M   \n",
       "4         0           3280         53             1                 1      F   \n",
       "\n",
       "  income_type  debt  total_income                     purpose  \\\n",
       "0   сотрудник     0        253875               покупка жилья   \n",
       "1   сотрудник     0        112080     приобретение автомобиля   \n",
       "2   сотрудник     0        145885               покупка жилья   \n",
       "3   сотрудник     0        267628  дополнительное образование   \n",
       "4   пенсионер     0        158616             сыграть свадьбу   \n",
       "\n",
       "  total_income_category  \n",
       "0                     B  \n",
       "1                     C  \n",
       "2                     C  \n",
       "3                     B  \n",
       "4                     C  "
      ]
     },
     "execution_count": 35,
     "metadata": {},
     "output_type": "execute_result"
    }
   ],
   "source": [
    "data['total_income_category'] = data['total_income'].apply(income_category)\n",
    "data.head(5)"
   ]
  },
  {
   "cell_type": "markdown",
   "id": "52a5da2a",
   "metadata": {
    "pycharm": {
     "name": "#%% md\n"
    }
   },
   "source": [
    "### Шаг 2.7. Категоризация целей кредита."
   ]
  },
  {
   "cell_type": "code",
   "execution_count": 36,
   "id": "dcf2ac60",
   "metadata": {
    "pycharm": {
     "name": "#%%\n"
    }
   },
   "outputs": [
    {
     "name": "stdout",
     "output_type": "stream",
     "text": [
      "['покупка жилья' 'приобретение автомобиля' 'дополнительное образование'\n",
      " 'сыграть свадьбу' 'операции с жильем' 'образование'\n",
      " 'на проведение свадьбы' 'покупка жилья для семьи' 'покупка недвижимости'\n",
      " 'покупка коммерческой недвижимости' 'покупка жилой недвижимости'\n",
      " 'строительство собственной недвижимости' 'недвижимость'\n",
      " 'строительство недвижимости' 'на покупку подержанного автомобиля'\n",
      " 'на покупку своего автомобиля' 'операции с коммерческой недвижимостью'\n",
      " 'строительство жилой недвижимости' 'жилье'\n",
      " 'операции со своей недвижимостью' 'автомобили' 'заняться образованием'\n",
      " 'сделка с подержанным автомобилем' 'получение образования' 'автомобиль'\n",
      " 'свадьба' 'получение дополнительного образования' 'покупка своего жилья'\n",
      " 'операции с недвижимостью' 'получение высшего образования'\n",
      " 'свой автомобиль' 'сделка с автомобилем' 'профильное образование'\n",
      " 'высшее образование' 'покупка жилья для сдачи' 'на покупку автомобиля'\n",
      " 'ремонт жилью' 'заняться высшим образованием']\n"
     ]
    }
   ],
   "source": [
    "print(data['purpose'].unique())"
   ]
  },
  {
   "cell_type": "code",
   "execution_count": 37,
   "id": "095eedba",
   "metadata": {
    "pycharm": {
     "name": "#%%\n"
    }
   },
   "outputs": [],
   "source": [
    "def purpose_category(purpose):\n",
    "    if 'свадьб' in purpose:\n",
    "        return 'проведение свадьбы'\n",
    "    elif 'недвижимост' in purpose or 'жиль' in purpose:\n",
    "        return 'операции с недвижимостью'\n",
    "    elif 'образован' in purpose:\n",
    "        return 'получение образования'\n",
    "    elif 'автомобил' in purpose:\n",
    "        return 'операции с автомобилем'\n",
    "    else:\n",
    "        return f'категория \"{purpose}\" не определена'"
   ]
  },
  {
   "cell_type": "code",
   "execution_count": 38,
   "id": "df7f9a20",
   "metadata": {
    "pycharm": {
     "name": "#%%\n"
    }
   },
   "outputs": [
    {
     "data": {
      "text/plain": [
       "операции с недвижимостью    10756\n",
       "операции с автомобилем       4278\n",
       "получение образования        3989\n",
       "проведение свадьбы           2325\n",
       "Name: purpose_category, dtype: int64"
      ]
     },
     "execution_count": 38,
     "metadata": {},
     "output_type": "execute_result"
    }
   ],
   "source": [
    "data['purpose_category'] = data['purpose'].apply(purpose_category)\n",
    "data['purpose_category'].value_counts()"
   ]
  },
  {
   "cell_type": "markdown",
   "id": "5d9ee4ab",
   "metadata": {
    "pycharm": {
     "name": "#%% md\n"
    }
   },
   "source": [
    "### Ответы на вопросы."
   ]
  },
  {
   "cell_type": "markdown",
   "id": "b9b5c531",
   "metadata": {
    "pycharm": {
     "name": "#%% md\n"
    }
   },
   "source": [
    "##### Вопрос 1: Есть ли зависимость между количеством детей и возвратом кредита в срок?"
   ]
  },
  {
   "cell_type": "code",
   "execution_count": 39,
   "id": "6de52cc9",
   "metadata": {
    "pycharm": {
     "name": "#%%\n"
    }
   },
   "outputs": [
    {
     "data": {
      "text/html": [
       "<div>\n",
       "<style scoped>\n",
       "    .dataframe tbody tr th:only-of-type {\n",
       "        vertical-align: middle;\n",
       "    }\n",
       "\n",
       "    .dataframe tbody tr th {\n",
       "        vertical-align: top;\n",
       "    }\n",
       "\n",
       "    .dataframe thead th {\n",
       "        text-align: right;\n",
       "    }\n",
       "</style>\n",
       "<table border=\"1\" class=\"dataframe\">\n",
       "  <thead>\n",
       "    <tr style=\"text-align: right;\">\n",
       "      <th></th>\n",
       "      <th>count</th>\n",
       "      <th>sum</th>\n",
       "      <th>my_mean</th>\n",
       "    </tr>\n",
       "    <tr>\n",
       "      <th>children</th>\n",
       "      <th></th>\n",
       "      <th></th>\n",
       "      <th></th>\n",
       "    </tr>\n",
       "  </thead>\n",
       "  <tbody>\n",
       "    <tr>\n",
       "      <th>0</th>\n",
       "      <td>14079</td>\n",
       "      <td>1058</td>\n",
       "      <td>7.51%</td>\n",
       "    </tr>\n",
       "    <tr>\n",
       "      <th>1</th>\n",
       "      <td>4849</td>\n",
       "      <td>442</td>\n",
       "      <td>9.12%</td>\n",
       "    </tr>\n",
       "    <tr>\n",
       "      <th>2</th>\n",
       "      <td>2042</td>\n",
       "      <td>194</td>\n",
       "      <td>9.50%</td>\n",
       "    </tr>\n",
       "    <tr>\n",
       "      <th>3</th>\n",
       "      <td>328</td>\n",
       "      <td>27</td>\n",
       "      <td>8.23%</td>\n",
       "    </tr>\n",
       "    <tr>\n",
       "      <th>4</th>\n",
       "      <td>41</td>\n",
       "      <td>4</td>\n",
       "      <td>9.76%</td>\n",
       "    </tr>\n",
       "    <tr>\n",
       "      <th>5</th>\n",
       "      <td>9</td>\n",
       "      <td>0</td>\n",
       "      <td>0.00%</td>\n",
       "    </tr>\n",
       "  </tbody>\n",
       "</table>\n",
       "</div>"
      ],
      "text/plain": [
       "          count   sum my_mean\n",
       "children                     \n",
       "0         14079  1058  7.51% \n",
       "1          4849   442  9.12% \n",
       "2          2042   194  9.50% \n",
       "3           328    27  8.23% \n",
       "4            41     4  9.76% \n",
       "5             9     0  0.00% "
      ]
     },
     "execution_count": 39,
     "metadata": {},
     "output_type": "execute_result"
    }
   ],
   "source": [
    "def my_mean(x): return '{:.2%} '.format(x.mean())\n",
    "\n",
    "data.groupby('children')['debt'].agg(['count', 'sum', my_mean])"
   ]
  },
  {
   "cell_type": "markdown",
   "id": "ad7adfeb",
   "metadata": {
    "pycharm": {
     "name": "#%% md\n"
    }
   },
   "source": [
    "##### Вывод 1:"
   ]
  },
  {
   "cell_type": "markdown",
   "id": "ba830b86",
   "metadata": {
    "pycharm": {
     "name": "#%% md\n"
    }
   },
   "source": [
    "В среднем чем больше детей, тем больше вероятность того, что клиент не вернёт кредит в срок. Однако количество клиентов с более чем 2 детьми достаточно мало, поэтому данная зависимость нуждается в дальнейшем уточнении. "
   ]
  },
  {
   "cell_type": "markdown",
   "id": "51b91c0f",
   "metadata": {
    "pycharm": {
     "name": "#%% md\n"
    }
   },
   "source": [
    "##### Вопрос 2: Есть ли зависимость между семейным положением и возвратом кредита в срок?"
   ]
  },
  {
   "cell_type": "code",
   "execution_count": 40,
   "id": "1fc6d7ca",
   "metadata": {
    "pycharm": {
     "name": "#%%\n"
    }
   },
   "outputs": [
    {
     "data": {
      "text/html": [
       "<div>\n",
       "<style scoped>\n",
       "    .dataframe tbody tr th:only-of-type {\n",
       "        vertical-align: middle;\n",
       "    }\n",
       "\n",
       "    .dataframe tbody tr th {\n",
       "        vertical-align: top;\n",
       "    }\n",
       "\n",
       "    .dataframe thead th {\n",
       "        text-align: right;\n",
       "    }\n",
       "</style>\n",
       "<table border=\"1\" class=\"dataframe\">\n",
       "  <thead>\n",
       "    <tr style=\"text-align: right;\">\n",
       "      <th></th>\n",
       "      <th>family_status_id</th>\n",
       "      <th>family_status</th>\n",
       "    </tr>\n",
       "  </thead>\n",
       "  <tbody>\n",
       "    <tr>\n",
       "      <th>0</th>\n",
       "      <td>0</td>\n",
       "      <td>женат / замужем</td>\n",
       "    </tr>\n",
       "    <tr>\n",
       "      <th>1</th>\n",
       "      <td>1</td>\n",
       "      <td>гражданский брак</td>\n",
       "    </tr>\n",
       "    <tr>\n",
       "      <th>2</th>\n",
       "      <td>2</td>\n",
       "      <td>вдовец / вдова</td>\n",
       "    </tr>\n",
       "    <tr>\n",
       "      <th>3</th>\n",
       "      <td>3</td>\n",
       "      <td>в разводе</td>\n",
       "    </tr>\n",
       "    <tr>\n",
       "      <th>4</th>\n",
       "      <td>4</td>\n",
       "      <td>не женат / не замужем</td>\n",
       "    </tr>\n",
       "  </tbody>\n",
       "</table>\n",
       "</div>"
      ],
      "text/plain": [
       "   family_status_id          family_status\n",
       "0                 0        женат / замужем\n",
       "1                 1       гражданский брак\n",
       "2                 2         вдовец / вдова\n",
       "3                 3              в разводе\n",
       "4                 4  не женат / не замужем"
      ]
     },
     "metadata": {},
     "output_type": "display_data"
    },
    {
     "data": {
      "text/html": [
       "<div>\n",
       "<style scoped>\n",
       "    .dataframe tbody tr th:only-of-type {\n",
       "        vertical-align: middle;\n",
       "    }\n",
       "\n",
       "    .dataframe tbody tr th {\n",
       "        vertical-align: top;\n",
       "    }\n",
       "\n",
       "    .dataframe thead th {\n",
       "        text-align: right;\n",
       "    }\n",
       "</style>\n",
       "<table border=\"1\" class=\"dataframe\">\n",
       "  <thead>\n",
       "    <tr style=\"text-align: right;\">\n",
       "      <th></th>\n",
       "      <th>count</th>\n",
       "      <th>sum</th>\n",
       "      <th>my_mean</th>\n",
       "    </tr>\n",
       "    <tr>\n",
       "      <th>family_status_id</th>\n",
       "      <th></th>\n",
       "      <th></th>\n",
       "      <th></th>\n",
       "    </tr>\n",
       "  </thead>\n",
       "  <tbody>\n",
       "    <tr>\n",
       "      <th>0</th>\n",
       "      <td>12283</td>\n",
       "      <td>924</td>\n",
       "      <td>7.52%</td>\n",
       "    </tr>\n",
       "    <tr>\n",
       "      <th>1</th>\n",
       "      <td>4143</td>\n",
       "      <td>383</td>\n",
       "      <td>9.24%</td>\n",
       "    </tr>\n",
       "    <tr>\n",
       "      <th>2</th>\n",
       "      <td>951</td>\n",
       "      <td>62</td>\n",
       "      <td>6.52%</td>\n",
       "    </tr>\n",
       "    <tr>\n",
       "      <th>3</th>\n",
       "      <td>1183</td>\n",
       "      <td>84</td>\n",
       "      <td>7.10%</td>\n",
       "    </tr>\n",
       "    <tr>\n",
       "      <th>4</th>\n",
       "      <td>2788</td>\n",
       "      <td>272</td>\n",
       "      <td>9.76%</td>\n",
       "    </tr>\n",
       "  </tbody>\n",
       "</table>\n",
       "</div>"
      ],
      "text/plain": [
       "                  count  sum my_mean\n",
       "family_status_id                    \n",
       "0                 12283  924  7.52% \n",
       "1                  4143  383  9.24% \n",
       "2                   951   62  6.52% \n",
       "3                  1183   84  7.10% \n",
       "4                  2788  272  9.76% "
      ]
     },
     "metadata": {},
     "output_type": "display_data"
    },
    {
     "data": {
      "text/html": [
       "<div>\n",
       "<style scoped>\n",
       "    .dataframe tbody tr th:only-of-type {\n",
       "        vertical-align: middle;\n",
       "    }\n",
       "\n",
       "    .dataframe tbody tr th {\n",
       "        vertical-align: top;\n",
       "    }\n",
       "\n",
       "    .dataframe thead th {\n",
       "        text-align: right;\n",
       "    }\n",
       "</style>\n",
       "<table border=\"1\" class=\"dataframe\">\n",
       "  <thead>\n",
       "    <tr style=\"text-align: right;\">\n",
       "      <th></th>\n",
       "      <th>family_status_id</th>\n",
       "      <th>count</th>\n",
       "      <th>sum</th>\n",
       "      <th>my_mean</th>\n",
       "    </tr>\n",
       "  </thead>\n",
       "  <tbody>\n",
       "    <tr>\n",
       "      <th>0</th>\n",
       "      <td>женат / замужем</td>\n",
       "      <td>12283</td>\n",
       "      <td>924</td>\n",
       "      <td>7.52%</td>\n",
       "    </tr>\n",
       "    <tr>\n",
       "      <th>1</th>\n",
       "      <td>гражданский брак</td>\n",
       "      <td>4143</td>\n",
       "      <td>383</td>\n",
       "      <td>9.24%</td>\n",
       "    </tr>\n",
       "    <tr>\n",
       "      <th>2</th>\n",
       "      <td>вдовец / вдова</td>\n",
       "      <td>951</td>\n",
       "      <td>62</td>\n",
       "      <td>6.52%</td>\n",
       "    </tr>\n",
       "    <tr>\n",
       "      <th>3</th>\n",
       "      <td>в разводе</td>\n",
       "      <td>1183</td>\n",
       "      <td>84</td>\n",
       "      <td>7.10%</td>\n",
       "    </tr>\n",
       "    <tr>\n",
       "      <th>4</th>\n",
       "      <td>не женат / не замужем</td>\n",
       "      <td>2788</td>\n",
       "      <td>272</td>\n",
       "      <td>9.76%</td>\n",
       "    </tr>\n",
       "  </tbody>\n",
       "</table>\n",
       "</div>"
      ],
      "text/plain": [
       "        family_status_id  count  sum my_mean\n",
       "0        женат / замужем  12283  924  7.52% \n",
       "1       гражданский брак   4143  383  9.24% \n",
       "2         вдовец / вдова    951   62  6.52% \n",
       "3              в разводе   1183   84  7.10% \n",
       "4  не женат / не замужем   2788  272  9.76% "
      ]
     },
     "execution_count": 40,
     "metadata": {},
     "output_type": "execute_result"
    }
   ],
   "source": [
    "display(family_status_dict)\n",
    "\n",
    "def my_mean(x): return '{:.2%} '.format(x.mean())\n",
    "\n",
    "a = data.groupby('family_status_id')['debt'].agg(['count', 'sum', my_mean])\n",
    "display(a)\n",
    "\n",
    "a.reset_index().replace({'family_status_id': family_status_dict.family_status.to_dict()})"
   ]
  },
  {
   "cell_type": "markdown",
   "id": "b15fee43",
   "metadata": {
    "pycharm": {
     "name": "#%% md\n"
    }
   },
   "source": [
    "##### Вывод 2:"
   ]
  },
  {
   "cell_type": "markdown",
   "id": "766042ad",
   "metadata": {
    "pycharm": {
     "name": "#%% md\n"
    }
   },
   "source": [
    "В среднем вероятность того, что люди в гражданском браке и не женатые / не замужем не вернут кредит в срок, больше, чем у людей в разводе и женатых / замежем. Вдовцы / вдовы в наименьшей степени склонны иметь задолженность по кредиту."
   ]
  },
  {
   "cell_type": "markdown",
   "id": "f0a7a01e",
   "metadata": {
    "pycharm": {
     "name": "#%% md\n"
    }
   },
   "source": [
    "##### Вопрос 3: Есть ли зависимость между уровнем дохода и возвратом кредита в срок?"
   ]
  },
  {
   "cell_type": "code",
   "execution_count": 41,
   "id": "ac853c61",
   "metadata": {
    "pycharm": {
     "name": "#%%\n"
    }
   },
   "outputs": [
    {
     "data": {
      "text/html": [
       "<div>\n",
       "<style scoped>\n",
       "    .dataframe tbody tr th:only-of-type {\n",
       "        vertical-align: middle;\n",
       "    }\n",
       "\n",
       "    .dataframe tbody tr th {\n",
       "        vertical-align: top;\n",
       "    }\n",
       "\n",
       "    .dataframe thead tr th {\n",
       "        text-align: left;\n",
       "    }\n",
       "\n",
       "    .dataframe thead tr:last-of-type th {\n",
       "        text-align: right;\n",
       "    }\n",
       "</style>\n",
       "<table border=\"1\" class=\"dataframe\">\n",
       "  <thead>\n",
       "    <tr>\n",
       "      <th></th>\n",
       "      <th>mean</th>\n",
       "      <th>count</th>\n",
       "    </tr>\n",
       "    <tr>\n",
       "      <th></th>\n",
       "      <th>debt</th>\n",
       "      <th>debt</th>\n",
       "    </tr>\n",
       "    <tr>\n",
       "      <th>total_income_category</th>\n",
       "      <th></th>\n",
       "      <th></th>\n",
       "    </tr>\n",
       "  </thead>\n",
       "  <tbody>\n",
       "    <tr>\n",
       "      <th>A</th>\n",
       "      <td>0.080000</td>\n",
       "      <td>25</td>\n",
       "    </tr>\n",
       "    <tr>\n",
       "      <th>B</th>\n",
       "      <td>0.070685</td>\n",
       "      <td>4994</td>\n",
       "    </tr>\n",
       "    <tr>\n",
       "      <th>C</th>\n",
       "      <td>0.084404</td>\n",
       "      <td>15959</td>\n",
       "    </tr>\n",
       "    <tr>\n",
       "      <th>D</th>\n",
       "      <td>0.060345</td>\n",
       "      <td>348</td>\n",
       "    </tr>\n",
       "    <tr>\n",
       "      <th>E</th>\n",
       "      <td>0.090909</td>\n",
       "      <td>22</td>\n",
       "    </tr>\n",
       "  </tbody>\n",
       "</table>\n",
       "</div>"
      ],
      "text/plain": [
       "                           mean  count\n",
       "                           debt   debt\n",
       "total_income_category                 \n",
       "A                      0.080000     25\n",
       "B                      0.070685   4994\n",
       "C                      0.084404  15959\n",
       "D                      0.060345    348\n",
       "E                      0.090909     22"
      ]
     },
     "execution_count": 41,
     "metadata": {},
     "output_type": "execute_result"
    }
   ],
   "source": [
    "data.pivot_table(index = 'total_income_category', values = 'debt', aggfunc = ['mean', 'count'])"
   ]
  },
  {
   "cell_type": "markdown",
   "id": "3948e4d4",
   "metadata": {
    "pycharm": {
     "name": "#%% md\n"
    }
   },
   "source": [
    "##### Вывод 3:"
   ]
  },
  {
   "cell_type": "markdown",
   "id": "e447beaf",
   "metadata": {
    "pycharm": {
     "name": "#%% md\n"
    }
   },
   "source": [
    "Люди, получающие доход от 0 до 30000, в наибольшей степени склонны не возвращать кредит в срок. Чуть меньше склонны не возвращать кредит в срок люди с доходом от 50001 до 200000 и выше 1000001. Меньше всего задолженностей возникает у лиц с доходом от 30001 до 50000.\n",
    "\n",
    "Однако стоит отметить тот факт, что наблюдяется явный перекос выборки в сторону людей с доходом 200001–1000000 (B) и 50001–200000 (С), поэтому данные выводы нуждаются в дальнейшем подтверждении."
   ]
  },
  {
   "cell_type": "markdown",
   "id": "5f35eb77",
   "metadata": {
    "pycharm": {
     "name": "#%% md\n"
    }
   },
   "source": [
    "##### Вопрос 4: Как разные цели кредита влияют на его возврат в срок?"
   ]
  },
  {
   "cell_type": "code",
   "execution_count": 42,
   "id": "40fb81e9",
   "metadata": {
    "pycharm": {
     "name": "#%%\n"
    }
   },
   "outputs": [
    {
     "data": {
      "text/html": [
       "<div>\n",
       "<style scoped>\n",
       "    .dataframe tbody tr th:only-of-type {\n",
       "        vertical-align: middle;\n",
       "    }\n",
       "\n",
       "    .dataframe tbody tr th {\n",
       "        vertical-align: top;\n",
       "    }\n",
       "\n",
       "    .dataframe thead tr th {\n",
       "        text-align: left;\n",
       "    }\n",
       "\n",
       "    .dataframe thead tr:last-of-type th {\n",
       "        text-align: right;\n",
       "    }\n",
       "</style>\n",
       "<table border=\"1\" class=\"dataframe\">\n",
       "  <thead>\n",
       "    <tr>\n",
       "      <th></th>\n",
       "      <th>mean</th>\n",
       "      <th>count</th>\n",
       "    </tr>\n",
       "    <tr>\n",
       "      <th></th>\n",
       "      <th>debt</th>\n",
       "      <th>debt</th>\n",
       "    </tr>\n",
       "    <tr>\n",
       "      <th>purpose_category</th>\n",
       "      <th></th>\n",
       "      <th></th>\n",
       "    </tr>\n",
       "  </thead>\n",
       "  <tbody>\n",
       "    <tr>\n",
       "      <th>операции с автомобилем</th>\n",
       "      <td>0.093034</td>\n",
       "      <td>4278</td>\n",
       "    </tr>\n",
       "    <tr>\n",
       "      <th>операции с недвижимостью</th>\n",
       "      <td>0.072239</td>\n",
       "      <td>10756</td>\n",
       "    </tr>\n",
       "    <tr>\n",
       "      <th>получение образования</th>\n",
       "      <td>0.092504</td>\n",
       "      <td>3989</td>\n",
       "    </tr>\n",
       "    <tr>\n",
       "      <th>проведение свадьбы</th>\n",
       "      <td>0.077849</td>\n",
       "      <td>2325</td>\n",
       "    </tr>\n",
       "  </tbody>\n",
       "</table>\n",
       "</div>"
      ],
      "text/plain": [
       "                              mean  count\n",
       "                              debt   debt\n",
       "purpose_category                         \n",
       "операции с автомобилем    0.093034   4278\n",
       "операции с недвижимостью  0.072239  10756\n",
       "получение образования     0.092504   3989\n",
       "проведение свадьбы        0.077849   2325"
      ]
     },
     "execution_count": 42,
     "metadata": {},
     "output_type": "execute_result"
    }
   ],
   "source": [
    "data.pivot_table(index = 'purpose_category', values = 'debt', aggfunc = ['mean', 'count'])"
   ]
  },
  {
   "cell_type": "markdown",
   "id": "4c098e72",
   "metadata": {
    "pycharm": {
     "name": "#%% md\n"
    }
   },
   "source": [
    "##### Вывод 4: "
   ]
  },
  {
   "cell_type": "markdown",
   "id": "02f9a91a",
   "metadata": {
    "pycharm": {
     "name": "#%% md\n"
    }
   },
   "source": [
    "В среднем люди, получившие кредит для операций с недвижимостью или проведения свадьбы, возвращают кредит в срок чаще, чем люди, взявшие кредит для операций с автомобилем или получения образования."
   ]
  },
  {
   "cell_type": "markdown",
   "id": "0bfd2c40",
   "metadata": {
    "pycharm": {
     "name": "#%% md\n"
    }
   },
   "source": [
    "## Общий вывод:"
   ]
  },
  {
   "cell_type": "markdown",
   "id": "99bc2852",
   "metadata": {
    "pycharm": {
     "name": "#%% md\n"
    }
   },
   "source": [
    "Как показало исследование, существуют следующие факторы, снижающие вероятность просрочки кредита:\n",
    "* клиент не имеет детей;\n",
    "* клиент - вдовец / вдова;\n",
    "* клиент имеет доход от 30001 до 50000;\n",
    "* клиент берёт кредит для проведения свадьбы или операций с недвижимостью."
   ]
  },
  {
   "cell_type": "markdown",
   "id": "2f50f41a",
   "metadata": {
    "pycharm": {
     "name": "#%% md\n"
    }
   },
   "source": [
    "Основываясь на предоставленной выборке, можно утверждать, что:\n",
    "* с точки зрения <b>количества детей</b> самыми надежными являются клиенты <b>без детей</b> (7.54% просроченных кредитов), а наименее надежны клиенты <b>с 4 детьми</b> (9.76% просроченных кредитов);\n",
    "* с точки зрения <b>семейного положения</b> самыми надежными являются клиенты <b>вдовцы и вдовы</b> (7.54% просроченных кредитов), а наименее надежны <b>неженатые и незамужние </b>клиенты (9.77% просроченных кредитов);\n",
    "* с точки зрения <b>уровня дохода</b> самыми надежными являются клиенты <b>с доходом от 30 001 до 50 000</b>  (6.03% просроченных кредитов), а наименее надежны клиенты <b>с доходом от 0 до 30 000</b> (9.09% просроченных кредитов);\n",
    "* с точки зрения <b>целей кредита</b> самыми надежными являются клиенты, получающие деньги <b>для операций с недвижимостью</b> (7.24% просроченных кредитов), а наименее надежные клиенты, получающие деньги <b>для операций с автомобилем</b> (9.31% просроченных кредитов)."
   ]
  },
  {
   "cell_type": "code",
   "execution_count": null,
   "id": "54ae3777",
   "metadata": {
    "pycharm": {
     "name": "#%%\n"
    }
   },
   "outputs": [],
   "source": []
  }
 ],
 "metadata": {
  "ExecuteTimeLog": [
   {
    "duration": 694,
    "start_time": "2022-02-17T09:10:02.824Z"
   },
   {
    "duration": 57,
    "start_time": "2022-02-17T09:11:52.999Z"
   },
   {
    "duration": 14,
    "start_time": "2022-02-17T09:12:20.390Z"
   },
   {
    "duration": 44,
    "start_time": "2022-02-17T09:12:22.881Z"
   },
   {
    "duration": 14,
    "start_time": "2022-02-17T09:14:20.500Z"
   },
   {
    "duration": 11,
    "start_time": "2022-02-17T09:14:42.885Z"
   },
   {
    "duration": 705,
    "start_time": "2022-02-17T09:30:31.187Z"
   },
   {
    "duration": 26,
    "start_time": "2022-02-17T09:30:31.894Z"
   },
   {
    "duration": 14,
    "start_time": "2022-02-17T09:30:31.923Z"
   },
   {
    "duration": 726,
    "start_time": "2022-02-17T09:30:40.317Z"
   },
   {
    "duration": 21,
    "start_time": "2022-02-17T09:30:41.045Z"
   },
   {
    "duration": 32,
    "start_time": "2022-02-17T09:30:41.068Z"
   },
   {
    "duration": 34,
    "start_time": "2022-02-17T09:36:58.378Z"
   },
   {
    "duration": 35,
    "start_time": "2022-02-17T09:40:50.051Z"
   },
   {
    "duration": 294,
    "start_time": "2022-02-22T19:03:51.741Z"
   },
   {
    "duration": 618,
    "start_time": "2022-02-22T19:03:55.416Z"
   },
   {
    "duration": 19,
    "start_time": "2022-02-22T19:03:57.193Z"
   },
   {
    "duration": 12,
    "start_time": "2022-02-22T19:03:59.417Z"
   },
   {
    "duration": 280,
    "start_time": "2022-02-22T19:04:02.137Z"
   },
   {
    "duration": 187,
    "start_time": "2022-02-22T19:04:12.025Z"
   },
   {
    "duration": 5,
    "start_time": "2022-02-22T19:04:52.841Z"
   },
   {
    "duration": 23,
    "start_time": "2022-02-22T19:05:10.024Z"
   },
   {
    "duration": 22,
    "start_time": "2022-02-22T19:06:01.618Z"
   },
   {
    "duration": 20,
    "start_time": "2022-02-22T19:06:24.130Z"
   },
   {
    "duration": 36,
    "start_time": "2022-02-22T19:06:43.266Z"
   },
   {
    "duration": 20,
    "start_time": "2022-02-22T19:06:50.673Z"
   },
   {
    "duration": 8,
    "start_time": "2022-02-22T19:07:20.153Z"
   },
   {
    "duration": 10,
    "start_time": "2022-02-22T19:08:05.594Z"
   },
   {
    "duration": 18,
    "start_time": "2022-02-22T19:08:30.435Z"
   },
   {
    "duration": 34,
    "start_time": "2022-02-22T19:08:44.865Z"
   },
   {
    "duration": 9,
    "start_time": "2022-02-22T19:09:00.402Z"
   },
   {
    "duration": 21,
    "start_time": "2022-02-22T19:09:09.826Z"
   },
   {
    "duration": 9,
    "start_time": "2022-02-22T19:10:45.186Z"
   },
   {
    "duration": 8,
    "start_time": "2022-02-22T19:10:53.906Z"
   },
   {
    "duration": 20,
    "start_time": "2022-02-22T19:11:09.274Z"
   },
   {
    "duration": 176,
    "start_time": "2022-02-22T19:11:41.730Z"
   },
   {
    "duration": 193,
    "start_time": "2022-02-22T19:12:10.366Z"
   },
   {
    "duration": 22,
    "start_time": "2022-02-22T19:13:10.073Z"
   },
   {
    "duration": 8,
    "start_time": "2022-02-22T19:13:20.922Z"
   },
   {
    "duration": 23,
    "start_time": "2022-02-22T19:13:36.857Z"
   },
   {
    "duration": 20,
    "start_time": "2022-02-22T19:14:08.932Z"
   },
   {
    "duration": 10,
    "start_time": "2022-02-22T19:14:26.363Z"
   },
   {
    "duration": 30,
    "start_time": "2022-02-22T19:17:04.370Z"
   },
   {
    "duration": 14,
    "start_time": "2022-02-22T19:18:08.866Z"
   },
   {
    "duration": 22,
    "start_time": "2022-02-22T19:21:04.394Z"
   },
   {
    "duration": 14,
    "start_time": "2022-02-22T19:21:20.593Z"
   },
   {
    "duration": 171,
    "start_time": "2022-02-22T19:48:29.709Z"
   },
   {
    "duration": 8,
    "start_time": "2022-02-22T19:48:41.804Z"
   },
   {
    "duration": 9,
    "start_time": "2022-02-22T19:48:52.181Z"
   },
   {
    "duration": 13,
    "start_time": "2022-02-22T19:49:00.678Z"
   },
   {
    "duration": 22,
    "start_time": "2022-02-22T19:49:08.829Z"
   },
   {
    "duration": 14,
    "start_time": "2022-02-22T19:49:16.693Z"
   },
   {
    "duration": 13,
    "start_time": "2022-02-22T19:49:25.941Z"
   },
   {
    "duration": 8,
    "start_time": "2022-02-22T19:49:32.188Z"
   },
   {
    "duration": 789,
    "start_time": "2022-02-22T19:50:00.096Z"
   },
   {
    "duration": 24,
    "start_time": "2022-02-22T19:50:00.888Z"
   },
   {
    "duration": 24,
    "start_time": "2022-02-22T19:50:00.914Z"
   },
   {
    "duration": 15,
    "start_time": "2022-02-22T19:50:00.940Z"
   },
   {
    "duration": 18,
    "start_time": "2022-02-22T19:50:00.957Z"
   },
   {
    "duration": 33,
    "start_time": "2022-02-22T19:50:00.977Z"
   },
   {
    "duration": 59,
    "start_time": "2022-02-22T19:51:26.394Z"
   },
   {
    "duration": 9,
    "start_time": "2022-02-22T19:51:46.329Z"
   },
   {
    "duration": 22,
    "start_time": "2022-02-22T19:52:05.513Z"
   },
   {
    "duration": 1274,
    "start_time": "2022-02-22T19:59:35.306Z"
   },
   {
    "duration": 7,
    "start_time": "2022-02-22T19:59:48.715Z"
   },
   {
    "duration": 184,
    "start_time": "2022-02-22T20:00:17.042Z"
   },
   {
    "duration": 6,
    "start_time": "2022-02-22T20:00:48.058Z"
   },
   {
    "duration": 6,
    "start_time": "2022-02-22T20:01:39.401Z"
   },
   {
    "duration": 22,
    "start_time": "2022-02-22T20:01:43.618Z"
   },
   {
    "duration": 573,
    "start_time": "2022-02-22T20:01:58.878Z"
   },
   {
    "duration": 20,
    "start_time": "2022-02-22T20:01:59.452Z"
   },
   {
    "duration": 11,
    "start_time": "2022-02-22T20:01:59.474Z"
   },
   {
    "duration": 10,
    "start_time": "2022-02-22T20:01:59.487Z"
   },
   {
    "duration": 39,
    "start_time": "2022-02-22T20:01:59.499Z"
   },
   {
    "duration": 20,
    "start_time": "2022-02-22T20:01:59.540Z"
   },
   {
    "duration": 29,
    "start_time": "2022-02-22T20:01:59.562Z"
   },
   {
    "duration": 4457,
    "start_time": "2022-02-22T20:02:24.437Z"
   },
   {
    "duration": 5,
    "start_time": "2022-02-22T20:02:47.484Z"
   },
   {
    "duration": 2,
    "start_time": "2022-02-22T20:08:55.685Z"
   },
   {
    "duration": 22,
    "start_time": "2022-02-22T20:17:10.395Z"
   },
   {
    "duration": 7,
    "start_time": "2022-02-22T20:17:58.525Z"
   },
   {
    "duration": 4,
    "start_time": "2022-02-22T20:18:37.932Z"
   },
   {
    "duration": 22,
    "start_time": "2022-02-22T20:18:56.318Z"
   },
   {
    "duration": 33,
    "start_time": "2022-02-22T20:19:06.678Z"
   },
   {
    "duration": 25,
    "start_time": "2022-02-22T20:23:56.933Z"
   },
   {
    "duration": 25,
    "start_time": "2022-02-22T20:24:03.997Z"
   },
   {
    "duration": 19,
    "start_time": "2022-02-22T20:24:26.901Z"
   },
   {
    "duration": 20,
    "start_time": "2022-02-22T20:24:57.749Z"
   },
   {
    "duration": 26,
    "start_time": "2022-02-22T20:25:06.013Z"
   },
   {
    "duration": 25,
    "start_time": "2022-02-22T20:25:13.502Z"
   },
   {
    "duration": 22,
    "start_time": "2022-02-22T20:27:31.069Z"
   },
   {
    "duration": 24,
    "start_time": "2022-02-22T20:33:09.292Z"
   },
   {
    "duration": 21,
    "start_time": "2022-02-22T20:34:32.677Z"
   },
   {
    "duration": 9,
    "start_time": "2022-02-22T20:35:43.124Z"
   },
   {
    "duration": 6,
    "start_time": "2022-02-22T20:35:53.172Z"
   },
   {
    "duration": 8,
    "start_time": "2022-02-22T20:36:13.636Z"
   },
   {
    "duration": 6,
    "start_time": "2022-02-22T20:36:21.347Z"
   },
   {
    "duration": 7,
    "start_time": "2022-02-22T20:36:25.516Z"
   },
   {
    "duration": 7,
    "start_time": "2022-02-22T20:37:11.060Z"
   },
   {
    "duration": 7,
    "start_time": "2022-02-22T20:41:30.468Z"
   },
   {
    "duration": 560,
    "start_time": "2022-02-22T20:42:50.085Z"
   },
   {
    "duration": 21,
    "start_time": "2022-02-22T20:42:50.647Z"
   },
   {
    "duration": 11,
    "start_time": "2022-02-22T20:42:50.671Z"
   },
   {
    "duration": 10,
    "start_time": "2022-02-22T20:42:50.684Z"
   },
   {
    "duration": 40,
    "start_time": "2022-02-22T20:42:50.696Z"
   },
   {
    "duration": 2,
    "start_time": "2022-02-22T20:42:50.738Z"
   },
   {
    "duration": 36,
    "start_time": "2022-02-22T20:42:50.742Z"
   },
   {
    "duration": 29,
    "start_time": "2022-02-22T20:42:50.781Z"
   },
   {
    "duration": 23,
    "start_time": "2022-02-22T20:42:50.811Z"
   },
   {
    "duration": 2,
    "start_time": "2022-02-22T20:44:40.063Z"
   },
   {
    "duration": 5,
    "start_time": "2022-02-22T20:45:03.807Z"
   },
   {
    "duration": 2,
    "start_time": "2022-02-22T20:49:19.503Z"
   },
   {
    "duration": 399,
    "start_time": "2022-02-22T20:49:20.526Z"
   },
   {
    "duration": 2,
    "start_time": "2022-02-22T20:49:26.444Z"
   },
   {
    "duration": 4,
    "start_time": "2022-02-22T20:49:27.333Z"
   },
   {
    "duration": 4,
    "start_time": "2022-02-22T20:50:13.726Z"
   },
   {
    "duration": 4421,
    "start_time": "2022-02-22T20:52:57.791Z"
   },
   {
    "duration": 2979,
    "start_time": "2022-02-22T20:53:17.064Z"
   },
   {
    "duration": 3557,
    "start_time": "2022-02-22T20:57:52.792Z"
   },
   {
    "duration": 19,
    "start_time": "2022-02-22T20:58:07.759Z"
   },
   {
    "duration": 590,
    "start_time": "2022-02-22T21:00:51.750Z"
   },
   {
    "duration": 20,
    "start_time": "2022-02-22T21:00:52.341Z"
   },
   {
    "duration": 11,
    "start_time": "2022-02-22T21:00:52.363Z"
   },
   {
    "duration": 9,
    "start_time": "2022-02-22T21:00:52.376Z"
   },
   {
    "duration": 14,
    "start_time": "2022-02-22T21:00:52.387Z"
   },
   {
    "duration": 3,
    "start_time": "2022-02-22T21:00:52.402Z"
   },
   {
    "duration": 31,
    "start_time": "2022-02-22T21:00:52.430Z"
   },
   {
    "duration": 33,
    "start_time": "2022-02-22T21:00:52.463Z"
   },
   {
    "duration": 5,
    "start_time": "2022-02-22T21:00:52.498Z"
   },
   {
    "duration": 261,
    "start_time": "2022-02-22T21:00:52.504Z"
   },
   {
    "duration": 294,
    "start_time": "2022-02-22T21:00:52.473Z"
   },
   {
    "duration": 183,
    "start_time": "2022-02-22T21:01:12.430Z"
   },
   {
    "duration": 7968,
    "start_time": "2022-02-22T21:01:35.151Z"
   },
   {
    "duration": 8,
    "start_time": "2022-02-22T21:02:09.517Z"
   },
   {
    "duration": 10,
    "start_time": "2022-02-22T21:02:15.469Z"
   },
   {
    "duration": 23,
    "start_time": "2022-02-22T21:03:00.767Z"
   },
   {
    "duration": 8,
    "start_time": "2022-02-22T21:03:19.351Z"
   },
   {
    "duration": 7,
    "start_time": "2022-02-22T21:03:30.967Z"
   },
   {
    "duration": 628,
    "start_time": "2022-02-22T21:04:08.840Z"
   },
   {
    "duration": 17,
    "start_time": "2022-02-22T21:04:09.470Z"
   },
   {
    "duration": 12,
    "start_time": "2022-02-22T21:04:09.489Z"
   },
   {
    "duration": 9,
    "start_time": "2022-02-22T21:04:09.503Z"
   },
   {
    "duration": 17,
    "start_time": "2022-02-22T21:04:09.514Z"
   },
   {
    "duration": 2,
    "start_time": "2022-02-22T21:04:09.532Z"
   },
   {
    "duration": 32,
    "start_time": "2022-02-22T21:04:09.536Z"
   },
   {
    "duration": 30,
    "start_time": "2022-02-22T21:04:09.570Z"
   },
   {
    "duration": 5,
    "start_time": "2022-02-22T21:04:09.602Z"
   },
   {
    "duration": 9,
    "start_time": "2022-02-22T21:04:09.609Z"
   },
   {
    "duration": 6807,
    "start_time": "2022-02-22T21:04:09.619Z"
   },
   {
    "duration": 20,
    "start_time": "2022-02-22T21:04:16.430Z"
   },
   {
    "duration": 32,
    "start_time": "2022-02-22T21:04:31.057Z"
   },
   {
    "duration": 5,
    "start_time": "2022-02-22T21:04:55.986Z"
   },
   {
    "duration": 170,
    "start_time": "2022-02-22T21:06:06.913Z"
   },
   {
    "duration": 603,
    "start_time": "2022-02-22T21:11:22.500Z"
   },
   {
    "duration": 19,
    "start_time": "2022-02-22T21:11:23.105Z"
   },
   {
    "duration": 12,
    "start_time": "2022-02-22T21:11:23.126Z"
   },
   {
    "duration": 8,
    "start_time": "2022-02-22T21:11:23.140Z"
   },
   {
    "duration": 13,
    "start_time": "2022-02-22T21:11:23.149Z"
   },
   {
    "duration": 2,
    "start_time": "2022-02-22T21:11:23.163Z"
   },
   {
    "duration": 32,
    "start_time": "2022-02-22T21:11:23.166Z"
   },
   {
    "duration": 57,
    "start_time": "2022-02-22T21:11:23.200Z"
   },
   {
    "duration": 4,
    "start_time": "2022-02-22T21:11:23.259Z"
   },
   {
    "duration": 6559,
    "start_time": "2022-02-22T21:11:23.265Z"
   },
   {
    "duration": 13,
    "start_time": "2022-02-22T21:15:15.528Z"
   },
   {
    "duration": 914,
    "start_time": "2022-02-24T08:04:32.199Z"
   },
   {
    "duration": 31,
    "start_time": "2022-02-24T08:04:33.116Z"
   },
   {
    "duration": 23,
    "start_time": "2022-02-24T08:04:33.150Z"
   },
   {
    "duration": 15,
    "start_time": "2022-02-24T08:04:33.176Z"
   },
   {
    "duration": 48,
    "start_time": "2022-02-24T08:04:33.193Z"
   },
   {
    "duration": 49,
    "start_time": "2022-02-24T08:04:33.243Z"
   },
   {
    "duration": 74,
    "start_time": "2022-02-24T08:04:33.295Z"
   },
   {
    "duration": 10,
    "start_time": "2022-02-24T08:04:33.372Z"
   },
   {
    "duration": 11242,
    "start_time": "2022-02-24T08:04:33.385Z"
   },
   {
    "duration": 18,
    "start_time": "2022-02-24T08:04:44.630Z"
   },
   {
    "duration": 16,
    "start_time": "2022-02-24T08:04:52.519Z"
   },
   {
    "duration": 36,
    "start_time": "2022-02-24T08:05:25.783Z"
   },
   {
    "duration": 18,
    "start_time": "2022-02-24T08:05:39.920Z"
   },
   {
    "duration": 6,
    "start_time": "2022-02-24T08:09:47.663Z"
   },
   {
    "duration": 18,
    "start_time": "2022-02-24T08:09:57.895Z"
   },
   {
    "duration": 17,
    "start_time": "2022-02-24T08:10:13.841Z"
   },
   {
    "duration": 19,
    "start_time": "2022-02-24T08:10:48.856Z"
   },
   {
    "duration": 12,
    "start_time": "2022-02-24T08:18:16.943Z"
   },
   {
    "duration": 363,
    "start_time": "2022-02-24T08:18:34.295Z"
   },
   {
    "duration": 9,
    "start_time": "2022-02-24T08:18:49.640Z"
   },
   {
    "duration": 8,
    "start_time": "2022-02-24T08:22:02.856Z"
   },
   {
    "duration": 47,
    "start_time": "2022-02-24T08:23:35.423Z"
   },
   {
    "duration": 35,
    "start_time": "2022-02-24T08:24:13.968Z"
   },
   {
    "duration": 37,
    "start_time": "2022-02-24T08:34:38.464Z"
   },
   {
    "duration": 40,
    "start_time": "2022-02-24T08:36:20.217Z"
   },
   {
    "duration": 825,
    "start_time": "2022-02-24T08:36:27.432Z"
   },
   {
    "duration": 30,
    "start_time": "2022-02-24T08:36:28.260Z"
   },
   {
    "duration": 20,
    "start_time": "2022-02-24T08:36:28.294Z"
   },
   {
    "duration": 14,
    "start_time": "2022-02-24T08:36:28.326Z"
   },
   {
    "duration": 24,
    "start_time": "2022-02-24T08:36:28.343Z"
   },
   {
    "duration": 91,
    "start_time": "2022-02-24T08:36:28.370Z"
   },
   {
    "duration": 70,
    "start_time": "2022-02-24T08:36:28.464Z"
   },
   {
    "duration": 8,
    "start_time": "2022-02-24T08:36:28.538Z"
   },
   {
    "duration": 11678,
    "start_time": "2022-02-24T08:36:28.549Z"
   },
   {
    "duration": 37,
    "start_time": "2022-02-24T08:36:40.229Z"
   },
   {
    "duration": 62,
    "start_time": "2022-02-24T08:36:40.268Z"
   },
   {
    "duration": 18,
    "start_time": "2022-02-24T08:36:40.333Z"
   },
   {
    "duration": 15,
    "start_time": "2022-02-24T08:36:40.353Z"
   },
   {
    "duration": 17,
    "start_time": "2022-02-24T08:36:40.371Z"
   },
   {
    "duration": 53,
    "start_time": "2022-02-24T08:36:40.391Z"
   },
   {
    "duration": 13,
    "start_time": "2022-02-24T08:36:40.447Z"
   },
   {
    "duration": 56,
    "start_time": "2022-02-24T08:37:00.660Z"
   },
   {
    "duration": 9,
    "start_time": "2022-02-24T08:39:24.714Z"
   },
   {
    "duration": 9,
    "start_time": "2022-02-24T08:39:58.093Z"
   },
   {
    "duration": 38,
    "start_time": "2022-02-24T08:40:30.179Z"
   },
   {
    "duration": 13,
    "start_time": "2022-02-24T08:40:36.122Z"
   },
   {
    "duration": 894,
    "start_time": "2022-02-24T08:40:45.970Z"
   },
   {
    "duration": 31,
    "start_time": "2022-02-24T08:40:46.866Z"
   },
   {
    "duration": 44,
    "start_time": "2022-02-24T08:40:46.904Z"
   },
   {
    "duration": 13,
    "start_time": "2022-02-24T08:40:46.951Z"
   },
   {
    "duration": 22,
    "start_time": "2022-02-24T08:40:46.967Z"
   },
   {
    "duration": 57,
    "start_time": "2022-02-24T08:40:47.028Z"
   },
   {
    "duration": 78,
    "start_time": "2022-02-24T08:40:47.088Z"
   },
   {
    "duration": 9,
    "start_time": "2022-02-24T08:40:47.169Z"
   },
   {
    "duration": 12238,
    "start_time": "2022-02-24T08:40:47.180Z"
   },
   {
    "duration": 41,
    "start_time": "2022-02-24T08:40:59.427Z"
   },
   {
    "duration": 79,
    "start_time": "2022-02-24T08:40:59.470Z"
   },
   {
    "duration": 37,
    "start_time": "2022-02-24T08:40:59.551Z"
   },
   {
    "duration": 35,
    "start_time": "2022-02-24T08:40:59.591Z"
   },
   {
    "duration": 35,
    "start_time": "2022-02-24T08:40:59.630Z"
   },
   {
    "duration": 16,
    "start_time": "2022-02-24T08:40:59.668Z"
   },
   {
    "duration": 18,
    "start_time": "2022-02-24T08:40:59.687Z"
   },
   {
    "duration": 45,
    "start_time": "2022-02-24T08:40:59.707Z"
   },
   {
    "duration": 31,
    "start_time": "2022-02-24T08:40:59.754Z"
   },
   {
    "duration": 10,
    "start_time": "2022-02-24T08:41:34.751Z"
   },
   {
    "duration": 9,
    "start_time": "2022-02-24T08:41:44.046Z"
   },
   {
    "duration": 67,
    "start_time": "2022-02-24T08:41:58.522Z"
   },
   {
    "duration": 20,
    "start_time": "2022-02-24T08:41:58.592Z"
   },
   {
    "duration": 23,
    "start_time": "2022-02-24T08:41:58.628Z"
   },
   {
    "duration": 21,
    "start_time": "2022-02-24T08:41:58.654Z"
   },
   {
    "duration": 55,
    "start_time": "2022-02-24T08:41:58.678Z"
   },
   {
    "duration": 68,
    "start_time": "2022-02-24T08:41:58.736Z"
   },
   {
    "duration": 66,
    "start_time": "2022-02-24T08:41:58.827Z"
   },
   {
    "duration": 32,
    "start_time": "2022-02-24T08:41:58.897Z"
   },
   {
    "duration": 13124,
    "start_time": "2022-02-24T08:41:58.932Z"
   },
   {
    "duration": 36,
    "start_time": "2022-02-24T08:42:12.059Z"
   },
   {
    "duration": 79,
    "start_time": "2022-02-24T08:42:12.098Z"
   },
   {
    "duration": 8,
    "start_time": "2022-02-24T08:42:19.660Z"
   },
   {
    "duration": 930,
    "start_time": "2022-02-24T08:44:02.267Z"
   },
   {
    "duration": 37,
    "start_time": "2022-02-24T08:44:03.200Z"
   },
   {
    "duration": 28,
    "start_time": "2022-02-24T08:44:03.241Z"
   },
   {
    "duration": 14,
    "start_time": "2022-02-24T08:44:03.272Z"
   },
   {
    "duration": 58,
    "start_time": "2022-02-24T08:44:03.289Z"
   },
   {
    "duration": 99,
    "start_time": "2022-02-24T08:44:03.350Z"
   },
   {
    "duration": 79,
    "start_time": "2022-02-24T08:44:03.452Z"
   },
   {
    "duration": 13,
    "start_time": "2022-02-24T08:44:03.536Z"
   },
   {
    "duration": 12820,
    "start_time": "2022-02-24T08:44:03.552Z"
   },
   {
    "duration": 57,
    "start_time": "2022-02-24T08:44:16.374Z"
   },
   {
    "duration": 59,
    "start_time": "2022-02-24T08:44:16.434Z"
   },
   {
    "duration": 34,
    "start_time": "2022-02-24T08:44:16.497Z"
   },
   {
    "duration": 17,
    "start_time": "2022-02-24T08:44:16.533Z"
   },
   {
    "duration": 24,
    "start_time": "2022-02-24T08:44:16.553Z"
   },
   {
    "duration": 16,
    "start_time": "2022-02-24T08:44:16.580Z"
   },
   {
    "duration": 23,
    "start_time": "2022-02-24T08:44:16.626Z"
   },
   {
    "duration": 21,
    "start_time": "2022-02-24T08:44:16.651Z"
   },
   {
    "duration": 11,
    "start_time": "2022-02-24T08:44:16.675Z"
   },
   {
    "duration": 11,
    "start_time": "2022-02-24T08:44:49.128Z"
   },
   {
    "duration": 58,
    "start_time": "2022-02-24T08:45:00.912Z"
   },
   {
    "duration": 845,
    "start_time": "2022-02-24T08:49:55.107Z"
   },
   {
    "duration": 30,
    "start_time": "2022-02-24T08:49:55.956Z"
   },
   {
    "duration": 39,
    "start_time": "2022-02-24T08:49:55.990Z"
   },
   {
    "duration": 16,
    "start_time": "2022-02-24T08:49:56.032Z"
   },
   {
    "duration": 26,
    "start_time": "2022-02-24T08:49:56.051Z"
   },
   {
    "duration": 88,
    "start_time": "2022-02-24T08:49:56.080Z"
   },
   {
    "duration": 65,
    "start_time": "2022-02-24T08:49:56.171Z"
   },
   {
    "duration": 11,
    "start_time": "2022-02-24T08:49:56.240Z"
   },
   {
    "duration": 12825,
    "start_time": "2022-02-24T08:49:56.254Z"
   },
   {
    "duration": 63,
    "start_time": "2022-02-24T08:50:09.082Z"
   },
   {
    "duration": 58,
    "start_time": "2022-02-24T08:50:09.149Z"
   },
   {
    "duration": 24,
    "start_time": "2022-02-24T08:50:09.210Z"
   },
   {
    "duration": 60,
    "start_time": "2022-02-24T08:50:09.237Z"
   },
   {
    "duration": 52,
    "start_time": "2022-02-24T08:50:09.301Z"
   },
   {
    "duration": 35,
    "start_time": "2022-02-24T08:50:09.356Z"
   },
   {
    "duration": 49,
    "start_time": "2022-02-24T08:50:09.394Z"
   },
   {
    "duration": 21,
    "start_time": "2022-02-24T08:50:09.446Z"
   },
   {
    "duration": 21,
    "start_time": "2022-02-24T08:50:09.470Z"
   },
   {
    "duration": 41,
    "start_time": "2022-02-24T08:50:09.493Z"
   },
   {
    "duration": 29,
    "start_time": "2022-02-24T08:50:54.827Z"
   },
   {
    "duration": 40,
    "start_time": "2022-02-24T08:50:56.828Z"
   },
   {
    "duration": 11,
    "start_time": "2022-02-24T08:51:28.048Z"
   },
   {
    "duration": 10,
    "start_time": "2022-02-24T08:51:49.307Z"
   },
   {
    "duration": 9,
    "start_time": "2022-02-24T08:52:11.707Z"
   },
   {
    "duration": 11,
    "start_time": "2022-02-24T08:52:24.788Z"
   },
   {
    "duration": 10,
    "start_time": "2022-02-24T08:52:52.044Z"
   },
   {
    "duration": 11,
    "start_time": "2022-02-24T08:53:43.892Z"
   },
   {
    "duration": 14,
    "start_time": "2022-02-24T08:53:59.189Z"
   },
   {
    "duration": 21,
    "start_time": "2022-02-24T09:04:18.549Z"
   },
   {
    "duration": 20,
    "start_time": "2022-02-24T09:15:14.156Z"
   },
   {
    "duration": 37,
    "start_time": "2022-02-24T09:15:21.348Z"
   },
   {
    "duration": 386,
    "start_time": "2022-02-24T09:15:34.580Z"
   },
   {
    "duration": 25,
    "start_time": "2022-02-24T09:16:06.396Z"
   },
   {
    "duration": 96,
    "start_time": "2022-02-24T09:17:45.004Z"
   },
   {
    "duration": 28,
    "start_time": "2022-02-24T09:18:41.476Z"
   },
   {
    "duration": 873,
    "start_time": "2022-02-24T09:18:47.344Z"
   },
   {
    "duration": 32,
    "start_time": "2022-02-24T09:18:48.220Z"
   },
   {
    "duration": 18,
    "start_time": "2022-02-24T09:18:48.256Z"
   },
   {
    "duration": 13,
    "start_time": "2022-02-24T09:18:48.277Z"
   },
   {
    "duration": 53,
    "start_time": "2022-02-24T09:18:48.293Z"
   },
   {
    "duration": 50,
    "start_time": "2022-02-24T09:18:48.349Z"
   },
   {
    "duration": 51,
    "start_time": "2022-02-24T09:18:48.426Z"
   },
   {
    "duration": 8,
    "start_time": "2022-02-24T09:18:48.482Z"
   },
   {
    "duration": 11749,
    "start_time": "2022-02-24T09:18:48.525Z"
   },
   {
    "duration": 51,
    "start_time": "2022-02-24T09:19:00.277Z"
   },
   {
    "duration": 68,
    "start_time": "2022-02-24T09:19:00.331Z"
   },
   {
    "duration": 11,
    "start_time": "2022-02-24T09:19:00.402Z"
   },
   {
    "duration": 78,
    "start_time": "2022-02-24T09:19:00.428Z"
   },
   {
    "duration": 36,
    "start_time": "2022-02-24T09:19:00.508Z"
   },
   {
    "duration": 18,
    "start_time": "2022-02-24T09:19:00.547Z"
   },
   {
    "duration": 57,
    "start_time": "2022-02-24T09:19:00.568Z"
   },
   {
    "duration": 22,
    "start_time": "2022-02-24T09:19:00.628Z"
   },
   {
    "duration": 31,
    "start_time": "2022-02-24T09:19:00.652Z"
   },
   {
    "duration": 57,
    "start_time": "2022-02-24T09:19:00.686Z"
   },
   {
    "duration": 9,
    "start_time": "2022-02-24T09:19:00.747Z"
   },
   {
    "duration": 15,
    "start_time": "2022-02-24T09:19:00.758Z"
   },
   {
    "duration": 26,
    "start_time": "2022-02-24T09:19:00.775Z"
   },
   {
    "duration": 28,
    "start_time": "2022-02-24T09:19:00.806Z"
   },
   {
    "duration": 20,
    "start_time": "2022-02-24T09:19:00.837Z"
   },
   {
    "duration": 19,
    "start_time": "2022-02-24T09:19:00.861Z"
   },
   {
    "duration": 33,
    "start_time": "2022-02-24T09:19:00.883Z"
   },
   {
    "duration": 366,
    "start_time": "2022-02-24T09:42:55.602Z"
   },
   {
    "duration": 4,
    "start_time": "2022-02-24T09:42:57.122Z"
   },
   {
    "duration": 28426,
    "start_time": "2022-02-24T09:42:58.338Z"
   },
   {
    "duration": 28,
    "start_time": "2022-02-24T09:43:26.777Z"
   },
   {
    "duration": 5313,
    "start_time": "2022-02-24T09:43:33.639Z"
   },
   {
    "duration": 3,
    "start_time": "2022-02-24T09:43:50.172Z"
   },
   {
    "duration": 5,
    "start_time": "2022-02-24T09:44:55.227Z"
   },
   {
    "duration": 7609,
    "start_time": "2022-02-24T09:44:57.363Z"
   },
   {
    "duration": 5,
    "start_time": "2022-02-24T09:45:30.179Z"
   },
   {
    "duration": 8739,
    "start_time": "2022-02-24T09:45:31.557Z"
   },
   {
    "duration": 2177,
    "start_time": "2022-02-24T09:45:38.123Z"
   },
   {
    "duration": 5,
    "start_time": "2022-02-24T09:45:55.747Z"
   },
   {
    "duration": 7380,
    "start_time": "2022-02-24T09:45:57.683Z"
   },
   {
    "duration": 5,
    "start_time": "2022-02-24T09:50:24.899Z"
   },
   {
    "duration": 35797,
    "start_time": "2022-02-24T09:50:26.748Z"
   },
   {
    "duration": 13,
    "start_time": "2022-02-24T09:51:12.508Z"
   },
   {
    "duration": 96,
    "start_time": "2022-02-24T09:58:53.171Z"
   },
   {
    "duration": 350,
    "start_time": "2022-02-24T09:59:01.795Z"
   },
   {
    "duration": 21,
    "start_time": "2022-02-24T10:00:11.381Z"
   },
   {
    "duration": 13,
    "start_time": "2022-02-24T10:00:13.443Z"
   },
   {
    "duration": 306,
    "start_time": "2022-02-24T10:00:23.979Z"
   },
   {
    "duration": 73,
    "start_time": "2022-02-24T10:00:34.654Z"
   },
   {
    "duration": 21,
    "start_time": "2022-02-24T10:00:34.730Z"
   },
   {
    "duration": 24,
    "start_time": "2022-02-24T10:00:34.754Z"
   },
   {
    "duration": 15,
    "start_time": "2022-02-24T10:00:34.781Z"
   },
   {
    "duration": 58,
    "start_time": "2022-02-24T10:00:34.798Z"
   },
   {
    "duration": 80,
    "start_time": "2022-02-24T10:00:34.859Z"
   },
   {
    "duration": 53,
    "start_time": "2022-02-24T10:00:34.941Z"
   },
   {
    "duration": 34,
    "start_time": "2022-02-24T10:00:34.998Z"
   },
   {
    "duration": 18958,
    "start_time": "2022-02-24T10:00:35.035Z"
   },
   {
    "duration": 55,
    "start_time": "2022-02-24T10:00:53.996Z"
   },
   {
    "duration": 77,
    "start_time": "2022-02-24T10:00:54.054Z"
   },
   {
    "duration": 9,
    "start_time": "2022-02-24T10:00:54.134Z"
   },
   {
    "duration": 86,
    "start_time": "2022-02-24T10:00:54.146Z"
   },
   {
    "duration": 28,
    "start_time": "2022-02-24T10:00:54.235Z"
   },
   {
    "duration": 24,
    "start_time": "2022-02-24T10:00:54.267Z"
   },
   {
    "duration": 57,
    "start_time": "2022-02-24T10:00:54.294Z"
   },
   {
    "duration": 29,
    "start_time": "2022-02-24T10:00:54.354Z"
   },
   {
    "duration": 68,
    "start_time": "2022-02-24T10:00:54.387Z"
   },
   {
    "duration": 38,
    "start_time": "2022-02-24T10:00:54.458Z"
   },
   {
    "duration": 33,
    "start_time": "2022-02-24T10:00:54.499Z"
   },
   {
    "duration": 13,
    "start_time": "2022-02-24T10:00:54.536Z"
   },
   {
    "duration": 10,
    "start_time": "2022-02-24T10:00:54.553Z"
   },
   {
    "duration": 12,
    "start_time": "2022-02-24T10:00:54.568Z"
   },
   {
    "duration": 53,
    "start_time": "2022-02-24T10:00:54.582Z"
   },
   {
    "duration": 15,
    "start_time": "2022-02-24T10:00:54.638Z"
   },
   {
    "duration": 16,
    "start_time": "2022-02-24T10:00:54.655Z"
   },
   {
    "duration": 14,
    "start_time": "2022-02-24T10:01:24.684Z"
   },
   {
    "duration": 23,
    "start_time": "2022-02-24T10:02:16.812Z"
   },
   {
    "duration": 13,
    "start_time": "2022-02-24T10:02:19.308Z"
   },
   {
    "duration": 286,
    "start_time": "2022-02-24T10:03:00.579Z"
   },
   {
    "duration": 9,
    "start_time": "2022-02-24T10:03:08.707Z"
   },
   {
    "duration": 60,
    "start_time": "2022-02-24T10:10:26.929Z"
   },
   {
    "duration": 20,
    "start_time": "2022-02-24T10:10:26.992Z"
   },
   {
    "duration": 14,
    "start_time": "2022-02-24T10:10:27.027Z"
   },
   {
    "duration": 13,
    "start_time": "2022-02-24T10:10:27.044Z"
   },
   {
    "duration": 23,
    "start_time": "2022-02-24T10:10:27.059Z"
   },
   {
    "duration": 85,
    "start_time": "2022-02-24T10:10:27.084Z"
   },
   {
    "duration": 76,
    "start_time": "2022-02-24T10:10:27.171Z"
   },
   {
    "duration": 8,
    "start_time": "2022-02-24T10:10:27.250Z"
   },
   {
    "duration": 11669,
    "start_time": "2022-02-24T10:10:37.898Z"
   },
   {
    "duration": 26,
    "start_time": "2022-02-24T10:13:32.627Z"
   },
   {
    "duration": 882,
    "start_time": "2022-02-24T10:13:41.817Z"
   },
   {
    "duration": 31,
    "start_time": "2022-02-24T10:13:42.702Z"
   },
   {
    "duration": 31,
    "start_time": "2022-02-24T10:13:42.738Z"
   },
   {
    "duration": 19,
    "start_time": "2022-02-24T10:13:42.773Z"
   },
   {
    "duration": 44,
    "start_time": "2022-02-24T10:13:42.795Z"
   },
   {
    "duration": 58,
    "start_time": "2022-02-24T10:13:42.842Z"
   },
   {
    "duration": 64,
    "start_time": "2022-02-24T10:13:42.903Z"
   },
   {
    "duration": 10,
    "start_time": "2022-02-24T10:13:42.973Z"
   },
   {
    "duration": 12077,
    "start_time": "2022-02-24T10:13:42.987Z"
   },
   {
    "duration": 38,
    "start_time": "2022-02-24T10:13:55.067Z"
   },
   {
    "duration": 54,
    "start_time": "2022-02-24T10:13:55.127Z"
   },
   {
    "duration": 8,
    "start_time": "2022-02-24T10:13:55.184Z"
   },
   {
    "duration": 82,
    "start_time": "2022-02-24T10:13:55.194Z"
   },
   {
    "duration": 19,
    "start_time": "2022-02-24T10:13:55.279Z"
   },
   {
    "duration": 37,
    "start_time": "2022-02-24T10:13:55.301Z"
   },
   {
    "duration": 18,
    "start_time": "2022-02-24T10:13:55.341Z"
   },
   {
    "duration": 20,
    "start_time": "2022-02-24T10:13:55.361Z"
   },
   {
    "duration": 52,
    "start_time": "2022-02-24T10:13:55.384Z"
   },
   {
    "duration": 29,
    "start_time": "2022-02-24T10:13:55.438Z"
   },
   {
    "duration": 8,
    "start_time": "2022-02-24T10:13:55.470Z"
   },
   {
    "duration": 49,
    "start_time": "2022-02-24T10:13:55.480Z"
   },
   {
    "duration": 28,
    "start_time": "2022-02-24T10:13:55.532Z"
   },
   {
    "duration": 22,
    "start_time": "2022-02-24T10:13:55.564Z"
   },
   {
    "duration": 26,
    "start_time": "2022-02-24T10:13:55.589Z"
   },
   {
    "duration": 15,
    "start_time": "2022-02-24T10:13:55.618Z"
   },
   {
    "duration": 25,
    "start_time": "2022-02-24T10:13:55.636Z"
   },
   {
    "duration": 30,
    "start_time": "2022-02-24T10:13:55.664Z"
   },
   {
    "duration": 105,
    "start_time": "2022-02-24T10:13:55.697Z"
   },
   {
    "duration": 2202,
    "start_time": "2022-02-24T10:13:53.603Z"
   },
   {
    "duration": 397,
    "start_time": "2022-02-25T14:11:56.863Z"
   },
   {
    "duration": 895,
    "start_time": "2022-02-25T14:12:04.071Z"
   },
   {
    "duration": 29,
    "start_time": "2022-02-25T14:12:04.969Z"
   },
   {
    "duration": 15,
    "start_time": "2022-02-25T14:12:05.001Z"
   },
   {
    "duration": 12,
    "start_time": "2022-02-25T14:12:05.019Z"
   },
   {
    "duration": 22,
    "start_time": "2022-02-25T14:12:05.063Z"
   },
   {
    "duration": 49,
    "start_time": "2022-02-25T14:12:05.088Z"
   },
   {
    "duration": 51,
    "start_time": "2022-02-25T14:12:05.163Z"
   },
   {
    "duration": 8,
    "start_time": "2022-02-25T14:12:05.218Z"
   },
   {
    "duration": 11301,
    "start_time": "2022-02-25T14:12:05.229Z"
   },
   {
    "duration": 46,
    "start_time": "2022-02-25T14:12:16.533Z"
   },
   {
    "duration": 56,
    "start_time": "2022-02-25T14:12:16.582Z"
   },
   {
    "duration": 25,
    "start_time": "2022-02-25T14:12:16.641Z"
   },
   {
    "duration": 53,
    "start_time": "2022-02-25T14:12:16.669Z"
   },
   {
    "duration": 45,
    "start_time": "2022-02-25T14:12:16.725Z"
   },
   {
    "duration": 15,
    "start_time": "2022-02-25T14:12:16.773Z"
   },
   {
    "duration": 18,
    "start_time": "2022-02-25T14:12:16.790Z"
   },
   {
    "duration": 56,
    "start_time": "2022-02-25T14:12:16.811Z"
   },
   {
    "duration": 24,
    "start_time": "2022-02-25T14:12:16.870Z"
   },
   {
    "duration": 27,
    "start_time": "2022-02-25T14:12:16.896Z"
   },
   {
    "duration": 7,
    "start_time": "2022-02-25T14:12:16.926Z"
   },
   {
    "duration": 15,
    "start_time": "2022-02-25T14:12:16.963Z"
   },
   {
    "duration": 12,
    "start_time": "2022-02-25T14:12:16.981Z"
   },
   {
    "duration": 9,
    "start_time": "2022-02-25T14:12:16.998Z"
   },
   {
    "duration": 54,
    "start_time": "2022-02-25T14:12:17.010Z"
   },
   {
    "duration": 9,
    "start_time": "2022-02-25T14:12:17.067Z"
   },
   {
    "duration": 12,
    "start_time": "2022-02-25T14:12:17.078Z"
   },
   {
    "duration": 26,
    "start_time": "2022-02-25T14:12:17.094Z"
   },
   {
    "duration": 45,
    "start_time": "2022-02-25T14:12:17.123Z"
   },
   {
    "duration": 18,
    "start_time": "2022-02-25T14:12:17.171Z"
   },
   {
    "duration": 9,
    "start_time": "2022-02-25T14:12:17.192Z"
   },
   {
    "duration": 14,
    "start_time": "2022-02-25T14:12:17.203Z"
   },
   {
    "duration": 19,
    "start_time": "2022-02-25T14:12:23.143Z"
   },
   {
    "duration": 2109,
    "start_time": "2022-02-25T14:12:56.797Z"
   },
   {
    "duration": 7,
    "start_time": "2022-02-25T14:17:32.470Z"
   },
   {
    "duration": 6,
    "start_time": "2022-02-25T14:17:36.463Z"
   },
   {
    "duration": 8,
    "start_time": "2022-02-25T14:17:43.899Z"
   },
   {
    "duration": 9,
    "start_time": "2022-02-25T14:17:52.838Z"
   },
   {
    "duration": 7,
    "start_time": "2022-02-25T14:17:55.525Z"
   },
   {
    "duration": 7,
    "start_time": "2022-02-25T14:18:02.262Z"
   },
   {
    "duration": 7,
    "start_time": "2022-02-25T14:18:04.342Z"
   },
   {
    "duration": 98,
    "start_time": "2022-02-25T14:20:56.702Z"
   },
   {
    "duration": 15,
    "start_time": "2022-02-25T14:21:10.719Z"
   },
   {
    "duration": 387,
    "start_time": "2022-02-25T14:21:21.519Z"
   },
   {
    "duration": 294,
    "start_time": "2022-02-25T14:21:24.997Z"
   },
   {
    "duration": 20,
    "start_time": "2022-02-25T14:21:32.944Z"
   },
   {
    "duration": 10,
    "start_time": "2022-02-25T14:21:49.727Z"
   },
   {
    "duration": 9,
    "start_time": "2022-02-25T14:22:03.685Z"
   },
   {
    "duration": 15,
    "start_time": "2022-02-25T14:22:10.910Z"
   },
   {
    "duration": 371,
    "start_time": "2022-02-25T14:25:16.895Z"
   },
   {
    "duration": 13,
    "start_time": "2022-02-25T14:25:26.110Z"
   },
   {
    "duration": 16,
    "start_time": "2022-02-25T14:25:35.446Z"
   },
   {
    "duration": 23,
    "start_time": "2022-02-25T14:26:40.128Z"
   },
   {
    "duration": 38,
    "start_time": "2022-02-25T14:29:28.671Z"
   },
   {
    "duration": 28,
    "start_time": "2022-02-25T14:29:38.519Z"
   },
   {
    "duration": 796,
    "start_time": "2022-02-26T08:17:33.787Z"
   },
   {
    "duration": 31,
    "start_time": "2022-02-26T08:17:34.586Z"
   },
   {
    "duration": 17,
    "start_time": "2022-02-26T08:17:34.621Z"
   },
   {
    "duration": 13,
    "start_time": "2022-02-26T08:17:34.662Z"
   },
   {
    "duration": 21,
    "start_time": "2022-02-26T08:17:34.677Z"
   },
   {
    "duration": 80,
    "start_time": "2022-02-26T08:17:34.700Z"
   },
   {
    "duration": 48,
    "start_time": "2022-02-26T08:17:34.783Z"
   },
   {
    "duration": 27,
    "start_time": "2022-02-26T08:17:34.834Z"
   },
   {
    "duration": 11020,
    "start_time": "2022-02-26T08:17:34.865Z"
   },
   {
    "duration": 34,
    "start_time": "2022-02-26T08:17:45.888Z"
   },
   {
    "duration": 80,
    "start_time": "2022-02-26T08:17:45.925Z"
   },
   {
    "duration": 8,
    "start_time": "2022-02-26T08:17:46.008Z"
   },
   {
    "duration": 72,
    "start_time": "2022-02-26T08:17:46.018Z"
   },
   {
    "duration": 19,
    "start_time": "2022-02-26T08:17:46.093Z"
   },
   {
    "duration": 14,
    "start_time": "2022-02-26T08:17:46.115Z"
   },
   {
    "duration": 42,
    "start_time": "2022-02-26T08:17:46.131Z"
   },
   {
    "duration": 19,
    "start_time": "2022-02-26T08:17:46.176Z"
   },
   {
    "duration": 22,
    "start_time": "2022-02-26T08:17:46.197Z"
   },
   {
    "duration": 59,
    "start_time": "2022-02-26T08:17:46.221Z"
   },
   {
    "duration": 8,
    "start_time": "2022-02-26T08:17:46.282Z"
   },
   {
    "duration": 9,
    "start_time": "2022-02-26T08:17:46.292Z"
   },
   {
    "duration": 10,
    "start_time": "2022-02-26T08:17:46.304Z"
   },
   {
    "duration": 51,
    "start_time": "2022-02-26T08:17:46.316Z"
   },
   {
    "duration": 9,
    "start_time": "2022-02-26T08:17:46.370Z"
   },
   {
    "duration": 7,
    "start_time": "2022-02-26T08:17:46.382Z"
   },
   {
    "duration": 12,
    "start_time": "2022-02-26T08:17:46.392Z"
   },
   {
    "duration": 65,
    "start_time": "2022-02-26T08:17:46.410Z"
   },
   {
    "duration": 19,
    "start_time": "2022-02-26T08:17:46.479Z"
   },
   {
    "duration": 17,
    "start_time": "2022-02-26T08:17:46.501Z"
   },
   {
    "duration": 56,
    "start_time": "2022-02-26T08:17:46.521Z"
   },
   {
    "duration": 11,
    "start_time": "2022-02-26T08:17:46.580Z"
   },
   {
    "duration": 4,
    "start_time": "2022-02-26T08:17:46.594Z"
   },
   {
    "duration": 6,
    "start_time": "2022-02-26T08:17:46.600Z"
   },
   {
    "duration": 112,
    "start_time": "2022-02-26T08:31:19.075Z"
   },
   {
    "duration": 985,
    "start_time": "2022-02-26T08:34:29.579Z"
   },
   {
    "duration": 28,
    "start_time": "2022-02-26T08:34:30.566Z"
   },
   {
    "duration": 17,
    "start_time": "2022-02-26T08:34:30.599Z"
   },
   {
    "duration": 12,
    "start_time": "2022-02-26T08:34:30.619Z"
   },
   {
    "duration": 48,
    "start_time": "2022-02-26T08:34:30.633Z"
   },
   {
    "duration": 47,
    "start_time": "2022-02-26T08:34:30.683Z"
   },
   {
    "duration": 76,
    "start_time": "2022-02-26T08:34:30.734Z"
   },
   {
    "duration": 9,
    "start_time": "2022-02-26T08:34:30.813Z"
   },
   {
    "duration": 13055,
    "start_time": "2022-02-26T08:34:30.825Z"
   },
   {
    "duration": 36,
    "start_time": "2022-02-26T08:34:43.883Z"
   },
   {
    "duration": 77,
    "start_time": "2022-02-26T08:34:43.921Z"
   },
   {
    "duration": 8,
    "start_time": "2022-02-26T08:34:44.001Z"
   },
   {
    "duration": 70,
    "start_time": "2022-02-26T08:34:44.011Z"
   },
   {
    "duration": 20,
    "start_time": "2022-02-26T08:34:44.084Z"
   },
   {
    "duration": 19,
    "start_time": "2022-02-26T08:34:44.107Z"
   },
   {
    "duration": 51,
    "start_time": "2022-02-26T08:34:44.128Z"
   },
   {
    "duration": 28,
    "start_time": "2022-02-26T08:34:44.183Z"
   },
   {
    "duration": 51,
    "start_time": "2022-02-26T08:34:44.213Z"
   },
   {
    "duration": 26,
    "start_time": "2022-02-26T08:34:44.267Z"
   },
   {
    "duration": 8,
    "start_time": "2022-02-26T08:34:44.295Z"
   },
   {
    "duration": 20,
    "start_time": "2022-02-26T08:34:44.306Z"
   },
   {
    "duration": 38,
    "start_time": "2022-02-26T08:34:44.331Z"
   },
   {
    "duration": 29,
    "start_time": "2022-02-26T08:34:44.373Z"
   },
   {
    "duration": 22,
    "start_time": "2022-02-26T08:34:44.404Z"
   },
   {
    "duration": 20,
    "start_time": "2022-02-26T08:34:44.429Z"
   },
   {
    "duration": 26,
    "start_time": "2022-02-26T08:34:44.452Z"
   },
   {
    "duration": 36,
    "start_time": "2022-02-26T08:34:44.482Z"
   },
   {
    "duration": 43,
    "start_time": "2022-02-26T08:34:44.523Z"
   },
   {
    "duration": 19,
    "start_time": "2022-02-26T08:34:44.569Z"
   },
   {
    "duration": 18,
    "start_time": "2022-02-26T08:34:44.590Z"
   },
   {
    "duration": 161,
    "start_time": "2022-02-26T08:34:44.611Z"
   },
   {
    "duration": 4884,
    "start_time": "2022-02-26T08:34:39.890Z"
   },
   {
    "duration": 4881,
    "start_time": "2022-02-26T08:34:39.894Z"
   },
   {
    "duration": 4880,
    "start_time": "2022-02-26T08:34:39.897Z"
   },
   {
    "duration": 4876,
    "start_time": "2022-02-26T08:34:39.902Z"
   },
   {
    "duration": 6,
    "start_time": "2022-02-26T08:35:15.808Z"
   },
   {
    "duration": 403,
    "start_time": "2022-02-26T08:35:18.216Z"
   },
   {
    "duration": 15,
    "start_time": "2022-02-26T08:35:30.787Z"
   },
   {
    "duration": 30,
    "start_time": "2022-02-26T08:35:36.137Z"
   },
   {
    "duration": 11,
    "start_time": "2022-02-26T08:36:55.296Z"
   },
   {
    "duration": 8,
    "start_time": "2022-02-26T08:49:38.482Z"
   },
   {
    "duration": 5,
    "start_time": "2022-02-26T08:49:43.633Z"
   },
   {
    "duration": 36,
    "start_time": "2022-02-26T08:49:46.257Z"
   },
   {
    "duration": 27,
    "start_time": "2022-02-26T08:50:10.529Z"
   },
   {
    "duration": 4,
    "start_time": "2022-02-26T08:50:36.873Z"
   },
   {
    "duration": 30,
    "start_time": "2022-02-26T08:50:38.094Z"
   },
   {
    "duration": 6,
    "start_time": "2022-02-26T08:51:33.066Z"
   },
   {
    "duration": 4,
    "start_time": "2022-02-26T08:51:37.969Z"
   },
   {
    "duration": 23,
    "start_time": "2022-02-26T08:51:39.369Z"
   },
   {
    "duration": 8,
    "start_time": "2022-02-26T08:52:03.603Z"
   },
   {
    "duration": 7,
    "start_time": "2022-02-26T08:52:11.273Z"
   },
   {
    "duration": 8,
    "start_time": "2022-02-26T08:52:20.917Z"
   },
   {
    "duration": 8,
    "start_time": "2022-02-26T08:52:30.049Z"
   },
   {
    "duration": 8,
    "start_time": "2022-02-26T08:53:08.241Z"
   },
   {
    "duration": 7,
    "start_time": "2022-02-26T08:59:08.971Z"
   },
   {
    "duration": 4,
    "start_time": "2022-02-26T08:59:10.034Z"
   },
   {
    "duration": 24,
    "start_time": "2022-02-26T08:59:11.553Z"
   },
   {
    "duration": 8,
    "start_time": "2022-02-26T08:59:16.986Z"
   },
   {
    "duration": 5,
    "start_time": "2022-02-26T08:59:17.952Z"
   },
   {
    "duration": 24,
    "start_time": "2022-02-26T08:59:19.048Z"
   },
   {
    "duration": 28,
    "start_time": "2022-02-26T08:59:45.218Z"
   },
   {
    "duration": 7,
    "start_time": "2022-02-26T09:00:07.122Z"
   },
   {
    "duration": 895,
    "start_time": "2022-02-26T09:01:14.928Z"
   },
   {
    "duration": 42,
    "start_time": "2022-02-26T09:01:15.826Z"
   },
   {
    "duration": 18,
    "start_time": "2022-02-26T09:01:15.872Z"
   },
   {
    "duration": 13,
    "start_time": "2022-02-26T09:01:15.893Z"
   },
   {
    "duration": 54,
    "start_time": "2022-02-26T09:01:15.908Z"
   },
   {
    "duration": 47,
    "start_time": "2022-02-26T09:01:15.965Z"
   },
   {
    "duration": 71,
    "start_time": "2022-02-26T09:01:16.014Z"
   },
   {
    "duration": 8,
    "start_time": "2022-02-26T09:01:16.089Z"
   },
   {
    "duration": 11529,
    "start_time": "2022-02-26T09:01:16.100Z"
   },
   {
    "duration": 52,
    "start_time": "2022-02-26T09:01:27.632Z"
   },
   {
    "duration": 73,
    "start_time": "2022-02-26T09:01:27.687Z"
   },
   {
    "duration": 8,
    "start_time": "2022-02-26T09:01:27.764Z"
   },
   {
    "duration": 53,
    "start_time": "2022-02-26T09:01:27.775Z"
   },
   {
    "duration": 38,
    "start_time": "2022-02-26T09:01:27.831Z"
   },
   {
    "duration": 15,
    "start_time": "2022-02-26T09:01:27.872Z"
   },
   {
    "duration": 18,
    "start_time": "2022-02-26T09:01:27.889Z"
   },
   {
    "duration": 54,
    "start_time": "2022-02-26T09:01:27.909Z"
   },
   {
    "duration": 25,
    "start_time": "2022-02-26T09:01:27.965Z"
   },
   {
    "duration": 26,
    "start_time": "2022-02-26T09:01:27.992Z"
   },
   {
    "duration": 8,
    "start_time": "2022-02-26T09:01:28.020Z"
   },
   {
    "duration": 11,
    "start_time": "2022-02-26T09:01:28.062Z"
   },
   {
    "duration": 9,
    "start_time": "2022-02-26T09:01:28.075Z"
   },
   {
    "duration": 10,
    "start_time": "2022-02-26T09:01:28.090Z"
   },
   {
    "duration": 9,
    "start_time": "2022-02-26T09:01:28.102Z"
   },
   {
    "duration": 53,
    "start_time": "2022-02-26T09:01:28.114Z"
   },
   {
    "duration": 11,
    "start_time": "2022-02-26T09:01:28.169Z"
   },
   {
    "duration": 37,
    "start_time": "2022-02-26T09:01:28.183Z"
   },
   {
    "duration": 43,
    "start_time": "2022-02-26T09:01:28.222Z"
   },
   {
    "duration": 18,
    "start_time": "2022-02-26T09:01:28.268Z"
   },
   {
    "duration": 21,
    "start_time": "2022-02-26T09:01:28.289Z"
   },
   {
    "duration": 8,
    "start_time": "2022-02-26T09:01:28.313Z"
   },
   {
    "duration": 64,
    "start_time": "2022-02-26T09:01:28.323Z"
   },
   {
    "duration": 8,
    "start_time": "2022-02-26T09:01:28.390Z"
   },
   {
    "duration": 7,
    "start_time": "2022-02-26T09:01:28.401Z"
   },
   {
    "duration": 7,
    "start_time": "2022-02-26T09:01:28.410Z"
   },
   {
    "duration": 59,
    "start_time": "2022-02-26T09:01:28.420Z"
   },
   {
    "duration": 5,
    "start_time": "2022-02-26T09:20:06.149Z"
   },
   {
    "duration": 29,
    "start_time": "2022-02-26T09:20:07.510Z"
   },
   {
    "duration": 14,
    "start_time": "2022-02-26T09:31:44.254Z"
   },
   {
    "duration": 581,
    "start_time": "2022-02-26T13:49:10.516Z"
   },
   {
    "duration": 19,
    "start_time": "2022-02-26T13:49:11.099Z"
   },
   {
    "duration": 10,
    "start_time": "2022-02-26T13:49:11.120Z"
   },
   {
    "duration": 10,
    "start_time": "2022-02-26T13:49:11.132Z"
   },
   {
    "duration": 27,
    "start_time": "2022-02-26T13:49:11.143Z"
   },
   {
    "duration": 14,
    "start_time": "2022-02-26T13:49:11.172Z"
   },
   {
    "duration": 31,
    "start_time": "2022-02-26T13:49:11.188Z"
   },
   {
    "duration": 58,
    "start_time": "2022-02-26T13:49:11.222Z"
   },
   {
    "duration": 6,
    "start_time": "2022-02-26T13:49:11.282Z"
   },
   {
    "duration": 6713,
    "start_time": "2022-02-26T13:49:11.289Z"
   },
   {
    "duration": 20,
    "start_time": "2022-02-26T13:49:18.003Z"
   },
   {
    "duration": 43,
    "start_time": "2022-02-26T13:49:18.025Z"
   },
   {
    "duration": 5,
    "start_time": "2022-02-26T13:49:18.070Z"
   },
   {
    "duration": 36,
    "start_time": "2022-02-26T13:49:18.076Z"
   },
   {
    "duration": 13,
    "start_time": "2022-02-26T13:49:18.113Z"
   },
   {
    "duration": 35,
    "start_time": "2022-02-26T13:49:18.127Z"
   },
   {
    "duration": 12,
    "start_time": "2022-02-26T13:49:18.164Z"
   },
   {
    "duration": 13,
    "start_time": "2022-02-26T13:49:18.178Z"
   },
   {
    "duration": 14,
    "start_time": "2022-02-26T13:49:18.193Z"
   },
   {
    "duration": 50,
    "start_time": "2022-02-26T13:49:18.209Z"
   },
   {
    "duration": 5,
    "start_time": "2022-02-26T13:49:18.261Z"
   },
   {
    "duration": 8,
    "start_time": "2022-02-26T13:49:18.267Z"
   },
   {
    "duration": 5,
    "start_time": "2022-02-26T13:49:18.278Z"
   },
   {
    "duration": 7,
    "start_time": "2022-02-26T13:49:18.285Z"
   },
   {
    "duration": 9,
    "start_time": "2022-02-26T13:49:18.293Z"
   },
   {
    "duration": 7,
    "start_time": "2022-02-26T13:49:18.303Z"
   },
   {
    "duration": 49,
    "start_time": "2022-02-26T13:49:18.312Z"
   },
   {
    "duration": 18,
    "start_time": "2022-02-26T13:49:18.363Z"
   },
   {
    "duration": 14,
    "start_time": "2022-02-26T13:49:18.382Z"
   },
   {
    "duration": 12,
    "start_time": "2022-02-26T13:49:18.398Z"
   },
   {
    "duration": 47,
    "start_time": "2022-02-26T13:49:18.412Z"
   },
   {
    "duration": 3,
    "start_time": "2022-02-26T13:49:18.461Z"
   },
   {
    "duration": 20,
    "start_time": "2022-02-26T13:49:18.466Z"
   },
   {
    "duration": 8,
    "start_time": "2022-02-26T13:49:18.487Z"
   },
   {
    "duration": 5,
    "start_time": "2022-02-26T13:49:18.497Z"
   },
   {
    "duration": 6,
    "start_time": "2022-02-26T13:49:18.503Z"
   },
   {
    "duration": 20,
    "start_time": "2022-02-26T13:49:18.510Z"
   },
   {
    "duration": 18,
    "start_time": "2022-02-26T13:50:55.217Z"
   },
   {
    "duration": 20,
    "start_time": "2022-02-26T13:58:02.865Z"
   },
   {
    "duration": 314,
    "start_time": "2022-02-26T13:58:32.993Z"
   },
   {
    "duration": 18,
    "start_time": "2022-02-26T13:58:39.496Z"
   },
   {
    "duration": 210,
    "start_time": "2022-02-26T13:59:42.034Z"
   },
   {
    "duration": 12,
    "start_time": "2022-02-26T13:59:46.665Z"
   },
   {
    "duration": 13,
    "start_time": "2022-02-26T14:02:01.673Z"
   },
   {
    "duration": 196,
    "start_time": "2022-02-26T14:02:49.072Z"
   },
   {
    "duration": 12,
    "start_time": "2022-02-26T14:02:56.473Z"
   },
   {
    "duration": 8,
    "start_time": "2022-02-26T14:05:07.146Z"
   },
   {
    "duration": 9,
    "start_time": "2022-02-26T14:16:12.297Z"
   },
   {
    "duration": 4659,
    "start_time": "2022-02-26T14:16:20.721Z"
   },
   {
    "duration": 8,
    "start_time": "2022-02-26T14:16:37.825Z"
   },
   {
    "duration": 9,
    "start_time": "2022-02-26T14:16:52.033Z"
   },
   {
    "duration": 6,
    "start_time": "2022-02-26T14:17:09.505Z"
   },
   {
    "duration": 7,
    "start_time": "2022-02-26T14:17:18.625Z"
   },
   {
    "duration": 9,
    "start_time": "2022-02-26T14:17:47.577Z"
   },
   {
    "duration": 16,
    "start_time": "2022-02-26T14:21:19.690Z"
   },
   {
    "duration": 15,
    "start_time": "2022-02-26T14:21:30.226Z"
   },
   {
    "duration": 15,
    "start_time": "2022-02-26T14:21:34.578Z"
   },
   {
    "duration": 13,
    "start_time": "2022-02-26T14:21:48.569Z"
   },
   {
    "duration": 225,
    "start_time": "2022-02-26T14:22:17.665Z"
   },
   {
    "duration": 13,
    "start_time": "2022-02-26T14:22:28.852Z"
   },
   {
    "duration": 12,
    "start_time": "2022-02-26T14:22:45.737Z"
   },
   {
    "duration": 12,
    "start_time": "2022-02-26T14:22:56.514Z"
   },
   {
    "duration": 14,
    "start_time": "2022-02-26T14:22:59.401Z"
   },
   {
    "duration": 12,
    "start_time": "2022-02-26T14:23:37.649Z"
   },
   {
    "duration": 6,
    "start_time": "2022-02-26T14:24:19.057Z"
   },
   {
    "duration": 16,
    "start_time": "2022-02-26T14:33:53.560Z"
   },
   {
    "duration": 11,
    "start_time": "2022-02-26T14:34:52.939Z"
   },
   {
    "duration": 17,
    "start_time": "2022-02-26T14:35:00.624Z"
   },
   {
    "duration": 455,
    "start_time": "2022-02-26T14:35:08.552Z"
   },
   {
    "duration": 14,
    "start_time": "2022-02-26T14:36:38.801Z"
   },
   {
    "duration": 59,
    "start_time": "2022-02-26T14:38:49.529Z"
   },
   {
    "duration": 18,
    "start_time": "2022-02-26T14:38:58.880Z"
   },
   {
    "duration": 13,
    "start_time": "2022-02-26T14:48:09.088Z"
   },
   {
    "duration": 3,
    "start_time": "2022-02-26T14:48:33.743Z"
   },
   {
    "duration": 13,
    "start_time": "2022-02-26T14:48:39.120Z"
   },
   {
    "duration": 560,
    "start_time": "2022-02-26T14:48:46.090Z"
   },
   {
    "duration": 18,
    "start_time": "2022-02-26T14:48:46.651Z"
   },
   {
    "duration": 11,
    "start_time": "2022-02-26T14:48:46.671Z"
   },
   {
    "duration": 9,
    "start_time": "2022-02-26T14:48:46.683Z"
   },
   {
    "duration": 9,
    "start_time": "2022-02-26T14:48:46.694Z"
   },
   {
    "duration": 14,
    "start_time": "2022-02-26T14:48:46.704Z"
   },
   {
    "duration": 61,
    "start_time": "2022-02-26T14:48:46.719Z"
   },
   {
    "duration": 30,
    "start_time": "2022-02-26T14:48:46.783Z"
   },
   {
    "duration": 5,
    "start_time": "2022-02-26T14:48:46.815Z"
   },
   {
    "duration": 6450,
    "start_time": "2022-02-26T14:48:46.821Z"
   },
   {
    "duration": 19,
    "start_time": "2022-02-26T14:48:53.272Z"
   },
   {
    "duration": 34,
    "start_time": "2022-02-26T14:48:53.293Z"
   },
   {
    "duration": 5,
    "start_time": "2022-02-26T14:48:53.329Z"
   },
   {
    "duration": 33,
    "start_time": "2022-02-26T14:48:53.359Z"
   },
   {
    "duration": 13,
    "start_time": "2022-02-26T14:48:53.394Z"
   },
   {
    "duration": 10,
    "start_time": "2022-02-26T14:48:53.408Z"
   },
   {
    "duration": 12,
    "start_time": "2022-02-26T14:48:53.419Z"
   },
   {
    "duration": 34,
    "start_time": "2022-02-26T14:48:53.432Z"
   },
   {
    "duration": 15,
    "start_time": "2022-02-26T14:48:53.468Z"
   },
   {
    "duration": 16,
    "start_time": "2022-02-26T14:48:53.484Z"
   },
   {
    "duration": 5,
    "start_time": "2022-02-26T14:48:53.502Z"
   },
   {
    "duration": 8,
    "start_time": "2022-02-26T14:48:53.509Z"
   },
   {
    "duration": 39,
    "start_time": "2022-02-26T14:48:53.521Z"
   },
   {
    "duration": 7,
    "start_time": "2022-02-26T14:48:53.562Z"
   },
   {
    "duration": 16,
    "start_time": "2022-02-26T14:48:53.571Z"
   },
   {
    "duration": 9,
    "start_time": "2022-02-26T14:48:53.588Z"
   },
   {
    "duration": 22,
    "start_time": "2022-02-26T14:48:53.599Z"
   },
   {
    "duration": 19,
    "start_time": "2022-02-26T14:48:53.622Z"
   },
   {
    "duration": 26,
    "start_time": "2022-02-26T14:48:53.642Z"
   },
   {
    "duration": 30,
    "start_time": "2022-02-26T14:48:53.669Z"
   },
   {
    "duration": 19,
    "start_time": "2022-02-26T14:48:53.700Z"
   },
   {
    "duration": 20,
    "start_time": "2022-02-26T14:48:53.720Z"
   },
   {
    "duration": 29,
    "start_time": "2022-02-26T14:48:53.741Z"
   },
   {
    "duration": 20,
    "start_time": "2022-02-26T14:48:53.771Z"
   },
   {
    "duration": 8,
    "start_time": "2022-02-26T14:48:53.792Z"
   },
   {
    "duration": 31,
    "start_time": "2022-02-26T14:48:53.801Z"
   },
   {
    "duration": 36,
    "start_time": "2022-02-26T14:48:53.833Z"
   },
   {
    "duration": 29,
    "start_time": "2022-02-26T14:48:53.871Z"
   },
   {
    "duration": 18,
    "start_time": "2022-02-26T14:48:53.902Z"
   },
   {
    "duration": 12,
    "start_time": "2022-02-26T14:48:53.921Z"
   },
   {
    "duration": 22,
    "start_time": "2022-02-26T14:51:31.671Z"
   },
   {
    "duration": 21,
    "start_time": "2022-02-26T14:51:41.930Z"
   },
   {
    "duration": 21,
    "start_time": "2022-02-26T14:57:51.559Z"
   },
   {
    "duration": 636,
    "start_time": "2022-02-26T15:05:22.564Z"
   },
   {
    "duration": 20,
    "start_time": "2022-02-26T15:05:23.202Z"
   },
   {
    "duration": 11,
    "start_time": "2022-02-26T15:05:23.225Z"
   },
   {
    "duration": 23,
    "start_time": "2022-02-26T15:05:23.239Z"
   },
   {
    "duration": 10,
    "start_time": "2022-02-26T15:05:23.264Z"
   },
   {
    "duration": 15,
    "start_time": "2022-02-26T15:05:23.276Z"
   },
   {
    "duration": 31,
    "start_time": "2022-02-26T15:05:23.293Z"
   },
   {
    "duration": 63,
    "start_time": "2022-02-26T15:05:23.327Z"
   },
   {
    "duration": 6,
    "start_time": "2022-02-26T15:05:23.393Z"
   },
   {
    "duration": 6465,
    "start_time": "2022-02-26T15:05:23.400Z"
   },
   {
    "duration": 24,
    "start_time": "2022-02-26T15:05:29.866Z"
   },
   {
    "duration": 36,
    "start_time": "2022-02-26T15:05:29.892Z"
   },
   {
    "duration": 29,
    "start_time": "2022-02-26T15:05:29.930Z"
   },
   {
    "duration": 36,
    "start_time": "2022-02-26T15:05:29.961Z"
   },
   {
    "duration": 16,
    "start_time": "2022-02-26T15:05:29.998Z"
   },
   {
    "duration": 30,
    "start_time": "2022-02-26T15:05:30.016Z"
   },
   {
    "duration": 34,
    "start_time": "2022-02-26T15:05:30.048Z"
   },
   {
    "duration": 43,
    "start_time": "2022-02-26T15:05:30.084Z"
   },
   {
    "duration": 57,
    "start_time": "2022-02-26T15:05:30.129Z"
   },
   {
    "duration": 29,
    "start_time": "2022-02-26T15:05:30.188Z"
   },
   {
    "duration": 15,
    "start_time": "2022-02-26T15:05:30.219Z"
   },
   {
    "duration": 29,
    "start_time": "2022-02-26T15:05:30.236Z"
   },
   {
    "duration": 34,
    "start_time": "2022-02-26T15:05:30.268Z"
   },
   {
    "duration": 39,
    "start_time": "2022-02-26T15:05:30.304Z"
   },
   {
    "duration": 35,
    "start_time": "2022-02-26T15:05:30.345Z"
   },
   {
    "duration": 34,
    "start_time": "2022-02-26T15:05:30.381Z"
   },
   {
    "duration": 40,
    "start_time": "2022-02-26T15:05:30.417Z"
   },
   {
    "duration": 32,
    "start_time": "2022-02-26T15:05:30.459Z"
   },
   {
    "duration": 26,
    "start_time": "2022-02-26T15:05:30.493Z"
   },
   {
    "duration": 28,
    "start_time": "2022-02-26T15:05:30.521Z"
   },
   {
    "duration": 22,
    "start_time": "2022-02-26T15:05:30.551Z"
   },
   {
    "duration": 51,
    "start_time": "2022-02-26T15:05:30.575Z"
   },
   {
    "duration": 51,
    "start_time": "2022-02-26T15:05:30.628Z"
   },
   {
    "duration": 24,
    "start_time": "2022-02-26T15:05:30.681Z"
   },
   {
    "duration": 29,
    "start_time": "2022-02-26T15:05:30.707Z"
   },
   {
    "duration": 33,
    "start_time": "2022-02-26T15:05:30.737Z"
   },
   {
    "duration": 37,
    "start_time": "2022-02-26T15:05:30.772Z"
   },
   {
    "duration": 25,
    "start_time": "2022-02-26T15:05:30.811Z"
   },
   {
    "duration": 25,
    "start_time": "2022-02-26T15:05:30.838Z"
   },
   {
    "duration": 30,
    "start_time": "2022-02-26T15:05:30.865Z"
   },
   {
    "duration": 41,
    "start_time": "2022-02-26T15:05:30.897Z"
   },
   {
    "duration": 579,
    "start_time": "2022-02-26T15:08:14.503Z"
   },
   {
    "duration": 19,
    "start_time": "2022-02-26T15:08:15.084Z"
   },
   {
    "duration": 10,
    "start_time": "2022-02-26T15:08:15.105Z"
   },
   {
    "duration": 8,
    "start_time": "2022-02-26T15:08:15.117Z"
   },
   {
    "duration": 36,
    "start_time": "2022-02-26T15:08:15.127Z"
   },
   {
    "duration": 14,
    "start_time": "2022-02-26T15:08:15.164Z"
   },
   {
    "duration": 32,
    "start_time": "2022-02-26T15:08:15.180Z"
   },
   {
    "duration": 53,
    "start_time": "2022-02-26T15:08:15.214Z"
   },
   {
    "duration": 6,
    "start_time": "2022-02-26T15:08:15.270Z"
   },
   {
    "duration": 6474,
    "start_time": "2022-02-26T15:08:15.277Z"
   },
   {
    "duration": 22,
    "start_time": "2022-02-26T15:08:21.753Z"
   },
   {
    "duration": 38,
    "start_time": "2022-02-26T15:08:21.776Z"
   },
   {
    "duration": 5,
    "start_time": "2022-02-26T15:08:21.815Z"
   },
   {
    "duration": 54,
    "start_time": "2022-02-26T15:08:21.822Z"
   },
   {
    "duration": 13,
    "start_time": "2022-02-26T15:08:21.877Z"
   },
   {
    "duration": 10,
    "start_time": "2022-02-26T15:08:21.891Z"
   },
   {
    "duration": 11,
    "start_time": "2022-02-26T15:08:21.903Z"
   },
   {
    "duration": 14,
    "start_time": "2022-02-26T15:08:21.916Z"
   },
   {
    "duration": 39,
    "start_time": "2022-02-26T15:08:21.931Z"
   },
   {
    "duration": 17,
    "start_time": "2022-02-26T15:08:21.971Z"
   },
   {
    "duration": 5,
    "start_time": "2022-02-26T15:08:21.990Z"
   },
   {
    "duration": 9,
    "start_time": "2022-02-26T15:08:21.997Z"
   },
   {
    "duration": 6,
    "start_time": "2022-02-26T15:08:22.009Z"
   },
   {
    "duration": 8,
    "start_time": "2022-02-26T15:08:22.016Z"
   },
   {
    "duration": 40,
    "start_time": "2022-02-26T15:08:22.025Z"
   },
   {
    "duration": 5,
    "start_time": "2022-02-26T15:08:22.067Z"
   },
   {
    "duration": 8,
    "start_time": "2022-02-26T15:08:22.074Z"
   },
   {
    "duration": 20,
    "start_time": "2022-02-26T15:08:22.083Z"
   },
   {
    "duration": 13,
    "start_time": "2022-02-26T15:08:22.105Z"
   },
   {
    "duration": 47,
    "start_time": "2022-02-26T15:08:22.119Z"
   },
   {
    "duration": 12,
    "start_time": "2022-02-26T15:08:22.167Z"
   },
   {
    "duration": 3,
    "start_time": "2022-02-26T15:08:22.181Z"
   },
   {
    "duration": 21,
    "start_time": "2022-02-26T15:08:22.186Z"
   },
   {
    "duration": 6,
    "start_time": "2022-02-26T15:08:22.208Z"
   },
   {
    "duration": 5,
    "start_time": "2022-02-26T15:08:22.215Z"
   },
   {
    "duration": 38,
    "start_time": "2022-02-26T15:08:22.221Z"
   },
   {
    "duration": 20,
    "start_time": "2022-02-26T15:08:22.261Z"
   },
   {
    "duration": 23,
    "start_time": "2022-02-26T15:08:22.283Z"
   },
   {
    "duration": 22,
    "start_time": "2022-02-26T15:08:22.308Z"
   },
   {
    "duration": 46,
    "start_time": "2022-02-26T15:08:22.331Z"
   },
   {
    "duration": 21,
    "start_time": "2022-02-26T15:08:22.379Z"
   },
   {
    "duration": 285,
    "start_time": "2022-03-07T08:30:52.966Z"
   },
   {
    "duration": 765,
    "start_time": "2022-03-07T08:31:02.480Z"
   },
   {
    "duration": 35,
    "start_time": "2022-03-07T08:31:03.247Z"
   },
   {
    "duration": 15,
    "start_time": "2022-03-07T08:31:03.285Z"
   },
   {
    "duration": 13,
    "start_time": "2022-03-07T08:31:03.303Z"
   },
   {
    "duration": 12,
    "start_time": "2022-03-07T08:31:03.319Z"
   },
   {
    "duration": 53,
    "start_time": "2022-03-07T08:31:03.334Z"
   },
   {
    "duration": 46,
    "start_time": "2022-03-07T08:31:03.390Z"
   },
   {
    "duration": 69,
    "start_time": "2022-03-07T08:31:03.439Z"
   },
   {
    "duration": 9,
    "start_time": "2022-03-07T08:31:03.511Z"
   },
   {
    "duration": 10880,
    "start_time": "2022-03-07T08:31:03.522Z"
   },
   {
    "duration": 38,
    "start_time": "2022-03-07T08:31:14.404Z"
   },
   {
    "duration": 75,
    "start_time": "2022-03-07T08:31:14.444Z"
   },
   {
    "duration": 9,
    "start_time": "2022-03-07T08:31:14.521Z"
   },
   {
    "duration": 73,
    "start_time": "2022-03-07T08:31:14.533Z"
   },
   {
    "duration": 17,
    "start_time": "2022-03-07T08:31:14.608Z"
   },
   {
    "duration": 13,
    "start_time": "2022-03-07T08:31:14.628Z"
   },
   {
    "duration": 47,
    "start_time": "2022-03-07T08:31:14.644Z"
   },
   {
    "duration": 24,
    "start_time": "2022-03-07T08:31:14.693Z"
   },
   {
    "duration": 21,
    "start_time": "2022-03-07T08:31:14.720Z"
   },
   {
    "duration": 51,
    "start_time": "2022-03-07T08:31:14.743Z"
   },
   {
    "duration": 8,
    "start_time": "2022-03-07T08:31:14.796Z"
   },
   {
    "duration": 15,
    "start_time": "2022-03-07T08:31:14.806Z"
   },
   {
    "duration": 10,
    "start_time": "2022-03-07T08:31:14.825Z"
   },
   {
    "duration": 10,
    "start_time": "2022-03-07T08:31:14.838Z"
   },
   {
    "duration": 10,
    "start_time": "2022-03-07T08:31:14.883Z"
   },
   {
    "duration": 15,
    "start_time": "2022-03-07T08:31:14.895Z"
   },
   {
    "duration": 10,
    "start_time": "2022-03-07T08:31:14.913Z"
   },
   {
    "duration": 27,
    "start_time": "2022-03-07T08:31:14.925Z"
   },
   {
    "duration": 42,
    "start_time": "2022-03-07T08:31:14.954Z"
   },
   {
    "duration": 14,
    "start_time": "2022-03-07T08:31:14.999Z"
   },
   {
    "duration": 20,
    "start_time": "2022-03-07T08:31:15.015Z"
   },
   {
    "duration": 12,
    "start_time": "2022-03-07T08:31:15.038Z"
   },
   {
    "duration": 56,
    "start_time": "2022-03-07T08:31:15.052Z"
   },
   {
    "duration": 6,
    "start_time": "2022-03-07T08:31:15.110Z"
   },
   {
    "duration": 6,
    "start_time": "2022-03-07T08:31:15.119Z"
   },
   {
    "duration": 12,
    "start_time": "2022-03-07T08:31:15.127Z"
   },
   {
    "duration": 59,
    "start_time": "2022-03-07T08:31:15.141Z"
   },
   {
    "duration": 33,
    "start_time": "2022-03-07T08:31:15.203Z"
   },
   {
    "duration": 70,
    "start_time": "2022-03-07T08:31:15.239Z"
   },
   {
    "duration": 70,
    "start_time": "2022-03-07T08:31:15.312Z"
   },
   {
    "duration": 19,
    "start_time": "2022-03-07T08:31:45.522Z"
   },
   {
    "duration": 18,
    "start_time": "2022-03-07T08:31:49.870Z"
   },
   {
    "duration": 597,
    "start_time": "2022-03-10T13:34:00.201Z"
   },
   {
    "duration": 18,
    "start_time": "2022-03-10T13:34:00.800Z"
   },
   {
    "duration": 26,
    "start_time": "2022-03-10T13:34:00.820Z"
   },
   {
    "duration": 17,
    "start_time": "2022-03-10T13:34:00.848Z"
   },
   {
    "duration": 28,
    "start_time": "2022-03-10T13:34:00.867Z"
   },
   {
    "duration": 29,
    "start_time": "2022-03-10T13:34:00.897Z"
   },
   {
    "duration": 31,
    "start_time": "2022-03-10T13:34:00.929Z"
   },
   {
    "duration": 30,
    "start_time": "2022-03-10T13:34:00.963Z"
   },
   {
    "duration": 5,
    "start_time": "2022-03-10T13:34:00.995Z"
   },
   {
    "duration": 6554,
    "start_time": "2022-03-10T13:34:01.002Z"
   },
   {
    "duration": 24,
    "start_time": "2022-03-10T13:34:07.558Z"
   },
   {
    "duration": 31,
    "start_time": "2022-03-10T13:34:07.584Z"
   },
   {
    "duration": 4,
    "start_time": "2022-03-10T13:34:07.617Z"
   },
   {
    "duration": 57,
    "start_time": "2022-03-10T13:34:07.623Z"
   },
   {
    "duration": 13,
    "start_time": "2022-03-10T13:34:07.682Z"
   },
   {
    "duration": 290,
    "start_time": "2022-03-10T13:34:37.072Z"
   },
   {
    "duration": 7,
    "start_time": "2022-03-10T13:35:13.815Z"
   },
   {
    "duration": 8,
    "start_time": "2022-03-10T13:37:13.422Z"
   },
   {
    "duration": 358,
    "start_time": "2022-03-10T13:37:14.494Z"
   },
   {
    "duration": 7,
    "start_time": "2022-03-10T13:37:21.400Z"
   },
   {
    "duration": 12,
    "start_time": "2022-03-10T13:37:27.678Z"
   },
   {
    "duration": 79,
    "start_time": "2022-03-10T13:38:03.815Z"
   },
   {
    "duration": 80,
    "start_time": "2022-03-10T13:38:21.696Z"
   },
   {
    "duration": 9,
    "start_time": "2022-03-10T13:41:07.975Z"
   },
   {
    "duration": 58,
    "start_time": "2022-03-10T13:41:17.999Z"
   },
   {
    "duration": 14,
    "start_time": "2022-03-10T13:41:18.059Z"
   },
   {
    "duration": 12,
    "start_time": "2022-03-10T13:41:18.076Z"
   },
   {
    "duration": 11,
    "start_time": "2022-03-10T13:41:18.090Z"
   },
   {
    "duration": 10,
    "start_time": "2022-03-10T13:41:18.103Z"
   },
   {
    "duration": 52,
    "start_time": "2022-03-10T13:41:18.115Z"
   },
   {
    "duration": 30,
    "start_time": "2022-03-10T13:41:18.169Z"
   },
   {
    "duration": 30,
    "start_time": "2022-03-10T13:41:18.201Z"
   },
   {
    "duration": 6,
    "start_time": "2022-03-10T13:41:18.233Z"
   },
   {
    "duration": 6739,
    "start_time": "2022-03-10T13:41:18.240Z"
   },
   {
    "duration": 20,
    "start_time": "2022-03-10T13:41:24.981Z"
   },
   {
    "duration": 35,
    "start_time": "2022-03-10T13:41:25.003Z"
   },
   {
    "duration": 27,
    "start_time": "2022-03-10T13:41:25.039Z"
   },
   {
    "duration": 33,
    "start_time": "2022-03-10T13:41:25.068Z"
   },
   {
    "duration": 12,
    "start_time": "2022-03-10T13:41:25.102Z"
   },
   {
    "duration": 6,
    "start_time": "2022-03-10T13:41:25.116Z"
   },
   {
    "duration": 12,
    "start_time": "2022-03-10T13:41:51.407Z"
   },
   {
    "duration": 12,
    "start_time": "2022-03-10T13:42:38.440Z"
   },
   {
    "duration": 270,
    "start_time": "2022-03-10T13:52:22.079Z"
   },
   {
    "duration": 12,
    "start_time": "2022-03-10T13:52:24.895Z"
   },
   {
    "duration": 8,
    "start_time": "2022-03-10T13:52:27.064Z"
   },
   {
    "duration": 4,
    "start_time": "2022-03-10T13:52:52.887Z"
   },
   {
    "duration": 7,
    "start_time": "2022-03-10T13:53:00.711Z"
   },
   {
    "duration": 295,
    "start_time": "2022-03-10T13:58:18.031Z"
   },
   {
    "duration": 3,
    "start_time": "2022-03-10T13:58:20.482Z"
   },
   {
    "duration": 14,
    "start_time": "2022-03-10T13:58:22.647Z"
   },
   {
    "duration": 45,
    "start_time": "2022-03-10T13:58:35.835Z"
   },
   {
    "duration": 12,
    "start_time": "2022-03-10T13:58:35.882Z"
   },
   {
    "duration": 19,
    "start_time": "2022-03-10T13:58:35.896Z"
   },
   {
    "duration": 20,
    "start_time": "2022-03-10T13:58:35.917Z"
   },
   {
    "duration": 14,
    "start_time": "2022-03-10T13:58:35.938Z"
   },
   {
    "duration": 14,
    "start_time": "2022-03-10T13:58:35.963Z"
   },
   {
    "duration": 32,
    "start_time": "2022-03-10T13:58:35.978Z"
   },
   {
    "duration": 63,
    "start_time": "2022-03-10T13:58:36.013Z"
   },
   {
    "duration": 6,
    "start_time": "2022-03-10T13:58:36.078Z"
   },
   {
    "duration": 6673,
    "start_time": "2022-03-10T13:58:36.085Z"
   },
   {
    "duration": 21,
    "start_time": "2022-03-10T13:58:42.760Z"
   },
   {
    "duration": 32,
    "start_time": "2022-03-10T13:58:42.783Z"
   },
   {
    "duration": 5,
    "start_time": "2022-03-10T13:58:42.816Z"
   },
   {
    "duration": 52,
    "start_time": "2022-03-10T13:58:42.823Z"
   },
   {
    "duration": 12,
    "start_time": "2022-03-10T13:58:42.877Z"
   },
   {
    "duration": 7,
    "start_time": "2022-03-10T13:58:42.891Z"
   },
   {
    "duration": 11,
    "start_time": "2022-03-10T13:58:42.900Z"
   },
   {
    "duration": 11,
    "start_time": "2022-03-10T13:58:42.912Z"
   },
   {
    "duration": 40,
    "start_time": "2022-03-10T13:58:42.924Z"
   },
   {
    "duration": 14,
    "start_time": "2022-03-10T13:58:42.966Z"
   },
   {
    "duration": 14,
    "start_time": "2022-03-10T13:58:42.982Z"
   },
   {
    "duration": 2,
    "start_time": "2022-03-10T13:58:42.998Z"
   },
   {
    "duration": 16,
    "start_time": "2022-03-10T13:58:43.004Z"
   },
   {
    "duration": 15,
    "start_time": "2022-03-10T13:58:43.022Z"
   },
   {
    "duration": 25,
    "start_time": "2022-03-10T13:58:43.039Z"
   },
   {
    "duration": 11,
    "start_time": "2022-03-10T13:58:43.065Z"
   },
   {
    "duration": 12,
    "start_time": "2022-03-10T13:58:43.077Z"
   },
   {
    "duration": 7,
    "start_time": "2022-03-10T13:58:43.091Z"
   },
   {
    "duration": 8,
    "start_time": "2022-03-10T13:58:43.099Z"
   },
   {
    "duration": 21,
    "start_time": "2022-03-10T13:58:43.108Z"
   },
   {
    "duration": 32,
    "start_time": "2022-03-10T13:58:43.131Z"
   },
   {
    "duration": 11,
    "start_time": "2022-03-10T13:58:43.165Z"
   },
   {
    "duration": 6,
    "start_time": "2022-03-10T13:58:43.178Z"
   },
   {
    "duration": 13,
    "start_time": "2022-03-10T13:58:43.186Z"
   },
   {
    "duration": 5,
    "start_time": "2022-03-10T13:58:43.201Z"
   },
   {
    "duration": 18,
    "start_time": "2022-03-10T13:58:43.207Z"
   },
   {
    "duration": 5,
    "start_time": "2022-03-10T13:58:43.226Z"
   },
   {
    "duration": 4,
    "start_time": "2022-03-10T13:58:43.263Z"
   },
   {
    "duration": 8,
    "start_time": "2022-03-10T13:58:43.269Z"
   },
   {
    "duration": 5,
    "start_time": "2022-03-10T13:58:43.279Z"
   },
   {
    "duration": 78,
    "start_time": "2022-03-10T14:08:42.248Z"
   },
   {
    "duration": 655,
    "start_time": "2022-03-10T14:26:12.484Z"
   },
   {
    "duration": 21,
    "start_time": "2022-03-10T14:26:13.141Z"
   },
   {
    "duration": 23,
    "start_time": "2022-03-10T14:26:13.164Z"
   },
   {
    "duration": 14,
    "start_time": "2022-03-10T14:26:13.189Z"
   },
   {
    "duration": 13,
    "start_time": "2022-03-10T14:26:13.205Z"
   },
   {
    "duration": 20,
    "start_time": "2022-03-10T14:26:13.220Z"
   },
   {
    "duration": 48,
    "start_time": "2022-03-10T14:26:13.242Z"
   },
   {
    "duration": 30,
    "start_time": "2022-03-10T14:26:13.293Z"
   },
   {
    "duration": 5,
    "start_time": "2022-03-10T14:26:13.325Z"
   },
   {
    "duration": 6636,
    "start_time": "2022-03-10T14:26:13.332Z"
   },
   {
    "duration": 21,
    "start_time": "2022-03-10T14:26:19.970Z"
   },
   {
    "duration": 38,
    "start_time": "2022-03-10T14:26:19.993Z"
   },
   {
    "duration": 34,
    "start_time": "2022-03-10T14:26:20.032Z"
   },
   {
    "duration": 55,
    "start_time": "2022-03-10T14:26:20.068Z"
   },
   {
    "duration": 17,
    "start_time": "2022-03-10T14:26:20.125Z"
   },
   {
    "duration": 23,
    "start_time": "2022-03-10T14:26:20.144Z"
   },
   {
    "duration": 31,
    "start_time": "2022-03-10T14:26:20.168Z"
   },
   {
    "duration": 13,
    "start_time": "2022-03-10T14:26:20.201Z"
   },
   {
    "duration": 20,
    "start_time": "2022-03-10T14:26:20.217Z"
   },
   {
    "duration": 28,
    "start_time": "2022-03-10T14:26:20.239Z"
   },
   {
    "duration": 15,
    "start_time": "2022-03-10T14:26:20.268Z"
   },
   {
    "duration": 3,
    "start_time": "2022-03-10T14:26:20.285Z"
   },
   {
    "duration": 8,
    "start_time": "2022-03-10T14:26:20.291Z"
   },
   {
    "duration": 7,
    "start_time": "2022-03-10T14:26:20.301Z"
   },
   {
    "duration": 10,
    "start_time": "2022-03-10T14:26:20.310Z"
   },
   {
    "duration": 14,
    "start_time": "2022-03-10T14:26:20.322Z"
   },
   {
    "duration": 27,
    "start_time": "2022-03-10T14:26:20.338Z"
   },
   {
    "duration": 14,
    "start_time": "2022-03-10T14:26:20.367Z"
   },
   {
    "duration": 8,
    "start_time": "2022-03-10T14:26:20.383Z"
   },
   {
    "duration": 19,
    "start_time": "2022-03-10T14:26:20.393Z"
   },
   {
    "duration": 13,
    "start_time": "2022-03-10T14:26:20.414Z"
   },
   {
    "duration": 36,
    "start_time": "2022-03-10T14:26:20.429Z"
   },
   {
    "duration": 7,
    "start_time": "2022-03-10T14:26:20.467Z"
   },
   {
    "duration": 12,
    "start_time": "2022-03-10T14:26:20.476Z"
   },
   {
    "duration": 3,
    "start_time": "2022-03-10T14:26:20.490Z"
   },
   {
    "duration": 32,
    "start_time": "2022-03-10T14:26:20.495Z"
   },
   {
    "duration": 34,
    "start_time": "2022-03-10T14:26:20.529Z"
   },
   {
    "duration": 6,
    "start_time": "2022-03-10T14:26:20.565Z"
   },
   {
    "duration": 11,
    "start_time": "2022-03-10T14:26:20.573Z"
   },
   {
    "duration": 12,
    "start_time": "2022-03-10T14:26:20.586Z"
   },
   {
    "duration": 22,
    "start_time": "2022-03-10T14:26:20.600Z"
   },
   {
    "duration": 25,
    "start_time": "2022-03-10T14:26:20.624Z"
   },
   {
    "duration": 22,
    "start_time": "2022-03-10T14:26:20.651Z"
   },
   {
    "duration": 12,
    "start_time": "2022-03-10T14:26:20.675Z"
   },
   {
    "duration": 22,
    "start_time": "2022-03-10T14:26:20.689Z"
   },
   {
    "duration": 59,
    "start_time": "2022-03-10T14:26:20.713Z"
   },
   {
    "duration": 22,
    "start_time": "2022-03-10T14:26:20.774Z"
   },
   {
    "duration": 24,
    "start_time": "2022-03-10T14:26:20.798Z"
   },
   {
    "duration": 486,
    "start_time": "2022-07-27T08:12:40.169Z"
   },
   {
    "duration": 66,
    "start_time": "2022-07-27T08:13:17.318Z"
   },
   {
    "duration": 28,
    "start_time": "2022-07-27T08:13:17.385Z"
   },
   {
    "duration": 33,
    "start_time": "2022-07-27T08:13:17.414Z"
   },
   {
    "duration": 13,
    "start_time": "2022-07-27T08:13:17.449Z"
   },
   {
    "duration": 75,
    "start_time": "2022-07-27T08:13:17.464Z"
   },
   {
    "duration": 30,
    "start_time": "2022-07-27T08:13:17.541Z"
   },
   {
    "duration": 52,
    "start_time": "2022-07-27T08:13:17.572Z"
   },
   {
    "duration": 44,
    "start_time": "2022-07-27T08:13:17.626Z"
   },
   {
    "duration": 8,
    "start_time": "2022-07-27T08:13:17.672Z"
   },
   {
    "duration": 5039,
    "start_time": "2022-07-27T08:13:17.682Z"
   },
   {
    "duration": 27,
    "start_time": "2022-07-27T08:13:22.723Z"
   },
   {
    "duration": 27,
    "start_time": "2022-07-27T08:13:22.751Z"
   },
   {
    "duration": 4,
    "start_time": "2022-07-27T08:13:22.780Z"
   },
   {
    "duration": 41,
    "start_time": "2022-07-27T08:13:22.786Z"
   },
   {
    "duration": 12,
    "start_time": "2022-07-27T08:13:22.829Z"
   },
   {
    "duration": 6,
    "start_time": "2022-07-27T08:13:22.842Z"
   },
   {
    "duration": 10,
    "start_time": "2022-07-27T08:13:22.849Z"
   },
   {
    "duration": 44,
    "start_time": "2022-07-27T08:13:22.860Z"
   },
   {
    "duration": 16,
    "start_time": "2022-07-27T08:13:22.907Z"
   },
   {
    "duration": 22,
    "start_time": "2022-07-27T08:13:22.926Z"
   },
   {
    "duration": 21,
    "start_time": "2022-07-27T08:13:22.949Z"
   },
   {
    "duration": 6,
    "start_time": "2022-07-27T08:13:22.971Z"
   },
   {
    "duration": 8,
    "start_time": "2022-07-27T08:13:22.979Z"
   },
   {
    "duration": 10,
    "start_time": "2022-07-27T08:13:23.002Z"
   },
   {
    "duration": 14,
    "start_time": "2022-07-27T08:13:23.020Z"
   },
   {
    "duration": 9,
    "start_time": "2022-07-27T08:13:23.035Z"
   },
   {
    "duration": 11,
    "start_time": "2022-07-27T08:13:23.045Z"
   },
   {
    "duration": 15,
    "start_time": "2022-07-27T08:13:23.057Z"
   },
   {
    "duration": 22,
    "start_time": "2022-07-27T08:13:23.074Z"
   },
   {
    "duration": 19,
    "start_time": "2022-07-27T08:13:23.104Z"
   },
   {
    "duration": 16,
    "start_time": "2022-07-27T08:13:23.125Z"
   },
   {
    "duration": 7,
    "start_time": "2022-07-27T08:13:23.143Z"
   },
   {
    "duration": 16,
    "start_time": "2022-07-27T08:13:23.151Z"
   },
   {
    "duration": 3,
    "start_time": "2022-07-27T08:13:23.169Z"
   },
   {
    "duration": 42,
    "start_time": "2022-07-27T08:13:23.174Z"
   },
   {
    "duration": 9,
    "start_time": "2022-07-27T08:13:23.220Z"
   },
   {
    "duration": 5,
    "start_time": "2022-07-27T08:13:23.230Z"
   },
   {
    "duration": 71,
    "start_time": "2022-07-27T08:13:23.237Z"
   },
   {
    "duration": 0,
    "start_time": "2022-07-27T08:13:23.317Z"
   },
   {
    "duration": 4,
    "start_time": "2022-07-27T08:13:59.386Z"
   },
   {
    "duration": 18,
    "start_time": "2022-07-27T08:14:01.109Z"
   },
   {
    "duration": 13,
    "start_time": "2022-07-27T08:14:04.316Z"
   },
   {
    "duration": 23,
    "start_time": "2022-07-27T08:14:07.173Z"
   },
   {
    "duration": 22,
    "start_time": "2022-07-27T08:14:16.143Z"
   },
   {
    "duration": 73,
    "start_time": "2022-07-27T08:19:11.109Z"
   },
   {
    "duration": 13,
    "start_time": "2022-07-27T08:19:11.184Z"
   },
   {
    "duration": 28,
    "start_time": "2022-07-27T08:19:11.198Z"
   },
   {
    "duration": 8,
    "start_time": "2022-07-27T08:19:11.228Z"
   },
   {
    "duration": 12,
    "start_time": "2022-07-27T08:19:11.238Z"
   },
   {
    "duration": 13,
    "start_time": "2022-07-27T08:19:11.251Z"
   },
   {
    "duration": 39,
    "start_time": "2022-07-27T08:19:11.265Z"
   },
   {
    "duration": 40,
    "start_time": "2022-07-27T08:19:11.311Z"
   },
   {
    "duration": 6,
    "start_time": "2022-07-27T08:19:11.352Z"
   },
   {
    "duration": 4699,
    "start_time": "2022-07-27T08:19:11.361Z"
   },
   {
    "duration": 19,
    "start_time": "2022-07-27T08:19:16.061Z"
   },
   {
    "duration": 44,
    "start_time": "2022-07-27T08:19:16.081Z"
   },
   {
    "duration": 6,
    "start_time": "2022-07-27T08:19:16.126Z"
   },
   {
    "duration": 30,
    "start_time": "2022-07-27T08:19:16.133Z"
   },
   {
    "duration": 50,
    "start_time": "2022-07-27T08:19:16.164Z"
   },
   {
    "duration": 9,
    "start_time": "2022-07-27T08:19:16.215Z"
   },
   {
    "duration": 16,
    "start_time": "2022-07-27T08:19:16.226Z"
   },
   {
    "duration": 25,
    "start_time": "2022-07-27T08:19:16.244Z"
   },
   {
    "duration": 11,
    "start_time": "2022-07-27T08:19:16.271Z"
   },
   {
    "duration": 22,
    "start_time": "2022-07-27T08:19:16.284Z"
   },
   {
    "duration": 19,
    "start_time": "2022-07-27T08:19:16.313Z"
   },
   {
    "duration": 6,
    "start_time": "2022-07-27T08:19:16.334Z"
   },
   {
    "duration": 7,
    "start_time": "2022-07-27T08:19:16.342Z"
   },
   {
    "duration": 6,
    "start_time": "2022-07-27T08:19:16.350Z"
   },
   {
    "duration": 10,
    "start_time": "2022-07-27T08:19:16.358Z"
   },
   {
    "duration": 36,
    "start_time": "2022-07-27T08:19:16.369Z"
   },
   {
    "duration": 17,
    "start_time": "2022-07-27T08:19:16.411Z"
   },
   {
    "duration": 9,
    "start_time": "2022-07-27T08:19:16.432Z"
   },
   {
    "duration": 23,
    "start_time": "2022-07-27T08:19:16.443Z"
   },
   {
    "duration": 18,
    "start_time": "2022-07-27T08:19:16.468Z"
   },
   {
    "duration": 30,
    "start_time": "2022-07-27T08:19:16.487Z"
   },
   {
    "duration": 8,
    "start_time": "2022-07-27T08:19:16.531Z"
   },
   {
    "duration": 16,
    "start_time": "2022-07-27T08:19:16.541Z"
   },
   {
    "duration": 4,
    "start_time": "2022-07-27T08:19:16.558Z"
   },
   {
    "duration": 19,
    "start_time": "2022-07-27T08:19:16.564Z"
   },
   {
    "duration": 8,
    "start_time": "2022-07-27T08:19:16.585Z"
   },
   {
    "duration": 12,
    "start_time": "2022-07-27T08:19:16.595Z"
   },
   {
    "duration": 34,
    "start_time": "2022-07-27T08:19:16.610Z"
   },
   {
    "duration": 14,
    "start_time": "2022-07-27T08:19:16.646Z"
   },
   {
    "duration": 21,
    "start_time": "2022-07-27T08:19:16.662Z"
   },
   {
    "duration": 34,
    "start_time": "2022-07-27T08:19:16.685Z"
   },
   {
    "duration": 21,
    "start_time": "2022-07-27T08:19:16.721Z"
   },
   {
    "duration": 423,
    "start_time": "2022-07-27T08:39:11.251Z"
   },
   {
    "duration": 20,
    "start_time": "2022-07-27T08:39:11.676Z"
   },
   {
    "duration": 18,
    "start_time": "2022-07-27T08:39:11.697Z"
   },
   {
    "duration": 11,
    "start_time": "2022-07-27T08:39:11.717Z"
   },
   {
    "duration": 9,
    "start_time": "2022-07-27T08:39:11.729Z"
   },
   {
    "duration": 13,
    "start_time": "2022-07-27T08:39:11.740Z"
   },
   {
    "duration": 58,
    "start_time": "2022-07-27T08:39:11.754Z"
   },
   {
    "duration": 28,
    "start_time": "2022-07-27T08:39:11.813Z"
   },
   {
    "duration": 5,
    "start_time": "2022-07-27T08:39:11.842Z"
   },
   {
    "duration": 4469,
    "start_time": "2022-07-27T08:39:11.849Z"
   },
   {
    "duration": 17,
    "start_time": "2022-07-27T08:39:16.319Z"
   },
   {
    "duration": 33,
    "start_time": "2022-07-27T08:39:16.338Z"
   },
   {
    "duration": 5,
    "start_time": "2022-07-27T08:39:16.373Z"
   },
   {
    "duration": 48,
    "start_time": "2022-07-27T08:39:16.380Z"
   },
   {
    "duration": 12,
    "start_time": "2022-07-27T08:39:16.429Z"
   },
   {
    "duration": 5,
    "start_time": "2022-07-27T08:39:16.442Z"
   },
   {
    "duration": 14,
    "start_time": "2022-07-27T08:39:16.448Z"
   },
   {
    "duration": 11,
    "start_time": "2022-07-27T08:39:16.464Z"
   },
   {
    "duration": 39,
    "start_time": "2022-07-27T08:39:16.476Z"
   },
   {
    "duration": 13,
    "start_time": "2022-07-27T08:39:16.517Z"
   },
   {
    "duration": 17,
    "start_time": "2022-07-27T08:39:16.531Z"
   },
   {
    "duration": 5,
    "start_time": "2022-07-27T08:39:16.550Z"
   },
   {
    "duration": 11,
    "start_time": "2022-07-27T08:39:16.556Z"
   },
   {
    "duration": 9,
    "start_time": "2022-07-27T08:39:16.568Z"
   },
   {
    "duration": 37,
    "start_time": "2022-07-27T08:39:16.578Z"
   },
   {
    "duration": 13,
    "start_time": "2022-07-27T08:39:16.617Z"
   },
   {
    "duration": 7,
    "start_time": "2022-07-27T08:39:16.632Z"
   },
   {
    "duration": 6,
    "start_time": "2022-07-27T08:39:16.641Z"
   },
   {
    "duration": 19,
    "start_time": "2022-07-27T08:39:16.649Z"
   },
   {
    "duration": 12,
    "start_time": "2022-07-27T08:39:16.669Z"
   },
   {
    "duration": 23,
    "start_time": "2022-07-27T08:39:16.682Z"
   },
   {
    "duration": 8,
    "start_time": "2022-07-27T08:39:16.715Z"
   },
   {
    "duration": 13,
    "start_time": "2022-07-27T08:39:16.724Z"
   },
   {
    "duration": 5,
    "start_time": "2022-07-27T08:39:16.738Z"
   },
   {
    "duration": 17,
    "start_time": "2022-07-27T08:39:16.744Z"
   },
   {
    "duration": 4,
    "start_time": "2022-07-27T08:39:16.762Z"
   },
   {
    "duration": 7,
    "start_time": "2022-07-27T08:39:16.768Z"
   },
   {
    "duration": 15,
    "start_time": "2022-07-27T08:39:16.776Z"
   },
   {
    "duration": 24,
    "start_time": "2022-07-27T08:39:16.793Z"
   },
   {
    "duration": 18,
    "start_time": "2022-07-27T08:39:16.819Z"
   },
   {
    "duration": 20,
    "start_time": "2022-07-27T08:39:16.838Z"
   },
   {
    "duration": 20,
    "start_time": "2022-07-27T08:39:16.859Z"
   }
  ],
  "kernelspec": {
   "display_name": "Python 3 (ipykernel)",
   "language": "python",
   "name": "python3"
  },
  "language_info": {
   "codemirror_mode": {
    "name": "ipython",
    "version": 3
   },
   "file_extension": ".py",
   "mimetype": "text/x-python",
   "name": "python",
   "nbconvert_exporter": "python",
   "pygments_lexer": "ipython3",
   "version": "3.9.5"
  },
  "toc": {
   "base_numbering": 1,
   "nav_menu": {
    "height": "410px",
    "width": "765px"
   },
   "number_sections": true,
   "sideBar": false,
   "skip_h1_title": true,
   "title_cell": "Table of Contents",
   "title_sidebar": "Contents",
   "toc_cell": false,
   "toc_position": {
    "height": "273.7px",
    "left": "295px",
    "top": "136.125px",
    "width": "436px"
   },
   "toc_section_display": true,
   "toc_window_display": false
  }
 },
 "nbformat": 4,
 "nbformat_minor": 5
}