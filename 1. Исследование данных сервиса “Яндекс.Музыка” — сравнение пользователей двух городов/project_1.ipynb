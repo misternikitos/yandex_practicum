{
 "cells": [
  {
   "cell_type": "markdown",
   "metadata": {
    "id": "E0vqbgi9ay0H",
    "pycharm": {
     "name": "#%% md\n"
    }
   },
   "source": [
    "# Яндекс.Музыка"
   ]
  },
  {
   "cell_type": "markdown",
   "metadata": {
    "id": "VUC88oWjTJw2",
    "pycharm": {
     "name": "#%% md\n"
    }
   },
   "source": [
    "Сравнение Москвы и Петербурга окружено мифами. Например:\n",
    " * Москва — мегаполис, подчинённый жёсткому ритму рабочей недели;\n",
    " * Петербург — культурная столица, со своими вкусами.\n",
    "\n",
    "На данных Яндекс.Музыки вы сравните поведение пользователей двух столиц.\n",
    "\n",
    "**Цель исследования** — проверьте три гипотезы:\n",
    "1. Активность пользователей зависит от дня недели. Причём в Москве и Петербурге это проявляется по-разному.\n",
    "2. В понедельник утром в Москве преобладают одни жанры, а в Петербурге — другие. Так же и вечером пятницы преобладают разные жанры — в зависимости от города. \n",
    "3. Москва и Петербург предпочитают разные жанры музыки. В Москве чаще слушают поп-музыку, в Петербурге — русский рэп.\n",
    "\n",
    "**Ход исследования**\n",
    "\n",
    "Данные о поведении пользователей вы получите из файла `yandex_music_project.csv`. О качестве данных ничего не известно. Поэтому перед проверкой гипотез понадобится обзор данных. \n",
    "\n",
    "Вы проверите данные на ошибки и оцените их влияние на исследование. Затем, на этапе предобработки вы поищете возможность исправить самые критичные ошибки данных.\n",
    " \n",
    "Таким образом, исследование пройдёт в три этапа:\n",
    " 1. Обзор данных.\n",
    " 2. Предобработка данных.\n",
    " 3. Проверка гипотез.\n",
    "\n"
   ]
  },
  {
   "cell_type": "markdown",
   "metadata": {
    "id": "Ml1hmfXC_Zcs",
    "pycharm": {
     "name": "#%% md\n"
    }
   },
   "source": [
    "## Обзор данных\n",
    "\n",
    "Составьте первое представление о данных Яндекс.Музыки.\n",
    "\n",
    "\n"
   ]
  },
  {
   "cell_type": "markdown",
   "metadata": {
    "id": "57eAOGIz_Zcs",
    "pycharm": {
     "name": "#%% md\n"
    }
   },
   "source": [
    "Основной инструмент аналитика — `pandas`. Импортируйте эту библиотеку."
   ]
  },
  {
   "cell_type": "code",
   "execution_count": 1,
   "metadata": {
    "id": "AXN7PHPN_Zcs",
    "pycharm": {
     "name": "#%%\n"
    }
   },
   "outputs": [],
   "source": [
    "import pandas as pd # импорт библиотеки pandas"
   ]
  },
  {
   "cell_type": "markdown",
   "metadata": {
    "id": "SG23P8tt_Zcs",
    "pycharm": {
     "name": "#%% md\n"
    }
   },
   "source": [
    "Прочитайте файл `yandex_music_project.csv` из папки `/datasets` и сохраните его в переменной `df`:"
   ]
  },
  {
   "cell_type": "code",
   "execution_count": 2,
   "metadata": {
    "id": "fFVu7vqh_Zct",
    "pycharm": {
     "name": "#%%\n"
    }
   },
   "outputs": [],
   "source": [
    "df = pd.read_csv('/datasets/yandex_music_project.csv') # чтение файла с данными и сохранение в df"
   ]
  },
  {
   "cell_type": "markdown",
   "metadata": {
    "id": "rDoOMd3uTqnZ",
    "pycharm": {
     "name": "#%% md\n"
    }
   },
   "source": [
    "Выведите на экран первые десять строк таблицы:"
   ]
  },
  {
   "cell_type": "code",
   "execution_count": 3,
   "metadata": {
    "id": "oWTVX3gW_Zct",
    "pycharm": {
     "name": "#%%\n"
    }
   },
   "outputs": [
    {
     "data": {
      "text/html": [
       "<div>\n",
       "<style scoped>\n",
       "    .dataframe tbody tr th:only-of-type {\n",
       "        vertical-align: middle;\n",
       "    }\n",
       "\n",
       "    .dataframe tbody tr th {\n",
       "        vertical-align: top;\n",
       "    }\n",
       "\n",
       "    .dataframe thead th {\n",
       "        text-align: right;\n",
       "    }\n",
       "</style>\n",
       "<table border=\"1\" class=\"dataframe\">\n",
       "  <thead>\n",
       "    <tr style=\"text-align: right;\">\n",
       "      <th></th>\n",
       "      <th>userID</th>\n",
       "      <th>Track</th>\n",
       "      <th>artist</th>\n",
       "      <th>genre</th>\n",
       "      <th>City</th>\n",
       "      <th>time</th>\n",
       "      <th>Day</th>\n",
       "    </tr>\n",
       "  </thead>\n",
       "  <tbody>\n",
       "    <tr>\n",
       "      <th>0</th>\n",
       "      <td>FFB692EC</td>\n",
       "      <td>Kamigata To Boots</td>\n",
       "      <td>The Mass Missile</td>\n",
       "      <td>rock</td>\n",
       "      <td>Saint-Petersburg</td>\n",
       "      <td>20:28:33</td>\n",
       "      <td>Wednesday</td>\n",
       "    </tr>\n",
       "    <tr>\n",
       "      <th>1</th>\n",
       "      <td>55204538</td>\n",
       "      <td>Delayed Because of Accident</td>\n",
       "      <td>Andreas Rönnberg</td>\n",
       "      <td>rock</td>\n",
       "      <td>Moscow</td>\n",
       "      <td>14:07:09</td>\n",
       "      <td>Friday</td>\n",
       "    </tr>\n",
       "    <tr>\n",
       "      <th>2</th>\n",
       "      <td>20EC38</td>\n",
       "      <td>Funiculì funiculà</td>\n",
       "      <td>Mario Lanza</td>\n",
       "      <td>pop</td>\n",
       "      <td>Saint-Petersburg</td>\n",
       "      <td>20:58:07</td>\n",
       "      <td>Wednesday</td>\n",
       "    </tr>\n",
       "    <tr>\n",
       "      <th>3</th>\n",
       "      <td>A3DD03C9</td>\n",
       "      <td>Dragons in the Sunset</td>\n",
       "      <td>Fire + Ice</td>\n",
       "      <td>folk</td>\n",
       "      <td>Saint-Petersburg</td>\n",
       "      <td>08:37:09</td>\n",
       "      <td>Monday</td>\n",
       "    </tr>\n",
       "    <tr>\n",
       "      <th>4</th>\n",
       "      <td>E2DC1FAE</td>\n",
       "      <td>Soul People</td>\n",
       "      <td>Space Echo</td>\n",
       "      <td>dance</td>\n",
       "      <td>Moscow</td>\n",
       "      <td>08:34:34</td>\n",
       "      <td>Monday</td>\n",
       "    </tr>\n",
       "    <tr>\n",
       "      <th>5</th>\n",
       "      <td>842029A1</td>\n",
       "      <td>Преданная</td>\n",
       "      <td>IMPERVTOR</td>\n",
       "      <td>rusrap</td>\n",
       "      <td>Saint-Petersburg</td>\n",
       "      <td>13:09:41</td>\n",
       "      <td>Friday</td>\n",
       "    </tr>\n",
       "    <tr>\n",
       "      <th>6</th>\n",
       "      <td>4CB90AA5</td>\n",
       "      <td>True</td>\n",
       "      <td>Roman Messer</td>\n",
       "      <td>dance</td>\n",
       "      <td>Moscow</td>\n",
       "      <td>13:00:07</td>\n",
       "      <td>Wednesday</td>\n",
       "    </tr>\n",
       "    <tr>\n",
       "      <th>7</th>\n",
       "      <td>F03E1C1F</td>\n",
       "      <td>Feeling This Way</td>\n",
       "      <td>Polina Griffith</td>\n",
       "      <td>dance</td>\n",
       "      <td>Moscow</td>\n",
       "      <td>20:47:49</td>\n",
       "      <td>Wednesday</td>\n",
       "    </tr>\n",
       "    <tr>\n",
       "      <th>8</th>\n",
       "      <td>8FA1D3BE</td>\n",
       "      <td>И вновь продолжается бой</td>\n",
       "      <td>NaN</td>\n",
       "      <td>ruspop</td>\n",
       "      <td>Moscow</td>\n",
       "      <td>09:17:40</td>\n",
       "      <td>Friday</td>\n",
       "    </tr>\n",
       "    <tr>\n",
       "      <th>9</th>\n",
       "      <td>E772D5C0</td>\n",
       "      <td>Pessimist</td>\n",
       "      <td>NaN</td>\n",
       "      <td>dance</td>\n",
       "      <td>Saint-Petersburg</td>\n",
       "      <td>21:20:49</td>\n",
       "      <td>Wednesday</td>\n",
       "    </tr>\n",
       "  </tbody>\n",
       "</table>\n",
       "</div>"
      ],
      "text/plain": [
       "     userID                        Track            artist   genre  \\\n",
       "0  FFB692EC            Kamigata To Boots  The Mass Missile    rock   \n",
       "1  55204538  Delayed Because of Accident  Andreas Rönnberg    rock   \n",
       "2    20EC38            Funiculì funiculà       Mario Lanza     pop   \n",
       "3  A3DD03C9        Dragons in the Sunset        Fire + Ice    folk   \n",
       "4  E2DC1FAE                  Soul People        Space Echo   dance   \n",
       "5  842029A1                    Преданная         IMPERVTOR  rusrap   \n",
       "6  4CB90AA5                         True      Roman Messer   dance   \n",
       "7  F03E1C1F             Feeling This Way   Polina Griffith   dance   \n",
       "8  8FA1D3BE     И вновь продолжается бой               NaN  ruspop   \n",
       "9  E772D5C0                    Pessimist               NaN   dance   \n",
       "\n",
       "             City        time        Day  \n",
       "0  Saint-Petersburg  20:28:33  Wednesday  \n",
       "1            Moscow  14:07:09     Friday  \n",
       "2  Saint-Petersburg  20:58:07  Wednesday  \n",
       "3  Saint-Petersburg  08:37:09     Monday  \n",
       "4            Moscow  08:34:34     Monday  \n",
       "5  Saint-Petersburg  13:09:41     Friday  \n",
       "6            Moscow  13:00:07  Wednesday  \n",
       "7            Moscow  20:47:49  Wednesday  \n",
       "8            Moscow  09:17:40     Friday  \n",
       "9  Saint-Petersburg  21:20:49  Wednesday  "
      ]
     },
     "execution_count": 3,
     "metadata": {},
     "output_type": "execute_result"
    }
   ],
   "source": [
    "df.head(10) # получение первых 10 строк таблицы df"
   ]
  },
  {
   "cell_type": "markdown",
   "metadata": {
    "id": "EO73Kwic_Zct",
    "pycharm": {
     "name": "#%% md\n"
    }
   },
   "source": [
    "Одной командой получить общую информацию о таблице:"
   ]
  },
  {
   "cell_type": "code",
   "execution_count": 4,
   "metadata": {
    "id": "DSf2kIb-_Zct",
    "pycharm": {
     "name": "#%%\n"
    }
   },
   "outputs": [
    {
     "name": "stdout",
     "output_type": "stream",
     "text": [
      "<class 'pandas.core.frame.DataFrame'>\n",
      "RangeIndex: 65079 entries, 0 to 65078\n",
      "Data columns (total 7 columns):\n",
      " #   Column    Non-Null Count  Dtype \n",
      "---  ------    --------------  ----- \n",
      " 0     userID  65079 non-null  object\n",
      " 1   Track     63848 non-null  object\n",
      " 2   artist    57876 non-null  object\n",
      " 3   genre     63881 non-null  object\n",
      " 4     City    65079 non-null  object\n",
      " 5   time      65079 non-null  object\n",
      " 6   Day       65079 non-null  object\n",
      "dtypes: object(7)\n",
      "memory usage: 3.5+ MB\n"
     ]
    }
   ],
   "source": [
    "df.info() # получение общей информации о данных в таблице df"
   ]
  },
  {
   "cell_type": "markdown",
   "metadata": {
    "id": "TaQ2Iwbr_Zct",
    "pycharm": {
     "name": "#%% md\n"
    }
   },
   "source": [
    "Итак, в таблице семь столбцов. Тип данных во всех столбцах — `object`.\n",
    "\n",
    "Согласно документации к данным:\n",
    "* `userID` — идентификатор пользователя;\n",
    "* `Track` — название трека;  \n",
    "* `artist` — имя исполнителя;\n",
    "* `genre` — название жанра;\n",
    "* `City` — город пользователя;\n",
    "* `time` — время начала прослушивания;\n",
    "* `Day` — день недели.\n",
    "\n",
    "В названиях колонок видны три нарушения стиля:\n",
    "1. Строчные буквы сочетаются с прописными.\n",
    "2. Встречаются пробелы.\n",
    "3. Найдите ещё одну проблему в названии колонок и опишите её в этом пункте.\n",
    "\n",
    "\n",
    "\n",
    "Количество значений в столбцах различается. Значит, в данных есть пропущенные значения.\n"
   ]
  },
  {
   "cell_type": "markdown",
   "metadata": {
    "pycharm": {
     "name": "#%% md\n"
    }
   },
   "source": [
    "Возможно, стоит сменить название столбца \"Day\" на \"weekday\", поскольку в первом случае название столбца может отсылаться к дню месяца или дню года.\n",
    "\n",
    "Также \"userID\" написано не в змеином регистре, поэтому нужно заменить на \"user_id\"."
   ]
  },
  {
   "cell_type": "markdown",
   "metadata": {
    "id": "MCB6-dXG_Zct",
    "pycharm": {
     "name": "#%% md\n"
    }
   },
   "source": [
    "**Выводы**\n",
    "\n",
    "В каждой строке таблицы — данные о прослушанном треке. Часть колонок описывает саму композицию: название, исполнителя и жанр. Остальные данные рассказывают о пользователе: из какого он города, когда он слушал музыку. \n",
    "\n",
    "Предварительно можно утверждать, что, данных достаточно для проверки гипотез. Но встречаются пропуски в данных, а в названиях колонок — расхождения с хорошим стилем.\n",
    "\n",
    "Чтобы двигаться дальше, нужно устранить проблемы в данных."
   ]
  },
  {
   "cell_type": "markdown",
   "metadata": {
    "id": "SjYF6Ub9_Zct",
    "pycharm": {
     "name": "#%% md\n"
    }
   },
   "source": [
    "## Предобработка данных\n",
    "Исправьте стиль в заголовках столбцов, исключите пропуски. Затем проверьте данные на дубликаты."
   ]
  },
  {
   "cell_type": "markdown",
   "metadata": {
    "id": "dIaKXr29_Zct",
    "pycharm": {
     "name": "#%% md\n"
    }
   },
   "source": [
    "### Стиль заголовков\n",
    "Выведите на экран названия столбцов:"
   ]
  },
  {
   "cell_type": "code",
   "execution_count": 5,
   "metadata": {
    "id": "oKOTdF_Q_Zct",
    "pycharm": {
     "name": "#%%\n"
    }
   },
   "outputs": [
    {
     "data": {
      "text/plain": [
       "Index(['  userID', 'Track', 'artist', 'genre', '  City  ', 'time', 'Day'], dtype='object')"
      ]
     },
     "execution_count": 5,
     "metadata": {},
     "output_type": "execute_result"
    }
   ],
   "source": [
    "df.columns # перечень названий столбцов таблицы df"
   ]
  },
  {
   "cell_type": "markdown",
   "metadata": {
    "id": "zj5534cv_Zct",
    "pycharm": {
     "name": "#%% md\n"
    }
   },
   "source": [
    "Приведите названия в соответствие с хорошим стилем:\n",
    "* несколько слов в названии запишите в «змеином_регистре»,\n",
    "* все символы сделайте строчными,\n",
    "* устраните пробелы.\n",
    "\n",
    "Для этого переименуйте колонки так:\n",
    "* `'  userID'` → `'user_id'`;\n",
    "* `'Track'` → `'track'`;\n",
    "* `'  City  '` → `'city'`;\n",
    "* `'Day'` → `'day'`."
   ]
  },
  {
   "cell_type": "code",
   "execution_count": 6,
   "metadata": {
    "id": "ISlFqs5y_Zct",
    "pycharm": {
     "name": "#%%\n"
    }
   },
   "outputs": [],
   "source": [
    "df = df.rename( \n",
    "    columns={ \n",
    "        '  userID': 'user_id', \n",
    "        'Track': 'track', \n",
    "        '  City  ': 'city',\n",
    "        'Day': 'day'\n",
    "    } \n",
    ")\n",
    "# переименование столбцов"
   ]
  },
  {
   "cell_type": "markdown",
   "metadata": {
    "id": "1dqbh00J_Zct",
    "pycharm": {
     "name": "#%% md\n"
    }
   },
   "source": [
    "Проверьте результат. Для этого ещё раз выведите на экран названия столбцов:"
   ]
  },
  {
   "cell_type": "code",
   "execution_count": 7,
   "metadata": {
    "id": "d4NOAmTW_Zct",
    "pycharm": {
     "name": "#%%\n"
    }
   },
   "outputs": [
    {
     "data": {
      "text/plain": [
       "Index(['user_id', 'track', 'artist', 'genre', 'city', 'time', 'day'], dtype='object')"
      ]
     },
     "execution_count": 7,
     "metadata": {},
     "output_type": "execute_result"
    }
   ],
   "source": [
    "df.columns # проверка результатов - перечень названий столбцов"
   ]
  },
  {
   "cell_type": "markdown",
   "metadata": {
    "id": "5ISfbcfY_Zct",
    "pycharm": {
     "name": "#%% md\n"
    }
   },
   "source": [
    "### Пропуски значений\n",
    "Сначала посчитайте, сколько в таблице пропущенных значений. Для этого достаточно двух методов `pandas`:"
   ]
  },
  {
   "cell_type": "code",
   "execution_count": 8,
   "metadata": {
    "id": "RskX29qr_Zct",
    "pycharm": {
     "name": "#%%\n"
    }
   },
   "outputs": [
    {
     "data": {
      "text/plain": [
       "user_id       0\n",
       "track      1231\n",
       "artist     7203\n",
       "genre      1198\n",
       "city          0\n",
       "time          0\n",
       "day           0\n",
       "dtype: int64"
      ]
     },
     "execution_count": 8,
     "metadata": {},
     "output_type": "execute_result"
    }
   ],
   "source": [
    "df.isna().sum() # подсчёт пропусков"
   ]
  },
  {
   "cell_type": "markdown",
   "metadata": {
    "id": "qubhgnlO_Zct",
    "pycharm": {
     "name": "#%% md\n"
    }
   },
   "source": [
    "Не все пропущенные значения влияют на исследование. Так в `track` и `artist` пропуски не важны для вашей работы. Достаточно заменить их явными обозначениями.\n",
    "\n",
    "Но пропуски в `genre` могут помешать сравнению музыкальных вкусов в Москве и Санкт-Петербурге. На практике было бы правильно установить причину пропусков и восстановить данные. Такой возможности нет в учебном проекте. Придётся:\n",
    "* заполнить и эти пропуски явными обозначениями,\n",
    "* оценить, насколько они повредят расчётам. "
   ]
  },
  {
   "cell_type": "markdown",
   "metadata": {
    "id": "fSv2laPA_Zct",
    "pycharm": {
     "name": "#%% md\n"
    }
   },
   "source": [
    "Замените пропущенные значения в столбцах `track`, `artist` и `genre` на строку `'unknown'`. Для этого создайте список `columns_to_replace`, переберите его элементы циклом `for` и для каждого столбца выполните замену пропущенных значений:"
   ]
  },
  {
   "cell_type": "code",
   "execution_count": 9,
   "metadata": {
    "id": "KplB5qWs_Zct",
    "pycharm": {
     "name": "#%%\n"
    }
   },
   "outputs": [],
   "source": [
    "columns_to_replace = ['track', 'artist', 'genre'] # перебор названий столбцов в цикле и замена пропущенных значений на 'unknown'\n",
    "df[columns_to_replace] = df[columns_to_replace].fillna('unknown')"
   ]
  },
  {
   "cell_type": "markdown",
   "metadata": {
    "id": "Ilsm-MZo_Zct",
    "pycharm": {
     "name": "#%% md\n"
    }
   },
   "source": [
    "Убедитесь, что в таблице не осталось пропусков. Для этого ещё раз посчитайте пропущенные значения."
   ]
  },
  {
   "cell_type": "code",
   "execution_count": 10,
   "metadata": {
    "id": "Tq4nYRX4_Zct",
    "pycharm": {
     "name": "#%%\n"
    }
   },
   "outputs": [
    {
     "data": {
      "text/plain": [
       "user_id    0\n",
       "track      0\n",
       "artist     0\n",
       "genre      0\n",
       "city       0\n",
       "time       0\n",
       "day        0\n",
       "dtype: int64"
      ]
     },
     "execution_count": 10,
     "metadata": {},
     "output_type": "execute_result"
    }
   ],
   "source": [
    "df.isna().sum() # подсчёт пропусков"
   ]
  },
  {
   "cell_type": "markdown",
   "metadata": {
    "id": "BWKRtBJ3_Zct",
    "pycharm": {
     "name": "#%% md\n"
    }
   },
   "source": [
    "### Дубликаты\n",
    "Посчитайте явные дубликаты в таблице одной командой:"
   ]
  },
  {
   "cell_type": "code",
   "execution_count": 11,
   "metadata": {
    "id": "36eES_S0_Zct",
    "pycharm": {
     "name": "#%%\n"
    }
   },
   "outputs": [
    {
     "data": {
      "text/plain": [
       "3826"
      ]
     },
     "execution_count": 11,
     "metadata": {},
     "output_type": "execute_result"
    }
   ],
   "source": [
    "df.duplicated().sum() # подсчёт явных дубликатов"
   ]
  },
  {
   "cell_type": "markdown",
   "metadata": {
    "id": "Ot25h6XR_Zct",
    "pycharm": {
     "name": "#%% md\n"
    }
   },
   "source": [
    "Вызовите специальный метод `pandas`, чтобы удалить явные дубликаты:"
   ]
  },
  {
   "cell_type": "code",
   "execution_count": 12,
   "metadata": {
    "id": "exFHq6tt_Zct",
    "pycharm": {
     "name": "#%%\n"
    }
   },
   "outputs": [],
   "source": [
    "df = df.drop_duplicates().reset_index(drop=True) # удаление явных дубликатов (с удалением старых индексов и формированием новых)"
   ]
  },
  {
   "cell_type": "markdown",
   "metadata": {
    "id": "Im2YwBEG_Zct",
    "pycharm": {
     "name": "#%% md\n"
    }
   },
   "source": [
    "Ещё раз посчитайте явные дубликаты в таблице — убедитесь, что полностью от них избавились:"
   ]
  },
  {
   "cell_type": "code",
   "execution_count": 13,
   "metadata": {
    "id": "-8PuNWQ0_Zct",
    "pycharm": {
     "name": "#%%\n"
    }
   },
   "outputs": [
    {
     "data": {
      "text/plain": [
       "0"
      ]
     },
     "execution_count": 13,
     "metadata": {},
     "output_type": "execute_result"
    }
   ],
   "source": [
    "df.duplicated().sum() # проверка на отсутствие дубликатов"
   ]
  },
  {
   "cell_type": "markdown",
   "metadata": {
    "id": "QlFBsxAr_Zct",
    "pycharm": {
     "name": "#%% md\n"
    }
   },
   "source": [
    "Теперь избавьтесь от неявных дубликатов в колонке `genre`. Например, название одного и того же жанра может быть записано немного по-разному. Такие ошибки тоже повлияют на результат исследования."
   ]
  },
  {
   "cell_type": "markdown",
   "metadata": {
    "id": "eSjWwsOh_Zct",
    "pycharm": {
     "name": "#%% md\n"
    }
   },
   "source": [
    "Выведите на экран список уникальных названий жанров, отсортированный в алфавитном порядке. Для этого:\n",
    "* извлеките нужный столбец датафрейма, \n",
    "* примените к нему метод сортировки,\n",
    "* для отсортированного столбца вызовите метод, который вернёт уникальные значения из столбца."
   ]
  },
  {
   "cell_type": "code",
   "execution_count": 14,
   "metadata": {
    "id": "JIUcqzZN_Zct",
    "pycharm": {
     "name": "#%%\n"
    }
   },
   "outputs": [
    {
     "data": {
      "text/plain": [
       "array(['acid', 'acoustic', 'action', 'adult', 'africa', 'afrikaans',\n",
       "       'alternative', 'alternativepunk', 'ambient', 'americana',\n",
       "       'animated', 'anime', 'arabesk', 'arabic', 'arena',\n",
       "       'argentinetango', 'art', 'audiobook', 'author', 'avantgarde',\n",
       "       'axé', 'baile', 'balkan', 'beats', 'bigroom', 'black', 'bluegrass',\n",
       "       'blues', 'bollywood', 'bossa', 'brazilian', 'breakbeat', 'breaks',\n",
       "       'broadway', 'cantautori', 'cantopop', 'canzone', 'caribbean',\n",
       "       'caucasian', 'celtic', 'chamber', 'chanson', 'children', 'chill',\n",
       "       'chinese', 'choral', 'christian', 'christmas', 'classical',\n",
       "       'classicmetal', 'club', 'colombian', 'comedy', 'conjazz',\n",
       "       'contemporary', 'country', 'cuban', 'dance', 'dancehall',\n",
       "       'dancepop', 'dark', 'death', 'deep', 'deutschrock', 'deutschspr',\n",
       "       'dirty', 'disco', 'dnb', 'documentary', 'downbeat', 'downtempo',\n",
       "       'drum', 'dub', 'dubstep', 'eastern', 'easy', 'electronic',\n",
       "       'electropop', 'emo', 'entehno', 'epicmetal', 'estrada', 'ethnic',\n",
       "       'eurofolk', 'european', 'experimental', 'extrememetal', 'fado',\n",
       "       'fairytail', 'film', 'fitness', 'flamenco', 'folk', 'folklore',\n",
       "       'folkmetal', 'folkrock', 'folktronica', 'forró', 'frankreich',\n",
       "       'französisch', 'french', 'funk', 'future', 'gangsta', 'garage',\n",
       "       'german', 'ghazal', 'gitarre', 'glitch', 'gospel', 'gothic',\n",
       "       'grime', 'grunge', 'gypsy', 'handsup', \"hard'n'heavy\", 'hardcore',\n",
       "       'hardstyle', 'hardtechno', 'hip', 'hip-hop', 'hiphop',\n",
       "       'historisch', 'holiday', 'hop', 'horror', 'house', 'hymn', 'idm',\n",
       "       'independent', 'indian', 'indie', 'indipop', 'industrial',\n",
       "       'inspirational', 'instrumental', 'international', 'irish', 'jam',\n",
       "       'japanese', 'jazz', 'jewish', 'jpop', 'jungle', 'k-pop',\n",
       "       'karadeniz', 'karaoke', 'kayokyoku', 'korean', 'laiko', 'latin',\n",
       "       'latino', 'leftfield', 'local', 'lounge', 'loungeelectronic',\n",
       "       'lovers', 'malaysian', 'mandopop', 'marschmusik', 'meditative',\n",
       "       'mediterranean', 'melodic', 'metal', 'metalcore', 'mexican',\n",
       "       'middle', 'minimal', 'miscellaneous', 'modern', 'mood', 'mpb',\n",
       "       'muslim', 'native', 'neoklassik', 'neue', 'new', 'newage',\n",
       "       'newwave', 'nu', 'nujazz', 'numetal', 'oceania', 'old', 'opera',\n",
       "       'orchestral', 'other', 'piano', 'podcasts', 'pop', 'popdance',\n",
       "       'popelectronic', 'popeurodance', 'poprussian', 'post',\n",
       "       'posthardcore', 'postrock', 'power', 'progmetal', 'progressive',\n",
       "       'psychedelic', 'punjabi', 'punk', 'quebecois', 'ragga', 'ram',\n",
       "       'rancheras', 'rap', 'rave', 'reggae', 'reggaeton', 'regional',\n",
       "       'relax', 'religious', 'retro', 'rhythm', 'rnb', 'rnr', 'rock',\n",
       "       'rockabilly', 'rockalternative', 'rockindie', 'rockother',\n",
       "       'romance', 'roots', 'ruspop', 'rusrap', 'rusrock', 'russian',\n",
       "       'salsa', 'samba', 'scenic', 'schlager', 'self', 'sertanejo',\n",
       "       'shanson', 'shoegazing', 'showtunes', 'singer', 'ska', 'skarock',\n",
       "       'slow', 'smooth', 'soft', 'soul', 'soulful', 'sound', 'soundtrack',\n",
       "       'southern', 'specialty', 'speech', 'spiritual', 'sport',\n",
       "       'stonerrock', 'surf', 'swing', 'synthpop', 'synthrock',\n",
       "       'sängerportrait', 'tango', 'tanzorchester', 'taraftar', 'tatar',\n",
       "       'tech', 'techno', 'teen', 'thrash', 'top', 'traditional',\n",
       "       'tradjazz', 'trance', 'tribal', 'trip', 'triphop', 'tropical',\n",
       "       'türk', 'türkçe', 'ukrrock', 'unknown', 'urban', 'uzbek',\n",
       "       'variété', 'vi', 'videogame', 'vocal', 'western', 'world',\n",
       "       'worldbeat', 'ïîï', 'электроника'], dtype=object)"
      ]
     },
     "execution_count": 14,
     "metadata": {},
     "output_type": "execute_result"
    }
   ],
   "source": [
    "df['genre'].sort_values().unique() # Просмотр уникальных названий жанров"
   ]
  },
  {
   "cell_type": "markdown",
   "metadata": {
    "id": "qej-Qmuo_Zct",
    "pycharm": {
     "name": "#%% md\n"
    }
   },
   "source": [
    "Просмотрите список и найдите неявные дубликаты названия `hiphop`. Это могут быть названия с ошибками или альтернативные названия того же жанра.\n",
    "\n",
    "Вы увидите следующие неявные дубликаты:\n",
    "* *hip*,\n",
    "* *hop*,\n",
    "* *hip-hop*.\n",
    "\n",
    "Чтобы очистить от них таблицу, напишите функцию `replace_wrong_genres()` с двумя параметрами: \n",
    "* `wrong_genres` — список дубликатов,\n",
    "* `correct_genre` — строка с правильным значением.\n",
    "\n",
    "Функция должна исправить колонку `genre` в таблице `df`: заменить каждое значение из списка `wrong_genres` на значение из `correct_genre`."
   ]
  },
  {
   "cell_type": "code",
   "execution_count": 15,
   "metadata": {
    "id": "ErNDkmns_Zct",
    "pycharm": {
     "name": "#%%\n"
    }
   },
   "outputs": [],
   "source": [
    "def replace_wrong_genres(wrong_genres, correct_genre): # Функция для замены неявных дубликатов\n",
    "    for wrong_genre in wrong_genres:\n",
    "        df['genre'] = df['genre'].replace(wrong_genre, correct_genre)"
   ]
  },
  {
   "cell_type": "markdown",
   "metadata": {
    "id": "aDoBJxbA_Zct",
    "pycharm": {
     "name": "#%% md\n"
    }
   },
   "source": [
    "Вызовите `replace_wrong_genres()` и передайте ей такие аргументы, чтобы она устранила неявные дубликаты: вместо `hip`, `hop` и `hip-hop` в таблице должно быть значение `hiphop`:"
   ]
  },
  {
   "cell_type": "code",
   "execution_count": 16,
   "metadata": {
    "id": "YN5i2hpmSo09",
    "pycharm": {
     "name": "#%%\n"
    }
   },
   "outputs": [],
   "source": [
    "wrong_genres = ['hip', 'hop', 'hip-hop'] # Устранение неявных дубликатов\n",
    "correct_genre = 'hiphop'\n",
    "replace_wrong_genres(wrong_genres, correct_genre)"
   ]
  },
  {
   "cell_type": "markdown",
   "metadata": {
    "id": "zQKF16_RG15m",
    "pycharm": {
     "name": "#%% md\n"
    }
   },
   "source": [
    "Проверьте, что заменили неправильные названия:\n",
    "\n",
    "*   hip\n",
    "*   hop\n",
    "*   hip-hop\n",
    "\n",
    "Выведите отсортированный список уникальных значений столбца `genre`:"
   ]
  },
  {
   "cell_type": "code",
   "execution_count": 17,
   "metadata": {
    "id": "wvixALnFG15m",
    "pycharm": {
     "name": "#%%\n"
    }
   },
   "outputs": [
    {
     "data": {
      "text/plain": [
       "array(['acid', 'acoustic', 'action', 'adult', 'africa', 'afrikaans',\n",
       "       'alternative', 'alternativepunk', 'ambient', 'americana',\n",
       "       'animated', 'anime', 'arabesk', 'arabic', 'arena',\n",
       "       'argentinetango', 'art', 'audiobook', 'author', 'avantgarde',\n",
       "       'axé', 'baile', 'balkan', 'beats', 'bigroom', 'black', 'bluegrass',\n",
       "       'blues', 'bollywood', 'bossa', 'brazilian', 'breakbeat', 'breaks',\n",
       "       'broadway', 'cantautori', 'cantopop', 'canzone', 'caribbean',\n",
       "       'caucasian', 'celtic', 'chamber', 'chanson', 'children', 'chill',\n",
       "       'chinese', 'choral', 'christian', 'christmas', 'classical',\n",
       "       'classicmetal', 'club', 'colombian', 'comedy', 'conjazz',\n",
       "       'contemporary', 'country', 'cuban', 'dance', 'dancehall',\n",
       "       'dancepop', 'dark', 'death', 'deep', 'deutschrock', 'deutschspr',\n",
       "       'dirty', 'disco', 'dnb', 'documentary', 'downbeat', 'downtempo',\n",
       "       'drum', 'dub', 'dubstep', 'eastern', 'easy', 'electronic',\n",
       "       'electropop', 'emo', 'entehno', 'epicmetal', 'estrada', 'ethnic',\n",
       "       'eurofolk', 'european', 'experimental', 'extrememetal', 'fado',\n",
       "       'fairytail', 'film', 'fitness', 'flamenco', 'folk', 'folklore',\n",
       "       'folkmetal', 'folkrock', 'folktronica', 'forró', 'frankreich',\n",
       "       'französisch', 'french', 'funk', 'future', 'gangsta', 'garage',\n",
       "       'german', 'ghazal', 'gitarre', 'glitch', 'gospel', 'gothic',\n",
       "       'grime', 'grunge', 'gypsy', 'handsup', \"hard'n'heavy\", 'hardcore',\n",
       "       'hardstyle', 'hardtechno', 'hiphop', 'historisch', 'holiday',\n",
       "       'horror', 'house', 'hymn', 'idm', 'independent', 'indian', 'indie',\n",
       "       'indipop', 'industrial', 'inspirational', 'instrumental',\n",
       "       'international', 'irish', 'jam', 'japanese', 'jazz', 'jewish',\n",
       "       'jpop', 'jungle', 'k-pop', 'karadeniz', 'karaoke', 'kayokyoku',\n",
       "       'korean', 'laiko', 'latin', 'latino', 'leftfield', 'local',\n",
       "       'lounge', 'loungeelectronic', 'lovers', 'malaysian', 'mandopop',\n",
       "       'marschmusik', 'meditative', 'mediterranean', 'melodic', 'metal',\n",
       "       'metalcore', 'mexican', 'middle', 'minimal', 'miscellaneous',\n",
       "       'modern', 'mood', 'mpb', 'muslim', 'native', 'neoklassik', 'neue',\n",
       "       'new', 'newage', 'newwave', 'nu', 'nujazz', 'numetal', 'oceania',\n",
       "       'old', 'opera', 'orchestral', 'other', 'piano', 'podcasts', 'pop',\n",
       "       'popdance', 'popelectronic', 'popeurodance', 'poprussian', 'post',\n",
       "       'posthardcore', 'postrock', 'power', 'progmetal', 'progressive',\n",
       "       'psychedelic', 'punjabi', 'punk', 'quebecois', 'ragga', 'ram',\n",
       "       'rancheras', 'rap', 'rave', 'reggae', 'reggaeton', 'regional',\n",
       "       'relax', 'religious', 'retro', 'rhythm', 'rnb', 'rnr', 'rock',\n",
       "       'rockabilly', 'rockalternative', 'rockindie', 'rockother',\n",
       "       'romance', 'roots', 'ruspop', 'rusrap', 'rusrock', 'russian',\n",
       "       'salsa', 'samba', 'scenic', 'schlager', 'self', 'sertanejo',\n",
       "       'shanson', 'shoegazing', 'showtunes', 'singer', 'ska', 'skarock',\n",
       "       'slow', 'smooth', 'soft', 'soul', 'soulful', 'sound', 'soundtrack',\n",
       "       'southern', 'specialty', 'speech', 'spiritual', 'sport',\n",
       "       'stonerrock', 'surf', 'swing', 'synthpop', 'synthrock',\n",
       "       'sängerportrait', 'tango', 'tanzorchester', 'taraftar', 'tatar',\n",
       "       'tech', 'techno', 'teen', 'thrash', 'top', 'traditional',\n",
       "       'tradjazz', 'trance', 'tribal', 'trip', 'triphop', 'tropical',\n",
       "       'türk', 'türkçe', 'ukrrock', 'unknown', 'urban', 'uzbek',\n",
       "       'variété', 'vi', 'videogame', 'vocal', 'western', 'world',\n",
       "       'worldbeat', 'ïîï', 'электроника'], dtype=object)"
      ]
     },
     "execution_count": 17,
     "metadata": {},
     "output_type": "execute_result"
    }
   ],
   "source": [
    "df['genre'].sort_values().unique() # Проверка на неявные дубликаты"
   ]
  },
  {
   "cell_type": "markdown",
   "metadata": {
    "id": "jz6a9-7HQUDd",
    "pycharm": {
     "name": "#%% md\n"
    }
   },
   "source": [
    "**Выводы**\n",
    "\n",
    "Предобработка обнаружила три проблемы в данных:\n",
    "\n",
    "- нарушения в стиле заголовков,\n",
    "- пропущенные значения,\n",
    "- дубликаты — явные и неявные.\n",
    "\n",
    "Вы исправили заголовки, чтобы упростить работу с таблицей. Без дубликатов исследование станет более точным.\n",
    "\n",
    "Пропущенные значения вы заменили на `'unknown'`. Ещё предстоит увидеть, не повредят ли исследованию пропуски в колонке `genre`.\n",
    "\n",
    "Теперь можно перейти к проверке гипотез. "
   ]
  },
  {
   "cell_type": "markdown",
   "metadata": {
    "id": "WttZHXH0SqKk",
    "pycharm": {
     "name": "#%% md\n"
    }
   },
   "source": [
    "## Проверка гипотез"
   ]
  },
  {
   "cell_type": "markdown",
   "metadata": {
    "id": "Im936VVi_Zcu",
    "pycharm": {
     "name": "#%% md\n"
    }
   },
   "source": [
    "### Сравнение поведения пользователей двух столиц"
   ]
  },
  {
   "cell_type": "markdown",
   "metadata": {
    "id": "nwt_MuaL_Zcu",
    "pycharm": {
     "name": "#%% md\n"
    }
   },
   "source": [
    "Первая гипотеза утверждает, что пользователи по-разному слушают музыку в Москве и Санкт-Петербурге. Проверьте это предположение по данным о трёх днях недели — понедельнике, среде и пятнице. Для этого:\n",
    "\n",
    "* Разделите пользователей Москвы и Санкт-Петербурга\n",
    "* Сравните, сколько треков послушала каждая группа пользователей в понедельник, среду и пятницу.\n"
   ]
  },
  {
   "cell_type": "markdown",
   "metadata": {
    "id": "8Dw_YMmT_Zcu",
    "pycharm": {
     "name": "#%% md\n"
    }
   },
   "source": [
    "Для тренировки сначала выполните каждый из расчётов по отдельности. \n",
    "\n",
    "Оцените активность пользователей в каждом городе. Сгруппируйте данные по городу и посчитайте прослушивания в каждой группе.\n",
    "\n"
   ]
  },
  {
   "cell_type": "code",
   "execution_count": 18,
   "metadata": {
    "id": "0_Qs96oh_Zcu",
    "pycharm": {
     "name": "#%%\n"
    }
   },
   "outputs": [
    {
     "data": {
      "text/plain": [
       "city\n",
       "Moscow              42741\n",
       "Saint-Petersburg    18512\n",
       "Name: track, dtype: int64"
      ]
     },
     "execution_count": 18,
     "metadata": {},
     "output_type": "execute_result"
    }
   ],
   "source": [
    "df.groupby('city')['track'].count() # Подсчёт прослушиваний в каждом городе"
   ]
  },
  {
   "cell_type": "markdown",
   "metadata": {
    "id": "dzli3w8o_Zcu",
    "pycharm": {
     "name": "#%% md\n"
    }
   },
   "source": [
    "В Москве прослушиваний больше, чем в Петербурге. Из этого не следует, что московские пользователи чаще слушают музыку. Просто самих пользователей в Москве больше.\n",
    "\n",
    "Теперь сгруппируйте данные по дню недели и подсчитайте прослушивания в понедельник, среду и пятницу. Учтите, что в данных есть информация только о прослушиваниях только за эти дни.\n"
   ]
  },
  {
   "cell_type": "code",
   "execution_count": 19,
   "metadata": {
    "id": "uZMKjiJz_Zcu",
    "pycharm": {
     "name": "#%%\n"
    }
   },
   "outputs": [
    {
     "data": {
      "text/plain": [
       "day\n",
       "Friday       21840\n",
       "Monday       21354\n",
       "Wednesday    18059\n",
       "Name: track, dtype: int64"
      ]
     },
     "execution_count": 19,
     "metadata": {},
     "output_type": "execute_result"
    }
   ],
   "source": [
    "df.groupby('day')['track'].count() # Подсчёт прослушиваний в каждый из трёх дней"
   ]
  },
  {
   "cell_type": "markdown",
   "metadata": {
    "id": "cC2tNrlL_Zcu",
    "pycharm": {
     "name": "#%% md\n"
    }
   },
   "source": [
    "В среднем пользователи из двух городов менее активны по средам. Но картина может измениться, если рассмотреть каждый город в отдельности."
   ]
  },
  {
   "cell_type": "markdown",
   "metadata": {
    "id": "POzs8bGa_Zcu",
    "pycharm": {
     "name": "#%% md\n"
    }
   },
   "source": [
    "Вы видели, как работает группировка по городу и по дням недели. Теперь напишите функцию, которая объединит два эти расчёта.\n",
    "\n",
    "Создайте функцию `number_tracks()`, которая посчитает прослушивания для заданного дня и города. Ей понадобятся два параметра:\n",
    "* день недели,\n",
    "* название города.\n",
    "\n",
    "В функции сохраните в переменную строки исходной таблицы, у которых значение:\n",
    "  * в колонке `day` равно параметру `day`,\n",
    "  * в колонке `city` равно параметру `city`.\n",
    "\n",
    "Для этого примените последовательную фильтрацию с логической индексацией.\n",
    "\n",
    "Затем посчитайте значения в столбце `user_id` получившейся таблицы. Результат сохраните в новую переменную. Верните эту переменную из функции."
   ]
  },
  {
   "cell_type": "code",
   "execution_count": 20,
   "metadata": {
    "id": "Nz3GdQB1_Zcu",
    "pycharm": {
     "name": "#%%\n"
    }
   },
   "outputs": [],
   "source": [
    "def number_tracks(day, city):\n",
    "    track_list = df[df['day'] == day]\n",
    "    track_list = track_list[track_list['city'] == city]\n",
    "    track_list_count = track_list['user_id'].count()\n",
    "    return track_list_count"
   ]
  },
  {
   "cell_type": "markdown",
   "metadata": {
    "id": "ytf7xFrFJQ2r",
    "pycharm": {
     "name": "#%% md\n"
    }
   },
   "source": [
    "Вызовите `number_tracks()` шесть раз, меняя значение параметров — так, чтобы получить данные для каждого города в каждый из трёх дней."
   ]
  },
  {
   "cell_type": "code",
   "execution_count": 21,
   "metadata": {
    "id": "rJcRATNQ_Zcu",
    "pycharm": {
     "name": "#%%\n"
    }
   },
   "outputs": [
    {
     "data": {
      "text/plain": [
       "15740"
      ]
     },
     "execution_count": 21,
     "metadata": {},
     "output_type": "execute_result"
    }
   ],
   "source": [
    "number_tracks('Monday', 'Moscow') # количество прослушиваний в Москве по понедельникам"
   ]
  },
  {
   "cell_type": "code",
   "execution_count": 22,
   "metadata": {
    "id": "hq_ncZ5T_Zcu",
    "pycharm": {
     "name": "#%%\n"
    }
   },
   "outputs": [
    {
     "data": {
      "text/plain": [
       "5614"
      ]
     },
     "execution_count": 22,
     "metadata": {},
     "output_type": "execute_result"
    }
   ],
   "source": [
    "number_tracks('Monday', 'Saint-Petersburg') # количество прослушиваний в Санкт-Петербурге по понедельникам"
   ]
  },
  {
   "cell_type": "code",
   "execution_count": 23,
   "metadata": {
    "id": "_NTy2VPU_Zcu",
    "pycharm": {
     "name": "#%%\n"
    }
   },
   "outputs": [
    {
     "data": {
      "text/plain": [
       "11056"
      ]
     },
     "execution_count": 23,
     "metadata": {},
     "output_type": "execute_result"
    }
   ],
   "source": [
    "number_tracks('Wednesday', 'Moscow') # количество прослушиваний в Москве по средам"
   ]
  },
  {
   "cell_type": "code",
   "execution_count": 24,
   "metadata": {
    "id": "j2y3TAwo_Zcu",
    "pycharm": {
     "name": "#%%\n"
    }
   },
   "outputs": [
    {
     "data": {
      "text/plain": [
       "7003"
      ]
     },
     "execution_count": 24,
     "metadata": {},
     "output_type": "execute_result"
    }
   ],
   "source": [
    "number_tracks('Wednesday', 'Saint-Petersburg') # количество прослушиваний в Санкт-Петербурге по средам"
   ]
  },
  {
   "cell_type": "code",
   "execution_count": 25,
   "metadata": {
    "id": "vYDw5u_K_Zcu",
    "pycharm": {
     "name": "#%%\n"
    }
   },
   "outputs": [
    {
     "data": {
      "text/plain": [
       "15945"
      ]
     },
     "execution_count": 25,
     "metadata": {},
     "output_type": "execute_result"
    }
   ],
   "source": [
    "number_tracks('Friday', 'Moscow') # количество прослушиваний в Москве по пятницам"
   ]
  },
  {
   "cell_type": "code",
   "execution_count": 26,
   "metadata": {
    "id": "8_yzFtW3_Zcu",
    "pycharm": {
     "name": "#%%\n"
    }
   },
   "outputs": [
    {
     "data": {
      "text/plain": [
       "5895"
      ]
     },
     "execution_count": 26,
     "metadata": {},
     "output_type": "execute_result"
    }
   ],
   "source": [
    "number_tracks('Friday', 'Saint-Petersburg') # количество прослушиваний в Санкт-Петербурге по пятницам"
   ]
  },
  {
   "cell_type": "markdown",
   "metadata": {
    "id": "7QXffbO-_Zcu",
    "pycharm": {
     "name": "#%% md\n"
    }
   },
   "source": [
    "Создайте c помощью конструктора `pd.DataFrame` таблицу, где\n",
    "* названия колонок — `['city', 'monday', 'wednesday', 'friday']`;\n",
    "* данные — результаты, которые вы получили с помощью `number_tracks`."
   ]
  },
  {
   "cell_type": "code",
   "execution_count": 27,
   "metadata": {
    "id": "APAcLpOr_Zcu",
    "pycharm": {
     "name": "#%%\n"
    }
   },
   "outputs": [
    {
     "data": {
      "text/html": [
       "<div>\n",
       "<style scoped>\n",
       "    .dataframe tbody tr th:only-of-type {\n",
       "        vertical-align: middle;\n",
       "    }\n",
       "\n",
       "    .dataframe tbody tr th {\n",
       "        vertical-align: top;\n",
       "    }\n",
       "\n",
       "    .dataframe thead th {\n",
       "        text-align: right;\n",
       "    }\n",
       "</style>\n",
       "<table border=\"1\" class=\"dataframe\">\n",
       "  <thead>\n",
       "    <tr style=\"text-align: right;\">\n",
       "      <th></th>\n",
       "      <th>city</th>\n",
       "      <th>monday</th>\n",
       "      <th>wednesday</th>\n",
       "      <th>friday</th>\n",
       "    </tr>\n",
       "  </thead>\n",
       "  <tbody>\n",
       "    <tr>\n",
       "      <th>0</th>\n",
       "      <td>Saint-Petersburg</td>\n",
       "      <td>5614</td>\n",
       "      <td>7003</td>\n",
       "      <td>5895</td>\n",
       "    </tr>\n",
       "    <tr>\n",
       "      <th>1</th>\n",
       "      <td>Moscow</td>\n",
       "      <td>15740</td>\n",
       "      <td>11056</td>\n",
       "      <td>15945</td>\n",
       "    </tr>\n",
       "  </tbody>\n",
       "</table>\n",
       "</div>"
      ],
      "text/plain": [
       "               city  monday  wednesday  friday\n",
       "0  Saint-Petersburg    5614       7003    5895\n",
       "1            Moscow   15740      11056   15945"
      ]
     },
     "execution_count": 27,
     "metadata": {},
     "output_type": "execute_result"
    }
   ],
   "source": [
    "data = [['Saint-Petersburg', 5614, 7003, 5895], ['Moscow', 15740, 11056, 15945]]\n",
    "columns = ['city', 'monday', 'wednesday', 'friday']\n",
    "pd.DataFrame(data=data, columns=columns) # Таблица с результатами"
   ]
  },
  {
   "cell_type": "markdown",
   "metadata": {
    "id": "-EgPIHYu_Zcu",
    "pycharm": {
     "name": "#%% md\n"
    }
   },
   "source": [
    "**Выводы**\n",
    "\n",
    "Данные показывают разницу поведения пользователей:\n",
    "\n",
    "- В Москве пик прослушиваний приходится на понедельник и пятницу, а в среду заметен спад.\n",
    "- В Петербурге, наоборот, больше слушают музыку по средам. Активность в понедельник и пятницу здесь почти в равной мере уступает среде.\n",
    "\n",
    "Значит, данные говорят в пользу первой гипотезы."
   ]
  },
  {
   "cell_type": "markdown",
   "metadata": {
    "id": "atZAxtq4_Zcu",
    "pycharm": {
     "name": "#%% md\n"
    }
   },
   "source": [
    "### Музыка в начале и в конце недели"
   ]
  },
  {
   "cell_type": "markdown",
   "metadata": {
    "id": "eXrQqXFH_Zcu",
    "pycharm": {
     "name": "#%% md\n"
    }
   },
   "source": [
    "Согласно второй гипотезе, утром в понедельник в Москве преобладают одни жанры, а в Петербурге — другие. Так же и вечером пятницы преобладают разные жанры — в зависимости от города."
   ]
  },
  {
   "cell_type": "markdown",
   "metadata": {
    "id": "S8UcW6Hw_Zcu",
    "pycharm": {
     "name": "#%% md\n"
    }
   },
   "source": [
    "Сохраните таблицы с данными в две переменные:\n",
    "* по Москве — в `moscow_general`;\n",
    "* по Санкт-Петербургу — в `spb_general`."
   ]
  },
  {
   "cell_type": "code",
   "execution_count": 28,
   "metadata": {
    "id": "qeaFfM_P_Zcu",
    "pycharm": {
     "name": "#%%\n"
    }
   },
   "outputs": [],
   "source": [
    "moscow_general = df[df['city'] == 'Moscow']"
   ]
  },
  {
   "cell_type": "code",
   "execution_count": 29,
   "metadata": {
    "id": "ORaVRKto_Zcu",
    "pycharm": {
     "name": "#%%\n"
    }
   },
   "outputs": [],
   "source": [
    "spb_general = df[df['city'] == 'Saint-Petersburg']"
   ]
  },
  {
   "cell_type": "markdown",
   "metadata": {
    "id": "MEJV-CX2_Zcu",
    "pycharm": {
     "name": "#%% md\n"
    }
   },
   "source": [
    "Создайте функцию `genre_weekday()` с четырьмя параметрами:\n",
    "* таблица (датафрейм) с данными,\n",
    "* день недели,\n",
    "* начальная временная метка в формате 'hh:mm', \n",
    "* последняя временная метка в формате 'hh:mm'.\n",
    "\n",
    "Функция должна вернуть информацию о топ-10 жанров тех треков, которые прослушивали в указанный день, в промежутке между двумя отметками времени."
   ]
  },
  {
   "cell_type": "code",
   "execution_count": 30,
   "metadata": {
    "id": "laJT9BYl_Zcu",
    "pycharm": {
     "name": "#%%\n"
    }
   },
   "outputs": [],
   "source": [
    "def genre_weekday(table, day, time1, time2):\n",
    "    genre_df = table[table['day'] == day]\n",
    "    genre_df = genre_df[genre_df['time'] > time1]\n",
    "    genre_df = genre_df[genre_df['time'] < time2]\n",
    "    \n",
    "    genre_df_count = genre_df.groupby('genre')['user_id'].count()\n",
    "    genre_df_sorted = genre_df_count.sort_values(ascending=False) \n",
    "    \n",
    "    return genre_df_sorted.head(10)"
   ]
  },
  {
   "cell_type": "markdown",
   "metadata": {
    "id": "la2s2_PF_Zcu",
    "pycharm": {
     "name": "#%% md\n"
    }
   },
   "source": [
    "Cравните результаты функции `genre_weekday()` для Москвы и Санкт-Петербурга в понедельник утром (с 7:00 до 11:00) и в пятницу вечером (с 17:00 до 23:00):"
   ]
  },
  {
   "cell_type": "code",
   "execution_count": 31,
   "metadata": {
    "id": "yz7itPUQ_Zcu",
    "pycharm": {
     "name": "#%%\n"
    }
   },
   "outputs": [
    {
     "data": {
      "text/plain": [
       "genre\n",
       "pop            781\n",
       "dance          549\n",
       "electronic     480\n",
       "rock           474\n",
       "hiphop         286\n",
       "ruspop         186\n",
       "world          181\n",
       "rusrap         175\n",
       "alternative    164\n",
       "unknown        161\n",
       "Name: user_id, dtype: int64"
      ]
     },
     "execution_count": 31,
     "metadata": {},
     "output_type": "execute_result"
    }
   ],
   "source": [
    "genre_weekday(moscow_general, 'Monday', '07:00', '11:00') # вызов функции для утра понедельника в Москве"
   ]
  },
  {
   "cell_type": "code",
   "execution_count": 32,
   "metadata": {
    "id": "kwUcHPdy_Zcu",
    "pycharm": {
     "name": "#%%\n"
    }
   },
   "outputs": [
    {
     "data": {
      "text/plain": [
       "genre\n",
       "pop            218\n",
       "dance          182\n",
       "rock           162\n",
       "electronic     147\n",
       "hiphop          80\n",
       "ruspop          64\n",
       "alternative     58\n",
       "rusrap          55\n",
       "jazz            44\n",
       "classical       40\n",
       "Name: user_id, dtype: int64"
      ]
     },
     "execution_count": 32,
     "metadata": {},
     "output_type": "execute_result"
    }
   ],
   "source": [
    "genre_weekday(spb_general, 'Monday', '07:00', '11:00') # вызов функции для утра понедельника в Петербурге"
   ]
  },
  {
   "cell_type": "code",
   "execution_count": 33,
   "metadata": {
    "id": "EzXVRE1o_Zcu",
    "pycharm": {
     "name": "#%%\n"
    }
   },
   "outputs": [
    {
     "data": {
      "text/plain": [
       "genre\n",
       "pop            713\n",
       "rock           517\n",
       "dance          495\n",
       "electronic     482\n",
       "hiphop         273\n",
       "world          208\n",
       "ruspop         170\n",
       "alternative    163\n",
       "classical      163\n",
       "rusrap         142\n",
       "Name: user_id, dtype: int64"
      ]
     },
     "execution_count": 33,
     "metadata": {},
     "output_type": "execute_result"
    }
   ],
   "source": [
    "genre_weekday(moscow_general, 'Friday', '17:00', '23:00') # вызов функции для вечера пятницы в Москве"
   ]
  },
  {
   "cell_type": "code",
   "execution_count": 34,
   "metadata": {
    "id": "JZaEKu5v_Zcu",
    "pycharm": {
     "name": "#%%\n"
    }
   },
   "outputs": [
    {
     "data": {
      "text/plain": [
       "genre\n",
       "pop            256\n",
       "electronic     216\n",
       "rock           216\n",
       "dance          210\n",
       "hiphop          97\n",
       "alternative     63\n",
       "jazz            61\n",
       "classical       60\n",
       "rusrap          59\n",
       "world           54\n",
       "Name: user_id, dtype: int64"
      ]
     },
     "execution_count": 34,
     "metadata": {},
     "output_type": "execute_result"
    }
   ],
   "source": [
    "genre_weekday(spb_general, 'Friday', '17:00', '23:00') # вызов функции для вечера пятницы в Петербурге"
   ]
  },
  {
   "cell_type": "markdown",
   "metadata": {
    "id": "wrCe4MNX_Zcu",
    "pycharm": {
     "name": "#%% md\n"
    }
   },
   "source": [
    "**Выводы**\n",
    "\n",
    "Если сравнить топ-10 жанров в понедельник утром, можно сделать такие выводы:\n",
    "\n",
    "1. В Москве и Петербурге слушают похожую музыку. Единственное отличие — в московский рейтинг вошёл жанр “world”, а в петербургский — джаз и классика.\n",
    "\n",
    "2. В Москве пропущенных значений оказалось так много, что значение `'unknown'` заняло десятое место среди самых популярных жанров. Значит, пропущенные значения занимают существенную долю в данных и угрожают достоверности исследования.\n",
    "\n",
    "Вечер пятницы не меняет эту картину. Некоторые жанры поднимаются немного выше, другие спускаются, но в целом топ-10 остаётся тем же самым.\n",
    "\n",
    "Таким образом, вторая гипотеза подтвердилась лишь частично:\n",
    "* Пользователи слушают похожую музыку в начале недели и в конце.\n",
    "* Разница между Москвой и Петербургом не слишком выражена. В Москве чаще слушают русскую популярную музыку, в Петербурге — джаз.\n",
    "\n",
    "Однако пропуски в данных ставят под сомнение этот результат. В Москве их так много, что рейтинг топ-10 мог бы выглядеть иначе, если бы не утерянные  данные о жанрах."
   ]
  },
  {
   "cell_type": "markdown",
   "metadata": {
    "id": "JolODAqr_Zcu",
    "pycharm": {
     "name": "#%% md\n"
    }
   },
   "source": [
    "### Жанровые предпочтения в Москве и Петербурге\n",
    "\n",
    "Гипотеза: Петербург — столица рэпа, музыку этого жанра там слушают чаще, чем в Москве.  А Москва — город контрастов, в котором, тем не менее, преобладает поп-музыка."
   ]
  },
  {
   "cell_type": "markdown",
   "metadata": {
    "id": "DlegSvaT_Zcu",
    "pycharm": {
     "name": "#%% md\n"
    }
   },
   "source": [
    "Сгруппируйте таблицу `moscow_general` по жанру и посчитайте прослушивания треков каждого жанра методом `count()`. Затем отсортируйте результат в порядке убывания и сохраните его в таблице `moscow_genres`."
   ]
  },
  {
   "cell_type": "code",
   "execution_count": 35,
   "metadata": {
    "id": "r19lIPke_Zcu",
    "pycharm": {
     "name": "#%%\n"
    }
   },
   "outputs": [],
   "source": [
    "moscow_genres = moscow_general.groupby('genre')['genre'].count().sort_values(ascending=False)"
   ]
  },
  {
   "cell_type": "markdown",
   "metadata": {
    "id": "6kMuomxTiIr8",
    "pycharm": {
     "name": "#%% md\n"
    }
   },
   "source": [
    "Выведите на экран первые десять строк `moscow_genres`:"
   ]
  },
  {
   "cell_type": "code",
   "execution_count": 36,
   "metadata": {
    "id": "WhCSooF8_Zcv",
    "pycharm": {
     "name": "#%%\n"
    }
   },
   "outputs": [
    {
     "data": {
      "text/plain": [
       "genre\n",
       "pop            5892\n",
       "dance          4435\n",
       "rock           3965\n",
       "electronic     3786\n",
       "hiphop         2096\n",
       "classical      1616\n",
       "world          1432\n",
       "alternative    1379\n",
       "ruspop         1372\n",
       "rusrap         1161\n",
       "Name: genre, dtype: int64"
      ]
     },
     "execution_count": 36,
     "metadata": {},
     "output_type": "execute_result"
    }
   ],
   "source": [
    "moscow_genres.head(10) # просмотр первых 10 строк moscow_genres"
   ]
  },
  {
   "cell_type": "markdown",
   "metadata": {
    "id": "cnPG2vnN_Zcv",
    "pycharm": {
     "name": "#%% md\n"
    }
   },
   "source": [
    "Теперь повторите то же и для Петербурга.\n",
    "\n",
    "Сгруппируйте таблицу `spb_general` по жанру. Посчитайте прослушивания треков каждого жанра. Результат отсортируйте в порядке убывания и сохраните в таблице `spb_genres`:\n"
   ]
  },
  {
   "cell_type": "code",
   "execution_count": 37,
   "metadata": {
    "id": "gluLIpE7_Zcv",
    "pycharm": {
     "name": "#%%\n"
    }
   },
   "outputs": [],
   "source": [
    "spb_genres = spb_general.groupby('genre')['genre'].count().sort_values(ascending=False)"
   ]
  },
  {
   "cell_type": "markdown",
   "metadata": {
    "id": "5Doha_ODgyQ8",
    "pycharm": {
     "name": "#%% md\n"
    }
   },
   "source": [
    "Выведите на экран первые десять строк `spb_genres`:"
   ]
  },
  {
   "cell_type": "code",
   "execution_count": 38,
   "metadata": {
    "id": "uaGJHjVU_Zcv",
    "pycharm": {
     "name": "#%%\n"
    }
   },
   "outputs": [
    {
     "data": {
      "text/plain": [
       "genre\n",
       "pop            2431\n",
       "dance          1932\n",
       "rock           1879\n",
       "electronic     1736\n",
       "hiphop          960\n",
       "alternative     649\n",
       "classical       646\n",
       "rusrap          564\n",
       "ruspop          538\n",
       "world           515\n",
       "Name: genre, dtype: int64"
      ]
     },
     "execution_count": 38,
     "metadata": {},
     "output_type": "execute_result"
    }
   ],
   "source": [
    "spb_genres.head(10) # просмотр первых 10 строк spb_genres"
   ]
  },
  {
   "cell_type": "markdown",
   "metadata": {
    "id": "RY51YJYu_Zcv",
    "pycharm": {
     "name": "#%% md\n"
    }
   },
   "source": [
    "**Выводы**"
   ]
  },
  {
   "cell_type": "markdown",
   "metadata": {
    "id": "nVhnJEm__Zcv",
    "pycharm": {
     "name": "#%% md\n"
    }
   },
   "source": [
    "Гипотеза частично подтвердилась:\n",
    "* Поп-музыка — самый популярный жанр в Москве, как и предполагала гипотеза. Более того, в топ-10 жанров встречается близкий жанр — русская популярная музыка.\n",
    "* Вопреки ожиданиям, рэп одинаково популярен в Москве и Петербурге. \n"
   ]
  },
  {
   "cell_type": "markdown",
   "metadata": {
    "id": "ykKQ0N65_Zcv",
    "pycharm": {
     "name": "#%% md\n"
    }
   },
   "source": [
    "## Итоги исследования"
   ]
  },
  {
   "cell_type": "markdown",
   "metadata": {
    "id": "tjUwbHb3_Zcv",
    "pycharm": {
     "name": "#%% md\n"
    }
   },
   "source": [
    "Вы проверили три гипотезы и установили:\n",
    "\n",
    "1. День недели по-разному влияет на активность пользователей в Москве и Петербурге. \n",
    "\n",
    "Первая гипотеза полностью подтвердилась.\n",
    "\n",
    "2. Музыкальные предпочтения не сильно меняются в течение недели — будь то Москва или Петербург. Небольшие различия заметны в начале недели, по понедельникам:\n",
    "* в Москве слушают музыку жанра “world”,\n",
    "* в Петербурге — джаз и классику.\n",
    "\n",
    "Таким образом, вторая гипотеза подтвердилась лишь отчасти. Этот результат мог оказаться иным, если бы не пропуски в данных.\n",
    "\n",
    "3. Во вкусах пользователей Москвы и Петербурга больше общего чем различий. Вопреки ожиданиям, предпочтения жанров в Петербурге напоминают московские.\n",
    "\n",
    "Третья гипотеза не подтвердилась. Если различия в предпочтениях и существуют, на основной массе пользователей они незаметны.\n",
    "\n",
    "**На практике исследования содержат проверки статистических гипотез.**\n",
    "Из данных одного сервиса не всегда можно сделать вывод о всех жителях города.\n",
    "Проверки статистических гипотез покажут, насколько они достоверны, исходя из имеющихся данных. \n",
    "С методами проверок гипотез вы ещё познакомитесь в следующих темах."
   ]
  }
 ],
 "metadata": {
  "ExecuteTimeLog": [
   {
    "duration": 596,
    "start_time": "2022-02-01T07:36:01.114Z"
   },
   {
    "duration": 973,
    "start_time": "2022-02-01T07:36:03.232Z"
   },
   {
    "duration": 20,
    "start_time": "2022-02-01T07:36:05.816Z"
   },
   {
    "duration": 30,
    "start_time": "2022-02-01T07:36:24.417Z"
   },
   {
    "duration": 4,
    "start_time": "2022-02-01T07:37:01.169Z"
   },
   {
    "duration": 22,
    "start_time": "2022-02-01T07:38:56.178Z"
   },
   {
    "duration": 24,
    "start_time": "2022-02-01T07:39:18.025Z"
   },
   {
    "duration": 6,
    "start_time": "2022-02-01T07:39:29.720Z"
   },
   {
    "duration": 16,
    "start_time": "2022-02-01T07:39:39.881Z"
   },
   {
    "duration": 4,
    "start_time": "2022-02-01T07:39:42.202Z"
   },
   {
    "duration": 48,
    "start_time": "2022-02-01T07:40:19.185Z"
   },
   {
    "duration": 3,
    "start_time": "2022-02-01T07:42:06.882Z"
   },
   {
    "duration": 2698,
    "start_time": "2022-02-01T07:42:48.512Z"
   },
   {
    "duration": 2661,
    "start_time": "2022-02-01T07:44:36.723Z"
   },
   {
    "duration": 3,
    "start_time": "2022-02-01T07:45:24.808Z"
   },
   {
    "duration": 2534,
    "start_time": "2022-02-01T07:45:36.576Z"
   },
   {
    "duration": 7,
    "start_time": "2022-02-01T07:45:53.673Z"
   },
   {
    "duration": 219,
    "start_time": "2022-02-01T07:45:57.792Z"
   },
   {
    "duration": 3,
    "start_time": "2022-02-01T07:46:11.378Z"
   },
   {
    "duration": 2,
    "start_time": "2022-02-01T07:46:18.481Z"
   },
   {
    "duration": 586,
    "start_time": "2022-02-01T07:46:36.284Z"
   },
   {
    "duration": 135,
    "start_time": "2022-02-01T07:46:36.872Z"
   },
   {
    "duration": 17,
    "start_time": "2022-02-01T07:46:37.011Z"
   },
   {
    "duration": 25,
    "start_time": "2022-02-01T07:46:37.029Z"
   },
   {
    "duration": 4,
    "start_time": "2022-02-01T07:46:37.056Z"
   },
   {
    "duration": 22,
    "start_time": "2022-02-01T07:46:37.061Z"
   },
   {
    "duration": 4,
    "start_time": "2022-02-01T07:46:37.113Z"
   },
   {
    "duration": 23,
    "start_time": "2022-02-01T07:46:37.119Z"
   },
   {
    "duration": 14,
    "start_time": "2022-02-01T07:46:37.143Z"
   },
   {
    "duration": 19,
    "start_time": "2022-02-01T07:46:37.159Z"
   },
   {
    "duration": 8,
    "start_time": "2022-02-01T07:46:37.179Z"
   },
   {
    "duration": 5,
    "start_time": "2022-02-01T07:46:37.189Z"
   },
   {
    "duration": 4,
    "start_time": "2022-02-01T07:46:37.196Z"
   },
   {
    "duration": 4,
    "start_time": "2022-02-01T07:46:37.201Z"
   },
   {
    "duration": 2,
    "start_time": "2022-02-01T07:46:37.212Z"
   },
   {
    "duration": 4,
    "start_time": "2022-02-01T07:46:37.216Z"
   },
   {
    "duration": 5,
    "start_time": "2022-02-01T07:46:37.221Z"
   },
   {
    "duration": 4,
    "start_time": "2022-02-01T07:46:37.227Z"
   },
   {
    "duration": 10,
    "start_time": "2022-02-01T07:46:37.233Z"
   },
   {
    "duration": 5,
    "start_time": "2022-02-01T07:46:37.244Z"
   },
   {
    "duration": 6,
    "start_time": "2022-02-01T07:46:37.250Z"
   },
   {
    "duration": 5,
    "start_time": "2022-02-01T07:46:37.259Z"
   },
   {
    "duration": 9,
    "start_time": "2022-02-01T07:46:37.265Z"
   },
   {
    "duration": 5,
    "start_time": "2022-02-01T07:46:37.275Z"
   },
   {
    "duration": 4,
    "start_time": "2022-02-01T07:46:37.282Z"
   },
   {
    "duration": 6,
    "start_time": "2022-02-01T07:46:37.288Z"
   },
   {
    "duration": 2,
    "start_time": "2022-02-01T07:46:37.312Z"
   },
   {
    "duration": 4,
    "start_time": "2022-02-01T07:46:37.315Z"
   },
   {
    "duration": 5,
    "start_time": "2022-02-01T07:46:37.321Z"
   },
   {
    "duration": 4,
    "start_time": "2022-02-01T07:46:37.328Z"
   },
   {
    "duration": 5,
    "start_time": "2022-02-01T07:46:37.334Z"
   },
   {
    "duration": 4,
    "start_time": "2022-02-01T07:46:37.341Z"
   },
   {
    "duration": 6,
    "start_time": "2022-02-01T07:46:37.346Z"
   },
   {
    "duration": 5,
    "start_time": "2022-02-01T07:46:37.353Z"
   },
   {
    "duration": 4,
    "start_time": "2022-02-01T07:46:37.359Z"
   },
   {
    "duration": 4,
    "start_time": "2022-02-01T07:46:37.365Z"
   },
   {
    "duration": 4,
    "start_time": "2022-02-01T07:46:37.370Z"
   },
   {
    "duration": 5,
    "start_time": "2022-02-01T07:46:37.376Z"
   },
   {
    "duration": 15,
    "start_time": "2022-02-01T07:47:17.215Z"
   },
   {
    "duration": 24,
    "start_time": "2022-02-01T07:47:26.808Z"
   },
   {
    "duration": 2546,
    "start_time": "2022-02-01T07:47:34.416Z"
   },
   {
    "duration": 131,
    "start_time": "2022-02-01T07:47:48.207Z"
   },
   {
    "duration": 10,
    "start_time": "2022-02-01T07:47:52.752Z"
   },
   {
    "duration": 25,
    "start_time": "2022-02-01T07:47:55.071Z"
   },
   {
    "duration": 4,
    "start_time": "2022-02-01T07:47:59.103Z"
   },
   {
    "duration": 22,
    "start_time": "2022-02-01T07:48:01.416Z"
   },
   {
    "duration": 4,
    "start_time": "2022-02-01T07:48:08.535Z"
   },
   {
    "duration": 16,
    "start_time": "2022-02-01T07:48:33.912Z"
   },
   {
    "duration": 22,
    "start_time": "2022-02-01T07:48:36.622Z"
   },
   {
    "duration": 4,
    "start_time": "2022-02-01T07:48:47.975Z"
   },
   {
    "duration": 544,
    "start_time": "2022-02-01T07:48:55.138Z"
   },
   {
    "duration": 134,
    "start_time": "2022-02-01T07:48:55.684Z"
   },
   {
    "duration": 17,
    "start_time": "2022-02-01T07:48:55.822Z"
   },
   {
    "duration": 22,
    "start_time": "2022-02-01T07:48:55.841Z"
   },
   {
    "duration": 4,
    "start_time": "2022-02-01T07:48:55.865Z"
   },
   {
    "duration": 55,
    "start_time": "2022-02-01T07:48:55.871Z"
   },
   {
    "duration": 4,
    "start_time": "2022-02-01T07:48:55.929Z"
   },
   {
    "duration": 23,
    "start_time": "2022-02-01T07:48:55.936Z"
   },
   {
    "duration": 16,
    "start_time": "2022-02-01T07:48:55.961Z"
   },
   {
    "duration": 48,
    "start_time": "2022-02-01T07:48:55.979Z"
   },
   {
    "duration": 3,
    "start_time": "2022-02-01T07:48:56.029Z"
   },
   {
    "duration": 5,
    "start_time": "2022-02-01T07:48:56.034Z"
   },
   {
    "duration": 8,
    "start_time": "2022-02-01T07:48:56.040Z"
   },
   {
    "duration": 8,
    "start_time": "2022-02-01T07:48:56.049Z"
   },
   {
    "duration": 4,
    "start_time": "2022-02-01T07:48:56.059Z"
   },
   {
    "duration": 5,
    "start_time": "2022-02-01T07:48:56.064Z"
   },
   {
    "duration": 5,
    "start_time": "2022-02-01T07:48:56.070Z"
   },
   {
    "duration": 4,
    "start_time": "2022-02-01T07:48:56.076Z"
   },
   {
    "duration": 5,
    "start_time": "2022-02-01T07:48:56.082Z"
   },
   {
    "duration": 4,
    "start_time": "2022-02-01T07:48:56.088Z"
   },
   {
    "duration": 2,
    "start_time": "2022-02-01T07:48:56.112Z"
   },
   {
    "duration": 4,
    "start_time": "2022-02-01T07:48:56.117Z"
   },
   {
    "duration": 4,
    "start_time": "2022-02-01T07:48:56.122Z"
   },
   {
    "duration": 4,
    "start_time": "2022-02-01T07:48:56.128Z"
   },
   {
    "duration": 9,
    "start_time": "2022-02-01T07:48:56.133Z"
   },
   {
    "duration": 14,
    "start_time": "2022-02-01T07:48:56.143Z"
   },
   {
    "duration": 15,
    "start_time": "2022-02-01T07:48:56.159Z"
   },
   {
    "duration": 5,
    "start_time": "2022-02-01T07:48:56.175Z"
   },
   {
    "duration": 4,
    "start_time": "2022-02-01T07:48:56.182Z"
   },
   {
    "duration": 4,
    "start_time": "2022-02-01T07:48:56.187Z"
   },
   {
    "duration": 6,
    "start_time": "2022-02-01T07:48:56.193Z"
   },
   {
    "duration": 3,
    "start_time": "2022-02-01T07:48:56.201Z"
   },
   {
    "duration": 9,
    "start_time": "2022-02-01T07:48:56.206Z"
   },
   {
    "duration": 6,
    "start_time": "2022-02-01T07:48:56.217Z"
   },
   {
    "duration": 4,
    "start_time": "2022-02-01T07:48:56.225Z"
   },
   {
    "duration": 6,
    "start_time": "2022-02-01T07:48:56.230Z"
   },
   {
    "duration": 5,
    "start_time": "2022-02-01T07:48:56.237Z"
   },
   {
    "duration": 5,
    "start_time": "2022-02-01T07:48:56.243Z"
   },
   {
    "duration": 56,
    "start_time": "2022-02-01T07:49:31.628Z"
   },
   {
    "duration": 61,
    "start_time": "2022-02-01T07:49:50.468Z"
   },
   {
    "duration": 51,
    "start_time": "2022-02-01T07:49:57.300Z"
   },
   {
    "duration": 5397,
    "start_time": "2022-02-01T07:50:39.445Z"
   },
   {
    "duration": 2,
    "start_time": "2022-02-01T07:51:56.614Z"
   },
   {
    "duration": 3,
    "start_time": "2022-02-01T07:52:07.077Z"
   },
   {
    "duration": 5,
    "start_time": "2022-02-01T07:52:13.860Z"
   },
   {
    "duration": 39,
    "start_time": "2022-02-01T07:53:20.933Z"
   },
   {
    "duration": 42,
    "start_time": "2022-02-01T07:53:26.484Z"
   },
   {
    "duration": 43,
    "start_time": "2022-02-01T07:54:20.612Z"
   },
   {
    "duration": 44,
    "start_time": "2022-02-01T07:54:38.533Z"
   },
   {
    "duration": 3,
    "start_time": "2022-02-01T07:58:03.605Z"
   },
   {
    "duration": 399,
    "start_time": "2022-02-01T07:59:26.636Z"
   },
   {
    "duration": 3,
    "start_time": "2022-02-01T08:02:13.758Z"
   },
   {
    "duration": 11,
    "start_time": "2022-02-01T08:02:16.612Z"
   },
   {
    "duration": 45,
    "start_time": "2022-02-01T08:03:30.212Z"
   },
   {
    "duration": 44,
    "start_time": "2022-02-01T08:03:52.709Z"
   },
   {
    "duration": 4332,
    "start_time": "2022-02-01T08:07:34.637Z"
   },
   {
    "duration": 4631,
    "start_time": "2022-02-01T08:07:41.917Z"
   },
   {
    "duration": 295,
    "start_time": "2022-02-01T08:08:17.743Z"
   },
   {
    "duration": 5,
    "start_time": "2022-02-01T08:08:30.005Z"
   },
   {
    "duration": 4,
    "start_time": "2022-02-01T08:08:40.325Z"
   },
   {
    "duration": 4543,
    "start_time": "2022-02-01T08:08:47.828Z"
   },
   {
    "duration": 340,
    "start_time": "2022-02-01T08:09:17.526Z"
   },
   {
    "duration": 30,
    "start_time": "2022-02-01T08:10:09.373Z"
   },
   {
    "duration": 11,
    "start_time": "2022-02-01T08:10:21.422Z"
   },
   {
    "duration": 12,
    "start_time": "2022-02-01T08:12:28.150Z"
   },
   {
    "duration": 19,
    "start_time": "2022-02-01T08:13:35.060Z"
   },
   {
    "duration": 20,
    "start_time": "2022-02-01T08:13:42.797Z"
   },
   {
    "duration": 32,
    "start_time": "2022-02-01T08:14:13.893Z"
   },
   {
    "duration": 30,
    "start_time": "2022-02-01T08:14:25.191Z"
   },
   {
    "duration": 31,
    "start_time": "2022-02-01T08:14:44.030Z"
   },
   {
    "duration": 4,
    "start_time": "2022-02-01T08:29:57.966Z"
   },
   {
    "duration": 199,
    "start_time": "2022-02-01T08:32:03.502Z"
   },
   {
    "duration": 4,
    "start_time": "2022-02-01T08:32:52.550Z"
   },
   {
    "duration": 9,
    "start_time": "2022-02-01T08:32:54.221Z"
   },
   {
    "duration": 8,
    "start_time": "2022-02-01T08:32:57.077Z"
   },
   {
    "duration": 18,
    "start_time": "2022-02-01T08:34:24.111Z"
   },
   {
    "duration": 15,
    "start_time": "2022-02-01T08:34:25.126Z"
   },
   {
    "duration": 16,
    "start_time": "2022-02-01T08:34:25.670Z"
   },
   {
    "duration": 15,
    "start_time": "2022-02-01T08:34:26.086Z"
   },
   {
    "duration": 25,
    "start_time": "2022-02-01T08:34:26.389Z"
   },
   {
    "duration": 16,
    "start_time": "2022-02-01T08:34:27.694Z"
   },
   {
    "duration": 10,
    "start_time": "2022-02-01T08:35:08.102Z"
   },
   {
    "duration": 226,
    "start_time": "2022-02-01T08:36:28.256Z"
   },
   {
    "duration": 11,
    "start_time": "2022-02-01T08:36:39.303Z"
   },
   {
    "duration": 303,
    "start_time": "2022-02-01T08:36:44.285Z"
   },
   {
    "duration": 24,
    "start_time": "2022-02-01T08:36:56.591Z"
   },
   {
    "duration": 23,
    "start_time": "2022-02-01T08:37:12.543Z"
   },
   {
    "duration": 23,
    "start_time": "2022-02-01T08:37:16.375Z"
   },
   {
    "duration": 5303,
    "start_time": "2022-02-01T08:37:20.327Z"
   },
   {
    "duration": 70,
    "start_time": "2022-02-01T08:37:38.942Z"
   },
   {
    "duration": 23,
    "start_time": "2022-02-01T08:37:50.671Z"
   },
   {
    "duration": 22,
    "start_time": "2022-02-01T08:38:27.399Z"
   },
   {
    "duration": 22,
    "start_time": "2022-02-01T08:38:47.271Z"
   },
   {
    "duration": 24,
    "start_time": "2022-02-01T08:39:10.767Z"
   },
   {
    "duration": 9,
    "start_time": "2022-02-01T08:41:14.751Z"
   },
   {
    "duration": 8,
    "start_time": "2022-02-01T08:41:41.871Z"
   },
   {
    "duration": 10,
    "start_time": "2022-02-01T08:41:47.583Z"
   },
   {
    "duration": 577,
    "start_time": "2022-02-01T08:41:58.379Z"
   },
   {
    "duration": 142,
    "start_time": "2022-02-01T08:41:58.958Z"
   },
   {
    "duration": 22,
    "start_time": "2022-02-01T08:41:59.104Z"
   },
   {
    "duration": 34,
    "start_time": "2022-02-01T08:41:59.128Z"
   },
   {
    "duration": 4,
    "start_time": "2022-02-01T08:41:59.164Z"
   },
   {
    "duration": 42,
    "start_time": "2022-02-01T08:41:59.170Z"
   },
   {
    "duration": 4,
    "start_time": "2022-02-01T08:41:59.215Z"
   },
   {
    "duration": 37,
    "start_time": "2022-02-01T08:41:59.221Z"
   },
   {
    "duration": 18,
    "start_time": "2022-02-01T08:41:59.260Z"
   },
   {
    "duration": 35,
    "start_time": "2022-02-01T08:41:59.279Z"
   },
   {
    "duration": 59,
    "start_time": "2022-02-01T08:41:59.316Z"
   },
   {
    "duration": 87,
    "start_time": "2022-02-01T08:41:59.376Z"
   },
   {
    "duration": 54,
    "start_time": "2022-02-01T08:41:59.465Z"
   },
   {
    "duration": 42,
    "start_time": "2022-02-01T08:41:59.521Z"
   },
   {
    "duration": 3,
    "start_time": "2022-02-01T08:41:59.564Z"
   },
   {
    "duration": 16,
    "start_time": "2022-02-01T08:41:59.568Z"
   },
   {
    "duration": 58,
    "start_time": "2022-02-01T08:41:59.585Z"
   },
   {
    "duration": 11,
    "start_time": "2022-02-01T08:41:59.645Z"
   },
   {
    "duration": 56,
    "start_time": "2022-02-01T08:41:59.657Z"
   },
   {
    "duration": 3,
    "start_time": "2022-02-01T08:41:59.715Z"
   },
   {
    "duration": 21,
    "start_time": "2022-02-01T08:41:59.719Z"
   },
   {
    "duration": 14,
    "start_time": "2022-02-01T08:41:59.743Z"
   },
   {
    "duration": 13,
    "start_time": "2022-02-01T08:41:59.759Z"
   },
   {
    "duration": 39,
    "start_time": "2022-02-01T08:41:59.774Z"
   },
   {
    "duration": 16,
    "start_time": "2022-02-01T08:41:59.815Z"
   },
   {
    "duration": 13,
    "start_time": "2022-02-01T08:41:59.833Z"
   },
   {
    "duration": 12,
    "start_time": "2022-02-01T08:41:59.847Z"
   },
   {
    "duration": 5,
    "start_time": "2022-02-01T08:41:59.860Z"
   },
   {
    "duration": 6,
    "start_time": "2022-02-01T08:41:59.866Z"
   },
   {
    "duration": 6,
    "start_time": "2022-02-01T08:41:59.873Z"
   },
   {
    "duration": 8,
    "start_time": "2022-02-01T08:41:59.880Z"
   },
   {
    "duration": 23,
    "start_time": "2022-02-01T08:41:59.890Z"
   },
   {
    "duration": 6,
    "start_time": "2022-02-01T08:41:59.914Z"
   },
   {
    "duration": 6,
    "start_time": "2022-02-01T08:41:59.922Z"
   },
   {
    "duration": 5,
    "start_time": "2022-02-01T08:41:59.930Z"
   },
   {
    "duration": 4,
    "start_time": "2022-02-01T08:41:59.937Z"
   },
   {
    "duration": 6,
    "start_time": "2022-02-01T08:41:59.942Z"
   },
   {
    "duration": 5,
    "start_time": "2022-02-01T08:41:59.950Z"
   },
   {
    "duration": 13,
    "start_time": "2022-02-01T08:42:37.943Z"
   },
   {
    "duration": 10,
    "start_time": "2022-02-01T08:44:29.563Z"
   },
   {
    "duration": 10,
    "start_time": "2022-02-01T08:44:30.841Z"
   },
   {
    "duration": 807,
    "start_time": "2022-02-01T12:26:52.928Z"
   },
   {
    "duration": 188,
    "start_time": "2022-02-01T12:26:53.739Z"
   },
   {
    "duration": 28,
    "start_time": "2022-02-01T12:26:53.930Z"
   },
   {
    "duration": 33,
    "start_time": "2022-02-01T12:26:53.962Z"
   },
   {
    "duration": 37,
    "start_time": "2022-02-01T12:26:53.997Z"
   },
   {
    "duration": 29,
    "start_time": "2022-02-01T12:26:54.037Z"
   },
   {
    "duration": 8,
    "start_time": "2022-02-01T12:26:54.068Z"
   },
   {
    "duration": 65,
    "start_time": "2022-02-01T12:26:54.080Z"
   },
   {
    "duration": 23,
    "start_time": "2022-02-01T12:26:54.148Z"
   },
   {
    "duration": 31,
    "start_time": "2022-02-01T12:26:54.173Z"
   },
   {
    "duration": 115,
    "start_time": "2022-02-01T12:26:54.206Z"
   },
   {
    "duration": 107,
    "start_time": "2022-02-01T12:26:54.332Z"
   },
   {
    "duration": 76,
    "start_time": "2022-02-01T12:26:54.441Z"
   },
   {
    "duration": 77,
    "start_time": "2022-02-01T12:26:54.532Z"
   },
   {
    "duration": 21,
    "start_time": "2022-02-01T12:26:54.612Z"
   },
   {
    "duration": 20,
    "start_time": "2022-02-01T12:26:54.636Z"
   },
   {
    "duration": 93,
    "start_time": "2022-02-01T12:26:54.659Z"
   },
   {
    "duration": 21,
    "start_time": "2022-02-01T12:26:54.755Z"
   },
   {
    "duration": 14,
    "start_time": "2022-02-01T12:26:54.778Z"
   },
   {
    "duration": 4,
    "start_time": "2022-02-01T12:26:54.794Z"
   },
   {
    "duration": 57,
    "start_time": "2022-02-01T12:26:54.800Z"
   },
   {
    "duration": 17,
    "start_time": "2022-02-01T12:26:54.860Z"
   },
   {
    "duration": 18,
    "start_time": "2022-02-01T12:26:54.881Z"
   },
   {
    "duration": 44,
    "start_time": "2022-02-01T12:26:54.901Z"
   },
   {
    "duration": 20,
    "start_time": "2022-02-01T12:26:54.947Z"
   },
   {
    "duration": 18,
    "start_time": "2022-02-01T12:26:54.969Z"
   },
   {
    "duration": 52,
    "start_time": "2022-02-01T12:26:54.990Z"
   },
   {
    "duration": 19,
    "start_time": "2022-02-01T12:26:55.045Z"
   },
   {
    "duration": 14,
    "start_time": "2022-02-01T12:26:55.067Z"
   },
   {
    "duration": 7,
    "start_time": "2022-02-01T12:26:55.092Z"
   },
   {
    "duration": 32,
    "start_time": "2022-02-01T12:26:55.102Z"
   },
   {
    "duration": 8,
    "start_time": "2022-02-01T12:26:55.137Z"
   },
   {
    "duration": 15,
    "start_time": "2022-02-01T12:26:55.147Z"
   },
   {
    "duration": 15,
    "start_time": "2022-02-01T12:26:55.165Z"
   },
   {
    "duration": 13,
    "start_time": "2022-02-01T12:26:55.182Z"
   },
   {
    "duration": 7,
    "start_time": "2022-02-01T12:26:55.197Z"
   },
   {
    "duration": 5,
    "start_time": "2022-02-01T12:26:55.206Z"
   },
   {
    "duration": 5,
    "start_time": "2022-02-01T12:26:55.214Z"
   },
   {
    "duration": 327,
    "start_time": "2022-02-01T12:30:28.957Z"
   },
   {
    "duration": 5,
    "start_time": "2022-02-01T12:30:33.827Z"
   },
   {
    "duration": 470,
    "start_time": "2022-02-01T12:30:37.307Z"
   },
   {
    "duration": 5,
    "start_time": "2022-02-01T12:31:18.702Z"
   },
   {
    "duration": 36,
    "start_time": "2022-02-01T12:31:20.211Z"
   },
   {
    "duration": 6,
    "start_time": "2022-02-01T12:34:06.478Z"
   },
   {
    "duration": 25,
    "start_time": "2022-02-01T12:34:08.651Z"
   },
   {
    "duration": 5,
    "start_time": "2022-02-01T12:35:01.972Z"
   },
   {
    "duration": 24,
    "start_time": "2022-02-01T12:35:04.097Z"
   },
   {
    "duration": 26,
    "start_time": "2022-02-01T12:35:20.123Z"
   },
   {
    "duration": 5,
    "start_time": "2022-02-01T12:35:23.507Z"
   },
   {
    "duration": 25,
    "start_time": "2022-02-01T12:35:25.186Z"
   },
   {
    "duration": 5,
    "start_time": "2022-02-01T12:35:57.195Z"
   },
   {
    "duration": 26,
    "start_time": "2022-02-01T12:35:59.291Z"
   },
   {
    "duration": 748,
    "start_time": "2022-02-01T12:37:38.017Z"
   },
   {
    "duration": 179,
    "start_time": "2022-02-01T12:37:38.769Z"
   },
   {
    "duration": 25,
    "start_time": "2022-02-01T12:37:38.951Z"
   },
   {
    "duration": 57,
    "start_time": "2022-02-01T12:37:38.979Z"
   },
   {
    "duration": 6,
    "start_time": "2022-02-01T12:37:39.038Z"
   },
   {
    "duration": 29,
    "start_time": "2022-02-01T12:37:39.046Z"
   },
   {
    "duration": 13,
    "start_time": "2022-02-01T12:37:39.078Z"
   },
   {
    "duration": 55,
    "start_time": "2022-02-01T12:37:39.095Z"
   },
   {
    "duration": 22,
    "start_time": "2022-02-01T12:37:39.154Z"
   },
   {
    "duration": 30,
    "start_time": "2022-02-01T12:37:39.178Z"
   },
   {
    "duration": 84,
    "start_time": "2022-02-01T12:37:39.233Z"
   },
   {
    "duration": 105,
    "start_time": "2022-02-01T12:37:39.331Z"
   },
   {
    "duration": 77,
    "start_time": "2022-02-01T12:37:39.438Z"
   },
   {
    "duration": 70,
    "start_time": "2022-02-01T12:37:39.518Z"
   },
   {
    "duration": 4,
    "start_time": "2022-02-01T12:37:39.591Z"
   },
   {
    "duration": 38,
    "start_time": "2022-02-01T12:37:39.598Z"
   },
   {
    "duration": 58,
    "start_time": "2022-02-01T12:37:39.638Z"
   },
   {
    "duration": 34,
    "start_time": "2022-02-01T12:37:39.699Z"
   },
   {
    "duration": 14,
    "start_time": "2022-02-01T12:37:39.736Z"
   },
   {
    "duration": 4,
    "start_time": "2022-02-01T12:37:39.753Z"
   },
   {
    "duration": 26,
    "start_time": "2022-02-01T12:37:39.759Z"
   },
   {
    "duration": 51,
    "start_time": "2022-02-01T12:37:39.787Z"
   },
   {
    "duration": 18,
    "start_time": "2022-02-01T12:37:39.843Z"
   },
   {
    "duration": 19,
    "start_time": "2022-02-01T12:37:39.864Z"
   },
   {
    "duration": 50,
    "start_time": "2022-02-01T12:37:39.885Z"
   },
   {
    "duration": 23,
    "start_time": "2022-02-01T12:37:39.937Z"
   },
   {
    "duration": 12,
    "start_time": "2022-02-01T12:37:39.962Z"
   },
   {
    "duration": 18,
    "start_time": "2022-02-01T12:37:39.976Z"
   },
   {
    "duration": 40,
    "start_time": "2022-02-01T12:37:39.997Z"
   },
   {
    "duration": 5,
    "start_time": "2022-02-01T12:37:40.040Z"
   },
   {
    "duration": 28,
    "start_time": "2022-02-01T12:37:40.048Z"
   },
   {
    "duration": 15,
    "start_time": "2022-02-01T12:37:40.079Z"
   },
   {
    "duration": 55,
    "start_time": "2022-02-01T12:37:40.096Z"
   },
   {
    "duration": 15,
    "start_time": "2022-02-01T12:37:40.153Z"
   },
   {
    "duration": 3,
    "start_time": "2022-02-01T12:37:40.171Z"
   },
   {
    "duration": 6,
    "start_time": "2022-02-01T12:37:40.176Z"
   },
   {
    "duration": 6,
    "start_time": "2022-02-01T12:37:40.184Z"
   },
   {
    "duration": 40,
    "start_time": "2022-02-01T12:37:40.192Z"
   },
   {
    "duration": 58,
    "start_time": "2022-02-01T12:39:44.521Z"
   },
   {
    "duration": 48,
    "start_time": "2022-02-01T12:40:08.474Z"
   },
   {
    "duration": 7,
    "start_time": "2022-02-01T12:40:42.049Z"
   },
   {
    "duration": 9,
    "start_time": "2022-02-01T12:40:55.104Z"
   },
   {
    "duration": 6,
    "start_time": "2022-02-01T12:41:01.897Z"
   },
   {
    "duration": 15,
    "start_time": "2022-02-01T12:41:06.328Z"
   },
   {
    "duration": 89,
    "start_time": "2022-02-01T12:41:22.809Z"
   },
   {
    "duration": 15,
    "start_time": "2022-02-01T12:41:56.760Z"
   },
   {
    "duration": 11,
    "start_time": "2022-02-01T12:42:16.833Z"
   },
   {
    "duration": 7,
    "start_time": "2022-02-01T12:42:27.760Z"
   },
   {
    "duration": 322,
    "start_time": "2022-02-01T12:42:58.456Z"
   },
   {
    "duration": 9,
    "start_time": "2022-02-01T12:43:02.665Z"
   },
   {
    "duration": 7,
    "start_time": "2022-02-01T12:43:04.136Z"
   },
   {
    "duration": 766,
    "start_time": "2022-02-01T12:43:36.696Z"
   },
   {
    "duration": 192,
    "start_time": "2022-02-01T12:43:37.465Z"
   },
   {
    "duration": 25,
    "start_time": "2022-02-01T12:43:37.660Z"
   },
   {
    "duration": 55,
    "start_time": "2022-02-01T12:43:37.687Z"
   },
   {
    "duration": 5,
    "start_time": "2022-02-01T12:43:37.745Z"
   },
   {
    "duration": 34,
    "start_time": "2022-02-01T12:43:37.753Z"
   },
   {
    "duration": 5,
    "start_time": "2022-02-01T12:43:37.789Z"
   },
   {
    "duration": 60,
    "start_time": "2022-02-01T12:43:37.798Z"
   },
   {
    "duration": 24,
    "start_time": "2022-02-01T12:43:37.861Z"
   },
   {
    "duration": 51,
    "start_time": "2022-02-01T12:43:37.887Z"
   },
   {
    "duration": 91,
    "start_time": "2022-02-01T12:43:37.941Z"
   },
   {
    "duration": 106,
    "start_time": "2022-02-01T12:43:38.035Z"
   },
   {
    "duration": 73,
    "start_time": "2022-02-01T12:43:38.144Z"
   },
   {
    "duration": 64,
    "start_time": "2022-02-01T12:43:38.220Z"
   },
   {
    "duration": 5,
    "start_time": "2022-02-01T12:43:38.286Z"
   },
   {
    "duration": 41,
    "start_time": "2022-02-01T12:43:38.293Z"
   },
   {
    "duration": 54,
    "start_time": "2022-02-01T12:43:38.336Z"
   },
   {
    "duration": 15,
    "start_time": "2022-02-01T12:43:38.392Z"
   },
   {
    "duration": 15,
    "start_time": "2022-02-01T12:43:38.433Z"
   },
   {
    "duration": 5,
    "start_time": "2022-02-01T12:43:38.450Z"
   },
   {
    "duration": 53,
    "start_time": "2022-02-01T12:43:38.457Z"
   },
   {
    "duration": 21,
    "start_time": "2022-02-01T12:43:38.512Z"
   },
   {
    "duration": 22,
    "start_time": "2022-02-01T12:43:38.538Z"
   },
   {
    "duration": 15,
    "start_time": "2022-02-01T12:43:38.563Z"
   },
   {
    "duration": 20,
    "start_time": "2022-02-01T12:43:38.581Z"
   },
   {
    "duration": 43,
    "start_time": "2022-02-01T12:43:38.603Z"
   },
   {
    "duration": 12,
    "start_time": "2022-02-01T12:43:38.649Z"
   },
   {
    "duration": 27,
    "start_time": "2022-02-01T12:43:38.664Z"
   },
   {
    "duration": 38,
    "start_time": "2022-02-01T12:43:38.694Z"
   },
   {
    "duration": 6,
    "start_time": "2022-02-01T12:43:38.735Z"
   },
   {
    "duration": 29,
    "start_time": "2022-02-01T12:43:38.745Z"
   },
   {
    "duration": 18,
    "start_time": "2022-02-01T12:43:38.776Z"
   },
   {
    "duration": 52,
    "start_time": "2022-02-01T12:43:38.797Z"
   },
   {
    "duration": 16,
    "start_time": "2022-02-01T12:43:38.852Z"
   },
   {
    "duration": 11,
    "start_time": "2022-02-01T12:43:38.871Z"
   },
   {
    "duration": 6,
    "start_time": "2022-02-01T12:43:38.885Z"
   },
   {
    "duration": 45,
    "start_time": "2022-02-01T12:43:38.893Z"
   },
   {
    "duration": 17,
    "start_time": "2022-02-01T12:43:38.940Z"
   },
   {
    "duration": 17,
    "start_time": "2022-02-01T12:49:04.762Z"
   },
   {
    "duration": 574,
    "start_time": "2022-02-10T17:59:52.354Z"
   },
   {
    "duration": 8,
    "start_time": "2022-02-10T17:59:58.197Z"
   },
   {
    "duration": 89,
    "start_time": "2022-02-10T18:01:48.598Z"
   },
   {
    "duration": 382,
    "start_time": "2022-07-27T08:38:17.789Z"
   },
   {
    "duration": 447,
    "start_time": "2022-07-27T08:38:18.173Z"
   },
   {
    "duration": 14,
    "start_time": "2022-07-27T08:38:18.622Z"
   },
   {
    "duration": 34,
    "start_time": "2022-07-27T08:38:18.638Z"
   },
   {
    "duration": 7,
    "start_time": "2022-07-27T08:38:18.674Z"
   },
   {
    "duration": 16,
    "start_time": "2022-07-27T08:38:18.683Z"
   },
   {
    "duration": 30,
    "start_time": "2022-07-27T08:38:18.701Z"
   },
   {
    "duration": 40,
    "start_time": "2022-07-27T08:38:18.732Z"
   },
   {
    "duration": 25,
    "start_time": "2022-07-27T08:38:18.773Z"
   },
   {
    "duration": 37,
    "start_time": "2022-07-27T08:38:18.801Z"
   },
   {
    "duration": 77,
    "start_time": "2022-07-27T08:38:18.839Z"
   },
   {
    "duration": 69,
    "start_time": "2022-07-27T08:38:18.918Z"
   },
   {
    "duration": 59,
    "start_time": "2022-07-27T08:38:18.989Z"
   },
   {
    "duration": 32,
    "start_time": "2022-07-27T08:38:19.050Z"
   },
   {
    "duration": 24,
    "start_time": "2022-07-27T08:38:19.083Z"
   },
   {
    "duration": 16,
    "start_time": "2022-07-27T08:38:19.109Z"
   },
   {
    "duration": 41,
    "start_time": "2022-07-27T08:38:19.126Z"
   },
   {
    "duration": 10,
    "start_time": "2022-07-27T08:38:19.169Z"
   },
   {
    "duration": 14,
    "start_time": "2022-07-27T08:38:19.180Z"
   },
   {
    "duration": 20,
    "start_time": "2022-07-27T08:38:19.195Z"
   },
   {
    "duration": 40,
    "start_time": "2022-07-27T08:38:19.216Z"
   },
   {
    "duration": 12,
    "start_time": "2022-07-27T08:38:19.258Z"
   },
   {
    "duration": 15,
    "start_time": "2022-07-27T08:38:19.271Z"
   },
   {
    "duration": 25,
    "start_time": "2022-07-27T08:38:19.288Z"
   },
   {
    "duration": 25,
    "start_time": "2022-07-27T08:38:19.315Z"
   },
   {
    "duration": 15,
    "start_time": "2022-07-27T08:38:19.342Z"
   },
   {
    "duration": 14,
    "start_time": "2022-07-27T08:38:19.359Z"
   },
   {
    "duration": 14,
    "start_time": "2022-07-27T08:38:19.376Z"
   },
   {
    "duration": 8,
    "start_time": "2022-07-27T08:38:19.391Z"
   },
   {
    "duration": 24,
    "start_time": "2022-07-27T08:38:19.401Z"
   },
   {
    "duration": 38,
    "start_time": "2022-07-27T08:38:19.427Z"
   },
   {
    "duration": 23,
    "start_time": "2022-07-27T08:38:19.466Z"
   },
   {
    "duration": 29,
    "start_time": "2022-07-27T08:38:19.490Z"
   },
   {
    "duration": 15,
    "start_time": "2022-07-27T08:38:19.521Z"
   },
   {
    "duration": 27,
    "start_time": "2022-07-27T08:38:19.538Z"
   },
   {
    "duration": 15,
    "start_time": "2022-07-27T08:38:19.567Z"
   },
   {
    "duration": 22,
    "start_time": "2022-07-27T08:38:19.584Z"
   },
   {
    "duration": 22,
    "start_time": "2022-07-27T08:38:19.607Z"
   }
  ],
  "colab": {
   "collapsed_sections": [
    "E0vqbgi9ay0H",
    "VUC88oWjTJw2"
   ],
   "name": "yandex_music_project_2021.2.ipynb",
   "provenance": []
  },
  "kernelspec": {
   "display_name": "Python 3 (ipykernel)",
   "language": "python",
   "name": "python3"
  },
  "language_info": {
   "codemirror_mode": {
    "name": "ipython",
    "version": 3
   },
   "file_extension": ".py",
   "mimetype": "text/x-python",
   "name": "python",
   "nbconvert_exporter": "python",
   "pygments_lexer": "ipython3",
   "version": "3.9.5"
  },
  "toc": {
   "base_numbering": 1,
   "nav_menu": {},
   "number_sections": true,
   "sideBar": true,
   "skip_h1_title": true,
   "title_cell": "Table of Contents",
   "title_sidebar": "Contents",
   "toc_cell": false,
   "toc_position": {
    "height": "calc(100% - 180px)",
    "left": "10px",
    "top": "150px",
    "width": "165px"
   },
   "toc_section_display": true,
   "toc_window_display": true
  }
 },
 "nbformat": 4,
 "nbformat_minor": 1
}